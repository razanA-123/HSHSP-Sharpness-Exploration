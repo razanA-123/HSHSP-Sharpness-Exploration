{
 "cells": [
  {
   "cell_type": "code",
   "execution_count": 2,
   "id": "c5e54b8c",
   "metadata": {},
   "outputs": [],
   "source": [
    "from StackGP import *\n",
    "import numpy as np"
   ]
  },
  {
   "cell_type": "code",
   "execution_count": 3,
   "id": "c748d4c7",
   "metadata": {},
   "outputs": [],
   "source": [
    "inputData=[[1,2,3,4,5,6,7,8,9,10]]\n",
    "response=inputData[0]"
   ]
  },
  {
   "cell_type": "code",
   "execution_count": 4,
   "id": "d48710ef",
   "metadata": {},
   "outputs": [
    {
     "data": {
      "text/plain": [
       "[[1, 2, 3, 4, 5, 6, 7, 8, 9, 10]]"
      ]
     },
     "execution_count": 4,
     "metadata": {},
     "output_type": "execute_result"
    }
   ],
   "source": [
    "inputData"
   ]
  },
  {
   "cell_type": "code",
   "execution_count": 5,
   "id": "686b0b58",
   "metadata": {},
   "outputs": [
    {
     "data": {
      "text/plain": [
       "[1, 2, 3, 4, 5, 6, 7, 8, 9, 10]"
      ]
     },
     "execution_count": 5,
     "metadata": {},
     "output_type": "execute_result"
    }
   ],
   "source": [
    "response"
   ]
  },
  {
   "cell_type": "code",
   "execution_count": 6,
   "id": "1ec49391",
   "metadata": {},
   "outputs": [],
   "source": [
    "operators=allOps()"
   ]
  },
  {
   "cell_type": "code",
   "execution_count": 7,
   "id": "6042d029",
   "metadata": {},
   "outputs": [
    {
     "data": {
      "text/plain": [
       "[<function StackGP.protectDiv(a, b)>,\n",
       " <function StackGP.add(a, b)>,\n",
       " <function StackGP.sub(a, b)>,\n",
       " <function StackGP.mult(a, b)>,\n",
       " <function StackGP.exp(a)>,\n",
       " <function StackGP.sqrd(a)>,\n",
       " <function StackGP.sqrt(a)>,\n",
       " <function StackGP.inv(a)>,\n",
       " <function StackGP.cos(a)>,\n",
       " <function StackGP.sin(a)>,\n",
       " <function StackGP.tan(a)>,\n",
       " <function StackGP.arccos(a)>,\n",
       " <function StackGP.arcsin(a)>,\n",
       " <function StackGP.arctan(a)>,\n",
       " <function StackGP.tanh(a)>,\n",
       " <function StackGP.log(a)>,\n",
       " 'pop',\n",
       " 'pop',\n",
       " 'pop',\n",
       " 'pop',\n",
       " 'pop',\n",
       " 'pop',\n",
       " 'pop',\n",
       " 'pop',\n",
       " 'pop',\n",
       " 'pop']"
      ]
     },
     "execution_count": 7,
     "metadata": {},
     "output_type": "execute_result"
    }
   ],
   "source": [
    "operators"
   ]
  },
  {
   "cell_type": "code",
   "execution_count": 8,
   "id": "da5a44ca",
   "metadata": {},
   "outputs": [
    {
     "data": {
      "text/plain": [
       "<function StackGP.exp(a)>"
      ]
     },
     "execution_count": 8,
     "metadata": {},
     "output_type": "execute_result"
    }
   ],
   "source": [
    "operators[4]"
   ]
  },
  {
   "cell_type": "code",
   "execution_count": 9,
   "id": "d03c9993",
   "metadata": {},
   "outputs": [],
   "source": [
    "model=[np.array([operators[4]]),[variableSelect(0)],[]]"
   ]
  },
  {
   "cell_type": "code",
   "execution_count": 10,
   "id": "ddac32f0",
   "metadata": {},
   "outputs": [
    {
     "data": {
      "text/plain": [
       "[array([<function exp at 0x00000179FA602B60>], dtype=object),\n",
       " [<function StackGP.variableSelect.<locals>.<lambda>(variables)>],\n",
       " []]"
      ]
     },
     "execution_count": 10,
     "metadata": {},
     "output_type": "execute_result"
    }
   ],
   "source": [
    "model"
   ]
  },
  {
   "cell_type": "code",
   "execution_count": null,
   "id": "7f6e3c50",
   "metadata": {},
   "outputs": [],
   "source": []
  },
  {
   "cell_type": "code",
   "execution_count": 11,
   "id": "d5472d59",
   "metadata": {},
   "outputs": [
    {
     "data": {
      "text/plain": [
       "0.04010708240079438"
      ]
     },
     "execution_count": 11,
     "metadata": {},
     "output_type": "execute_result"
    }
   ],
   "source": [
    "totalSharpness(model,inputData,response,numPerturbations=5000,percentPerturbation=0.2)"
   ]
  },
  {
   "cell_type": "code",
   "execution_count": 12,
   "id": "5c479fb8",
   "metadata": {},
   "outputs": [],
   "source": [
    "#Define exponent function to generate data\n",
    "def expFunc(x0):\n",
    "    return np.exp(x0)"
   ]
  },
  {
   "cell_type": "code",
   "execution_count": 13,
   "id": "0e2ea5ed",
   "metadata": {},
   "outputs": [
    {
     "data": {
      "text/plain": [
       "[[1, 2, 3, 4, 5, 6, 7, 8, 9, 10]]"
      ]
     },
     "execution_count": 13,
     "metadata": {},
     "output_type": "execute_result"
    }
   ],
   "source": [
    "inputData"
   ]
  },
  {
   "cell_type": "code",
   "execution_count": 14,
   "id": "6be9c35c",
   "metadata": {},
   "outputs": [],
   "source": [
    "response=expFunc(inputData[0])"
   ]
  },
  {
   "cell_type": "code",
   "execution_count": 15,
   "id": "f20dbd8c",
   "metadata": {},
   "outputs": [],
   "source": [
    "expModel=[np.array([operators[4]]),[variableSelect(0)],[]]"
   ]
  },
  {
   "cell_type": "code",
   "execution_count": 16,
   "id": "33c70814",
   "metadata": {},
   "outputs": [
    {
     "data": {
      "text/plain": [
       "[array([<function exp at 0x00000179FA602B60>], dtype=object),\n",
       " [<function StackGP.variableSelect.<locals>.<lambda>(variables)>],\n",
       " []]"
      ]
     },
     "execution_count": 16,
     "metadata": {},
     "output_type": "execute_result"
    }
   ],
   "source": [
    "expModel"
   ]
  },
  {
   "cell_type": "code",
   "execution_count": 17,
   "id": "73719dbb",
   "metadata": {},
   "outputs": [
    {
     "data": {
      "text/plain": [
       "0.00875992387066524"
      ]
     },
     "execution_count": 17,
     "metadata": {},
     "output_type": "execute_result"
    }
   ],
   "source": [
    "totalSharpness(model,inputData,response,numPerturbations=7000,percentPerturbation=0.2)"
   ]
  },
  {
   "cell_type": "code",
   "execution_count": 18,
   "id": "308fbd7b",
   "metadata": {},
   "outputs": [
    {
     "data": {
      "text/plain": [
       "0.00944952156558489"
      ]
     },
     "execution_count": 18,
     "metadata": {},
     "output_type": "execute_result"
    }
   ],
   "source": [
    "totalSharpness(model,inputData,response,numPerturbations=3300,percentPerturbation=0.2)"
   ]
  },
  {
   "cell_type": "code",
   "execution_count": 19,
   "id": "4020f6ce",
   "metadata": {},
   "outputs": [
    {
     "data": {
      "text/plain": [
       "0.008955639827772999"
      ]
     },
     "execution_count": 19,
     "metadata": {},
     "output_type": "execute_result"
    }
   ],
   "source": [
    "totalSharpness(model,inputData,response,numPerturbations=5700,percentPerturbation=0.2)"
   ]
  },
  {
   "cell_type": "code",
   "execution_count": 20,
   "id": "b9825e91",
   "metadata": {},
   "outputs": [
    {
     "data": {
      "text/plain": [
       "0.008945993972468685"
      ]
     },
     "execution_count": 20,
     "metadata": {},
     "output_type": "execute_result"
    }
   ],
   "source": [
    "totalSharpness(model,inputData,response,numPerturbations=9900,percentPerturbation=0.2)"
   ]
  },
  {
   "cell_type": "code",
   "execution_count": 43,
   "id": "20e0f2aa",
   "metadata": {},
   "outputs": [
    {
     "data": {
      "image/png": "[encoded data removed]",
      "text/plain": [
       "<Figure size 1000x500 with 1 Axes>"
      ]
     },
     "metadata": {},
     "output_type": "display_data"
    }
   ],
   "source": [
    "import matplotlib.pyplot as plt \n",
    "\n",
    " \n",
    "# creating the dataset\n",
    "data = {'200':0.0098207 ,'600':0.009946712735486496 ,'3300':0.0089281 ,'5000':0.00914077 ,'5700':0.009481160 ,'7000':0.009249907 ,'8700':0.0092336 ,'9900':0.00939545}\n",
    "courses = list(data.keys())\n",
    "values = list(data.values())\n",
    " \n",
    "fig = plt.figure(figsize = (10, 5))\n",
    "\n",
    "# creating the bar plot\n",
    "plt.bar(courses, values, color ='maroon', \n",
    "        width = 0.4)\n",
    "\n",
    "plt.xlabel(\"numberPerturbation\")\n",
    "plt.ylabel(\"Sharpness\")\n",
    "plt.title(\"Change in numPerturbation for Exp Function\")\n",
    "plt.yscale(\"log\")\n",
    "plt.show()\n"
   ]
  },
  {
   "cell_type": "code",
   "execution_count": 44,
   "id": "bfe41f94",
   "metadata": {},
   "outputs": [],
   "source": [
    "#Sqrd"
   ]
  },
  {
   "cell_type": "code",
   "execution_count": 19,
   "id": "c3578127",
   "metadata": {},
   "outputs": [],
   "source": [
    "from StackGP import *\n",
    "import numpy as np"
   ]
  },
  {
   "cell_type": "code",
   "execution_count": 20,
   "id": "8a1b241a",
   "metadata": {},
   "outputs": [],
   "source": [
    "inputData=[[1,2,3,4,5,6,7,8,9,10]]\n",
    "response=inputData[0]"
   ]
  },
  {
   "cell_type": "code",
   "execution_count": 21,
   "id": "5d87e7c9",
   "metadata": {},
   "outputs": [
    {
     "data": {
      "text/plain": [
       "[[1, 2, 3, 4, 5, 6, 7, 8, 9, 10]]"
      ]
     },
     "execution_count": 21,
     "metadata": {},
     "output_type": "execute_result"
    }
   ],
   "source": [
    "inputData"
   ]
  },
  {
   "cell_type": "code",
   "execution_count": 22,
   "id": "56eb8546",
   "metadata": {},
   "outputs": [
    {
     "data": {
      "text/plain": [
       "[1, 2, 3, 4, 5, 6, 7, 8, 9, 10]"
      ]
     },
     "execution_count": 22,
     "metadata": {},
     "output_type": "execute_result"
    }
   ],
   "source": [
    "response"
   ]
  },
  {
   "cell_type": "code",
   "execution_count": 23,
   "id": "3b879837",
   "metadata": {},
   "outputs": [],
   "source": [
    "operators=allOps()"
   ]
  },
  {
   "cell_type": "code",
   "execution_count": 24,
   "id": "a1a54794",
   "metadata": {},
   "outputs": [
    {
     "data": {
      "text/plain": [
       "[<function StackGP.protectDiv(a, b)>,\n",
       " <function StackGP.add(a, b)>,\n",
       " <function StackGP.sub(a, b)>,\n",
       " <function StackGP.mult(a, b)>,\n",
       " <function StackGP.exp(a)>,\n",
       " <function StackGP.sqrd(a)>,\n",
       " <function StackGP.sqrt(a)>,\n",
       " <function StackGP.inv(a)>,\n",
       " <function StackGP.cos(a)>,\n",
       " <function StackGP.sin(a)>,\n",
       " <function StackGP.tan(a)>,\n",
       " <function StackGP.arccos(a)>,\n",
       " <function StackGP.arcsin(a)>,\n",
       " <function StackGP.arctan(a)>,\n",
       " <function StackGP.tanh(a)>,\n",
       " <function StackGP.log(a)>,\n",
       " 'pop',\n",
       " 'pop',\n",
       " 'pop',\n",
       " 'pop',\n",
       " 'pop',\n",
       " 'pop',\n",
       " 'pop',\n",
       " 'pop',\n",
       " 'pop',\n",
       " 'pop']"
      ]
     },
     "execution_count": 24,
     "metadata": {},
     "output_type": "execute_result"
    }
   ],
   "source": [
    "operators"
   ]
  },
  {
   "cell_type": "code",
   "execution_count": 25,
   "id": "b9cc5878",
   "metadata": {},
   "outputs": [
    {
     "data": {
      "text/plain": [
       "<function StackGP.sqrd(a)>"
      ]
     },
     "execution_count": 25,
     "metadata": {},
     "output_type": "execute_result"
    }
   ],
   "source": [
    "operators[5]"
   ]
  },
  {
   "cell_type": "code",
   "execution_count": 26,
   "id": "ccece19c",
   "metadata": {},
   "outputs": [],
   "source": [
    "model=[np.array([operators[5]]),[variableSelect(0)],[]]"
   ]
  },
  {
   "cell_type": "code",
   "execution_count": 27,
   "id": "9cfd82da",
   "metadata": {},
   "outputs": [
    {
     "data": {
      "text/plain": [
       "[array([<function sqrd at 0x0000021E3E688A40>], dtype=object),\n",
       " [<function StackGP.variableSelect.<locals>.<lambda>(variables)>],\n",
       " []]"
      ]
     },
     "execution_count": 27,
     "metadata": {},
     "output_type": "execute_result"
    }
   ],
   "source": [
    "model"
   ]
  },
  {
   "cell_type": "code",
   "execution_count": 35,
   "id": "3a26ff49",
   "metadata": {},
   "outputs": [
    {
     "data": {
      "text/plain": [
       "0.002568776696942554"
      ]
     },
     "execution_count": 35,
     "metadata": {},
     "output_type": "execute_result"
    }
   ],
   "source": [
    "totalSharpness(model,inputData,response,numPerturbations=2,percentPerturbation=0.2)"
   ]
  },
  {
   "cell_type": "code",
   "execution_count": 37,
   "id": "50cbf09f",
   "metadata": {},
   "outputs": [
    {
     "data": {
      "text/plain": [
       "0.007068961079217647"
      ]
     },
     "execution_count": 37,
     "metadata": {},
     "output_type": "execute_result"
    }
   ],
   "source": [
    "totalSharpness(model,inputData,response,numPerturbations=5,percentPerturbation=0.2)"
   ]
  },
  {
   "cell_type": "code",
   "execution_count": 29,
   "id": "fddc1000",
   "metadata": {},
   "outputs": [
    {
     "data": {
      "text/plain": [
       "0.005667997623883261"
      ]
     },
     "execution_count": 29,
     "metadata": {},
     "output_type": "execute_result"
    }
   ],
   "source": [
    "totalSharpness(model,inputData,response,numPerturbations=10,percentPerturbation=0.2)"
   ]
  },
  {
   "cell_type": "code",
   "execution_count": 33,
   "id": "8b691126",
   "metadata": {},
   "outputs": [
    {
     "data": {
      "text/plain": [
       "0.007921004837394977"
      ]
     },
     "execution_count": 33,
     "metadata": {},
     "output_type": "execute_result"
    }
   ],
   "source": [
    "totalSharpness(model,inputData,response,numPerturbations=20,percentPerturbation=0.2)"
   ]
  },
  {
   "cell_type": "code",
   "execution_count": 30,
   "id": "3d4f6544",
   "metadata": {},
   "outputs": [
    {
     "data": {
      "text/plain": [
       "0.0073114522477388645"
      ]
     },
     "execution_count": 30,
     "metadata": {},
     "output_type": "execute_result"
    }
   ],
   "source": [
    "totalSharpness(model,inputData,response,numPerturbations=50,percentPerturbation=0.2)"
   ]
  },
  {
   "cell_type": "code",
   "execution_count": 31,
   "id": "7368e7d2",
   "metadata": {},
   "outputs": [
    {
     "data": {
      "text/plain": [
       "0.00816766086698584"
      ]
     },
     "execution_count": 31,
     "metadata": {},
     "output_type": "execute_result"
    }
   ],
   "source": [
    "totalSharpness(model,inputData,response,numPerturbations=200,percentPerturbation=0.2)"
   ]
  },
  {
   "cell_type": "code",
   "execution_count": 32,
   "id": "cf9e4b04",
   "metadata": {},
   "outputs": [
    {
     "data": {
      "text/plain": [
       "0.00820436955984518"
      ]
     },
     "execution_count": 32,
     "metadata": {},
     "output_type": "execute_result"
    }
   ],
   "source": [
    "totalSharpness(model,inputData,response,numPerturbations=600,percentPerturbation=0.2)"
   ]
  },
  {
   "cell_type": "code",
   "execution_count": 12,
   "id": "b8d40690",
   "metadata": {},
   "outputs": [
    {
     "data": {
      "text/plain": [
       "0.007737652806941916"
      ]
     },
     "execution_count": 12,
     "metadata": {},
     "output_type": "execute_result"
    }
   ],
   "source": [
    "totalSharpness(model,inputData,response,numPerturbations=3300,percentPerturbation=0.2)"
   ]
  },
  {
   "cell_type": "code",
   "execution_count": 13,
   "id": "879af62e",
   "metadata": {},
   "outputs": [
    {
     "data": {
      "text/plain": [
       "0.007816387795238425"
      ]
     },
     "execution_count": 13,
     "metadata": {},
     "output_type": "execute_result"
    }
   ],
   "source": [
    "totalSharpness(model,inputData,response,numPerturbations=5000,percentPerturbation=0.2)"
   ]
  },
  {
   "cell_type": "code",
   "execution_count": 14,
   "id": "c2af3023",
   "metadata": {},
   "outputs": [
    {
     "data": {
      "text/plain": [
       "0.007786287869355281"
      ]
     },
     "execution_count": 14,
     "metadata": {},
     "output_type": "execute_result"
    }
   ],
   "source": [
    "totalSharpness(model,inputData,response,numPerturbations=5700,percentPerturbation=0.2)"
   ]
  },
  {
   "cell_type": "code",
   "execution_count": 15,
   "id": "d6869b1d",
   "metadata": {},
   "outputs": [
    {
     "data": {
      "text/plain": [
       "0.007685338005652647"
      ]
     },
     "execution_count": 15,
     "metadata": {},
     "output_type": "execute_result"
    }
   ],
   "source": [
    "totalSharpness(model,inputData,response,numPerturbations=7000,percentPerturbation=0.2)"
   ]
  },
  {
   "cell_type": "code",
   "execution_count": 16,
   "id": "963cfe04",
   "metadata": {},
   "outputs": [
    {
     "data": {
      "text/plain": [
       "0.007755962976846885"
      ]
     },
     "execution_count": 16,
     "metadata": {},
     "output_type": "execute_result"
    }
   ],
   "source": [
    "totalSharpness(model,inputData,response,numPerturbations=8700,percentPerturbation=0.2)"
   ]
  },
  {
   "cell_type": "code",
   "execution_count": 17,
   "id": "44ecaf7c",
   "metadata": {},
   "outputs": [
    {
     "data": {
      "text/plain": [
       "0.007773781595356608"
      ]
     },
     "execution_count": 17,
     "metadata": {},
     "output_type": "execute_result"
    }
   ],
   "source": [
    "totalSharpness(model,inputData,response,numPerturbations=9900,percentPerturbation=0.2)"
   ]
  },
  {
   "cell_type": "code",
   "execution_count": 38,
   "id": "e9f5132d",
   "metadata": {},
   "outputs": [
    {
     "data": {
      "image/png": "[encoded data removed]",
      "text/plain": [
       "<Figure size 1000x500 with 1 Axes>"
      ]
     },
     "metadata": {},
     "output_type": "display_data"
    }
   ],
   "source": [
    "import matplotlib.pyplot as plt \n",
    "\n",
    " \n",
    "# creating the dataset\n",
    "data = {'2':0.00256877669,'5':0.00706896,'10':0.0056679,'20':0.007921004,'50':0.0073114,'200':0.0074757693689,'600':0.00766204,'3300':0.00773765,'5000':0.0078163,'5700':0.00778628,'7000':0.0076853,'8700':0.0077559,'9900':0.007773}\n",
    "courses = list(data.keys())\n",
    "values = list(data.values())\n",
    " \n",
    "fig = plt.figure(figsize = (10, 5))\n",
    "\n",
    "# creating the bar plot\n",
    "plt.bar(courses, values, color ='maroon', \n",
    "        width = 0.4)\n",
    "\n",
    "plt.xlabel(\"numberPerturbation\")\n",
    "plt.ylabel(\"Sharpness\")\n",
    "plt.title(\"Change in numPerturbation for Sqrd Function\")\n",
    "plt.yscale(\"log\")\n",
    "plt.show()"
   ]
  },
  {
   "cell_type": "code",
   "execution_count": 61,
   "id": "d4a5e931",
   "metadata": {},
   "outputs": [],
   "source": [
    "#Sqrt"
   ]
  },
  {
   "cell_type": "code",
   "execution_count": 62,
   "id": "f26cd86d",
   "metadata": {},
   "outputs": [],
   "source": [
    "from StackGP import *\n",
    "import numpy as np"
   ]
  },
  {
   "cell_type": "code",
   "execution_count": 63,
   "id": "e8c7fe44",
   "metadata": {},
   "outputs": [],
   "source": [
    "inputData=[[1,2,3,4,5,6,7,8,9,10]]\n",
    "response=inputData[0]"
   ]
  },
  {
   "cell_type": "code",
   "execution_count": 64,
   "id": "775d946d",
   "metadata": {},
   "outputs": [
    {
     "data": {
      "text/plain": [
       "[[1, 2, 3, 4, 5, 6, 7, 8, 9, 10]]"
      ]
     },
     "execution_count": 64,
     "metadata": {},
     "output_type": "execute_result"
    }
   ],
   "source": [
    "inputData"
   ]
  },
  {
   "cell_type": "code",
   "execution_count": 65,
   "id": "0839ae88",
   "metadata": {},
   "outputs": [
    {
     "data": {
      "text/plain": [
       "[1, 2, 3, 4, 5, 6, 7, 8, 9, 10]"
      ]
     },
     "execution_count": 65,
     "metadata": {},
     "output_type": "execute_result"
    }
   ],
   "source": [
    "response"
   ]
  },
  {
   "cell_type": "code",
   "execution_count": 66,
   "id": "6581f707",
   "metadata": {},
   "outputs": [],
   "source": [
    "operators=allOps()"
   ]
  },
  {
   "cell_type": "code",
   "execution_count": 67,
   "id": "471d5413",
   "metadata": {},
   "outputs": [
    {
     "data": {
      "text/plain": [
       "[<function StackGP.protectDiv(a, b)>,\n",
       " <function StackGP.add(a, b)>,\n",
       " <function StackGP.sub(a, b)>,\n",
       " <function StackGP.mult(a, b)>,\n",
       " <function StackGP.exp(a)>,\n",
       " <function StackGP.sqrd(a)>,\n",
       " <function StackGP.sqrt(a)>,\n",
       " <function StackGP.inv(a)>,\n",
       " <function StackGP.cos(a)>,\n",
       " <function StackGP.sin(a)>,\n",
       " <function StackGP.tan(a)>,\n",
       " <function StackGP.arccos(a)>,\n",
       " <function StackGP.arcsin(a)>,\n",
       " <function StackGP.arctan(a)>,\n",
       " <function StackGP.tanh(a)>,\n",
       " <function StackGP.log(a)>,\n",
       " 'pop',\n",
       " 'pop',\n",
       " 'pop',\n",
       " 'pop',\n",
       " 'pop',\n",
       " 'pop',\n",
       " 'pop',\n",
       " 'pop',\n",
       " 'pop',\n",
       " 'pop']"
      ]
     },
     "execution_count": 67,
     "metadata": {},
     "output_type": "execute_result"
    }
   ],
   "source": [
    "operators"
   ]
  },
  {
   "cell_type": "code",
   "execution_count": 68,
   "id": "ca0259ac",
   "metadata": {},
   "outputs": [
    {
     "data": {
      "text/plain": [
       "<function StackGP.sqrt(a)>"
      ]
     },
     "execution_count": 68,
     "metadata": {},
     "output_type": "execute_result"
    }
   ],
   "source": [
    "operators[6]"
   ]
  },
  {
   "cell_type": "code",
   "execution_count": 69,
   "id": "c70dca28",
   "metadata": {},
   "outputs": [],
   "source": [
    "model=[np.array([operators[6]]),[variableSelect(0)],[]]"
   ]
  },
  {
   "cell_type": "code",
   "execution_count": 70,
   "id": "6593afd6",
   "metadata": {},
   "outputs": [
    {
     "data": {
      "text/plain": [
       "[array([<function sqrt at 0x00000179FA602CA0>], dtype=object),\n",
       " [<function StackGP.variableSelect.<locals>.<lambda>(variables)>],\n",
       " []]"
      ]
     },
     "execution_count": 70,
     "metadata": {},
     "output_type": "execute_result"
    }
   ],
   "source": [
    "model"
   ]
  },
  {
   "cell_type": "code",
   "execution_count": 76,
   "id": "8b9e438b",
   "metadata": {},
   "outputs": [
    {
     "data": {
      "text/plain": [
       "0.0019670312129630493"
      ]
     },
     "execution_count": 76,
     "metadata": {},
     "output_type": "execute_result"
    }
   ],
   "source": [
    "totalSharpness(model,inputData,response,numPerturbations=5,percentPerturbation=0.2)"
   ]
  },
  {
   "cell_type": "code",
   "execution_count": 73,
   "id": "8b566fb9",
   "metadata": {},
   "outputs": [
    {
     "data": {
      "text/plain": [
       "0.005237388662716378"
      ]
     },
     "execution_count": 73,
     "metadata": {},
     "output_type": "execute_result"
    }
   ],
   "source": [
    "totalSharpness(model,inputData,response,numPerturbations=10,percentPerturbation=0.2)"
   ]
  },
  {
   "cell_type": "code",
   "execution_count": 74,
   "id": "0e4e53fe",
   "metadata": {},
   "outputs": [
    {
     "data": {
      "text/plain": [
       "0.006242586621285604"
      ]
     },
     "execution_count": 74,
     "metadata": {},
     "output_type": "execute_result"
    }
   ],
   "source": [
    "totalSharpness(model,inputData,response,numPerturbations=50,percentPerturbation=0.2)"
   ]
  },
  {
   "cell_type": "code",
   "execution_count": 75,
   "id": "c58fd12d",
   "metadata": {},
   "outputs": [
    {
     "data": {
      "text/plain": [
       "0.008023566463887"
      ]
     },
     "execution_count": 75,
     "metadata": {},
     "output_type": "execute_result"
    }
   ],
   "source": [
    "totalSharpness(model,inputData,response,numPerturbations=100,percentPerturbation=0.2)"
   ]
  },
  {
   "cell_type": "code",
   "execution_count": 77,
   "id": "2dcca95a",
   "metadata": {},
   "outputs": [
    {
     "data": {
      "image/png": "[encoded data removed]",
      "text/plain": [
       "<Figure size 1000x500 with 1 Axes>"
      ]
     },
     "metadata": {},
     "output_type": "display_data"
    }
   ],
   "source": [
    "import matplotlib.pyplot as plt \n",
    "\n",
    " \n",
    "# creating the dataset\n",
    "data = {'5':0.0019670312,'10':0.005237388,'50':0.00624258,'100':0.008023566}\n",
    "courses = list(data.keys())\n",
    "values = list(data.values())\n",
    " \n",
    "fig = plt.figure(figsize = (10, 5))\n",
    "\n",
    "# creating the bar plot\n",
    "plt.bar(courses, values, color ='maroon', \n",
    "        width = 0.4)\n",
    "\n",
    "plt.xlabel(\"numberPerturbation\")\n",
    "plt.ylabel(\"Sharpness\")\n",
    "plt.title(\"Change in numPerturbation for Sqrt Function\")\n",
    "plt.yscale(\"log\")\n",
    "plt.show()"
   ]
  },
  {
   "cell_type": "code",
   "execution_count": 78,
   "id": "2832206c",
   "metadata": {},
   "outputs": [],
   "source": [
    "#Inv"
   ]
  },
  {
   "cell_type": "code",
   "execution_count": 79,
   "id": "a286a69f",
   "metadata": {},
   "outputs": [],
   "source": [
    "from StackGP import *\n",
    "import numpy as np"
   ]
  },
  {
   "cell_type": "code",
   "execution_count": 80,
   "id": "b8e30493",
   "metadata": {},
   "outputs": [],
   "source": [
    "inputData=[[1,2,3,4,5,6,7,8,9,10]]\n",
    "response=inputData[0]"
   ]
  },
  {
   "cell_type": "code",
   "execution_count": 81,
   "id": "6829ce93",
   "metadata": {},
   "outputs": [
    {
     "data": {
      "text/plain": [
       "[[1, 2, 3, 4, 5, 6, 7, 8, 9, 10]]"
      ]
     },
     "execution_count": 81,
     "metadata": {},
     "output_type": "execute_result"
    }
   ],
   "source": [
    "inputData"
   ]
  },
  {
   "cell_type": "code",
   "execution_count": 82,
   "id": "bc002807",
   "metadata": {},
   "outputs": [
    {
     "data": {
      "text/plain": [
       "[1, 2, 3, 4, 5, 6, 7, 8, 9, 10]"
      ]
     },
     "execution_count": 82,
     "metadata": {},
     "output_type": "execute_result"
    }
   ],
   "source": [
    "response"
   ]
  },
  {
   "cell_type": "code",
   "execution_count": 83,
   "id": "64ed3291",
   "metadata": {},
   "outputs": [],
   "source": [
    "operators=allOps()"
   ]
  },
  {
   "cell_type": "code",
   "execution_count": 84,
   "id": "9381764f",
   "metadata": {},
   "outputs": [
    {
     "data": {
      "text/plain": [
       "[<function StackGP.protectDiv(a, b)>,\n",
       " <function StackGP.add(a, b)>,\n",
       " <function StackGP.sub(a, b)>,\n",
       " <function StackGP.mult(a, b)>,\n",
       " <function StackGP.exp(a)>,\n",
       " <function StackGP.sqrd(a)>,\n",
       " <function StackGP.sqrt(a)>,\n",
       " <function StackGP.inv(a)>,\n",
       " <function StackGP.cos(a)>,\n",
       " <function StackGP.sin(a)>,\n",
       " <function StackGP.tan(a)>,\n",
       " <function StackGP.arccos(a)>,\n",
       " <function StackGP.arcsin(a)>,\n",
       " <function StackGP.arctan(a)>,\n",
       " <function StackGP.tanh(a)>,\n",
       " <function StackGP.log(a)>,\n",
       " 'pop',\n",
       " 'pop',\n",
       " 'pop',\n",
       " 'pop',\n",
       " 'pop',\n",
       " 'pop',\n",
       " 'pop',\n",
       " 'pop',\n",
       " 'pop',\n",
       " 'pop']"
      ]
     },
     "execution_count": 84,
     "metadata": {},
     "output_type": "execute_result"
    }
   ],
   "source": [
    "operators"
   ]
  },
  {
   "cell_type": "code",
   "execution_count": 85,
   "id": "c56fdefc",
   "metadata": {},
   "outputs": [
    {
     "data": {
      "text/plain": [
       "<function StackGP.inv(a)>"
      ]
     },
     "execution_count": 85,
     "metadata": {},
     "output_type": "execute_result"
    }
   ],
   "source": [
    "operators[7]"
   ]
  },
  {
   "cell_type": "code",
   "execution_count": 86,
   "id": "4e41fa38",
   "metadata": {},
   "outputs": [],
   "source": [
    "model=[np.array([operators[7]]),[variableSelect(0)],[]]"
   ]
  },
  {
   "cell_type": "code",
   "execution_count": 87,
   "id": "ffbe902a",
   "metadata": {},
   "outputs": [
    {
     "data": {
      "text/plain": [
       "[array([<function inv at 0x00000179FA602DE0>], dtype=object),\n",
       " [<function StackGP.variableSelect.<locals>.<lambda>(variables)>],\n",
       " []]"
      ]
     },
     "execution_count": 87,
     "metadata": {},
     "output_type": "execute_result"
    }
   ],
   "source": [
    "model"
   ]
  },
  {
   "cell_type": "code",
   "execution_count": 89,
   "id": "1e3f553e",
   "metadata": {},
   "outputs": [
    {
     "data": {
      "text/plain": [
       "0.014306714325613546"
      ]
     },
     "execution_count": 89,
     "metadata": {},
     "output_type": "execute_result"
    }
   ],
   "source": [
    "totalSharpness(model,inputData,response,numPerturbations=5,percentPerturbation=0.2)"
   ]
  },
  {
   "cell_type": "code",
   "execution_count": 90,
   "id": "f370df00",
   "metadata": {},
   "outputs": [
    {
     "data": {
      "text/plain": [
       "0.060934016520355225"
      ]
     },
     "execution_count": 90,
     "metadata": {},
     "output_type": "execute_result"
    }
   ],
   "source": [
    "totalSharpness(model,inputData,response,numPerturbations=10,percentPerturbation=0.2)"
   ]
  },
  {
   "cell_type": "code",
   "execution_count": 91,
   "id": "31dc7365",
   "metadata": {},
   "outputs": [
    {
     "data": {
      "text/plain": [
       "0.06418562337634878"
      ]
     },
     "execution_count": 91,
     "metadata": {},
     "output_type": "execute_result"
    }
   ],
   "source": [
    "totalSharpness(model,inputData,response,numPerturbations=50,percentPerturbation=0.2)"
   ]
  },
  {
   "cell_type": "code",
   "execution_count": 92,
   "id": "488e3384",
   "metadata": {},
   "outputs": [
    {
     "data": {
      "text/plain": [
       "0.06225559412538816"
      ]
     },
     "execution_count": 92,
     "metadata": {},
     "output_type": "execute_result"
    }
   ],
   "source": [
    "totalSharpness(model,inputData,response,numPerturbations=100,percentPerturbation=0.2)"
   ]
  },
  {
   "cell_type": "code",
   "execution_count": 93,
   "id": "5173aada",
   "metadata": {},
   "outputs": [
    {
     "data": {
      "image/png": "[encoded data removed]",
      "text/plain": [
       "<Figure size 1000x500 with 1 Axes>"
      ]
     },
     "metadata": {},
     "output_type": "display_data"
    }
   ],
   "source": [
    "import matplotlib.pyplot as plt \n",
    "\n",
    " \n",
    "# creating the dataset\n",
    "data = {'5':0.01430671,'10':0.060934016,'50':0.0641856,'100':0.0622555}\n",
    "courses = list(data.keys())\n",
    "values = list(data.values())\n",
    " \n",
    "fig = plt.figure(figsize = (10, 5))\n",
    "\n",
    "# creating the bar plot\n",
    "plt.bar(courses, values, color ='maroon', \n",
    "        width = 0.4)\n",
    "\n",
    "plt.xlabel(\"numberPerturbation\")\n",
    "plt.ylabel(\"Sharpness\")\n",
    "plt.title(\"Change in numPerturbation for Inv Function\")\n",
    "plt.yscale(\"log\")\n",
    "plt.show()"
   ]
  },
  {
   "cell_type": "code",
   "execution_count": 94,
   "id": "d40ebfdf",
   "metadata": {},
   "outputs": [],
   "source": [
    "#Cos"
   ]
  },
  {
   "cell_type": "code",
   "execution_count": 95,
   "id": "c4d7ccce",
   "metadata": {},
   "outputs": [],
   "source": [
    "from StackGP import *\n",
    "import numpy as np"
   ]
  },
  {
   "cell_type": "code",
   "execution_count": 96,
   "id": "64c07526",
   "metadata": {},
   "outputs": [],
   "source": [
    "inputData=[[1,2,3,4,5,6,7,8,9,10]]\n",
    "response=inputData[0]"
   ]
  },
  {
   "cell_type": "code",
   "execution_count": 97,
   "id": "eb69fc6a",
   "metadata": {},
   "outputs": [
    {
     "data": {
      "text/plain": [
       "[[1, 2, 3, 4, 5, 6, 7, 8, 9, 10]]"
      ]
     },
     "execution_count": 97,
     "metadata": {},
     "output_type": "execute_result"
    }
   ],
   "source": [
    "inputData"
   ]
  },
  {
   "cell_type": "code",
   "execution_count": 98,
   "id": "50c8dd1b",
   "metadata": {},
   "outputs": [
    {
     "data": {
      "text/plain": [
       "[1, 2, 3, 4, 5, 6, 7, 8, 9, 10]"
      ]
     },
     "execution_count": 98,
     "metadata": {},
     "output_type": "execute_result"
    }
   ],
   "source": [
    "response"
   ]
  },
  {
   "cell_type": "code",
   "execution_count": 99,
   "id": "a18d5015",
   "metadata": {},
   "outputs": [],
   "source": [
    "operators=allOps()"
   ]
  },
  {
   "cell_type": "code",
   "execution_count": 100,
   "id": "6362c766",
   "metadata": {},
   "outputs": [
    {
     "data": {
      "text/plain": [
       "[<function StackGP.protectDiv(a, b)>,\n",
       " <function StackGP.add(a, b)>,\n",
       " <function StackGP.sub(a, b)>,\n",
       " <function StackGP.mult(a, b)>,\n",
       " <function StackGP.exp(a)>,\n",
       " <function StackGP.sqrd(a)>,\n",
       " <function StackGP.sqrt(a)>,\n",
       " <function StackGP.inv(a)>,\n",
       " <function StackGP.cos(a)>,\n",
       " <function StackGP.sin(a)>,\n",
       " <function StackGP.tan(a)>,\n",
       " <function StackGP.arccos(a)>,\n",
       " <function StackGP.arcsin(a)>,\n",
       " <function StackGP.arctan(a)>,\n",
       " <function StackGP.tanh(a)>,\n",
       " <function StackGP.log(a)>,\n",
       " 'pop',\n",
       " 'pop',\n",
       " 'pop',\n",
       " 'pop',\n",
       " 'pop',\n",
       " 'pop',\n",
       " 'pop',\n",
       " 'pop',\n",
       " 'pop',\n",
       " 'pop']"
      ]
     },
     "execution_count": 100,
     "metadata": {},
     "output_type": "execute_result"
    }
   ],
   "source": [
    "operators"
   ]
  },
  {
   "cell_type": "code",
   "execution_count": 101,
   "id": "948cc2c4",
   "metadata": {},
   "outputs": [
    {
     "data": {
      "text/plain": [
       "<function StackGP.cos(a)>"
      ]
     },
     "execution_count": 101,
     "metadata": {},
     "output_type": "execute_result"
    }
   ],
   "source": [
    "operators[8]"
   ]
  },
  {
   "cell_type": "code",
   "execution_count": 102,
   "id": "73077b8e",
   "metadata": {},
   "outputs": [],
   "source": [
    "model=[np.array([operators[8]]),[variableSelect(0)],[]]"
   ]
  },
  {
   "cell_type": "code",
   "execution_count": 103,
   "id": "8a72d05b",
   "metadata": {},
   "outputs": [
    {
     "data": {
      "text/plain": [
       "[array([<function cos at 0x00000179FA602F20>], dtype=object),\n",
       " [<function StackGP.variableSelect.<locals>.<lambda>(variables)>],\n",
       " []]"
      ]
     },
     "execution_count": 103,
     "metadata": {},
     "output_type": "execute_result"
    }
   ],
   "source": [
    "model"
   ]
  },
  {
   "cell_type": "code",
   "execution_count": 104,
   "id": "01708a13",
   "metadata": {},
   "outputs": [
    {
     "data": {
      "text/plain": [
       "0.018659960620744265"
      ]
     },
     "execution_count": 104,
     "metadata": {},
     "output_type": "execute_result"
    }
   ],
   "source": [
    "totalSharpness(model,inputData,response,numPerturbations=5,percentPerturbation=0.2)"
   ]
  },
  {
   "cell_type": "code",
   "execution_count": 105,
   "id": "a0bf1243",
   "metadata": {},
   "outputs": [
    {
     "data": {
      "text/plain": [
       "0.016189985452648336"
      ]
     },
     "execution_count": 105,
     "metadata": {},
     "output_type": "execute_result"
    }
   ],
   "source": [
    "totalSharpness(model,inputData,response,numPerturbations=10,percentPerturbation=0.2)"
   ]
  },
  {
   "cell_type": "code",
   "execution_count": 106,
   "id": "9b862084",
   "metadata": {},
   "outputs": [
    {
     "data": {
      "text/plain": [
       "0.016972287693396492"
      ]
     },
     "execution_count": 106,
     "metadata": {},
     "output_type": "execute_result"
    }
   ],
   "source": [
    "totalSharpness(model,inputData,response,numPerturbations=50,percentPerturbation=0.2)"
   ]
  },
  {
   "cell_type": "code",
   "execution_count": 107,
   "id": "f1ca5eb3",
   "metadata": {},
   "outputs": [
    {
     "data": {
      "text/plain": [
       "0.017908279824844154"
      ]
     },
     "execution_count": 107,
     "metadata": {},
     "output_type": "execute_result"
    }
   ],
   "source": [
    "totalSharpness(model,inputData,response,numPerturbations=100,percentPerturbation=0.2)"
   ]
  },
  {
   "cell_type": "code",
   "execution_count": 108,
   "id": "dccb2596",
   "metadata": {},
   "outputs": [
    {
     "data": {
      "image/png": "[encoded data removed]",
      "text/plain": [
       "<Figure size 1000x500 with 1 Axes>"
      ]
     },
     "metadata": {},
     "output_type": "display_data"
    }
   ],
   "source": [
    "import matplotlib.pyplot as plt \n",
    "\n",
    " \n",
    "# creating the dataset\n",
    "data = {'5':0.01865996,'10':0.0161899,'50':0.016972287,'100':0.01790827}\n",
    "courses = list(data.keys())\n",
    "values = list(data.values())\n",
    " \n",
    "fig = plt.figure(figsize = (10, 5))\n",
    "\n",
    "# creating the bar plot\n",
    "plt.bar(courses, values, color ='maroon', \n",
    "        width = 0.4)\n",
    "\n",
    "plt.xlabel(\"numberPerturbation\")\n",
    "plt.ylabel(\"Sharpness\")\n",
    "plt.title(\"Change in numPerturbation for Cos Function\")\n",
    "plt.yscale(\"log\")\n",
    "plt.show()"
   ]
  },
  {
   "cell_type": "code",
   "execution_count": 109,
   "id": "b9af5ff8",
   "metadata": {},
   "outputs": [],
   "source": [
    "#Sin"
   ]
  },
  {
   "cell_type": "code",
   "execution_count": 110,
   "id": "de215de1",
   "metadata": {},
   "outputs": [],
   "source": [
    "from StackGP import *\n",
    "import numpy as np"
   ]
  },
  {
   "cell_type": "code",
   "execution_count": 111,
   "id": "4a58b67d",
   "metadata": {},
   "outputs": [],
   "source": [
    "inputData=[[1,2,3,4,5,6,7,8,9,10]]\n",
    "response=inputData[0]"
   ]
  },
  {
   "cell_type": "code",
   "execution_count": 112,
   "id": "c11aac81",
   "metadata": {},
   "outputs": [
    {
     "data": {
      "text/plain": [
       "[[1, 2, 3, 4, 5, 6, 7, 8, 9, 10]]"
      ]
     },
     "execution_count": 112,
     "metadata": {},
     "output_type": "execute_result"
    }
   ],
   "source": [
    "inputData"
   ]
  },
  {
   "cell_type": "code",
   "execution_count": 113,
   "id": "cf050a56",
   "metadata": {},
   "outputs": [
    {
     "data": {
      "text/plain": [
       "[1, 2, 3, 4, 5, 6, 7, 8, 9, 10]"
      ]
     },
     "execution_count": 113,
     "metadata": {},
     "output_type": "execute_result"
    }
   ],
   "source": [
    "response"
   ]
  },
  {
   "cell_type": "code",
   "execution_count": 114,
   "id": "121a4af6",
   "metadata": {},
   "outputs": [],
   "source": [
    "operators=allOps()"
   ]
  },
  {
   "cell_type": "code",
   "execution_count": 115,
   "id": "98e0f8ba",
   "metadata": {},
   "outputs": [
    {
     "data": {
      "text/plain": [
       "[<function StackGP.protectDiv(a, b)>,\n",
       " <function StackGP.add(a, b)>,\n",
       " <function StackGP.sub(a, b)>,\n",
       " <function StackGP.mult(a, b)>,\n",
       " <function StackGP.exp(a)>,\n",
       " <function StackGP.sqrd(a)>,\n",
       " <function StackGP.sqrt(a)>,\n",
       " <function StackGP.inv(a)>,\n",
       " <function StackGP.cos(a)>,\n",
       " <function StackGP.sin(a)>,\n",
       " <function StackGP.tan(a)>,\n",
       " <function StackGP.arccos(a)>,\n",
       " <function StackGP.arcsin(a)>,\n",
       " <function StackGP.arctan(a)>,\n",
       " <function StackGP.tanh(a)>,\n",
       " <function StackGP.log(a)>,\n",
       " 'pop',\n",
       " 'pop',\n",
       " 'pop',\n",
       " 'pop',\n",
       " 'pop',\n",
       " 'pop',\n",
       " 'pop',\n",
       " 'pop',\n",
       " 'pop',\n",
       " 'pop']"
      ]
     },
     "execution_count": 115,
     "metadata": {},
     "output_type": "execute_result"
    }
   ],
   "source": [
    "operators"
   ]
  },
  {
   "cell_type": "code",
   "execution_count": 116,
   "id": "73c0a378",
   "metadata": {},
   "outputs": [
    {
     "data": {
      "text/plain": [
       "<function StackGP.sin(a)>"
      ]
     },
     "execution_count": 116,
     "metadata": {},
     "output_type": "execute_result"
    }
   ],
   "source": [
    "operators[9]"
   ]
  },
  {
   "cell_type": "code",
   "execution_count": 117,
   "id": "09cd1d3d",
   "metadata": {},
   "outputs": [],
   "source": [
    "model=[np.array([operators[9]]),[variableSelect(0)],[]]"
   ]
  },
  {
   "cell_type": "code",
   "execution_count": 118,
   "id": "ab2ec493",
   "metadata": {},
   "outputs": [
    {
     "data": {
      "text/plain": [
       "[array([<function sin at 0x00000179FA602E80>], dtype=object),\n",
       " [<function StackGP.variableSelect.<locals>.<lambda>(variables)>],\n",
       " []]"
      ]
     },
     "execution_count": 118,
     "metadata": {},
     "output_type": "execute_result"
    }
   ],
   "source": [
    "model"
   ]
  },
  {
   "cell_type": "code",
   "execution_count": 120,
   "id": "5a15dfa5",
   "metadata": {},
   "outputs": [
    {
     "data": {
      "text/plain": [
       "0.01132772490793984"
      ]
     },
     "execution_count": 120,
     "metadata": {},
     "output_type": "execute_result"
    }
   ],
   "source": [
    "totalSharpness(model,inputData,response,numPerturbations=5,percentPerturbation=0.2)"
   ]
  },
  {
   "cell_type": "code",
   "execution_count": 121,
   "id": "19afb6c1",
   "metadata": {},
   "outputs": [
    {
     "data": {
      "text/plain": [
       "0.014486786708945452"
      ]
     },
     "execution_count": 121,
     "metadata": {},
     "output_type": "execute_result"
    }
   ],
   "source": [
    "totalSharpness(model,inputData,response,numPerturbations=10,percentPerturbation=0.2)"
   ]
  },
  {
   "cell_type": "code",
   "execution_count": 122,
   "id": "a4d3a4e8",
   "metadata": {},
   "outputs": [
    {
     "data": {
      "text/plain": [
       "0.017484519701444504"
      ]
     },
     "execution_count": 122,
     "metadata": {},
     "output_type": "execute_result"
    }
   ],
   "source": [
    "totalSharpness(model,inputData,response,numPerturbations=50,percentPerturbation=0.2)"
   ]
  },
  {
   "cell_type": "code",
   "execution_count": 123,
   "id": "e2049fbd",
   "metadata": {},
   "outputs": [
    {
     "data": {
      "text/plain": [
       "0.017780565092853327"
      ]
     },
     "execution_count": 123,
     "metadata": {},
     "output_type": "execute_result"
    }
   ],
   "source": [
    "totalSharpness(model,inputData,response,numPerturbations=100,percentPerturbation=0.2)"
   ]
  },
  {
   "cell_type": "code",
   "execution_count": 124,
   "id": "480d11b4",
   "metadata": {},
   "outputs": [
    {
     "data": {
      "image/png": "[encoded data removed]",
      "text/plain": [
       "<Figure size 1000x500 with 1 Axes>"
      ]
     },
     "metadata": {},
     "output_type": "display_data"
    }
   ],
   "source": [
    "import matplotlib.pyplot as plt \n",
    "\n",
    " \n",
    "# creating the dataset\n",
    "data = {'5':0.0113277,'10':0.014486786,'50':0.0174845,'100':0.0177805}\n",
    "courses = list(data.keys())\n",
    "values = list(data.values())\n",
    " \n",
    "fig = plt.figure(figsize = (10, 5))\n",
    "\n",
    "# creating the bar plot\n",
    "plt.bar(courses, values, color ='maroon', \n",
    "        width = 0.4)\n",
    "\n",
    "plt.xlabel(\"numberPerturbation\")\n",
    "plt.ylabel(\"Sharpness\")\n",
    "plt.title(\"Change in numPerturbation for Sin Function\")\n",
    "plt.yscale(\"log\")\n",
    "plt.show()"
   ]
  },
  {
   "cell_type": "code",
   "execution_count": 125,
   "id": "388a645c",
   "metadata": {},
   "outputs": [],
   "source": [
    "#Tan"
   ]
  },
  {
   "cell_type": "code",
   "execution_count": 126,
   "id": "c8e765bf",
   "metadata": {},
   "outputs": [],
   "source": [
    "from StackGP import *\n",
    "import numpy as np"
   ]
  },
  {
   "cell_type": "code",
   "execution_count": 127,
   "id": "a0b15cb6",
   "metadata": {},
   "outputs": [],
   "source": [
    "inputData=[[1,2,3,4,5,6,7,8,9,10]]\n",
    "response=inputData[0]"
   ]
  },
  {
   "cell_type": "code",
   "execution_count": 128,
   "id": "8ffb3764",
   "metadata": {},
   "outputs": [
    {
     "data": {
      "text/plain": [
       "[[1, 2, 3, 4, 5, 6, 7, 8, 9, 10]]"
      ]
     },
     "execution_count": 128,
     "metadata": {},
     "output_type": "execute_result"
    }
   ],
   "source": [
    "inputData"
   ]
  },
  {
   "cell_type": "code",
   "execution_count": 129,
   "id": "68e06ea0",
   "metadata": {},
   "outputs": [
    {
     "data": {
      "text/plain": [
       "[1, 2, 3, 4, 5, 6, 7, 8, 9, 10]"
      ]
     },
     "execution_count": 129,
     "metadata": {},
     "output_type": "execute_result"
    }
   ],
   "source": [
    "response"
   ]
  },
  {
   "cell_type": "code",
   "execution_count": 130,
   "id": "7edb07cd",
   "metadata": {},
   "outputs": [],
   "source": [
    "operators=allOps()"
   ]
  },
  {
   "cell_type": "code",
   "execution_count": 131,
   "id": "c3db6857",
   "metadata": {},
   "outputs": [
    {
     "data": {
      "text/plain": [
       "[<function StackGP.protectDiv(a, b)>,\n",
       " <function StackGP.add(a, b)>,\n",
       " <function StackGP.sub(a, b)>,\n",
       " <function StackGP.mult(a, b)>,\n",
       " <function StackGP.exp(a)>,\n",
       " <function StackGP.sqrd(a)>,\n",
       " <function StackGP.sqrt(a)>,\n",
       " <function StackGP.inv(a)>,\n",
       " <function StackGP.cos(a)>,\n",
       " <function StackGP.sin(a)>,\n",
       " <function StackGP.tan(a)>,\n",
       " <function StackGP.arccos(a)>,\n",
       " <function StackGP.arcsin(a)>,\n",
       " <function StackGP.arctan(a)>,\n",
       " <function StackGP.tanh(a)>,\n",
       " <function StackGP.log(a)>,\n",
       " 'pop',\n",
       " 'pop',\n",
       " 'pop',\n",
       " 'pop',\n",
       " 'pop',\n",
       " 'pop',\n",
       " 'pop',\n",
       " 'pop',\n",
       " 'pop',\n",
       " 'pop']"
      ]
     },
     "execution_count": 131,
     "metadata": {},
     "output_type": "execute_result"
    }
   ],
   "source": [
    "operators"
   ]
  },
  {
   "cell_type": "code",
   "execution_count": 132,
   "id": "4a572386",
   "metadata": {},
   "outputs": [
    {
     "data": {
      "text/plain": [
       "<function StackGP.tan(a)>"
      ]
     },
     "execution_count": 132,
     "metadata": {},
     "output_type": "execute_result"
    }
   ],
   "source": [
    "operators[10]"
   ]
  },
  {
   "cell_type": "code",
   "execution_count": 133,
   "id": "03fb49e6",
   "metadata": {},
   "outputs": [],
   "source": [
    "model=[np.array([operators[10]]),[variableSelect(0)],[]]"
   ]
  },
  {
   "cell_type": "code",
   "execution_count": 134,
   "id": "3d5c2f1e",
   "metadata": {},
   "outputs": [
    {
     "data": {
      "text/plain": [
       "[array([<function tan at 0x00000179FA602FC0>], dtype=object),\n",
       " [<function StackGP.variableSelect.<locals>.<lambda>(variables)>],\n",
       " []]"
      ]
     },
     "execution_count": 134,
     "metadata": {},
     "output_type": "execute_result"
    }
   ],
   "source": [
    "model"
   ]
  },
  {
   "cell_type": "code",
   "execution_count": 135,
   "id": "b2155555",
   "metadata": {},
   "outputs": [
    {
     "data": {
      "text/plain": [
       "0.047899324892555786"
      ]
     },
     "execution_count": 135,
     "metadata": {},
     "output_type": "execute_result"
    }
   ],
   "source": [
    "totalSharpness(model,inputData,response,numPerturbations=5,percentPerturbation=0.2)"
   ]
  },
  {
   "cell_type": "code",
   "execution_count": 136,
   "id": "6d973a94",
   "metadata": {},
   "outputs": [
    {
     "data": {
      "text/plain": [
       "0.04178123842558309"
      ]
     },
     "execution_count": 136,
     "metadata": {},
     "output_type": "execute_result"
    }
   ],
   "source": [
    "totalSharpness(model,inputData,response,numPerturbations=10,percentPerturbation=0.2)"
   ]
  },
  {
   "cell_type": "code",
   "execution_count": 137,
   "id": "3dc2f53a",
   "metadata": {},
   "outputs": [
    {
     "data": {
      "text/plain": [
       "0.0339864255460137"
      ]
     },
     "execution_count": 137,
     "metadata": {},
     "output_type": "execute_result"
    }
   ],
   "source": [
    "totalSharpness(model,inputData,response,numPerturbations=50,percentPerturbation=0.2)"
   ]
  },
  {
   "cell_type": "code",
   "execution_count": 138,
   "id": "ca44b268",
   "metadata": {},
   "outputs": [
    {
     "data": {
      "text/plain": [
       "0.038226807278968336"
      ]
     },
     "execution_count": 138,
     "metadata": {},
     "output_type": "execute_result"
    }
   ],
   "source": [
    "totalSharpness(model,inputData,response,numPerturbations=100,percentPerturbation=0.2)"
   ]
  },
  {
   "cell_type": "code",
   "execution_count": 139,
   "id": "6249fb0d",
   "metadata": {},
   "outputs": [
    {
     "data": {
      "image/png": "[encoded data removed]",
      "text/plain": [
       "<Figure size 1000x500 with 1 Axes>"
      ]
     },
     "metadata": {},
     "output_type": "display_data"
    }
   ],
   "source": [
    "import matplotlib.pyplot as plt \n",
    "\n",
    " \n",
    "# creating the dataset\n",
    "data = {'5':0.04789932,'10':0.04178123,'50':0.03398642,'100':0.03822680}\n",
    "courses = list(data.keys())\n",
    "values = list(data.values())\n",
    " \n",
    "fig = plt.figure(figsize = (10, 5))\n",
    "\n",
    "# creating the bar plot\n",
    "plt.bar(courses, values, color ='maroon', \n",
    "        width = 0.4)\n",
    "\n",
    "plt.xlabel(\"numberPerturbation\")\n",
    "plt.ylabel(\"Sharpness\")\n",
    "plt.title(\"Change in numPerturbation for Tan Function\")\n",
    "plt.yscale(\"log\")\n",
    "plt.show()"
   ]
  },
  {
   "cell_type": "code",
   "execution_count": 140,
   "id": "ea5df7e8",
   "metadata": {},
   "outputs": [],
   "source": [
    "#arctan"
   ]
  },
  {
   "cell_type": "code",
   "execution_count": 141,
   "id": "8675296d",
   "metadata": {},
   "outputs": [],
   "source": [
    "from StackGP import *\n",
    "import numpy as np"
   ]
  },
  {
   "cell_type": "code",
   "execution_count": 142,
   "id": "5f032136",
   "metadata": {},
   "outputs": [],
   "source": [
    "inputData=[[1,2,3,4,5,6,7,8,9,10]]\n",
    "response=inputData[0]"
   ]
  },
  {
   "cell_type": "code",
   "execution_count": 143,
   "id": "2c3f5852",
   "metadata": {},
   "outputs": [
    {
     "data": {
      "text/plain": [
       "[[1, 2, 3, 4, 5, 6, 7, 8, 9, 10]]"
      ]
     },
     "execution_count": 143,
     "metadata": {},
     "output_type": "execute_result"
    }
   ],
   "source": [
    "inputData"
   ]
  },
  {
   "cell_type": "code",
   "execution_count": 144,
   "id": "f6d5353d",
   "metadata": {},
   "outputs": [
    {
     "data": {
      "text/plain": [
       "[1, 2, 3, 4, 5, 6, 7, 8, 9, 10]"
      ]
     },
     "execution_count": 144,
     "metadata": {},
     "output_type": "execute_result"
    }
   ],
   "source": [
    "response"
   ]
  },
  {
   "cell_type": "code",
   "execution_count": 145,
   "id": "745c409a",
   "metadata": {},
   "outputs": [],
   "source": [
    "operators=allOps()"
   ]
  },
  {
   "cell_type": "code",
   "execution_count": 146,
   "id": "8c4bb759",
   "metadata": {},
   "outputs": [
    {
     "data": {
      "text/plain": [
       "[<function StackGP.protectDiv(a, b)>,\n",
       " <function StackGP.add(a, b)>,\n",
       " <function StackGP.sub(a, b)>,\n",
       " <function StackGP.mult(a, b)>,\n",
       " <function StackGP.exp(a)>,\n",
       " <function StackGP.sqrd(a)>,\n",
       " <function StackGP.sqrt(a)>,\n",
       " <function StackGP.inv(a)>,\n",
       " <function StackGP.cos(a)>,\n",
       " <function StackGP.sin(a)>,\n",
       " <function StackGP.tan(a)>,\n",
       " <function StackGP.arccos(a)>,\n",
       " <function StackGP.arcsin(a)>,\n",
       " <function StackGP.arctan(a)>,\n",
       " <function StackGP.tanh(a)>,\n",
       " <function StackGP.log(a)>,\n",
       " 'pop',\n",
       " 'pop',\n",
       " 'pop',\n",
       " 'pop',\n",
       " 'pop',\n",
       " 'pop',\n",
       " 'pop',\n",
       " 'pop',\n",
       " 'pop',\n",
       " 'pop']"
      ]
     },
     "execution_count": 146,
     "metadata": {},
     "output_type": "execute_result"
    }
   ],
   "source": [
    "operators"
   ]
  },
  {
   "cell_type": "code",
   "execution_count": 147,
   "id": "c7689ee7",
   "metadata": {},
   "outputs": [
    {
     "data": {
      "text/plain": [
       "<function StackGP.arctan(a)>"
      ]
     },
     "execution_count": 147,
     "metadata": {},
     "output_type": "execute_result"
    }
   ],
   "source": [
    "operators[13]"
   ]
  },
  {
   "cell_type": "code",
   "execution_count": 148,
   "id": "3b66af32",
   "metadata": {},
   "outputs": [],
   "source": [
    "model=[np.array([operators[13]]),[variableSelect(0)],[]]"
   ]
  },
  {
   "cell_type": "code",
   "execution_count": 149,
   "id": "95e7ca4e",
   "metadata": {},
   "outputs": [
    {
     "data": {
      "text/plain": [
       "[array([<function arctan at 0x00000179FA6031A0>], dtype=object),\n",
       " [<function StackGP.variableSelect.<locals>.<lambda>(variables)>],\n",
       " []]"
      ]
     },
     "execution_count": 149,
     "metadata": {},
     "output_type": "execute_result"
    }
   ],
   "source": [
    "model"
   ]
  },
  {
   "cell_type": "code",
   "execution_count": 150,
   "id": "b519da3e",
   "metadata": {},
   "outputs": [
    {
     "data": {
      "text/plain": [
       "0.053882643415676966"
      ]
     },
     "execution_count": 150,
     "metadata": {},
     "output_type": "execute_result"
    }
   ],
   "source": [
    "totalSharpness(model,inputData,response,numPerturbations=5,percentPerturbation=0.2)"
   ]
  },
  {
   "cell_type": "code",
   "execution_count": 151,
   "id": "ed2c24ae",
   "metadata": {},
   "outputs": [
    {
     "data": {
      "text/plain": [
       "0.05099134144054035"
      ]
     },
     "execution_count": 151,
     "metadata": {},
     "output_type": "execute_result"
    }
   ],
   "source": [
    "totalSharpness(model,inputData,response,numPerturbations=10,percentPerturbation=0.2)"
   ]
  },
  {
   "cell_type": "code",
   "execution_count": 152,
   "id": "423d0616",
   "metadata": {},
   "outputs": [
    {
     "data": {
      "text/plain": [
       "0.047656865238110115"
      ]
     },
     "execution_count": 152,
     "metadata": {},
     "output_type": "execute_result"
    }
   ],
   "source": [
    "totalSharpness(model,inputData,response,numPerturbations=50,percentPerturbation=0.2)"
   ]
  },
  {
   "cell_type": "code",
   "execution_count": 153,
   "id": "c5b83bc2",
   "metadata": {},
   "outputs": [
    {
     "data": {
      "text/plain": [
       "0.043518769832204776"
      ]
     },
     "execution_count": 153,
     "metadata": {},
     "output_type": "execute_result"
    }
   ],
   "source": [
    "totalSharpness(model,inputData,response,numPerturbations=100,percentPerturbation=0.2)"
   ]
  },
  {
   "cell_type": "code",
   "execution_count": 154,
   "id": "e6205e44",
   "metadata": {},
   "outputs": [
    {
     "data": {
      "image/png": "[encoded data removed]",
      "text/plain": [
       "<Figure size 1000x500 with 1 Axes>"
      ]
     },
     "metadata": {},
     "output_type": "display_data"
    }
   ],
   "source": [
    "import matplotlib.pyplot as plt \n",
    "\n",
    " \n",
    "# creating the dataset\n",
    "data = {'5':0.053882643,'10':0.05099134,'50':0.04765686,'100':0.04351876}\n",
    "courses = list(data.keys())\n",
    "values = list(data.values())\n",
    " \n",
    "fig = plt.figure(figsize = (10, 5))\n",
    "\n",
    "# creating the bar plot\n",
    "plt.bar(courses, values, color ='maroon', \n",
    "        width = 0.4)\n",
    "\n",
    "plt.xlabel(\"numberPerturbation\")\n",
    "plt.ylabel(\"Sharpness\")\n",
    "plt.title(\"Change in numPerturbation for Arctan Function\")\n",
    "plt.yscale(\"log\")\n",
    "plt.show()"
   ]
  },
  {
   "cell_type": "code",
   "execution_count": 155,
   "id": "3d288435",
   "metadata": {},
   "outputs": [],
   "source": [
    "#Tanh"
   ]
  },
  {
   "cell_type": "code",
   "execution_count": 156,
   "id": "4c68915f",
   "metadata": {},
   "outputs": [],
   "source": [
    "from StackGP import *\n",
    "import numpy as np"
   ]
  },
  {
   "cell_type": "code",
   "execution_count": 157,
   "id": "3a77930f",
   "metadata": {},
   "outputs": [],
   "source": [
    "inputData=[[1,2,3,4,5,6,7,8,9,10]]\n",
    "response=inputData[0]"
   ]
  },
  {
   "cell_type": "code",
   "execution_count": 158,
   "id": "ea57a3ae",
   "metadata": {},
   "outputs": [
    {
     "data": {
      "text/plain": [
       "[[1, 2, 3, 4, 5, 6, 7, 8, 9, 10]]"
      ]
     },
     "execution_count": 158,
     "metadata": {},
     "output_type": "execute_result"
    }
   ],
   "source": [
    "inputData"
   ]
  },
  {
   "cell_type": "code",
   "execution_count": 159,
   "id": "5b1152f3",
   "metadata": {},
   "outputs": [
    {
     "data": {
      "text/plain": [
       "[1, 2, 3, 4, 5, 6, 7, 8, 9, 10]"
      ]
     },
     "execution_count": 159,
     "metadata": {},
     "output_type": "execute_result"
    }
   ],
   "source": [
    "response"
   ]
  },
  {
   "cell_type": "code",
   "execution_count": 160,
   "id": "c96edf0c",
   "metadata": {},
   "outputs": [],
   "source": [
    "operators=allOps()"
   ]
  },
  {
   "cell_type": "code",
   "execution_count": 161,
   "id": "6a9dcc3d",
   "metadata": {},
   "outputs": [
    {
     "data": {
      "text/plain": [
       "[<function StackGP.protectDiv(a, b)>,\n",
       " <function StackGP.add(a, b)>,\n",
       " <function StackGP.sub(a, b)>,\n",
       " <function StackGP.mult(a, b)>,\n",
       " <function StackGP.exp(a)>,\n",
       " <function StackGP.sqrd(a)>,\n",
       " <function StackGP.sqrt(a)>,\n",
       " <function StackGP.inv(a)>,\n",
       " <function StackGP.cos(a)>,\n",
       " <function StackGP.sin(a)>,\n",
       " <function StackGP.tan(a)>,\n",
       " <function StackGP.arccos(a)>,\n",
       " <function StackGP.arcsin(a)>,\n",
       " <function StackGP.arctan(a)>,\n",
       " <function StackGP.tanh(a)>,\n",
       " <function StackGP.log(a)>,\n",
       " 'pop',\n",
       " 'pop',\n",
       " 'pop',\n",
       " 'pop',\n",
       " 'pop',\n",
       " 'pop',\n",
       " 'pop',\n",
       " 'pop',\n",
       " 'pop',\n",
       " 'pop']"
      ]
     },
     "execution_count": 161,
     "metadata": {},
     "output_type": "execute_result"
    }
   ],
   "source": [
    "operators"
   ]
  },
  {
   "cell_type": "code",
   "execution_count": 162,
   "id": "e6957368",
   "metadata": {},
   "outputs": [
    {
     "data": {
      "text/plain": [
       "<function StackGP.tanh(a)>"
      ]
     },
     "execution_count": 162,
     "metadata": {},
     "output_type": "execute_result"
    }
   ],
   "source": [
    "operators[14]"
   ]
  },
  {
   "cell_type": "code",
   "execution_count": 163,
   "id": "624040a0",
   "metadata": {},
   "outputs": [],
   "source": [
    "model=[np.array([operators[14]]),[variableSelect(0)],[]]"
   ]
  },
  {
   "cell_type": "code",
   "execution_count": 164,
   "id": "11cbfcf2",
   "metadata": {},
   "outputs": [
    {
     "data": {
      "text/plain": [
       "[array([<function tanh at 0x00000179FA603240>], dtype=object),\n",
       " [<function StackGP.variableSelect.<locals>.<lambda>(variables)>],\n",
       " []]"
      ]
     },
     "execution_count": 164,
     "metadata": {},
     "output_type": "execute_result"
    }
   ],
   "source": [
    "model"
   ]
  },
  {
   "cell_type": "code",
   "execution_count": 165,
   "id": "18a0e83a",
   "metadata": {},
   "outputs": [
    {
     "data": {
      "text/plain": [
       "0.02172832267919116"
      ]
     },
     "execution_count": 165,
     "metadata": {},
     "output_type": "execute_result"
    }
   ],
   "source": [
    "totalSharpness(model,inputData,response,numPerturbations=5,percentPerturbation=0.2)"
   ]
  },
  {
   "cell_type": "code",
   "execution_count": 166,
   "id": "1832748e",
   "metadata": {},
   "outputs": [
    {
     "data": {
      "text/plain": [
       "0.04639335318954909"
      ]
     },
     "execution_count": 166,
     "metadata": {},
     "output_type": "execute_result"
    }
   ],
   "source": [
    "totalSharpness(model,inputData,response,numPerturbations=10,percentPerturbation=0.2)"
   ]
  },
  {
   "cell_type": "code",
   "execution_count": 167,
   "id": "f63177b1",
   "metadata": {},
   "outputs": [
    {
     "data": {
      "text/plain": [
       "0.0373530349927558"
      ]
     },
     "execution_count": 167,
     "metadata": {},
     "output_type": "execute_result"
    }
   ],
   "source": [
    "totalSharpness(model,inputData,response,numPerturbations=50,percentPerturbation=0.2)"
   ]
  },
  {
   "cell_type": "code",
   "execution_count": 168,
   "id": "b60a2af9",
   "metadata": {},
   "outputs": [
    {
     "data": {
      "text/plain": [
       "0.034551032759634254"
      ]
     },
     "execution_count": 168,
     "metadata": {},
     "output_type": "execute_result"
    }
   ],
   "source": [
    "totalSharpness(model,inputData,response,numPerturbations=100,percentPerturbation=0.2)"
   ]
  },
  {
   "cell_type": "code",
   "execution_count": 169,
   "id": "2716321a",
   "metadata": {},
   "outputs": [
    {
     "data": {
      "image/png": "[encoded data removed]",
      "text/plain": [
       "<Figure size 1000x500 with 1 Axes>"
      ]
     },
     "metadata": {},
     "output_type": "display_data"
    }
   ],
   "source": [
    "import matplotlib.pyplot as plt \n",
    "\n",
    " \n",
    "# creating the dataset\n",
    "data = {'5':0.021728322,'10':0.046393353,'50':0.03735303,'100':0.034551032}\n",
    "courses = list(data.keys())\n",
    "values = list(data.values())\n",
    " \n",
    "fig = plt.figure(figsize = (10, 5))\n",
    "\n",
    "# creating the bar plot\n",
    "plt.bar(courses, values, color ='maroon', \n",
    "        width = 0.4)\n",
    "\n",
    "plt.xlabel(\"numberPerturbation\")\n",
    "plt.ylabel(\"Sharpness\")\n",
    "plt.title(\"Change in numPerturbation for Tanh Function\")\n",
    "plt.yscale(\"log\")\n",
    "plt.show()"
   ]
  },
  {
   "cell_type": "code",
   "execution_count": 170,
   "id": "e7e75ba8",
   "metadata": {},
   "outputs": [],
   "source": [
    "#Log"
   ]
  },
  {
   "cell_type": "code",
   "execution_count": 171,
   "id": "62bc72dc",
   "metadata": {},
   "outputs": [],
   "source": [
    "from StackGP import *\n",
    "import numpy as np"
   ]
  },
  {
   "cell_type": "code",
   "execution_count": 172,
   "id": "2b59cd45",
   "metadata": {},
   "outputs": [],
   "source": [
    "inputData=[[1,2,3,4,5,6,7,8,9,10]]\n",
    "response=inputData[0]"
   ]
  },
  {
   "cell_type": "code",
   "execution_count": 173,
   "id": "df952f1b",
   "metadata": {},
   "outputs": [
    {
     "data": {
      "text/plain": [
       "[[1, 2, 3, 4, 5, 6, 7, 8, 9, 10]]"
      ]
     },
     "execution_count": 173,
     "metadata": {},
     "output_type": "execute_result"
    }
   ],
   "source": [
    "inputData"
   ]
  },
  {
   "cell_type": "code",
   "execution_count": 174,
   "id": "16b4f098",
   "metadata": {},
   "outputs": [
    {
     "data": {
      "text/plain": [
       "[1, 2, 3, 4, 5, 6, 7, 8, 9, 10]"
      ]
     },
     "execution_count": 174,
     "metadata": {},
     "output_type": "execute_result"
    }
   ],
   "source": [
    "response"
   ]
  },
  {
   "cell_type": "code",
   "execution_count": 175,
   "id": "fae10188",
   "metadata": {},
   "outputs": [],
   "source": [
    "operators=allOps()"
   ]
  },
  {
   "cell_type": "code",
   "execution_count": 176,
   "id": "09e6ffe3",
   "metadata": {},
   "outputs": [
    {
     "data": {
      "text/plain": [
       "[<function StackGP.protectDiv(a, b)>,\n",
       " <function StackGP.add(a, b)>,\n",
       " <function StackGP.sub(a, b)>,\n",
       " <function StackGP.mult(a, b)>,\n",
       " <function StackGP.exp(a)>,\n",
       " <function StackGP.sqrd(a)>,\n",
       " <function StackGP.sqrt(a)>,\n",
       " <function StackGP.inv(a)>,\n",
       " <function StackGP.cos(a)>,\n",
       " <function StackGP.sin(a)>,\n",
       " <function StackGP.tan(a)>,\n",
       " <function StackGP.arccos(a)>,\n",
       " <function StackGP.arcsin(a)>,\n",
       " <function StackGP.arctan(a)>,\n",
       " <function StackGP.tanh(a)>,\n",
       " <function StackGP.log(a)>,\n",
       " 'pop',\n",
       " 'pop',\n",
       " 'pop',\n",
       " 'pop',\n",
       " 'pop',\n",
       " 'pop',\n",
       " 'pop',\n",
       " 'pop',\n",
       " 'pop',\n",
       " 'pop']"
      ]
     },
     "execution_count": 176,
     "metadata": {},
     "output_type": "execute_result"
    }
   ],
   "source": [
    "operators"
   ]
  },
  {
   "cell_type": "code",
   "execution_count": 177,
   "id": "f1d92942",
   "metadata": {},
   "outputs": [
    {
     "data": {
      "text/plain": [
       "<function StackGP.log(a)>"
      ]
     },
     "execution_count": 177,
     "metadata": {},
     "output_type": "execute_result"
    }
   ],
   "source": [
    "operators[15]"
   ]
  },
  {
   "cell_type": "code",
   "execution_count": 178,
   "id": "1ea8907b",
   "metadata": {},
   "outputs": [],
   "source": [
    "model=[np.array([operators[15]]),[variableSelect(0)],[]]"
   ]
  },
  {
   "cell_type": "code",
   "execution_count": 179,
   "id": "935ae004",
   "metadata": {},
   "outputs": [
    {
     "data": {
      "text/plain": [
       "[array([<function log at 0x00000179FA6032E0>], dtype=object),\n",
       " [<function StackGP.variableSelect.<locals>.<lambda>(variables)>],\n",
       " []]"
      ]
     },
     "execution_count": 179,
     "metadata": {},
     "output_type": "execute_result"
    }
   ],
   "source": [
    "model"
   ]
  },
  {
   "cell_type": "code",
   "execution_count": 180,
   "id": "1baf2c7a",
   "metadata": {},
   "outputs": [
    {
     "data": {
      "text/plain": [
       "0.028876201227471997"
      ]
     },
     "execution_count": 180,
     "metadata": {},
     "output_type": "execute_result"
    }
   ],
   "source": [
    "totalSharpness(model,inputData,response,numPerturbations=5,percentPerturbation=0.2)"
   ]
  },
  {
   "cell_type": "code",
   "execution_count": 181,
   "id": "8e62acf2",
   "metadata": {},
   "outputs": [
    {
     "data": {
      "text/plain": [
       "0.019996772842910873"
      ]
     },
     "execution_count": 181,
     "metadata": {},
     "output_type": "execute_result"
    }
   ],
   "source": [
    "totalSharpness(model,inputData,response,numPerturbations=10,percentPerturbation=0.2)"
   ]
  },
  {
   "cell_type": "code",
   "execution_count": 182,
   "id": "496b3cb0",
   "metadata": {},
   "outputs": [
    {
     "data": {
      "text/plain": [
       "0.024841447883210258"
      ]
     },
     "execution_count": 182,
     "metadata": {},
     "output_type": "execute_result"
    }
   ],
   "source": [
    "totalSharpness(model,inputData,response,numPerturbations=50,percentPerturbation=0.2)"
   ]
  },
  {
   "cell_type": "code",
   "execution_count": 183,
   "id": "853cd634",
   "metadata": {},
   "outputs": [
    {
     "data": {
      "text/plain": [
       "0.024658423265370103"
      ]
     },
     "execution_count": 183,
     "metadata": {},
     "output_type": "execute_result"
    }
   ],
   "source": [
    "totalSharpness(model,inputData,response,numPerturbations=100,percentPerturbation=0.2)"
   ]
  },
  {
   "cell_type": "code",
   "execution_count": 184,
   "id": "0f8652cb",
   "metadata": {},
   "outputs": [
    {
     "data": {
      "image/png": "[encoded data removed]",
      "text/plain": [
       "<Figure size 1000x500 with 1 Axes>"
      ]
     },
     "metadata": {},
     "output_type": "display_data"
    }
   ],
   "source": [
    "import matplotlib.pyplot as plt \n",
    "\n",
    " \n",
    "# creating the dataset\n",
    "data = {'5':0.0288762,'10':0.01999677,'50':0.024841447,'100':0.02465842}\n",
    "courses = list(data.keys())\n",
    "values = list(data.values())\n",
    " \n",
    "fig = plt.figure(figsize = (10, 5))\n",
    "\n",
    "# creating the bar plot\n",
    "plt.bar(courses, values, color ='maroon', \n",
    "        width = 0.4)\n",
    "\n",
    "plt.xlabel(\"numberPerturbation\")\n",
    "plt.ylabel(\"Sharpness\")\n",
    "plt.title(\"Change in numPerturbation for Log Function\")\n",
    "plt.yscale(\"log\")\n",
    "plt.show()"
   ]
  },
  {
   "cell_type": "code",
   "execution_count": 221,
   "id": "7439ce26",
   "metadata": {},
   "outputs": [],
   "source": [
    "from StackGP import *\n",
    "import numpy as np"
   ]
  },
  {
   "cell_type": "code",
   "execution_count": 222,
   "id": "859e7fed",
   "metadata": {},
   "outputs": [],
   "source": [
    "inputData=[[1,2,3,4,5,6,7,8,9,10]]\n",
    "response=inputData[0]"
   ]
  },
  {
   "cell_type": "code",
   "execution_count": 223,
   "id": "c2b560c5",
   "metadata": {},
   "outputs": [
    {
     "data": {
      "text/plain": [
       "[[1, 2, 3, 4, 5, 6, 7, 8, 9, 10]]"
      ]
     },
     "execution_count": 223,
     "metadata": {},
     "output_type": "execute_result"
    }
   ],
   "source": [
    "inputData"
   ]
  },
  {
   "cell_type": "code",
   "execution_count": 224,
   "id": "f68f8e58",
   "metadata": {},
   "outputs": [
    {
     "data": {
      "text/plain": [
       "[1, 2, 3, 4, 5, 6, 7, 8, 9, 10]"
      ]
     },
     "execution_count": 224,
     "metadata": {},
     "output_type": "execute_result"
    }
   ],
   "source": [
    "response"
   ]
  },
  {
   "cell_type": "code",
   "execution_count": 225,
   "id": "30afdca0",
   "metadata": {},
   "outputs": [],
   "source": [
    "operators=allOps()"
   ]
  },
  {
   "cell_type": "code",
   "execution_count": 226,
   "id": "d1c5405b",
   "metadata": {},
   "outputs": [
    {
     "data": {
      "text/plain": [
       "[<function StackGP.protectDiv(a, b)>,\n",
       " <function StackGP.add(a, b)>,\n",
       " <function StackGP.sub(a, b)>,\n",
       " <function StackGP.mult(a, b)>,\n",
       " <function StackGP.exp(a)>,\n",
       " <function StackGP.sqrd(a)>,\n",
       " <function StackGP.sqrt(a)>,\n",
       " <function StackGP.inv(a)>,\n",
       " <function StackGP.cos(a)>,\n",
       " <function StackGP.sin(a)>,\n",
       " <function StackGP.tan(a)>,\n",
       " <function StackGP.arccos(a)>,\n",
       " <function StackGP.arcsin(a)>,\n",
       " <function StackGP.arctan(a)>,\n",
       " <function StackGP.tanh(a)>,\n",
       " <function StackGP.log(a)>,\n",
       " 'pop',\n",
       " 'pop',\n",
       " 'pop',\n",
       " 'pop',\n",
       " 'pop',\n",
       " 'pop',\n",
       " 'pop',\n",
       " 'pop',\n",
       " 'pop',\n",
       " 'pop']"
      ]
     },
     "execution_count": 226,
     "metadata": {},
     "output_type": "execute_result"
    }
   ],
   "source": [
    "operators"
   ]
  },
  {
   "cell_type": "code",
   "execution_count": 227,
   "id": "7026889f",
   "metadata": {},
   "outputs": [
    {
     "data": {
      "text/plain": [
       "<function StackGP.exp(a)>"
      ]
     },
     "execution_count": 227,
     "metadata": {},
     "output_type": "execute_result"
    }
   ],
   "source": [
    "operators[4]"
   ]
  },
  {
   "cell_type": "code",
   "execution_count": 228,
   "id": "c1b7b18a",
   "metadata": {},
   "outputs": [],
   "source": [
    "model=[np.array([operators[4]]),[variableSelect(0)],[]]"
   ]
  },
  {
   "cell_type": "code",
   "execution_count": 229,
   "id": "57a8c08f",
   "metadata": {},
   "outputs": [
    {
     "data": {
      "text/plain": [
       "[array([<function exp at 0x000002381BB2C860>], dtype=object),\n",
       " [<function StackGP.variableSelect.<locals>.<lambda>(variables)>],\n",
       " []]"
      ]
     },
     "execution_count": 229,
     "metadata": {},
     "output_type": "execute_result"
    }
   ],
   "source": [
    "model"
   ]
  },
  {
   "cell_type": "code",
   "execution_count": 231,
   "id": "5f9cab55",
   "metadata": {},
   "outputs": [
    {
     "data": {
      "text/plain": [
       "0.02328236384685424"
      ]
     },
     "execution_count": 231,
     "metadata": {},
     "output_type": "execute_result"
    }
   ],
   "source": [
    "totalSharpness(model,inputData,response,numPerturbations=5,percentPerturbation=0.2)"
   ]
  },
  {
   "cell_type": "code",
   "execution_count": 232,
   "id": "96d9a2e5",
   "metadata": {},
   "outputs": [
    {
     "data": {
      "text/plain": [
       "0.043599697721768124"
      ]
     },
     "execution_count": 232,
     "metadata": {},
     "output_type": "execute_result"
    }
   ],
   "source": [
    "totalSharpness(model,inputData,response,numPerturbations=10,percentPerturbation=0.2)"
   ]
  },
  {
   "cell_type": "code",
   "execution_count": 233,
   "id": "30d889f5",
   "metadata": {},
   "outputs": [
    {
     "data": {
      "text/plain": [
       "0.0388916361227938"
      ]
     },
     "execution_count": 233,
     "metadata": {},
     "output_type": "execute_result"
    }
   ],
   "source": [
    "totalSharpness(model,inputData,response,numPerturbations=50,percentPerturbation=0.2)"
   ]
  },
  {
   "cell_type": "code",
   "execution_count": 234,
   "id": "d7106a8e",
   "metadata": {},
   "outputs": [
    {
     "data": {
      "text/plain": [
       "0.04165469872921747"
      ]
     },
     "execution_count": 234,
     "metadata": {},
     "output_type": "execute_result"
    }
   ],
   "source": [
    "totalSharpness(model,inputData,response,numPerturbations=100,percentPerturbation=0.2)"
   ]
  },
  {
   "cell_type": "code",
   "execution_count": 235,
   "id": "b3745521",
   "metadata": {},
   "outputs": [
    {
     "data": {
      "image/png": "[encoded data removed]",
      "text/plain": [
       "<Figure size 1000x500 with 1 Axes>"
      ]
     },
     "metadata": {},
     "output_type": "display_data"
    }
   ],
   "source": [
    "import matplotlib.pyplot as plt \n",
    "\n",
    " \n",
    "# creating the dataset\n",
    "data = {'5':0.0232823,'10':0.04359969,'50':0.03889163,'100':0.0416546987}\n",
    "courses = list(data.keys())\n",
    "values = list(data.values())\n",
    " \n",
    "fig = plt.figure(figsize = (10, 5))\n",
    "\n",
    "# creating the bar plot\n",
    "plt.bar(courses, values, color ='maroon', \n",
    "        width = 0.4)\n",
    "\n",
    "plt.xlabel(\"numberPerturbation\")\n",
    "plt.ylabel(\"Sharpness\")\n",
    "plt.title(\"Change in numPerturbation for Exp Function\")\n",
    "plt.yscale(\"log\")\n",
    "plt.show()"
   ]
  },
  {
   "cell_type": "code",
   "execution_count": null,
   "id": "47ea9cec",
   "metadata": {},
   "outputs": [],
   "source": []
  }
 ],
 "metadata": {
  "kernelspec": {
   "display_name": "Python 3 (ipykernel)",
   "language": "python",
   "name": "python3"
  },
  "language_info": {
   "codemirror_mode": {
    "name": "ipython",
    "version": 3
   },
   "file_extension": ".py",
   "mimetype": "text/x-python",
   "name": "python",
   "nbconvert_exporter": "python",
   "pygments_lexer": "ipython3",
   "version": "3.11.3"
  }
 },
 "nbformat": 4,
 "nbformat_minor": 5
}
