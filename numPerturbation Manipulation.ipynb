{
 "cells": [
  {
   "cell_type": "markdown",
   "id": "76aae25c",
   "metadata": {},
   "source": [
    "# Same Operators"
   ]
  },
  {
   "cell_type": "code",
   "execution_count": 1,
   "id": "2a2c6ecc",
   "metadata": {},
   "outputs": [],
   "source": [
    "from StackGP import *\n",
    "import numpy as np"
   ]
  },
  {
   "cell_type": "code",
   "execution_count": 3,
   "id": "37ec1852",
   "metadata": {},
   "outputs": [],
   "source": [
    "operators=allOps()"
   ]
  },
  {
   "cell_type": "code",
   "execution_count": 4,
   "id": "53bd0916",
   "metadata": {},
   "outputs": [],
   "source": [
    "#Define sine function to generate data\n",
    "def sinFunc(x0):\n",
    "    return np.sin(x0)"
   ]
  },
  {
   "cell_type": "code",
   "execution_count": 5,
   "id": "395aa5d2",
   "metadata": {},
   "outputs": [],
   "source": [
    "sinModel=[np.array([operators[9],operators[9]]),[variableSelect(0)],[]]"
   ]
  },
  {
   "cell_type": "code",
   "execution_count": 6,
   "id": "360c4345",
   "metadata": {},
   "outputs": [
    {
     "data": {
      "text/plain": [
       "[array([<function sin at 0x0000023EAB4BEE80>,\n",
       "        <function sin at 0x0000023EAB4BEE80>], dtype=object),\n",
       " [<function StackGP.variableSelect.<locals>.<lambda>(variables)>],\n",
       " []]"
      ]
     },
     "execution_count": 6,
     "metadata": {},
     "output_type": "execute_result"
    }
   ],
   "source": [
    "sinModel"
   ]
  },
  {
   "cell_type": "code",
   "execution_count": 7,
   "id": "20548591",
   "metadata": {},
   "outputs": [],
   "source": [
    "inputData=np.array([np.arange(-1,1,.0013)])\n",
    "response=inputData[0]"
   ]
  },
  {
   "cell_type": "code",
   "execution_count": 102,
   "id": "12560a19",
   "metadata": {},
   "outputs": [
    {
     "data": {
      "text/plain": [
       "0.0002888593190833982"
      ]
     },
     "execution_count": 102,
     "metadata": {},
     "output_type": "execute_result"
    }
   ],
   "source": [
    "totalSharpness(sinModel,inputData,response,numPerturbations=5000,percentPerturbation=1)"
   ]
  },
  {
   "cell_type": "code",
   "execution_count": null,
   "id": "479ddf1e",
   "metadata": {},
   "outputs": [],
   "source": []
  },
  {
   "cell_type": "code",
   "execution_count": 19,
   "id": "c6e73cb4",
   "metadata": {},
   "outputs": [],
   "source": [
    "from StackGP import *\n",
    "import numpy as np"
   ]
  },
  {
   "cell_type": "code",
   "execution_count": 20,
   "id": "1496c538",
   "metadata": {},
   "outputs": [],
   "source": [
    "operators=allOps()"
   ]
  },
  {
   "cell_type": "code",
   "execution_count": 21,
   "id": "8dd5ffd6",
   "metadata": {},
   "outputs": [],
   "source": [
    "#Define cosine function to generate data\n",
    "def cosFunc(x0):\n",
    "    return np.cos(x0)"
   ]
  },
  {
   "cell_type": "code",
   "execution_count": 22,
   "id": "b26b4109",
   "metadata": {},
   "outputs": [],
   "source": [
    "cosModel=[np.array([operators[8],operators[8]]),[variableSelect(0)],[]]"
   ]
  },
  {
   "cell_type": "code",
   "execution_count": 23,
   "id": "c512d7dd",
   "metadata": {},
   "outputs": [
    {
     "data": {
      "text/plain": [
       "[array([<function cos at 0x0000023EAB4BEF20>,\n",
       "        <function cos at 0x0000023EAB4BEF20>], dtype=object),\n",
       " [<function StackGP.variableSelect.<locals>.<lambda>(variables)>],\n",
       " []]"
      ]
     },
     "execution_count": 23,
     "metadata": {},
     "output_type": "execute_result"
    }
   ],
   "source": [
    "cosModel"
   ]
  },
  {
   "cell_type": "code",
   "execution_count": 24,
   "id": "483de19a",
   "metadata": {},
   "outputs": [],
   "source": [
    "inputData=np.array([np.arange(-1,1,.0013)])\n",
    "response=inputData[0]"
   ]
  },
  {
   "cell_type": "code",
   "execution_count": 103,
   "id": "d3b466e2",
   "metadata": {},
   "outputs": [
    {
     "data": {
      "text/plain": [
       "2.593607592117324e-07"
      ]
     },
     "execution_count": 103,
     "metadata": {},
     "output_type": "execute_result"
    }
   ],
   "source": [
    "totalSharpness(cosModel,inputData,response,numPerturbations=4000,percentPerturbation=0.0068)"
   ]
  },
  {
   "cell_type": "code",
   "execution_count": null,
   "id": "30c85eb1",
   "metadata": {},
   "outputs": [],
   "source": []
  },
  {
   "cell_type": "code",
   "execution_count": 32,
   "id": "27376246",
   "metadata": {},
   "outputs": [],
   "source": [
    "from StackGP import *\n",
    "import numpy as np"
   ]
  },
  {
   "cell_type": "code",
   "execution_count": 33,
   "id": "9de362b5",
   "metadata": {},
   "outputs": [],
   "source": [
    "operators=allOps()"
   ]
  },
  {
   "cell_type": "code",
   "execution_count": 34,
   "id": "66fccf65",
   "metadata": {},
   "outputs": [],
   "source": [
    "#Define tangent function to generate data\n",
    "def tanFunc(x0):\n",
    "    return np.tan(x0)"
   ]
  },
  {
   "cell_type": "code",
   "execution_count": 35,
   "id": "8a82f530",
   "metadata": {},
   "outputs": [],
   "source": [
    "tanModel=[np.array([operators[10],operators[10]]),[variableSelect(0)],[]]"
   ]
  },
  {
   "cell_type": "code",
   "execution_count": 36,
   "id": "adde41e9",
   "metadata": {},
   "outputs": [
    {
     "data": {
      "text/plain": [
       "[array([<function tan at 0x0000023EAB4BEFC0>,\n",
       "        <function tan at 0x0000023EAB4BEFC0>], dtype=object),\n",
       " [<function StackGP.variableSelect.<locals>.<lambda>(variables)>],\n",
       " []]"
      ]
     },
     "execution_count": 36,
     "metadata": {},
     "output_type": "execute_result"
    }
   ],
   "source": [
    "tanModel"
   ]
  },
  {
   "cell_type": "code",
   "execution_count": 37,
   "id": "30af6866",
   "metadata": {},
   "outputs": [],
   "source": [
    "inputData=np.array([np.arange(-1,1,.0013)])\n",
    "response=inputData[0]"
   ]
  },
  {
   "cell_type": "code",
   "execution_count": 104,
   "id": "42c2c7ae",
   "metadata": {},
   "outputs": [
    {
     "data": {
      "text/plain": [
       "0.0068540590870756575"
      ]
     },
     "execution_count": 104,
     "metadata": {},
     "output_type": "execute_result"
    }
   ],
   "source": [
    "totalSharpness(tanModel,inputData,response,numPerturbations=4000,percentPerturbation=0.900)"
   ]
  },
  {
   "cell_type": "code",
   "execution_count": null,
   "id": "433286b0",
   "metadata": {},
   "outputs": [],
   "source": []
  },
  {
   "cell_type": "code",
   "execution_count": 57,
   "id": "7005a7f5",
   "metadata": {},
   "outputs": [],
   "source": [
    "from StackGP import *\n",
    "import numpy as np"
   ]
  },
  {
   "cell_type": "code",
   "execution_count": 58,
   "id": "87261d57",
   "metadata": {},
   "outputs": [],
   "source": [
    "operators=allOps()"
   ]
  },
  {
   "cell_type": "code",
   "execution_count": 59,
   "id": "fd5cf0b1",
   "metadata": {},
   "outputs": [],
   "source": [
    "#Define exponent function to generate data\n",
    "def expFunc(x0):\n",
    "    return np.exp(x0)"
   ]
  },
  {
   "cell_type": "code",
   "execution_count": 60,
   "id": "9e6d6367",
   "metadata": {},
   "outputs": [],
   "source": [
    "expModel=[np.array([operators[4],operators[4]]),[variableSelect(0)],[]]"
   ]
  },
  {
   "cell_type": "code",
   "execution_count": 61,
   "id": "3602b9be",
   "metadata": {},
   "outputs": [
    {
     "data": {
      "text/plain": [
       "[array([<function exp at 0x0000023EAB4BEB60>,\n",
       "        <function exp at 0x0000023EAB4BEB60>], dtype=object),\n",
       " [<function StackGP.variableSelect.<locals>.<lambda>(variables)>],\n",
       " []]"
      ]
     },
     "execution_count": 61,
     "metadata": {},
     "output_type": "execute_result"
    }
   ],
   "source": [
    "expModel"
   ]
  },
  {
   "cell_type": "code",
   "execution_count": 62,
   "id": "4bdd1672",
   "metadata": {},
   "outputs": [],
   "source": [
    "inputData=np.array([np.arange(-1,1,.0013)])\n",
    "response=inputData[0]"
   ]
  },
  {
   "cell_type": "code",
   "execution_count": 63,
   "id": "faaa8f9e",
   "metadata": {},
   "outputs": [
    {
     "data": {
      "text/plain": [
       "1.5163911857327042e-08"
      ]
     },
     "execution_count": 63,
     "metadata": {},
     "output_type": "execute_result"
    }
   ],
   "source": [
    "totalSharpness(expModel,inputData,response,numPerturbations=4000,percentPerturbation=0.00000089)"
   ]
  },
  {
   "cell_type": "code",
   "execution_count": null,
   "id": "901cd50b",
   "metadata": {},
   "outputs": [],
   "source": []
  },
  {
   "cell_type": "code",
   "execution_count": 48,
   "id": "bf359f00",
   "metadata": {},
   "outputs": [],
   "source": [
    "from StackGP import *\n",
    "import numpy as np"
   ]
  },
  {
   "cell_type": "code",
   "execution_count": 49,
   "id": "ce0671fe",
   "metadata": {},
   "outputs": [],
   "source": [
    "operators=allOps()"
   ]
  },
  {
   "cell_type": "code",
   "execution_count": 50,
   "id": "7186bcf4",
   "metadata": {},
   "outputs": [],
   "source": [
    "#Define squared function to generate data\n",
    "def sqrdFunc(x0):\n",
    "    return np.sqrd(x0)"
   ]
  },
  {
   "cell_type": "code",
   "execution_count": 51,
   "id": "af5d619b",
   "metadata": {},
   "outputs": [],
   "source": [
    "sqrdModel=[np.array([operators[5],operators[5]]),[variableSelect(0)],[]]"
   ]
  },
  {
   "cell_type": "code",
   "execution_count": 52,
   "id": "0078d90f",
   "metadata": {},
   "outputs": [
    {
     "data": {
      "text/plain": [
       "[array([<function sqrd at 0x0000023EAB4BED40>,\n",
       "        <function sqrd at 0x0000023EAB4BED40>], dtype=object),\n",
       " [<function StackGP.variableSelect.<locals>.<lambda>(variables)>],\n",
       " []]"
      ]
     },
     "execution_count": 52,
     "metadata": {},
     "output_type": "execute_result"
    }
   ],
   "source": [
    "sqrdModel"
   ]
  },
  {
   "cell_type": "code",
   "execution_count": 53,
   "id": "2fb5ae4b",
   "metadata": {},
   "outputs": [],
   "source": [
    "inputData=np.array([np.arange(-1,1,.0013)])\n",
    "response=inputData[0]"
   ]
  },
  {
   "cell_type": "code",
   "execution_count": 105,
   "id": "cdd3b439",
   "metadata": {},
   "outputs": [
    {
     "data": {
      "text/plain": [
       "0.0004586815496322329"
      ]
     },
     "execution_count": 105,
     "metadata": {},
     "output_type": "execute_result"
    }
   ],
   "source": [
    "totalSharpness(sqrdModel,inputData,response,numPerturbations=4000,percentPerturbation=0.5550)"
   ]
  },
  {
   "cell_type": "code",
   "execution_count": null,
   "id": "9ad44a07",
   "metadata": {},
   "outputs": [],
   "source": []
  },
  {
   "cell_type": "code",
   "execution_count": 41,
   "id": "6f1dbbf4",
   "metadata": {},
   "outputs": [],
   "source": [
    "from StackGP import *\n",
    "import numpy as np"
   ]
  },
  {
   "cell_type": "code",
   "execution_count": 42,
   "id": "56396bfe",
   "metadata": {},
   "outputs": [],
   "source": [
    "operators=allOps()"
   ]
  },
  {
   "cell_type": "code",
   "execution_count": 43,
   "id": "a693d7ff",
   "metadata": {},
   "outputs": [],
   "source": [
    "#Define square root function to generate data\n",
    "def sqrtFunc(x0):\n",
    "    return np.sqrt(x0)"
   ]
  },
  {
   "cell_type": "code",
   "execution_count": 44,
   "id": "15227d52",
   "metadata": {},
   "outputs": [],
   "source": [
    "sqrtModel=[np.array([operators[6],operators[6]]),[variableSelect(0)],[]]"
   ]
  },
  {
   "cell_type": "code",
   "execution_count": 45,
   "id": "ae033f69",
   "metadata": {},
   "outputs": [
    {
     "data": {
      "text/plain": [
       "[array([<function sqrt at 0x0000023EAB4BECA0>,\n",
       "        <function sqrt at 0x0000023EAB4BECA0>], dtype=object),\n",
       " [<function StackGP.variableSelect.<locals>.<lambda>(variables)>],\n",
       " []]"
      ]
     },
     "execution_count": 45,
     "metadata": {},
     "output_type": "execute_result"
    }
   ],
   "source": [
    "sqrtModel"
   ]
  },
  {
   "cell_type": "code",
   "execution_count": 46,
   "id": "6e2dbcf2",
   "metadata": {},
   "outputs": [],
   "source": [
    "inputData=np.array([np.arange(-1,1,.0013)])\n",
    "response=inputData[0]"
   ]
  },
  {
   "cell_type": "code",
   "execution_count": 106,
   "id": "c79c607a",
   "metadata": {},
   "outputs": [
    {
     "data": {
      "text/plain": [
       "nan"
      ]
     },
     "execution_count": 106,
     "metadata": {},
     "output_type": "execute_result"
    }
   ],
   "source": [
    "totalSharpness(sqrtModel,inputData,response,numPerturbations=4000,percentPerturbation=0.0000098)"
   ]
  },
  {
   "cell_type": "code",
   "execution_count": null,
   "id": "ce19721c",
   "metadata": {},
   "outputs": [],
   "source": []
  },
  {
   "cell_type": "code",
   "execution_count": 64,
   "id": "116f4479",
   "metadata": {},
   "outputs": [],
   "source": [
    "from StackGP import *\n",
    "import numpy as np"
   ]
  },
  {
   "cell_type": "code",
   "execution_count": 65,
   "id": "acae336a",
   "metadata": {},
   "outputs": [],
   "source": [
    "operators=allOps()"
   ]
  },
  {
   "cell_type": "code",
   "execution_count": 66,
   "id": "4c487ea1",
   "metadata": {},
   "outputs": [],
   "source": [
    "#Define inverse function to generate data\n",
    "def invFunc(x0):\n",
    "    return np.inv(x0)"
   ]
  },
  {
   "cell_type": "code",
   "execution_count": 67,
   "id": "ee4eb43b",
   "metadata": {},
   "outputs": [],
   "source": [
    "invModel=[np.array([operators[7],operators[7]]),[variableSelect(0)],[]]"
   ]
  },
  {
   "cell_type": "code",
   "execution_count": 68,
   "id": "988f0380",
   "metadata": {},
   "outputs": [
    {
     "data": {
      "text/plain": [
       "[array([<function inv at 0x0000023EAB4BEDE0>,\n",
       "        <function inv at 0x0000023EAB4BEDE0>], dtype=object),\n",
       " [<function StackGP.variableSelect.<locals>.<lambda>(variables)>],\n",
       " []]"
      ]
     },
     "execution_count": 68,
     "metadata": {},
     "output_type": "execute_result"
    }
   ],
   "source": [
    "invModel"
   ]
  },
  {
   "cell_type": "code",
   "execution_count": 69,
   "id": "4c776a12",
   "metadata": {},
   "outputs": [],
   "source": [
    "inputData=np.array([np.arange(-1,1,.0013)])\n",
    "response=inputData[0]"
   ]
  },
  {
   "cell_type": "code",
   "execution_count": 107,
   "id": "d33bd2d6",
   "metadata": {},
   "outputs": [
    {
     "data": {
      "text/plain": [
       "0.0008233196526166219"
      ]
     },
     "execution_count": 107,
     "metadata": {},
     "output_type": "execute_result"
    }
   ],
   "source": [
    "totalSharpness(invModel,inputData,response,numPerturbations=4000,percentPerturbation=0.655)"
   ]
  },
  {
   "cell_type": "code",
   "execution_count": null,
   "id": "b3bd1b92",
   "metadata": {},
   "outputs": [],
   "source": []
  },
  {
   "cell_type": "code",
   "execution_count": 72,
   "id": "af54a7f7",
   "metadata": {},
   "outputs": [],
   "source": [
    "from StackGP import *\n",
    "import numpy as np"
   ]
  },
  {
   "cell_type": "code",
   "execution_count": 73,
   "id": "402421ee",
   "metadata": {},
   "outputs": [],
   "source": [
    "operators=allOps()"
   ]
  },
  {
   "cell_type": "code",
   "execution_count": 74,
   "id": "c125fc17",
   "metadata": {},
   "outputs": [],
   "source": [
    "#Define arctan function to generate data\n",
    "def arctanFunc(x0):\n",
    "    return np.arctan(x0)"
   ]
  },
  {
   "cell_type": "code",
   "execution_count": 75,
   "id": "c8e87f9a",
   "metadata": {},
   "outputs": [],
   "source": [
    "arctanModel=[np.array([operators[13],operators[13]]),[variableSelect(0)],[]]"
   ]
  },
  {
   "cell_type": "code",
   "execution_count": 76,
   "id": "d4683048",
   "metadata": {},
   "outputs": [
    {
     "data": {
      "text/plain": [
       "[array([<function arctan at 0x0000023EAB4BF1A0>,\n",
       "        <function arctan at 0x0000023EAB4BF1A0>], dtype=object),\n",
       " [<function StackGP.variableSelect.<locals>.<lambda>(variables)>],\n",
       " []]"
      ]
     },
     "execution_count": 76,
     "metadata": {},
     "output_type": "execute_result"
    }
   ],
   "source": [
    "arctanModel"
   ]
  },
  {
   "cell_type": "code",
   "execution_count": 77,
   "id": "707af04a",
   "metadata": {},
   "outputs": [],
   "source": [
    "inputData=np.array([np.arange(-1,1,.0013)])\n",
    "response=inputData[0]"
   ]
  },
  {
   "cell_type": "code",
   "execution_count": 121,
   "id": "26543a92",
   "metadata": {},
   "outputs": [
    {
     "data": {
      "text/plain": [
       "4.85174399172378e-07"
      ]
     },
     "execution_count": 121,
     "metadata": {},
     "output_type": "execute_result"
    }
   ],
   "source": [
    "totalSharpness(arctanModel,inputData,response,numPerturbations=4000,percentPerturbation=0.0004)"
   ]
  },
  {
   "cell_type": "code",
   "execution_count": null,
   "id": "d9d70194",
   "metadata": {},
   "outputs": [],
   "source": []
  },
  {
   "cell_type": "code",
   "execution_count": 79,
   "id": "1da064f1",
   "metadata": {},
   "outputs": [],
   "source": [
    "from StackGP import *\n",
    "import numpy as np"
   ]
  },
  {
   "cell_type": "code",
   "execution_count": 80,
   "id": "300e1528",
   "metadata": {},
   "outputs": [],
   "source": [
    "operators=allOps()"
   ]
  },
  {
   "cell_type": "code",
   "execution_count": 81,
   "id": "50c9b921",
   "metadata": {},
   "outputs": [],
   "source": [
    "#Define tanh function to generate data\n",
    "def tanhFunc(x0):\n",
    "    return np.tanh(x0)"
   ]
  },
  {
   "cell_type": "code",
   "execution_count": 82,
   "id": "645ae1c2",
   "metadata": {},
   "outputs": [],
   "source": [
    "tanhModel=[np.array([operators[14],operators[14]]),[variableSelect(0)],[]]"
   ]
  },
  {
   "cell_type": "code",
   "execution_count": 83,
   "id": "7f60dc0e",
   "metadata": {},
   "outputs": [
    {
     "data": {
      "text/plain": [
       "[array([<function tanh at 0x0000023EAB4BF240>,\n",
       "        <function tanh at 0x0000023EAB4BF240>], dtype=object),\n",
       " [<function StackGP.variableSelect.<locals>.<lambda>(variables)>],\n",
       " []]"
      ]
     },
     "execution_count": 83,
     "metadata": {},
     "output_type": "execute_result"
    }
   ],
   "source": [
    "tanhModel"
   ]
  },
  {
   "cell_type": "code",
   "execution_count": 84,
   "id": "7e0937e9",
   "metadata": {},
   "outputs": [],
   "source": [
    "inputData=np.array([np.arange(-1,1,.0013)])\n",
    "response=inputData[0]"
   ]
  },
  {
   "cell_type": "code",
   "execution_count": 120,
   "id": "a348a806",
   "metadata": {},
   "outputs": [
    {
     "data": {
      "text/plain": [
       "1.3117014827630013e-06"
      ]
     },
     "execution_count": 120,
     "metadata": {},
     "output_type": "execute_result"
    }
   ],
   "source": [
    "totalSharpness(tanhModel,inputData,response,numPerturbations=4000,percentPerturbation=0.001)"
   ]
  },
  {
   "cell_type": "code",
   "execution_count": null,
   "id": "08a4d3aa",
   "metadata": {},
   "outputs": [],
   "source": []
  },
  {
   "cell_type": "code",
   "execution_count": 111,
   "id": "04eefd93",
   "metadata": {},
   "outputs": [],
   "source": [
    "from StackGP import *\n",
    "import numpy as np"
   ]
  },
  {
   "cell_type": "code",
   "execution_count": 112,
   "id": "f065b328",
   "metadata": {},
   "outputs": [],
   "source": [
    "operators=allOps()"
   ]
  },
  {
   "cell_type": "code",
   "execution_count": 113,
   "id": "3a1c1489",
   "metadata": {},
   "outputs": [],
   "source": [
    "#Define log function to generate data\n",
    "def logFunc(x0):\n",
    "    return np.log(x0)"
   ]
  },
  {
   "cell_type": "code",
   "execution_count": 114,
   "id": "5788d05d",
   "metadata": {},
   "outputs": [],
   "source": [
    "logModel=[np.array([operators[15],operators[15]]),[variableSelect(0)],[]]"
   ]
  },
  {
   "cell_type": "code",
   "execution_count": 115,
   "id": "dcc9ae92",
   "metadata": {},
   "outputs": [
    {
     "data": {
      "text/plain": [
       "[array([<function log at 0x0000023EAB4BF2E0>,\n",
       "        <function log at 0x0000023EAB4BF2E0>], dtype=object),\n",
       " [<function StackGP.variableSelect.<locals>.<lambda>(variables)>],\n",
       " []]"
      ]
     },
     "execution_count": 115,
     "metadata": {},
     "output_type": "execute_result"
    }
   ],
   "source": [
    "logModel"
   ]
  },
  {
   "cell_type": "code",
   "execution_count": 116,
   "id": "d582c8a2",
   "metadata": {},
   "outputs": [],
   "source": [
    "inputData=np.array([np.arange(-1,1,.0013)])\n",
    "response=inputData[0]"
   ]
  },
  {
   "cell_type": "code",
   "execution_count": 119,
   "id": "c76419f9",
   "metadata": {},
   "outputs": [
    {
     "data": {
      "text/plain": [
       "nan"
      ]
     },
     "execution_count": 119,
     "metadata": {},
     "output_type": "execute_result"
    }
   ],
   "source": [
    "totalSharpness(logModel,inputData,response,numPerturbations=4000,percentPerturbation=0.001)"
   ]
  },
  {
   "cell_type": "code",
   "execution_count": null,
   "id": "80aea863",
   "metadata": {},
   "outputs": [],
   "source": []
  },
  {
   "cell_type": "code",
   "execution_count": 85,
   "id": "15c1a42d",
   "metadata": {},
   "outputs": [
    {
     "data": {
      "image/png": "[encoded data removed]",
      "text/plain": [
       "<Figure size 1000x500 with 1 Axes>"
      ]
     },
     "metadata": {},
     "output_type": "display_data"
    }
   ],
   "source": [
    "import numpy as np\n",
    "import matplotlib.pyplot as plt \n",
    "\n",
    "\n",
    "# creating the dataset\n",
    "data = {'sqrt':1,'log':1,'tan':0.019145106,'exp':0.003388116,'tanh':0.000261726,'arctan':0.000241777,'sin':0.000190523,'sqrd':0.00007895,'inv':0.0000771814,'cos':0.000020363}\n",
    "courses = list(data.keys())\n",
    "values = list(data.values())\n",
    "\n",
    "fig = plt.figure(figsize = (10, 5))\n",
    "\n",
    "# creating the bar plot\n",
    "plt.bar(courses, values, color ='maroon', \n",
    "\t\twidth = 0.4)\n",
    "\n",
    "plt.xlabel(\"Function\")\n",
    "plt.ylabel(\"Sharpness\")\n",
    "plt.title(\"Sharpness for each function combined with itself [-1,1]\")\n",
    "plt.yscale(\"log\")\n",
    "plt.show()\n"
   ]
  },
  {
   "cell_type": "markdown",
   "id": "e6506ada",
   "metadata": {},
   "source": [
    "# Sin Function Combinations "
   ]
  },
  {
   "cell_type": "code",
   "execution_count": 2,
   "id": "1bb3edfe",
   "metadata": {},
   "outputs": [],
   "source": [
    "from StackGP import *\n",
    "import numpy as np"
   ]
  },
  {
   "cell_type": "code",
   "execution_count": 3,
   "id": "13593ea9",
   "metadata": {},
   "outputs": [],
   "source": [
    "operators=allOps()"
   ]
  },
  {
   "cell_type": "code",
   "execution_count": 4,
   "id": "9b592106",
   "metadata": {},
   "outputs": [],
   "source": [
    "#Define sine function to generate data\n",
    "def sinFunc(x0):\n",
    "    return np.sin(x0)"
   ]
  },
  {
   "cell_type": "code",
   "execution_count": 5,
   "id": "71d694c3",
   "metadata": {},
   "outputs": [],
   "source": [
    "sinModel=[np.array([operators[9],operators[4]]),[variableSelect(0)],[]]"
   ]
  },
  {
   "cell_type": "code",
   "execution_count": 6,
   "id": "2d27a5fa",
   "metadata": {},
   "outputs": [
    {
     "data": {
      "text/plain": [
       "[array([<function sin at 0x00000267FF9F8C20>,\n",
       "        <function exp at 0x00000267FF9F8900>], dtype=object),\n",
       " [<function StackGP.variableSelect.<locals>.<lambda>(variables)>],\n",
       " []]"
      ]
     },
     "execution_count": 6,
     "metadata": {},
     "output_type": "execute_result"
    }
   ],
   "source": [
    "sinModel"
   ]
  },
  {
   "cell_type": "code",
   "execution_count": 7,
   "id": "00d5a9c1",
   "metadata": {},
   "outputs": [],
   "source": [
    "inputData=np.array([np.arange(-1,1,.0013)])\n",
    "response=inputData[0]"
   ]
  },
  {
   "cell_type": "code",
   "execution_count": 8,
   "id": "c6d2f84b",
   "metadata": {},
   "outputs": [
    {
     "data": {
      "text/plain": [
       "0.002679290157182998"
      ]
     },
     "execution_count": 8,
     "metadata": {},
     "output_type": "execute_result"
    }
   ],
   "source": [
    "totalSharpness(sinModel,inputData,response,numPerturbations=5000,percentPerturbation=1)"
   ]
  },
  {
   "cell_type": "code",
   "execution_count": null,
   "id": "c53f342f",
   "metadata": {},
   "outputs": [],
   "source": []
  },
  {
   "cell_type": "code",
   "execution_count": 9,
   "id": "c3e1330f",
   "metadata": {},
   "outputs": [],
   "source": [
    "from StackGP import *\n",
    "import numpy as np"
   ]
  },
  {
   "cell_type": "code",
   "execution_count": 10,
   "id": "db513a02",
   "metadata": {},
   "outputs": [],
   "source": [
    "operators=allOps()"
   ]
  },
  {
   "cell_type": "code",
   "execution_count": 11,
   "id": "476f67ac",
   "metadata": {},
   "outputs": [],
   "source": [
    "#Define sine function to generate data\n",
    "def sinFunc(x0):\n",
    "    return np.sin(x0)"
   ]
  },
  {
   "cell_type": "code",
   "execution_count": 12,
   "id": "e4b11ab7",
   "metadata": {},
   "outputs": [],
   "source": [
    "sinModel=[np.array([operators[9],operators[5]]),[variableSelect(0)],[]]"
   ]
  },
  {
   "cell_type": "code",
   "execution_count": 13,
   "id": "3e72973d",
   "metadata": {},
   "outputs": [
    {
     "data": {
      "text/plain": [
       "[array([<function sin at 0x00000267FF9F8C20>,\n",
       "        <function sqrd at 0x00000267FF9F8AE0>], dtype=object),\n",
       " [<function StackGP.variableSelect.<locals>.<lambda>(variables)>],\n",
       " []]"
      ]
     },
     "execution_count": 13,
     "metadata": {},
     "output_type": "execute_result"
    }
   ],
   "source": [
    "sinModel"
   ]
  },
  {
   "cell_type": "code",
   "execution_count": 14,
   "id": "9071c91c",
   "metadata": {},
   "outputs": [],
   "source": [
    "inputData=np.array([np.arange(-1,1,.0013)])\n",
    "response=inputData[0]"
   ]
  },
  {
   "cell_type": "code",
   "execution_count": 15,
   "id": "77dc2019",
   "metadata": {},
   "outputs": [
    {
     "data": {
      "text/plain": [
       "0.0003593492929627884"
      ]
     },
     "execution_count": 15,
     "metadata": {},
     "output_type": "execute_result"
    }
   ],
   "source": [
    "totalSharpness(sinModel,inputData,response,numPerturbations=5000,percentPerturbation=1)"
   ]
  },
  {
   "cell_type": "code",
   "execution_count": null,
   "id": "c95740ed",
   "metadata": {},
   "outputs": [],
   "source": []
  },
  {
   "cell_type": "code",
   "execution_count": 16,
   "id": "9fdeca86",
   "metadata": {},
   "outputs": [],
   "source": [
    "from StackGP import *\n",
    "import numpy as np"
   ]
  },
  {
   "cell_type": "code",
   "execution_count": 17,
   "id": "70592b52",
   "metadata": {},
   "outputs": [],
   "source": [
    "operators=allOps()"
   ]
  },
  {
   "cell_type": "code",
   "execution_count": 18,
   "id": "f8e5078d",
   "metadata": {},
   "outputs": [],
   "source": [
    "#Define sine function to generate data\n",
    "def sinFunc(x0):\n",
    "    return np.sin(x0)"
   ]
  },
  {
   "cell_type": "code",
   "execution_count": 19,
   "id": "04605db2",
   "metadata": {},
   "outputs": [],
   "source": [
    "sinModel=[np.array([operators[9],operators[6]]),[variableSelect(0)],[]]"
   ]
  },
  {
   "cell_type": "code",
   "execution_count": 20,
   "id": "54637df6",
   "metadata": {},
   "outputs": [
    {
     "data": {
      "text/plain": [
       "[array([<function sin at 0x00000267FF9F8C20>,\n",
       "        <function sqrt at 0x00000267FF9F8A40>], dtype=object),\n",
       " [<function StackGP.variableSelect.<locals>.<lambda>(variables)>],\n",
       " []]"
      ]
     },
     "execution_count": 20,
     "metadata": {},
     "output_type": "execute_result"
    }
   ],
   "source": [
    "sinModel"
   ]
  },
  {
   "cell_type": "code",
   "execution_count": 21,
   "id": "34fc74e3",
   "metadata": {},
   "outputs": [],
   "source": [
    "inputData=np.array([np.arange(-1,1,.0013)])\n",
    "response=inputData[0]"
   ]
  },
  {
   "cell_type": "code",
   "execution_count": 23,
   "id": "5e7a16ed",
   "metadata": {},
   "outputs": [
    {
     "data": {
      "text/plain": [
       "nan"
      ]
     },
     "execution_count": 23,
     "metadata": {},
     "output_type": "execute_result"
    }
   ],
   "source": [
    "totalSharpness(sinModel,inputData,response,numPerturbations=5000,percentPerturbation=1)"
   ]
  },
  {
   "cell_type": "code",
   "execution_count": null,
   "id": "007c3f6e",
   "metadata": {},
   "outputs": [],
   "source": []
  },
  {
   "cell_type": "code",
   "execution_count": 24,
   "id": "5f713386",
   "metadata": {},
   "outputs": [],
   "source": [
    "from StackGP import *\n",
    "import numpy as np"
   ]
  },
  {
   "cell_type": "code",
   "execution_count": 25,
   "id": "369228c1",
   "metadata": {},
   "outputs": [],
   "source": [
    "operators=allOps()"
   ]
  },
  {
   "cell_type": "code",
   "execution_count": 26,
   "id": "337dcb4a",
   "metadata": {},
   "outputs": [],
   "source": [
    "#Define sine function to generate data\n",
    "def sinFunc(x0):\n",
    "    return np.sin(x0)"
   ]
  },
  {
   "cell_type": "code",
   "execution_count": 27,
   "id": "9fad86ee",
   "metadata": {},
   "outputs": [],
   "source": [
    "sinModel=[np.array([operators[9],operators[7]]),[variableSelect(0)],[]]"
   ]
  },
  {
   "cell_type": "code",
   "execution_count": 28,
   "id": "9c1df053",
   "metadata": {},
   "outputs": [
    {
     "data": {
      "text/plain": [
       "[array([<function sin at 0x00000267FF9F8C20>,\n",
       "        <function inv at 0x00000267FF9F8B80>], dtype=object),\n",
       " [<function StackGP.variableSelect.<locals>.<lambda>(variables)>],\n",
       " []]"
      ]
     },
     "execution_count": 28,
     "metadata": {},
     "output_type": "execute_result"
    }
   ],
   "source": [
    "sinModel"
   ]
  },
  {
   "cell_type": "code",
   "execution_count": 29,
   "id": "6618a839",
   "metadata": {},
   "outputs": [],
   "source": [
    "inputData=np.array([np.arange(-1,1,.0013)])\n",
    "response=inputData[0]"
   ]
  },
  {
   "cell_type": "code",
   "execution_count": 31,
   "id": "5c5cd1a6",
   "metadata": {},
   "outputs": [
    {
     "data": {
      "text/plain": [
       "0.0019132329736647078"
      ]
     },
     "execution_count": 31,
     "metadata": {},
     "output_type": "execute_result"
    }
   ],
   "source": [
    "totalSharpness(sinModel,inputData,response,numPerturbations=5000,percentPerturbation=1)"
   ]
  },
  {
   "cell_type": "code",
   "execution_count": null,
   "id": "bf6e1035",
   "metadata": {},
   "outputs": [],
   "source": []
  },
  {
   "cell_type": "code",
   "execution_count": 32,
   "id": "9a191258",
   "metadata": {},
   "outputs": [],
   "source": [
    "from StackGP import *\n",
    "import numpy as np"
   ]
  },
  {
   "cell_type": "code",
   "execution_count": 33,
   "id": "9694de68",
   "metadata": {},
   "outputs": [],
   "source": [
    "operators=allOps()"
   ]
  },
  {
   "cell_type": "code",
   "execution_count": 34,
   "id": "e5f1a062",
   "metadata": {},
   "outputs": [],
   "source": [
    "#Define sine function to generate data\n",
    "def sinFunc(x0):\n",
    "    return np.sin(x0)"
   ]
  },
  {
   "cell_type": "code",
   "execution_count": 35,
   "id": "a60fdc03",
   "metadata": {},
   "outputs": [],
   "source": [
    "sinModel=[np.array([operators[9],operators[8]]),[variableSelect(0)],[]]"
   ]
  },
  {
   "cell_type": "code",
   "execution_count": 36,
   "id": "8237e89b",
   "metadata": {},
   "outputs": [
    {
     "data": {
      "text/plain": [
       "[array([<function sin at 0x00000267FF9F8C20>,\n",
       "        <function cos at 0x00000267FF9F8CC0>], dtype=object),\n",
       " [<function StackGP.variableSelect.<locals>.<lambda>(variables)>],\n",
       " []]"
      ]
     },
     "execution_count": 36,
     "metadata": {},
     "output_type": "execute_result"
    }
   ],
   "source": [
    "sinModel"
   ]
  },
  {
   "cell_type": "code",
   "execution_count": 37,
   "id": "51694a35",
   "metadata": {},
   "outputs": [],
   "source": [
    "inputData=np.array([np.arange(-1,1,.0013)])\n",
    "response=inputData[0]"
   ]
  },
  {
   "cell_type": "code",
   "execution_count": 38,
   "id": "c56ea0b2",
   "metadata": {},
   "outputs": [
    {
     "data": {
      "text/plain": [
       "0.00033282115397836664"
      ]
     },
     "execution_count": 38,
     "metadata": {},
     "output_type": "execute_result"
    }
   ],
   "source": [
    "totalSharpness(sinModel,inputData,response,numPerturbations=5000,percentPerturbation=1)"
   ]
  },
  {
   "cell_type": "code",
   "execution_count": null,
   "id": "7d251c02",
   "metadata": {},
   "outputs": [],
   "source": []
  },
  {
   "cell_type": "code",
   "execution_count": 39,
   "id": "d321edd9",
   "metadata": {},
   "outputs": [],
   "source": [
    "from StackGP import *\n",
    "import numpy as np"
   ]
  },
  {
   "cell_type": "code",
   "execution_count": 40,
   "id": "a6a91443",
   "metadata": {},
   "outputs": [],
   "source": [
    "operators=allOps()"
   ]
  },
  {
   "cell_type": "code",
   "execution_count": 41,
   "id": "b2e905bf",
   "metadata": {},
   "outputs": [],
   "source": [
    "#Define sine function to generate data\n",
    "def sinFunc(x0):\n",
    "    return np.sin(x0)"
   ]
  },
  {
   "cell_type": "code",
   "execution_count": 42,
   "id": "3bcdf24c",
   "metadata": {},
   "outputs": [],
   "source": [
    "sinModel=[np.array([operators[9],operators[10]]),[variableSelect(0)],[]]"
   ]
  },
  {
   "cell_type": "code",
   "execution_count": 43,
   "id": "7c1e6fba",
   "metadata": {},
   "outputs": [
    {
     "data": {
      "text/plain": [
       "[array([<function sin at 0x00000267FF9F8C20>,\n",
       "        <function tan at 0x00000267FF9F8D60>], dtype=object),\n",
       " [<function StackGP.variableSelect.<locals>.<lambda>(variables)>],\n",
       " []]"
      ]
     },
     "execution_count": 43,
     "metadata": {},
     "output_type": "execute_result"
    }
   ],
   "source": [
    "sinModel"
   ]
  },
  {
   "cell_type": "code",
   "execution_count": 44,
   "id": "aeb6fc79",
   "metadata": {},
   "outputs": [],
   "source": [
    "inputData=np.array([np.arange(-1,1,.0013)])\n",
    "response=inputData[0]"
   ]
  },
  {
   "cell_type": "code",
   "execution_count": 45,
   "id": "028ef06b",
   "metadata": {},
   "outputs": [
    {
     "data": {
      "text/plain": [
       "0.002068583919636003"
      ]
     },
     "execution_count": 45,
     "metadata": {},
     "output_type": "execute_result"
    }
   ],
   "source": [
    "totalSharpness(sinModel,inputData,response,numPerturbations=5000,percentPerturbation=1)"
   ]
  },
  {
   "cell_type": "code",
   "execution_count": null,
   "id": "832489a4",
   "metadata": {},
   "outputs": [],
   "source": []
  },
  {
   "cell_type": "code",
   "execution_count": 46,
   "id": "44a2ab1e",
   "metadata": {},
   "outputs": [],
   "source": [
    "from StackGP import *\n",
    "import numpy as np"
   ]
  },
  {
   "cell_type": "code",
   "execution_count": 47,
   "id": "820e6fc4",
   "metadata": {},
   "outputs": [],
   "source": [
    "operators=allOps()"
   ]
  },
  {
   "cell_type": "code",
   "execution_count": 48,
   "id": "fe7d443c",
   "metadata": {},
   "outputs": [],
   "source": [
    "#Define sine function to generate data\n",
    "def sinFunc(x0):\n",
    "    return np.sin(x0)"
   ]
  },
  {
   "cell_type": "code",
   "execution_count": 49,
   "id": "14c45d0e",
   "metadata": {},
   "outputs": [],
   "source": [
    "sinModel=[np.array([operators[9],operators[13]]),[variableSelect(0)],[]]"
   ]
  },
  {
   "cell_type": "code",
   "execution_count": 50,
   "id": "f4181ee7",
   "metadata": {},
   "outputs": [
    {
     "data": {
      "text/plain": [
       "[array([<function sin at 0x00000267FF9F8C20>,\n",
       "        <function arctan at 0x00000267FF9F8F40>], dtype=object),\n",
       " [<function StackGP.variableSelect.<locals>.<lambda>(variables)>],\n",
       " []]"
      ]
     },
     "execution_count": 50,
     "metadata": {},
     "output_type": "execute_result"
    }
   ],
   "source": [
    "sinModel"
   ]
  },
  {
   "cell_type": "code",
   "execution_count": 51,
   "id": "68892b29",
   "metadata": {},
   "outputs": [],
   "source": [
    "inputData=np.array([np.arange(-1,1,.0013)])\n",
    "response=inputData[0]"
   ]
  },
  {
   "cell_type": "code",
   "execution_count": 52,
   "id": "17782c91",
   "metadata": {},
   "outputs": [
    {
     "data": {
      "text/plain": [
       "0.0018155921955013445"
      ]
     },
     "execution_count": 52,
     "metadata": {},
     "output_type": "execute_result"
    }
   ],
   "source": [
    "totalSharpness(sinModel,inputData,response,numPerturbations=5000,percentPerturbation=1)"
   ]
  },
  {
   "cell_type": "code",
   "execution_count": null,
   "id": "93815f78",
   "metadata": {},
   "outputs": [],
   "source": []
  },
  {
   "cell_type": "code",
   "execution_count": 53,
   "id": "9f2ee74a",
   "metadata": {},
   "outputs": [],
   "source": [
    "from StackGP import *\n",
    "import numpy as np"
   ]
  },
  {
   "cell_type": "code",
   "execution_count": 54,
   "id": "0dad6f48",
   "metadata": {},
   "outputs": [],
   "source": [
    "operators=allOps()"
   ]
  },
  {
   "cell_type": "code",
   "execution_count": 55,
   "id": "6ef772ba",
   "metadata": {},
   "outputs": [],
   "source": [
    "#Define sine function to generate data\n",
    "def sinFunc(x0):\n",
    "    return np.sin(x0)"
   ]
  },
  {
   "cell_type": "code",
   "execution_count": 56,
   "id": "26f7d04c",
   "metadata": {},
   "outputs": [],
   "source": [
    "sinModel=[np.array([operators[9],operators[14]]),[variableSelect(0)],[]]"
   ]
  },
  {
   "cell_type": "code",
   "execution_count": 57,
   "id": "8b5c9393",
   "metadata": {},
   "outputs": [
    {
     "data": {
      "text/plain": [
       "[array([<function sin at 0x00000267FF9F8C20>,\n",
       "        <function tanh at 0x00000267FF9F8FE0>], dtype=object),\n",
       " [<function StackGP.variableSelect.<locals>.<lambda>(variables)>],\n",
       " []]"
      ]
     },
     "execution_count": 57,
     "metadata": {},
     "output_type": "execute_result"
    }
   ],
   "source": [
    "sinModel"
   ]
  },
  {
   "cell_type": "code",
   "execution_count": 58,
   "id": "c5e46f77",
   "metadata": {},
   "outputs": [],
   "source": [
    "inputData=np.array([np.arange(-1,1,.0013)])\n",
    "response=inputData[0]"
   ]
  },
  {
   "cell_type": "code",
   "execution_count": 59,
   "id": "39322201",
   "metadata": {},
   "outputs": [
    {
     "data": {
      "text/plain": [
       "0.001793328319656794"
      ]
     },
     "execution_count": 59,
     "metadata": {},
     "output_type": "execute_result"
    }
   ],
   "source": [
    "totalSharpness(sinModel,inputData,response,numPerturbations=5000,percentPerturbation=1)"
   ]
  },
  {
   "cell_type": "code",
   "execution_count": null,
   "id": "7920e12e",
   "metadata": {},
   "outputs": [],
   "source": []
  },
  {
   "cell_type": "code",
   "execution_count": 60,
   "id": "98a95aaf",
   "metadata": {},
   "outputs": [],
   "source": [
    "from StackGP import *\n",
    "import numpy as np"
   ]
  },
  {
   "cell_type": "code",
   "execution_count": 61,
   "id": "1ff9c2f0",
   "metadata": {},
   "outputs": [],
   "source": [
    "operators=allOps()"
   ]
  },
  {
   "cell_type": "code",
   "execution_count": 62,
   "id": "eed4b351",
   "metadata": {},
   "outputs": [],
   "source": [
    "#Define sine function to generate data\n",
    "def sinFunc(x0):\n",
    "    return np.sin(x0)"
   ]
  },
  {
   "cell_type": "code",
   "execution_count": 63,
   "id": "ec01de1a",
   "metadata": {},
   "outputs": [],
   "source": [
    "sinModel=[np.array([operators[9],operators[15]]),[variableSelect(0)],[]]"
   ]
  },
  {
   "cell_type": "code",
   "execution_count": 64,
   "id": "2befe005",
   "metadata": {},
   "outputs": [
    {
     "data": {
      "text/plain": [
       "[array([<function sin at 0x00000267FF9F8C20>,\n",
       "        <function log at 0x00000267FF9F9080>], dtype=object),\n",
       " [<function StackGP.variableSelect.<locals>.<lambda>(variables)>],\n",
       " []]"
      ]
     },
     "execution_count": 64,
     "metadata": {},
     "output_type": "execute_result"
    }
   ],
   "source": [
    "sinModel"
   ]
  },
  {
   "cell_type": "code",
   "execution_count": 65,
   "id": "9d6c1de5",
   "metadata": {},
   "outputs": [],
   "source": [
    "inputData=np.array([np.arange(-1,1,.0013)])\n",
    "response=inputData[0]"
   ]
  },
  {
   "cell_type": "code",
   "execution_count": 66,
   "id": "d5a7601c",
   "metadata": {},
   "outputs": [
    {
     "data": {
      "text/plain": [
       "nan"
      ]
     },
     "execution_count": 66,
     "metadata": {},
     "output_type": "execute_result"
    }
   ],
   "source": [
    "totalSharpness(sinModel,inputData,response,numPerturbations=5000,percentPerturbation=1)"
   ]
  },
  {
   "cell_type": "code",
   "execution_count": 67,
   "id": "bb093b0f",
   "metadata": {},
   "outputs": [
    {
     "data": {
      "image/png": "[encoded data removed]",
      "text/plain": [
       "<Figure size 1000x500 with 1 Axes>"
      ]
     },
     "metadata": {},
     "output_type": "display_data"
    }
   ],
   "source": [
    "import numpy as np\n",
    "import matplotlib.pyplot as plt \n",
    "\n",
    " \n",
    "# creating the dataset\n",
    "data = {'exp':0.00267929,'sqrd':0.00035934,'sqrt':1,'inv':0.0019132,'cos':0.0003328,'tan':0.002068,'arctan':0.0018155,'tanh':0.001793,'log':1}\n",
    "courses = list(data.keys())\n",
    "values = list(data.values())\n",
    " \n",
    "fig = plt.figure(figsize = (10, 5))\n",
    "\n",
    "# creating the bar plot\n",
    "plt.bar(courses, values, color ='maroon', \n",
    "        width = 0.4)\n",
    "\n",
    "plt.xlabel(\"percentPerturbation\")\n",
    "plt.ylabel(\"Sharpness\")\n",
    "plt.title(\"Change in numPerturbation for Sin Function\")\n",
    "plt.yscale(\"log\")\n",
    "plt.show()\n"
   ]
  },
  {
   "cell_type": "markdown",
   "id": "368d434d",
   "metadata": {},
   "source": [
    "# Cos Function Combinations"
   ]
  },
  {
   "cell_type": "code",
   "execution_count": 68,
   "id": "c0eaf1c9",
   "metadata": {},
   "outputs": [],
   "source": [
    "from StackGP import *\n",
    "import numpy as np"
   ]
  },
  {
   "cell_type": "code",
   "execution_count": 69,
   "id": "9e182398",
   "metadata": {},
   "outputs": [],
   "source": [
    "operators=allOps()"
   ]
  },
  {
   "cell_type": "code",
   "execution_count": 70,
   "id": "d43b6f5e",
   "metadata": {},
   "outputs": [],
   "source": [
    "#Define cosine function to generate data\n",
    "def cosFunc(x0):\n",
    "    return np.cos(x0)"
   ]
  },
  {
   "cell_type": "code",
   "execution_count": 71,
   "id": "b0a61b87",
   "metadata": {},
   "outputs": [],
   "source": [
    "cosModel=[np.array([operators[8],operators[4]]),[variableSelect(0)],[]]"
   ]
  },
  {
   "cell_type": "code",
   "execution_count": 72,
   "id": "4216e75e",
   "metadata": {},
   "outputs": [
    {
     "data": {
      "text/plain": [
       "[array([<function cos at 0x00000267FF9F8CC0>,\n",
       "        <function exp at 0x00000267FF9F8900>], dtype=object),\n",
       " [<function StackGP.variableSelect.<locals>.<lambda>(variables)>],\n",
       " []]"
      ]
     },
     "execution_count": 72,
     "metadata": {},
     "output_type": "execute_result"
    }
   ],
   "source": [
    "cosModel"
   ]
  },
  {
   "cell_type": "code",
   "execution_count": 73,
   "id": "37021a5d",
   "metadata": {},
   "outputs": [],
   "source": [
    "inputData=np.array([np.arange(-1,1,.0013)])\n",
    "response=inputData[0]"
   ]
  },
  {
   "cell_type": "code",
   "execution_count": 75,
   "id": "6e56f0b9",
   "metadata": {},
   "outputs": [
    {
     "data": {
      "text/plain": [
       "0.0003727666617275427"
      ]
     },
     "execution_count": 75,
     "metadata": {},
     "output_type": "execute_result"
    }
   ],
   "source": [
    "totalSharpness(cosModel,inputData,response,numPerturbations=5000,percentPerturbation=1)"
   ]
  },
  {
   "cell_type": "code",
   "execution_count": null,
   "id": "0529ed58",
   "metadata": {},
   "outputs": [],
   "source": []
  },
  {
   "cell_type": "code",
   "execution_count": 76,
   "id": "4a95de90",
   "metadata": {},
   "outputs": [],
   "source": [
    "from StackGP import *\n",
    "import numpy as np"
   ]
  },
  {
   "cell_type": "code",
   "execution_count": 77,
   "id": "c859cc64",
   "metadata": {},
   "outputs": [],
   "source": [
    "operators=allOps()"
   ]
  },
  {
   "cell_type": "code",
   "execution_count": 78,
   "id": "970a0a81",
   "metadata": {},
   "outputs": [],
   "source": [
    "#Define cosine function to generate data\n",
    "def cosFunc(x0):\n",
    "    return np.cos(x0)"
   ]
  },
  {
   "cell_type": "code",
   "execution_count": 79,
   "id": "18e27632",
   "metadata": {},
   "outputs": [],
   "source": [
    "cosModel=[np.array([operators[8],operators[5]]),[variableSelect(0)],[]]"
   ]
  },
  {
   "cell_type": "code",
   "execution_count": 80,
   "id": "987376e5",
   "metadata": {},
   "outputs": [
    {
     "data": {
      "text/plain": [
       "[array([<function cos at 0x00000267FF9F8CC0>,\n",
       "        <function sqrd at 0x00000267FF9F8AE0>], dtype=object),\n",
       " [<function StackGP.variableSelect.<locals>.<lambda>(variables)>],\n",
       " []]"
      ]
     },
     "execution_count": 80,
     "metadata": {},
     "output_type": "execute_result"
    }
   ],
   "source": [
    "cosModel"
   ]
  },
  {
   "cell_type": "code",
   "execution_count": 81,
   "id": "93c196ba",
   "metadata": {},
   "outputs": [],
   "source": [
    "inputData=np.array([np.arange(-1,1,.0013)])\n",
    "response=inputData[0]"
   ]
  },
  {
   "cell_type": "code",
   "execution_count": 82,
   "id": "a4594eab",
   "metadata": {},
   "outputs": [
    {
     "data": {
      "text/plain": [
       "0.00037226391926430954"
      ]
     },
     "execution_count": 82,
     "metadata": {},
     "output_type": "execute_result"
    }
   ],
   "source": [
    "totalSharpness(cosModel,inputData,response,numPerturbations=5000,percentPerturbation=1)"
   ]
  },
  {
   "cell_type": "code",
   "execution_count": null,
   "id": "c9ecfb0e",
   "metadata": {},
   "outputs": [],
   "source": []
  },
  {
   "cell_type": "code",
   "execution_count": 83,
   "id": "ed84dcb7",
   "metadata": {},
   "outputs": [],
   "source": [
    "from StackGP import *\n",
    "import numpy as np"
   ]
  },
  {
   "cell_type": "code",
   "execution_count": 84,
   "id": "3e68383d",
   "metadata": {},
   "outputs": [],
   "source": [
    "operators=allOps()"
   ]
  },
  {
   "cell_type": "code",
   "execution_count": 85,
   "id": "a4a8f1bc",
   "metadata": {},
   "outputs": [],
   "source": [
    "#Define cosine function to generate data\n",
    "def cosFunc(x0):\n",
    "    return np.cos(x0)"
   ]
  },
  {
   "cell_type": "code",
   "execution_count": 86,
   "id": "04cfb94f",
   "metadata": {},
   "outputs": [],
   "source": [
    "cosModel=[np.array([operators[8],operators[6]]),[variableSelect(0)],[]]"
   ]
  },
  {
   "cell_type": "code",
   "execution_count": 87,
   "id": "d7432e63",
   "metadata": {},
   "outputs": [
    {
     "data": {
      "text/plain": [
       "[array([<function cos at 0x00000267FF9F8CC0>,\n",
       "        <function sqrt at 0x00000267FF9F8A40>], dtype=object),\n",
       " [<function StackGP.variableSelect.<locals>.<lambda>(variables)>],\n",
       " []]"
      ]
     },
     "execution_count": 87,
     "metadata": {},
     "output_type": "execute_result"
    }
   ],
   "source": [
    "cosModel"
   ]
  },
  {
   "cell_type": "code",
   "execution_count": 88,
   "id": "1f68c2aa",
   "metadata": {},
   "outputs": [],
   "source": [
    "inputData=np.array([np.arange(-1,1,.0013)])\n",
    "response=inputData[0]"
   ]
  },
  {
   "cell_type": "code",
   "execution_count": 89,
   "id": "2e72330c",
   "metadata": {},
   "outputs": [
    {
     "data": {
      "text/plain": [
       "0.0005100920915412306"
      ]
     },
     "execution_count": 89,
     "metadata": {},
     "output_type": "execute_result"
    }
   ],
   "source": [
    "totalSharpness(cosModel,inputData,response,numPerturbations=5000,percentPerturbation=1)"
   ]
  },
  {
   "cell_type": "code",
   "execution_count": null,
   "id": "0b30db2e",
   "metadata": {},
   "outputs": [],
   "source": []
  },
  {
   "cell_type": "code",
   "execution_count": 90,
   "id": "d85c814d",
   "metadata": {},
   "outputs": [],
   "source": [
    "from StackGP import *\n",
    "import numpy as np"
   ]
  },
  {
   "cell_type": "code",
   "execution_count": 91,
   "id": "7341a26a",
   "metadata": {},
   "outputs": [],
   "source": [
    "operators=allOps()"
   ]
  },
  {
   "cell_type": "code",
   "execution_count": 92,
   "id": "2b4faea7",
   "metadata": {},
   "outputs": [],
   "source": [
    "#Define cosine function to generate data\n",
    "def cosFunc(x0):\n",
    "    return np.cos(x0)"
   ]
  },
  {
   "cell_type": "code",
   "execution_count": 93,
   "id": "f1476afd",
   "metadata": {},
   "outputs": [],
   "source": [
    "cosModel=[np.array([operators[8],operators[7]]),[variableSelect(0)],[]]"
   ]
  },
  {
   "cell_type": "code",
   "execution_count": 94,
   "id": "f6d94269",
   "metadata": {},
   "outputs": [
    {
     "data": {
      "text/plain": [
       "[array([<function cos at 0x00000267FF9F8CC0>,\n",
       "        <function inv at 0x00000267FF9F8B80>], dtype=object),\n",
       " [<function StackGP.variableSelect.<locals>.<lambda>(variables)>],\n",
       " []]"
      ]
     },
     "execution_count": 94,
     "metadata": {},
     "output_type": "execute_result"
    }
   ],
   "source": [
    "cosModel"
   ]
  },
  {
   "cell_type": "code",
   "execution_count": 95,
   "id": "26d83470",
   "metadata": {},
   "outputs": [],
   "source": [
    "inputData=np.array([np.arange(-1,1,.0013)])\n",
    "response=inputData[0]"
   ]
  },
  {
   "cell_type": "code",
   "execution_count": 97,
   "id": "50589d3a",
   "metadata": {},
   "outputs": [
    {
     "data": {
      "text/plain": [
       "0.0008365100348328726"
      ]
     },
     "execution_count": 97,
     "metadata": {},
     "output_type": "execute_result"
    }
   ],
   "source": [
    "totalSharpness(cosModel,inputData,response,numPerturbations=5000,percentPerturbation=1)"
   ]
  },
  {
   "cell_type": "code",
   "execution_count": null,
   "id": "137c0c45",
   "metadata": {},
   "outputs": [],
   "source": []
  },
  {
   "cell_type": "code",
   "execution_count": 98,
   "id": "84dcea66",
   "metadata": {},
   "outputs": [],
   "source": [
    "from StackGP import *\n",
    "import numpy as np"
   ]
  },
  {
   "cell_type": "code",
   "execution_count": 99,
   "id": "c523d9cd",
   "metadata": {},
   "outputs": [],
   "source": [
    "operators=allOps()"
   ]
  },
  {
   "cell_type": "code",
   "execution_count": 100,
   "id": "07d086dd",
   "metadata": {},
   "outputs": [],
   "source": [
    "#Define cosine function to generate data\n",
    "def cosFunc(x0):\n",
    "    return np.cos(x0)"
   ]
  },
  {
   "cell_type": "code",
   "execution_count": 101,
   "id": "5e2d1f28",
   "metadata": {},
   "outputs": [],
   "source": [
    "cosModel=[np.array([operators[8],operators[9]]),[variableSelect(0)],[]]"
   ]
  },
  {
   "cell_type": "code",
   "execution_count": 102,
   "id": "422c929a",
   "metadata": {},
   "outputs": [
    {
     "data": {
      "text/plain": [
       "[array([<function cos at 0x00000267FF9F8CC0>,\n",
       "        <function sin at 0x00000267FF9F8C20>], dtype=object),\n",
       " [<function StackGP.variableSelect.<locals>.<lambda>(variables)>],\n",
       " []]"
      ]
     },
     "execution_count": 102,
     "metadata": {},
     "output_type": "execute_result"
    }
   ],
   "source": [
    "cosModel"
   ]
  },
  {
   "cell_type": "code",
   "execution_count": 103,
   "id": "80390773",
   "metadata": {},
   "outputs": [],
   "source": [
    "inputData=np.array([np.arange(-1,1,.0013)])\n",
    "response=inputData[0]"
   ]
  },
  {
   "cell_type": "code",
   "execution_count": 104,
   "id": "dbc15be9",
   "metadata": {},
   "outputs": [
    {
     "data": {
      "text/plain": [
       "0.0005302902792676301"
      ]
     },
     "execution_count": 104,
     "metadata": {},
     "output_type": "execute_result"
    }
   ],
   "source": [
    "totalSharpness(cosModel,inputData,response,numPerturbations=5000,percentPerturbation=1)"
   ]
  },
  {
   "cell_type": "code",
   "execution_count": null,
   "id": "755448c7",
   "metadata": {},
   "outputs": [],
   "source": []
  },
  {
   "cell_type": "code",
   "execution_count": 105,
   "id": "0b909975",
   "metadata": {},
   "outputs": [],
   "source": [
    "from StackGP import *\n",
    "import numpy as np"
   ]
  },
  {
   "cell_type": "code",
   "execution_count": 106,
   "id": "db72a7a9",
   "metadata": {},
   "outputs": [],
   "source": [
    "operators=allOps()"
   ]
  },
  {
   "cell_type": "code",
   "execution_count": 107,
   "id": "a1b7fd51",
   "metadata": {},
   "outputs": [],
   "source": [
    "#Define cosine function to generate data\n",
    "def cosFunc(x0):\n",
    "    return np.cos(x0)"
   ]
  },
  {
   "cell_type": "code",
   "execution_count": 108,
   "id": "4a643371",
   "metadata": {},
   "outputs": [],
   "source": [
    "cosModel=[np.array([operators[8],operators[10]]),[variableSelect(0)],[]]"
   ]
  },
  {
   "cell_type": "code",
   "execution_count": 109,
   "id": "41bae65b",
   "metadata": {},
   "outputs": [
    {
     "data": {
      "text/plain": [
       "[array([<function cos at 0x00000267FF9F8CC0>,\n",
       "        <function tan at 0x00000267FF9F8D60>], dtype=object),\n",
       " [<function StackGP.variableSelect.<locals>.<lambda>(variables)>],\n",
       " []]"
      ]
     },
     "execution_count": 109,
     "metadata": {},
     "output_type": "execute_result"
    }
   ],
   "source": [
    "cosModel"
   ]
  },
  {
   "cell_type": "code",
   "execution_count": 110,
   "id": "9b311f18",
   "metadata": {},
   "outputs": [],
   "source": [
    "inputData=np.array([np.arange(-1,1,.0013)])\n",
    "response=inputData[0]"
   ]
  },
  {
   "cell_type": "code",
   "execution_count": 111,
   "id": "44b2cf85",
   "metadata": {},
   "outputs": [
    {
     "data": {
      "text/plain": [
       "0.0003158912441952587"
      ]
     },
     "execution_count": 111,
     "metadata": {},
     "output_type": "execute_result"
    }
   ],
   "source": [
    "totalSharpness(cosModel,inputData,response,numPerturbations=5000,percentPerturbation=1)"
   ]
  },
  {
   "cell_type": "code",
   "execution_count": null,
   "id": "3edb911c",
   "metadata": {},
   "outputs": [],
   "source": []
  },
  {
   "cell_type": "code",
   "execution_count": 112,
   "id": "52343c78",
   "metadata": {},
   "outputs": [],
   "source": [
    "from StackGP import *\n",
    "import numpy as np"
   ]
  },
  {
   "cell_type": "code",
   "execution_count": 113,
   "id": "4b586497",
   "metadata": {},
   "outputs": [],
   "source": [
    "operators=allOps()"
   ]
  },
  {
   "cell_type": "code",
   "execution_count": 114,
   "id": "4e919ed8",
   "metadata": {},
   "outputs": [],
   "source": [
    "#Define cosine function to generate data\n",
    "def cosFunc(x0):\n",
    "    return np.cos(x0)"
   ]
  },
  {
   "cell_type": "code",
   "execution_count": 115,
   "id": "b5f500e0",
   "metadata": {},
   "outputs": [],
   "source": [
    "cosModel=[np.array([operators[8],operators[13]]),[variableSelect(0)],[]]"
   ]
  },
  {
   "cell_type": "code",
   "execution_count": 116,
   "id": "dc0284fd",
   "metadata": {},
   "outputs": [
    {
     "data": {
      "text/plain": [
       "[array([<function cos at 0x00000267FF9F8CC0>,\n",
       "        <function arctan at 0x00000267FF9F8F40>], dtype=object),\n",
       " [<function StackGP.variableSelect.<locals>.<lambda>(variables)>],\n",
       " []]"
      ]
     },
     "execution_count": 116,
     "metadata": {},
     "output_type": "execute_result"
    }
   ],
   "source": [
    "cosModel"
   ]
  },
  {
   "cell_type": "code",
   "execution_count": 117,
   "id": "6a464cae",
   "metadata": {},
   "outputs": [],
   "source": [
    "inputData=np.array([np.arange(-1,1,.0013)])\n",
    "response=inputData[0]"
   ]
  },
  {
   "cell_type": "code",
   "execution_count": 119,
   "id": "fe893aa4",
   "metadata": {},
   "outputs": [
    {
     "data": {
      "text/plain": [
       "0.0005523661677148026"
      ]
     },
     "execution_count": 119,
     "metadata": {},
     "output_type": "execute_result"
    }
   ],
   "source": [
    "totalSharpness(cosModel,inputData,response,numPerturbations=5000,percentPerturbation=1)"
   ]
  },
  {
   "cell_type": "code",
   "execution_count": null,
   "id": "32cadd6f",
   "metadata": {},
   "outputs": [],
   "source": []
  },
  {
   "cell_type": "code",
   "execution_count": 120,
   "id": "46c6583b",
   "metadata": {},
   "outputs": [],
   "source": [
    "from StackGP import *\n",
    "import numpy as np"
   ]
  },
  {
   "cell_type": "code",
   "execution_count": 121,
   "id": "67365c3d",
   "metadata": {},
   "outputs": [],
   "source": [
    "operators=allOps()"
   ]
  },
  {
   "cell_type": "code",
   "execution_count": 122,
   "id": "9742a7cf",
   "metadata": {},
   "outputs": [],
   "source": [
    "#Define cosine function to generate data\n",
    "def cosFunc(x0):\n",
    "    return np.cos(x0)"
   ]
  },
  {
   "cell_type": "code",
   "execution_count": 123,
   "id": "073b514c",
   "metadata": {},
   "outputs": [],
   "source": [
    "cosModel=[np.array([operators[8],operators[14]]),[variableSelect(0)],[]]"
   ]
  },
  {
   "cell_type": "code",
   "execution_count": 124,
   "id": "1ba11e59",
   "metadata": {},
   "outputs": [
    {
     "data": {
      "text/plain": [
       "[array([<function cos at 0x00000267FF9F8CC0>,\n",
       "        <function tanh at 0x00000267FF9F8FE0>], dtype=object),\n",
       " [<function StackGP.variableSelect.<locals>.<lambda>(variables)>],\n",
       " []]"
      ]
     },
     "execution_count": 124,
     "metadata": {},
     "output_type": "execute_result"
    }
   ],
   "source": [
    "cosModel"
   ]
  },
  {
   "cell_type": "code",
   "execution_count": 125,
   "id": "2622433d",
   "metadata": {},
   "outputs": [],
   "source": [
    "inputData=np.array([np.arange(-1,1,.0013)])\n",
    "response=inputData[0]"
   ]
  },
  {
   "cell_type": "code",
   "execution_count": 126,
   "id": "ac12179d",
   "metadata": {},
   "outputs": [
    {
     "data": {
      "text/plain": [
       "0.000548642883988453"
      ]
     },
     "execution_count": 126,
     "metadata": {},
     "output_type": "execute_result"
    }
   ],
   "source": [
    "totalSharpness(cosModel,inputData,response,numPerturbations=5000,percentPerturbation=1)"
   ]
  },
  {
   "cell_type": "code",
   "execution_count": null,
   "id": "eaebd3b1",
   "metadata": {},
   "outputs": [],
   "source": []
  },
  {
   "cell_type": "code",
   "execution_count": 127,
   "id": "5bf295c3",
   "metadata": {},
   "outputs": [],
   "source": [
    "from StackGP import *\n",
    "import numpy as np"
   ]
  },
  {
   "cell_type": "code",
   "execution_count": 128,
   "id": "6efb9e18",
   "metadata": {},
   "outputs": [],
   "source": [
    "operators=allOps()"
   ]
  },
  {
   "cell_type": "code",
   "execution_count": 129,
   "id": "719ffb0f",
   "metadata": {},
   "outputs": [],
   "source": [
    "#Define cosine function to generate data\n",
    "def cosFunc(x0):\n",
    "    return np.cos(x0)"
   ]
  },
  {
   "cell_type": "code",
   "execution_count": 130,
   "id": "21e99090",
   "metadata": {},
   "outputs": [],
   "source": [
    "cosModel=[np.array([operators[8],operators[15]]),[variableSelect(0)],[]]"
   ]
  },
  {
   "cell_type": "code",
   "execution_count": 131,
   "id": "aad5a66b",
   "metadata": {},
   "outputs": [
    {
     "data": {
      "text/plain": [
       "[array([<function cos at 0x00000267FF9F8CC0>,\n",
       "        <function log at 0x00000267FF9F9080>], dtype=object),\n",
       " [<function StackGP.variableSelect.<locals>.<lambda>(variables)>],\n",
       " []]"
      ]
     },
     "execution_count": 131,
     "metadata": {},
     "output_type": "execute_result"
    }
   ],
   "source": [
    "cosModel"
   ]
  },
  {
   "cell_type": "code",
   "execution_count": 132,
   "id": "1ae4fa8c",
   "metadata": {},
   "outputs": [],
   "source": [
    "inputData=np.array([np.arange(-1,1,.0013)])\n",
    "response=inputData[0]"
   ]
  },
  {
   "cell_type": "code",
   "execution_count": 133,
   "id": "cdeff37d",
   "metadata": {},
   "outputs": [
    {
     "data": {
      "text/plain": [
       "0.0006260243631162019"
      ]
     },
     "execution_count": 133,
     "metadata": {},
     "output_type": "execute_result"
    }
   ],
   "source": [
    "totalSharpness(cosModel,inputData,response,numPerturbations=5000,percentPerturbation=1)"
   ]
  },
  {
   "cell_type": "code",
   "execution_count": 134,
   "id": "c2b4003b",
   "metadata": {},
   "outputs": [
    {
     "data": {
      "image/png": "[encoded data removed]",
      "text/plain": [
       "<Figure size 1000x500 with 1 Axes>"
      ]
     },
     "metadata": {},
     "output_type": "display_data"
    }
   ],
   "source": [
    "import numpy as np\n",
    "import matplotlib.pyplot as plt \n",
    "\n",
    " \n",
    "# creating the dataset\n",
    "data = {'exp':0.0003727,'sqrd':0.0003722,'sqrt':0.00051009,'inv':0.00083651,'cos':0.0005302,'tan':0.00031589,'arctan':0.000552366,'tanh':0.00054864,'log':0.00062602}\n",
    "courses = list(data.keys())\n",
    "values = list(data.values())\n",
    " \n",
    "fig = plt.figure(figsize = (10, 5))\n",
    "\n",
    "# creating the bar plot\n",
    "plt.bar(courses, values, color ='maroon', \n",
    "        width = 0.4)\n",
    "\n",
    "plt.xlabel(\"percentPerturbation\")\n",
    "plt.ylabel(\"Sharpness\")\n",
    "plt.title(\"Change in numPerturbation for Cos Function\")\n",
    "plt.yscale(\"log\")\n",
    "plt.show()\n"
   ]
  },
  {
   "cell_type": "markdown",
   "id": "3953303e",
   "metadata": {},
   "source": [
    "# Tan Function Combinations"
   ]
  },
  {
   "cell_type": "code",
   "execution_count": 135,
   "id": "c2ded3d2",
   "metadata": {},
   "outputs": [],
   "source": [
    "from StackGP import *\n",
    "import numpy as np"
   ]
  },
  {
   "cell_type": "code",
   "execution_count": 136,
   "id": "7bb4ff28",
   "metadata": {},
   "outputs": [],
   "source": [
    "operators=allOps()"
   ]
  },
  {
   "cell_type": "code",
   "execution_count": 137,
   "id": "5c272e86",
   "metadata": {},
   "outputs": [],
   "source": [
    "#Define tangent function to generate data\n",
    "def tanFunc(x0):\n",
    "    return np.tan(x0)"
   ]
  },
  {
   "cell_type": "code",
   "execution_count": 138,
   "id": "e439fa9b",
   "metadata": {},
   "outputs": [],
   "source": [
    "tanModel=[np.array([operators[10],operators[4]]),[variableSelect(0)],[]]"
   ]
  },
  {
   "cell_type": "code",
   "execution_count": 139,
   "id": "0e497a7a",
   "metadata": {},
   "outputs": [
    {
     "data": {
      "text/plain": [
       "[array([<function tan at 0x00000267FF9F8D60>,\n",
       "        <function exp at 0x00000267FF9F8900>], dtype=object),\n",
       " [<function StackGP.variableSelect.<locals>.<lambda>(variables)>],\n",
       " []]"
      ]
     },
     "execution_count": 139,
     "metadata": {},
     "output_type": "execute_result"
    }
   ],
   "source": [
    "tanModel"
   ]
  },
  {
   "cell_type": "code",
   "execution_count": 140,
   "id": "4b37111e",
   "metadata": {},
   "outputs": [],
   "source": [
    "inputData=np.array([np.arange(-1,1,.0013)])\n",
    "response=inputData[0]"
   ]
  },
  {
   "cell_type": "code",
   "execution_count": 141,
   "id": "ba33c450",
   "metadata": {},
   "outputs": [
    {
     "data": {
      "text/plain": [
       "0.037143663200760464"
      ]
     },
     "execution_count": 141,
     "metadata": {},
     "output_type": "execute_result"
    }
   ],
   "source": [
    "totalSharpness(tanModel,inputData,response,numPerturbations=5000,percentPerturbation=1)"
   ]
  },
  {
   "cell_type": "code",
   "execution_count": null,
   "id": "8adf1189",
   "metadata": {},
   "outputs": [],
   "source": []
  },
  {
   "cell_type": "code",
   "execution_count": 142,
   "id": "15a8c810",
   "metadata": {},
   "outputs": [],
   "source": [
    "from StackGP import *\n",
    "import numpy as np"
   ]
  },
  {
   "cell_type": "code",
   "execution_count": 143,
   "id": "64321c5a",
   "metadata": {},
   "outputs": [],
   "source": [
    "operators=allOps()"
   ]
  },
  {
   "cell_type": "code",
   "execution_count": 144,
   "id": "c24b334f",
   "metadata": {},
   "outputs": [],
   "source": [
    "#Define tangent function to generate data\n",
    "def tanFunc(x0):\n",
    "    return np.tan(x0)"
   ]
  },
  {
   "cell_type": "code",
   "execution_count": 145,
   "id": "be7a404b",
   "metadata": {},
   "outputs": [],
   "source": [
    "tanModel=[np.array([operators[10],operators[5]]),[variableSelect(0)],[]]"
   ]
  },
  {
   "cell_type": "code",
   "execution_count": 146,
   "id": "f87a33ed",
   "metadata": {},
   "outputs": [
    {
     "data": {
      "text/plain": [
       "[array([<function tan at 0x00000267FF9F8D60>,\n",
       "        <function sqrd at 0x00000267FF9F8AE0>], dtype=object),\n",
       " [<function StackGP.variableSelect.<locals>.<lambda>(variables)>],\n",
       " []]"
      ]
     },
     "execution_count": 146,
     "metadata": {},
     "output_type": "execute_result"
    }
   ],
   "source": [
    "tanModel"
   ]
  },
  {
   "cell_type": "code",
   "execution_count": 147,
   "id": "9fdb451e",
   "metadata": {},
   "outputs": [],
   "source": [
    "inputData=np.array([np.arange(-1,1,.0013)])\n",
    "response=inputData[0]"
   ]
  },
  {
   "cell_type": "code",
   "execution_count": 148,
   "id": "b4feb1fa",
   "metadata": {},
   "outputs": [
    {
     "data": {
      "text/plain": [
       "0.001099986698116265"
      ]
     },
     "execution_count": 148,
     "metadata": {},
     "output_type": "execute_result"
    }
   ],
   "source": [
    "totalSharpness(tanModel,inputData,response,numPerturbations=5000,percentPerturbation=1)"
   ]
  },
  {
   "cell_type": "code",
   "execution_count": null,
   "id": "9ccc1dc0",
   "metadata": {},
   "outputs": [],
   "source": []
  },
  {
   "cell_type": "code",
   "execution_count": 149,
   "id": "8779e04e",
   "metadata": {},
   "outputs": [],
   "source": [
    "from StackGP import *\n",
    "import numpy as np"
   ]
  },
  {
   "cell_type": "code",
   "execution_count": 150,
   "id": "b2cb3b29",
   "metadata": {},
   "outputs": [],
   "source": [
    "operators=allOps()"
   ]
  },
  {
   "cell_type": "code",
   "execution_count": 151,
   "id": "6703cba9",
   "metadata": {},
   "outputs": [],
   "source": [
    "#Define tangent function to generate data\n",
    "def tanFunc(x0):\n",
    "    return np.tan(x0)"
   ]
  },
  {
   "cell_type": "code",
   "execution_count": 152,
   "id": "55f8cc0b",
   "metadata": {},
   "outputs": [],
   "source": [
    "tanModel=[np.array([operators[10],operators[6]]),[variableSelect(0)],[]]"
   ]
  },
  {
   "cell_type": "code",
   "execution_count": 153,
   "id": "06117564",
   "metadata": {},
   "outputs": [
    {
     "data": {
      "text/plain": [
       "[array([<function tan at 0x00000267FF9F8D60>,\n",
       "        <function sqrt at 0x00000267FF9F8A40>], dtype=object),\n",
       " [<function StackGP.variableSelect.<locals>.<lambda>(variables)>],\n",
       " []]"
      ]
     },
     "execution_count": 153,
     "metadata": {},
     "output_type": "execute_result"
    }
   ],
   "source": [
    "tanModel"
   ]
  },
  {
   "cell_type": "code",
   "execution_count": 154,
   "id": "170c8c9e",
   "metadata": {},
   "outputs": [],
   "source": [
    "inputData=np.array([np.arange(-1,1,.0013)])\n",
    "response=inputData[0]"
   ]
  },
  {
   "cell_type": "code",
   "execution_count": 155,
   "id": "f1929089",
   "metadata": {},
   "outputs": [
    {
     "data": {
      "text/plain": [
       "nan"
      ]
     },
     "execution_count": 155,
     "metadata": {},
     "output_type": "execute_result"
    }
   ],
   "source": [
    "totalSharpness(tanModel,inputData,response,numPerturbations=5000,percentPerturbation=1)"
   ]
  },
  {
   "cell_type": "code",
   "execution_count": null,
   "id": "25470b5c",
   "metadata": {},
   "outputs": [],
   "source": []
  },
  {
   "cell_type": "code",
   "execution_count": 156,
   "id": "a04a55a6",
   "metadata": {},
   "outputs": [],
   "source": [
    "from StackGP import *\n",
    "import numpy as np"
   ]
  },
  {
   "cell_type": "code",
   "execution_count": 157,
   "id": "3d6a125a",
   "metadata": {},
   "outputs": [],
   "source": [
    "operators=allOps()"
   ]
  },
  {
   "cell_type": "code",
   "execution_count": 158,
   "id": "94d13b37",
   "metadata": {},
   "outputs": [],
   "source": [
    "#Define tangent function to generate data\n",
    "def tanFunc(x0):\n",
    "    return np.tan(x0)"
   ]
  },
  {
   "cell_type": "code",
   "execution_count": 159,
   "id": "7ee0168d",
   "metadata": {},
   "outputs": [],
   "source": [
    "tanModel=[np.array([operators[10],operators[7]]),[variableSelect(0)],[]]"
   ]
  },
  {
   "cell_type": "code",
   "execution_count": 160,
   "id": "95ca4063",
   "metadata": {},
   "outputs": [
    {
     "data": {
      "text/plain": [
       "[array([<function tan at 0x00000267FF9F8D60>,\n",
       "        <function inv at 0x00000267FF9F8B80>], dtype=object),\n",
       " [<function StackGP.variableSelect.<locals>.<lambda>(variables)>],\n",
       " []]"
      ]
     },
     "execution_count": 160,
     "metadata": {},
     "output_type": "execute_result"
    }
   ],
   "source": [
    "tanModel"
   ]
  },
  {
   "cell_type": "code",
   "execution_count": 161,
   "id": "c0d90bb6",
   "metadata": {},
   "outputs": [],
   "source": [
    "inputData=np.array([np.arange(-1,1,.0013)])\n",
    "response=inputData[0]"
   ]
  },
  {
   "cell_type": "code",
   "execution_count": 162,
   "id": "8362375e",
   "metadata": {},
   "outputs": [
    {
     "data": {
      "text/plain": [
       "0.0013345398137754238"
      ]
     },
     "execution_count": 162,
     "metadata": {},
     "output_type": "execute_result"
    }
   ],
   "source": [
    "totalSharpness(tanModel,inputData,response,numPerturbations=5000,percentPerturbation=1)"
   ]
  },
  {
   "cell_type": "code",
   "execution_count": null,
   "id": "bb7be9a3",
   "metadata": {},
   "outputs": [],
   "source": []
  },
  {
   "cell_type": "code",
   "execution_count": 163,
   "id": "7ec4d49b",
   "metadata": {},
   "outputs": [],
   "source": [
    "from StackGP import *\n",
    "import numpy as np"
   ]
  },
  {
   "cell_type": "code",
   "execution_count": 164,
   "id": "c339dd9f",
   "metadata": {},
   "outputs": [],
   "source": [
    "operators=allOps()"
   ]
  },
  {
   "cell_type": "code",
   "execution_count": 165,
   "id": "586f7b80",
   "metadata": {},
   "outputs": [],
   "source": [
    "#Define tangent function to generate data\n",
    "def tanFunc(x0):\n",
    "    return np.tan(x0)"
   ]
  },
  {
   "cell_type": "code",
   "execution_count": 166,
   "id": "f8abb99e",
   "metadata": {},
   "outputs": [],
   "source": [
    "tanModel=[np.array([operators[10],operators[8]]),[variableSelect(0)],[]]"
   ]
  },
  {
   "cell_type": "code",
   "execution_count": 167,
   "id": "963030d1",
   "metadata": {},
   "outputs": [
    {
     "data": {
      "text/plain": [
       "[array([<function tan at 0x00000267FF9F8D60>,\n",
       "        <function cos at 0x00000267FF9F8CC0>], dtype=object),\n",
       " [<function StackGP.variableSelect.<locals>.<lambda>(variables)>],\n",
       " []]"
      ]
     },
     "execution_count": 167,
     "metadata": {},
     "output_type": "execute_result"
    }
   ],
   "source": [
    "tanModel"
   ]
  },
  {
   "cell_type": "code",
   "execution_count": 168,
   "id": "4a7d70c7",
   "metadata": {},
   "outputs": [],
   "source": [
    "inputData=np.array([np.arange(-1,1,.0013)])\n",
    "response=inputData[0]"
   ]
  },
  {
   "cell_type": "code",
   "execution_count": 169,
   "id": "97511431",
   "metadata": {},
   "outputs": [
    {
     "data": {
      "text/plain": [
       "0.0007585786521048574"
      ]
     },
     "execution_count": 169,
     "metadata": {},
     "output_type": "execute_result"
    }
   ],
   "source": [
    "totalSharpness(tanModel,inputData,response,numPerturbations=5000,percentPerturbation=1)"
   ]
  },
  {
   "cell_type": "code",
   "execution_count": null,
   "id": "e1aac525",
   "metadata": {},
   "outputs": [],
   "source": []
  },
  {
   "cell_type": "code",
   "execution_count": 170,
   "id": "56c9e7f9",
   "metadata": {},
   "outputs": [],
   "source": [
    "from StackGP import *\n",
    "import numpy as np"
   ]
  },
  {
   "cell_type": "code",
   "execution_count": 171,
   "id": "34ac967a",
   "metadata": {},
   "outputs": [],
   "source": [
    "operators=allOps()"
   ]
  },
  {
   "cell_type": "code",
   "execution_count": 172,
   "id": "3a9450aa",
   "metadata": {},
   "outputs": [],
   "source": [
    "#Define tangent function to generate data\n",
    "def tanFunc(x0):\n",
    "    return np.tan(x0)"
   ]
  },
  {
   "cell_type": "code",
   "execution_count": 173,
   "id": "eb8fbd36",
   "metadata": {},
   "outputs": [],
   "source": [
    "tanModel=[np.array([operators[10],operators[9]]),[variableSelect(0)],[]]"
   ]
  },
  {
   "cell_type": "code",
   "execution_count": 174,
   "id": "e846cf7e",
   "metadata": {},
   "outputs": [
    {
     "data": {
      "text/plain": [
       "[array([<function tan at 0x00000267FF9F8D60>,\n",
       "        <function sin at 0x00000267FF9F8C20>], dtype=object),\n",
       " [<function StackGP.variableSelect.<locals>.<lambda>(variables)>],\n",
       " []]"
      ]
     },
     "execution_count": 174,
     "metadata": {},
     "output_type": "execute_result"
    }
   ],
   "source": [
    "tanModel"
   ]
  },
  {
   "cell_type": "code",
   "execution_count": 175,
   "id": "f778fe78",
   "metadata": {},
   "outputs": [],
   "source": [
    "inputData=np.array([np.arange(-1,1,.0013)])\n",
    "response=inputData[0]"
   ]
  },
  {
   "cell_type": "code",
   "execution_count": 176,
   "id": "a7bd87c4",
   "metadata": {},
   "outputs": [
    {
     "data": {
      "text/plain": [
       "0.0038530219465005015"
      ]
     },
     "execution_count": 176,
     "metadata": {},
     "output_type": "execute_result"
    }
   ],
   "source": [
    "totalSharpness(tanModel,inputData,response,numPerturbations=5000,percentPerturbation=1)"
   ]
  },
  {
   "cell_type": "code",
   "execution_count": null,
   "id": "ceda9d6c",
   "metadata": {},
   "outputs": [],
   "source": []
  },
  {
   "cell_type": "code",
   "execution_count": 177,
   "id": "5ea4c5c7",
   "metadata": {},
   "outputs": [],
   "source": [
    "from StackGP import *\n",
    "import numpy as np"
   ]
  },
  {
   "cell_type": "code",
   "execution_count": 178,
   "id": "8397b284",
   "metadata": {},
   "outputs": [],
   "source": [
    "operators=allOps()"
   ]
  },
  {
   "cell_type": "code",
   "execution_count": 179,
   "id": "f2224c57",
   "metadata": {},
   "outputs": [],
   "source": [
    "#Define tangent function to generate data\n",
    "def tanFunc(x0):\n",
    "    return np.tan(x0)"
   ]
  },
  {
   "cell_type": "code",
   "execution_count": 180,
   "id": "488b674e",
   "metadata": {},
   "outputs": [],
   "source": [
    "tanModel=[np.array([operators[10],operators[13]]),[variableSelect(0)],[]]"
   ]
  },
  {
   "cell_type": "code",
   "execution_count": 181,
   "id": "9e7e6252",
   "metadata": {},
   "outputs": [
    {
     "data": {
      "text/plain": [
       "[array([<function tan at 0x00000267FF9F8D60>,\n",
       "        <function arctan at 0x00000267FF9F8F40>], dtype=object),\n",
       " [<function StackGP.variableSelect.<locals>.<lambda>(variables)>],\n",
       " []]"
      ]
     },
     "execution_count": 181,
     "metadata": {},
     "output_type": "execute_result"
    }
   ],
   "source": [
    "tanModel"
   ]
  },
  {
   "cell_type": "code",
   "execution_count": 182,
   "id": "a6f491e3",
   "metadata": {},
   "outputs": [],
   "source": [
    "inputData=np.array([np.arange(-1,1,.0013)])\n",
    "response=inputData[0]"
   ]
  },
  {
   "cell_type": "code",
   "execution_count": 183,
   "id": "075ed141",
   "metadata": {},
   "outputs": [
    {
     "data": {
      "text/plain": [
       "0.0019208848877740514"
      ]
     },
     "execution_count": 183,
     "metadata": {},
     "output_type": "execute_result"
    }
   ],
   "source": [
    "totalSharpness(tanModel,inputData,response,numPerturbations=5000,percentPerturbation=1)"
   ]
  },
  {
   "cell_type": "code",
   "execution_count": null,
   "id": "a744a813",
   "metadata": {},
   "outputs": [],
   "source": []
  },
  {
   "cell_type": "code",
   "execution_count": 184,
   "id": "3848a1b2",
   "metadata": {},
   "outputs": [],
   "source": [
    "from StackGP import *\n",
    "import numpy as np"
   ]
  },
  {
   "cell_type": "code",
   "execution_count": 185,
   "id": "6338c76d",
   "metadata": {},
   "outputs": [],
   "source": [
    "operators=allOps()"
   ]
  },
  {
   "cell_type": "code",
   "execution_count": 186,
   "id": "04f2b13a",
   "metadata": {},
   "outputs": [],
   "source": [
    "#Define tangent function to generate data\n",
    "def tanFunc(x0):\n",
    "    return np.tan(x0)"
   ]
  },
  {
   "cell_type": "code",
   "execution_count": 187,
   "id": "0ee7f328",
   "metadata": {},
   "outputs": [],
   "source": [
    "tanModel=[np.array([operators[10],operators[14]]),[variableSelect(0)],[]]"
   ]
  },
  {
   "cell_type": "code",
   "execution_count": 188,
   "id": "1e824cf7",
   "metadata": {},
   "outputs": [
    {
     "data": {
      "text/plain": [
       "[array([<function tan at 0x00000267FF9F8D60>,\n",
       "        <function tanh at 0x00000267FF9F8FE0>], dtype=object),\n",
       " [<function StackGP.variableSelect.<locals>.<lambda>(variables)>],\n",
       " []]"
      ]
     },
     "execution_count": 188,
     "metadata": {},
     "output_type": "execute_result"
    }
   ],
   "source": [
    "tanModel"
   ]
  },
  {
   "cell_type": "code",
   "execution_count": 189,
   "id": "31264446",
   "metadata": {},
   "outputs": [],
   "source": [
    "inputData=np.array([np.arange(-1,1,.0013)])\n",
    "response=inputData[0]"
   ]
  },
  {
   "cell_type": "code",
   "execution_count": 190,
   "id": "419f73e7",
   "metadata": {},
   "outputs": [
    {
     "data": {
      "text/plain": [
       "0.0018242489192417033"
      ]
     },
     "execution_count": 190,
     "metadata": {},
     "output_type": "execute_result"
    }
   ],
   "source": [
    "totalSharpness(tanModel,inputData,response,numPerturbations=5000,percentPerturbation=1)"
   ]
  },
  {
   "cell_type": "code",
   "execution_count": null,
   "id": "85935baf",
   "metadata": {},
   "outputs": [],
   "source": []
  },
  {
   "cell_type": "code",
   "execution_count": 191,
   "id": "f8aba3fe",
   "metadata": {},
   "outputs": [],
   "source": [
    "from StackGP import *\n",
    "import numpy as np"
   ]
  },
  {
   "cell_type": "code",
   "execution_count": 192,
   "id": "0c9ec1cd",
   "metadata": {},
   "outputs": [],
   "source": [
    "operators=allOps()"
   ]
  },
  {
   "cell_type": "code",
   "execution_count": 193,
   "id": "a99d1291",
   "metadata": {},
   "outputs": [],
   "source": [
    "#Define tangent function to generate data\n",
    "def tanFunc(x0):\n",
    "    return np.tan(x0)"
   ]
  },
  {
   "cell_type": "code",
   "execution_count": 194,
   "id": "5051f570",
   "metadata": {},
   "outputs": [],
   "source": [
    "tanModel=[np.array([operators[10],operators[15]]),[variableSelect(0)],[]]"
   ]
  },
  {
   "cell_type": "code",
   "execution_count": 195,
   "id": "e33a7b74",
   "metadata": {},
   "outputs": [
    {
     "data": {
      "text/plain": [
       "[array([<function tan at 0x00000267FF9F8D60>,\n",
       "        <function log at 0x00000267FF9F9080>], dtype=object),\n",
       " [<function StackGP.variableSelect.<locals>.<lambda>(variables)>],\n",
       " []]"
      ]
     },
     "execution_count": 195,
     "metadata": {},
     "output_type": "execute_result"
    }
   ],
   "source": [
    "tanModel"
   ]
  },
  {
   "cell_type": "code",
   "execution_count": 196,
   "id": "dc5ea079",
   "metadata": {},
   "outputs": [],
   "source": [
    "inputData=np.array([np.arange(-1,1,.0013)])\n",
    "response=inputData[0]"
   ]
  },
  {
   "cell_type": "code",
   "execution_count": 197,
   "id": "43ea7416",
   "metadata": {},
   "outputs": [
    {
     "data": {
      "text/plain": [
       "nan"
      ]
     },
     "execution_count": 197,
     "metadata": {},
     "output_type": "execute_result"
    }
   ],
   "source": [
    "totalSharpness(tanModel,inputData,response,numPerturbations=5000,percentPerturbation=1)"
   ]
  },
  {
   "cell_type": "code",
   "execution_count": 369,
   "id": "4ba65955",
   "metadata": {},
   "outputs": [
    {
     "data": {
      "image/png": "[encoded data removed]",
      "text/plain": [
       "<Figure size 1000x500 with 1 Axes>"
      ]
     },
     "metadata": {},
     "output_type": "display_data"
    }
   ],
   "source": [
    "import numpy as np\n",
    "import matplotlib.pyplot as plt \n",
    "\n",
    " \n",
    "# creating the dataset\n",
    "data = {'0.0002':0.000004475877,'0.55':0.00048726709,'0.067':1,'0.85':0.00130166,'0.0065':0.0000005974,'0.23':0.00010915,'0.47':0.0004225,'0.15':0.000061478,'0.92':1}\n",
    "courses = list(data.keys())\n",
    "values = list(data.values())\n",
    " \n",
    "fig = plt.figure(figsize = (10, 5))\n",
    "\n",
    "# creating the bar plot\n",
    "plt.bar(courses, values, color ='maroon', \n",
    "        width = 0.4)\n",
    "\n",
    "plt.xlabel(\"percentPerturbation\")\n",
    "plt.ylabel(\"Sharpness\")\n",
    "plt.title(\"Change in %Perturbation for Tan Function\")\n",
    "plt.yscale(\"log\")\n",
    "plt.show()\n"
   ]
  },
  {
   "cell_type": "markdown",
   "id": "2b1b8a49",
   "metadata": {},
   "source": [
    "# Arctan Function Combinations"
   ]
  },
  {
   "cell_type": "code",
   "execution_count": 370,
   "id": "1ee0d935",
   "metadata": {},
   "outputs": [],
   "source": [
    "from StackGP import *\n",
    "import numpy as np"
   ]
  },
  {
   "cell_type": "code",
   "execution_count": 371,
   "id": "96870a7f",
   "metadata": {},
   "outputs": [],
   "source": [
    "operators=allOps()"
   ]
  },
  {
   "cell_type": "code",
   "execution_count": 372,
   "id": "3a225f56",
   "metadata": {},
   "outputs": [],
   "source": [
    "#Define arctangent function to generate data\n",
    "def arctanFunc(x0):\n",
    "    return np.arctan(x0)"
   ]
  },
  {
   "cell_type": "code",
   "execution_count": 373,
   "id": "9b8cebb8",
   "metadata": {},
   "outputs": [],
   "source": [
    "arctanModel=[np.array([operators[13],operators[4]]),[variableSelect(0)],[]]"
   ]
  },
  {
   "cell_type": "code",
   "execution_count": 374,
   "id": "b76fb7e7",
   "metadata": {},
   "outputs": [
    {
     "data": {
      "text/plain": [
       "[array([<function arctan at 0x0000023EAB4BF1A0>,\n",
       "        <function exp at 0x0000023EAB4BEB60>], dtype=object),\n",
       " [<function StackGP.variableSelect.<locals>.<lambda>(variables)>],\n",
       " []]"
      ]
     },
     "execution_count": 374,
     "metadata": {},
     "output_type": "execute_result"
    }
   ],
   "source": [
    "arctanModel"
   ]
  },
  {
   "cell_type": "code",
   "execution_count": 375,
   "id": "b441635c",
   "metadata": {},
   "outputs": [],
   "source": [
    "inputData=np.array([np.arange(-1,1,.0013)])\n",
    "response=inputData[0]"
   ]
  },
  {
   "cell_type": "code",
   "execution_count": 376,
   "id": "6bbe9581",
   "metadata": {},
   "outputs": [
    {
     "data": {
      "text/plain": [
       "0.0013140907745825107"
      ]
     },
     "execution_count": 376,
     "metadata": {},
     "output_type": "execute_result"
    }
   ],
   "source": [
    "totalSharpness(arctanModel,inputData,response,numPerturbations=4000,percentPerturbation=0.57)"
   ]
  },
  {
   "cell_type": "code",
   "execution_count": null,
   "id": "3b7207c4",
   "metadata": {},
   "outputs": [],
   "source": []
  },
  {
   "cell_type": "code",
   "execution_count": 377,
   "id": "11e8ef07",
   "metadata": {},
   "outputs": [],
   "source": [
    "from StackGP import *\n",
    "import numpy as np"
   ]
  },
  {
   "cell_type": "code",
   "execution_count": 378,
   "id": "422c89a2",
   "metadata": {},
   "outputs": [],
   "source": [
    "operators=allOps()"
   ]
  },
  {
   "cell_type": "code",
   "execution_count": 379,
   "id": "9a7d2a96",
   "metadata": {},
   "outputs": [],
   "source": [
    "#Define arctangent function to generate data\n",
    "def arctanFunc(x0):\n",
    "    return np.arctan(x0)"
   ]
  },
  {
   "cell_type": "code",
   "execution_count": 380,
   "id": "9af953f4",
   "metadata": {},
   "outputs": [],
   "source": [
    "arctanModel=[np.array([operators[13],operators[5]]),[variableSelect(0)],[]]"
   ]
  },
  {
   "cell_type": "code",
   "execution_count": 381,
   "id": "dfde68b4",
   "metadata": {},
   "outputs": [
    {
     "data": {
      "text/plain": [
       "[array([<function arctan at 0x0000023EAB4BF1A0>,\n",
       "        <function sqrd at 0x0000023EAB4BED40>], dtype=object),\n",
       " [<function StackGP.variableSelect.<locals>.<lambda>(variables)>],\n",
       " []]"
      ]
     },
     "execution_count": 381,
     "metadata": {},
     "output_type": "execute_result"
    }
   ],
   "source": [
    "arctanModel"
   ]
  },
  {
   "cell_type": "code",
   "execution_count": 382,
   "id": "a7c8ec81",
   "metadata": {},
   "outputs": [],
   "source": [
    "inputData=np.array([np.arange(-1,1,.0013)])\n",
    "response=inputData[0]"
   ]
  },
  {
   "cell_type": "code",
   "execution_count": 383,
   "id": "76f643c3",
   "metadata": {},
   "outputs": [
    {
     "data": {
      "text/plain": [
       "0.0002982419491036431"
      ]
     },
     "execution_count": 383,
     "metadata": {},
     "output_type": "execute_result"
    }
   ],
   "source": [
    "totalSharpness(arctanModel,inputData,response,numPerturbations=4000,percentPerturbation=0.98)"
   ]
  },
  {
   "cell_type": "code",
   "execution_count": null,
   "id": "6f10de44",
   "metadata": {},
   "outputs": [],
   "source": []
  },
  {
   "cell_type": "code",
   "execution_count": 384,
   "id": "c39ed9f7",
   "metadata": {},
   "outputs": [],
   "source": [
    "from StackGP import *\n",
    "import numpy as np"
   ]
  },
  {
   "cell_type": "code",
   "execution_count": 385,
   "id": "1a47d27f",
   "metadata": {},
   "outputs": [],
   "source": [
    "operators=allOps()"
   ]
  },
  {
   "cell_type": "code",
   "execution_count": 386,
   "id": "f3bf40ce",
   "metadata": {},
   "outputs": [],
   "source": [
    "#Define arctangent function to generate data\n",
    "def arctanFunc(x0):\n",
    "    return np.arctan(x0)"
   ]
  },
  {
   "cell_type": "code",
   "execution_count": 387,
   "id": "3516bb49",
   "metadata": {},
   "outputs": [],
   "source": [
    "arctanModel=[np.array([operators[13],operators[6]]),[variableSelect(0)],[]]"
   ]
  },
  {
   "cell_type": "code",
   "execution_count": 388,
   "id": "6af74fea",
   "metadata": {},
   "outputs": [
    {
     "data": {
      "text/plain": [
       "[array([<function arctan at 0x0000023EAB4BF1A0>,\n",
       "        <function sqrt at 0x0000023EAB4BECA0>], dtype=object),\n",
       " [<function StackGP.variableSelect.<locals>.<lambda>(variables)>],\n",
       " []]"
      ]
     },
     "execution_count": 388,
     "metadata": {},
     "output_type": "execute_result"
    }
   ],
   "source": [
    "arctanModel"
   ]
  },
  {
   "cell_type": "code",
   "execution_count": 389,
   "id": "ddd2b575",
   "metadata": {},
   "outputs": [],
   "source": [
    "inputData=np.array([np.arange(-1,1,.0013)])\n",
    "response=inputData[0]"
   ]
  },
  {
   "cell_type": "code",
   "execution_count": 390,
   "id": "043cef8a",
   "metadata": {},
   "outputs": [
    {
     "data": {
      "text/plain": [
       "nan"
      ]
     },
     "execution_count": 390,
     "metadata": {},
     "output_type": "execute_result"
    }
   ],
   "source": [
    "totalSharpness(arctanModel,inputData,response,numPerturbations=4000,percentPerturbation=0.074)"
   ]
  },
  {
   "cell_type": "code",
   "execution_count": null,
   "id": "21d057f9",
   "metadata": {},
   "outputs": [],
   "source": []
  },
  {
   "cell_type": "code",
   "execution_count": 391,
   "id": "ede442aa",
   "metadata": {},
   "outputs": [],
   "source": [
    "from StackGP import *\n",
    "import numpy as np"
   ]
  },
  {
   "cell_type": "code",
   "execution_count": 392,
   "id": "5220303e",
   "metadata": {},
   "outputs": [],
   "source": [
    "operators=allOps()"
   ]
  },
  {
   "cell_type": "code",
   "execution_count": 393,
   "id": "79d0c53b",
   "metadata": {},
   "outputs": [],
   "source": [
    "#Define arctangent function to generate data\n",
    "def arctanFunc(x0):\n",
    "    return np.arctan(x0)"
   ]
  },
  {
   "cell_type": "code",
   "execution_count": 394,
   "id": "ce36acee",
   "metadata": {},
   "outputs": [],
   "source": [
    "arctanModel=[np.array([operators[13],operators[7]]),[variableSelect(0)],[]]"
   ]
  },
  {
   "cell_type": "code",
   "execution_count": 395,
   "id": "6569c98d",
   "metadata": {},
   "outputs": [
    {
     "data": {
      "text/plain": [
       "[array([<function arctan at 0x0000023EAB4BF1A0>,\n",
       "        <function inv at 0x0000023EAB4BEDE0>], dtype=object),\n",
       " [<function StackGP.variableSelect.<locals>.<lambda>(variables)>],\n",
       " []]"
      ]
     },
     "execution_count": 395,
     "metadata": {},
     "output_type": "execute_result"
    }
   ],
   "source": [
    "arctanModel"
   ]
  },
  {
   "cell_type": "code",
   "execution_count": 396,
   "id": "bb2521e9",
   "metadata": {},
   "outputs": [],
   "source": [
    "inputData=np.array([np.arange(-1,1,.0013)])\n",
    "response=inputData[0]"
   ]
  },
  {
   "cell_type": "code",
   "execution_count": 397,
   "id": "cfa14b6f",
   "metadata": {},
   "outputs": [
    {
     "data": {
      "text/plain": [
       "0.0009849839260153265"
      ]
     },
     "execution_count": 397,
     "metadata": {},
     "output_type": "execute_result"
    }
   ],
   "source": [
    "totalSharpness(arctanModel,inputData,response,numPerturbations=4000,percentPerturbation=0.0075)"
   ]
  },
  {
   "cell_type": "code",
   "execution_count": null,
   "id": "8567b9d0",
   "metadata": {},
   "outputs": [],
   "source": []
  },
  {
   "cell_type": "code",
   "execution_count": 398,
   "id": "cc5b7cbf",
   "metadata": {},
   "outputs": [],
   "source": [
    "from StackGP import *\n",
    "import numpy as np"
   ]
  },
  {
   "cell_type": "code",
   "execution_count": 399,
   "id": "3c615cfe",
   "metadata": {},
   "outputs": [],
   "source": [
    "operators=allOps()"
   ]
  },
  {
   "cell_type": "code",
   "execution_count": 400,
   "id": "012916ca",
   "metadata": {},
   "outputs": [],
   "source": [
    "#Define arctangent function to generate data\n",
    "def arctanFunc(x0):\n",
    "    return np.arctan(x0)"
   ]
  },
  {
   "cell_type": "code",
   "execution_count": 401,
   "id": "9c79ce93",
   "metadata": {},
   "outputs": [],
   "source": [
    "arctanModel=[np.array([operators[13],operators[8]]),[variableSelect(0)],[]]"
   ]
  },
  {
   "cell_type": "code",
   "execution_count": 402,
   "id": "4bc90edd",
   "metadata": {},
   "outputs": [
    {
     "data": {
      "text/plain": [
       "[array([<function arctan at 0x0000023EAB4BF1A0>,\n",
       "        <function cos at 0x0000023EAB4BEF20>], dtype=object),\n",
       " [<function StackGP.variableSelect.<locals>.<lambda>(variables)>],\n",
       " []]"
      ]
     },
     "execution_count": 402,
     "metadata": {},
     "output_type": "execute_result"
    }
   ],
   "source": [
    "arctanModel"
   ]
  },
  {
   "cell_type": "code",
   "execution_count": 403,
   "id": "10e3483a",
   "metadata": {},
   "outputs": [],
   "source": [
    "inputData=np.array([np.arange(-1,1,.0013)])\n",
    "response=inputData[0]"
   ]
  },
  {
   "cell_type": "code",
   "execution_count": 405,
   "id": "e41a3858",
   "metadata": {},
   "outputs": [
    {
     "data": {
      "text/plain": [
       "0.0002148416511762628"
      ]
     },
     "execution_count": 405,
     "metadata": {},
     "output_type": "execute_result"
    }
   ],
   "source": [
    "totalSharpness(arctanModel,inputData,response,numPerturbations=4000,percentPerturbation=0.78)"
   ]
  },
  {
   "cell_type": "code",
   "execution_count": null,
   "id": "3053df37",
   "metadata": {},
   "outputs": [],
   "source": []
  },
  {
   "cell_type": "code",
   "execution_count": 406,
   "id": "82d8abde",
   "metadata": {},
   "outputs": [],
   "source": [
    "from StackGP import *\n",
    "import numpy as np"
   ]
  },
  {
   "cell_type": "code",
   "execution_count": 407,
   "id": "d303695d",
   "metadata": {},
   "outputs": [],
   "source": [
    "operators=allOps()"
   ]
  },
  {
   "cell_type": "code",
   "execution_count": 408,
   "id": "86bcdcf2",
   "metadata": {},
   "outputs": [],
   "source": [
    "#Define arctangent function to generate data\n",
    "def arctanFunc(x0):\n",
    "    return np.arctan(x0)"
   ]
  },
  {
   "cell_type": "code",
   "execution_count": 409,
   "id": "e17feab8",
   "metadata": {},
   "outputs": [],
   "source": [
    "arctanModel=[np.array([operators[13],operators[9]]),[variableSelect(0)],[]]"
   ]
  },
  {
   "cell_type": "code",
   "execution_count": 410,
   "id": "6233de36",
   "metadata": {},
   "outputs": [
    {
     "data": {
      "text/plain": [
       "[array([<function arctan at 0x0000023EAB4BF1A0>,\n",
       "        <function sin at 0x0000023EAB4BEE80>], dtype=object),\n",
       " [<function StackGP.variableSelect.<locals>.<lambda>(variables)>],\n",
       " []]"
      ]
     },
     "execution_count": 410,
     "metadata": {},
     "output_type": "execute_result"
    }
   ],
   "source": [
    "arctanModel"
   ]
  },
  {
   "cell_type": "code",
   "execution_count": 411,
   "id": "f288d04a",
   "metadata": {},
   "outputs": [],
   "source": [
    "inputData=np.array([np.arange(-1,1,.0013)])\n",
    "response=inputData[0]"
   ]
  },
  {
   "cell_type": "code",
   "execution_count": 412,
   "id": "9cf122df",
   "metadata": {},
   "outputs": [
    {
     "data": {
      "text/plain": [
       "6.959504148587347e-06"
      ]
     },
     "execution_count": 412,
     "metadata": {},
     "output_type": "execute_result"
    }
   ],
   "source": [
    "totalSharpness(arctanModel,inputData,response,numPerturbations=4000,percentPerturbation=0.0065)"
   ]
  },
  {
   "cell_type": "code",
   "execution_count": null,
   "id": "6c22ffa9",
   "metadata": {},
   "outputs": [],
   "source": []
  },
  {
   "cell_type": "code",
   "execution_count": 413,
   "id": "acaa9563",
   "metadata": {},
   "outputs": [],
   "source": [
    "from StackGP import *\n",
    "import numpy as np"
   ]
  },
  {
   "cell_type": "code",
   "execution_count": 414,
   "id": "f069fa20",
   "metadata": {},
   "outputs": [],
   "source": [
    "operators=allOps()"
   ]
  },
  {
   "cell_type": "code",
   "execution_count": 415,
   "id": "89d142e1",
   "metadata": {},
   "outputs": [],
   "source": [
    "#Define arctangent function to generate data\n",
    "def arctanFunc(x0):\n",
    "    return np.arctan(x0)"
   ]
  },
  {
   "cell_type": "code",
   "execution_count": 416,
   "id": "0436fb06",
   "metadata": {},
   "outputs": [],
   "source": [
    "arctanModel=[np.array([operators[13],operators[10]]),[variableSelect(0)],[]]"
   ]
  },
  {
   "cell_type": "code",
   "execution_count": 417,
   "id": "e5b43721",
   "metadata": {},
   "outputs": [
    {
     "data": {
      "text/plain": [
       "[array([<function arctan at 0x0000023EAB4BF1A0>,\n",
       "        <function tan at 0x0000023EAB4BEFC0>], dtype=object),\n",
       " [<function StackGP.variableSelect.<locals>.<lambda>(variables)>],\n",
       " []]"
      ]
     },
     "execution_count": 417,
     "metadata": {},
     "output_type": "execute_result"
    }
   ],
   "source": [
    "arctanModel"
   ]
  },
  {
   "cell_type": "code",
   "execution_count": 418,
   "id": "45ab9fae",
   "metadata": {},
   "outputs": [],
   "source": [
    "inputData=np.array([np.arange(-1,1,.0013)])\n",
    "response=inputData[0]"
   ]
  },
  {
   "cell_type": "code",
   "execution_count": 419,
   "id": "17f043d8",
   "metadata": {},
   "outputs": [
    {
     "data": {
      "text/plain": [
       "0.0004432669173136626"
      ]
     },
     "execution_count": 419,
     "metadata": {},
     "output_type": "execute_result"
    }
   ],
   "source": [
    "totalSharpness(arctanModel,inputData,response,numPerturbations=4000,percentPerturbation=0.48)"
   ]
  },
  {
   "cell_type": "code",
   "execution_count": null,
   "id": "4f9a3d22",
   "metadata": {},
   "outputs": [],
   "source": []
  },
  {
   "cell_type": "code",
   "execution_count": 420,
   "id": "261b4386",
   "metadata": {},
   "outputs": [],
   "source": [
    "from StackGP import *\n",
    "import numpy as np"
   ]
  },
  {
   "cell_type": "code",
   "execution_count": 421,
   "id": "93d26db4",
   "metadata": {},
   "outputs": [],
   "source": [
    "operators=allOps()"
   ]
  },
  {
   "cell_type": "code",
   "execution_count": 422,
   "id": "fc0f90b3",
   "metadata": {},
   "outputs": [],
   "source": [
    "#Define arctangent function to generate data\n",
    "def arctanFunc(x0):\n",
    "    return np.arctan(x0)"
   ]
  },
  {
   "cell_type": "code",
   "execution_count": 423,
   "id": "ce5f1634",
   "metadata": {},
   "outputs": [],
   "source": [
    "arctanModel=[np.array([operators[13],operators[14]]),[variableSelect(0)],[]]"
   ]
  },
  {
   "cell_type": "code",
   "execution_count": 424,
   "id": "c42400c8",
   "metadata": {},
   "outputs": [
    {
     "data": {
      "text/plain": [
       "[array([<function arctan at 0x0000023EAB4BF1A0>,\n",
       "        <function tanh at 0x0000023EAB4BF240>], dtype=object),\n",
       " [<function StackGP.variableSelect.<locals>.<lambda>(variables)>],\n",
       " []]"
      ]
     },
     "execution_count": 424,
     "metadata": {},
     "output_type": "execute_result"
    }
   ],
   "source": [
    "arctanModel"
   ]
  },
  {
   "cell_type": "code",
   "execution_count": 425,
   "id": "e98fe0ec",
   "metadata": {},
   "outputs": [],
   "source": [
    "inputData=np.array([np.arange(-1,1,.0013)])\n",
    "response=inputData[0]"
   ]
  },
  {
   "cell_type": "code",
   "execution_count": 426,
   "id": "ae3dbbd6",
   "metadata": {},
   "outputs": [
    {
     "data": {
      "text/plain": [
       "5.683528617158597e-05"
      ]
     },
     "execution_count": 426,
     "metadata": {},
     "output_type": "execute_result"
    }
   ],
   "source": [
    "totalSharpness(arctanModel,inputData,response,numPerturbations=4000,percentPerturbation=0.045)"
   ]
  },
  {
   "cell_type": "code",
   "execution_count": null,
   "id": "16e2dcf1",
   "metadata": {},
   "outputs": [],
   "source": []
  },
  {
   "cell_type": "code",
   "execution_count": 427,
   "id": "6f002519",
   "metadata": {},
   "outputs": [],
   "source": [
    "from StackGP import *\n",
    "import numpy as np"
   ]
  },
  {
   "cell_type": "code",
   "execution_count": 428,
   "id": "494a0a66",
   "metadata": {},
   "outputs": [],
   "source": [
    "operators=allOps()"
   ]
  },
  {
   "cell_type": "code",
   "execution_count": 429,
   "id": "e1b49cd8",
   "metadata": {},
   "outputs": [],
   "source": [
    "#Define arctangent function to generate data\n",
    "def arctanFunc(x0):\n",
    "    return np.arctan(x0)"
   ]
  },
  {
   "cell_type": "code",
   "execution_count": 430,
   "id": "3ef99fd4",
   "metadata": {},
   "outputs": [],
   "source": [
    "arctanModel=[np.array([operators[13],operators[15]]),[variableSelect(0)],[]]"
   ]
  },
  {
   "cell_type": "code",
   "execution_count": 431,
   "id": "d87e518a",
   "metadata": {},
   "outputs": [],
   "source": [
    "inputData=np.array([np.arange(-1,1,.0013)])\n",
    "response=inputData[0]"
   ]
  },
  {
   "cell_type": "code",
   "execution_count": 432,
   "id": "49f22652",
   "metadata": {},
   "outputs": [
    {
     "data": {
      "text/plain": [
       "nan"
      ]
     },
     "execution_count": 432,
     "metadata": {},
     "output_type": "execute_result"
    }
   ],
   "source": [
    "totalSharpness(arctanModel,inputData,response,numPerturbations=4000,percentPerturbation=0.68)"
   ]
  },
  {
   "cell_type": "code",
   "execution_count": 434,
   "id": "e6b5b5d2",
   "metadata": {},
   "outputs": [
    {
     "data": {
      "image/png": "[encoded data removed]",
      "text/plain": [
       "<Figure size 1000x500 with 1 Axes>"
      ]
     },
     "metadata": {},
     "output_type": "display_data"
    }
   ],
   "source": [
    "import numpy as np\n",
    "import matplotlib.pyplot as plt \n",
    "\n",
    " \n",
    "# creating the dataset\n",
    "data = {'0.57':0.001314,'0.98':0.000298,'0.074':1,'0.0075':0.0009849,'0.78':0.0002148,'0.0065':0.000006959,'0.48':0.0004432,'0.045':0.000056835,'0.68':1}\n",
    "courses = list(data.keys())\n",
    "values = list(data.values())\n",
    " \n",
    "fig = plt.figure(figsize = (10, 5))\n",
    "\n",
    "# creating the bar plot\n",
    "plt.bar(courses, values, color ='maroon', \n",
    "        width = 0.4)\n",
    "\n",
    "plt.xlabel(\"percentPerturbation\")\n",
    "plt.ylabel(\"Sharpness\")\n",
    "plt.title(\"Change in %Perturbation for Arctan Function\")\n",
    "plt.yscale(\"log\")\n",
    "plt.show()\n"
   ]
  },
  {
   "cell_type": "markdown",
   "id": "8535a325",
   "metadata": {},
   "source": [
    "# Exp Function Combinations"
   ]
  },
  {
   "cell_type": "code",
   "execution_count": 435,
   "id": "7fef0efa",
   "metadata": {},
   "outputs": [],
   "source": [
    "from StackGP import *\n",
    "import numpy as np"
   ]
  },
  {
   "cell_type": "code",
   "execution_count": 436,
   "id": "6fba6894",
   "metadata": {},
   "outputs": [],
   "source": [
    "operators=allOps()"
   ]
  },
  {
   "cell_type": "code",
   "execution_count": 437,
   "id": "777928a4",
   "metadata": {},
   "outputs": [],
   "source": [
    "#Define exponent function to generate data\n",
    "def expFunc(x0):\n",
    "    return np.exp(x0)"
   ]
  },
  {
   "cell_type": "code",
   "execution_count": 438,
   "id": "1b65540c",
   "metadata": {},
   "outputs": [],
   "source": [
    "expModel=[np.array([operators[4],operators[5]]),[variableSelect(0)],[]]"
   ]
  },
  {
   "cell_type": "code",
   "execution_count": 439,
   "id": "958a616e",
   "metadata": {},
   "outputs": [
    {
     "data": {
      "text/plain": [
       "[array([<function exp at 0x0000023EAB4BEB60>,\n",
       "        <function sqrd at 0x0000023EAB4BED40>], dtype=object),\n",
       " [<function StackGP.variableSelect.<locals>.<lambda>(variables)>],\n",
       " []]"
      ]
     },
     "execution_count": 439,
     "metadata": {},
     "output_type": "execute_result"
    }
   ],
   "source": [
    "expModel"
   ]
  },
  {
   "cell_type": "code",
   "execution_count": 440,
   "id": "58890072",
   "metadata": {},
   "outputs": [],
   "source": [
    "inputData=np.array([np.arange(-1,1,.0013)])\n",
    "response=inputData[0]"
   ]
  },
  {
   "cell_type": "code",
   "execution_count": 441,
   "id": "e62b76e4",
   "metadata": {},
   "outputs": [
    {
     "data": {
      "text/plain": [
       "nan"
      ]
     },
     "execution_count": 441,
     "metadata": {},
     "output_type": "execute_result"
    }
   ],
   "source": [
    "totalSharpness(arctanModel,inputData,response,numPerturbations=4000,percentPerturbation=0.03)"
   ]
  },
  {
   "cell_type": "code",
   "execution_count": null,
   "id": "e35b8843",
   "metadata": {},
   "outputs": [],
   "source": []
  },
  {
   "cell_type": "code",
   "execution_count": 442,
   "id": "543ab697",
   "metadata": {},
   "outputs": [],
   "source": [
    "from StackGP import *\n",
    "import numpy as np"
   ]
  },
  {
   "cell_type": "code",
   "execution_count": 443,
   "id": "14d8e7fd",
   "metadata": {},
   "outputs": [],
   "source": [
    "operators=allOps()"
   ]
  },
  {
   "cell_type": "code",
   "execution_count": 444,
   "id": "69a04c41",
   "metadata": {},
   "outputs": [],
   "source": [
    "#Define exponent function to generate data\n",
    "def expFunc(x0):\n",
    "    return np.exp(x0)"
   ]
  },
  {
   "cell_type": "code",
   "execution_count": 445,
   "id": "26e0bacc",
   "metadata": {},
   "outputs": [],
   "source": [
    "expModel=[np.array([operators[4],operators[6]]),[variableSelect(0)],[]]"
   ]
  },
  {
   "cell_type": "code",
   "execution_count": 446,
   "id": "4647a99a",
   "metadata": {},
   "outputs": [
    {
     "data": {
      "text/plain": [
       "[array([<function exp at 0x0000023EAB4BEB60>,\n",
       "        <function sqrt at 0x0000023EAB4BECA0>], dtype=object),\n",
       " [<function StackGP.variableSelect.<locals>.<lambda>(variables)>],\n",
       " []]"
      ]
     },
     "execution_count": 446,
     "metadata": {},
     "output_type": "execute_result"
    }
   ],
   "source": [
    "expModel"
   ]
  },
  {
   "cell_type": "code",
   "execution_count": 447,
   "id": "a0f6ccce",
   "metadata": {},
   "outputs": [],
   "source": [
    "inputData=np.array([np.arange(-1,1,.0013)])\n",
    "response=inputData[0]"
   ]
  },
  {
   "cell_type": "code",
   "execution_count": 448,
   "id": "2d3d6c77",
   "metadata": {},
   "outputs": [
    {
     "data": {
      "text/plain": [
       "nan"
      ]
     },
     "execution_count": 448,
     "metadata": {},
     "output_type": "execute_result"
    }
   ],
   "source": [
    "totalSharpness(arctanModel,inputData,response,numPerturbations=4000,percentPerturbation=0.39)"
   ]
  },
  {
   "cell_type": "code",
   "execution_count": null,
   "id": "8c3afb90",
   "metadata": {},
   "outputs": [],
   "source": []
  },
  {
   "cell_type": "code",
   "execution_count": 449,
   "id": "a52a45f2",
   "metadata": {},
   "outputs": [],
   "source": [
    "from StackGP import *\n",
    "import numpy as np"
   ]
  },
  {
   "cell_type": "code",
   "execution_count": 450,
   "id": "9732d7b0",
   "metadata": {},
   "outputs": [],
   "source": [
    "operators=allOps()"
   ]
  },
  {
   "cell_type": "code",
   "execution_count": 451,
   "id": "cc428e7f",
   "metadata": {},
   "outputs": [],
   "source": [
    "#Define exponent function to generate data\n",
    "def expFunc(x0):\n",
    "    return np.exp(x0)"
   ]
  },
  {
   "cell_type": "code",
   "execution_count": 452,
   "id": "124a0d54",
   "metadata": {},
   "outputs": [],
   "source": [
    "expModel=[np.array([operators[4],operators[7]]),[variableSelect(0)],[]]"
   ]
  },
  {
   "cell_type": "code",
   "execution_count": 453,
   "id": "e9e03687",
   "metadata": {},
   "outputs": [
    {
     "data": {
      "text/plain": [
       "[array([<function exp at 0x0000023EAB4BEB60>,\n",
       "        <function inv at 0x0000023EAB4BEDE0>], dtype=object),\n",
       " [<function StackGP.variableSelect.<locals>.<lambda>(variables)>],\n",
       " []]"
      ]
     },
     "execution_count": 453,
     "metadata": {},
     "output_type": "execute_result"
    }
   ],
   "source": [
    "expModel"
   ]
  },
  {
   "cell_type": "code",
   "execution_count": 454,
   "id": "584995b7",
   "metadata": {},
   "outputs": [],
   "source": [
    "inputData=np.array([np.arange(-1,1,.0013)])\n",
    "response=inputData[0]"
   ]
  },
  {
   "cell_type": "code",
   "execution_count": 459,
   "id": "28e204b3",
   "metadata": {},
   "outputs": [
    {
     "data": {
      "text/plain": [
       "nan"
      ]
     },
     "execution_count": 459,
     "metadata": {},
     "output_type": "execute_result"
    }
   ],
   "source": [
    "totalSharpness(arctanModel,inputData,response,numPerturbations=4000,percentPerturbation=0.9)"
   ]
  },
  {
   "cell_type": "code",
   "execution_count": null,
   "id": "9322972a",
   "metadata": {},
   "outputs": [],
   "source": []
  },
  {
   "cell_type": "code",
   "execution_count": 460,
   "id": "89f9d9ae",
   "metadata": {},
   "outputs": [],
   "source": [
    "from StackGP import *\n",
    "import numpy as np"
   ]
  },
  {
   "cell_type": "code",
   "execution_count": 461,
   "id": "ec48fdfd",
   "metadata": {},
   "outputs": [],
   "source": [
    "operators=allOps()"
   ]
  },
  {
   "cell_type": "code",
   "execution_count": 462,
   "id": "87c902ac",
   "metadata": {},
   "outputs": [],
   "source": [
    "#Define exponent function to generate data\n",
    "def expFunc(x0):\n",
    "    return np.exp(x0)"
   ]
  },
  {
   "cell_type": "code",
   "execution_count": 463,
   "id": "1d3069b5",
   "metadata": {},
   "outputs": [],
   "source": [
    "expModel=[np.array([operators[4],operators[8]]),[variableSelect(0)],[]]"
   ]
  },
  {
   "cell_type": "code",
   "execution_count": 464,
   "id": "18b6959b",
   "metadata": {},
   "outputs": [
    {
     "data": {
      "text/plain": [
       "[array([<function exp at 0x0000023EAB4BEB60>,\n",
       "        <function cos at 0x0000023EAB4BEF20>], dtype=object),\n",
       " [<function StackGP.variableSelect.<locals>.<lambda>(variables)>],\n",
       " []]"
      ]
     },
     "execution_count": 464,
     "metadata": {},
     "output_type": "execute_result"
    }
   ],
   "source": [
    "expModel"
   ]
  },
  {
   "cell_type": "code",
   "execution_count": 465,
   "id": "b5623a36",
   "metadata": {},
   "outputs": [],
   "source": [
    "inputData=np.array([np.arange(-1,1,.0013)])\n",
    "response=inputData[0]"
   ]
  },
  {
   "cell_type": "code",
   "execution_count": 466,
   "id": "03ee99e6",
   "metadata": {},
   "outputs": [
    {
     "data": {
      "text/plain": [
       "nan"
      ]
     },
     "execution_count": 466,
     "metadata": {},
     "output_type": "execute_result"
    }
   ],
   "source": [
    "totalSharpness(arctanModel,inputData,response,numPerturbations=4000,percentPerturbation=0.64)"
   ]
  },
  {
   "cell_type": "code",
   "execution_count": null,
   "id": "95d6ea9b",
   "metadata": {},
   "outputs": [],
   "source": []
  },
  {
   "cell_type": "code",
   "execution_count": 467,
   "id": "a7c8c8c8",
   "metadata": {},
   "outputs": [],
   "source": [
    "from StackGP import *\n",
    "import numpy as np"
   ]
  },
  {
   "cell_type": "code",
   "execution_count": 468,
   "id": "8fbe8065",
   "metadata": {},
   "outputs": [],
   "source": [
    "operators=allOps()"
   ]
  },
  {
   "cell_type": "code",
   "execution_count": 469,
   "id": "b3a94e19",
   "metadata": {},
   "outputs": [],
   "source": [
    "#Define exponent function to generate data\n",
    "def expFunc(x0):\n",
    "    return np.exp(x0)"
   ]
  },
  {
   "cell_type": "code",
   "execution_count": 470,
   "id": "5406d2c0",
   "metadata": {},
   "outputs": [],
   "source": [
    "expModel=[np.array([operators[4],operators[9]]),[variableSelect(0)],[]]"
   ]
  },
  {
   "cell_type": "code",
   "execution_count": 471,
   "id": "da99b62d",
   "metadata": {},
   "outputs": [
    {
     "data": {
      "text/plain": [
       "[array([<function exp at 0x0000023EAB4BEB60>,\n",
       "        <function sin at 0x0000023EAB4BEE80>], dtype=object),\n",
       " [<function StackGP.variableSelect.<locals>.<lambda>(variables)>],\n",
       " []]"
      ]
     },
     "execution_count": 471,
     "metadata": {},
     "output_type": "execute_result"
    }
   ],
   "source": [
    "expModel"
   ]
  },
  {
   "cell_type": "code",
   "execution_count": 472,
   "id": "895151f5",
   "metadata": {},
   "outputs": [],
   "source": [
    "inputData=np.array([np.arange(-1,1,.0013)])\n",
    "response=inputData[0]"
   ]
  },
  {
   "cell_type": "code",
   "execution_count": 473,
   "id": "3b13991b",
   "metadata": {},
   "outputs": [
    {
     "data": {
      "text/plain": [
       "nan"
      ]
     },
     "execution_count": 473,
     "metadata": {},
     "output_type": "execute_result"
    }
   ],
   "source": [
    "totalSharpness(arctanModel,inputData,response,numPerturbations=4000,percentPerturbation=0.72)"
   ]
  },
  {
   "cell_type": "code",
   "execution_count": null,
   "id": "c1786ad8",
   "metadata": {},
   "outputs": [],
   "source": []
  },
  {
   "cell_type": "code",
   "execution_count": 474,
   "id": "eed1518c",
   "metadata": {},
   "outputs": [],
   "source": [
    "from StackGP import *\n",
    "import numpy as np"
   ]
  },
  {
   "cell_type": "code",
   "execution_count": 475,
   "id": "9af40d09",
   "metadata": {},
   "outputs": [],
   "source": [
    "operators=allOps()"
   ]
  },
  {
   "cell_type": "code",
   "execution_count": 476,
   "id": "171a31a5",
   "metadata": {},
   "outputs": [],
   "source": [
    "#Define exponent function to generate data\n",
    "def expFunc(x0):\n",
    "    return np.exp(x0)"
   ]
  },
  {
   "cell_type": "code",
   "execution_count": 477,
   "id": "ca19c8eb",
   "metadata": {},
   "outputs": [],
   "source": [
    "expModel=[np.array([operators[4],operators[10]]),[variableSelect(0)],[]]"
   ]
  },
  {
   "cell_type": "code",
   "execution_count": 478,
   "id": "ebe8e1c9",
   "metadata": {},
   "outputs": [
    {
     "data": {
      "text/plain": [
       "[array([<function exp at 0x0000023EAB4BEB60>,\n",
       "        <function tan at 0x0000023EAB4BEFC0>], dtype=object),\n",
       " [<function StackGP.variableSelect.<locals>.<lambda>(variables)>],\n",
       " []]"
      ]
     },
     "execution_count": 478,
     "metadata": {},
     "output_type": "execute_result"
    }
   ],
   "source": [
    "expModel"
   ]
  },
  {
   "cell_type": "code",
   "execution_count": 479,
   "id": "f06b9583",
   "metadata": {},
   "outputs": [],
   "source": [
    "inputData=np.array([np.arange(-1,1,.0013)])\n",
    "response=inputData[0]"
   ]
  },
  {
   "cell_type": "code",
   "execution_count": 480,
   "id": "bcfd17c6",
   "metadata": {},
   "outputs": [
    {
     "data": {
      "text/plain": [
       "nan"
      ]
     },
     "execution_count": 480,
     "metadata": {},
     "output_type": "execute_result"
    }
   ],
   "source": [
    "totalSharpness(arctanModel,inputData,response,numPerturbations=4000,percentPerturbation=0.49)"
   ]
  },
  {
   "cell_type": "code",
   "execution_count": null,
   "id": "32956daf",
   "metadata": {},
   "outputs": [],
   "source": []
  },
  {
   "cell_type": "code",
   "execution_count": 481,
   "id": "2bfae73a",
   "metadata": {},
   "outputs": [],
   "source": [
    "from StackGP import *\n",
    "import numpy as np"
   ]
  },
  {
   "cell_type": "code",
   "execution_count": 482,
   "id": "5afb94ec",
   "metadata": {},
   "outputs": [],
   "source": [
    "operators=allOps()"
   ]
  },
  {
   "cell_type": "code",
   "execution_count": 483,
   "id": "f9adf2fc",
   "metadata": {},
   "outputs": [],
   "source": [
    "#Define exponent function to generate data\n",
    "def expFunc(x0):\n",
    "    return np.exp(x0)"
   ]
  },
  {
   "cell_type": "code",
   "execution_count": 484,
   "id": "75d4d090",
   "metadata": {},
   "outputs": [],
   "source": [
    "expModel=[np.array([operators[4],operators[13]]),[variableSelect(0)],[]]"
   ]
  },
  {
   "cell_type": "code",
   "execution_count": 485,
   "id": "a860e901",
   "metadata": {},
   "outputs": [
    {
     "data": {
      "text/plain": [
       "[array([<function exp at 0x0000023EAB4BEB60>,\n",
       "        <function arctan at 0x0000023EAB4BF1A0>], dtype=object),\n",
       " [<function StackGP.variableSelect.<locals>.<lambda>(variables)>],\n",
       " []]"
      ]
     },
     "execution_count": 485,
     "metadata": {},
     "output_type": "execute_result"
    }
   ],
   "source": [
    "expModel"
   ]
  },
  {
   "cell_type": "code",
   "execution_count": 486,
   "id": "d528b186",
   "metadata": {},
   "outputs": [],
   "source": [
    "inputData=np.array([np.arange(-1,1,.0013)])\n",
    "response=inputData[0]"
   ]
  },
  {
   "cell_type": "code",
   "execution_count": 487,
   "id": "cdb078a4",
   "metadata": {},
   "outputs": [
    {
     "data": {
      "text/plain": [
       "nan"
      ]
     },
     "execution_count": 487,
     "metadata": {},
     "output_type": "execute_result"
    }
   ],
   "source": [
    "totalSharpness(arctanModel,inputData,response,numPerturbations=4000,percentPerturbation=0.12)"
   ]
  },
  {
   "cell_type": "code",
   "execution_count": null,
   "id": "bf1139da",
   "metadata": {},
   "outputs": [],
   "source": []
  },
  {
   "cell_type": "code",
   "execution_count": 488,
   "id": "f18093e2",
   "metadata": {},
   "outputs": [],
   "source": [
    "from StackGP import *\n",
    "import numpy as np"
   ]
  },
  {
   "cell_type": "code",
   "execution_count": 489,
   "id": "75d6005f",
   "metadata": {},
   "outputs": [],
   "source": [
    "operators=allOps()"
   ]
  },
  {
   "cell_type": "code",
   "execution_count": 490,
   "id": "22a6ce01",
   "metadata": {},
   "outputs": [],
   "source": [
    "#Define exponent function to generate data\n",
    "def expFunc(x0):\n",
    "    return np.exp(x0)"
   ]
  },
  {
   "cell_type": "code",
   "execution_count": 491,
   "id": "fde59c64",
   "metadata": {},
   "outputs": [],
   "source": [
    "expModel=[np.array([operators[4],operators[14]]),[variableSelect(0)],[]]"
   ]
  },
  {
   "cell_type": "code",
   "execution_count": 492,
   "id": "5fc93a13",
   "metadata": {},
   "outputs": [
    {
     "data": {
      "text/plain": [
       "[array([<function exp at 0x0000023EAB4BEB60>,\n",
       "        <function tanh at 0x0000023EAB4BF240>], dtype=object),\n",
       " [<function StackGP.variableSelect.<locals>.<lambda>(variables)>],\n",
       " []]"
      ]
     },
     "execution_count": 492,
     "metadata": {},
     "output_type": "execute_result"
    }
   ],
   "source": [
    "expModel"
   ]
  },
  {
   "cell_type": "code",
   "execution_count": 493,
   "id": "863de183",
   "metadata": {},
   "outputs": [],
   "source": [
    "inputData=np.array([np.arange(-1,1,.0013)])\n",
    "response=inputData[0]"
   ]
  },
  {
   "cell_type": "code",
   "execution_count": 494,
   "id": "efa4c407",
   "metadata": {},
   "outputs": [
    {
     "data": {
      "text/plain": [
       "nan"
      ]
     },
     "execution_count": 494,
     "metadata": {},
     "output_type": "execute_result"
    }
   ],
   "source": [
    "totalSharpness(arctanModel,inputData,response,numPerturbations=4000,percentPerturbation=0.95)"
   ]
  },
  {
   "cell_type": "code",
   "execution_count": null,
   "id": "a517d70f",
   "metadata": {},
   "outputs": [],
   "source": []
  },
  {
   "cell_type": "code",
   "execution_count": 495,
   "id": "a885cc6b",
   "metadata": {},
   "outputs": [],
   "source": [
    "from StackGP import *\n",
    "import numpy as np"
   ]
  },
  {
   "cell_type": "code",
   "execution_count": 496,
   "id": "639ab8bc",
   "metadata": {},
   "outputs": [],
   "source": [
    "operators=allOps()"
   ]
  },
  {
   "cell_type": "code",
   "execution_count": 497,
   "id": "a0f73304",
   "metadata": {},
   "outputs": [],
   "source": [
    "#Define exponent function to generate data\n",
    "def expFunc(x0):\n",
    "    return np.exp(x0)"
   ]
  },
  {
   "cell_type": "code",
   "execution_count": 498,
   "id": "188770b9",
   "metadata": {},
   "outputs": [],
   "source": [
    "expModel=[np.array([operators[4],operators[15]]),[variableSelect(0)],[]]"
   ]
  },
  {
   "cell_type": "code",
   "execution_count": 499,
   "id": "c399b1a5",
   "metadata": {},
   "outputs": [
    {
     "data": {
      "text/plain": [
       "[array([<function exp at 0x0000023EAB4BEB60>,\n",
       "        <function log at 0x0000023EAB4BF2E0>], dtype=object),\n",
       " [<function StackGP.variableSelect.<locals>.<lambda>(variables)>],\n",
       " []]"
      ]
     },
     "execution_count": 499,
     "metadata": {},
     "output_type": "execute_result"
    }
   ],
   "source": [
    "expModel"
   ]
  },
  {
   "cell_type": "code",
   "execution_count": 500,
   "id": "781296b2",
   "metadata": {},
   "outputs": [],
   "source": [
    "inputData=np.array([np.arange(-1,1,.0013)])\n",
    "response=inputData[0]"
   ]
  },
  {
   "cell_type": "code",
   "execution_count": 501,
   "id": "5a58817d",
   "metadata": {},
   "outputs": [
    {
     "data": {
      "text/plain": [
       "nan"
      ]
     },
     "execution_count": 501,
     "metadata": {},
     "output_type": "execute_result"
    }
   ],
   "source": [
    "totalSharpness(arctanModel,inputData,response,numPerturbations=4000,percentPerturbation=0.82)"
   ]
  },
  {
   "cell_type": "code",
   "execution_count": 502,
   "id": "e3719bf6",
   "metadata": {},
   "outputs": [
    {
     "data": {
      "image/png": "[encoded data removed]",
      "text/plain": [
       "<Figure size 1000x500 with 1 Axes>"
      ]
     },
     "metadata": {},
     "output_type": "display_data"
    }
   ],
   "source": [
    "import numpy as np\n",
    "import matplotlib.pyplot as plt \n",
    "\n",
    " \n",
    "# creating the dataset\n",
    "data = {'0.03':1,'0.39':1,'0.90':1,'0.64':1,'0.72':1,'0.49':1,'0.12':1,'0.95':1,'0.82':1}\n",
    "courses = list(data.keys())\n",
    "values = list(data.values())\n",
    " \n",
    "fig = plt.figure(figsize = (10, 5))\n",
    "\n",
    "# creating the bar plot\n",
    "plt.bar(courses, values, color ='maroon', \n",
    "        width = 0.4)\n",
    "\n",
    "plt.xlabel(\"percentPerturbation\")\n",
    "plt.ylabel(\"Sharpness\")\n",
    "plt.title(\"Change in %Perturbation for Exp Function\")\n",
    "plt.yscale(\"log\")\n",
    "plt.show()"
   ]
  },
  {
   "cell_type": "markdown",
   "id": "04f4a6eb",
   "metadata": {},
   "source": [
    "# Squared Function Combinations"
   ]
  },
  {
   "cell_type": "code",
   "execution_count": 503,
   "id": "1ca99f11",
   "metadata": {},
   "outputs": [],
   "source": [
    "from StackGP import *\n",
    "import numpy as np"
   ]
  },
  {
   "cell_type": "code",
   "execution_count": 504,
   "id": "6ab1b0a7",
   "metadata": {},
   "outputs": [],
   "source": [
    "operators=allOps()"
   ]
  },
  {
   "cell_type": "code",
   "execution_count": 505,
   "id": "bb2d8b85",
   "metadata": {},
   "outputs": [],
   "source": [
    "#Define squared function to generate data\n",
    "def sqrdFunc(x0):\n",
    "    return np.sqrd(x0)"
   ]
  },
  {
   "cell_type": "code",
   "execution_count": 506,
   "id": "e92a06bf",
   "metadata": {},
   "outputs": [],
   "source": [
    "sqrdModel=[np.array([operators[5],operators[4]]),[variableSelect(0)],[]]"
   ]
  },
  {
   "cell_type": "code",
   "execution_count": 507,
   "id": "0e1e9655",
   "metadata": {},
   "outputs": [
    {
     "data": {
      "text/plain": [
       "[array([<function sqrd at 0x0000023EAB4BED40>,\n",
       "        <function exp at 0x0000023EAB4BEB60>], dtype=object),\n",
       " [<function StackGP.variableSelect.<locals>.<lambda>(variables)>],\n",
       " []]"
      ]
     },
     "execution_count": 507,
     "metadata": {},
     "output_type": "execute_result"
    }
   ],
   "source": [
    "sqrdModel"
   ]
  },
  {
   "cell_type": "code",
   "execution_count": 508,
   "id": "34760cdf",
   "metadata": {},
   "outputs": [],
   "source": [
    "inputData=np.array([np.arange(-1,1,.0013)])\n",
    "response=inputData[0]"
   ]
  },
  {
   "cell_type": "code",
   "execution_count": 509,
   "id": "f55d6d7c",
   "metadata": {},
   "outputs": [
    {
     "data": {
      "text/plain": [
       "0.0006033257163151917"
      ]
     },
     "execution_count": 509,
     "metadata": {},
     "output_type": "execute_result"
    }
   ],
   "source": [
    "totalSharpness(sqrdModel,inputData,response,numPerturbations=4000,percentPerturbation=0.89)"
   ]
  },
  {
   "cell_type": "code",
   "execution_count": null,
   "id": "3d3abbf7",
   "metadata": {},
   "outputs": [],
   "source": []
  },
  {
   "cell_type": "code",
   "execution_count": 510,
   "id": "322af2c7",
   "metadata": {},
   "outputs": [],
   "source": [
    "from StackGP import *\n",
    "import numpy as np"
   ]
  },
  {
   "cell_type": "code",
   "execution_count": 511,
   "id": "9d1588bb",
   "metadata": {},
   "outputs": [],
   "source": [
    "operators=allOps()"
   ]
  },
  {
   "cell_type": "code",
   "execution_count": 512,
   "id": "e2b251ae",
   "metadata": {},
   "outputs": [],
   "source": [
    "#Define squared function to generate data\n",
    "def sqrdFunc(x0):\n",
    "    return np.sqrd(x0)"
   ]
  },
  {
   "cell_type": "code",
   "execution_count": 513,
   "id": "b8207aea",
   "metadata": {},
   "outputs": [],
   "source": [
    "sqrdModel=[np.array([operators[5],operators[6]]),[variableSelect(0)],[]]"
   ]
  },
  {
   "cell_type": "code",
   "execution_count": 514,
   "id": "495bfea4",
   "metadata": {},
   "outputs": [
    {
     "data": {
      "text/plain": [
       "[array([<function sqrd at 0x0000023EAB4BED40>,\n",
       "        <function sqrt at 0x0000023EAB4BECA0>], dtype=object),\n",
       " [<function StackGP.variableSelect.<locals>.<lambda>(variables)>],\n",
       " []]"
      ]
     },
     "execution_count": 514,
     "metadata": {},
     "output_type": "execute_result"
    }
   ],
   "source": [
    "sqrdModel"
   ]
  },
  {
   "cell_type": "code",
   "execution_count": 515,
   "id": "817bda29",
   "metadata": {},
   "outputs": [],
   "source": [
    "inputData=np.array([np.arange(1,1000,.1)])\n",
    "response=inputData[0]"
   ]
  },
  {
   "cell_type": "code",
   "execution_count": 516,
   "id": "0d636d91",
   "metadata": {},
   "outputs": [
    {
     "data": {
      "text/plain": [
       "6.255795970886704e-07"
      ]
     },
     "execution_count": 516,
     "metadata": {},
     "output_type": "execute_result"
    }
   ],
   "source": [
    "totalSharpness(sqrdModel,inputData,response,numPerturbations=4000,percentPerturbation=0.029)"
   ]
  },
  {
   "cell_type": "code",
   "execution_count": null,
   "id": "d8d3ab11",
   "metadata": {},
   "outputs": [],
   "source": []
  },
  {
   "cell_type": "code",
   "execution_count": 517,
   "id": "57260788",
   "metadata": {},
   "outputs": [],
   "source": [
    "from StackGP import *\n",
    "import numpy as np"
   ]
  },
  {
   "cell_type": "code",
   "execution_count": 518,
   "id": "c7f4dd6b",
   "metadata": {},
   "outputs": [],
   "source": [
    "operators=allOps()"
   ]
  },
  {
   "cell_type": "code",
   "execution_count": 519,
   "id": "6b7ad585",
   "metadata": {},
   "outputs": [],
   "source": [
    "#Define squared function to generate data\n",
    "def sqrdFunc(x0):\n",
    "    return np.sqrd(x0)"
   ]
  },
  {
   "cell_type": "code",
   "execution_count": 520,
   "id": "df1ba60e",
   "metadata": {},
   "outputs": [],
   "source": [
    "sqrdModel=[np.array([operators[5],operators[7]]),[variableSelect(0)],[]]"
   ]
  },
  {
   "cell_type": "code",
   "execution_count": 521,
   "id": "f65df2a6",
   "metadata": {},
   "outputs": [
    {
     "data": {
      "text/plain": [
       "[array([<function sqrd at 0x0000023EAB4BED40>,\n",
       "        <function inv at 0x0000023EAB4BEDE0>], dtype=object),\n",
       " [<function StackGP.variableSelect.<locals>.<lambda>(variables)>],\n",
       " []]"
      ]
     },
     "execution_count": 521,
     "metadata": {},
     "output_type": "execute_result"
    }
   ],
   "source": [
    "sqrdModel"
   ]
  },
  {
   "cell_type": "code",
   "execution_count": 522,
   "id": "821deafe",
   "metadata": {},
   "outputs": [],
   "source": [
    "inputData=np.array([np.arange(-1,1,.0013)])\n",
    "response=inputData[0]"
   ]
  },
  {
   "cell_type": "code",
   "execution_count": 523,
   "id": "11f36c82",
   "metadata": {},
   "outputs": [
    {
     "data": {
      "text/plain": [
       "4.242248233678605e-09"
      ]
     },
     "execution_count": 523,
     "metadata": {},
     "output_type": "execute_result"
    }
   ],
   "source": [
    "totalSharpness(sqrdModel,inputData,response,numPerturbations=4000,percentPerturbation=0.0078)"
   ]
  },
  {
   "cell_type": "code",
   "execution_count": null,
   "id": "46108be2",
   "metadata": {},
   "outputs": [],
   "source": []
  },
  {
   "cell_type": "code",
   "execution_count": 524,
   "id": "4c265299",
   "metadata": {},
   "outputs": [],
   "source": [
    "from StackGP import *\n",
    "import numpy as np"
   ]
  },
  {
   "cell_type": "code",
   "execution_count": 525,
   "id": "841fe4d0",
   "metadata": {},
   "outputs": [],
   "source": [
    "operators=allOps()"
   ]
  },
  {
   "cell_type": "code",
   "execution_count": 526,
   "id": "29ecfa82",
   "metadata": {},
   "outputs": [],
   "source": [
    "#Define squared function to generate data\n",
    "def sqrdFunc(x0):\n",
    "    return np.sqrd(x0)"
   ]
  },
  {
   "cell_type": "code",
   "execution_count": 527,
   "id": "95a9a06f",
   "metadata": {},
   "outputs": [],
   "source": [
    "sqrdModel=[np.array([operators[5],operators[8]]),[variableSelect(0)],[]]"
   ]
  },
  {
   "cell_type": "code",
   "execution_count": 528,
   "id": "1479f054",
   "metadata": {},
   "outputs": [
    {
     "data": {
      "text/plain": [
       "[array([<function sqrd at 0x0000023EAB4BED40>,\n",
       "        <function cos at 0x0000023EAB4BEF20>], dtype=object),\n",
       " [<function StackGP.variableSelect.<locals>.<lambda>(variables)>],\n",
       " []]"
      ]
     },
     "execution_count": 528,
     "metadata": {},
     "output_type": "execute_result"
    }
   ],
   "source": [
    "sqrdModel"
   ]
  },
  {
   "cell_type": "code",
   "execution_count": 529,
   "id": "057aaafd",
   "metadata": {},
   "outputs": [],
   "source": [
    "inputData=np.array([np.arange(-1,1,.0013)])\n",
    "response=inputData[0]"
   ]
  },
  {
   "cell_type": "code",
   "execution_count": 530,
   "id": "9702b6c0",
   "metadata": {},
   "outputs": [
    {
     "data": {
      "text/plain": [
       "0.0006717088313584544"
      ]
     },
     "execution_count": 530,
     "metadata": {},
     "output_type": "execute_result"
    }
   ],
   "source": [
    "totalSharpness(sqrdModel,inputData,response,numPerturbations=4000,percentPerturbation=0.779)"
   ]
  },
  {
   "cell_type": "code",
   "execution_count": null,
   "id": "c7768e40",
   "metadata": {},
   "outputs": [],
   "source": []
  },
  {
   "cell_type": "code",
   "execution_count": 531,
   "id": "b8ff1990",
   "metadata": {},
   "outputs": [],
   "source": [
    "from StackGP import *\n",
    "import numpy as np"
   ]
  },
  {
   "cell_type": "code",
   "execution_count": 532,
   "id": "ba20252d",
   "metadata": {},
   "outputs": [],
   "source": [
    "operators=allOps()"
   ]
  },
  {
   "cell_type": "code",
   "execution_count": 533,
   "id": "800dbd75",
   "metadata": {},
   "outputs": [],
   "source": [
    "#Define squared function to generate data\n",
    "def sqrdFunc(x0):\n",
    "    return np.sqrd(x0)"
   ]
  },
  {
   "cell_type": "code",
   "execution_count": 534,
   "id": "c41ce060",
   "metadata": {},
   "outputs": [],
   "source": [
    "sqrdModel=[np.array([operators[5],operators[9]]),[variableSelect(0)],[]]"
   ]
  },
  {
   "cell_type": "code",
   "execution_count": 535,
   "id": "740c31af",
   "metadata": {},
   "outputs": [
    {
     "data": {
      "text/plain": [
       "[array([<function sqrd at 0x0000023EAB4BED40>,\n",
       "        <function sin at 0x0000023EAB4BEE80>], dtype=object),\n",
       " [<function StackGP.variableSelect.<locals>.<lambda>(variables)>],\n",
       " []]"
      ]
     },
     "execution_count": 535,
     "metadata": {},
     "output_type": "execute_result"
    }
   ],
   "source": [
    "sqrdModel"
   ]
  },
  {
   "cell_type": "code",
   "execution_count": 536,
   "id": "471d9cc1",
   "metadata": {},
   "outputs": [],
   "source": [
    "inputData=np.array([np.arange(-1,1,.0013)])\n",
    "response=inputData[0]"
   ]
  },
  {
   "cell_type": "code",
   "execution_count": 537,
   "id": "0d82547b",
   "metadata": {},
   "outputs": [
    {
     "data": {
      "text/plain": [
       "4.4778583308364825e-06"
      ]
     },
     "execution_count": 537,
     "metadata": {},
     "output_type": "execute_result"
    }
   ],
   "source": [
    "totalSharpness(sqrdModel,inputData,response,numPerturbations=4000,percentPerturbation=0.082)"
   ]
  },
  {
   "cell_type": "code",
   "execution_count": null,
   "id": "f696e245",
   "metadata": {},
   "outputs": [],
   "source": []
  },
  {
   "cell_type": "code",
   "execution_count": 538,
   "id": "a6e36e93",
   "metadata": {},
   "outputs": [],
   "source": [
    "from StackGP import *\n",
    "import numpy as np"
   ]
  },
  {
   "cell_type": "code",
   "execution_count": 539,
   "id": "4ee4cc6d",
   "metadata": {},
   "outputs": [],
   "source": [
    "operators=allOps()"
   ]
  },
  {
   "cell_type": "code",
   "execution_count": 540,
   "id": "7006f925",
   "metadata": {},
   "outputs": [],
   "source": [
    "#Define squared function to generate data\n",
    "def sqrdFunc(x0):\n",
    "    return np.sqrd(x0)"
   ]
  },
  {
   "cell_type": "code",
   "execution_count": 541,
   "id": "eb18b322",
   "metadata": {},
   "outputs": [],
   "source": [
    "sqrdModel=[np.array([operators[5],operators[10]]),[variableSelect(0)],[]]"
   ]
  },
  {
   "cell_type": "code",
   "execution_count": 542,
   "id": "b2689862",
   "metadata": {},
   "outputs": [
    {
     "data": {
      "text/plain": [
       "[array([<function sqrd at 0x0000023EAB4BED40>,\n",
       "        <function tan at 0x0000023EAB4BEFC0>], dtype=object),\n",
       " [<function StackGP.variableSelect.<locals>.<lambda>(variables)>],\n",
       " []]"
      ]
     },
     "execution_count": 542,
     "metadata": {},
     "output_type": "execute_result"
    }
   ],
   "source": [
    "sqrdModel"
   ]
  },
  {
   "cell_type": "code",
   "execution_count": 543,
   "id": "0e5b5681",
   "metadata": {},
   "outputs": [],
   "source": [
    "inputData=np.array([np.arange(-1,1,.0013)])\n",
    "response=inputData[0]"
   ]
  },
  {
   "cell_type": "code",
   "execution_count": 544,
   "id": "1f0f6425",
   "metadata": {},
   "outputs": [
    {
     "data": {
      "text/plain": [
       "0.00019854948241418945"
      ]
     },
     "execution_count": 544,
     "metadata": {},
     "output_type": "execute_result"
    }
   ],
   "source": [
    "totalSharpness(sqrdModel,inputData,response,numPerturbations=4000,percentPerturbation=0.34)"
   ]
  },
  {
   "cell_type": "code",
   "execution_count": null,
   "id": "b8a21fcc",
   "metadata": {},
   "outputs": [],
   "source": []
  },
  {
   "cell_type": "code",
   "execution_count": 545,
   "id": "d4018b72",
   "metadata": {},
   "outputs": [],
   "source": [
    "from StackGP import *\n",
    "import numpy as np"
   ]
  },
  {
   "cell_type": "code",
   "execution_count": 546,
   "id": "28b5d818",
   "metadata": {},
   "outputs": [],
   "source": [
    "operators=allOps()"
   ]
  },
  {
   "cell_type": "code",
   "execution_count": 547,
   "id": "b6df17f4",
   "metadata": {},
   "outputs": [],
   "source": [
    "#Define squared function to generate data\n",
    "def sqrdFunc(x0):\n",
    "    return np.sqrd(x0)"
   ]
  },
  {
   "cell_type": "code",
   "execution_count": 548,
   "id": "aac981b6",
   "metadata": {},
   "outputs": [],
   "source": [
    "sqrdModel=[np.array([operators[5],operators[13]]),[variableSelect(0)],[]]"
   ]
  },
  {
   "cell_type": "code",
   "execution_count": 549,
   "id": "ed6f4c05",
   "metadata": {},
   "outputs": [
    {
     "data": {
      "text/plain": [
       "[array([<function sqrd at 0x0000023EAB4BED40>,\n",
       "        <function arctan at 0x0000023EAB4BF1A0>], dtype=object),\n",
       " [<function StackGP.variableSelect.<locals>.<lambda>(variables)>],\n",
       " []]"
      ]
     },
     "execution_count": 549,
     "metadata": {},
     "output_type": "execute_result"
    }
   ],
   "source": [
    "sqrdModel"
   ]
  },
  {
   "cell_type": "code",
   "execution_count": 550,
   "id": "1f9b2da6",
   "metadata": {},
   "outputs": [],
   "source": [
    "inputData=np.array([np.arange(-1,1,.0013)])\n",
    "response=inputData[0]"
   ]
  },
  {
   "cell_type": "code",
   "execution_count": 551,
   "id": "40127d4c",
   "metadata": {},
   "outputs": [
    {
     "data": {
      "text/plain": [
       "1.9372202657680323e-06"
      ]
     },
     "execution_count": 551,
     "metadata": {},
     "output_type": "execute_result"
    }
   ],
   "source": [
    "totalSharpness(sqrdModel,inputData,response,numPerturbations=4000,percentPerturbation=0.045)"
   ]
  },
  {
   "cell_type": "code",
   "execution_count": null,
   "id": "592e9847",
   "metadata": {},
   "outputs": [],
   "source": []
  },
  {
   "cell_type": "code",
   "execution_count": 552,
   "id": "a380592e",
   "metadata": {},
   "outputs": [],
   "source": [
    "from StackGP import *\n",
    "import numpy as np"
   ]
  },
  {
   "cell_type": "code",
   "execution_count": 553,
   "id": "36c9c418",
   "metadata": {},
   "outputs": [],
   "source": [
    "operators=allOps()"
   ]
  },
  {
   "cell_type": "code",
   "execution_count": 554,
   "id": "adfc986d",
   "metadata": {},
   "outputs": [],
   "source": [
    "#Define squared function to generate data\n",
    "def sqrdFunc(x0):\n",
    "    return np.sqrd(x0)"
   ]
  },
  {
   "cell_type": "code",
   "execution_count": 555,
   "id": "d1514f5c",
   "metadata": {},
   "outputs": [],
   "source": [
    "sqrdModel=[np.array([operators[5],operators[14]]),[variableSelect(0)],[]]"
   ]
  },
  {
   "cell_type": "code",
   "execution_count": 556,
   "id": "8d5f4e9d",
   "metadata": {},
   "outputs": [
    {
     "data": {
      "text/plain": [
       "[array([<function sqrd at 0x0000023EAB4BED40>,\n",
       "        <function tanh at 0x0000023EAB4BF240>], dtype=object),\n",
       " [<function StackGP.variableSelect.<locals>.<lambda>(variables)>],\n",
       " []]"
      ]
     },
     "execution_count": 556,
     "metadata": {},
     "output_type": "execute_result"
    }
   ],
   "source": [
    "sqrdModel"
   ]
  },
  {
   "cell_type": "code",
   "execution_count": 557,
   "id": "759887ae",
   "metadata": {},
   "outputs": [],
   "source": [
    "inputData=np.array([np.arange(-1,1,.0013)])\n",
    "response=inputData[0]"
   ]
  },
  {
   "cell_type": "code",
   "execution_count": 558,
   "id": "31d23bcf",
   "metadata": {},
   "outputs": [
    {
     "data": {
      "text/plain": [
       "8.430526539021055e-06"
      ]
     },
     "execution_count": 558,
     "metadata": {},
     "output_type": "execute_result"
    }
   ],
   "source": [
    "totalSharpness(sqrdModel,inputData,response,numPerturbations=4000,percentPerturbation=0.13)"
   ]
  },
  {
   "cell_type": "code",
   "execution_count": null,
   "id": "9b728aef",
   "metadata": {},
   "outputs": [],
   "source": []
  },
  {
   "cell_type": "code",
   "execution_count": 559,
   "id": "5c6394eb",
   "metadata": {},
   "outputs": [],
   "source": [
    "from StackGP import *\n",
    "import numpy as np"
   ]
  },
  {
   "cell_type": "code",
   "execution_count": 560,
   "id": "d3b71a7b",
   "metadata": {},
   "outputs": [],
   "source": [
    "operators=allOps()"
   ]
  },
  {
   "cell_type": "code",
   "execution_count": 561,
   "id": "3028c292",
   "metadata": {},
   "outputs": [],
   "source": [
    "#Define squared function to generate data\n",
    "def sqrdFunc(x0):\n",
    "    return np.sqrd(x0)"
   ]
  },
  {
   "cell_type": "code",
   "execution_count": 562,
   "id": "170f373b",
   "metadata": {},
   "outputs": [],
   "source": [
    "sqrdModel=[np.array([operators[5],operators[15]]),[variableSelect(0)],[]]"
   ]
  },
  {
   "cell_type": "code",
   "execution_count": 563,
   "id": "9655134c",
   "metadata": {},
   "outputs": [
    {
     "data": {
      "text/plain": [
       "[array([<function sqrd at 0x0000023EAB4BED40>,\n",
       "        <function log at 0x0000023EAB4BF2E0>], dtype=object),\n",
       " [<function StackGP.variableSelect.<locals>.<lambda>(variables)>],\n",
       " []]"
      ]
     },
     "execution_count": 563,
     "metadata": {},
     "output_type": "execute_result"
    }
   ],
   "source": [
    "sqrdModel"
   ]
  },
  {
   "cell_type": "code",
   "execution_count": 564,
   "id": "f0dee5f3",
   "metadata": {},
   "outputs": [],
   "source": [
    "inputData=np.array([np.arange(-1,1,.0013)])\n",
    "response=inputData[0]"
   ]
  },
  {
   "cell_type": "code",
   "execution_count": 565,
   "id": "f0c55550",
   "metadata": {},
   "outputs": [
    {
     "data": {
      "text/plain": [
       "4.888896408717097e-07"
      ]
     },
     "execution_count": 565,
     "metadata": {},
     "output_type": "execute_result"
    }
   ],
   "source": [
    "totalSharpness(sqrdModel,inputData,response,numPerturbations=4000,percentPerturbation=0.055)"
   ]
  },
  {
   "cell_type": "code",
   "execution_count": 566,
   "id": "a9bf5e53",
   "metadata": {},
   "outputs": [
    {
     "data": {
      "image/png": "[encoded data removed]",
      "text/plain": [
       "<Figure size 1000x500 with 1 Axes>"
      ]
     },
     "metadata": {},
     "output_type": "display_data"
    }
   ],
   "source": [
    "import numpy as np\n",
    "import matplotlib.pyplot as plt \n",
    "\n",
    " \n",
    "# creating the dataset\n",
    "data = {'0.89':0.000603325,'0.029':0.00000062557,'0.0078':0.00000000424,'0.779':0.0006717,'0.082':0.00000447,'0.34':0.00019854,'0.045':0.000001937,'0.13':0.00000843052,'0.055':0.000000488}\n",
    "courses = list(data.keys())\n",
    "values = list(data.values())\n",
    " \n",
    "fig = plt.figure(figsize = (10, 5))\n",
    "\n",
    "# creating the bar plot\n",
    "plt.bar(courses, values, color ='maroon', \n",
    "        width = 0.4)\n",
    "\n",
    "plt.xlabel(\"percentPerturbation\")\n",
    "plt.ylabel(\"Sharpness\")\n",
    "plt.title(\"Change in %Perturbation for Sqrd Function\")\n",
    "plt.yscale(\"log\")\n",
    "plt.show()\n"
   ]
  },
  {
   "cell_type": "markdown",
   "id": "d1c7d317",
   "metadata": {},
   "source": [
    "# Square root Function Combinations"
   ]
  },
  {
   "cell_type": "code",
   "execution_count": 567,
   "id": "bc8d40cd",
   "metadata": {},
   "outputs": [],
   "source": [
    "from StackGP import *\n",
    "import numpy as np"
   ]
  },
  {
   "cell_type": "code",
   "execution_count": 568,
   "id": "cd33333f",
   "metadata": {},
   "outputs": [],
   "source": [
    "operators=allOps()"
   ]
  },
  {
   "cell_type": "code",
   "execution_count": 569,
   "id": "8a94930a",
   "metadata": {},
   "outputs": [],
   "source": [
    "#Define square root function to generate data\n",
    "def sqrtFunc(x0):\n",
    "    return np.sqrt(x0)"
   ]
  },
  {
   "cell_type": "code",
   "execution_count": 570,
   "id": "5a7f9ed7",
   "metadata": {},
   "outputs": [],
   "source": [
    "sqrtModel=[np.array([operators[6],operators[4]]),[variableSelect(0)],[]]"
   ]
  },
  {
   "cell_type": "code",
   "execution_count": 571,
   "id": "6c72951e",
   "metadata": {},
   "outputs": [
    {
     "data": {
      "text/plain": [
       "[array([<function sqrt at 0x0000023EAB4BECA0>,\n",
       "        <function exp at 0x0000023EAB4BEB60>], dtype=object),\n",
       " [<function StackGP.variableSelect.<locals>.<lambda>(variables)>],\n",
       " []]"
      ]
     },
     "execution_count": 571,
     "metadata": {},
     "output_type": "execute_result"
    }
   ],
   "source": [
    "sqrtModel"
   ]
  },
  {
   "cell_type": "code",
   "execution_count": 572,
   "id": "290e7e62",
   "metadata": {},
   "outputs": [],
   "source": [
    "inputData=np.array([np.arange(-1,1,.0013)])\n",
    "response=inputData[0]"
   ]
  },
  {
   "cell_type": "code",
   "execution_count": 573,
   "id": "2de85d67",
   "metadata": {},
   "outputs": [
    {
     "data": {
      "text/plain": [
       "nan"
      ]
     },
     "execution_count": 573,
     "metadata": {},
     "output_type": "execute_result"
    }
   ],
   "source": [
    "totalSharpness(sqrtModel,inputData,response,numPerturbations=4000,percentPerturbation=0.002)"
   ]
  },
  {
   "cell_type": "code",
   "execution_count": null,
   "id": "4e591a43",
   "metadata": {},
   "outputs": [],
   "source": []
  },
  {
   "cell_type": "code",
   "execution_count": 574,
   "id": "74aa4eda",
   "metadata": {},
   "outputs": [],
   "source": [
    "from StackGP import *\n",
    "import numpy as np"
   ]
  },
  {
   "cell_type": "code",
   "execution_count": 575,
   "id": "2bac7cfa",
   "metadata": {},
   "outputs": [],
   "source": [
    "operators=allOps()"
   ]
  },
  {
   "cell_type": "code",
   "execution_count": 576,
   "id": "7c56bbe5",
   "metadata": {},
   "outputs": [],
   "source": [
    "#Define square root function to generate data\n",
    "def sqrtFunc(x0):\n",
    "    return np.sqrt(x0)"
   ]
  },
  {
   "cell_type": "code",
   "execution_count": 577,
   "id": "86aacbdc",
   "metadata": {},
   "outputs": [],
   "source": [
    "sqrtModel=[np.array([operators[6],operators[5]]),[variableSelect(0)],[]]"
   ]
  },
  {
   "cell_type": "code",
   "execution_count": 578,
   "id": "2a56d86b",
   "metadata": {},
   "outputs": [
    {
     "data": {
      "text/plain": [
       "[array([<function sqrt at 0x0000023EAB4BECA0>,\n",
       "        <function sqrd at 0x0000023EAB4BED40>], dtype=object),\n",
       " [<function StackGP.variableSelect.<locals>.<lambda>(variables)>],\n",
       " []]"
      ]
     },
     "execution_count": 578,
     "metadata": {},
     "output_type": "execute_result"
    }
   ],
   "source": [
    "sqrtModel"
   ]
  },
  {
   "cell_type": "code",
   "execution_count": 579,
   "id": "19cd618c",
   "metadata": {},
   "outputs": [],
   "source": [
    "inputData=np.array([np.arange(-1,1,.0013)])\n",
    "response=inputData[0]"
   ]
  },
  {
   "cell_type": "code",
   "execution_count": 580,
   "id": "30fd0a63",
   "metadata": {},
   "outputs": [
    {
     "data": {
      "text/plain": [
       "nan"
      ]
     },
     "execution_count": 580,
     "metadata": {},
     "output_type": "execute_result"
    }
   ],
   "source": [
    "totalSharpness(sqrtModel,inputData,response,numPerturbations=4000,percentPerturbation=0.95)"
   ]
  },
  {
   "cell_type": "code",
   "execution_count": null,
   "id": "53b890b7",
   "metadata": {},
   "outputs": [],
   "source": []
  },
  {
   "cell_type": "code",
   "execution_count": 581,
   "id": "9fda78fd",
   "metadata": {},
   "outputs": [],
   "source": [
    "from StackGP import *\n",
    "import numpy as np"
   ]
  },
  {
   "cell_type": "code",
   "execution_count": 582,
   "id": "9fab0c7a",
   "metadata": {},
   "outputs": [],
   "source": [
    "operators=allOps()"
   ]
  },
  {
   "cell_type": "code",
   "execution_count": 583,
   "id": "3ba503bd",
   "metadata": {},
   "outputs": [],
   "source": [
    "#Define square root function to generate data\n",
    "def sqrtFunc(x0):\n",
    "    return np.sqrt(x0)"
   ]
  },
  {
   "cell_type": "code",
   "execution_count": 584,
   "id": "29764e8d",
   "metadata": {},
   "outputs": [],
   "source": [
    "sqrtModel=[np.array([operators[6],operators[7]]),[variableSelect(0)],[]]"
   ]
  },
  {
   "cell_type": "code",
   "execution_count": 585,
   "id": "8cf37365",
   "metadata": {},
   "outputs": [
    {
     "data": {
      "text/plain": [
       "[array([<function sqrt at 0x0000023EAB4BECA0>,\n",
       "        <function inv at 0x0000023EAB4BEDE0>], dtype=object),\n",
       " [<function StackGP.variableSelect.<locals>.<lambda>(variables)>],\n",
       " []]"
      ]
     },
     "execution_count": 585,
     "metadata": {},
     "output_type": "execute_result"
    }
   ],
   "source": [
    "sqrtModel"
   ]
  },
  {
   "cell_type": "code",
   "execution_count": 586,
   "id": "cb93784c",
   "metadata": {},
   "outputs": [],
   "source": [
    "inputData=np.array([np.arange(-1,1,.0013)])\n",
    "response=inputData[0]"
   ]
  },
  {
   "cell_type": "code",
   "execution_count": 587,
   "id": "33b8a784",
   "metadata": {},
   "outputs": [
    {
     "data": {
      "text/plain": [
       "nan"
      ]
     },
     "execution_count": 587,
     "metadata": {},
     "output_type": "execute_result"
    }
   ],
   "source": [
    "totalSharpness(sqrtModel,inputData,response,numPerturbations=4000,percentPerturbation=0.007)"
   ]
  },
  {
   "cell_type": "code",
   "execution_count": null,
   "id": "f16cc3e0",
   "metadata": {},
   "outputs": [],
   "source": []
  },
  {
   "cell_type": "code",
   "execution_count": 588,
   "id": "7b9858f8",
   "metadata": {},
   "outputs": [],
   "source": [
    "from StackGP import *\n",
    "import numpy as np"
   ]
  },
  {
   "cell_type": "code",
   "execution_count": 589,
   "id": "f290c1e6",
   "metadata": {},
   "outputs": [],
   "source": [
    "operators=allOps()"
   ]
  },
  {
   "cell_type": "code",
   "execution_count": 590,
   "id": "f1563c01",
   "metadata": {},
   "outputs": [],
   "source": [
    "#Define square root function to generate data\n",
    "def sqrtFunc(x0):\n",
    "    return np.sqrt(x0)"
   ]
  },
  {
   "cell_type": "code",
   "execution_count": 591,
   "id": "6c8228b8",
   "metadata": {},
   "outputs": [],
   "source": [
    "sqrtModel=[np.array([operators[6],operators[8]]),[variableSelect(0)],[]]"
   ]
  },
  {
   "cell_type": "code",
   "execution_count": 592,
   "id": "43b198e7",
   "metadata": {},
   "outputs": [
    {
     "data": {
      "text/plain": [
       "[array([<function sqrt at 0x0000023EAB4BECA0>,\n",
       "        <function cos at 0x0000023EAB4BEF20>], dtype=object),\n",
       " [<function StackGP.variableSelect.<locals>.<lambda>(variables)>],\n",
       " []]"
      ]
     },
     "execution_count": 592,
     "metadata": {},
     "output_type": "execute_result"
    }
   ],
   "source": [
    "sqrtModel"
   ]
  },
  {
   "cell_type": "code",
   "execution_count": 593,
   "id": "1052e8ca",
   "metadata": {},
   "outputs": [],
   "source": [
    "inputData=np.array([np.arange(-1,1,.0013)])\n",
    "response=inputData[0]"
   ]
  },
  {
   "cell_type": "code",
   "execution_count": 594,
   "id": "c1e7997b",
   "metadata": {},
   "outputs": [
    {
     "data": {
      "text/plain": [
       "nan"
      ]
     },
     "execution_count": 594,
     "metadata": {},
     "output_type": "execute_result"
    }
   ],
   "source": [
    "totalSharpness(sqrtModel,inputData,response,numPerturbations=4000,percentPerturbation=0.56)"
   ]
  },
  {
   "cell_type": "code",
   "execution_count": null,
   "id": "2db4a305",
   "metadata": {},
   "outputs": [],
   "source": []
  },
  {
   "cell_type": "code",
   "execution_count": 595,
   "id": "e736051e",
   "metadata": {},
   "outputs": [],
   "source": [
    "from StackGP import *\n",
    "import numpy as np"
   ]
  },
  {
   "cell_type": "code",
   "execution_count": 596,
   "id": "e6c356cb",
   "metadata": {},
   "outputs": [],
   "source": [
    "operators=allOps()"
   ]
  },
  {
   "cell_type": "code",
   "execution_count": 597,
   "id": "23e5c56a",
   "metadata": {},
   "outputs": [],
   "source": [
    "#Define square root function to generate data\n",
    "def sqrtFunc(x0):\n",
    "    return np.sqrt(x0)"
   ]
  },
  {
   "cell_type": "code",
   "execution_count": 598,
   "id": "6915a632",
   "metadata": {},
   "outputs": [],
   "source": [
    "sqrtModel=[np.array([operators[6],operators[9]]),[variableSelect(0)],[]]"
   ]
  },
  {
   "cell_type": "code",
   "execution_count": 599,
   "id": "9ea46a1a",
   "metadata": {},
   "outputs": [
    {
     "data": {
      "text/plain": [
       "[array([<function sqrt at 0x0000023EAB4BECA0>,\n",
       "        <function sin at 0x0000023EAB4BEE80>], dtype=object),\n",
       " [<function StackGP.variableSelect.<locals>.<lambda>(variables)>],\n",
       " []]"
      ]
     },
     "execution_count": 599,
     "metadata": {},
     "output_type": "execute_result"
    }
   ],
   "source": [
    "sqrtModel"
   ]
  },
  {
   "cell_type": "code",
   "execution_count": 600,
   "id": "6a392c5e",
   "metadata": {},
   "outputs": [],
   "source": [
    "inputData=np.array([np.arange(-1,1,.0013)])\n",
    "response=inputData[0]"
   ]
  },
  {
   "cell_type": "code",
   "execution_count": 601,
   "id": "ebb28458",
   "metadata": {},
   "outputs": [
    {
     "data": {
      "text/plain": [
       "nan"
      ]
     },
     "execution_count": 601,
     "metadata": {},
     "output_type": "execute_result"
    }
   ],
   "source": [
    "totalSharpness(sqrtModel,inputData,response,numPerturbations=4000,percentPerturbation=0.0074)"
   ]
  },
  {
   "cell_type": "code",
   "execution_count": null,
   "id": "8303c3ee",
   "metadata": {},
   "outputs": [],
   "source": []
  },
  {
   "cell_type": "code",
   "execution_count": 602,
   "id": "eaf80e9e",
   "metadata": {},
   "outputs": [],
   "source": [
    "from StackGP import *\n",
    "import numpy as np"
   ]
  },
  {
   "cell_type": "code",
   "execution_count": 603,
   "id": "026c9e3c",
   "metadata": {},
   "outputs": [],
   "source": [
    "operators=allOps()"
   ]
  },
  {
   "cell_type": "code",
   "execution_count": 604,
   "id": "7b5dfbc9",
   "metadata": {},
   "outputs": [],
   "source": [
    "#Define square root function to generate data\n",
    "def sqrtFunc(x0):\n",
    "    return np.sqrt(x0)"
   ]
  },
  {
   "cell_type": "code",
   "execution_count": 605,
   "id": "755fe893",
   "metadata": {},
   "outputs": [],
   "source": [
    "sqrtModel=[np.array([operators[6],operators[10]]),[variableSelect(0)],[]]"
   ]
  },
  {
   "cell_type": "code",
   "execution_count": 606,
   "id": "346297e1",
   "metadata": {},
   "outputs": [
    {
     "data": {
      "text/plain": [
       "[array([<function sqrt at 0x0000023EAB4BECA0>,\n",
       "        <function tan at 0x0000023EAB4BEFC0>], dtype=object),\n",
       " [<function StackGP.variableSelect.<locals>.<lambda>(variables)>],\n",
       " []]"
      ]
     },
     "execution_count": 606,
     "metadata": {},
     "output_type": "execute_result"
    }
   ],
   "source": [
    "sqrtModel"
   ]
  },
  {
   "cell_type": "code",
   "execution_count": 607,
   "id": "585b1760",
   "metadata": {},
   "outputs": [],
   "source": [
    "inputData=np.array([np.arange(-1,1,.0013)])\n",
    "response=inputData[0]"
   ]
  },
  {
   "cell_type": "code",
   "execution_count": 608,
   "id": "2b17278d",
   "metadata": {},
   "outputs": [
    {
     "data": {
      "text/plain": [
       "nan"
      ]
     },
     "execution_count": 608,
     "metadata": {},
     "output_type": "execute_result"
    }
   ],
   "source": [
    "totalSharpness(sqrtModel,inputData,response,numPerturbations=4000,percentPerturbation=0.84)"
   ]
  },
  {
   "cell_type": "code",
   "execution_count": null,
   "id": "224288c8",
   "metadata": {},
   "outputs": [],
   "source": []
  },
  {
   "cell_type": "code",
   "execution_count": 609,
   "id": "0fe1ec40",
   "metadata": {},
   "outputs": [],
   "source": [
    "from StackGP import *\n",
    "import numpy as np"
   ]
  },
  {
   "cell_type": "code",
   "execution_count": 610,
   "id": "4271dcda",
   "metadata": {},
   "outputs": [],
   "source": [
    "operators=allOps()"
   ]
  },
  {
   "cell_type": "code",
   "execution_count": 611,
   "id": "27bf7266",
   "metadata": {},
   "outputs": [],
   "source": [
    "#Define square root function to generate data\n",
    "def sqrtFunc(x0):\n",
    "    return np.sqrt(x0)"
   ]
  },
  {
   "cell_type": "code",
   "execution_count": 612,
   "id": "aab9a471",
   "metadata": {},
   "outputs": [],
   "source": [
    "sqrtModel=[np.array([operators[6],operators[13]]),[variableSelect(0)],[]]"
   ]
  },
  {
   "cell_type": "code",
   "execution_count": 613,
   "id": "18a54ae2",
   "metadata": {},
   "outputs": [
    {
     "data": {
      "text/plain": [
       "[array([<function sqrt at 0x0000023EAB4BECA0>,\n",
       "        <function arctan at 0x0000023EAB4BF1A0>], dtype=object),\n",
       " [<function StackGP.variableSelect.<locals>.<lambda>(variables)>],\n",
       " []]"
      ]
     },
     "execution_count": 613,
     "metadata": {},
     "output_type": "execute_result"
    }
   ],
   "source": [
    "sqrtModel"
   ]
  },
  {
   "cell_type": "code",
   "execution_count": 614,
   "id": "2399740a",
   "metadata": {},
   "outputs": [],
   "source": [
    "inputData=np.array([np.arange(-1,1,.0013)])\n",
    "response=inputData[0]"
   ]
  },
  {
   "cell_type": "code",
   "execution_count": 615,
   "id": "94ce202f",
   "metadata": {},
   "outputs": [
    {
     "data": {
      "text/plain": [
       "nan"
      ]
     },
     "execution_count": 615,
     "metadata": {},
     "output_type": "execute_result"
    }
   ],
   "source": [
    "totalSharpness(sqrtModel,inputData,response,numPerturbations=4000,percentPerturbation=0.0053)"
   ]
  },
  {
   "cell_type": "code",
   "execution_count": null,
   "id": "66e0dc78",
   "metadata": {},
   "outputs": [],
   "source": []
  },
  {
   "cell_type": "code",
   "execution_count": 616,
   "id": "44581d82",
   "metadata": {},
   "outputs": [],
   "source": [
    "from StackGP import *\n",
    "import numpy as np"
   ]
  },
  {
   "cell_type": "code",
   "execution_count": 617,
   "id": "65a3ad91",
   "metadata": {},
   "outputs": [],
   "source": [
    "operators=allOps()"
   ]
  },
  {
   "cell_type": "code",
   "execution_count": 618,
   "id": "85c7911b",
   "metadata": {},
   "outputs": [],
   "source": [
    "#Define square root function to generate data\n",
    "def sqrtFunc(x0):\n",
    "    return np.sqrt(x0)"
   ]
  },
  {
   "cell_type": "code",
   "execution_count": 619,
   "id": "2f7cbb14",
   "metadata": {},
   "outputs": [],
   "source": [
    "sqrtModel=[np.array([operators[6],operators[14]]),[variableSelect(0)],[]]"
   ]
  },
  {
   "cell_type": "code",
   "execution_count": 620,
   "id": "48f935e0",
   "metadata": {},
   "outputs": [
    {
     "data": {
      "text/plain": [
       "[array([<function sqrt at 0x0000023EAB4BECA0>,\n",
       "        <function tanh at 0x0000023EAB4BF240>], dtype=object),\n",
       " [<function StackGP.variableSelect.<locals>.<lambda>(variables)>],\n",
       " []]"
      ]
     },
     "execution_count": 620,
     "metadata": {},
     "output_type": "execute_result"
    }
   ],
   "source": [
    "sqrtModel"
   ]
  },
  {
   "cell_type": "code",
   "execution_count": 621,
   "id": "88203ff2",
   "metadata": {},
   "outputs": [],
   "source": [
    "inputData=np.array([np.arange(-1,1,.0013)])\n",
    "response=inputData[0]"
   ]
  },
  {
   "cell_type": "code",
   "execution_count": 622,
   "id": "acb39491",
   "metadata": {},
   "outputs": [
    {
     "data": {
      "text/plain": [
       "nan"
      ]
     },
     "execution_count": 622,
     "metadata": {},
     "output_type": "execute_result"
    }
   ],
   "source": [
    "totalSharpness(sqrtModel,inputData,response,numPerturbations=4000,percentPerturbation=0.39)"
   ]
  },
  {
   "cell_type": "code",
   "execution_count": null,
   "id": "6f7f67b5",
   "metadata": {},
   "outputs": [],
   "source": []
  },
  {
   "cell_type": "code",
   "execution_count": 623,
   "id": "ba1e1ce3",
   "metadata": {},
   "outputs": [],
   "source": [
    "from StackGP import *\n",
    "import numpy as np"
   ]
  },
  {
   "cell_type": "code",
   "execution_count": 624,
   "id": "386b915c",
   "metadata": {},
   "outputs": [],
   "source": [
    "operators=allOps()"
   ]
  },
  {
   "cell_type": "code",
   "execution_count": 625,
   "id": "8557d50d",
   "metadata": {},
   "outputs": [],
   "source": [
    "#Define square root function to generate data\n",
    "def sqrtFunc(x0):\n",
    "    return np.sqrt(x0)"
   ]
  },
  {
   "cell_type": "code",
   "execution_count": 626,
   "id": "d8a8c7de",
   "metadata": {},
   "outputs": [],
   "source": [
    "sqrtModel=[np.array([operators[6],operators[15]]),[variableSelect(0)],[]]"
   ]
  },
  {
   "cell_type": "code",
   "execution_count": 627,
   "id": "130f6f3d",
   "metadata": {},
   "outputs": [
    {
     "data": {
      "text/plain": [
       "[array([<function sqrt at 0x0000023EAB4BECA0>,\n",
       "        <function log at 0x0000023EAB4BF2E0>], dtype=object),\n",
       " [<function StackGP.variableSelect.<locals>.<lambda>(variables)>],\n",
       " []]"
      ]
     },
     "execution_count": 627,
     "metadata": {},
     "output_type": "execute_result"
    }
   ],
   "source": [
    "sqrtModel"
   ]
  },
  {
   "cell_type": "code",
   "execution_count": 628,
   "id": "a2e67e82",
   "metadata": {},
   "outputs": [],
   "source": [
    "inputData=np.array([np.arange(-1,1,.0013)])\n",
    "response=inputData[0]"
   ]
  },
  {
   "cell_type": "code",
   "execution_count": 629,
   "id": "277d28b0",
   "metadata": {},
   "outputs": [
    {
     "data": {
      "text/plain": [
       "nan"
      ]
     },
     "execution_count": 629,
     "metadata": {},
     "output_type": "execute_result"
    }
   ],
   "source": [
    "totalSharpness(sqrtModel,inputData,response,numPerturbations=4000,percentPerturbation=0.42)"
   ]
  },
  {
   "cell_type": "code",
   "execution_count": 630,
   "id": "54c476fe",
   "metadata": {},
   "outputs": [
    {
     "data": {
      "image/png": "[encoded data removed]",
      "text/plain": [
       "<Figure size 1000x500 with 1 Axes>"
      ]
     },
     "metadata": {},
     "output_type": "display_data"
    }
   ],
   "source": [
    "import numpy as np\n",
    "import matplotlib.pyplot as plt \n",
    "\n",
    " \n",
    "# creating the dataset\n",
    "data = {'0.002':1,'0.95':1,'0.007':1,'0.56':1,'0.0074':1,'0.84':1,'0.0053':1,'0.39':1,'0.42':1}\n",
    "courses = list(data.keys())\n",
    "values = list(data.values())\n",
    " \n",
    "fig = plt.figure(figsize = (10, 5))\n",
    "\n",
    "# creating the bar plot\n",
    "plt.bar(courses, values, color ='maroon', \n",
    "        width = 0.4)\n",
    "\n",
    "plt.xlabel(\"percentPerturbation\")\n",
    "plt.ylabel(\"Sharpness\")\n",
    "plt.title(\"Change in %Perturbation for Sqrt Function\")\n",
    "plt.yscale(\"log\")\n",
    "plt.show()\n"
   ]
  },
  {
   "cell_type": "markdown",
   "id": "4a592eca",
   "metadata": {},
   "source": [
    "# Inverse Function Combinations"
   ]
  },
  {
   "cell_type": "code",
   "execution_count": 631,
   "id": "d843c8ac",
   "metadata": {},
   "outputs": [],
   "source": [
    "from StackGP import *\n",
    "import numpy as np"
   ]
  },
  {
   "cell_type": "code",
   "execution_count": 632,
   "id": "92c37571",
   "metadata": {},
   "outputs": [],
   "source": [
    "operators=allOps()"
   ]
  },
  {
   "cell_type": "code",
   "execution_count": 633,
   "id": "f3b3afc7",
   "metadata": {},
   "outputs": [],
   "source": [
    "#Define inverse function to generate data\n",
    "def invFunc(x0):\n",
    "    return np.inv(x0)"
   ]
  },
  {
   "cell_type": "code",
   "execution_count": 634,
   "id": "dfe74128",
   "metadata": {},
   "outputs": [],
   "source": [
    "invModel=[np.array([operators[7],operators[4]]),[variableSelect(0)],[]]"
   ]
  },
  {
   "cell_type": "code",
   "execution_count": 635,
   "id": "3c704d32",
   "metadata": {},
   "outputs": [
    {
     "data": {
      "text/plain": [
       "[array([<function inv at 0x0000023EAB4BEDE0>,\n",
       "        <function exp at 0x0000023EAB4BEB60>], dtype=object),\n",
       " [<function StackGP.variableSelect.<locals>.<lambda>(variables)>],\n",
       " []]"
      ]
     },
     "execution_count": 635,
     "metadata": {},
     "output_type": "execute_result"
    }
   ],
   "source": [
    "invModel"
   ]
  },
  {
   "cell_type": "code",
   "execution_count": 636,
   "id": "56bd1524",
   "metadata": {},
   "outputs": [],
   "source": [
    "inputData=np.array([np.arange(-1,1,.0013)])\n",
    "response=inputData[0]"
   ]
  },
  {
   "cell_type": "code",
   "execution_count": 637,
   "id": "8bb1907f",
   "metadata": {},
   "outputs": [
    {
     "data": {
      "text/plain": [
       "nan"
      ]
     },
     "execution_count": 637,
     "metadata": {},
     "output_type": "execute_result"
    }
   ],
   "source": [
    "totalSharpness(invModel,inputData,response,numPerturbations=4000,percentPerturbation=0.092)"
   ]
  },
  {
   "cell_type": "code",
   "execution_count": null,
   "id": "9de44736",
   "metadata": {},
   "outputs": [],
   "source": []
  },
  {
   "cell_type": "code",
   "execution_count": 638,
   "id": "92fefc8b",
   "metadata": {},
   "outputs": [],
   "source": [
    "from StackGP import *\n",
    "import numpy as np"
   ]
  },
  {
   "cell_type": "code",
   "execution_count": 639,
   "id": "c22a2a78",
   "metadata": {},
   "outputs": [],
   "source": [
    "operators=allOps()"
   ]
  },
  {
   "cell_type": "code",
   "execution_count": 640,
   "id": "769dc9fc",
   "metadata": {},
   "outputs": [],
   "source": [
    "#Define inverse function to generate data\n",
    "def invFunc(x0):\n",
    "    return np.inv(x0)"
   ]
  },
  {
   "cell_type": "code",
   "execution_count": 641,
   "id": "9e8c2b47",
   "metadata": {},
   "outputs": [],
   "source": [
    "invModel=[np.array([operators[7],operators[5]]),[variableSelect(0)],[]]"
   ]
  },
  {
   "cell_type": "code",
   "execution_count": 642,
   "id": "1359dc7c",
   "metadata": {},
   "outputs": [
    {
     "data": {
      "text/plain": [
       "[array([<function inv at 0x0000023EAB4BEDE0>,\n",
       "        <function sqrd at 0x0000023EAB4BED40>], dtype=object),\n",
       " [<function StackGP.variableSelect.<locals>.<lambda>(variables)>],\n",
       " []]"
      ]
     },
     "execution_count": 642,
     "metadata": {},
     "output_type": "execute_result"
    }
   ],
   "source": [
    "invModel"
   ]
  },
  {
   "cell_type": "code",
   "execution_count": 643,
   "id": "51347c27",
   "metadata": {},
   "outputs": [],
   "source": [
    "inputData=np.array([np.arange(-1,1,.0013)])\n",
    "response=inputData[0]"
   ]
  },
  {
   "cell_type": "code",
   "execution_count": 644,
   "id": "166ab84f",
   "metadata": {},
   "outputs": [
    {
     "data": {
      "text/plain": [
       "4.611905321180428e-05"
      ]
     },
     "execution_count": 644,
     "metadata": {},
     "output_type": "execute_result"
    }
   ],
   "source": [
    "totalSharpness(invModel,inputData,response,numPerturbations=4000,percentPerturbation=0.89)"
   ]
  },
  {
   "cell_type": "code",
   "execution_count": null,
   "id": "2d277163",
   "metadata": {},
   "outputs": [],
   "source": []
  },
  {
   "cell_type": "code",
   "execution_count": 645,
   "id": "92fe65ae",
   "metadata": {},
   "outputs": [],
   "source": [
    "from StackGP import *\n",
    "import numpy as np"
   ]
  },
  {
   "cell_type": "code",
   "execution_count": 646,
   "id": "9844d136",
   "metadata": {},
   "outputs": [],
   "source": [
    "operators=allOps()"
   ]
  },
  {
   "cell_type": "code",
   "execution_count": 647,
   "id": "79927ed3",
   "metadata": {},
   "outputs": [],
   "source": [
    "#Define inverse function to generate data\n",
    "def invFunc(x0):\n",
    "    return np.inv(x0)"
   ]
  },
  {
   "cell_type": "code",
   "execution_count": 648,
   "id": "b45bc203",
   "metadata": {},
   "outputs": [],
   "source": [
    "invModel=[np.array([operators[7],operators[6]]),[variableSelect(0)],[]]"
   ]
  },
  {
   "cell_type": "code",
   "execution_count": 649,
   "id": "4ba08e48",
   "metadata": {},
   "outputs": [
    {
     "data": {
      "text/plain": [
       "[array([<function inv at 0x0000023EAB4BEDE0>,\n",
       "        <function sqrt at 0x0000023EAB4BECA0>], dtype=object),\n",
       " [<function StackGP.variableSelect.<locals>.<lambda>(variables)>],\n",
       " []]"
      ]
     },
     "execution_count": 649,
     "metadata": {},
     "output_type": "execute_result"
    }
   ],
   "source": [
    "invModel"
   ]
  },
  {
   "cell_type": "code",
   "execution_count": 650,
   "id": "06043aed",
   "metadata": {},
   "outputs": [],
   "source": [
    "inputData=np.array([np.arange(-1,1,.0013)])\n",
    "response=inputData[0]"
   ]
  },
  {
   "cell_type": "code",
   "execution_count": 651,
   "id": "229d11c4",
   "metadata": {},
   "outputs": [
    {
     "data": {
      "text/plain": [
       "nan"
      ]
     },
     "execution_count": 651,
     "metadata": {},
     "output_type": "execute_result"
    }
   ],
   "source": [
    "totalSharpness(invModel,inputData,response,numPerturbations=4000,percentPerturbation=0.0056)"
   ]
  },
  {
   "cell_type": "code",
   "execution_count": null,
   "id": "af6d8733",
   "metadata": {},
   "outputs": [],
   "source": []
  },
  {
   "cell_type": "code",
   "execution_count": 652,
   "id": "d5283e2f",
   "metadata": {},
   "outputs": [],
   "source": [
    "from StackGP import *\n",
    "import numpy as np"
   ]
  },
  {
   "cell_type": "code",
   "execution_count": 653,
   "id": "0399f798",
   "metadata": {},
   "outputs": [],
   "source": [
    "operators=allOps()"
   ]
  },
  {
   "cell_type": "code",
   "execution_count": 654,
   "id": "cc9e5a90",
   "metadata": {},
   "outputs": [],
   "source": [
    "#Define inverse function to generate data\n",
    "def invFunc(x0):\n",
    "    return np.inv(x0)"
   ]
  },
  {
   "cell_type": "code",
   "execution_count": 655,
   "id": "e554aea9",
   "metadata": {},
   "outputs": [],
   "source": [
    "invModel=[np.array([operators[7],operators[8]]),[variableSelect(0)],[]]"
   ]
  },
  {
   "cell_type": "code",
   "execution_count": 656,
   "id": "4ca7493e",
   "metadata": {},
   "outputs": [
    {
     "data": {
      "text/plain": [
       "[array([<function inv at 0x0000023EAB4BEDE0>,\n",
       "        <function cos at 0x0000023EAB4BEF20>], dtype=object),\n",
       " [<function StackGP.variableSelect.<locals>.<lambda>(variables)>],\n",
       " []]"
      ]
     },
     "execution_count": 656,
     "metadata": {},
     "output_type": "execute_result"
    }
   ],
   "source": [
    "invModel"
   ]
  },
  {
   "cell_type": "code",
   "execution_count": 657,
   "id": "4b0a855d",
   "metadata": {},
   "outputs": [],
   "source": [
    "inputData=np.array([np.arange(-1,1,.0013)])\n",
    "response=inputData[0]"
   ]
  },
  {
   "cell_type": "code",
   "execution_count": 658,
   "id": "c74fb17f",
   "metadata": {},
   "outputs": [
    {
     "data": {
      "text/plain": [
       "0.00010011636545999586"
      ]
     },
     "execution_count": 658,
     "metadata": {},
     "output_type": "execute_result"
    }
   ],
   "source": [
    "totalSharpness(invModel,inputData,response,numPerturbations=4000,percentPerturbation=0.45)"
   ]
  },
  {
   "cell_type": "code",
   "execution_count": null,
   "id": "2b96d645",
   "metadata": {},
   "outputs": [],
   "source": []
  },
  {
   "cell_type": "code",
   "execution_count": 659,
   "id": "ade9bd89",
   "metadata": {},
   "outputs": [],
   "source": [
    "from StackGP import *\n",
    "import numpy as np"
   ]
  },
  {
   "cell_type": "code",
   "execution_count": 660,
   "id": "c485f0b8",
   "metadata": {},
   "outputs": [],
   "source": [
    "operators=allOps()"
   ]
  },
  {
   "cell_type": "code",
   "execution_count": 661,
   "id": "8f80afdf",
   "metadata": {},
   "outputs": [],
   "source": [
    "#Define inverse function to generate data\n",
    "def invFunc(x0):\n",
    "    return np.inv(x0)"
   ]
  },
  {
   "cell_type": "code",
   "execution_count": 662,
   "id": "fdd76c9f",
   "metadata": {},
   "outputs": [],
   "source": [
    "invModel=[np.array([operators[7],operators[9]]),[variableSelect(0)],[]]"
   ]
  },
  {
   "cell_type": "code",
   "execution_count": 663,
   "id": "e094b2cf",
   "metadata": {},
   "outputs": [
    {
     "data": {
      "text/plain": [
       "[array([<function inv at 0x0000023EAB4BEDE0>,\n",
       "        <function sin at 0x0000023EAB4BEE80>], dtype=object),\n",
       " [<function StackGP.variableSelect.<locals>.<lambda>(variables)>],\n",
       " []]"
      ]
     },
     "execution_count": 663,
     "metadata": {},
     "output_type": "execute_result"
    }
   ],
   "source": [
    "invModel"
   ]
  },
  {
   "cell_type": "code",
   "execution_count": 664,
   "id": "99bc6d39",
   "metadata": {},
   "outputs": [],
   "source": [
    "inputData=np.array([np.arange(-1,1,.0013)])\n",
    "response=inputData[0]"
   ]
  },
  {
   "cell_type": "code",
   "execution_count": 665,
   "id": "7138af0b",
   "metadata": {},
   "outputs": [
    {
     "data": {
      "text/plain": [
       "0.008587709166420238"
      ]
     },
     "execution_count": 665,
     "metadata": {},
     "output_type": "execute_result"
    }
   ],
   "source": [
    "totalSharpness(invModel,inputData,response,numPerturbations=4000,percentPerturbation=0.32)"
   ]
  },
  {
   "cell_type": "code",
   "execution_count": null,
   "id": "bc679883",
   "metadata": {},
   "outputs": [],
   "source": []
  },
  {
   "cell_type": "code",
   "execution_count": 666,
   "id": "039a9a3d",
   "metadata": {},
   "outputs": [],
   "source": [
    "from StackGP import *\n",
    "import numpy as np"
   ]
  },
  {
   "cell_type": "code",
   "execution_count": 667,
   "id": "fba80d58",
   "metadata": {},
   "outputs": [],
   "source": [
    "operators=allOps()"
   ]
  },
  {
   "cell_type": "code",
   "execution_count": 668,
   "id": "5d69b936",
   "metadata": {},
   "outputs": [],
   "source": [
    "#Define inverse function to generate data\n",
    "def invFunc(x0):\n",
    "    return np.inv(x0)"
   ]
  },
  {
   "cell_type": "code",
   "execution_count": 669,
   "id": "4198d7f9",
   "metadata": {},
   "outputs": [],
   "source": [
    "invModel=[np.array([operators[7],operators[10]]),[variableSelect(0)],[]]"
   ]
  },
  {
   "cell_type": "code",
   "execution_count": 670,
   "id": "3f3ac997",
   "metadata": {},
   "outputs": [
    {
     "data": {
      "text/plain": [
       "[array([<function inv at 0x0000023EAB4BEDE0>,\n",
       "        <function tan at 0x0000023EAB4BEFC0>], dtype=object),\n",
       " [<function StackGP.variableSelect.<locals>.<lambda>(variables)>],\n",
       " []]"
      ]
     },
     "execution_count": 670,
     "metadata": {},
     "output_type": "execute_result"
    }
   ],
   "source": [
    "invModel"
   ]
  },
  {
   "cell_type": "code",
   "execution_count": 671,
   "id": "aeedaabd",
   "metadata": {},
   "outputs": [],
   "source": [
    "inputData=np.array([np.arange(-1,1,.0013)])\n",
    "response=inputData[0]"
   ]
  },
  {
   "cell_type": "code",
   "execution_count": 672,
   "id": "0971b1c5",
   "metadata": {},
   "outputs": [
    {
     "data": {
      "text/plain": [
       "0.0013285647474399317"
      ]
     },
     "execution_count": 672,
     "metadata": {},
     "output_type": "execute_result"
    }
   ],
   "source": [
    "totalSharpness(invModel,inputData,response,numPerturbations=4000,percentPerturbation=0.068)"
   ]
  },
  {
   "cell_type": "code",
   "execution_count": null,
   "id": "76c73ffb",
   "metadata": {},
   "outputs": [],
   "source": []
  },
  {
   "cell_type": "code",
   "execution_count": 673,
   "id": "422b35ae",
   "metadata": {},
   "outputs": [],
   "source": [
    "from StackGP import *\n",
    "import numpy as np"
   ]
  },
  {
   "cell_type": "code",
   "execution_count": 674,
   "id": "c8b6318a",
   "metadata": {},
   "outputs": [],
   "source": [
    "operators=allOps()"
   ]
  },
  {
   "cell_type": "code",
   "execution_count": 675,
   "id": "92e961a0",
   "metadata": {},
   "outputs": [],
   "source": [
    "#Define inverse function to generate data\n",
    "def invFunc(x0):\n",
    "    return np.inv(x0)"
   ]
  },
  {
   "cell_type": "code",
   "execution_count": 676,
   "id": "b3824faa",
   "metadata": {},
   "outputs": [],
   "source": [
    "invModel=[np.array([operators[7],operators[13]]),[variableSelect(0)],[]]"
   ]
  },
  {
   "cell_type": "code",
   "execution_count": 677,
   "id": "dc3dfa49",
   "metadata": {},
   "outputs": [
    {
     "data": {
      "text/plain": [
       "[array([<function inv at 0x0000023EAB4BEDE0>,\n",
       "        <function arctan at 0x0000023EAB4BF1A0>], dtype=object),\n",
       " [<function StackGP.variableSelect.<locals>.<lambda>(variables)>],\n",
       " []]"
      ]
     },
     "execution_count": 677,
     "metadata": {},
     "output_type": "execute_result"
    }
   ],
   "source": [
    "invModel"
   ]
  },
  {
   "cell_type": "code",
   "execution_count": 678,
   "id": "7d18474e",
   "metadata": {},
   "outputs": [],
   "source": [
    "inputData=np.array([np.arange(-1,1,.0013)])\n",
    "response=inputData[0]"
   ]
  },
  {
   "cell_type": "code",
   "execution_count": 680,
   "id": "0982f9c8",
   "metadata": {},
   "outputs": [
    {
     "data": {
      "text/plain": [
       "0.002552502961471912"
      ]
     },
     "execution_count": 680,
     "metadata": {},
     "output_type": "execute_result"
    }
   ],
   "source": [
    "totalSharpness(invModel,inputData,response,numPerturbations=4000,percentPerturbation=0.54)"
   ]
  },
  {
   "cell_type": "code",
   "execution_count": null,
   "id": "474e8035",
   "metadata": {},
   "outputs": [],
   "source": []
  },
  {
   "cell_type": "code",
   "execution_count": 681,
   "id": "f140a95c",
   "metadata": {},
   "outputs": [],
   "source": [
    "from StackGP import *\n",
    "import numpy as np"
   ]
  },
  {
   "cell_type": "code",
   "execution_count": 682,
   "id": "b24c8c7d",
   "metadata": {},
   "outputs": [],
   "source": [
    "operators=allOps()"
   ]
  },
  {
   "cell_type": "code",
   "execution_count": 683,
   "id": "c89b0cd9",
   "metadata": {},
   "outputs": [],
   "source": [
    "#Define inverse function to generate data\n",
    "def invFunc(x0):\n",
    "    return np.inv(x0)"
   ]
  },
  {
   "cell_type": "code",
   "execution_count": 684,
   "id": "0f5b2cca",
   "metadata": {},
   "outputs": [],
   "source": [
    "invModel=[np.array([operators[7],operators[14]]),[variableSelect(0)],[]]"
   ]
  },
  {
   "cell_type": "code",
   "execution_count": 685,
   "id": "a434df70",
   "metadata": {},
   "outputs": [
    {
     "data": {
      "text/plain": [
       "[array([<function inv at 0x0000023EAB4BEDE0>,\n",
       "        <function tanh at 0x0000023EAB4BF240>], dtype=object),\n",
       " [<function StackGP.variableSelect.<locals>.<lambda>(variables)>],\n",
       " []]"
      ]
     },
     "execution_count": 685,
     "metadata": {},
     "output_type": "execute_result"
    }
   ],
   "source": [
    "invModel"
   ]
  },
  {
   "cell_type": "code",
   "execution_count": 686,
   "id": "cc6b5038",
   "metadata": {},
   "outputs": [],
   "source": [
    "inputData=np.array([np.arange(-1,1,.0013)])\n",
    "response=inputData[0]"
   ]
  },
  {
   "cell_type": "code",
   "execution_count": 687,
   "id": "5fcb2401",
   "metadata": {},
   "outputs": [
    {
     "data": {
      "text/plain": [
       "0.0001698110985292589"
      ]
     },
     "execution_count": 687,
     "metadata": {},
     "output_type": "execute_result"
    }
   ],
   "source": [
    "totalSharpness(invModel,inputData,response,numPerturbations=4000,percentPerturbation=0.088)"
   ]
  },
  {
   "cell_type": "code",
   "execution_count": null,
   "id": "db3ab2aa",
   "metadata": {},
   "outputs": [],
   "source": []
  },
  {
   "cell_type": "code",
   "execution_count": 688,
   "id": "9c0f0abb",
   "metadata": {},
   "outputs": [],
   "source": [
    "from StackGP import *\n",
    "import numpy as np"
   ]
  },
  {
   "cell_type": "code",
   "execution_count": 689,
   "id": "a78a1b65",
   "metadata": {},
   "outputs": [],
   "source": [
    "operators=allOps()"
   ]
  },
  {
   "cell_type": "code",
   "execution_count": 690,
   "id": "68c286ff",
   "metadata": {},
   "outputs": [],
   "source": [
    "#Define inverse function to generate data\n",
    "def invFunc(x0):\n",
    "    return np.inv(x0)"
   ]
  },
  {
   "cell_type": "code",
   "execution_count": 691,
   "id": "1abb7582",
   "metadata": {},
   "outputs": [],
   "source": [
    "invModel=[np.array([operators[7],operators[15]]),[variableSelect(0)],[]]"
   ]
  },
  {
   "cell_type": "code",
   "execution_count": 692,
   "id": "4a99b679",
   "metadata": {},
   "outputs": [
    {
     "data": {
      "text/plain": [
       "[array([<function inv at 0x0000023EAB4BEDE0>,\n",
       "        <function log at 0x0000023EAB4BF2E0>], dtype=object),\n",
       " [<function StackGP.variableSelect.<locals>.<lambda>(variables)>],\n",
       " []]"
      ]
     },
     "execution_count": 692,
     "metadata": {},
     "output_type": "execute_result"
    }
   ],
   "source": [
    "invModel"
   ]
  },
  {
   "cell_type": "code",
   "execution_count": 693,
   "id": "968189e8",
   "metadata": {},
   "outputs": [],
   "source": [
    "inputData=np.array([np.arange(-1,1,.0013)])\n",
    "response=inputData[0]"
   ]
  },
  {
   "cell_type": "code",
   "execution_count": 694,
   "id": "10eabb2e",
   "metadata": {},
   "outputs": [
    {
     "data": {
      "text/plain": [
       "nan"
      ]
     },
     "execution_count": 694,
     "metadata": {},
     "output_type": "execute_result"
    }
   ],
   "source": [
    "totalSharpness(invModel,inputData,response,numPerturbations=4000,percentPerturbation=0.43)"
   ]
  },
  {
   "cell_type": "code",
   "execution_count": null,
   "id": "e6660a8f",
   "metadata": {},
   "outputs": [],
   "source": []
  },
  {
   "cell_type": "code",
   "execution_count": 695,
   "id": "9ba3a6e8",
   "metadata": {},
   "outputs": [
    {
     "data": {
      "image/png": "[encoded data removed]",
      "text/plain": [
       "<Figure size 1000x500 with 1 Axes>"
      ]
     },
     "metadata": {},
     "output_type": "display_data"
    }
   ],
   "source": [
    "import numpy as np\n",
    "import matplotlib.pyplot as plt \n",
    "\n",
    " \n",
    "# creating the dataset\n",
    "data = {'0.092':1,'0.89':0.00004611,'0.0056':1,'0.45':0.000100611,'0.32':0.00858,'0.068':0.0013285,'0.54':0.0025525,'0.088':0.0001698,'0.43':1}\n",
    "courses = list(data.keys())\n",
    "values = list(data.values())\n",
    " \n",
    "fig = plt.figure(figsize = (10, 5))\n",
    "\n",
    "# creating the bar plot\n",
    "plt.bar(courses, values, color ='maroon', \n",
    "        width = 0.4)\n",
    "\n",
    "plt.xlabel(\"percentPerturbation\")\n",
    "plt.ylabel(\"Sharpness\")\n",
    "plt.title(\"Change in %Perturbation for Inv Function\")\n",
    "plt.yscale(\"log\")\n",
    "plt.show()"
   ]
  },
  {
   "cell_type": "markdown",
   "id": "ccbe74e9",
   "metadata": {},
   "source": [
    "# Tanh Function Combinations"
   ]
  },
  {
   "cell_type": "code",
   "execution_count": 696,
   "id": "fcc593aa",
   "metadata": {},
   "outputs": [],
   "source": [
    "from StackGP import *\n",
    "import numpy as np"
   ]
  },
  {
   "cell_type": "code",
   "execution_count": 697,
   "id": "b2a45765",
   "metadata": {},
   "outputs": [],
   "source": [
    "operators=allOps()"
   ]
  },
  {
   "cell_type": "code",
   "execution_count": 698,
   "id": "211ff544",
   "metadata": {},
   "outputs": [],
   "source": [
    "#Define hyperbolic tangent function to generate data\n",
    "def tanhFunc(x0):\n",
    "    return np.tanh(x0)"
   ]
  },
  {
   "cell_type": "code",
   "execution_count": 699,
   "id": "2687ef42",
   "metadata": {},
   "outputs": [],
   "source": [
    "tanhModel=[np.array([operators[14],operators[4]]),[variableSelect(0)],[]]"
   ]
  },
  {
   "cell_type": "code",
   "execution_count": 700,
   "id": "20b5f747",
   "metadata": {},
   "outputs": [
    {
     "data": {
      "text/plain": [
       "[array([<function tanh at 0x0000023EAB4BF240>,\n",
       "        <function exp at 0x0000023EAB4BEB60>], dtype=object),\n",
       " [<function StackGP.variableSelect.<locals>.<lambda>(variables)>],\n",
       " []]"
      ]
     },
     "execution_count": 700,
     "metadata": {},
     "output_type": "execute_result"
    }
   ],
   "source": [
    "tanhModel"
   ]
  },
  {
   "cell_type": "code",
   "execution_count": 701,
   "id": "d9eec7f6",
   "metadata": {},
   "outputs": [],
   "source": [
    "inputData=np.array([np.arange(-1,1,.0013)])\n",
    "response=inputData[0]"
   ]
  },
  {
   "cell_type": "code",
   "execution_count": 702,
   "id": "36929aee",
   "metadata": {},
   "outputs": [
    {
     "data": {
      "text/plain": [
       "1.5626757825089112e-05"
      ]
     },
     "execution_count": 702,
     "metadata": {},
     "output_type": "execute_result"
    }
   ],
   "source": [
    "totalSharpness(tanhModel,inputData,response,numPerturbations=4000,percentPerturbation=0.0075)"
   ]
  },
  {
   "cell_type": "code",
   "execution_count": 703,
   "id": "aac02479",
   "metadata": {},
   "outputs": [],
   "source": [
    "from StackGP import *\n",
    "import numpy as np"
   ]
  },
  {
   "cell_type": "code",
   "execution_count": 704,
   "id": "3a7729dd",
   "metadata": {},
   "outputs": [],
   "source": [
    "operators=allOps()"
   ]
  },
  {
   "cell_type": "code",
   "execution_count": 705,
   "id": "30940d9a",
   "metadata": {},
   "outputs": [],
   "source": [
    "#Define hyperbolic tangent function to generate data\n",
    "def tanhFunc(x0):\n",
    "    return np.tanh(x0)"
   ]
  },
  {
   "cell_type": "code",
   "execution_count": 706,
   "id": "9c75e78e",
   "metadata": {},
   "outputs": [],
   "source": [
    "tanhModel=[np.array([operators[14],operators[5]]),[variableSelect(0)],[]]"
   ]
  },
  {
   "cell_type": "code",
   "execution_count": 707,
   "id": "37aa9409",
   "metadata": {},
   "outputs": [
    {
     "data": {
      "text/plain": [
       "[array([<function tanh at 0x0000023EAB4BF240>,\n",
       "        <function sqrd at 0x0000023EAB4BED40>], dtype=object),\n",
       " [<function StackGP.variableSelect.<locals>.<lambda>(variables)>],\n",
       " []]"
      ]
     },
     "execution_count": 707,
     "metadata": {},
     "output_type": "execute_result"
    }
   ],
   "source": [
    "tanhModel"
   ]
  },
  {
   "cell_type": "code",
   "execution_count": 708,
   "id": "41b774e0",
   "metadata": {},
   "outputs": [],
   "source": [
    "inputData=np.array([np.arange(-1,1,.0013)])\n",
    "response=inputData[0]"
   ]
  },
  {
   "cell_type": "code",
   "execution_count": 709,
   "id": "6f7e424a",
   "metadata": {},
   "outputs": [
    {
     "data": {
      "text/plain": [
       "0.00023738435744695706"
      ]
     },
     "execution_count": 709,
     "metadata": {},
     "output_type": "execute_result"
    }
   ],
   "source": [
    "totalSharpness(tanhModel,inputData,response,numPerturbations=4000,percentPerturbation=0.85)"
   ]
  },
  {
   "cell_type": "code",
   "execution_count": 710,
   "id": "7af0ad89",
   "metadata": {},
   "outputs": [],
   "source": [
    "from StackGP import *\n",
    "import numpy as np"
   ]
  },
  {
   "cell_type": "code",
   "execution_count": 711,
   "id": "5c775284",
   "metadata": {},
   "outputs": [],
   "source": [
    "operators=allOps()"
   ]
  },
  {
   "cell_type": "code",
   "execution_count": 712,
   "id": "e8d63cd9",
   "metadata": {},
   "outputs": [],
   "source": [
    "#Define hyperbolic tangent function to generate data\n",
    "def tanhFunc(x0):\n",
    "    return np.tanh(x0)"
   ]
  },
  {
   "cell_type": "code",
   "execution_count": 713,
   "id": "153678be",
   "metadata": {},
   "outputs": [],
   "source": [
    "tanhModel=[np.array([operators[14],operators[6]]),[variableSelect(0)],[]]"
   ]
  },
  {
   "cell_type": "code",
   "execution_count": 714,
   "id": "f8b5caf6",
   "metadata": {},
   "outputs": [
    {
     "data": {
      "text/plain": [
       "[array([<function tanh at 0x0000023EAB4BF240>,\n",
       "        <function sqrt at 0x0000023EAB4BECA0>], dtype=object),\n",
       " [<function StackGP.variableSelect.<locals>.<lambda>(variables)>],\n",
       " []]"
      ]
     },
     "execution_count": 714,
     "metadata": {},
     "output_type": "execute_result"
    }
   ],
   "source": [
    "tanhModel"
   ]
  },
  {
   "cell_type": "code",
   "execution_count": 715,
   "id": "d2708885",
   "metadata": {},
   "outputs": [],
   "source": [
    "inputData=np.array([np.arange(-1,1,.0013)])\n",
    "response=inputData[0]"
   ]
  },
  {
   "cell_type": "code",
   "execution_count": 716,
   "id": "07c70cde",
   "metadata": {},
   "outputs": [
    {
     "data": {
      "text/plain": [
       "nan"
      ]
     },
     "execution_count": 716,
     "metadata": {},
     "output_type": "execute_result"
    }
   ],
   "source": [
    "totalSharpness(tanhModel,inputData,response,numPerturbations=4000,percentPerturbation=0.094)"
   ]
  },
  {
   "cell_type": "code",
   "execution_count": 717,
   "id": "6d0efb61",
   "metadata": {},
   "outputs": [],
   "source": [
    "from StackGP import *\n",
    "import numpy as np"
   ]
  },
  {
   "cell_type": "code",
   "execution_count": 718,
   "id": "1cc1aca8",
   "metadata": {},
   "outputs": [],
   "source": [
    "operators=allOps()"
   ]
  },
  {
   "cell_type": "code",
   "execution_count": 719,
   "id": "71e8ef97",
   "metadata": {},
   "outputs": [],
   "source": [
    "#Define hyperbolic tangent function to generate data\n",
    "def tanhFunc(x0):\n",
    "    return np.tanh(x0)"
   ]
  },
  {
   "cell_type": "code",
   "execution_count": 720,
   "id": "5433fa09",
   "metadata": {},
   "outputs": [],
   "source": [
    "tanhModel=[np.array([operators[14],operators[7]]),[variableSelect(0)],[]]"
   ]
  },
  {
   "cell_type": "code",
   "execution_count": 721,
   "id": "c80fe3fa",
   "metadata": {},
   "outputs": [
    {
     "data": {
      "text/plain": [
       "[array([<function tanh at 0x0000023EAB4BF240>,\n",
       "        <function inv at 0x0000023EAB4BEDE0>], dtype=object),\n",
       " [<function StackGP.variableSelect.<locals>.<lambda>(variables)>],\n",
       " []]"
      ]
     },
     "execution_count": 721,
     "metadata": {},
     "output_type": "execute_result"
    }
   ],
   "source": [
    "tanhModel"
   ]
  },
  {
   "cell_type": "code",
   "execution_count": 722,
   "id": "fc9c9d51",
   "metadata": {},
   "outputs": [],
   "source": [
    "inputData=np.array([np.arange(-1,1,.0013)])\n",
    "response=inputData[0]"
   ]
  },
  {
   "cell_type": "code",
   "execution_count": 723,
   "id": "bfbfe4c3",
   "metadata": {},
   "outputs": [
    {
     "data": {
      "text/plain": [
       "0.0007949301036183715"
      ]
     },
     "execution_count": 723,
     "metadata": {},
     "output_type": "execute_result"
    }
   ],
   "source": [
    "totalSharpness(tanhModel,inputData,response,numPerturbations=4000,percentPerturbation=0.0045)"
   ]
  },
  {
   "cell_type": "code",
   "execution_count": 724,
   "id": "14c9218c",
   "metadata": {},
   "outputs": [],
   "source": [
    "from StackGP import *\n",
    "import numpy as np"
   ]
  },
  {
   "cell_type": "code",
   "execution_count": 725,
   "id": "37ab0e98",
   "metadata": {},
   "outputs": [],
   "source": [
    "operators=allOps()"
   ]
  },
  {
   "cell_type": "code",
   "execution_count": 726,
   "id": "4bce11d4",
   "metadata": {},
   "outputs": [],
   "source": [
    "#Define hyperbolic tangent function to generate data\n",
    "def tanhFunc(x0):\n",
    "    return np.tanh(x0)"
   ]
  },
  {
   "cell_type": "code",
   "execution_count": 727,
   "id": "a6963332",
   "metadata": {},
   "outputs": [],
   "source": [
    "tanhModel=[np.array([operators[14],operators[8]]),[variableSelect(0)],[]]"
   ]
  },
  {
   "cell_type": "code",
   "execution_count": 728,
   "id": "fda75332",
   "metadata": {},
   "outputs": [
    {
     "data": {
      "text/plain": [
       "[array([<function tanh at 0x0000023EAB4BF240>,\n",
       "        <function cos at 0x0000023EAB4BEF20>], dtype=object),\n",
       " [<function StackGP.variableSelect.<locals>.<lambda>(variables)>],\n",
       " []]"
      ]
     },
     "execution_count": 728,
     "metadata": {},
     "output_type": "execute_result"
    }
   ],
   "source": [
    "tanhModel"
   ]
  },
  {
   "cell_type": "code",
   "execution_count": 729,
   "id": "5d304782",
   "metadata": {},
   "outputs": [],
   "source": [
    "inputData=np.array([np.arange(-1,1,.0013)])\n",
    "response=inputData[0]"
   ]
  },
  {
   "cell_type": "code",
   "execution_count": 730,
   "id": "b849c9a0",
   "metadata": {},
   "outputs": [
    {
     "data": {
      "text/plain": [
       "0.00010274887591597675"
      ]
     },
     "execution_count": 730,
     "metadata": {},
     "output_type": "execute_result"
    }
   ],
   "source": [
    "totalSharpness(tanhModel,inputData,response,numPerturbations=4000,percentPerturbation=0.56)"
   ]
  },
  {
   "cell_type": "code",
   "execution_count": 731,
   "id": "ae30fbc8",
   "metadata": {},
   "outputs": [],
   "source": [
    "from StackGP import *\n",
    "import numpy as np"
   ]
  },
  {
   "cell_type": "code",
   "execution_count": 732,
   "id": "097c9ae2",
   "metadata": {},
   "outputs": [],
   "source": [
    "operators=allOps()"
   ]
  },
  {
   "cell_type": "code",
   "execution_count": 733,
   "id": "1399e892",
   "metadata": {},
   "outputs": [],
   "source": [
    "#Define hyperbolic tangent function to generate data\n",
    "def tanhFunc(x0):\n",
    "    return np.tanh(x0)"
   ]
  },
  {
   "cell_type": "code",
   "execution_count": 734,
   "id": "f0f4b7a7",
   "metadata": {},
   "outputs": [],
   "source": [
    "tanhModel=[np.array([operators[14],operators[9]]),[variableSelect(0)],[]]"
   ]
  },
  {
   "cell_type": "code",
   "execution_count": 735,
   "id": "3844c242",
   "metadata": {},
   "outputs": [
    {
     "data": {
      "text/plain": [
       "[array([<function tanh at 0x0000023EAB4BF240>,\n",
       "        <function sin at 0x0000023EAB4BEE80>], dtype=object),\n",
       " [<function StackGP.variableSelect.<locals>.<lambda>(variables)>],\n",
       " []]"
      ]
     },
     "execution_count": 735,
     "metadata": {},
     "output_type": "execute_result"
    }
   ],
   "source": [
    "tanhModel"
   ]
  },
  {
   "cell_type": "code",
   "execution_count": 736,
   "id": "7db22045",
   "metadata": {},
   "outputs": [],
   "source": [
    "inputData=np.array([np.arange(-1,1,.0013)])\n",
    "response=inputData[0]"
   ]
  },
  {
   "cell_type": "code",
   "execution_count": 737,
   "id": "91249ce5",
   "metadata": {},
   "outputs": [
    {
     "data": {
      "text/plain": [
       "0.000520569526259199"
      ]
     },
     "execution_count": 737,
     "metadata": {},
     "output_type": "execute_result"
    }
   ],
   "source": [
    "totalSharpness(tanhModel,inputData,response,numPerturbations=4000,percentPerturbation=0.42)"
   ]
  },
  {
   "cell_type": "code",
   "execution_count": 738,
   "id": "e264d083",
   "metadata": {},
   "outputs": [],
   "source": [
    "from StackGP import *\n",
    "import numpy as np"
   ]
  },
  {
   "cell_type": "code",
   "execution_count": 739,
   "id": "73919b59",
   "metadata": {},
   "outputs": [],
   "source": [
    "operators=allOps()"
   ]
  },
  {
   "cell_type": "code",
   "execution_count": 740,
   "id": "1d84d20f",
   "metadata": {},
   "outputs": [],
   "source": [
    "#Define hyperbolic tangent function to generate data\n",
    "def tanhFunc(x0):\n",
    "    return np.tanh(x0)"
   ]
  },
  {
   "cell_type": "code",
   "execution_count": 741,
   "id": "5d62c497",
   "metadata": {},
   "outputs": [],
   "source": [
    "tanhModel=[np.array([operators[14],operators[10]]),[variableSelect(0)],[]]"
   ]
  },
  {
   "cell_type": "code",
   "execution_count": 742,
   "id": "dc106374",
   "metadata": {},
   "outputs": [
    {
     "data": {
      "text/plain": [
       "[array([<function tanh at 0x0000023EAB4BF240>,\n",
       "        <function tan at 0x0000023EAB4BEFC0>], dtype=object),\n",
       " [<function StackGP.variableSelect.<locals>.<lambda>(variables)>],\n",
       " []]"
      ]
     },
     "execution_count": 742,
     "metadata": {},
     "output_type": "execute_result"
    }
   ],
   "source": [
    "tanhModel"
   ]
  },
  {
   "cell_type": "code",
   "execution_count": 743,
   "id": "c67bac43",
   "metadata": {},
   "outputs": [],
   "source": [
    "inputData=np.array([np.arange(-1,1,.0013)])\n",
    "response=inputData[0]"
   ]
  },
  {
   "cell_type": "code",
   "execution_count": 744,
   "id": "148756bf",
   "metadata": {},
   "outputs": [
    {
     "data": {
      "text/plain": [
       "0.0007872084285530589"
      ]
     },
     "execution_count": 744,
     "metadata": {},
     "output_type": "execute_result"
    }
   ],
   "source": [
    "totalSharpness(tanhModel,inputData,response,numPerturbations=4000,percentPerturbation=0.65)"
   ]
  },
  {
   "cell_type": "code",
   "execution_count": 745,
   "id": "e4086cd6",
   "metadata": {},
   "outputs": [],
   "source": [
    "from StackGP import *\n",
    "import numpy as np"
   ]
  },
  {
   "cell_type": "code",
   "execution_count": 746,
   "id": "8dc9021d",
   "metadata": {},
   "outputs": [],
   "source": [
    "operators=allOps()"
   ]
  },
  {
   "cell_type": "code",
   "execution_count": 747,
   "id": "d889217d",
   "metadata": {},
   "outputs": [],
   "source": [
    "#Define hyperbolic tangent function to generate data\n",
    "def tanhFunc(x0):\n",
    "    return np.tanh(x0)"
   ]
  },
  {
   "cell_type": "code",
   "execution_count": 748,
   "id": "ab41846e",
   "metadata": {},
   "outputs": [],
   "source": [
    "tanhModel=[np.array([operators[14],operators[13]]),[variableSelect(0)],[]]"
   ]
  },
  {
   "cell_type": "code",
   "execution_count": 749,
   "id": "55f79c5c",
   "metadata": {},
   "outputs": [
    {
     "data": {
      "text/plain": [
       "[array([<function tanh at 0x0000023EAB4BF240>,\n",
       "        <function arctan at 0x0000023EAB4BF1A0>], dtype=object),\n",
       " [<function StackGP.variableSelect.<locals>.<lambda>(variables)>],\n",
       " []]"
      ]
     },
     "execution_count": 749,
     "metadata": {},
     "output_type": "execute_result"
    }
   ],
   "source": [
    "tanhModel"
   ]
  },
  {
   "cell_type": "code",
   "execution_count": 750,
   "id": "92171da6",
   "metadata": {},
   "outputs": [],
   "source": [
    "inputData=np.array([np.arange(-1,1,.0013)])\n",
    "response=inputData[0]"
   ]
  },
  {
   "cell_type": "code",
   "execution_count": 751,
   "id": "723a7929",
   "metadata": {},
   "outputs": [
    {
     "data": {
      "text/plain": [
       "4.230973541035582e-06"
      ]
     },
     "execution_count": 751,
     "metadata": {},
     "output_type": "execute_result"
    }
   ],
   "source": [
    "totalSharpness(tanhModel,inputData,response,numPerturbations=4000,percentPerturbation=0.0034)"
   ]
  },
  {
   "cell_type": "code",
   "execution_count": 752,
   "id": "c96eb98d",
   "metadata": {},
   "outputs": [],
   "source": [
    "from StackGP import *\n",
    "import numpy as np"
   ]
  },
  {
   "cell_type": "code",
   "execution_count": 753,
   "id": "be9efd90",
   "metadata": {},
   "outputs": [],
   "source": [
    "operators=allOps()"
   ]
  },
  {
   "cell_type": "code",
   "execution_count": 754,
   "id": "93cd2870",
   "metadata": {},
   "outputs": [],
   "source": [
    "#Define hyperbolic tangent function to generate data\n",
    "def tanhFunc(x0):\n",
    "    return np.tanh(x0)"
   ]
  },
  {
   "cell_type": "code",
   "execution_count": 755,
   "id": "f13ffa33",
   "metadata": {},
   "outputs": [],
   "source": [
    "tanhModel=[np.array([operators[14],operators[15]]),[variableSelect(0)],[]]"
   ]
  },
  {
   "cell_type": "code",
   "execution_count": 756,
   "id": "99578e27",
   "metadata": {},
   "outputs": [
    {
     "data": {
      "text/plain": [
       "[array([<function tanh at 0x0000023EAB4BF240>,\n",
       "        <function log at 0x0000023EAB4BF2E0>], dtype=object),\n",
       " [<function StackGP.variableSelect.<locals>.<lambda>(variables)>],\n",
       " []]"
      ]
     },
     "execution_count": 756,
     "metadata": {},
     "output_type": "execute_result"
    }
   ],
   "source": [
    "tanhModel"
   ]
  },
  {
   "cell_type": "code",
   "execution_count": 757,
   "id": "b9d21a22",
   "metadata": {},
   "outputs": [],
   "source": [
    "inputData=np.array([np.arange(-1,1,.0013)])\n",
    "response=inputData[0]"
   ]
  },
  {
   "cell_type": "code",
   "execution_count": 758,
   "id": "2d9537c8",
   "metadata": {},
   "outputs": [
    {
     "data": {
      "text/plain": [
       "nan"
      ]
     },
     "execution_count": 758,
     "metadata": {},
     "output_type": "execute_result"
    }
   ],
   "source": [
    "totalSharpness(tanhModel,inputData,response,numPerturbations=4000,percentPerturbation=0.57)"
   ]
  },
  {
   "cell_type": "code",
   "execution_count": 760,
   "id": "b33e8b71",
   "metadata": {},
   "outputs": [
    {
     "data": {
      "image/png": "[encoded data removed]",
      "text/plain": [
       "<Figure size 1000x500 with 1 Axes>"
      ]
     },
     "metadata": {},
     "output_type": "display_data"
    }
   ],
   "source": [
    "import numpy as np\n",
    "import matplotlib.pyplot as plt \n",
    "\n",
    " \n",
    "# creating the dataset\n",
    "data = {'0.0075':0.00001562,'0.85':0.000237,'0.094':1,'0.0045':0.0007949,'0.56':0.0001027,'0.42':0.0005205,'0.65':0.0007872,'0.0034':0.0000042309,'0.57':1}\n",
    "courses = list(data.keys())\n",
    "values = list(data.values())\n",
    " \n",
    "fig = plt.figure(figsize = (10, 5))\n",
    "\n",
    "# creating the bar plot\n",
    "plt.bar(courses, values, color ='maroon', \n",
    "        width = 0.4)\n",
    "\n",
    "plt.xlabel(\"percentPerturbation\")\n",
    "plt.ylabel(\"Sharpness\")\n",
    "plt.title(\"Change in %Perturbation for Tanh Function\")\n",
    "plt.yscale(\"log\")\n",
    "plt.show()"
   ]
  },
  {
   "cell_type": "code",
   "execution_count": 45,
   "id": "fbb30462",
   "metadata": {},
   "outputs": [],
   "source": [
    "#Logarithmic Function Combinations"
   ]
  },
  {
   "cell_type": "code",
   "execution_count": 761,
   "id": "38de601f",
   "metadata": {},
   "outputs": [],
   "source": [
    "from StackGP import *\n",
    "import numpy as np"
   ]
  },
  {
   "cell_type": "code",
   "execution_count": 762,
   "id": "2e72df1f",
   "metadata": {},
   "outputs": [],
   "source": [
    "operators=allOps()"
   ]
  },
  {
   "cell_type": "code",
   "execution_count": 763,
   "id": "47737563",
   "metadata": {},
   "outputs": [],
   "source": [
    "#Define logarithmic function to generate data\n",
    "def logFunc(x0):\n",
    "    return np.log(x0)"
   ]
  },
  {
   "cell_type": "code",
   "execution_count": 764,
   "id": "7863abf4",
   "metadata": {},
   "outputs": [],
   "source": [
    "logModel=[np.array([operators[15],operators[4]]),[variableSelect(0)],[]]"
   ]
  },
  {
   "cell_type": "code",
   "execution_count": 765,
   "id": "0fd72dcb",
   "metadata": {},
   "outputs": [
    {
     "data": {
      "text/plain": [
       "[array([<function log at 0x0000023EAB4BF2E0>,\n",
       "        <function exp at 0x0000023EAB4BEB60>], dtype=object),\n",
       " [<function StackGP.variableSelect.<locals>.<lambda>(variables)>],\n",
       " []]"
      ]
     },
     "execution_count": 765,
     "metadata": {},
     "output_type": "execute_result"
    }
   ],
   "source": [
    "logModel"
   ]
  },
  {
   "cell_type": "code",
   "execution_count": 766,
   "id": "88c246fb",
   "metadata": {},
   "outputs": [],
   "source": [
    "inputData=np.array([np.arange(-1,1,.0013)])\n",
    "response=inputData[0]"
   ]
  },
  {
   "cell_type": "code",
   "execution_count": 767,
   "id": "ef1527ba",
   "metadata": {},
   "outputs": [
    {
     "data": {
      "text/plain": [
       "nan"
      ]
     },
     "execution_count": 767,
     "metadata": {},
     "output_type": "execute_result"
    }
   ],
   "source": [
    "totalSharpness(logModel,inputData,response,numPerturbations=4000,percentPerturbation=0.99)"
   ]
  },
  {
   "cell_type": "code",
   "execution_count": null,
   "id": "c3758b12",
   "metadata": {},
   "outputs": [],
   "source": []
  },
  {
   "cell_type": "code",
   "execution_count": 768,
   "id": "d060741f",
   "metadata": {},
   "outputs": [],
   "source": [
    "from StackGP import *\n",
    "import numpy as np"
   ]
  },
  {
   "cell_type": "code",
   "execution_count": 769,
   "id": "2c2b4771",
   "metadata": {},
   "outputs": [],
   "source": [
    "operators=allOps()"
   ]
  },
  {
   "cell_type": "code",
   "execution_count": 770,
   "id": "3442be3b",
   "metadata": {},
   "outputs": [],
   "source": [
    "#Define logarithmic function to generate data\n",
    "def logFunc(x0):\n",
    "    return np.log(x0)"
   ]
  },
  {
   "cell_type": "code",
   "execution_count": 771,
   "id": "e955c418",
   "metadata": {},
   "outputs": [],
   "source": [
    "logModel=[np.array([operators[15],operators[5]]),[variableSelect(0)],[]]"
   ]
  },
  {
   "cell_type": "code",
   "execution_count": 772,
   "id": "ae6206ae",
   "metadata": {},
   "outputs": [
    {
     "data": {
      "text/plain": [
       "[array([<function log at 0x0000023EAB4BF2E0>,\n",
       "        <function sqrd at 0x0000023EAB4BED40>], dtype=object),\n",
       " [<function StackGP.variableSelect.<locals>.<lambda>(variables)>],\n",
       " []]"
      ]
     },
     "execution_count": 772,
     "metadata": {},
     "output_type": "execute_result"
    }
   ],
   "source": [
    "logModel"
   ]
  },
  {
   "cell_type": "code",
   "execution_count": 773,
   "id": "eb3721b2",
   "metadata": {},
   "outputs": [],
   "source": [
    "inputData=np.array([np.arange(-1,1,.0013)])\n",
    "response=inputData[0]"
   ]
  },
  {
   "cell_type": "code",
   "execution_count": 774,
   "id": "eeeaeb08",
   "metadata": {},
   "outputs": [
    {
     "data": {
      "text/plain": [
       "nan"
      ]
     },
     "execution_count": 774,
     "metadata": {},
     "output_type": "execute_result"
    }
   ],
   "source": [
    "totalSharpness(logModel,inputData,response,numPerturbations=4000,percentPerturbation=0.0085)"
   ]
  },
  {
   "cell_type": "code",
   "execution_count": null,
   "id": "941d774a",
   "metadata": {},
   "outputs": [],
   "source": []
  },
  {
   "cell_type": "code",
   "execution_count": 775,
   "id": "e9e9cf69",
   "metadata": {},
   "outputs": [],
   "source": [
    "from StackGP import *\n",
    "import numpy as np"
   ]
  },
  {
   "cell_type": "code",
   "execution_count": 776,
   "id": "cb4c9dd8",
   "metadata": {},
   "outputs": [],
   "source": [
    "operators=allOps()"
   ]
  },
  {
   "cell_type": "code",
   "execution_count": 777,
   "id": "9bdf98f6",
   "metadata": {},
   "outputs": [],
   "source": [
    "#Define logarithmic function to generate data\n",
    "def logFunc(x0):\n",
    "    return np.log(x0)"
   ]
  },
  {
   "cell_type": "code",
   "execution_count": 778,
   "id": "c07df697",
   "metadata": {},
   "outputs": [],
   "source": [
    "logModel=[np.array([operators[15],operators[6]]),[variableSelect(0)],[]]"
   ]
  },
  {
   "cell_type": "code",
   "execution_count": 779,
   "id": "ec2c1ee3",
   "metadata": {},
   "outputs": [
    {
     "data": {
      "text/plain": [
       "[array([<function log at 0x0000023EAB4BF2E0>,\n",
       "        <function sqrt at 0x0000023EAB4BECA0>], dtype=object),\n",
       " [<function StackGP.variableSelect.<locals>.<lambda>(variables)>],\n",
       " []]"
      ]
     },
     "execution_count": 779,
     "metadata": {},
     "output_type": "execute_result"
    }
   ],
   "source": [
    "logModel"
   ]
  },
  {
   "cell_type": "code",
   "execution_count": 780,
   "id": "d08e3396",
   "metadata": {},
   "outputs": [],
   "source": [
    "inputData=np.array([np.arange(-1,1,.0013)])\n",
    "response=inputData[0]"
   ]
  },
  {
   "cell_type": "code",
   "execution_count": 781,
   "id": "89aecef6",
   "metadata": {},
   "outputs": [
    {
     "data": {
      "text/plain": [
       "nan"
      ]
     },
     "execution_count": 781,
     "metadata": {},
     "output_type": "execute_result"
    }
   ],
   "source": [
    "totalSharpness(logModel,inputData,response,numPerturbations=4000,percentPerturbation=0.64)"
   ]
  },
  {
   "cell_type": "code",
   "execution_count": 783,
   "id": "cb888953",
   "metadata": {},
   "outputs": [],
   "source": [
    "from StackGP import *\n",
    "import numpy as np"
   ]
  },
  {
   "cell_type": "code",
   "execution_count": 784,
   "id": "b69dc0aa",
   "metadata": {},
   "outputs": [],
   "source": [
    "operators=allOps()"
   ]
  },
  {
   "cell_type": "code",
   "execution_count": 785,
   "id": "a80ff12e",
   "metadata": {},
   "outputs": [],
   "source": [
    "#Define logarithmic function to generate data\n",
    "def logFunc(x0):\n",
    "    return np.log(x0)"
   ]
  },
  {
   "cell_type": "code",
   "execution_count": 786,
   "id": "ecfedeff",
   "metadata": {},
   "outputs": [],
   "source": [
    "logModel=[np.array([operators[15],operators[7]]),[variableSelect(0)],[]]"
   ]
  },
  {
   "cell_type": "code",
   "execution_count": 787,
   "id": "9a94155d",
   "metadata": {},
   "outputs": [
    {
     "data": {
      "text/plain": [
       "[array([<function log at 0x0000023EAB4BF2E0>,\n",
       "        <function inv at 0x0000023EAB4BEDE0>], dtype=object),\n",
       " [<function StackGP.variableSelect.<locals>.<lambda>(variables)>],\n",
       " []]"
      ]
     },
     "execution_count": 787,
     "metadata": {},
     "output_type": "execute_result"
    }
   ],
   "source": [
    "logModel"
   ]
  },
  {
   "cell_type": "code",
   "execution_count": null,
   "id": "127b98c3",
   "metadata": {},
   "outputs": [],
   "source": [
    "inputData=np.array([np.arange(-1,1,.0013)])\n",
    "response=inputData[0]"
   ]
  },
  {
   "cell_type": "code",
   "execution_count": 788,
   "id": "479130d6",
   "metadata": {},
   "outputs": [
    {
     "data": {
      "text/plain": [
       "nan"
      ]
     },
     "execution_count": 788,
     "metadata": {},
     "output_type": "execute_result"
    }
   ],
   "source": [
    "totalSharpness(logModel,inputData,response,numPerturbations=4000,percentPerturbation=0.073)"
   ]
  },
  {
   "cell_type": "code",
   "execution_count": 789,
   "id": "06e4e130",
   "metadata": {},
   "outputs": [],
   "source": [
    "from StackGP import *\n",
    "import numpy as np"
   ]
  },
  {
   "cell_type": "code",
   "execution_count": 790,
   "id": "1c3e153c",
   "metadata": {},
   "outputs": [],
   "source": [
    "operators=allOps()"
   ]
  },
  {
   "cell_type": "code",
   "execution_count": 791,
   "id": "17ea662e",
   "metadata": {},
   "outputs": [],
   "source": [
    "#Define logarithmic function to generate data\n",
    "def logFunc(x0):\n",
    "    return np.log(x0)"
   ]
  },
  {
   "cell_type": "code",
   "execution_count": 792,
   "id": "2a59f30d",
   "metadata": {},
   "outputs": [],
   "source": [
    "logModel=[np.array([operators[15],operators[8]]),[variableSelect(0)],[]]"
   ]
  },
  {
   "cell_type": "code",
   "execution_count": 793,
   "id": "80ecb58e",
   "metadata": {},
   "outputs": [
    {
     "data": {
      "text/plain": [
       "[array([<function log at 0x0000023EAB4BF2E0>,\n",
       "        <function cos at 0x0000023EAB4BEF20>], dtype=object),\n",
       " [<function StackGP.variableSelect.<locals>.<lambda>(variables)>],\n",
       " []]"
      ]
     },
     "execution_count": 793,
     "metadata": {},
     "output_type": "execute_result"
    }
   ],
   "source": [
    "logModel"
   ]
  },
  {
   "cell_type": "code",
   "execution_count": 794,
   "id": "2580f909",
   "metadata": {},
   "outputs": [],
   "source": [
    "inputData=np.array([np.arange(-1,1,.0013)])\n",
    "response=inputData[0]"
   ]
  },
  {
   "cell_type": "code",
   "execution_count": 795,
   "id": "9916f300",
   "metadata": {},
   "outputs": [
    {
     "data": {
      "text/plain": [
       "nan"
      ]
     },
     "execution_count": 795,
     "metadata": {},
     "output_type": "execute_result"
    }
   ],
   "source": [
    "totalSharpness(logModel,inputData,response,numPerturbations=4000,percentPerturbation=0.84)"
   ]
  },
  {
   "cell_type": "code",
   "execution_count": null,
   "id": "9659494a",
   "metadata": {},
   "outputs": [],
   "source": [
    "from StackGP import *\n",
    "import numpy as np"
   ]
  },
  {
   "cell_type": "code",
   "execution_count": null,
   "id": "cd19d11d",
   "metadata": {},
   "outputs": [],
   "source": [
    "operators=allOps()"
   ]
  },
  {
   "cell_type": "code",
   "execution_count": null,
   "id": "9d31441b",
   "metadata": {},
   "outputs": [],
   "source": [
    "#Define logarithmic function to generate data\n",
    "def logFunc(x0):\n",
    "    return np.log(x0)"
   ]
  },
  {
   "cell_type": "code",
   "execution_count": 796,
   "id": "35c4dfbf",
   "metadata": {},
   "outputs": [],
   "source": [
    "logModel=[np.array([operators[15],operators[9]]),[variableSelect(0)],[]]"
   ]
  },
  {
   "cell_type": "code",
   "execution_count": 797,
   "id": "966c4090",
   "metadata": {},
   "outputs": [
    {
     "data": {
      "text/plain": [
       "[array([<function log at 0x0000023EAB4BF2E0>,\n",
       "        <function sin at 0x0000023EAB4BEE80>], dtype=object),\n",
       " [<function StackGP.variableSelect.<locals>.<lambda>(variables)>],\n",
       " []]"
      ]
     },
     "execution_count": 797,
     "metadata": {},
     "output_type": "execute_result"
    }
   ],
   "source": [
    "logModel"
   ]
  },
  {
   "cell_type": "code",
   "execution_count": 798,
   "id": "fbf7d146",
   "metadata": {},
   "outputs": [],
   "source": [
    "inputData=np.array([np.arange(-1,1,.0013)])\n",
    "response=inputData[0]"
   ]
  },
  {
   "cell_type": "code",
   "execution_count": 799,
   "id": "ff37b393",
   "metadata": {},
   "outputs": [
    {
     "data": {
      "text/plain": [
       "nan"
      ]
     },
     "execution_count": 799,
     "metadata": {},
     "output_type": "execute_result"
    }
   ],
   "source": [
    "totalSharpness(logModel,inputData,response,numPerturbations=4000,percentPerturbation=0.003)"
   ]
  },
  {
   "cell_type": "code",
   "execution_count": 800,
   "id": "85a0c4cb",
   "metadata": {},
   "outputs": [],
   "source": [
    "from StackGP import *\n",
    "import numpy as np"
   ]
  },
  {
   "cell_type": "code",
   "execution_count": 801,
   "id": "2054d820",
   "metadata": {},
   "outputs": [],
   "source": [
    "operators=allOps()"
   ]
  },
  {
   "cell_type": "code",
   "execution_count": 802,
   "id": "d045474f",
   "metadata": {},
   "outputs": [],
   "source": [
    "#Define logarithmic function to generate data\n",
    "def logFunc(x0):\n",
    "    return np.log(x0)"
   ]
  },
  {
   "cell_type": "code",
   "execution_count": 803,
   "id": "b3036d44",
   "metadata": {},
   "outputs": [],
   "source": [
    "logModel=[np.array([operators[15],operators[10]]),[variableSelect(0)],[]]"
   ]
  },
  {
   "cell_type": "code",
   "execution_count": 804,
   "id": "68e4d182",
   "metadata": {},
   "outputs": [
    {
     "data": {
      "text/plain": [
       "[array([<function log at 0x0000023EAB4BF2E0>,\n",
       "        <function tan at 0x0000023EAB4BEFC0>], dtype=object),\n",
       " [<function StackGP.variableSelect.<locals>.<lambda>(variables)>],\n",
       " []]"
      ]
     },
     "execution_count": 804,
     "metadata": {},
     "output_type": "execute_result"
    }
   ],
   "source": [
    "logModel"
   ]
  },
  {
   "cell_type": "code",
   "execution_count": 805,
   "id": "e456273d",
   "metadata": {},
   "outputs": [],
   "source": [
    "inputData=np.array([np.arange(-1,1,.0013)])\n",
    "response=inputData[0]"
   ]
  },
  {
   "cell_type": "code",
   "execution_count": 806,
   "id": "109186d8",
   "metadata": {},
   "outputs": [
    {
     "data": {
      "text/plain": [
       "nan"
      ]
     },
     "execution_count": 806,
     "metadata": {},
     "output_type": "execute_result"
    }
   ],
   "source": [
    "totalSharpness(logModel,inputData,response,numPerturbations=4000,percentPerturbation=0.18)"
   ]
  },
  {
   "cell_type": "code",
   "execution_count": 807,
   "id": "a681d3e1",
   "metadata": {},
   "outputs": [],
   "source": [
    "from StackGP import *\n",
    "import numpy as np"
   ]
  },
  {
   "cell_type": "code",
   "execution_count": 808,
   "id": "4c10c641",
   "metadata": {},
   "outputs": [],
   "source": [
    "operators=allOps()"
   ]
  },
  {
   "cell_type": "code",
   "execution_count": 809,
   "id": "fb56ab31",
   "metadata": {},
   "outputs": [],
   "source": [
    "#Define logarithmic function to generate data\n",
    "def logFunc(x0):\n",
    "    return np.log(x0)"
   ]
  },
  {
   "cell_type": "code",
   "execution_count": 810,
   "id": "c9933a1a",
   "metadata": {},
   "outputs": [],
   "source": [
    "logModel=[np.array([operators[15],operators[13]]),[variableSelect(0)],[]]"
   ]
  },
  {
   "cell_type": "code",
   "execution_count": 811,
   "id": "85393cb8",
   "metadata": {},
   "outputs": [
    {
     "data": {
      "text/plain": [
       "[array([<function log at 0x0000023EAB4BF2E0>,\n",
       "        <function arctan at 0x0000023EAB4BF1A0>], dtype=object),\n",
       " [<function StackGP.variableSelect.<locals>.<lambda>(variables)>],\n",
       " []]"
      ]
     },
     "execution_count": 811,
     "metadata": {},
     "output_type": "execute_result"
    }
   ],
   "source": [
    "logModel"
   ]
  },
  {
   "cell_type": "code",
   "execution_count": 812,
   "id": "fd6a8cbe",
   "metadata": {},
   "outputs": [],
   "source": [
    "inputData=np.array([np.arange(-1,1,.0013)])\n",
    "response=inputData[0]"
   ]
  },
  {
   "cell_type": "code",
   "execution_count": 813,
   "id": "c43c5ded",
   "metadata": {},
   "outputs": [
    {
     "data": {
      "text/plain": [
       "nan"
      ]
     },
     "execution_count": 813,
     "metadata": {},
     "output_type": "execute_result"
    }
   ],
   "source": [
    "totalSharpness(logModel,inputData,response,numPerturbations=4000,percentPerturbation=0.011)"
   ]
  },
  {
   "cell_type": "code",
   "execution_count": 814,
   "id": "7ee450ba",
   "metadata": {},
   "outputs": [],
   "source": [
    "from StackGP import *\n",
    "import numpy as np"
   ]
  },
  {
   "cell_type": "code",
   "execution_count": 815,
   "id": "0f20839b",
   "metadata": {},
   "outputs": [],
   "source": [
    "operators=allOps()"
   ]
  },
  {
   "cell_type": "code",
   "execution_count": 816,
   "id": "d9c4290d",
   "metadata": {},
   "outputs": [],
   "source": [
    "#Define logarithmic function to generate data\n",
    "def logFunc(x0):\n",
    "    return np.log(x0)"
   ]
  },
  {
   "cell_type": "code",
   "execution_count": 817,
   "id": "4b864c8b",
   "metadata": {},
   "outputs": [],
   "source": [
    "logModel=[np.array([operators[15],operators[14]]),[variableSelect(0)],[]]"
   ]
  },
  {
   "cell_type": "code",
   "execution_count": 818,
   "id": "d2c4ffaf",
   "metadata": {},
   "outputs": [
    {
     "data": {
      "text/plain": [
       "[array([<function log at 0x0000023EAB4BF2E0>,\n",
       "        <function tanh at 0x0000023EAB4BF240>], dtype=object),\n",
       " [<function StackGP.variableSelect.<locals>.<lambda>(variables)>],\n",
       " []]"
      ]
     },
     "execution_count": 818,
     "metadata": {},
     "output_type": "execute_result"
    }
   ],
   "source": [
    "logModel"
   ]
  },
  {
   "cell_type": "code",
   "execution_count": 819,
   "id": "562e1db5",
   "metadata": {},
   "outputs": [],
   "source": [
    "inputData=np.array([np.arange(-1,1,.0013)])\n",
    "response=inputData[0]"
   ]
  },
  {
   "cell_type": "code",
   "execution_count": 820,
   "id": "a604bd34",
   "metadata": {},
   "outputs": [
    {
     "data": {
      "text/plain": [
       "nan"
      ]
     },
     "execution_count": 820,
     "metadata": {},
     "output_type": "execute_result"
    }
   ],
   "source": [
    "totalSharpness(logModel,inputData,response,numPerturbations=4000,percentPerturbation=0.36)"
   ]
  },
  {
   "cell_type": "code",
   "execution_count": 821,
   "id": "7639f370",
   "metadata": {},
   "outputs": [
    {
     "data": {
      "image/png": "[encoded data removed]",
      "text/plain": [
       "<Figure size 1000x500 with 1 Axes>"
      ]
     },
     "metadata": {},
     "output_type": "display_data"
    }
   ],
   "source": [
    "import numpy as np\n",
    "import matplotlib.pyplot as plt \n",
    "\n",
    " \n",
    "# creating the dataset\n",
    "data = {'0.99':1,'0.0085':1,'0.64':1,'0.073':1,'0.84':1,'0.003':1,'0.18':1,'0.011':1,'0.36':1}\n",
    "courses = list(data.keys())\n",
    "values = list(data.values())\n",
    " \n",
    "fig = plt.figure(figsize = (10, 5))\n",
    "\n",
    "# creating the bar plot\n",
    "plt.bar(courses, values, color ='maroon', \n",
    "        width = 0.4)\n",
    "\n",
    "plt.xlabel(\"percentPerturbation\")\n",
    "plt.ylabel(\"Sharpness\")\n",
    "plt.title(\"Change in %Perturbation for Log Function\")\n",
    "plt.yscale(\"log\")\n",
    "plt.show()\n"
   ]
  },
  {
   "cell_type": "code",
   "execution_count": null,
   "id": "80cf4d80",
   "metadata": {},
   "outputs": [],
   "source": []
  }
 ],
 "metadata": {
  "kernelspec": {
   "display_name": "Python 3 (ipykernel)",
   "language": "python",
   "name": "python3"
  },
  "language_info": {
   "codemirror_mode": {
    "name": "ipython",
    "version": 3
   },
   "file_extension": ".py",
   "mimetype": "text/x-python",
   "name": "python",
   "nbconvert_exporter": "python",
   "pygments_lexer": "ipython3",
   "version": "3.11.3"
  }
 },
 "nbformat": 4,
 "nbformat_minor": 5
}
