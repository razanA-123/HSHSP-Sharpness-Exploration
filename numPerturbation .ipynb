{
 "cells": [
  {
   "cell_type": "code",
   "execution_count": 1,
   "id": "c5e54b8c",
   "metadata": {},
   "outputs": [],
   "source": [
    "from StackGP import *\n",
    "import numpy as np"
   ]
  },
  {
   "cell_type": "code",
   "execution_count": 2,
   "id": "c748d4c7",
   "metadata": {},
   "outputs": [],
   "source": [
    "inputData=[[1,2,3,4,5,6,7,8,9,10]]\n",
    "response=inputData[0]"
   ]
  },
  {
   "cell_type": "code",
   "execution_count": 3,
   "id": "d48710ef",
   "metadata": {},
   "outputs": [
    {
     "data": {
      "text/plain": [
       "[[1, 2, 3, 4, 5, 6, 7, 8, 9, 10]]"
      ]
     },
     "execution_count": 3,
     "metadata": {},
     "output_type": "execute_result"
    }
   ],
   "source": [
    "inputData"
   ]
  },
  {
   "cell_type": "code",
   "execution_count": 4,
   "id": "686b0b58",
   "metadata": {},
   "outputs": [
    {
     "data": {
      "text/plain": [
       "[1, 2, 3, 4, 5, 6, 7, 8, 9, 10]"
      ]
     },
     "execution_count": 4,
     "metadata": {},
     "output_type": "execute_result"
    }
   ],
   "source": [
    "response"
   ]
  },
  {
   "cell_type": "code",
   "execution_count": 5,
   "id": "1ec49391",
   "metadata": {},
   "outputs": [],
   "source": [
    "operators=allOps()"
   ]
  },
  {
   "cell_type": "code",
   "execution_count": 6,
   "id": "6042d029",
   "metadata": {},
   "outputs": [
    {
     "data": {
      "text/plain": [
       "[<function StackGP.protectDiv(a, b)>,\n",
       " <function StackGP.add(a, b)>,\n",
       " <function StackGP.sub(a, b)>,\n",
       " <function StackGP.mult(a, b)>,\n",
       " <function StackGP.exp(a)>,\n",
       " <function StackGP.sqrd(a)>,\n",
       " <function StackGP.sqrt(a)>,\n",
       " <function StackGP.inv(a)>,\n",
       " <function StackGP.cos(a)>,\n",
       " <function StackGP.sin(a)>,\n",
       " <function StackGP.tan(a)>,\n",
       " <function StackGP.arccos(a)>,\n",
       " <function StackGP.arcsin(a)>,\n",
       " <function StackGP.arctan(a)>,\n",
       " <function StackGP.tanh(a)>,\n",
       " <function StackGP.log(a)>,\n",
       " 'pop',\n",
       " 'pop',\n",
       " 'pop',\n",
       " 'pop',\n",
       " 'pop',\n",
       " 'pop',\n",
       " 'pop',\n",
       " 'pop',\n",
       " 'pop',\n",
       " 'pop']"
      ]
     },
     "execution_count": 6,
     "metadata": {},
     "output_type": "execute_result"
    }
   ],
   "source": [
    "operators"
   ]
  },
  {
   "cell_type": "code",
   "execution_count": 7,
   "id": "da5a44ca",
   "metadata": {},
   "outputs": [
    {
     "data": {
      "text/plain": [
       "<function StackGP.exp(a)>"
      ]
     },
     "execution_count": 7,
     "metadata": {},
     "output_type": "execute_result"
    }
   ],
   "source": [
    "operators[4]"
   ]
  },
  {
   "cell_type": "code",
   "execution_count": 8,
   "id": "d03c9993",
   "metadata": {},
   "outputs": [],
   "source": [
    "model=[np.array([operators[4]]),[variableSelect(0)],[]]"
   ]
  },
  {
   "cell_type": "code",
   "execution_count": 9,
   "id": "ddac32f0",
   "metadata": {},
   "outputs": [
    {
     "data": {
      "text/plain": [
       "[array([<function exp at 0x000002381BB2C860>], dtype=object),\n",
       " [<function StackGP.variableSelect.<locals>.<lambda>(variables)>],\n",
       " []]"
      ]
     },
     "execution_count": 9,
     "metadata": {},
     "output_type": "execute_result"
    }
   ],
   "source": [
    "model"
   ]
  },
  {
   "cell_type": "code",
   "execution_count": null,
   "id": "7f6e3c50",
   "metadata": {},
   "outputs": [],
   "source": []
  },
  {
   "cell_type": "code",
   "execution_count": 10,
   "id": "d5472d59",
   "metadata": {},
   "outputs": [
    {
     "data": {
      "text/plain": [
       "0.040252565653668256"
      ]
     },
     "execution_count": 10,
     "metadata": {},
     "output_type": "execute_result"
    }
   ],
   "source": [
    "totalSharpness(model,inputData,response,numPerturbations=5000,percentPerturbation=0.2)"
   ]
  },
  {
   "cell_type": "code",
   "execution_count": 11,
   "id": "5c479fb8",
   "metadata": {},
   "outputs": [],
   "source": [
    "#Define exponent function to generate data\n",
    "def expFunc(x0):\n",
    "    return np.exp(x0)"
   ]
  },
  {
   "cell_type": "code",
   "execution_count": 12,
   "id": "0e2ea5ed",
   "metadata": {},
   "outputs": [
    {
     "data": {
      "text/plain": [
       "[[1, 2, 3, 4, 5, 6, 7, 8, 9, 10]]"
      ]
     },
     "execution_count": 12,
     "metadata": {},
     "output_type": "execute_result"
    }
   ],
   "source": [
    "inputData"
   ]
  },
  {
   "cell_type": "code",
   "execution_count": 13,
   "id": "6be9c35c",
   "metadata": {},
   "outputs": [],
   "source": [
    "response=expFunc(inputData[0])"
   ]
  },
  {
   "cell_type": "code",
   "execution_count": 14,
   "id": "f20dbd8c",
   "metadata": {},
   "outputs": [],
   "source": [
    "expModel=[np.array([operators[4]]),[variableSelect(0)],[]]"
   ]
  },
  {
   "cell_type": "code",
   "execution_count": 15,
   "id": "33c70814",
   "metadata": {},
   "outputs": [
    {
     "data": {
      "text/plain": [
       "[array([<function exp at 0x000002381BB2C860>], dtype=object),\n",
       " [<function StackGP.variableSelect.<locals>.<lambda>(variables)>],\n",
       " []]"
      ]
     },
     "execution_count": 15,
     "metadata": {},
     "output_type": "execute_result"
    }
   ],
   "source": [
    "expModel"
   ]
  },
  {
   "cell_type": "code",
   "execution_count": 21,
   "id": "73719dbb",
   "metadata": {},
   "outputs": [
    {
     "data": {
      "text/plain": [
       "0.00924990730333756"
      ]
     },
     "execution_count": 21,
     "metadata": {},
     "output_type": "execute_result"
    }
   ],
   "source": [
    "totalSharpness(model,inputData,response,numPerturbations=7000,percentPerturbation=0.2)"
   ]
  },
  {
   "cell_type": "code",
   "execution_count": 22,
   "id": "308fbd7b",
   "metadata": {},
   "outputs": [
    {
     "data": {
      "text/plain": [
       "0.00892811791924985"
      ]
     },
     "execution_count": 22,
     "metadata": {},
     "output_type": "execute_result"
    }
   ],
   "source": [
    "totalSharpness(model,inputData,response,numPerturbations=3300,percentPerturbation=0.2)"
   ]
  },
  {
   "cell_type": "code",
   "execution_count": 23,
   "id": "4020f6ce",
   "metadata": {},
   "outputs": [
    {
     "data": {
      "text/plain": [
       "0.009481160640058595"
      ]
     },
     "execution_count": 23,
     "metadata": {},
     "output_type": "execute_result"
    }
   ],
   "source": [
    "totalSharpness(model,inputData,response,numPerturbations=5700,percentPerturbation=0.2)"
   ]
  },
  {
   "cell_type": "code",
   "execution_count": 24,
   "id": "b9825e91",
   "metadata": {},
   "outputs": [
    {
     "data": {
      "text/plain": [
       "0.009395453129109681"
      ]
     },
     "execution_count": 24,
     "metadata": {},
     "output_type": "execute_result"
    }
   ],
   "source": [
    "totalSharpness(model,inputData,response,numPerturbations=9900,percentPerturbation=0.2)"
   ]
  },
  {
   "cell_type": "code",
   "execution_count": 25,
   "id": "9de1a9d7",
   "metadata": {},
   "outputs": [
    {
     "data": {
      "text/plain": [
       "0.0092336624072989"
      ]
     },
     "execution_count": 25,
     "metadata": {},
     "output_type": "execute_result"
    }
   ],
   "source": [
    "totalSharpness(model,inputData,response,numPerturbations=8700,percentPerturbation=0.2)"
   ]
  },
  {
   "cell_type": "code",
   "execution_count": 26,
   "id": "cbc43e98",
   "metadata": {},
   "outputs": [
    {
     "data": {
      "text/plain": [
       "0.009946712735486496"
      ]
     },
     "execution_count": 26,
     "metadata": {},
     "output_type": "execute_result"
    }
   ],
   "source": [
    "totalSharpness(model,inputData,response,numPerturbations=600,percentPerturbation=0.2)"
   ]
  },
  {
   "cell_type": "code",
   "execution_count": 27,
   "id": "900d8b72",
   "metadata": {},
   "outputs": [
    {
     "data": {
      "text/plain": [
       "0.009140772246116447"
      ]
     },
     "execution_count": 27,
     "metadata": {},
     "output_type": "execute_result"
    }
   ],
   "source": [
    "totalSharpness(model,inputData,response,numPerturbations=5000,percentPerturbation=0.2)"
   ]
  },
  {
   "cell_type": "code",
   "execution_count": 28,
   "id": "bea497bd",
   "metadata": {},
   "outputs": [
    {
     "data": {
      "text/plain": [
       "0.009820726547909312"
      ]
     },
     "execution_count": 28,
     "metadata": {},
     "output_type": "execute_result"
    }
   ],
   "source": [
    "totalSharpness(model,inputData,response,numPerturbations=200,percentPerturbation=0.2)"
   ]
  },
  {
   "cell_type": "code",
   "execution_count": 211,
   "id": "20e0f2aa",
   "metadata": {},
   "outputs": [
    {
     "data": {
      "image/png": "[encoded data removed]",
      "text/plain": [
       "<Figure size 1000x500 with 1 Axes>"
      ]
     },
     "metadata": {},
     "output_type": "display_data"
    }
   ],
   "source": [
    "import matplotlib.pyplot as plt \n",
    "\n",
    " \n",
    "# creating the dataset\n",
    "data = {'200':0.0098207 ,'600':0.009946712735486496 ,'3300':0.0089281 ,'5000':0.00914077 ,'5700':0.009481160 ,'7000':0.009249907 ,'8700':0.0092336 ,'9900':0.00939545}\n",
    "courses = list(data.keys())\n",
    "values = list(data.values())\n",
    " \n",
    "fig = plt.figure(figsize = (10, 5))\n",
    "\n",
    "# creating the bar plot\n",
    "plt.bar(courses, values, color ='maroon', \n",
    "        width = 0.4)\n",
    "\n",
    "plt.xlabel(\"numberPerturbation\")\n",
    "plt.ylabel(\"Sharpness\")\n",
    "plt.title(\"Change in numPerturbation for Exp Function\")\n",
    "plt.yscale(\"log\")\n",
    "plt.show()\n"
   ]
  },
  {
   "cell_type": "code",
   "execution_count": 30,
   "id": "bfe41f94",
   "metadata": {},
   "outputs": [],
   "source": [
    "#Sqrd"
   ]
  },
  {
   "cell_type": "code",
   "execution_count": 49,
   "id": "c3578127",
   "metadata": {},
   "outputs": [],
   "source": [
    "from StackGP import *\n",
    "import numpy as np"
   ]
  },
  {
   "cell_type": "code",
   "execution_count": 50,
   "id": "8a1b241a",
   "metadata": {},
   "outputs": [],
   "source": [
    "inputData=[[1,2,3,4,5,6,7,8,9,10]]\n",
    "response=inputData[0]"
   ]
  },
  {
   "cell_type": "code",
   "execution_count": 51,
   "id": "5d87e7c9",
   "metadata": {},
   "outputs": [
    {
     "data": {
      "text/plain": [
       "[[1, 2, 3, 4, 5, 6, 7, 8, 9, 10]]"
      ]
     },
     "execution_count": 51,
     "metadata": {},
     "output_type": "execute_result"
    }
   ],
   "source": [
    "inputData"
   ]
  },
  {
   "cell_type": "code",
   "execution_count": 52,
   "id": "56eb8546",
   "metadata": {},
   "outputs": [
    {
     "data": {
      "text/plain": [
       "[1, 2, 3, 4, 5, 6, 7, 8, 9, 10]"
      ]
     },
     "execution_count": 52,
     "metadata": {},
     "output_type": "execute_result"
    }
   ],
   "source": [
    "response"
   ]
  },
  {
   "cell_type": "code",
   "execution_count": 53,
   "id": "3b879837",
   "metadata": {},
   "outputs": [],
   "source": [
    "operators=allOps()"
   ]
  },
  {
   "cell_type": "code",
   "execution_count": 54,
   "id": "a1a54794",
   "metadata": {},
   "outputs": [
    {
     "data": {
      "text/plain": [
       "[<function StackGP.protectDiv(a, b)>,\n",
       " <function StackGP.add(a, b)>,\n",
       " <function StackGP.sub(a, b)>,\n",
       " <function StackGP.mult(a, b)>,\n",
       " <function StackGP.exp(a)>,\n",
       " <function StackGP.sqrd(a)>,\n",
       " <function StackGP.sqrt(a)>,\n",
       " <function StackGP.inv(a)>,\n",
       " <function StackGP.cos(a)>,\n",
       " <function StackGP.sin(a)>,\n",
       " <function StackGP.tan(a)>,\n",
       " <function StackGP.arccos(a)>,\n",
       " <function StackGP.arcsin(a)>,\n",
       " <function StackGP.arctan(a)>,\n",
       " <function StackGP.tanh(a)>,\n",
       " <function StackGP.log(a)>,\n",
       " 'pop',\n",
       " 'pop',\n",
       " 'pop',\n",
       " 'pop',\n",
       " 'pop',\n",
       " 'pop',\n",
       " 'pop',\n",
       " 'pop',\n",
       " 'pop',\n",
       " 'pop']"
      ]
     },
     "execution_count": 54,
     "metadata": {},
     "output_type": "execute_result"
    }
   ],
   "source": [
    "operators"
   ]
  },
  {
   "cell_type": "code",
   "execution_count": 55,
   "id": "b9cc5878",
   "metadata": {},
   "outputs": [
    {
     "data": {
      "text/plain": [
       "<function StackGP.sqrd(a)>"
      ]
     },
     "execution_count": 55,
     "metadata": {},
     "output_type": "execute_result"
    }
   ],
   "source": [
    "operators[5]"
   ]
  },
  {
   "cell_type": "code",
   "execution_count": 56,
   "id": "ccece19c",
   "metadata": {},
   "outputs": [],
   "source": [
    "model=[np.array([operators[5]]),[variableSelect(0)],[]]"
   ]
  },
  {
   "cell_type": "code",
   "execution_count": 57,
   "id": "9cfd82da",
   "metadata": {},
   "outputs": [
    {
     "data": {
      "text/plain": [
       "[array([<function sqrd at 0x000002381BB2CA40>], dtype=object),\n",
       " [<function StackGP.variableSelect.<locals>.<lambda>(variables)>],\n",
       " []]"
      ]
     },
     "execution_count": 57,
     "metadata": {},
     "output_type": "execute_result"
    }
   ],
   "source": [
    "model"
   ]
  },
  {
   "cell_type": "code",
   "execution_count": 58,
   "id": "7368e7d2",
   "metadata": {},
   "outputs": [
    {
     "data": {
      "text/plain": [
       "0.008113660102844098"
      ]
     },
     "execution_count": 58,
     "metadata": {},
     "output_type": "execute_result"
    }
   ],
   "source": [
    "totalSharpness(model,inputData,response,numPerturbations=600,percentPerturbation=0.2)"
   ]
  },
  {
   "cell_type": "code",
   "execution_count": 59,
   "id": "cf9e4b04",
   "metadata": {},
   "outputs": [
    {
     "data": {
      "text/plain": [
       "0.007885808683184298"
      ]
     },
     "execution_count": 59,
     "metadata": {},
     "output_type": "execute_result"
    }
   ],
   "source": [
    "totalSharpness(model,inputData,response,numPerturbations=750,percentPerturbation=0.2)"
   ]
  },
  {
   "cell_type": "code",
   "execution_count": 60,
   "id": "b8d40690",
   "metadata": {},
   "outputs": [
    {
     "data": {
      "text/plain": [
       "0.007938268640272559"
      ]
     },
     "execution_count": 60,
     "metadata": {},
     "output_type": "execute_result"
    }
   ],
   "source": [
    "totalSharpness(model,inputData,response,numPerturbations=900,percentPerturbation=0.2)"
   ]
  },
  {
   "cell_type": "code",
   "execution_count": 61,
   "id": "879af62e",
   "metadata": {},
   "outputs": [
    {
     "data": {
      "text/plain": [
       "0.0075783815278669744"
      ]
     },
     "execution_count": 61,
     "metadata": {},
     "output_type": "execute_result"
    }
   ],
   "source": [
    "totalSharpness(model,inputData,response,numPerturbations=2500,percentPerturbation=0.2)"
   ]
  },
  {
   "cell_type": "code",
   "execution_count": 62,
   "id": "df33bc8e",
   "metadata": {},
   "outputs": [
    {
     "data": {
      "text/plain": [
       "0.007709985994943756"
      ]
     },
     "execution_count": 62,
     "metadata": {},
     "output_type": "execute_result"
    }
   ],
   "source": [
    "totalSharpness(model,inputData,response,numPerturbations=5900,percentPerturbation=0.2)"
   ]
  },
  {
   "cell_type": "code",
   "execution_count": 63,
   "id": "9bfd073e",
   "metadata": {},
   "outputs": [
    {
     "data": {
      "text/plain": [
       "0.00780031679213767"
      ]
     },
     "execution_count": 63,
     "metadata": {},
     "output_type": "execute_result"
    }
   ],
   "source": [
    "totalSharpness(model,inputData,response,numPerturbations=6800,percentPerturbation=0.2)"
   ]
  },
  {
   "cell_type": "code",
   "execution_count": 64,
   "id": "d3106251",
   "metadata": {},
   "outputs": [
    {
     "data": {
      "text/plain": [
       "0.007755671253080379"
      ]
     },
     "execution_count": 64,
     "metadata": {},
     "output_type": "execute_result"
    }
   ],
   "source": [
    "totalSharpness(model,inputData,response,numPerturbations=8400,percentPerturbation=0.2)"
   ]
  },
  {
   "cell_type": "code",
   "execution_count": 212,
   "id": "e9f5132d",
   "metadata": {},
   "outputs": [
    {
     "data": {
      "image/png": "[encoded data removed]",
      "text/plain": [
       "<Figure size 1000x500 with 1 Axes>"
      ]
     },
     "metadata": {},
     "output_type": "display_data"
    }
   ],
   "source": [
    "import matplotlib.pyplot as plt \n",
    "\n",
    " \n",
    "# creating the dataset\n",
    "data = {'600':0.007552173,'750':0.00772583,'900':0.007863311,'2500':0.0076059,'5900':0.00766814,'6800':0.007803,'8400':0.0077069}\n",
    "courses = list(data.keys())\n",
    "values = list(data.values())\n",
    " \n",
    "fig = plt.figure(figsize = (10, 5))\n",
    "\n",
    "# creating the bar plot\n",
    "plt.bar(courses, values, color ='maroon', \n",
    "        width = 0.4)\n",
    "\n",
    "plt.xlabel(\"numberPerturbation\")\n",
    "plt.ylabel(\"Sharpness\")\n",
    "plt.title(\"Change in numPerturbation for Sqrd Function\")\n",
    "plt.yscale(\"log\")\n",
    "plt.show()"
   ]
  },
  {
   "cell_type": "code",
   "execution_count": 57,
   "id": "d4a5e931",
   "metadata": {},
   "outputs": [],
   "source": [
    "#Sqrt"
   ]
  },
  {
   "cell_type": "code",
   "execution_count": 66,
   "id": "f26cd86d",
   "metadata": {},
   "outputs": [],
   "source": [
    "from StackGP import *\n",
    "import numpy as np"
   ]
  },
  {
   "cell_type": "code",
   "execution_count": 67,
   "id": "e8c7fe44",
   "metadata": {},
   "outputs": [],
   "source": [
    "inputData=[[1,2,3,4,5,6,7,8,9,10]]\n",
    "response=inputData[0]"
   ]
  },
  {
   "cell_type": "code",
   "execution_count": 68,
   "id": "775d946d",
   "metadata": {},
   "outputs": [
    {
     "data": {
      "text/plain": [
       "[[1, 2, 3, 4, 5, 6, 7, 8, 9, 10]]"
      ]
     },
     "execution_count": 68,
     "metadata": {},
     "output_type": "execute_result"
    }
   ],
   "source": [
    "inputData"
   ]
  },
  {
   "cell_type": "code",
   "execution_count": 69,
   "id": "0839ae88",
   "metadata": {},
   "outputs": [
    {
     "data": {
      "text/plain": [
       "[1, 2, 3, 4, 5, 6, 7, 8, 9, 10]"
      ]
     },
     "execution_count": 69,
     "metadata": {},
     "output_type": "execute_result"
    }
   ],
   "source": [
    "response"
   ]
  },
  {
   "cell_type": "code",
   "execution_count": 70,
   "id": "6581f707",
   "metadata": {},
   "outputs": [],
   "source": [
    "operators=allOps()"
   ]
  },
  {
   "cell_type": "code",
   "execution_count": 71,
   "id": "471d5413",
   "metadata": {},
   "outputs": [
    {
     "data": {
      "text/plain": [
       "[<function StackGP.protectDiv(a, b)>,\n",
       " <function StackGP.add(a, b)>,\n",
       " <function StackGP.sub(a, b)>,\n",
       " <function StackGP.mult(a, b)>,\n",
       " <function StackGP.exp(a)>,\n",
       " <function StackGP.sqrd(a)>,\n",
       " <function StackGP.sqrt(a)>,\n",
       " <function StackGP.inv(a)>,\n",
       " <function StackGP.cos(a)>,\n",
       " <function StackGP.sin(a)>,\n",
       " <function StackGP.tan(a)>,\n",
       " <function StackGP.arccos(a)>,\n",
       " <function StackGP.arcsin(a)>,\n",
       " <function StackGP.arctan(a)>,\n",
       " <function StackGP.tanh(a)>,\n",
       " <function StackGP.log(a)>,\n",
       " 'pop',\n",
       " 'pop',\n",
       " 'pop',\n",
       " 'pop',\n",
       " 'pop',\n",
       " 'pop',\n",
       " 'pop',\n",
       " 'pop',\n",
       " 'pop',\n",
       " 'pop']"
      ]
     },
     "execution_count": 71,
     "metadata": {},
     "output_type": "execute_result"
    }
   ],
   "source": [
    "operators"
   ]
  },
  {
   "cell_type": "code",
   "execution_count": 72,
   "id": "ca0259ac",
   "metadata": {},
   "outputs": [
    {
     "data": {
      "text/plain": [
       "<function StackGP.sqrt(a)>"
      ]
     },
     "execution_count": 72,
     "metadata": {},
     "output_type": "execute_result"
    }
   ],
   "source": [
    "operators[6]"
   ]
  },
  {
   "cell_type": "code",
   "execution_count": 73,
   "id": "c70dca28",
   "metadata": {},
   "outputs": [],
   "source": [
    "model=[np.array([operators[6]]),[variableSelect(0)],[]]"
   ]
  },
  {
   "cell_type": "code",
   "execution_count": 74,
   "id": "6593afd6",
   "metadata": {},
   "outputs": [
    {
     "data": {
      "text/plain": [
       "[array([<function sqrt at 0x000002381BB2C9A0>], dtype=object),\n",
       " [<function StackGP.variableSelect.<locals>.<lambda>(variables)>],\n",
       " []]"
      ]
     },
     "execution_count": 74,
     "metadata": {},
     "output_type": "execute_result"
    }
   ],
   "source": [
    "model"
   ]
  },
  {
   "cell_type": "code",
   "execution_count": 75,
   "id": "8b9e438b",
   "metadata": {},
   "outputs": [
    {
     "data": {
      "text/plain": [
       "0.0038001354663735683"
      ]
     },
     "execution_count": 75,
     "metadata": {},
     "output_type": "execute_result"
    }
   ],
   "source": [
    "totalSharpness(model,inputData,response,numPerturbations=700,percentPerturbation=0.1)"
   ]
  },
  {
   "cell_type": "code",
   "execution_count": 76,
   "id": "8b566fb9",
   "metadata": {},
   "outputs": [
    {
     "data": {
      "text/plain": [
       "0.007576633603365167"
      ]
     },
     "execution_count": 76,
     "metadata": {},
     "output_type": "execute_result"
    }
   ],
   "source": [
    "totalSharpness(model,inputData,response,numPerturbations=950,percentPerturbation=0.2)"
   ]
  },
  {
   "cell_type": "code",
   "execution_count": 77,
   "id": "0e4e53fe",
   "metadata": {},
   "outputs": [
    {
     "data": {
      "text/plain": [
       "0.008073051620248333"
      ]
     },
     "execution_count": 77,
     "metadata": {},
     "output_type": "execute_result"
    }
   ],
   "source": [
    "totalSharpness(model,inputData,response,numPerturbations=1200,percentPerturbation=0.2)"
   ]
  },
  {
   "cell_type": "code",
   "execution_count": 78,
   "id": "c58fd12d",
   "metadata": {},
   "outputs": [
    {
     "data": {
      "text/plain": [
       "0.007688872386986859"
      ]
     },
     "execution_count": 78,
     "metadata": {},
     "output_type": "execute_result"
    }
   ],
   "source": [
    "totalSharpness(model,inputData,response,numPerturbations=3000,percentPerturbation=0.2)"
   ]
  },
  {
   "cell_type": "code",
   "execution_count": 79,
   "id": "6c0061d4",
   "metadata": {},
   "outputs": [
    {
     "data": {
      "text/plain": [
       "0.007772539102540691"
      ]
     },
     "execution_count": 79,
     "metadata": {},
     "output_type": "execute_result"
    }
   ],
   "source": [
    "totalSharpness(model,inputData,response,numPerturbations=5600,percentPerturbation=0.2)"
   ]
  },
  {
   "cell_type": "code",
   "execution_count": 80,
   "id": "7596951f",
   "metadata": {},
   "outputs": [
    {
     "data": {
      "text/plain": [
       "0.007753143187175638"
      ]
     },
     "execution_count": 80,
     "metadata": {},
     "output_type": "execute_result"
    }
   ],
   "source": [
    "totalSharpness(model,inputData,response,numPerturbations=7400,percentPerturbation=0.2)"
   ]
  },
  {
   "cell_type": "code",
   "execution_count": 81,
   "id": "73c21a6c",
   "metadata": {},
   "outputs": [
    {
     "data": {
      "text/plain": [
       "0.0077088220443317194"
      ]
     },
     "execution_count": 81,
     "metadata": {},
     "output_type": "execute_result"
    }
   ],
   "source": [
    "totalSharpness(model,inputData,response,numPerturbations=8000,percentPerturbation=0.2)"
   ]
  },
  {
   "cell_type": "code",
   "execution_count": 213,
   "id": "2dcca95a",
   "metadata": {},
   "outputs": [
    {
     "data": {
      "image/png": "[encoded data removed]",
      "text/plain": [
       "<Figure size 1000x500 with 1 Axes>"
      ]
     },
     "metadata": {},
     "output_type": "display_data"
    }
   ],
   "source": [
    "import matplotlib.pyplot as plt \n",
    "\n",
    " \n",
    "# creating the dataset\n",
    "data = {'700':0.00380013,'950':0.0075766,'1200':0.00807305,'3000':0.0076888,'5600':0.00777253,'7400':0.0077531,'8000':0.0077088220}\n",
    "courses = list(data.keys())\n",
    "values = list(data.values())\n",
    " \n",
    "fig = plt.figure(figsize = (10, 5))\n",
    "\n",
    "# creating the bar plot\n",
    "plt.bar(courses, values, color ='maroon', \n",
    "        width = 0.4)\n",
    "\n",
    "plt.xlabel(\"numberPerturbation\")\n",
    "plt.ylabel(\"Sharpness\")\n",
    "plt.title(\"Change in numPerturbation for Sqrt Function\")\n",
    "plt.yscale(\"log\")\n",
    "plt.show()"
   ]
  },
  {
   "cell_type": "code",
   "execution_count": 83,
   "id": "2832206c",
   "metadata": {},
   "outputs": [],
   "source": [
    "#Inv"
   ]
  },
  {
   "cell_type": "code",
   "execution_count": 84,
   "id": "a286a69f",
   "metadata": {},
   "outputs": [],
   "source": [
    "from StackGP import *\n",
    "import numpy as np"
   ]
  },
  {
   "cell_type": "code",
   "execution_count": 85,
   "id": "b8e30493",
   "metadata": {},
   "outputs": [],
   "source": [
    "inputData=[[1,2,3,4,5,6,7,8,9,10]]\n",
    "response=inputData[0]"
   ]
  },
  {
   "cell_type": "code",
   "execution_count": 86,
   "id": "6829ce93",
   "metadata": {},
   "outputs": [
    {
     "data": {
      "text/plain": [
       "[[1, 2, 3, 4, 5, 6, 7, 8, 9, 10]]"
      ]
     },
     "execution_count": 86,
     "metadata": {},
     "output_type": "execute_result"
    }
   ],
   "source": [
    "inputData"
   ]
  },
  {
   "cell_type": "code",
   "execution_count": 87,
   "id": "bc002807",
   "metadata": {},
   "outputs": [
    {
     "data": {
      "text/plain": [
       "[1, 2, 3, 4, 5, 6, 7, 8, 9, 10]"
      ]
     },
     "execution_count": 87,
     "metadata": {},
     "output_type": "execute_result"
    }
   ],
   "source": [
    "response"
   ]
  },
  {
   "cell_type": "code",
   "execution_count": 88,
   "id": "64ed3291",
   "metadata": {},
   "outputs": [],
   "source": [
    "operators=allOps()"
   ]
  },
  {
   "cell_type": "code",
   "execution_count": 89,
   "id": "9381764f",
   "metadata": {},
   "outputs": [
    {
     "data": {
      "text/plain": [
       "[<function StackGP.protectDiv(a, b)>,\n",
       " <function StackGP.add(a, b)>,\n",
       " <function StackGP.sub(a, b)>,\n",
       " <function StackGP.mult(a, b)>,\n",
       " <function StackGP.exp(a)>,\n",
       " <function StackGP.sqrd(a)>,\n",
       " <function StackGP.sqrt(a)>,\n",
       " <function StackGP.inv(a)>,\n",
       " <function StackGP.cos(a)>,\n",
       " <function StackGP.sin(a)>,\n",
       " <function StackGP.tan(a)>,\n",
       " <function StackGP.arccos(a)>,\n",
       " <function StackGP.arcsin(a)>,\n",
       " <function StackGP.arctan(a)>,\n",
       " <function StackGP.tanh(a)>,\n",
       " <function StackGP.log(a)>,\n",
       " 'pop',\n",
       " 'pop',\n",
       " 'pop',\n",
       " 'pop',\n",
       " 'pop',\n",
       " 'pop',\n",
       " 'pop',\n",
       " 'pop',\n",
       " 'pop',\n",
       " 'pop']"
      ]
     },
     "execution_count": 89,
     "metadata": {},
     "output_type": "execute_result"
    }
   ],
   "source": [
    "operators"
   ]
  },
  {
   "cell_type": "code",
   "execution_count": 90,
   "id": "c56fdefc",
   "metadata": {},
   "outputs": [
    {
     "data": {
      "text/plain": [
       "<function StackGP.inv(a)>"
      ]
     },
     "execution_count": 90,
     "metadata": {},
     "output_type": "execute_result"
    }
   ],
   "source": [
    "operators[7]"
   ]
  },
  {
   "cell_type": "code",
   "execution_count": 91,
   "id": "4e41fa38",
   "metadata": {},
   "outputs": [],
   "source": [
    "model=[np.array([operators[7]]),[variableSelect(0)],[]]"
   ]
  },
  {
   "cell_type": "code",
   "execution_count": 92,
   "id": "ffbe902a",
   "metadata": {},
   "outputs": [
    {
     "data": {
      "text/plain": [
       "[array([<function inv at 0x000002381BB2CAE0>], dtype=object),\n",
       " [<function StackGP.variableSelect.<locals>.<lambda>(variables)>],\n",
       " []]"
      ]
     },
     "execution_count": 92,
     "metadata": {},
     "output_type": "execute_result"
    }
   ],
   "source": [
    "model"
   ]
  },
  {
   "cell_type": "code",
   "execution_count": 94,
   "id": "1e3f553e",
   "metadata": {},
   "outputs": [
    {
     "data": {
      "text/plain": [
       "0.06324367727512353"
      ]
     },
     "execution_count": 94,
     "metadata": {},
     "output_type": "execute_result"
    }
   ],
   "source": [
    "totalSharpness(model,inputData,response,numPerturbations=800,percentPerturbation=0.2)"
   ]
  },
  {
   "cell_type": "code",
   "execution_count": 96,
   "id": "f370df00",
   "metadata": {},
   "outputs": [
    {
     "data": {
      "text/plain": [
       "0.0628581198669978"
      ]
     },
     "execution_count": 96,
     "metadata": {},
     "output_type": "execute_result"
    }
   ],
   "source": [
    "totalSharpness(model,inputData,response,numPerturbations=970,percentPerturbation=0.2)"
   ]
  },
  {
   "cell_type": "code",
   "execution_count": 97,
   "id": "31dc7365",
   "metadata": {},
   "outputs": [
    {
     "data": {
      "text/plain": [
       "0.06377706588053013"
      ]
     },
     "execution_count": 97,
     "metadata": {},
     "output_type": "execute_result"
    }
   ],
   "source": [
    "totalSharpness(model,inputData,response,numPerturbations=1500,percentPerturbation=0.2)"
   ]
  },
  {
   "cell_type": "code",
   "execution_count": 98,
   "id": "488e3384",
   "metadata": {},
   "outputs": [
    {
     "data": {
      "text/plain": [
       "0.0629775111250178"
      ]
     },
     "execution_count": 98,
     "metadata": {},
     "output_type": "execute_result"
    }
   ],
   "source": [
    "totalSharpness(model,inputData,response,numPerturbations=1600,percentPerturbation=0.2)"
   ]
  },
  {
   "cell_type": "code",
   "execution_count": 99,
   "id": "a214b180",
   "metadata": {},
   "outputs": [
    {
     "data": {
      "text/plain": [
       "0.06328256129113229"
      ]
     },
     "execution_count": 99,
     "metadata": {},
     "output_type": "execute_result"
    }
   ],
   "source": [
    "totalSharpness(model,inputData,response,numPerturbations=4800,percentPerturbation=0.2)"
   ]
  },
  {
   "cell_type": "code",
   "execution_count": 100,
   "id": "ca2cb20f",
   "metadata": {},
   "outputs": [
    {
     "data": {
      "text/plain": [
       "0.06290571494951666"
      ]
     },
     "execution_count": 100,
     "metadata": {},
     "output_type": "execute_result"
    }
   ],
   "source": [
    "totalSharpness(model,inputData,response,numPerturbations=6000,percentPerturbation=0.2)"
   ]
  },
  {
   "cell_type": "code",
   "execution_count": 101,
   "id": "849b10e9",
   "metadata": {},
   "outputs": [
    {
     "data": {
      "text/plain": [
       "0.06283342188498646"
      ]
     },
     "execution_count": 101,
     "metadata": {},
     "output_type": "execute_result"
    }
   ],
   "source": [
    "totalSharpness(model,inputData,response,numPerturbations=7200,percentPerturbation=0.2)"
   ]
  },
  {
   "cell_type": "code",
   "execution_count": 214,
   "id": "5173aada",
   "metadata": {},
   "outputs": [
    {
     "data": {
      "image/png": "[encoded data removed]",
      "text/plain": [
       "<Figure size 1000x500 with 1 Axes>"
      ]
     },
     "metadata": {},
     "output_type": "display_data"
    }
   ],
   "source": [
    "import matplotlib.pyplot as plt \n",
    "\n",
    " \n",
    "# creating the dataset\n",
    "data = {'800':0.0632436,'970':0.0628581,'1500':0.0637770,'1600':0.062977,'4800':0.0632825,'6000':0.0629057,'7200':0.0628334}\n",
    "courses = list(data.keys())\n",
    "values = list(data.values())\n",
    " \n",
    "fig = plt.figure(figsize = (10, 5))\n",
    "\n",
    "# creating the bar plot\n",
    "plt.bar(courses, values, color ='maroon', \n",
    "        width = 0.4)\n",
    "\n",
    "plt.xlabel(\"numberPerturbation\")\n",
    "plt.ylabel(\"Sharpness\")\n",
    "plt.title(\"Change in numPerturbation for Inv Function\")\n",
    "plt.yscale(\"log\")\n",
    "plt.show()"
   ]
  },
  {
   "cell_type": "code",
   "execution_count": 103,
   "id": "d40ebfdf",
   "metadata": {},
   "outputs": [],
   "source": [
    "#Cos"
   ]
  },
  {
   "cell_type": "code",
   "execution_count": 104,
   "id": "c4d7ccce",
   "metadata": {},
   "outputs": [],
   "source": [
    "from StackGP import *\n",
    "import numpy as np"
   ]
  },
  {
   "cell_type": "code",
   "execution_count": 105,
   "id": "64c07526",
   "metadata": {},
   "outputs": [],
   "source": [
    "inputData=[[1,2,3,4,5,6,7,8,9,10]]\n",
    "response=inputData[0]"
   ]
  },
  {
   "cell_type": "code",
   "execution_count": 106,
   "id": "eb69fc6a",
   "metadata": {},
   "outputs": [
    {
     "data": {
      "text/plain": [
       "[[1, 2, 3, 4, 5, 6, 7, 8, 9, 10]]"
      ]
     },
     "execution_count": 106,
     "metadata": {},
     "output_type": "execute_result"
    }
   ],
   "source": [
    "inputData"
   ]
  },
  {
   "cell_type": "code",
   "execution_count": 107,
   "id": "50c8dd1b",
   "metadata": {},
   "outputs": [
    {
     "data": {
      "text/plain": [
       "[1, 2, 3, 4, 5, 6, 7, 8, 9, 10]"
      ]
     },
     "execution_count": 107,
     "metadata": {},
     "output_type": "execute_result"
    }
   ],
   "source": [
    "response"
   ]
  },
  {
   "cell_type": "code",
   "execution_count": 108,
   "id": "a18d5015",
   "metadata": {},
   "outputs": [],
   "source": [
    "operators=allOps()"
   ]
  },
  {
   "cell_type": "code",
   "execution_count": 109,
   "id": "6362c766",
   "metadata": {},
   "outputs": [
    {
     "data": {
      "text/plain": [
       "[<function StackGP.protectDiv(a, b)>,\n",
       " <function StackGP.add(a, b)>,\n",
       " <function StackGP.sub(a, b)>,\n",
       " <function StackGP.mult(a, b)>,\n",
       " <function StackGP.exp(a)>,\n",
       " <function StackGP.sqrd(a)>,\n",
       " <function StackGP.sqrt(a)>,\n",
       " <function StackGP.inv(a)>,\n",
       " <function StackGP.cos(a)>,\n",
       " <function StackGP.sin(a)>,\n",
       " <function StackGP.tan(a)>,\n",
       " <function StackGP.arccos(a)>,\n",
       " <function StackGP.arcsin(a)>,\n",
       " <function StackGP.arctan(a)>,\n",
       " <function StackGP.tanh(a)>,\n",
       " <function StackGP.log(a)>,\n",
       " 'pop',\n",
       " 'pop',\n",
       " 'pop',\n",
       " 'pop',\n",
       " 'pop',\n",
       " 'pop',\n",
       " 'pop',\n",
       " 'pop',\n",
       " 'pop',\n",
       " 'pop']"
      ]
     },
     "execution_count": 109,
     "metadata": {},
     "output_type": "execute_result"
    }
   ],
   "source": [
    "operators"
   ]
  },
  {
   "cell_type": "code",
   "execution_count": 110,
   "id": "948cc2c4",
   "metadata": {},
   "outputs": [
    {
     "data": {
      "text/plain": [
       "<function StackGP.cos(a)>"
      ]
     },
     "execution_count": 110,
     "metadata": {},
     "output_type": "execute_result"
    }
   ],
   "source": [
    "operators[8]"
   ]
  },
  {
   "cell_type": "code",
   "execution_count": 111,
   "id": "73077b8e",
   "metadata": {},
   "outputs": [],
   "source": [
    "model=[np.array([operators[8]]),[variableSelect(0)],[]]"
   ]
  },
  {
   "cell_type": "code",
   "execution_count": 112,
   "id": "8a72d05b",
   "metadata": {},
   "outputs": [
    {
     "data": {
      "text/plain": [
       "[array([<function cos at 0x000002381BB2CC20>], dtype=object),\n",
       " [<function StackGP.variableSelect.<locals>.<lambda>(variables)>],\n",
       " []]"
      ]
     },
     "execution_count": 112,
     "metadata": {},
     "output_type": "execute_result"
    }
   ],
   "source": [
    "model"
   ]
  },
  {
   "cell_type": "code",
   "execution_count": 113,
   "id": "01708a13",
   "metadata": {},
   "outputs": [
    {
     "data": {
      "text/plain": [
       "0.01809861012109748"
      ]
     },
     "execution_count": 113,
     "metadata": {},
     "output_type": "execute_result"
    }
   ],
   "source": [
    "totalSharpness(model,inputData,response,numPerturbations=500,percentPerturbation=0.2)"
   ]
  },
  {
   "cell_type": "code",
   "execution_count": 114,
   "id": "a0bf1243",
   "metadata": {},
   "outputs": [
    {
     "data": {
      "text/plain": [
       "0.01725162975322591"
      ]
     },
     "execution_count": 114,
     "metadata": {},
     "output_type": "execute_result"
    }
   ],
   "source": [
    "totalSharpness(model,inputData,response,numPerturbations=940,percentPerturbation=0.2)"
   ]
  },
  {
   "cell_type": "code",
   "execution_count": 115,
   "id": "9b862084",
   "metadata": {},
   "outputs": [
    {
     "data": {
      "text/plain": [
       "0.017423367177520126"
      ]
     },
     "execution_count": 115,
     "metadata": {},
     "output_type": "execute_result"
    }
   ],
   "source": [
    "totalSharpness(model,inputData,response,numPerturbations=1000,percentPerturbation=0.2)"
   ]
  },
  {
   "cell_type": "code",
   "execution_count": 106,
   "id": "f1ca5eb3",
   "metadata": {},
   "outputs": [
    {
     "data": {
      "text/plain": [
       "0.015047708197376617"
      ]
     },
     "execution_count": 106,
     "metadata": {},
     "output_type": "execute_result"
    }
   ],
   "source": [
    "totalSharpness(model,inputData,response,numPerturbations=5000,percentPerturbation=0.2)"
   ]
  },
  {
   "cell_type": "code",
   "execution_count": 116,
   "id": "199a2c33",
   "metadata": {},
   "outputs": [
    {
     "data": {
      "text/plain": [
       "0.017624984411514718"
      ]
     },
     "execution_count": 116,
     "metadata": {},
     "output_type": "execute_result"
    }
   ],
   "source": [
    "totalSharpness(model,inputData,response,numPerturbations=6700,percentPerturbation=0.2)"
   ]
  },
  {
   "cell_type": "code",
   "execution_count": 117,
   "id": "1d409a8d",
   "metadata": {},
   "outputs": [
    {
     "data": {
      "text/plain": [
       "0.017340903799974838"
      ]
     },
     "execution_count": 117,
     "metadata": {},
     "output_type": "execute_result"
    }
   ],
   "source": [
    "totalSharpness(model,inputData,response,numPerturbations=8300,percentPerturbation=0.2)"
   ]
  },
  {
   "cell_type": "code",
   "execution_count": 118,
   "id": "978498a3",
   "metadata": {},
   "outputs": [
    {
     "data": {
      "text/plain": [
       "0.017708353787380938"
      ]
     },
     "execution_count": 118,
     "metadata": {},
     "output_type": "execute_result"
    }
   ],
   "source": [
    "totalSharpness(model,inputData,response,numPerturbations=9600,percentPerturbation=0.2)"
   ]
  },
  {
   "cell_type": "code",
   "execution_count": 215,
   "id": "dccb2596",
   "metadata": {},
   "outputs": [
    {
     "data": {
      "image/png": "[encoded data removed]",
      "text/plain": [
       "<Figure size 1000x500 with 1 Axes>"
      ]
     },
     "metadata": {},
     "output_type": "display_data"
    }
   ],
   "source": [
    "import matplotlib.pyplot as plt \n",
    "\n",
    " \n",
    "# creating the dataset\n",
    "data = {'500':0.018098,'940':0.0172516,'1000':0.01742336,'5000':0.015047708,'6700':0.01762498,'8300':0.0173409,'9600':0.017708}\n",
    "courses = list(data.keys())\n",
    "values = list(data.values())\n",
    " \n",
    "fig = plt.figure(figsize = (10, 5))\n",
    "\n",
    "# creating the bar plot\n",
    "plt.bar(courses, values, color ='maroon', \n",
    "        width = 0.4)\n",
    "\n",
    "plt.xlabel(\"numberPerturbation\")\n",
    "plt.ylabel(\"Sharpness\")\n",
    "plt.title(\"Change in numPerturbation for Cos Function\")\n",
    "plt.yscale(\"log\")\n",
    "plt.show()"
   ]
  },
  {
   "cell_type": "code",
   "execution_count": 120,
   "id": "b9af5ff8",
   "metadata": {},
   "outputs": [],
   "source": [
    "#Sin"
   ]
  },
  {
   "cell_type": "code",
   "execution_count": 121,
   "id": "de215de1",
   "metadata": {},
   "outputs": [],
   "source": [
    "from StackGP import *\n",
    "import numpy as np"
   ]
  },
  {
   "cell_type": "code",
   "execution_count": 122,
   "id": "4a58b67d",
   "metadata": {},
   "outputs": [],
   "source": [
    "inputData=[[1,2,3,4,5,6,7,8,9,10]]\n",
    "response=inputData[0]"
   ]
  },
  {
   "cell_type": "code",
   "execution_count": 123,
   "id": "c11aac81",
   "metadata": {},
   "outputs": [
    {
     "data": {
      "text/plain": [
       "[[1, 2, 3, 4, 5, 6, 7, 8, 9, 10]]"
      ]
     },
     "execution_count": 123,
     "metadata": {},
     "output_type": "execute_result"
    }
   ],
   "source": [
    "inputData"
   ]
  },
  {
   "cell_type": "code",
   "execution_count": 124,
   "id": "cf050a56",
   "metadata": {},
   "outputs": [
    {
     "data": {
      "text/plain": [
       "[1, 2, 3, 4, 5, 6, 7, 8, 9, 10]"
      ]
     },
     "execution_count": 124,
     "metadata": {},
     "output_type": "execute_result"
    }
   ],
   "source": [
    "response"
   ]
  },
  {
   "cell_type": "code",
   "execution_count": 125,
   "id": "121a4af6",
   "metadata": {},
   "outputs": [],
   "source": [
    "operators=allOps()"
   ]
  },
  {
   "cell_type": "code",
   "execution_count": 126,
   "id": "98e0f8ba",
   "metadata": {},
   "outputs": [
    {
     "data": {
      "text/plain": [
       "[<function StackGP.protectDiv(a, b)>,\n",
       " <function StackGP.add(a, b)>,\n",
       " <function StackGP.sub(a, b)>,\n",
       " <function StackGP.mult(a, b)>,\n",
       " <function StackGP.exp(a)>,\n",
       " <function StackGP.sqrd(a)>,\n",
       " <function StackGP.sqrt(a)>,\n",
       " <function StackGP.inv(a)>,\n",
       " <function StackGP.cos(a)>,\n",
       " <function StackGP.sin(a)>,\n",
       " <function StackGP.tan(a)>,\n",
       " <function StackGP.arccos(a)>,\n",
       " <function StackGP.arcsin(a)>,\n",
       " <function StackGP.arctan(a)>,\n",
       " <function StackGP.tanh(a)>,\n",
       " <function StackGP.log(a)>,\n",
       " 'pop',\n",
       " 'pop',\n",
       " 'pop',\n",
       " 'pop',\n",
       " 'pop',\n",
       " 'pop',\n",
       " 'pop',\n",
       " 'pop',\n",
       " 'pop',\n",
       " 'pop']"
      ]
     },
     "execution_count": 126,
     "metadata": {},
     "output_type": "execute_result"
    }
   ],
   "source": [
    "operators"
   ]
  },
  {
   "cell_type": "code",
   "execution_count": 127,
   "id": "73c0a378",
   "metadata": {},
   "outputs": [
    {
     "data": {
      "text/plain": [
       "<function StackGP.sin(a)>"
      ]
     },
     "execution_count": 127,
     "metadata": {},
     "output_type": "execute_result"
    }
   ],
   "source": [
    "operators[9]"
   ]
  },
  {
   "cell_type": "code",
   "execution_count": 128,
   "id": "09cd1d3d",
   "metadata": {},
   "outputs": [],
   "source": [
    "model=[np.array([operators[9]]),[variableSelect(0)],[]]"
   ]
  },
  {
   "cell_type": "code",
   "execution_count": 129,
   "id": "ab2ec493",
   "metadata": {},
   "outputs": [
    {
     "data": {
      "text/plain": [
       "[array([<function sin at 0x000002381BB2CB80>], dtype=object),\n",
       " [<function StackGP.variableSelect.<locals>.<lambda>(variables)>],\n",
       " []]"
      ]
     },
     "execution_count": 129,
     "metadata": {},
     "output_type": "execute_result"
    }
   ],
   "source": [
    "model"
   ]
  },
  {
   "cell_type": "code",
   "execution_count": 130,
   "id": "5a15dfa5",
   "metadata": {},
   "outputs": [
    {
     "data": {
      "text/plain": [
       "0.01786191206577023"
      ]
     },
     "execution_count": 130,
     "metadata": {},
     "output_type": "execute_result"
    }
   ],
   "source": [
    "totalSharpness(model,inputData,response,numPerturbations=240,percentPerturbation=0.2)"
   ]
  },
  {
   "cell_type": "code",
   "execution_count": 131,
   "id": "19afb6c1",
   "metadata": {},
   "outputs": [
    {
     "data": {
      "text/plain": [
       "0.01773491593294239"
      ]
     },
     "execution_count": 131,
     "metadata": {},
     "output_type": "execute_result"
    }
   ],
   "source": [
    "totalSharpness(model,inputData,response,numPerturbations=570,percentPerturbation=0.2)"
   ]
  },
  {
   "cell_type": "code",
   "execution_count": 132,
   "id": "a4d3a4e8",
   "metadata": {},
   "outputs": [
    {
     "data": {
      "text/plain": [
       "0.017521802200721442"
      ]
     },
     "execution_count": 132,
     "metadata": {},
     "output_type": "execute_result"
    }
   ],
   "source": [
    "totalSharpness(model,inputData,response,numPerturbations=890,percentPerturbation=0.2)"
   ]
  },
  {
   "cell_type": "code",
   "execution_count": 133,
   "id": "e2049fbd",
   "metadata": {},
   "outputs": [
    {
     "data": {
      "text/plain": [
       "0.017574999325675106"
      ]
     },
     "execution_count": 133,
     "metadata": {},
     "output_type": "execute_result"
    }
   ],
   "source": [
    "totalSharpness(model,inputData,response,numPerturbations=1800,percentPerturbation=0.2)"
   ]
  },
  {
   "cell_type": "code",
   "execution_count": 135,
   "id": "fc847cd1",
   "metadata": {},
   "outputs": [
    {
     "data": {
      "text/plain": [
       "0.017703241818647207"
      ]
     },
     "execution_count": 135,
     "metadata": {},
     "output_type": "execute_result"
    }
   ],
   "source": [
    "totalSharpness(model,inputData,response,numPerturbations=4000,percentPerturbation=0.2)"
   ]
  },
  {
   "cell_type": "code",
   "execution_count": 136,
   "id": "b28ee7ea",
   "metadata": {},
   "outputs": [
    {
     "data": {
      "text/plain": [
       "0.017797734023222458"
      ]
     },
     "execution_count": 136,
     "metadata": {},
     "output_type": "execute_result"
    }
   ],
   "source": [
    "totalSharpness(model,inputData,response,numPerturbations=6800,percentPerturbation=0.2)"
   ]
  },
  {
   "cell_type": "code",
   "execution_count": 137,
   "id": "2e374da4",
   "metadata": {},
   "outputs": [
    {
     "data": {
      "text/plain": [
       "0.01787986363027006"
      ]
     },
     "execution_count": 137,
     "metadata": {},
     "output_type": "execute_result"
    }
   ],
   "source": [
    "totalSharpness(model,inputData,response,numPerturbations=7200,percentPerturbation=0.2)"
   ]
  },
  {
   "cell_type": "code",
   "execution_count": 216,
   "id": "480d11b4",
   "metadata": {},
   "outputs": [
    {
     "data": {
      "image/png": "[encoded data removed]",
      "text/plain": [
       "<Figure size 1000x500 with 1 Axes>"
      ]
     },
     "metadata": {},
     "output_type": "display_data"
    }
   ],
   "source": [
    "import matplotlib.pyplot as plt \n",
    "\n",
    " \n",
    "# creating the dataset\n",
    "data = {'240':0.0178619,'570':0.0177349,'890':0.01752180,'1800':0.0175749,'4000':0.0177032,'6800':0.017797,'7200':0.0178798}\n",
    "courses = list(data.keys())\n",
    "values = list(data.values())\n",
    " \n",
    "fig = plt.figure(figsize = (10, 5))\n",
    "\n",
    "# creating the bar plot\n",
    "plt.bar(courses, values, color ='maroon', \n",
    "        width = 0.4)\n",
    "\n",
    "plt.xlabel(\"numberPerturbation\")\n",
    "plt.ylabel(\"Sharpness\")\n",
    "plt.title(\"Change in numPerturbation for Sin Function\")\n",
    "plt.yscale(\"log\")\n",
    "plt.show()"
   ]
  },
  {
   "cell_type": "code",
   "execution_count": 139,
   "id": "388a645c",
   "metadata": {},
   "outputs": [],
   "source": [
    "#Tan"
   ]
  },
  {
   "cell_type": "code",
   "execution_count": 140,
   "id": "c8e765bf",
   "metadata": {},
   "outputs": [],
   "source": [
    "from StackGP import *\n",
    "import numpy as np"
   ]
  },
  {
   "cell_type": "code",
   "execution_count": 141,
   "id": "a0b15cb6",
   "metadata": {},
   "outputs": [],
   "source": [
    "inputData=[[1,2,3,4,5,6,7,8,9,10]]\n",
    "response=inputData[0]"
   ]
  },
  {
   "cell_type": "code",
   "execution_count": 142,
   "id": "8ffb3764",
   "metadata": {},
   "outputs": [
    {
     "data": {
      "text/plain": [
       "[[1, 2, 3, 4, 5, 6, 7, 8, 9, 10]]"
      ]
     },
     "execution_count": 142,
     "metadata": {},
     "output_type": "execute_result"
    }
   ],
   "source": [
    "inputData"
   ]
  },
  {
   "cell_type": "code",
   "execution_count": 143,
   "id": "68e06ea0",
   "metadata": {},
   "outputs": [
    {
     "data": {
      "text/plain": [
       "[1, 2, 3, 4, 5, 6, 7, 8, 9, 10]"
      ]
     },
     "execution_count": 143,
     "metadata": {},
     "output_type": "execute_result"
    }
   ],
   "source": [
    "response"
   ]
  },
  {
   "cell_type": "code",
   "execution_count": 144,
   "id": "7edb07cd",
   "metadata": {},
   "outputs": [],
   "source": [
    "operators=allOps()"
   ]
  },
  {
   "cell_type": "code",
   "execution_count": 145,
   "id": "c3db6857",
   "metadata": {},
   "outputs": [
    {
     "data": {
      "text/plain": [
       "[<function StackGP.protectDiv(a, b)>,\n",
       " <function StackGP.add(a, b)>,\n",
       " <function StackGP.sub(a, b)>,\n",
       " <function StackGP.mult(a, b)>,\n",
       " <function StackGP.exp(a)>,\n",
       " <function StackGP.sqrd(a)>,\n",
       " <function StackGP.sqrt(a)>,\n",
       " <function StackGP.inv(a)>,\n",
       " <function StackGP.cos(a)>,\n",
       " <function StackGP.sin(a)>,\n",
       " <function StackGP.tan(a)>,\n",
       " <function StackGP.arccos(a)>,\n",
       " <function StackGP.arcsin(a)>,\n",
       " <function StackGP.arctan(a)>,\n",
       " <function StackGP.tanh(a)>,\n",
       " <function StackGP.log(a)>,\n",
       " 'pop',\n",
       " 'pop',\n",
       " 'pop',\n",
       " 'pop',\n",
       " 'pop',\n",
       " 'pop',\n",
       " 'pop',\n",
       " 'pop',\n",
       " 'pop',\n",
       " 'pop']"
      ]
     },
     "execution_count": 145,
     "metadata": {},
     "output_type": "execute_result"
    }
   ],
   "source": [
    "operators"
   ]
  },
  {
   "cell_type": "code",
   "execution_count": 146,
   "id": "4a572386",
   "metadata": {},
   "outputs": [
    {
     "data": {
      "text/plain": [
       "<function StackGP.tan(a)>"
      ]
     },
     "execution_count": 146,
     "metadata": {},
     "output_type": "execute_result"
    }
   ],
   "source": [
    "operators[10]"
   ]
  },
  {
   "cell_type": "code",
   "execution_count": 147,
   "id": "03fb49e6",
   "metadata": {},
   "outputs": [],
   "source": [
    "model=[np.array([operators[10]]),[variableSelect(0)],[]]"
   ]
  },
  {
   "cell_type": "code",
   "execution_count": 148,
   "id": "3d5c2f1e",
   "metadata": {},
   "outputs": [
    {
     "data": {
      "text/plain": [
       "[array([<function tan at 0x000002381BB2CCC0>], dtype=object),\n",
       " [<function StackGP.variableSelect.<locals>.<lambda>(variables)>],\n",
       " []]"
      ]
     },
     "execution_count": 148,
     "metadata": {},
     "output_type": "execute_result"
    }
   ],
   "source": [
    "model"
   ]
  },
  {
   "cell_type": "code",
   "execution_count": 149,
   "id": "b2155555",
   "metadata": {},
   "outputs": [
    {
     "data": {
      "text/plain": [
       "0.03678556943724446"
      ]
     },
     "execution_count": 149,
     "metadata": {},
     "output_type": "execute_result"
    }
   ],
   "source": [
    "totalSharpness(model,inputData,response,numPerturbations=600,percentPerturbation=0.2)"
   ]
  },
  {
   "cell_type": "code",
   "execution_count": 150,
   "id": "6d973a94",
   "metadata": {},
   "outputs": [
    {
     "data": {
      "text/plain": [
       "0.03637595471048597"
      ]
     },
     "execution_count": 150,
     "metadata": {},
     "output_type": "execute_result"
    }
   ],
   "source": [
    "totalSharpness(model,inputData,response,numPerturbations=870,percentPerturbation=0.2)"
   ]
  },
  {
   "cell_type": "code",
   "execution_count": 151,
   "id": "3dc2f53a",
   "metadata": {},
   "outputs": [
    {
     "data": {
      "text/plain": [
       "0.03617936857767484"
      ]
     },
     "execution_count": 151,
     "metadata": {},
     "output_type": "execute_result"
    }
   ],
   "source": [
    "totalSharpness(model,inputData,response,numPerturbations=980,percentPerturbation=0.2)"
   ]
  },
  {
   "cell_type": "code",
   "execution_count": 152,
   "id": "ca44b268",
   "metadata": {},
   "outputs": [
    {
     "data": {
      "text/plain": [
       "0.035794914455183915"
      ]
     },
     "execution_count": 152,
     "metadata": {},
     "output_type": "execute_result"
    }
   ],
   "source": [
    "totalSharpness(model,inputData,response,numPerturbations=1900,percentPerturbation=0.2)"
   ]
  },
  {
   "cell_type": "code",
   "execution_count": 153,
   "id": "c8557865",
   "metadata": {},
   "outputs": [
    {
     "data": {
      "text/plain": [
       "0.03682628964708996"
      ]
     },
     "execution_count": 153,
     "metadata": {},
     "output_type": "execute_result"
    }
   ],
   "source": [
    "totalSharpness(model,inputData,response,numPerturbations=5400,percentPerturbation=0.2)"
   ]
  },
  {
   "cell_type": "code",
   "execution_count": 154,
   "id": "14c5b175",
   "metadata": {},
   "outputs": [
    {
     "data": {
      "text/plain": [
       "0.03653109332970127"
      ]
     },
     "execution_count": 154,
     "metadata": {},
     "output_type": "execute_result"
    }
   ],
   "source": [
    "totalSharpness(model,inputData,response,numPerturbations=7100,percentPerturbation=0.2)"
   ]
  },
  {
   "cell_type": "code",
   "execution_count": 155,
   "id": "7e2bd966",
   "metadata": {},
   "outputs": [
    {
     "data": {
      "text/plain": [
       "0.036532238883711966"
      ]
     },
     "execution_count": 155,
     "metadata": {},
     "output_type": "execute_result"
    }
   ],
   "source": [
    "totalSharpness(model,inputData,response,numPerturbations=9400,percentPerturbation=0.2)"
   ]
  },
  {
   "cell_type": "code",
   "execution_count": 217,
   "id": "6249fb0d",
   "metadata": {},
   "outputs": [
    {
     "data": {
      "image/png": "[encoded data removed]",
      "text/plain": [
       "<Figure size 1000x500 with 1 Axes>"
      ]
     },
     "metadata": {},
     "output_type": "display_data"
    }
   ],
   "source": [
    "import matplotlib.pyplot as plt \n",
    "\n",
    " \n",
    "# creating the dataset\n",
    "data = {'600':0.0367855,'870':0.0363759,'980':0.036179,'1900':0.0357949,'5400':0.036826,'7100':0.036531,'9400':0.0365322}\n",
    "courses = list(data.keys())\n",
    "values = list(data.values())\n",
    " \n",
    "fig = plt.figure(figsize = (10, 5))\n",
    "\n",
    "# creating the bar plot\n",
    "plt.bar(courses, values, color ='maroon', \n",
    "        width = 0.4)\n",
    "\n",
    "plt.xlabel(\"numberPerturbation\")\n",
    "plt.ylabel(\"Sharpness\")\n",
    "plt.title(\"Change in numPerturbation for Tan Function\")\n",
    "plt.yscale(\"log\")\n",
    "plt.show()"
   ]
  },
  {
   "cell_type": "code",
   "execution_count": 157,
   "id": "ea5df7e8",
   "metadata": {},
   "outputs": [],
   "source": [
    "#arctan"
   ]
  },
  {
   "cell_type": "code",
   "execution_count": 158,
   "id": "8675296d",
   "metadata": {},
   "outputs": [],
   "source": [
    "from StackGP import *\n",
    "import numpy as np"
   ]
  },
  {
   "cell_type": "code",
   "execution_count": 159,
   "id": "5f032136",
   "metadata": {},
   "outputs": [],
   "source": [
    "inputData=[[1,2,3,4,5,6,7,8,9,10]]\n",
    "response=inputData[0]"
   ]
  },
  {
   "cell_type": "code",
   "execution_count": 160,
   "id": "2c3f5852",
   "metadata": {},
   "outputs": [
    {
     "data": {
      "text/plain": [
       "[[1, 2, 3, 4, 5, 6, 7, 8, 9, 10]]"
      ]
     },
     "execution_count": 160,
     "metadata": {},
     "output_type": "execute_result"
    }
   ],
   "source": [
    "inputData"
   ]
  },
  {
   "cell_type": "code",
   "execution_count": 161,
   "id": "f6d5353d",
   "metadata": {},
   "outputs": [
    {
     "data": {
      "text/plain": [
       "[1, 2, 3, 4, 5, 6, 7, 8, 9, 10]"
      ]
     },
     "execution_count": 161,
     "metadata": {},
     "output_type": "execute_result"
    }
   ],
   "source": [
    "response"
   ]
  },
  {
   "cell_type": "code",
   "execution_count": 162,
   "id": "745c409a",
   "metadata": {},
   "outputs": [],
   "source": [
    "operators=allOps()"
   ]
  },
  {
   "cell_type": "code",
   "execution_count": 163,
   "id": "8c4bb759",
   "metadata": {},
   "outputs": [
    {
     "data": {
      "text/plain": [
       "[<function StackGP.protectDiv(a, b)>,\n",
       " <function StackGP.add(a, b)>,\n",
       " <function StackGP.sub(a, b)>,\n",
       " <function StackGP.mult(a, b)>,\n",
       " <function StackGP.exp(a)>,\n",
       " <function StackGP.sqrd(a)>,\n",
       " <function StackGP.sqrt(a)>,\n",
       " <function StackGP.inv(a)>,\n",
       " <function StackGP.cos(a)>,\n",
       " <function StackGP.sin(a)>,\n",
       " <function StackGP.tan(a)>,\n",
       " <function StackGP.arccos(a)>,\n",
       " <function StackGP.arcsin(a)>,\n",
       " <function StackGP.arctan(a)>,\n",
       " <function StackGP.tanh(a)>,\n",
       " <function StackGP.log(a)>,\n",
       " 'pop',\n",
       " 'pop',\n",
       " 'pop',\n",
       " 'pop',\n",
       " 'pop',\n",
       " 'pop',\n",
       " 'pop',\n",
       " 'pop',\n",
       " 'pop',\n",
       " 'pop']"
      ]
     },
     "execution_count": 163,
     "metadata": {},
     "output_type": "execute_result"
    }
   ],
   "source": [
    "operators"
   ]
  },
  {
   "cell_type": "code",
   "execution_count": 164,
   "id": "c7689ee7",
   "metadata": {},
   "outputs": [
    {
     "data": {
      "text/plain": [
       "<function StackGP.arctan(a)>"
      ]
     },
     "execution_count": 164,
     "metadata": {},
     "output_type": "execute_result"
    }
   ],
   "source": [
    "operators[13]"
   ]
  },
  {
   "cell_type": "code",
   "execution_count": 165,
   "id": "3b66af32",
   "metadata": {},
   "outputs": [],
   "source": [
    "model=[np.array([operators[13]]),[variableSelect(0)],[]]"
   ]
  },
  {
   "cell_type": "code",
   "execution_count": 166,
   "id": "95e7ca4e",
   "metadata": {},
   "outputs": [
    {
     "data": {
      "text/plain": [
       "[array([<function arctan at 0x000002381BB2CEA0>], dtype=object),\n",
       " [<function StackGP.variableSelect.<locals>.<lambda>(variables)>],\n",
       " []]"
      ]
     },
     "execution_count": 166,
     "metadata": {},
     "output_type": "execute_result"
    }
   ],
   "source": [
    "model"
   ]
  },
  {
   "cell_type": "code",
   "execution_count": 167,
   "id": "b519da3e",
   "metadata": {},
   "outputs": [
    {
     "data": {
      "text/plain": [
       "0.042265720054089115"
      ]
     },
     "execution_count": 167,
     "metadata": {},
     "output_type": "execute_result"
    }
   ],
   "source": [
    "totalSharpness(model,inputData,response,numPerturbations=700,percentPerturbation=0.2)"
   ]
  },
  {
   "cell_type": "code",
   "execution_count": 168,
   "id": "ed2c24ae",
   "metadata": {},
   "outputs": [
    {
     "data": {
      "text/plain": [
       "0.04417333944191056"
      ]
     },
     "execution_count": 168,
     "metadata": {},
     "output_type": "execute_result"
    }
   ],
   "source": [
    "totalSharpness(model,inputData,response,numPerturbations=1400,percentPerturbation=0.2)"
   ]
  },
  {
   "cell_type": "code",
   "execution_count": 169,
   "id": "423d0616",
   "metadata": {},
   "outputs": [
    {
     "data": {
      "text/plain": [
       "0.043253989484621454"
      ]
     },
     "execution_count": 169,
     "metadata": {},
     "output_type": "execute_result"
    }
   ],
   "source": [
    "totalSharpness(model,inputData,response,numPerturbations=2700,percentPerturbation=0.2)"
   ]
  },
  {
   "cell_type": "code",
   "execution_count": 170,
   "id": "c5b83bc2",
   "metadata": {},
   "outputs": [
    {
     "data": {
      "text/plain": [
       "0.04407684820503637"
      ]
     },
     "execution_count": 170,
     "metadata": {},
     "output_type": "execute_result"
    }
   ],
   "source": [
    "totalSharpness(model,inputData,response,numPerturbations=5200,percentPerturbation=0.2)"
   ]
  },
  {
   "cell_type": "code",
   "execution_count": 171,
   "id": "40bd6de8",
   "metadata": {},
   "outputs": [
    {
     "data": {
      "text/plain": [
       "0.04346318517149886"
      ]
     },
     "execution_count": 171,
     "metadata": {},
     "output_type": "execute_result"
    }
   ],
   "source": [
    "totalSharpness(model,inputData,response,numPerturbations=7000,percentPerturbation=0.2)"
   ]
  },
  {
   "cell_type": "code",
   "execution_count": 172,
   "id": "ffa3cac3",
   "metadata": {},
   "outputs": [
    {
     "data": {
      "text/plain": [
       "0.04347378171033531"
      ]
     },
     "execution_count": 172,
     "metadata": {},
     "output_type": "execute_result"
    }
   ],
   "source": [
    "totalSharpness(model,inputData,response,numPerturbations=7500,percentPerturbation=0.2)"
   ]
  },
  {
   "cell_type": "code",
   "execution_count": 173,
   "id": "d50bbf1f",
   "metadata": {},
   "outputs": [
    {
     "data": {
      "text/plain": [
       "0.04379631291823241"
      ]
     },
     "execution_count": 173,
     "metadata": {},
     "output_type": "execute_result"
    }
   ],
   "source": [
    "totalSharpness(model,inputData,response,numPerturbations=9000,percentPerturbation=0.2)"
   ]
  },
  {
   "cell_type": "code",
   "execution_count": 218,
   "id": "e6205e44",
   "metadata": {},
   "outputs": [
    {
     "data": {
      "image/png": "[encoded data removed]",
      "text/plain": [
       "<Figure size 1000x500 with 1 Axes>"
      ]
     },
     "metadata": {},
     "output_type": "display_data"
    }
   ],
   "source": [
    "import matplotlib.pyplot as plt \n",
    "\n",
    " \n",
    "# creating the dataset\n",
    "data = {'700':0.0422657,'1400':0.0441733,'2700':0.043253,'5200':0.0440768,'7000':0.0434631,'7500':0.0434737,'9000':0.0437963}\n",
    "courses = list(data.keys())\n",
    "values = list(data.values())\n",
    " \n",
    "fig = plt.figure(figsize = (10, 5))\n",
    "\n",
    "# creating the bar plot\n",
    "plt.bar(courses, values, color ='maroon', \n",
    "        width = 0.4)\n",
    "\n",
    "plt.xlabel(\"numberPerturbation\")\n",
    "plt.ylabel(\"Sharpness\")\n",
    "plt.title(\"Change in numPerturbation for Arctan Function\")\n",
    "plt.yscale(\"log\")\n",
    "plt.show()"
   ]
  },
  {
   "cell_type": "code",
   "execution_count": 175,
   "id": "3d288435",
   "metadata": {},
   "outputs": [],
   "source": [
    "#Tanh"
   ]
  },
  {
   "cell_type": "code",
   "execution_count": 176,
   "id": "4c68915f",
   "metadata": {},
   "outputs": [],
   "source": [
    "from StackGP import *\n",
    "import numpy as np"
   ]
  },
  {
   "cell_type": "code",
   "execution_count": 177,
   "id": "3a77930f",
   "metadata": {},
   "outputs": [],
   "source": [
    "inputData=[[1,2,3,4,5,6,7,8,9,10]]\n",
    "response=inputData[0]"
   ]
  },
  {
   "cell_type": "code",
   "execution_count": 178,
   "id": "ea57a3ae",
   "metadata": {},
   "outputs": [
    {
     "data": {
      "text/plain": [
       "[[1, 2, 3, 4, 5, 6, 7, 8, 9, 10]]"
      ]
     },
     "execution_count": 178,
     "metadata": {},
     "output_type": "execute_result"
    }
   ],
   "source": [
    "inputData"
   ]
  },
  {
   "cell_type": "code",
   "execution_count": 179,
   "id": "5b1152f3",
   "metadata": {},
   "outputs": [
    {
     "data": {
      "text/plain": [
       "[1, 2, 3, 4, 5, 6, 7, 8, 9, 10]"
      ]
     },
     "execution_count": 179,
     "metadata": {},
     "output_type": "execute_result"
    }
   ],
   "source": [
    "response"
   ]
  },
  {
   "cell_type": "code",
   "execution_count": 180,
   "id": "c96edf0c",
   "metadata": {},
   "outputs": [],
   "source": [
    "operators=allOps()"
   ]
  },
  {
   "cell_type": "code",
   "execution_count": 181,
   "id": "6a9dcc3d",
   "metadata": {},
   "outputs": [
    {
     "data": {
      "text/plain": [
       "[<function StackGP.protectDiv(a, b)>,\n",
       " <function StackGP.add(a, b)>,\n",
       " <function StackGP.sub(a, b)>,\n",
       " <function StackGP.mult(a, b)>,\n",
       " <function StackGP.exp(a)>,\n",
       " <function StackGP.sqrd(a)>,\n",
       " <function StackGP.sqrt(a)>,\n",
       " <function StackGP.inv(a)>,\n",
       " <function StackGP.cos(a)>,\n",
       " <function StackGP.sin(a)>,\n",
       " <function StackGP.tan(a)>,\n",
       " <function StackGP.arccos(a)>,\n",
       " <function StackGP.arcsin(a)>,\n",
       " <function StackGP.arctan(a)>,\n",
       " <function StackGP.tanh(a)>,\n",
       " <function StackGP.log(a)>,\n",
       " 'pop',\n",
       " 'pop',\n",
       " 'pop',\n",
       " 'pop',\n",
       " 'pop',\n",
       " 'pop',\n",
       " 'pop',\n",
       " 'pop',\n",
       " 'pop',\n",
       " 'pop']"
      ]
     },
     "execution_count": 181,
     "metadata": {},
     "output_type": "execute_result"
    }
   ],
   "source": [
    "operators"
   ]
  },
  {
   "cell_type": "code",
   "execution_count": 182,
   "id": "e6957368",
   "metadata": {},
   "outputs": [
    {
     "data": {
      "text/plain": [
       "<function StackGP.tanh(a)>"
      ]
     },
     "execution_count": 182,
     "metadata": {},
     "output_type": "execute_result"
    }
   ],
   "source": [
    "operators[14]"
   ]
  },
  {
   "cell_type": "code",
   "execution_count": 183,
   "id": "624040a0",
   "metadata": {},
   "outputs": [],
   "source": [
    "model=[np.array([operators[14]]),[variableSelect(0)],[]]"
   ]
  },
  {
   "cell_type": "code",
   "execution_count": 184,
   "id": "11cbfcf2",
   "metadata": {},
   "outputs": [
    {
     "data": {
      "text/plain": [
       "[array([<function tanh at 0x000002381BB2CF40>], dtype=object),\n",
       " [<function StackGP.variableSelect.<locals>.<lambda>(variables)>],\n",
       " []]"
      ]
     },
     "execution_count": 184,
     "metadata": {},
     "output_type": "execute_result"
    }
   ],
   "source": [
    "model"
   ]
  },
  {
   "cell_type": "code",
   "execution_count": 185,
   "id": "18a0e83a",
   "metadata": {},
   "outputs": [
    {
     "data": {
      "text/plain": [
       "0.033359818987069696"
      ]
     },
     "execution_count": 185,
     "metadata": {},
     "output_type": "execute_result"
    }
   ],
   "source": [
    "totalSharpness(model,inputData,response,numPerturbations=700,percentPerturbation=0.2)"
   ]
  },
  {
   "cell_type": "code",
   "execution_count": 186,
   "id": "1832748e",
   "metadata": {},
   "outputs": [
    {
     "data": {
      "text/plain": [
       "0.03436693420728147"
      ]
     },
     "execution_count": 186,
     "metadata": {},
     "output_type": "execute_result"
    }
   ],
   "source": [
    "totalSharpness(model,inputData,response,numPerturbations=940,percentPerturbation=0.2)"
   ]
  },
  {
   "cell_type": "code",
   "execution_count": 187,
   "id": "f63177b1",
   "metadata": {},
   "outputs": [
    {
     "data": {
      "text/plain": [
       "0.0344742486573179"
      ]
     },
     "execution_count": 187,
     "metadata": {},
     "output_type": "execute_result"
    }
   ],
   "source": [
    "totalSharpness(model,inputData,response,numPerturbations=3000,percentPerturbation=0.2)"
   ]
  },
  {
   "cell_type": "code",
   "execution_count": 188,
   "id": "b60a2af9",
   "metadata": {},
   "outputs": [
    {
     "data": {
      "text/plain": [
       "0.03375448875338617"
      ]
     },
     "execution_count": 188,
     "metadata": {},
     "output_type": "execute_result"
    }
   ],
   "source": [
    "totalSharpness(model,inputData,response,numPerturbations=4600,percentPerturbation=0.2)"
   ]
  },
  {
   "cell_type": "code",
   "execution_count": 189,
   "id": "9cd51a6d",
   "metadata": {},
   "outputs": [
    {
     "data": {
      "text/plain": [
       "0.03432226588879468"
      ]
     },
     "execution_count": 189,
     "metadata": {},
     "output_type": "execute_result"
    }
   ],
   "source": [
    "totalSharpness(model,inputData,response,numPerturbations=5700,percentPerturbation=0.2)"
   ]
  },
  {
   "cell_type": "code",
   "execution_count": 190,
   "id": "ef289611",
   "metadata": {},
   "outputs": [
    {
     "data": {
      "text/plain": [
       "0.03406017363370611"
      ]
     },
     "execution_count": 190,
     "metadata": {},
     "output_type": "execute_result"
    }
   ],
   "source": [
    "totalSharpness(model,inputData,response,numPerturbations=7300,percentPerturbation=0.2)"
   ]
  },
  {
   "cell_type": "code",
   "execution_count": 191,
   "id": "372b436c",
   "metadata": {},
   "outputs": [
    {
     "data": {
      "text/plain": [
       "0.03498632610136615"
      ]
     },
     "execution_count": 191,
     "metadata": {},
     "output_type": "execute_result"
    }
   ],
   "source": [
    "totalSharpness(model,inputData,response,numPerturbations=8200,percentPerturbation=0.2)"
   ]
  },
  {
   "cell_type": "code",
   "execution_count": 219,
   "id": "2716321a",
   "metadata": {},
   "outputs": [
    {
     "data": {
      "image/png": "[encoded data removed]",
      "text/plain": [
       "<Figure size 1000x500 with 1 Axes>"
      ]
     },
     "metadata": {},
     "output_type": "display_data"
    }
   ],
   "source": [
    "import matplotlib.pyplot as plt \n",
    "\n",
    " \n",
    "# creating the dataset\n",
    "data = {'700':0.03335981,'940':0.0343669,'3000':0.034474,'4600':0.03375,'5700':0.0343222,'7300':0.034060,'8200':0.034986}\n",
    "courses = list(data.keys())\n",
    "values = list(data.values())\n",
    " \n",
    "fig = plt.figure(figsize = (10, 5))\n",
    "\n",
    "# creating the bar plot\n",
    "plt.bar(courses, values, color ='maroon', \n",
    "        width = 0.4)\n",
    "\n",
    "plt.xlabel(\"numberPerturbation\")\n",
    "plt.ylabel(\"Sharpness\")\n",
    "plt.title(\"Change in numPerturbation for Tanh Function\")\n",
    "plt.yscale(\"log\")\n",
    "plt.show()"
   ]
  },
  {
   "cell_type": "code",
   "execution_count": 193,
   "id": "e7e75ba8",
   "metadata": {},
   "outputs": [],
   "source": [
    "#Log"
   ]
  },
  {
   "cell_type": "code",
   "execution_count": 194,
   "id": "62bc72dc",
   "metadata": {},
   "outputs": [],
   "source": [
    "from StackGP import *\n",
    "import numpy as np"
   ]
  },
  {
   "cell_type": "code",
   "execution_count": 195,
   "id": "2b59cd45",
   "metadata": {},
   "outputs": [],
   "source": [
    "inputData=[[1,2,3,4,5,6,7,8,9,10]]\n",
    "response=inputData[0]"
   ]
  },
  {
   "cell_type": "code",
   "execution_count": 196,
   "id": "df952f1b",
   "metadata": {},
   "outputs": [
    {
     "data": {
      "text/plain": [
       "[[1, 2, 3, 4, 5, 6, 7, 8, 9, 10]]"
      ]
     },
     "execution_count": 196,
     "metadata": {},
     "output_type": "execute_result"
    }
   ],
   "source": [
    "inputData"
   ]
  },
  {
   "cell_type": "code",
   "execution_count": 197,
   "id": "16b4f098",
   "metadata": {},
   "outputs": [
    {
     "data": {
      "text/plain": [
       "[1, 2, 3, 4, 5, 6, 7, 8, 9, 10]"
      ]
     },
     "execution_count": 197,
     "metadata": {},
     "output_type": "execute_result"
    }
   ],
   "source": [
    "response"
   ]
  },
  {
   "cell_type": "code",
   "execution_count": 198,
   "id": "fae10188",
   "metadata": {},
   "outputs": [],
   "source": [
    "operators=allOps()"
   ]
  },
  {
   "cell_type": "code",
   "execution_count": 199,
   "id": "09e6ffe3",
   "metadata": {},
   "outputs": [
    {
     "data": {
      "text/plain": [
       "[<function StackGP.protectDiv(a, b)>,\n",
       " <function StackGP.add(a, b)>,\n",
       " <function StackGP.sub(a, b)>,\n",
       " <function StackGP.mult(a, b)>,\n",
       " <function StackGP.exp(a)>,\n",
       " <function StackGP.sqrd(a)>,\n",
       " <function StackGP.sqrt(a)>,\n",
       " <function StackGP.inv(a)>,\n",
       " <function StackGP.cos(a)>,\n",
       " <function StackGP.sin(a)>,\n",
       " <function StackGP.tan(a)>,\n",
       " <function StackGP.arccos(a)>,\n",
       " <function StackGP.arcsin(a)>,\n",
       " <function StackGP.arctan(a)>,\n",
       " <function StackGP.tanh(a)>,\n",
       " <function StackGP.log(a)>,\n",
       " 'pop',\n",
       " 'pop',\n",
       " 'pop',\n",
       " 'pop',\n",
       " 'pop',\n",
       " 'pop',\n",
       " 'pop',\n",
       " 'pop',\n",
       " 'pop',\n",
       " 'pop']"
      ]
     },
     "execution_count": 199,
     "metadata": {},
     "output_type": "execute_result"
    }
   ],
   "source": [
    "operators"
   ]
  },
  {
   "cell_type": "code",
   "execution_count": 200,
   "id": "f1d92942",
   "metadata": {},
   "outputs": [
    {
     "data": {
      "text/plain": [
       "<function StackGP.log(a)>"
      ]
     },
     "execution_count": 200,
     "metadata": {},
     "output_type": "execute_result"
    }
   ],
   "source": [
    "operators[15]"
   ]
  },
  {
   "cell_type": "code",
   "execution_count": 201,
   "id": "1ea8907b",
   "metadata": {},
   "outputs": [],
   "source": [
    "model=[np.array([operators[15]]),[variableSelect(0)],[]]"
   ]
  },
  {
   "cell_type": "code",
   "execution_count": 202,
   "id": "935ae004",
   "metadata": {},
   "outputs": [
    {
     "data": {
      "text/plain": [
       "[array([<function log at 0x000002381BB2CFE0>], dtype=object),\n",
       " [<function StackGP.variableSelect.<locals>.<lambda>(variables)>],\n",
       " []]"
      ]
     },
     "execution_count": 202,
     "metadata": {},
     "output_type": "execute_result"
    }
   ],
   "source": [
    "model"
   ]
  },
  {
   "cell_type": "code",
   "execution_count": 203,
   "id": "1baf2c7a",
   "metadata": {},
   "outputs": [
    {
     "data": {
      "text/plain": [
       "0.023847185182146225"
      ]
     },
     "execution_count": 203,
     "metadata": {},
     "output_type": "execute_result"
    }
   ],
   "source": [
    "totalSharpness(model,inputData,response,numPerturbations=1000,percentPerturbation=0.2)"
   ]
  },
  {
   "cell_type": "code",
   "execution_count": 204,
   "id": "8e62acf2",
   "metadata": {},
   "outputs": [
    {
     "data": {
      "text/plain": [
       "0.023852607711434444"
      ]
     },
     "execution_count": 204,
     "metadata": {},
     "output_type": "execute_result"
    }
   ],
   "source": [
    "totalSharpness(model,inputData,response,numPerturbations=3500,percentPerturbation=0.2)"
   ]
  },
  {
   "cell_type": "code",
   "execution_count": 205,
   "id": "496b3cb0",
   "metadata": {},
   "outputs": [
    {
     "data": {
      "text/plain": [
       "0.024248993442428965"
      ]
     },
     "execution_count": 205,
     "metadata": {},
     "output_type": "execute_result"
    }
   ],
   "source": [
    "totalSharpness(model,inputData,response,numPerturbations=4700,percentPerturbation=0.2)"
   ]
  },
  {
   "cell_type": "code",
   "execution_count": 206,
   "id": "853cd634",
   "metadata": {},
   "outputs": [
    {
     "data": {
      "text/plain": [
       "0.02422019983498328"
      ]
     },
     "execution_count": 206,
     "metadata": {},
     "output_type": "execute_result"
    }
   ],
   "source": [
    "totalSharpness(model,inputData,response,numPerturbations=5900,percentPerturbation=0.2)"
   ]
  },
  {
   "cell_type": "code",
   "execution_count": 207,
   "id": "727c08c2",
   "metadata": {},
   "outputs": [
    {
     "data": {
      "text/plain": [
       "0.024356446112660652"
      ]
     },
     "execution_count": 207,
     "metadata": {},
     "output_type": "execute_result"
    }
   ],
   "source": [
    "totalSharpness(model,inputData,response,numPerturbations=6000,percentPerturbation=0.2)"
   ]
  },
  {
   "cell_type": "code",
   "execution_count": 208,
   "id": "a7c8c82c",
   "metadata": {},
   "outputs": [
    {
     "data": {
      "text/plain": [
       "0.02400837870203707"
      ]
     },
     "execution_count": 208,
     "metadata": {},
     "output_type": "execute_result"
    }
   ],
   "source": [
    "totalSharpness(model,inputData,response,numPerturbations=8300,percentPerturbation=0.2)"
   ]
  },
  {
   "cell_type": "code",
   "execution_count": 209,
   "id": "2e287fd2",
   "metadata": {},
   "outputs": [
    {
     "data": {
      "text/plain": [
       "0.023974822387261483"
      ]
     },
     "execution_count": 209,
     "metadata": {},
     "output_type": "execute_result"
    }
   ],
   "source": [
    "totalSharpness(model,inputData,response,numPerturbations=9100,percentPerturbation=0.2)"
   ]
  },
  {
   "cell_type": "code",
   "execution_count": 220,
   "id": "0f8652cb",
   "metadata": {},
   "outputs": [
    {
     "data": {
      "image/png": "[encoded data removed]",
      "text/plain": [
       "<Figure size 1000x500 with 1 Axes>"
      ]
     },
     "metadata": {},
     "output_type": "display_data"
    }
   ],
   "source": [
    "import matplotlib.pyplot as plt \n",
    "\n",
    " \n",
    "# creating the dataset\n",
    "data = {'1000':0.0238471,'3500':0.023852,'4700':0.0242489,'5900':0.0242201,'6000':0.024356,'8300':0.024008,'9100':0.02397482}\n",
    "courses = list(data.keys())\n",
    "values = list(data.values())\n",
    " \n",
    "fig = plt.figure(figsize = (10, 5))\n",
    "\n",
    "# creating the bar plot\n",
    "plt.bar(courses, values, color ='maroon', \n",
    "        width = 0.4)\n",
    "\n",
    "plt.xlabel(\"numberPerturbation\")\n",
    "plt.ylabel(\"Sharpness\")\n",
    "plt.title(\"Change in numPerturbation for Log Function\")\n",
    "plt.yscale(\"log\")\n",
    "plt.show()"
   ]
  },
  {
   "cell_type": "code",
   "execution_count": 221,
   "id": "7439ce26",
   "metadata": {},
   "outputs": [],
   "source": [
    "from StackGP import *\n",
    "import numpy as np"
   ]
  },
  {
   "cell_type": "code",
   "execution_count": 222,
   "id": "859e7fed",
   "metadata": {},
   "outputs": [],
   "source": [
    "inputData=[[1,2,3,4,5,6,7,8,9,10]]\n",
    "response=inputData[0]"
   ]
  },
  {
   "cell_type": "code",
   "execution_count": 223,
   "id": "c2b560c5",
   "metadata": {},
   "outputs": [
    {
     "data": {
      "text/plain": [
       "[[1, 2, 3, 4, 5, 6, 7, 8, 9, 10]]"
      ]
     },
     "execution_count": 223,
     "metadata": {},
     "output_type": "execute_result"
    }
   ],
   "source": [
    "inputData"
   ]
  },
  {
   "cell_type": "code",
   "execution_count": 224,
   "id": "f68f8e58",
   "metadata": {},
   "outputs": [
    {
     "data": {
      "text/plain": [
       "[1, 2, 3, 4, 5, 6, 7, 8, 9, 10]"
      ]
     },
     "execution_count": 224,
     "metadata": {},
     "output_type": "execute_result"
    }
   ],
   "source": [
    "response"
   ]
  },
  {
   "cell_type": "code",
   "execution_count": 225,
   "id": "30afdca0",
   "metadata": {},
   "outputs": [],
   "source": [
    "operators=allOps()"
   ]
  },
  {
   "cell_type": "code",
   "execution_count": 226,
   "id": "d1c5405b",
   "metadata": {},
   "outputs": [
    {
     "data": {
      "text/plain": [
       "[<function StackGP.protectDiv(a, b)>,\n",
       " <function StackGP.add(a, b)>,\n",
       " <function StackGP.sub(a, b)>,\n",
       " <function StackGP.mult(a, b)>,\n",
       " <function StackGP.exp(a)>,\n",
       " <function StackGP.sqrd(a)>,\n",
       " <function StackGP.sqrt(a)>,\n",
       " <function StackGP.inv(a)>,\n",
       " <function StackGP.cos(a)>,\n",
       " <function StackGP.sin(a)>,\n",
       " <function StackGP.tan(a)>,\n",
       " <function StackGP.arccos(a)>,\n",
       " <function StackGP.arcsin(a)>,\n",
       " <function StackGP.arctan(a)>,\n",
       " <function StackGP.tanh(a)>,\n",
       " <function StackGP.log(a)>,\n",
       " 'pop',\n",
       " 'pop',\n",
       " 'pop',\n",
       " 'pop',\n",
       " 'pop',\n",
       " 'pop',\n",
       " 'pop',\n",
       " 'pop',\n",
       " 'pop',\n",
       " 'pop']"
      ]
     },
     "execution_count": 226,
     "metadata": {},
     "output_type": "execute_result"
    }
   ],
   "source": [
    "operators"
   ]
  },
  {
   "cell_type": "code",
   "execution_count": 227,
   "id": "7026889f",
   "metadata": {},
   "outputs": [
    {
     "data": {
      "text/plain": [
       "<function StackGP.exp(a)>"
      ]
     },
     "execution_count": 227,
     "metadata": {},
     "output_type": "execute_result"
    }
   ],
   "source": [
    "operators[4]"
   ]
  },
  {
   "cell_type": "code",
   "execution_count": 228,
   "id": "c1b7b18a",
   "metadata": {},
   "outputs": [],
   "source": [
    "model=[np.array([operators[4]]),[variableSelect(0)],[]]"
   ]
  },
  {
   "cell_type": "code",
   "execution_count": 229,
   "id": "57a8c08f",
   "metadata": {},
   "outputs": [
    {
     "data": {
      "text/plain": [
       "[array([<function exp at 0x000002381BB2C860>], dtype=object),\n",
       " [<function StackGP.variableSelect.<locals>.<lambda>(variables)>],\n",
       " []]"
      ]
     },
     "execution_count": 229,
     "metadata": {},
     "output_type": "execute_result"
    }
   ],
   "source": [
    "model"
   ]
  },
  {
   "cell_type": "code",
   "execution_count": 231,
   "id": "5f9cab55",
   "metadata": {},
   "outputs": [
    {
     "data": {
      "text/plain": [
       "0.02328236384685424"
      ]
     },
     "execution_count": 231,
     "metadata": {},
     "output_type": "execute_result"
    }
   ],
   "source": [
    "totalSharpness(model,inputData,response,numPerturbations=5,percentPerturbation=0.2)"
   ]
  },
  {
   "cell_type": "code",
   "execution_count": 232,
   "id": "96d9a2e5",
   "metadata": {},
   "outputs": [
    {
     "data": {
      "text/plain": [
       "0.043599697721768124"
      ]
     },
     "execution_count": 232,
     "metadata": {},
     "output_type": "execute_result"
    }
   ],
   "source": [
    "totalSharpness(model,inputData,response,numPerturbations=10,percentPerturbation=0.2)"
   ]
  },
  {
   "cell_type": "code",
   "execution_count": 233,
   "id": "30d889f5",
   "metadata": {},
   "outputs": [
    {
     "data": {
      "text/plain": [
       "0.0388916361227938"
      ]
     },
     "execution_count": 233,
     "metadata": {},
     "output_type": "execute_result"
    }
   ],
   "source": [
    "totalSharpness(model,inputData,response,numPerturbations=50,percentPerturbation=0.2)"
   ]
  },
  {
   "cell_type": "code",
   "execution_count": 234,
   "id": "d7106a8e",
   "metadata": {},
   "outputs": [
    {
     "data": {
      "text/plain": [
       "0.04165469872921747"
      ]
     },
     "execution_count": 234,
     "metadata": {},
     "output_type": "execute_result"
    }
   ],
   "source": [
    "totalSharpness(model,inputData,response,numPerturbations=100,percentPerturbation=0.2)"
   ]
  },
  {
   "cell_type": "code",
   "execution_count": 235,
   "id": "b3745521",
   "metadata": {},
   "outputs": [
    {
     "data": {
      "image/png": "[encoded data removed]",
      "text/plain": [
       "<Figure size 1000x500 with 1 Axes>"
      ]
     },
     "metadata": {},
     "output_type": "display_data"
    }
   ],
   "source": [
    "import matplotlib.pyplot as plt \n",
    "\n",
    " \n",
    "# creating the dataset\n",
    "data = {'5':0.0232823,'10':0.04359969,'50':0.03889163,'100':0.0416546987}\n",
    "courses = list(data.keys())\n",
    "values = list(data.values())\n",
    " \n",
    "fig = plt.figure(figsize = (10, 5))\n",
    "\n",
    "# creating the bar plot\n",
    "plt.bar(courses, values, color ='maroon', \n",
    "        width = 0.4)\n",
    "\n",
    "plt.xlabel(\"numberPerturbation\")\n",
    "plt.ylabel(\"Sharpness\")\n",
    "plt.title(\"Change in numPerturbation for Exp Function\")\n",
    "plt.yscale(\"log\")\n",
    "plt.show()"
   ]
  },
  {
   "cell_type": "code",
   "execution_count": null,
   "id": "47ea9cec",
   "metadata": {},
   "outputs": [],
   "source": []
  }
 ],
 "metadata": {
  "kernelspec": {
   "display_name": "Python 3 (ipykernel)",
   "language": "python",
   "name": "python3"
  },
  "language_info": {
   "codemirror_mode": {
    "name": "ipython",
    "version": 3
   },
   "file_extension": ".py",
   "mimetype": "text/x-python",
   "name": "python",
   "nbconvert_exporter": "python",
   "pygments_lexer": "ipython3",
   "version": "3.11.3"
  }
 },
 "nbformat": 4,
 "nbformat_minor": 5
}
