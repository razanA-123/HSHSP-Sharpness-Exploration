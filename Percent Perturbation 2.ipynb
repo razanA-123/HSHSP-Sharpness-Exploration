{
 "cells": [
  {
   "cell_type": "code",
   "execution_count": 13,
   "id": "c5e54b8c",
   "metadata": {},
   "outputs": [],
   "source": [
    "from StackGP import *\n",
    "import numpy as np"
   ]
  },
  {
   "cell_type": "code",
   "execution_count": 14,
   "id": "c748d4c7",
   "metadata": {},
   "outputs": [],
   "source": [
    "inputData=[[1,2,3,4,5,6,7,8,9,10]]\n",
    "response=inputData[0]"
   ]
  },
  {
   "cell_type": "code",
   "execution_count": 15,
   "id": "d48710ef",
   "metadata": {},
   "outputs": [
    {
     "data": {
      "text/plain": [
       "[[1, 2, 3, 4, 5, 6, 7, 8, 9, 10]]"
      ]
     },
     "execution_count": 15,
     "metadata": {},
     "output_type": "execute_result"
    }
   ],
   "source": [
    "inputData"
   ]
  },
  {
   "cell_type": "code",
   "execution_count": 16,
   "id": "686b0b58",
   "metadata": {},
   "outputs": [
    {
     "data": {
      "text/plain": [
       "[1, 2, 3, 4, 5, 6, 7, 8, 9, 10]"
      ]
     },
     "execution_count": 16,
     "metadata": {},
     "output_type": "execute_result"
    }
   ],
   "source": [
    "response"
   ]
  },
  {
   "cell_type": "code",
   "execution_count": 17,
   "id": "1ec49391",
   "metadata": {},
   "outputs": [],
   "source": [
    "operators=allOps()"
   ]
  },
  {
   "cell_type": "code",
   "execution_count": 18,
   "id": "6042d029",
   "metadata": {},
   "outputs": [
    {
     "data": {
      "text/plain": [
       "[<function StackGP.protectDiv(a, b)>,\n",
       " <function StackGP.add(a, b)>,\n",
       " <function StackGP.sub(a, b)>,\n",
       " <function StackGP.mult(a, b)>,\n",
       " <function StackGP.exp(a)>,\n",
       " <function StackGP.sqrd(a)>,\n",
       " <function StackGP.sqrt(a)>,\n",
       " <function StackGP.inv(a)>,\n",
       " <function StackGP.cos(a)>,\n",
       " <function StackGP.sin(a)>,\n",
       " <function StackGP.tan(a)>,\n",
       " <function StackGP.arccos(a)>,\n",
       " <function StackGP.arcsin(a)>,\n",
       " <function StackGP.arctan(a)>,\n",
       " <function StackGP.tanh(a)>,\n",
       " <function StackGP.log(a)>,\n",
       " 'pop',\n",
       " 'pop',\n",
       " 'pop',\n",
       " 'pop',\n",
       " 'pop',\n",
       " 'pop',\n",
       " 'pop',\n",
       " 'pop',\n",
       " 'pop',\n",
       " 'pop']"
      ]
     },
     "execution_count": 18,
     "metadata": {},
     "output_type": "execute_result"
    }
   ],
   "source": [
    "operators"
   ]
  },
  {
   "cell_type": "code",
   "execution_count": 19,
   "id": "da5a44ca",
   "metadata": {},
   "outputs": [
    {
     "data": {
      "text/plain": [
       "<function StackGP.exp(a)>"
      ]
     },
     "execution_count": 19,
     "metadata": {},
     "output_type": "execute_result"
    }
   ],
   "source": [
    "operators[4]"
   ]
  },
  {
   "cell_type": "code",
   "execution_count": 20,
   "id": "d03c9993",
   "metadata": {},
   "outputs": [],
   "source": [
    "model=[np.array([operators[4]]),[variableSelect(0)],[]]"
   ]
  },
  {
   "cell_type": "code",
   "execution_count": 21,
   "id": "ddac32f0",
   "metadata": {},
   "outputs": [
    {
     "data": {
      "text/plain": [
       "[array([<function exp at 0x0000021768EDC860>], dtype=object),\n",
       " [<function StackGP.variableSelect.<locals>.<lambda>(variables)>],\n",
       " []]"
      ]
     },
     "execution_count": 21,
     "metadata": {},
     "output_type": "execute_result"
    }
   ],
   "source": [
    "model"
   ]
  },
  {
   "cell_type": "code",
   "execution_count": 22,
   "id": "d5472d59",
   "metadata": {},
   "outputs": [
    {
     "data": {
      "text/plain": [
       "0.03975510482147817"
      ]
     },
     "execution_count": 22,
     "metadata": {},
     "output_type": "execute_result"
    }
   ],
   "source": [
    "totalSharpness(model,inputData,response,numPerturbations=1000,percentPerturbation=0.2)"
   ]
  },
  {
   "cell_type": "code",
   "execution_count": 23,
   "id": "5c479fb8",
   "metadata": {},
   "outputs": [],
   "source": [
    "#Define exponent function to generate data\n",
    "def expFunc(x0):\n",
    "    return np.exp(x0)"
   ]
  },
  {
   "cell_type": "code",
   "execution_count": 25,
   "id": "0e2ea5ed",
   "metadata": {},
   "outputs": [
    {
     "data": {
      "text/plain": [
       "[[1, 2, 3, 4, 5, 6, 7, 8, 9, 10]]"
      ]
     },
     "execution_count": 25,
     "metadata": {},
     "output_type": "execute_result"
    }
   ],
   "source": [
    "inputData"
   ]
  },
  {
   "cell_type": "code",
   "execution_count": 26,
   "id": "6be9c35c",
   "metadata": {},
   "outputs": [],
   "source": [
    "response=expFunc(inputData[0])"
   ]
  },
  {
   "cell_type": "code",
   "execution_count": 27,
   "id": "f20dbd8c",
   "metadata": {},
   "outputs": [],
   "source": [
    "expModel=[np.array([operators[4]]),[variableSelect(0)],[]]"
   ]
  },
  {
   "cell_type": "code",
   "execution_count": 28,
   "id": "33c70814",
   "metadata": {},
   "outputs": [
    {
     "data": {
      "text/plain": [
       "[array([<function exp at 0x0000021768EDC860>], dtype=object),\n",
       " [<function StackGP.variableSelect.<locals>.<lambda>(variables)>],\n",
       " []]"
      ]
     },
     "execution_count": 28,
     "metadata": {},
     "output_type": "execute_result"
    }
   ],
   "source": [
    "expModel"
   ]
  },
  {
   "cell_type": "code",
   "execution_count": 29,
   "id": "73719dbb",
   "metadata": {},
   "outputs": [
    {
     "data": {
      "text/plain": [
       "0.21900311756242344"
      ]
     },
     "execution_count": 29,
     "metadata": {},
     "output_type": "execute_result"
    }
   ],
   "source": [
    "totalSharpness(model,inputData,response,numPerturbations=5000,percentPerturbation=1)"
   ]
  },
  {
   "cell_type": "code",
   "execution_count": 30,
   "id": "308fbd7b",
   "metadata": {},
   "outputs": [
    {
     "data": {
      "text/plain": [
       "0.17871105895206443"
      ]
     },
     "execution_count": 30,
     "metadata": {},
     "output_type": "execute_result"
    }
   ],
   "source": [
    "totalSharpness(model,inputData,response,numPerturbations=5000,percentPerturbation=0.85)"
   ]
  },
  {
   "cell_type": "code",
   "execution_count": 31,
   "id": "4020f6ce",
   "metadata": {},
   "outputs": [
    {
     "data": {
      "text/plain": [
       "0.10974782090516633"
      ]
     },
     "execution_count": 31,
     "metadata": {},
     "output_type": "execute_result"
    }
   ],
   "source": [
    "totalSharpness(model,inputData,response,numPerturbations=5000,percentPerturbation=0.64)"
   ]
  },
  {
   "cell_type": "code",
   "execution_count": 32,
   "id": "b9825e91",
   "metadata": {},
   "outputs": [
    {
     "data": {
      "text/plain": [
       "0.04880766022698244"
      ]
     },
     "execution_count": 32,
     "metadata": {},
     "output_type": "execute_result"
    }
   ],
   "source": [
    "totalSharpness(model,inputData,response,numPerturbations=5000,percentPerturbation=0.42)"
   ]
  },
  {
   "cell_type": "code",
   "execution_count": 33,
   "id": "9de1a9d7",
   "metadata": {},
   "outputs": [
    {
     "data": {
      "text/plain": [
       "0.014426657541980033"
      ]
     },
     "execution_count": 33,
     "metadata": {},
     "output_type": "execute_result"
    }
   ],
   "source": [
    "totalSharpness(model,inputData,response,numPerturbations=5000,percentPerturbation=0.25)"
   ]
  },
  {
   "cell_type": "code",
   "execution_count": 34,
   "id": "cbc43e98",
   "metadata": {},
   "outputs": [
    {
     "data": {
      "text/plain": [
       "0.0030992770412282917"
      ]
     },
     "execution_count": 34,
     "metadata": {},
     "output_type": "execute_result"
    }
   ],
   "source": [
    "totalSharpness(model,inputData,response,numPerturbations=5000,percentPerturbation=0.12)"
   ]
  },
  {
   "cell_type": "code",
   "execution_count": 35,
   "id": "900d8b72",
   "metadata": {},
   "outputs": [
    {
     "data": {
      "text/plain": [
       "0.0004967959539300414"
      ]
     },
     "execution_count": 35,
     "metadata": {},
     "output_type": "execute_result"
    }
   ],
   "source": [
    "totalSharpness(model,inputData,response,numPerturbations=5000,percentPerturbation=0.05)"
   ]
  },
  {
   "cell_type": "code",
   "execution_count": 36,
   "id": "bea497bd",
   "metadata": {},
   "outputs": [
    {
     "data": {
      "text/plain": [
       "1.278434236042831e-06"
      ]
     },
     "execution_count": 36,
     "metadata": {},
     "output_type": "execute_result"
    }
   ],
   "source": [
    "totalSharpness(model,inputData,response,numPerturbations=5000,percentPerturbation=0.0025)"
   ]
  },
  {
   "cell_type": "code",
   "execution_count": 55,
   "id": "20e0f2aa",
   "metadata": {},
   "outputs": [
    {
     "data": {
      "image/png": "[encoded data removed]",
      "text/plain": [
       "<Figure size 1000x500 with 1 Axes>"
      ]
     },
     "metadata": {},
     "output_type": "display_data"
    }
   ],
   "source": [
    "import matplotlib.pyplot as plt \n",
    "\n",
    " \n",
    "# creating the dataset\n",
    "data = {'0.0025':0.00000127843,'0.05':0.000496795,'0.12':0.00309927,'0.25':0.0144266,'0.42':0.048807,'0.64':0.10964,'0.85':0.1787110589,'1':0.219003}\n",
    "courses = list(data.keys())\n",
    "values = list(data.values())\n",
    " \n",
    "fig = plt.figure(figsize = (10, 5))\n",
    "\n",
    "# creating the bar plot\n",
    "plt.bar(courses, values, color ='maroon', \n",
    "        width = 0.4)\n",
    "\n",
    "plt.xlabel(\"percentPerturbation\")\n",
    "plt.ylabel(\"Sharpness\")\n",
    "plt.title(\"Change in %Perturbation for Exp Function\")\n",
    "plt.yscale(\"log\")\n",
    "plt.show()\n"
   ]
  },
  {
   "cell_type": "code",
   "execution_count": null,
   "id": "bfe41f94",
   "metadata": {},
   "outputs": [],
   "source": [
    "#Sqrd"
   ]
  },
  {
   "cell_type": "code",
   "execution_count": 39,
   "id": "c3578127",
   "metadata": {},
   "outputs": [],
   "source": [
    "from StackGP import *\n",
    "import numpy as np"
   ]
  },
  {
   "cell_type": "code",
   "execution_count": 40,
   "id": "8a1b241a",
   "metadata": {},
   "outputs": [],
   "source": [
    "inputData=[[1,2,3,4,5,6,7,8,9,10]]\n",
    "response=inputData[0]"
   ]
  },
  {
   "cell_type": "code",
   "execution_count": 41,
   "id": "5d87e7c9",
   "metadata": {},
   "outputs": [
    {
     "data": {
      "text/plain": [
       "[[1, 2, 3, 4, 5, 6, 7, 8, 9, 10]]"
      ]
     },
     "execution_count": 41,
     "metadata": {},
     "output_type": "execute_result"
    }
   ],
   "source": [
    "inputData"
   ]
  },
  {
   "cell_type": "code",
   "execution_count": 42,
   "id": "56eb8546",
   "metadata": {},
   "outputs": [
    {
     "data": {
      "text/plain": [
       "[1, 2, 3, 4, 5, 6, 7, 8, 9, 10]"
      ]
     },
     "execution_count": 42,
     "metadata": {},
     "output_type": "execute_result"
    }
   ],
   "source": [
    "response"
   ]
  },
  {
   "cell_type": "code",
   "execution_count": 43,
   "id": "3b879837",
   "metadata": {},
   "outputs": [],
   "source": [
    "operators=allOps()"
   ]
  },
  {
   "cell_type": "code",
   "execution_count": 44,
   "id": "a1a54794",
   "metadata": {},
   "outputs": [
    {
     "data": {
      "text/plain": [
       "[<function StackGP.protectDiv(a, b)>,\n",
       " <function StackGP.add(a, b)>,\n",
       " <function StackGP.sub(a, b)>,\n",
       " <function StackGP.mult(a, b)>,\n",
       " <function StackGP.exp(a)>,\n",
       " <function StackGP.sqrd(a)>,\n",
       " <function StackGP.sqrt(a)>,\n",
       " <function StackGP.inv(a)>,\n",
       " <function StackGP.cos(a)>,\n",
       " <function StackGP.sin(a)>,\n",
       " <function StackGP.tan(a)>,\n",
       " <function StackGP.arccos(a)>,\n",
       " <function StackGP.arcsin(a)>,\n",
       " <function StackGP.arctan(a)>,\n",
       " <function StackGP.tanh(a)>,\n",
       " <function StackGP.log(a)>,\n",
       " 'pop',\n",
       " 'pop',\n",
       " 'pop',\n",
       " 'pop',\n",
       " 'pop',\n",
       " 'pop',\n",
       " 'pop',\n",
       " 'pop',\n",
       " 'pop',\n",
       " 'pop']"
      ]
     },
     "execution_count": 44,
     "metadata": {},
     "output_type": "execute_result"
    }
   ],
   "source": [
    "operators"
   ]
  },
  {
   "cell_type": "code",
   "execution_count": 45,
   "id": "b9cc5878",
   "metadata": {},
   "outputs": [
    {
     "data": {
      "text/plain": [
       "<function StackGP.sqrd(a)>"
      ]
     },
     "execution_count": 45,
     "metadata": {},
     "output_type": "execute_result"
    }
   ],
   "source": [
    "operators[5]"
   ]
  },
  {
   "cell_type": "code",
   "execution_count": 46,
   "id": "ccece19c",
   "metadata": {},
   "outputs": [],
   "source": [
    "model=[np.array([operators[5]]),[variableSelect(0)],[]]"
   ]
  },
  {
   "cell_type": "code",
   "execution_count": 47,
   "id": "9cfd82da",
   "metadata": {},
   "outputs": [
    {
     "data": {
      "text/plain": [
       "[array([<function sqrd at 0x0000021768EDCA40>], dtype=object),\n",
       " [<function StackGP.variableSelect.<locals>.<lambda>(variables)>],\n",
       " []]"
      ]
     },
     "execution_count": 47,
     "metadata": {},
     "output_type": "execute_result"
    }
   ],
   "source": [
    "model"
   ]
  },
  {
   "cell_type": "code",
   "execution_count": 48,
   "id": "7368e7d2",
   "metadata": {},
   "outputs": [
    {
     "data": {
      "text/plain": [
       "0.03962650440053997"
      ]
     },
     "execution_count": 48,
     "metadata": {},
     "output_type": "execute_result"
    }
   ],
   "source": [
    "totalSharpness(model,inputData,response,numPerturbations=5000,percentPerturbation=1)"
   ]
  },
  {
   "cell_type": "code",
   "execution_count": 49,
   "id": "cf9e4b04",
   "metadata": {},
   "outputs": [
    {
     "data": {
      "text/plain": [
       "0.03202025596570387"
      ]
     },
     "execution_count": 49,
     "metadata": {},
     "output_type": "execute_result"
    }
   ],
   "source": [
    "totalSharpness(model,inputData,response,numPerturbations=5000,percentPerturbation=0.82)"
   ]
  },
  {
   "cell_type": "code",
   "execution_count": 50,
   "id": "b8d40690",
   "metadata": {},
   "outputs": [
    {
     "data": {
      "text/plain": [
       "0.026128406229533416"
      ]
     },
     "execution_count": 50,
     "metadata": {},
     "output_type": "execute_result"
    }
   ],
   "source": [
    "totalSharpness(model,inputData,response,numPerturbations=5000,percentPerturbation=0.66)"
   ]
  },
  {
   "cell_type": "code",
   "execution_count": 51,
   "id": "879af62e",
   "metadata": {},
   "outputs": [
    {
     "data": {
      "text/plain": [
       "0.02218549129275261"
      ]
     },
     "execution_count": 51,
     "metadata": {},
     "output_type": "execute_result"
    }
   ],
   "source": [
    "totalSharpness(model,inputData,response,numPerturbations=5000,percentPerturbation=0.57)"
   ]
  },
  {
   "cell_type": "code",
   "execution_count": 52,
   "id": "df33bc8e",
   "metadata": {},
   "outputs": [
    {
     "data": {
      "text/plain": [
       "0.013597224488487545"
      ]
     },
     "execution_count": 52,
     "metadata": {},
     "output_type": "execute_result"
    }
   ],
   "source": [
    "totalSharpness(model,inputData,response,numPerturbations=5000,percentPerturbation=0.35)"
   ]
  },
  {
   "cell_type": "code",
   "execution_count": 53,
   "id": "9bfd073e",
   "metadata": {},
   "outputs": [
    {
     "data": {
      "text/plain": [
       "0.004581299850470733"
      ]
     },
     "execution_count": 53,
     "metadata": {},
     "output_type": "execute_result"
    }
   ],
   "source": [
    "totalSharpness(model,inputData,response,numPerturbations=1000,percentPerturbation=0.12)"
   ]
  },
  {
   "cell_type": "code",
   "execution_count": 54,
   "id": "d3106251",
   "metadata": {},
   "outputs": [
    {
     "data": {
      "text/plain": [
       "0.0007867066686800789"
      ]
     },
     "execution_count": 54,
     "metadata": {},
     "output_type": "execute_result"
    }
   ],
   "source": [
    "totalSharpness(model,inputData,response,numPerturbations=5000,percentPerturbation=0.02)"
   ]
  },
  {
   "cell_type": "code",
   "execution_count": 56,
   "id": "e9f5132d",
   "metadata": {},
   "outputs": [
    {
     "data": {
      "image/png": "[encoded data removed]",
      "text/plain": [
       "<Figure size 1000x500 with 1 Axes>"
      ]
     },
     "metadata": {},
     "output_type": "display_data"
    }
   ],
   "source": [
    "import matplotlib.pyplot as plt \n",
    "\n",
    " \n",
    "# creating the dataset\n",
    "data = {'0.02':0.000786706,'0.12':0.004581299,'0.35':0.01359722,'0.57':0.022185,'0.66':0.0261284,'0.82':0.032020,'1':0.039626}\n",
    "courses = list(data.keys())\n",
    "values = list(data.values())\n",
    " \n",
    "fig = plt.figure(figsize = (10, 5))\n",
    "\n",
    "# creating the bar plot\n",
    "plt.bar(courses, values, color ='maroon', \n",
    "        width = 0.4)\n",
    "\n",
    "plt.xlabel(\"percentPerturbation\")\n",
    "plt.ylabel(\"Sharpness\")\n",
    "plt.title(\"Change in %Perturbation for Sqrd Function\")\n",
    "plt.yscale(\"log\")\n",
    "plt.show()"
   ]
  },
  {
   "cell_type": "code",
   "execution_count": 57,
   "id": "d4a5e931",
   "metadata": {},
   "outputs": [],
   "source": [
    "#Sqrt"
   ]
  },
  {
   "cell_type": "code",
   "execution_count": 58,
   "id": "f26cd86d",
   "metadata": {},
   "outputs": [],
   "source": [
    "from StackGP import *\n",
    "import numpy as np"
   ]
  },
  {
   "cell_type": "code",
   "execution_count": 59,
   "id": "e8c7fe44",
   "metadata": {},
   "outputs": [],
   "source": [
    "inputData=[[1,2,3,4,5,6,7,8,9,10]]\n",
    "response=inputData[0]"
   ]
  },
  {
   "cell_type": "code",
   "execution_count": 60,
   "id": "775d946d",
   "metadata": {},
   "outputs": [
    {
     "data": {
      "text/plain": [
       "[[1, 2, 3, 4, 5, 6, 7, 8, 9, 10]]"
      ]
     },
     "execution_count": 60,
     "metadata": {},
     "output_type": "execute_result"
    }
   ],
   "source": [
    "inputData"
   ]
  },
  {
   "cell_type": "code",
   "execution_count": 61,
   "id": "0839ae88",
   "metadata": {},
   "outputs": [
    {
     "data": {
      "text/plain": [
       "[1, 2, 3, 4, 5, 6, 7, 8, 9, 10]"
      ]
     },
     "execution_count": 61,
     "metadata": {},
     "output_type": "execute_result"
    }
   ],
   "source": [
    "response"
   ]
  },
  {
   "cell_type": "code",
   "execution_count": 62,
   "id": "6581f707",
   "metadata": {},
   "outputs": [],
   "source": [
    "operators=allOps()"
   ]
  },
  {
   "cell_type": "code",
   "execution_count": 63,
   "id": "471d5413",
   "metadata": {},
   "outputs": [
    {
     "data": {
      "text/plain": [
       "[<function StackGP.protectDiv(a, b)>,\n",
       " <function StackGP.add(a, b)>,\n",
       " <function StackGP.sub(a, b)>,\n",
       " <function StackGP.mult(a, b)>,\n",
       " <function StackGP.exp(a)>,\n",
       " <function StackGP.sqrd(a)>,\n",
       " <function StackGP.sqrt(a)>,\n",
       " <function StackGP.inv(a)>,\n",
       " <function StackGP.cos(a)>,\n",
       " <function StackGP.sin(a)>,\n",
       " <function StackGP.tan(a)>,\n",
       " <function StackGP.arccos(a)>,\n",
       " <function StackGP.arcsin(a)>,\n",
       " <function StackGP.arctan(a)>,\n",
       " <function StackGP.tanh(a)>,\n",
       " <function StackGP.log(a)>,\n",
       " 'pop',\n",
       " 'pop',\n",
       " 'pop',\n",
       " 'pop',\n",
       " 'pop',\n",
       " 'pop',\n",
       " 'pop',\n",
       " 'pop',\n",
       " 'pop',\n",
       " 'pop']"
      ]
     },
     "execution_count": 63,
     "metadata": {},
     "output_type": "execute_result"
    }
   ],
   "source": [
    "operators"
   ]
  },
  {
   "cell_type": "code",
   "execution_count": 64,
   "id": "ca0259ac",
   "metadata": {},
   "outputs": [
    {
     "data": {
      "text/plain": [
       "<function StackGP.sqrt(a)>"
      ]
     },
     "execution_count": 64,
     "metadata": {},
     "output_type": "execute_result"
    }
   ],
   "source": [
    "operators[6]"
   ]
  },
  {
   "cell_type": "code",
   "execution_count": 65,
   "id": "c70dca28",
   "metadata": {},
   "outputs": [],
   "source": [
    "model=[np.array([operators[6]]),[variableSelect(0)],[]]"
   ]
  },
  {
   "cell_type": "code",
   "execution_count": 66,
   "id": "6593afd6",
   "metadata": {},
   "outputs": [
    {
     "data": {
      "text/plain": [
       "[array([<function sqrt at 0x0000021768EDC9A0>], dtype=object),\n",
       " [<function StackGP.variableSelect.<locals>.<lambda>(variables)>],\n",
       " []]"
      ]
     },
     "execution_count": 66,
     "metadata": {},
     "output_type": "execute_result"
    }
   ],
   "source": [
    "model"
   ]
  },
  {
   "cell_type": "code",
   "execution_count": 67,
   "id": "8b9e438b",
   "metadata": {},
   "outputs": [
    {
     "data": {
      "text/plain": [
       "nan"
      ]
     },
     "execution_count": 67,
     "metadata": {},
     "output_type": "execute_result"
    }
   ],
   "source": [
    "totalSharpness(model,inputData,response,numPerturbations=5000,percentPerturbation=1)"
   ]
  },
  {
   "cell_type": "code",
   "execution_count": 68,
   "id": "8b566fb9",
   "metadata": {},
   "outputs": [
    {
     "data": {
      "text/plain": [
       "nan"
      ]
     },
     "execution_count": 68,
     "metadata": {},
     "output_type": "execute_result"
    }
   ],
   "source": [
    "totalSharpness(model,inputData,response,numPerturbations=5000,percentPerturbation=0.75)"
   ]
  },
  {
   "cell_type": "code",
   "execution_count": 69,
   "id": "0e4e53fe",
   "metadata": {},
   "outputs": [
    {
     "data": {
      "text/plain": [
       "0.028534275680267198"
      ]
     },
     "execution_count": 69,
     "metadata": {},
     "output_type": "execute_result"
    }
   ],
   "source": [
    "totalSharpness(model,inputData,response,numPerturbations=5000,percentPerturbation=0.63)"
   ]
  },
  {
   "cell_type": "code",
   "execution_count": 70,
   "id": "c58fd12d",
   "metadata": {},
   "outputs": [
    {
     "data": {
      "text/plain": [
       "0.025216939033858406"
      ]
     },
     "execution_count": 70,
     "metadata": {},
     "output_type": "execute_result"
    }
   ],
   "source": [
    "totalSharpness(model,inputData,response,numPerturbations=5000,percentPerturbation=0.58)"
   ]
  },
  {
   "cell_type": "code",
   "execution_count": 71,
   "id": "6c0061d4",
   "metadata": {},
   "outputs": [
    {
     "data": {
      "text/plain": [
       "0.008933306392425696"
      ]
     },
     "execution_count": 71,
     "metadata": {},
     "output_type": "execute_result"
    }
   ],
   "source": [
    "totalSharpness(model,inputData,response,numPerturbations=5000,percentPerturbation=0.23)"
   ]
  },
  {
   "cell_type": "code",
   "execution_count": 72,
   "id": "7596951f",
   "metadata": {},
   "outputs": [
    {
     "data": {
      "text/plain": [
       "0.006917276426505329"
      ]
     },
     "execution_count": 72,
     "metadata": {},
     "output_type": "execute_result"
    }
   ],
   "source": [
    "totalSharpness(model,inputData,response,numPerturbations=5000,percentPerturbation=0.18)"
   ]
  },
  {
   "cell_type": "code",
   "execution_count": 73,
   "id": "73c21a6c",
   "metadata": {},
   "outputs": [
    {
     "data": {
      "text/plain": [
       "0.0015140076166120667"
      ]
     },
     "execution_count": 73,
     "metadata": {},
     "output_type": "execute_result"
    }
   ],
   "source": [
    "totalSharpness(model,inputData,response,numPerturbations=5000,percentPerturbation=0.04)"
   ]
  },
  {
   "cell_type": "code",
   "execution_count": 74,
   "id": "2dcca95a",
   "metadata": {},
   "outputs": [
    {
     "data": {
      "image/png": "[encoded data removed]",
      "text/plain": [
       "<Figure size 1000x500 with 1 Axes>"
      ]
     },
     "metadata": {},
     "output_type": "display_data"
    }
   ],
   "source": [
    "import matplotlib.pyplot as plt \n",
    "\n",
    " \n",
    "# creating the dataset\n",
    "data = {'0.04':0.001514,'0.18':0.0069172,'0.23':0.0089333,'0.58':0.0252169,'0.63':0.028534,'0.75':1,'1':1}\n",
    "courses = list(data.keys())\n",
    "values = list(data.values())\n",
    " \n",
    "fig = plt.figure(figsize = (10, 5))\n",
    "\n",
    "# creating the bar plot\n",
    "plt.bar(courses, values, color ='maroon', \n",
    "        width = 0.4)\n",
    "\n",
    "plt.xlabel(\"percentPerturbation\")\n",
    "plt.ylabel(\"Sharpness\")\n",
    "plt.title(\"Change in %Perturbation for Sqrt Function\")\n",
    "plt.yscale(\"log\")\n",
    "plt.show()"
   ]
  },
  {
   "cell_type": "code",
   "execution_count": 75,
   "id": "2832206c",
   "metadata": {},
   "outputs": [],
   "source": [
    "#Inv"
   ]
  },
  {
   "cell_type": "code",
   "execution_count": 76,
   "id": "a286a69f",
   "metadata": {},
   "outputs": [],
   "source": [
    "from StackGP import *\n",
    "import numpy as np"
   ]
  },
  {
   "cell_type": "code",
   "execution_count": 77,
   "id": "b8e30493",
   "metadata": {},
   "outputs": [],
   "source": [
    "inputData=[[1,2,3,4,5,6,7,8,9,10]]\n",
    "response=inputData[0]"
   ]
  },
  {
   "cell_type": "code",
   "execution_count": 78,
   "id": "6829ce93",
   "metadata": {},
   "outputs": [
    {
     "data": {
      "text/plain": [
       "[[1, 2, 3, 4, 5, 6, 7, 8, 9, 10]]"
      ]
     },
     "execution_count": 78,
     "metadata": {},
     "output_type": "execute_result"
    }
   ],
   "source": [
    "inputData"
   ]
  },
  {
   "cell_type": "code",
   "execution_count": 79,
   "id": "bc002807",
   "metadata": {},
   "outputs": [
    {
     "data": {
      "text/plain": [
       "[1, 2, 3, 4, 5, 6, 7, 8, 9, 10]"
      ]
     },
     "execution_count": 79,
     "metadata": {},
     "output_type": "execute_result"
    }
   ],
   "source": [
    "response"
   ]
  },
  {
   "cell_type": "code",
   "execution_count": 80,
   "id": "64ed3291",
   "metadata": {},
   "outputs": [],
   "source": [
    "operators=allOps()"
   ]
  },
  {
   "cell_type": "code",
   "execution_count": 81,
   "id": "9381764f",
   "metadata": {},
   "outputs": [
    {
     "data": {
      "text/plain": [
       "[<function StackGP.protectDiv(a, b)>,\n",
       " <function StackGP.add(a, b)>,\n",
       " <function StackGP.sub(a, b)>,\n",
       " <function StackGP.mult(a, b)>,\n",
       " <function StackGP.exp(a)>,\n",
       " <function StackGP.sqrd(a)>,\n",
       " <function StackGP.sqrt(a)>,\n",
       " <function StackGP.inv(a)>,\n",
       " <function StackGP.cos(a)>,\n",
       " <function StackGP.sin(a)>,\n",
       " <function StackGP.tan(a)>,\n",
       " <function StackGP.arccos(a)>,\n",
       " <function StackGP.arcsin(a)>,\n",
       " <function StackGP.arctan(a)>,\n",
       " <function StackGP.tanh(a)>,\n",
       " <function StackGP.log(a)>,\n",
       " 'pop',\n",
       " 'pop',\n",
       " 'pop',\n",
       " 'pop',\n",
       " 'pop',\n",
       " 'pop',\n",
       " 'pop',\n",
       " 'pop',\n",
       " 'pop',\n",
       " 'pop']"
      ]
     },
     "execution_count": 81,
     "metadata": {},
     "output_type": "execute_result"
    }
   ],
   "source": [
    "operators"
   ]
  },
  {
   "cell_type": "code",
   "execution_count": 82,
   "id": "c56fdefc",
   "metadata": {},
   "outputs": [
    {
     "data": {
      "text/plain": [
       "<function StackGP.inv(a)>"
      ]
     },
     "execution_count": 82,
     "metadata": {},
     "output_type": "execute_result"
    }
   ],
   "source": [
    "operators[7]"
   ]
  },
  {
   "cell_type": "code",
   "execution_count": 83,
   "id": "4e41fa38",
   "metadata": {},
   "outputs": [],
   "source": [
    "model=[np.array([operators[7]]),[variableSelect(0)],[]]"
   ]
  },
  {
   "cell_type": "code",
   "execution_count": 84,
   "id": "ffbe902a",
   "metadata": {},
   "outputs": [
    {
     "data": {
      "text/plain": [
       "[array([<function inv at 0x0000021768EDCAE0>], dtype=object),\n",
       " [<function StackGP.variableSelect.<locals>.<lambda>(variables)>],\n",
       " []]"
      ]
     },
     "execution_count": 84,
     "metadata": {},
     "output_type": "execute_result"
    }
   ],
   "source": [
    "model"
   ]
  },
  {
   "cell_type": "code",
   "execution_count": 85,
   "id": "1e3f553e",
   "metadata": {},
   "outputs": [
    {
     "data": {
      "text/plain": [
       "0.21366234257481692"
      ]
     },
     "execution_count": 85,
     "metadata": {},
     "output_type": "execute_result"
    }
   ],
   "source": [
    "totalSharpness(model,inputData,response,numPerturbations=5000,percentPerturbation=1)"
   ]
  },
  {
   "cell_type": "code",
   "execution_count": 86,
   "id": "f370df00",
   "metadata": {},
   "outputs": [
    {
     "data": {
      "text/plain": [
       "0.1976736783014602"
      ]
     },
     "execution_count": 86,
     "metadata": {},
     "output_type": "execute_result"
    }
   ],
   "source": [
    "totalSharpness(model,inputData,response,numPerturbations=5000,percentPerturbation=0.86)"
   ]
  },
  {
   "cell_type": "code",
   "execution_count": 87,
   "id": "31dc7365",
   "metadata": {},
   "outputs": [
    {
     "data": {
      "text/plain": [
       "0.17163064231353423"
      ]
     },
     "execution_count": 87,
     "metadata": {},
     "output_type": "execute_result"
    }
   ],
   "source": [
    "totalSharpness(model,inputData,response,numPerturbations=5000,percentPerturbation=0.67)"
   ]
  },
  {
   "cell_type": "code",
   "execution_count": 88,
   "id": "488e3384",
   "metadata": {},
   "outputs": [
    {
     "data": {
      "text/plain": [
       "0.14961725489013242"
      ]
     },
     "execution_count": 88,
     "metadata": {},
     "output_type": "execute_result"
    }
   ],
   "source": [
    "totalSharpness(model,inputData,response,numPerturbations=5000,percentPerturbation=0.55)"
   ]
  },
  {
   "cell_type": "code",
   "execution_count": 89,
   "id": "a214b180",
   "metadata": {},
   "outputs": [
    {
     "data": {
      "text/plain": [
       "0.04787970886141852"
      ]
     },
     "execution_count": 89,
     "metadata": {},
     "output_type": "execute_result"
    }
   ],
   "source": [
    "totalSharpness(model,inputData,response,numPerturbations=5000,percentPerturbation=0.15)"
   ]
  },
  {
   "cell_type": "code",
   "execution_count": 90,
   "id": "ca2cb20f",
   "metadata": {},
   "outputs": [
    {
     "data": {
      "text/plain": [
       "0.0193315368004255"
      ]
     },
     "execution_count": 90,
     "metadata": {},
     "output_type": "execute_result"
    }
   ],
   "source": [
    "totalSharpness(model,inputData,response,numPerturbations=5000,percentPerturbation=0.06)"
   ]
  },
  {
   "cell_type": "code",
   "execution_count": 91,
   "id": "849b10e9",
   "metadata": {},
   "outputs": [
    {
     "data": {
      "text/plain": [
       "0.001292715833637022"
      ]
     },
     "execution_count": 91,
     "metadata": {},
     "output_type": "execute_result"
    }
   ],
   "source": [
    "totalSharpness(model,inputData,response,numPerturbations=5000,percentPerturbation=0.004)"
   ]
  },
  {
   "cell_type": "code",
   "execution_count": 92,
   "id": "5173aada",
   "metadata": {},
   "outputs": [
    {
     "data": {
      "image/png": "[encoded data removed]",
      "text/plain": [
       "<Figure size 1000x500 with 1 Axes>"
      ]
     },
     "metadata": {},
     "output_type": "display_data"
    }
   ],
   "source": [
    "import matplotlib.pyplot as plt \n",
    "\n",
    " \n",
    "# creating the dataset\n",
    "data = {'0.004':0.0012927,'0.06':0.0193315,'0.15':0.0478797,'0.55':0.149617,'0.67':0.1716,'0.86':0.1976736,'1':0.213662}\n",
    "courses = list(data.keys())\n",
    "values = list(data.values())\n",
    " \n",
    "fig = plt.figure(figsize = (10, 5))\n",
    "\n",
    "# creating the bar plot\n",
    "plt.bar(courses, values, color ='maroon', \n",
    "        width = 0.4)\n",
    "\n",
    "plt.xlabel(\"percentPerturbation\")\n",
    "plt.ylabel(\"Sharpness\")\n",
    "plt.title(\"Change in %Perturbation for Inv Function\")\n",
    "plt.yscale(\"log\")\n",
    "plt.show()"
   ]
  },
  {
   "cell_type": "code",
   "execution_count": 93,
   "id": "d40ebfdf",
   "metadata": {},
   "outputs": [],
   "source": [
    "#Cos"
   ]
  },
  {
   "cell_type": "code",
   "execution_count": 94,
   "id": "c4d7ccce",
   "metadata": {},
   "outputs": [],
   "source": [
    "from StackGP import *\n",
    "import numpy as np"
   ]
  },
  {
   "cell_type": "code",
   "execution_count": 95,
   "id": "64c07526",
   "metadata": {},
   "outputs": [],
   "source": [
    "inputData=[[1,2,3,4,5,6,7,8,9,10]]\n",
    "response=inputData[0]"
   ]
  },
  {
   "cell_type": "code",
   "execution_count": 96,
   "id": "eb69fc6a",
   "metadata": {},
   "outputs": [
    {
     "data": {
      "text/plain": [
       "[[1, 2, 3, 4, 5, 6, 7, 8, 9, 10]]"
      ]
     },
     "execution_count": 96,
     "metadata": {},
     "output_type": "execute_result"
    }
   ],
   "source": [
    "inputData"
   ]
  },
  {
   "cell_type": "code",
   "execution_count": 97,
   "id": "50c8dd1b",
   "metadata": {},
   "outputs": [
    {
     "data": {
      "text/plain": [
       "[1, 2, 3, 4, 5, 6, 7, 8, 9, 10]"
      ]
     },
     "execution_count": 97,
     "metadata": {},
     "output_type": "execute_result"
    }
   ],
   "source": [
    "response"
   ]
  },
  {
   "cell_type": "code",
   "execution_count": 98,
   "id": "a18d5015",
   "metadata": {},
   "outputs": [],
   "source": [
    "operators=allOps()"
   ]
  },
  {
   "cell_type": "code",
   "execution_count": 99,
   "id": "6362c766",
   "metadata": {},
   "outputs": [
    {
     "data": {
      "text/plain": [
       "[<function StackGP.protectDiv(a, b)>,\n",
       " <function StackGP.add(a, b)>,\n",
       " <function StackGP.sub(a, b)>,\n",
       " <function StackGP.mult(a, b)>,\n",
       " <function StackGP.exp(a)>,\n",
       " <function StackGP.sqrd(a)>,\n",
       " <function StackGP.sqrt(a)>,\n",
       " <function StackGP.inv(a)>,\n",
       " <function StackGP.cos(a)>,\n",
       " <function StackGP.sin(a)>,\n",
       " <function StackGP.tan(a)>,\n",
       " <function StackGP.arccos(a)>,\n",
       " <function StackGP.arcsin(a)>,\n",
       " <function StackGP.arctan(a)>,\n",
       " <function StackGP.tanh(a)>,\n",
       " <function StackGP.log(a)>,\n",
       " 'pop',\n",
       " 'pop',\n",
       " 'pop',\n",
       " 'pop',\n",
       " 'pop',\n",
       " 'pop',\n",
       " 'pop',\n",
       " 'pop',\n",
       " 'pop',\n",
       " 'pop']"
      ]
     },
     "execution_count": 99,
     "metadata": {},
     "output_type": "execute_result"
    }
   ],
   "source": [
    "operators"
   ]
  },
  {
   "cell_type": "code",
   "execution_count": 100,
   "id": "948cc2c4",
   "metadata": {},
   "outputs": [
    {
     "data": {
      "text/plain": [
       "<function StackGP.cos(a)>"
      ]
     },
     "execution_count": 100,
     "metadata": {},
     "output_type": "execute_result"
    }
   ],
   "source": [
    "operators[8]"
   ]
  },
  {
   "cell_type": "code",
   "execution_count": 101,
   "id": "73077b8e",
   "metadata": {},
   "outputs": [],
   "source": [
    "model=[np.array([operators[8]]),[variableSelect(0)],[]]"
   ]
  },
  {
   "cell_type": "code",
   "execution_count": 102,
   "id": "8a72d05b",
   "metadata": {},
   "outputs": [
    {
     "data": {
      "text/plain": [
       "[array([<function cos at 0x0000021768EDCC20>], dtype=object),\n",
       " [<function StackGP.variableSelect.<locals>.<lambda>(variables)>],\n",
       " []]"
      ]
     },
     "execution_count": 102,
     "metadata": {},
     "output_type": "execute_result"
    }
   ],
   "source": [
    "model"
   ]
  },
  {
   "cell_type": "code",
   "execution_count": 103,
   "id": "01708a13",
   "metadata": {},
   "outputs": [
    {
     "data": {
      "text/plain": [
       "0.08701954308145585"
      ]
     },
     "execution_count": 103,
     "metadata": {},
     "output_type": "execute_result"
    }
   ],
   "source": [
    "totalSharpness(model,inputData,response,numPerturbations=5000,percentPerturbation=1)"
   ]
  },
  {
   "cell_type": "code",
   "execution_count": 104,
   "id": "a0bf1243",
   "metadata": {},
   "outputs": [
    {
     "data": {
      "text/plain": [
       "0.0640364160314158"
      ]
     },
     "execution_count": 104,
     "metadata": {},
     "output_type": "execute_result"
    }
   ],
   "source": [
    "totalSharpness(model,inputData,response,numPerturbations=5000,percentPerturbation=0.72)"
   ]
  },
  {
   "cell_type": "code",
   "execution_count": 105,
   "id": "9b862084",
   "metadata": {},
   "outputs": [
    {
     "data": {
      "text/plain": [
       "0.029339127019341948"
      ]
     },
     "execution_count": 105,
     "metadata": {},
     "output_type": "execute_result"
    }
   ],
   "source": [
    "totalSharpness(model,inputData,response,numPerturbations=5000,percentPerturbation=0.34)"
   ]
  },
  {
   "cell_type": "code",
   "execution_count": 106,
   "id": "f1ca5eb3",
   "metadata": {},
   "outputs": [
    {
     "data": {
      "text/plain": [
       "0.015047708197376617"
      ]
     },
     "execution_count": 106,
     "metadata": {},
     "output_type": "execute_result"
    }
   ],
   "source": [
    "totalSharpness(model,inputData,response,numPerturbations=5000,percentPerturbation=0.17)"
   ]
  },
  {
   "cell_type": "code",
   "execution_count": 107,
   "id": "199a2c33",
   "metadata": {},
   "outputs": [
    {
     "data": {
      "text/plain": [
       "0.008810645995810438"
      ]
     },
     "execution_count": 107,
     "metadata": {},
     "output_type": "execute_result"
    }
   ],
   "source": [
    "totalSharpness(model,inputData,response,numPerturbations=5000,percentPerturbation=0.099)"
   ]
  },
  {
   "cell_type": "code",
   "execution_count": 108,
   "id": "1d409a8d",
   "metadata": {},
   "outputs": [
    {
     "data": {
      "text/plain": [
       "0.0004386154748580418"
      ]
     },
     "execution_count": 108,
     "metadata": {},
     "output_type": "execute_result"
    }
   ],
   "source": [
    "totalSharpness(model,inputData,response,numPerturbations=5000,percentPerturbation=0.005)"
   ]
  },
  {
   "cell_type": "code",
   "execution_count": 109,
   "id": "978498a3",
   "metadata": {},
   "outputs": [
    {
     "data": {
      "text/plain": [
       "2.618267699764957e-05"
      ]
     },
     "execution_count": 109,
     "metadata": {},
     "output_type": "execute_result"
    }
   ],
   "source": [
    "totalSharpness(model,inputData,response,numPerturbations=5000,percentPerturbation=0.0003)"
   ]
  },
  {
   "cell_type": "code",
   "execution_count": 110,
   "id": "dccb2596",
   "metadata": {},
   "outputs": [
    {
     "data": {
      "image/png": "[encoded data removed]",
      "text/plain": [
       "<Figure size 1000x500 with 1 Axes>"
      ]
     },
     "metadata": {},
     "output_type": "display_data"
    }
   ],
   "source": [
    "import matplotlib.pyplot as plt \n",
    "\n",
    " \n",
    "# creating the dataset\n",
    "data = {'0.0003':0.00002618,'0.005':0.00043861,'0.099':0.0088106,'0.17':0.0150477,'0.34':0.029339,'0.72':0.0640364,'1':0.08701954}\n",
    "courses = list(data.keys())\n",
    "values = list(data.values())\n",
    " \n",
    "fig = plt.figure(figsize = (10, 5))\n",
    "\n",
    "# creating the bar plot\n",
    "plt.bar(courses, values, color ='maroon', \n",
    "        width = 0.4)\n",
    "\n",
    "plt.xlabel(\"percentPerturbation\")\n",
    "plt.ylabel(\"Sharpness\")\n",
    "plt.title(\"Change in %Perturbation for Cos Function\")\n",
    "plt.yscale(\"log\")\n",
    "plt.show()"
   ]
  },
  {
   "cell_type": "code",
   "execution_count": 111,
   "id": "b9af5ff8",
   "metadata": {},
   "outputs": [],
   "source": [
    "#Sin"
   ]
  },
  {
   "cell_type": "code",
   "execution_count": 112,
   "id": "de215de1",
   "metadata": {},
   "outputs": [],
   "source": [
    "from StackGP import *\n",
    "import numpy as np"
   ]
  },
  {
   "cell_type": "code",
   "execution_count": 113,
   "id": "4a58b67d",
   "metadata": {},
   "outputs": [],
   "source": [
    "inputData=[[1,2,3,4,5,6,7,8,9,10]]\n",
    "response=inputData[0]"
   ]
  },
  {
   "cell_type": "code",
   "execution_count": 114,
   "id": "c11aac81",
   "metadata": {},
   "outputs": [
    {
     "data": {
      "text/plain": [
       "[[1, 2, 3, 4, 5, 6, 7, 8, 9, 10]]"
      ]
     },
     "execution_count": 114,
     "metadata": {},
     "output_type": "execute_result"
    }
   ],
   "source": [
    "inputData"
   ]
  },
  {
   "cell_type": "code",
   "execution_count": 115,
   "id": "cf050a56",
   "metadata": {},
   "outputs": [
    {
     "data": {
      "text/plain": [
       "[1, 2, 3, 4, 5, 6, 7, 8, 9, 10]"
      ]
     },
     "execution_count": 115,
     "metadata": {},
     "output_type": "execute_result"
    }
   ],
   "source": [
    "response"
   ]
  },
  {
   "cell_type": "code",
   "execution_count": 116,
   "id": "121a4af6",
   "metadata": {},
   "outputs": [],
   "source": [
    "operators=allOps()"
   ]
  },
  {
   "cell_type": "code",
   "execution_count": 117,
   "id": "98e0f8ba",
   "metadata": {},
   "outputs": [
    {
     "data": {
      "text/plain": [
       "[<function StackGP.protectDiv(a, b)>,\n",
       " <function StackGP.add(a, b)>,\n",
       " <function StackGP.sub(a, b)>,\n",
       " <function StackGP.mult(a, b)>,\n",
       " <function StackGP.exp(a)>,\n",
       " <function StackGP.sqrd(a)>,\n",
       " <function StackGP.sqrt(a)>,\n",
       " <function StackGP.inv(a)>,\n",
       " <function StackGP.cos(a)>,\n",
       " <function StackGP.sin(a)>,\n",
       " <function StackGP.tan(a)>,\n",
       " <function StackGP.arccos(a)>,\n",
       " <function StackGP.arcsin(a)>,\n",
       " <function StackGP.arctan(a)>,\n",
       " <function StackGP.tanh(a)>,\n",
       " <function StackGP.log(a)>,\n",
       " 'pop',\n",
       " 'pop',\n",
       " 'pop',\n",
       " 'pop',\n",
       " 'pop',\n",
       " 'pop',\n",
       " 'pop',\n",
       " 'pop',\n",
       " 'pop',\n",
       " 'pop']"
      ]
     },
     "execution_count": 117,
     "metadata": {},
     "output_type": "execute_result"
    }
   ],
   "source": [
    "operators"
   ]
  },
  {
   "cell_type": "code",
   "execution_count": 118,
   "id": "73c0a378",
   "metadata": {},
   "outputs": [
    {
     "data": {
      "text/plain": [
       "<function StackGP.sin(a)>"
      ]
     },
     "execution_count": 118,
     "metadata": {},
     "output_type": "execute_result"
    }
   ],
   "source": [
    "operators[9]"
   ]
  },
  {
   "cell_type": "code",
   "execution_count": 119,
   "id": "09cd1d3d",
   "metadata": {},
   "outputs": [],
   "source": [
    "model=[np.array([operators[9]]),[variableSelect(0)],[]]"
   ]
  },
  {
   "cell_type": "code",
   "execution_count": 120,
   "id": "ab2ec493",
   "metadata": {},
   "outputs": [
    {
     "data": {
      "text/plain": [
       "[array([<function sin at 0x0000021768EDCB80>], dtype=object),\n",
       " [<function StackGP.variableSelect.<locals>.<lambda>(variables)>],\n",
       " []]"
      ]
     },
     "execution_count": 120,
     "metadata": {},
     "output_type": "execute_result"
    }
   ],
   "source": [
    "model"
   ]
  },
  {
   "cell_type": "code",
   "execution_count": 121,
   "id": "5a15dfa5",
   "metadata": {},
   "outputs": [
    {
     "data": {
      "text/plain": [
       "0.08846647555930233"
      ]
     },
     "execution_count": 121,
     "metadata": {},
     "output_type": "execute_result"
    }
   ],
   "source": [
    "totalSharpness(model,inputData,response,numPerturbations=5000,percentPerturbation=1)"
   ]
  },
  {
   "cell_type": "code",
   "execution_count": 122,
   "id": "19afb6c1",
   "metadata": {},
   "outputs": [
    {
     "data": {
      "text/plain": [
       "0.07961005063896152"
      ]
     },
     "execution_count": 122,
     "metadata": {},
     "output_type": "execute_result"
    }
   ],
   "source": [
    "totalSharpness(model,inputData,response,numPerturbations=5000,percentPerturbation=0.87)"
   ]
  },
  {
   "cell_type": "code",
   "execution_count": 123,
   "id": "a4d3a4e8",
   "metadata": {},
   "outputs": [
    {
     "data": {
      "text/plain": [
       "0.049862443087230986"
      ]
     },
     "execution_count": 123,
     "metadata": {},
     "output_type": "execute_result"
    }
   ],
   "source": [
    "totalSharpness(model,inputData,response,numPerturbations=5000,percentPerturbation=0.56)"
   ]
  },
  {
   "cell_type": "code",
   "execution_count": 124,
   "id": "e2049fbd",
   "metadata": {},
   "outputs": [
    {
     "data": {
      "text/plain": [
       "0.02144382460972349"
      ]
     },
     "execution_count": 124,
     "metadata": {},
     "output_type": "execute_result"
    }
   ],
   "source": [
    "totalSharpness(model,inputData,response,numPerturbations=5000,percentPerturbation=0.24)"
   ]
  },
  {
   "cell_type": "code",
   "execution_count": 125,
   "id": "fc847cd1",
   "metadata": {},
   "outputs": [
    {
     "data": {
      "text/plain": [
       "0.009621216395524884"
      ]
     },
     "execution_count": 125,
     "metadata": {},
     "output_type": "execute_result"
    }
   ],
   "source": [
    "totalSharpness(model,inputData,response,numPerturbations=5000,percentPerturbation=0.11)"
   ]
  },
  {
   "cell_type": "code",
   "execution_count": 126,
   "id": "b28ee7ea",
   "metadata": {},
   "outputs": [
    {
     "data": {
      "text/plain": [
       "0.006084926956517567"
      ]
     },
     "execution_count": 126,
     "metadata": {},
     "output_type": "execute_result"
    }
   ],
   "source": [
    "totalSharpness(model,inputData,response,numPerturbations=5000,percentPerturbation=0.07)"
   ]
  },
  {
   "cell_type": "code",
   "execution_count": 127,
   "id": "2e374da4",
   "metadata": {},
   "outputs": [
    {
     "data": {
      "text/plain": [
       "0.0017898413258581004"
      ]
     },
     "execution_count": 127,
     "metadata": {},
     "output_type": "execute_result"
    }
   ],
   "source": [
    "totalSharpness(model,inputData,response,numPerturbations=5000,percentPerturbation=0.02)"
   ]
  },
  {
   "cell_type": "code",
   "execution_count": 128,
   "id": "480d11b4",
   "metadata": {},
   "outputs": [
    {
     "data": {
      "image/png": "[encoded data removed]",
      "text/plain": [
       "<Figure size 1000x500 with 1 Axes>"
      ]
     },
     "metadata": {},
     "output_type": "display_data"
    }
   ],
   "source": [
    "import matplotlib.pyplot as plt \n",
    "\n",
    " \n",
    "# creating the dataset\n",
    "data = {'0.02':0.0017898,'0.07':0.006084,'0.11':0.009621,'0.24':0.0214438,'0.56':0.0498624,'0.87':0.0796100,'1':0.0884664}\n",
    "courses = list(data.keys())\n",
    "values = list(data.values())\n",
    " \n",
    "fig = plt.figure(figsize = (10, 5))\n",
    "\n",
    "# creating the bar plot\n",
    "plt.bar(courses, values, color ='maroon', \n",
    "        width = 0.4)\n",
    "\n",
    "plt.xlabel(\"percentPerturbation\")\n",
    "plt.ylabel(\"Sharpness\")\n",
    "plt.title(\"Change in %Perturbation for Sin Function\")\n",
    "plt.yscale(\"log\")\n",
    "plt.show()"
   ]
  },
  {
   "cell_type": "code",
   "execution_count": 129,
   "id": "388a645c",
   "metadata": {},
   "outputs": [],
   "source": [
    "#Tan"
   ]
  },
  {
   "cell_type": "code",
   "execution_count": 130,
   "id": "c8e765bf",
   "metadata": {},
   "outputs": [],
   "source": [
    "from StackGP import *\n",
    "import numpy as np"
   ]
  },
  {
   "cell_type": "code",
   "execution_count": 131,
   "id": "a0b15cb6",
   "metadata": {},
   "outputs": [],
   "source": [
    "inputData=[[1,2,3,4,5,6,7,8,9,10]]\n",
    "response=inputData[0]"
   ]
  },
  {
   "cell_type": "code",
   "execution_count": 132,
   "id": "8ffb3764",
   "metadata": {},
   "outputs": [
    {
     "data": {
      "text/plain": [
       "[[1, 2, 3, 4, 5, 6, 7, 8, 9, 10]]"
      ]
     },
     "execution_count": 132,
     "metadata": {},
     "output_type": "execute_result"
    }
   ],
   "source": [
    "inputData"
   ]
  },
  {
   "cell_type": "code",
   "execution_count": 133,
   "id": "68e06ea0",
   "metadata": {},
   "outputs": [
    {
     "data": {
      "text/plain": [
       "[1, 2, 3, 4, 5, 6, 7, 8, 9, 10]"
      ]
     },
     "execution_count": 133,
     "metadata": {},
     "output_type": "execute_result"
    }
   ],
   "source": [
    "response"
   ]
  },
  {
   "cell_type": "code",
   "execution_count": 134,
   "id": "7edb07cd",
   "metadata": {},
   "outputs": [],
   "source": [
    "operators=allOps()"
   ]
  },
  {
   "cell_type": "code",
   "execution_count": 135,
   "id": "c3db6857",
   "metadata": {},
   "outputs": [
    {
     "data": {
      "text/plain": [
       "[<function StackGP.protectDiv(a, b)>,\n",
       " <function StackGP.add(a, b)>,\n",
       " <function StackGP.sub(a, b)>,\n",
       " <function StackGP.mult(a, b)>,\n",
       " <function StackGP.exp(a)>,\n",
       " <function StackGP.sqrd(a)>,\n",
       " <function StackGP.sqrt(a)>,\n",
       " <function StackGP.inv(a)>,\n",
       " <function StackGP.cos(a)>,\n",
       " <function StackGP.sin(a)>,\n",
       " <function StackGP.tan(a)>,\n",
       " <function StackGP.arccos(a)>,\n",
       " <function StackGP.arcsin(a)>,\n",
       " <function StackGP.arctan(a)>,\n",
       " <function StackGP.tanh(a)>,\n",
       " <function StackGP.log(a)>,\n",
       " 'pop',\n",
       " 'pop',\n",
       " 'pop',\n",
       " 'pop',\n",
       " 'pop',\n",
       " 'pop',\n",
       " 'pop',\n",
       " 'pop',\n",
       " 'pop',\n",
       " 'pop']"
      ]
     },
     "execution_count": 135,
     "metadata": {},
     "output_type": "execute_result"
    }
   ],
   "source": [
    "operators"
   ]
  },
  {
   "cell_type": "code",
   "execution_count": 136,
   "id": "4a572386",
   "metadata": {},
   "outputs": [
    {
     "data": {
      "text/plain": [
       "<function StackGP.tan(a)>"
      ]
     },
     "execution_count": 136,
     "metadata": {},
     "output_type": "execute_result"
    }
   ],
   "source": [
    "operators[10]"
   ]
  },
  {
   "cell_type": "code",
   "execution_count": 137,
   "id": "03fb49e6",
   "metadata": {},
   "outputs": [],
   "source": [
    "model=[np.array([operators[10]]),[variableSelect(0)],[]]"
   ]
  },
  {
   "cell_type": "code",
   "execution_count": 138,
   "id": "3d5c2f1e",
   "metadata": {},
   "outputs": [
    {
     "data": {
      "text/plain": [
       "[array([<function tan at 0x0000021768EDCCC0>], dtype=object),\n",
       " [<function StackGP.variableSelect.<locals>.<lambda>(variables)>],\n",
       " []]"
      ]
     },
     "execution_count": 138,
     "metadata": {},
     "output_type": "execute_result"
    }
   ],
   "source": [
    "model"
   ]
  },
  {
   "cell_type": "code",
   "execution_count": 139,
   "id": "b2155555",
   "metadata": {},
   "outputs": [
    {
     "data": {
      "text/plain": [
       "0.12172732158255424"
      ]
     },
     "execution_count": 139,
     "metadata": {},
     "output_type": "execute_result"
    }
   ],
   "source": [
    "totalSharpness(model,inputData,response,numPerturbations=5000,percentPerturbation=1)"
   ]
  },
  {
   "cell_type": "code",
   "execution_count": 140,
   "id": "6d973a94",
   "metadata": {},
   "outputs": [
    {
     "data": {
      "text/plain": [
       "0.1197270859694374"
      ]
     },
     "execution_count": 140,
     "metadata": {},
     "output_type": "execute_result"
    }
   ],
   "source": [
    "totalSharpness(model,inputData,response,numPerturbations=5000,percentPerturbation=0.84)"
   ]
  },
  {
   "cell_type": "code",
   "execution_count": 141,
   "id": "3dc2f53a",
   "metadata": {},
   "outputs": [
    {
     "data": {
      "text/plain": [
       "0.09230558180344751"
      ]
     },
     "execution_count": 141,
     "metadata": {},
     "output_type": "execute_result"
    }
   ],
   "source": [
    "totalSharpness(model,inputData,response,numPerturbations=5000,percentPerturbation=0.42)"
   ]
  },
  {
   "cell_type": "code",
   "execution_count": 142,
   "id": "ca44b268",
   "metadata": {},
   "outputs": [
    {
     "data": {
      "text/plain": [
       "0.058289171301282645"
      ]
     },
     "execution_count": 142,
     "metadata": {},
     "output_type": "execute_result"
    }
   ],
   "source": [
    "totalSharpness(model,inputData,response,numPerturbations=5000,percentPerturbation=0.33)"
   ]
  },
  {
   "cell_type": "code",
   "execution_count": 143,
   "id": "c8557865",
   "metadata": {},
   "outputs": [
    {
     "data": {
      "text/plain": [
       "0.01227730448845198"
      ]
     },
     "execution_count": 143,
     "metadata": {},
     "output_type": "execute_result"
    }
   ],
   "source": [
    "totalSharpness(model,inputData,response,numPerturbations=5000,percentPerturbation=0.044)"
   ]
  },
  {
   "cell_type": "code",
   "execution_count": 144,
   "id": "14c5b175",
   "metadata": {},
   "outputs": [
    {
     "data": {
      "text/plain": [
       "0.004274218184850437"
      ]
     },
     "execution_count": 144,
     "metadata": {},
     "output_type": "execute_result"
    }
   ],
   "source": [
    "totalSharpness(model,inputData,response,numPerturbations=5000,percentPerturbation=0.015)"
   ]
  },
  {
   "cell_type": "code",
   "execution_count": 145,
   "id": "7e2bd966",
   "metadata": {},
   "outputs": [
    {
     "data": {
      "text/plain": [
       "0.002854484184002155"
      ]
     },
     "execution_count": 145,
     "metadata": {},
     "output_type": "execute_result"
    }
   ],
   "source": [
    "totalSharpness(model,inputData,response,numPerturbations=5000,percentPerturbation=0.010)"
   ]
  },
  {
   "cell_type": "code",
   "execution_count": 146,
   "id": "6249fb0d",
   "metadata": {},
   "outputs": [
    {
     "data": {
      "image/png": "[encoded data removed]",
      "text/plain": [
       "<Figure size 1000x500 with 1 Axes>"
      ]
     },
     "metadata": {},
     "output_type": "display_data"
    }
   ],
   "source": [
    "import matplotlib.pyplot as plt \n",
    "\n",
    " \n",
    "# creating the dataset\n",
    "data = {'0.010':0.00285448,'0.015':0.00427421,'0.044':0.012277,'0.33':0.0582891,'0.42':0.0923055,'0.84':0.1197270,'1':0.1217273}\n",
    "courses = list(data.keys())\n",
    "values = list(data.values())\n",
    " \n",
    "fig = plt.figure(figsize = (10, 5))\n",
    "\n",
    "# creating the bar plot\n",
    "plt.bar(courses, values, color ='maroon', \n",
    "        width = 0.4)\n",
    "\n",
    "plt.xlabel(\"percentPerturbation\")\n",
    "plt.ylabel(\"Sharpness\")\n",
    "plt.title(\"Change in %Perturbation for Tan Function\")\n",
    "plt.yscale(\"log\")\n",
    "plt.show()"
   ]
  },
  {
   "cell_type": "code",
   "execution_count": 147,
   "id": "ea5df7e8",
   "metadata": {},
   "outputs": [],
   "source": [
    "#arctan"
   ]
  },
  {
   "cell_type": "code",
   "execution_count": 148,
   "id": "8675296d",
   "metadata": {},
   "outputs": [],
   "source": [
    "from StackGP import *\n",
    "import numpy as np"
   ]
  },
  {
   "cell_type": "code",
   "execution_count": 149,
   "id": "5f032136",
   "metadata": {},
   "outputs": [],
   "source": [
    "inputData=[[1,2,3,4,5,6,7,8,9,10]]\n",
    "response=inputData[0]"
   ]
  },
  {
   "cell_type": "code",
   "execution_count": 150,
   "id": "2c3f5852",
   "metadata": {},
   "outputs": [
    {
     "data": {
      "text/plain": [
       "[[1, 2, 3, 4, 5, 6, 7, 8, 9, 10]]"
      ]
     },
     "execution_count": 150,
     "metadata": {},
     "output_type": "execute_result"
    }
   ],
   "source": [
    "inputData"
   ]
  },
  {
   "cell_type": "code",
   "execution_count": 151,
   "id": "f6d5353d",
   "metadata": {},
   "outputs": [
    {
     "data": {
      "text/plain": [
       "[1, 2, 3, 4, 5, 6, 7, 8, 9, 10]"
      ]
     },
     "execution_count": 151,
     "metadata": {},
     "output_type": "execute_result"
    }
   ],
   "source": [
    "response"
   ]
  },
  {
   "cell_type": "code",
   "execution_count": 152,
   "id": "745c409a",
   "metadata": {},
   "outputs": [],
   "source": [
    "operators=allOps()"
   ]
  },
  {
   "cell_type": "code",
   "execution_count": 153,
   "id": "8c4bb759",
   "metadata": {},
   "outputs": [
    {
     "data": {
      "text/plain": [
       "[<function StackGP.protectDiv(a, b)>,\n",
       " <function StackGP.add(a, b)>,\n",
       " <function StackGP.sub(a, b)>,\n",
       " <function StackGP.mult(a, b)>,\n",
       " <function StackGP.exp(a)>,\n",
       " <function StackGP.sqrd(a)>,\n",
       " <function StackGP.sqrt(a)>,\n",
       " <function StackGP.inv(a)>,\n",
       " <function StackGP.cos(a)>,\n",
       " <function StackGP.sin(a)>,\n",
       " <function StackGP.tan(a)>,\n",
       " <function StackGP.arccos(a)>,\n",
       " <function StackGP.arcsin(a)>,\n",
       " <function StackGP.arctan(a)>,\n",
       " <function StackGP.tanh(a)>,\n",
       " <function StackGP.log(a)>,\n",
       " 'pop',\n",
       " 'pop',\n",
       " 'pop',\n",
       " 'pop',\n",
       " 'pop',\n",
       " 'pop',\n",
       " 'pop',\n",
       " 'pop',\n",
       " 'pop',\n",
       " 'pop']"
      ]
     },
     "execution_count": 153,
     "metadata": {},
     "output_type": "execute_result"
    }
   ],
   "source": [
    "operators"
   ]
  },
  {
   "cell_type": "code",
   "execution_count": 154,
   "id": "c7689ee7",
   "metadata": {},
   "outputs": [
    {
     "data": {
      "text/plain": [
       "<function StackGP.arctan(a)>"
      ]
     },
     "execution_count": 154,
     "metadata": {},
     "output_type": "execute_result"
    }
   ],
   "source": [
    "operators[13]"
   ]
  },
  {
   "cell_type": "code",
   "execution_count": 155,
   "id": "3b66af32",
   "metadata": {},
   "outputs": [],
   "source": [
    "model=[np.array([operators[13]]),[variableSelect(0)],[]]"
   ]
  },
  {
   "cell_type": "code",
   "execution_count": 156,
   "id": "95e7ca4e",
   "metadata": {},
   "outputs": [
    {
     "data": {
      "text/plain": [
       "[array([<function arctan at 0x0000021768EDCEA0>], dtype=object),\n",
       " [<function StackGP.variableSelect.<locals>.<lambda>(variables)>],\n",
       " []]"
      ]
     },
     "execution_count": 156,
     "metadata": {},
     "output_type": "execute_result"
    }
   ],
   "source": [
    "model"
   ]
  },
  {
   "cell_type": "code",
   "execution_count": 157,
   "id": "b519da3e",
   "metadata": {},
   "outputs": [
    {
     "data": {
      "text/plain": [
       "0.1337047209118611"
      ]
     },
     "execution_count": 157,
     "metadata": {},
     "output_type": "execute_result"
    }
   ],
   "source": [
    "totalSharpness(model,inputData,response,numPerturbations=5000,percentPerturbation=1)"
   ]
  },
  {
   "cell_type": "code",
   "execution_count": 158,
   "id": "ed2c24ae",
   "metadata": {},
   "outputs": [
    {
     "data": {
      "text/plain": [
       "0.12018442294100792"
      ]
     },
     "execution_count": 158,
     "metadata": {},
     "output_type": "execute_result"
    }
   ],
   "source": [
    "totalSharpness(model,inputData,response,numPerturbations=5000,percentPerturbation=0.76)"
   ]
  },
  {
   "cell_type": "code",
   "execution_count": 159,
   "id": "423d0616",
   "metadata": {},
   "outputs": [
    {
     "data": {
      "text/plain": [
       "0.10982913547812581"
      ]
     },
     "execution_count": 159,
     "metadata": {},
     "output_type": "execute_result"
    }
   ],
   "source": [
    "totalSharpness(model,inputData,response,numPerturbations=5000,percentPerturbation=0.62)"
   ]
  },
  {
   "cell_type": "code",
   "execution_count": 160,
   "id": "c5b83bc2",
   "metadata": {},
   "outputs": [
    {
     "data": {
      "text/plain": [
       "0.08553094241302428"
      ]
     },
     "execution_count": 160,
     "metadata": {},
     "output_type": "execute_result"
    }
   ],
   "source": [
    "totalSharpness(model,inputData,response,numPerturbations=5000,percentPerturbation=0.44)"
   ]
  },
  {
   "cell_type": "code",
   "execution_count": 161,
   "id": "40bd6de8",
   "metadata": {},
   "outputs": [
    {
     "data": {
      "text/plain": [
       "0.06624989317455258"
      ]
     },
     "execution_count": 161,
     "metadata": {},
     "output_type": "execute_result"
    }
   ],
   "source": [
    "totalSharpness(model,inputData,response,numPerturbations=5000,percentPerturbation=0.32)"
   ]
  },
  {
   "cell_type": "code",
   "execution_count": 162,
   "id": "ffa3cac3",
   "metadata": {},
   "outputs": [
    {
     "data": {
      "text/plain": [
       "0.02654517142098708"
      ]
     },
     "execution_count": 162,
     "metadata": {},
     "output_type": "execute_result"
    }
   ],
   "source": [
    "totalSharpness(model,inputData,response,numPerturbations=5000,percentPerturbation=0.12)"
   ]
  },
  {
   "cell_type": "code",
   "execution_count": 163,
   "id": "d50bbf1f",
   "metadata": {},
   "outputs": [
    {
     "data": {
      "text/plain": [
       "0.017876555182076745"
      ]
     },
     "execution_count": 163,
     "metadata": {},
     "output_type": "execute_result"
    }
   ],
   "source": [
    "totalSharpness(model,inputData,response,numPerturbations=5000,percentPerturbation=0.08)"
   ]
  },
  {
   "cell_type": "code",
   "execution_count": 164,
   "id": "e6205e44",
   "metadata": {},
   "outputs": [
    {
     "data": {
      "image/png": "[encoded data removed]",
      "text/plain": [
       "<Figure size 1000x500 with 1 Axes>"
      ]
     },
     "metadata": {},
     "output_type": "display_data"
    }
   ],
   "source": [
    "import matplotlib.pyplot as plt \n",
    "\n",
    " \n",
    "# creating the dataset\n",
    "data = {'0.08':0.0178765,'0.12':0.026545,'0.32':0.06624989,'0.44':0.0855309,'0.62':0.1098291,'0.76':0.1201844,'1':0.1337047}\n",
    "courses = list(data.keys())\n",
    "values = list(data.values())\n",
    " \n",
    "fig = plt.figure(figsize = (10, 5))\n",
    "\n",
    "# creating the bar plot\n",
    "plt.bar(courses, values, color ='maroon', \n",
    "        width = 0.4)\n",
    "\n",
    "plt.xlabel(\"percentPerturbation\")\n",
    "plt.ylabel(\"Sharpness\")\n",
    "plt.title(\"Change in %Perturbation for Arctan Function\")\n",
    "plt.yscale(\"log\")\n",
    "plt.show()"
   ]
  },
  {
   "cell_type": "code",
   "execution_count": 165,
   "id": "3d288435",
   "metadata": {},
   "outputs": [],
   "source": [
    "#Tanh"
   ]
  },
  {
   "cell_type": "code",
   "execution_count": 166,
   "id": "4c68915f",
   "metadata": {},
   "outputs": [],
   "source": [
    "from StackGP import *\n",
    "import numpy as np"
   ]
  },
  {
   "cell_type": "code",
   "execution_count": 167,
   "id": "3a77930f",
   "metadata": {},
   "outputs": [],
   "source": [
    "inputData=[[1,2,3,4,5,6,7,8,9,10]]\n",
    "response=inputData[0]"
   ]
  },
  {
   "cell_type": "code",
   "execution_count": 168,
   "id": "ea57a3ae",
   "metadata": {},
   "outputs": [
    {
     "data": {
      "text/plain": [
       "[[1, 2, 3, 4, 5, 6, 7, 8, 9, 10]]"
      ]
     },
     "execution_count": 168,
     "metadata": {},
     "output_type": "execute_result"
    }
   ],
   "source": [
    "inputData"
   ]
  },
  {
   "cell_type": "code",
   "execution_count": 169,
   "id": "5b1152f3",
   "metadata": {},
   "outputs": [
    {
     "data": {
      "text/plain": [
       "[1, 2, 3, 4, 5, 6, 7, 8, 9, 10]"
      ]
     },
     "execution_count": 169,
     "metadata": {},
     "output_type": "execute_result"
    }
   ],
   "source": [
    "response"
   ]
  },
  {
   "cell_type": "code",
   "execution_count": 170,
   "id": "c96edf0c",
   "metadata": {},
   "outputs": [],
   "source": [
    "operators=allOps()"
   ]
  },
  {
   "cell_type": "code",
   "execution_count": 171,
   "id": "6a9dcc3d",
   "metadata": {},
   "outputs": [
    {
     "data": {
      "text/plain": [
       "[<function StackGP.protectDiv(a, b)>,\n",
       " <function StackGP.add(a, b)>,\n",
       " <function StackGP.sub(a, b)>,\n",
       " <function StackGP.mult(a, b)>,\n",
       " <function StackGP.exp(a)>,\n",
       " <function StackGP.sqrd(a)>,\n",
       " <function StackGP.sqrt(a)>,\n",
       " <function StackGP.inv(a)>,\n",
       " <function StackGP.cos(a)>,\n",
       " <function StackGP.sin(a)>,\n",
       " <function StackGP.tan(a)>,\n",
       " <function StackGP.arccos(a)>,\n",
       " <function StackGP.arcsin(a)>,\n",
       " <function StackGP.arctan(a)>,\n",
       " <function StackGP.tanh(a)>,\n",
       " <function StackGP.log(a)>,\n",
       " 'pop',\n",
       " 'pop',\n",
       " 'pop',\n",
       " 'pop',\n",
       " 'pop',\n",
       " 'pop',\n",
       " 'pop',\n",
       " 'pop',\n",
       " 'pop',\n",
       " 'pop']"
      ]
     },
     "execution_count": 171,
     "metadata": {},
     "output_type": "execute_result"
    }
   ],
   "source": [
    "operators"
   ]
  },
  {
   "cell_type": "code",
   "execution_count": 172,
   "id": "e6957368",
   "metadata": {},
   "outputs": [
    {
     "data": {
      "text/plain": [
       "<function StackGP.tanh(a)>"
      ]
     },
     "execution_count": 172,
     "metadata": {},
     "output_type": "execute_result"
    }
   ],
   "source": [
    "operators[14]"
   ]
  },
  {
   "cell_type": "code",
   "execution_count": 173,
   "id": "624040a0",
   "metadata": {},
   "outputs": [],
   "source": [
    "model=[np.array([operators[14]]),[variableSelect(0)],[]]"
   ]
  },
  {
   "cell_type": "code",
   "execution_count": 174,
   "id": "11cbfcf2",
   "metadata": {},
   "outputs": [
    {
     "data": {
      "text/plain": [
       "[array([<function tanh at 0x0000021768EDCF40>], dtype=object),\n",
       " [<function StackGP.variableSelect.<locals>.<lambda>(variables)>],\n",
       " []]"
      ]
     },
     "execution_count": 174,
     "metadata": {},
     "output_type": "execute_result"
    }
   ],
   "source": [
    "model"
   ]
  },
  {
   "cell_type": "code",
   "execution_count": 175,
   "id": "18a0e83a",
   "metadata": {},
   "outputs": [
    {
     "data": {
      "text/plain": [
       "0.09915813000097062"
      ]
     },
     "execution_count": 175,
     "metadata": {},
     "output_type": "execute_result"
    }
   ],
   "source": [
    "totalSharpness(model,inputData,response,numPerturbations=5000,percentPerturbation=1)"
   ]
  },
  {
   "cell_type": "code",
   "execution_count": 176,
   "id": "1832748e",
   "metadata": {},
   "outputs": [
    {
     "data": {
      "text/plain": [
       "0.07743735363746383"
      ]
     },
     "execution_count": 176,
     "metadata": {},
     "output_type": "execute_result"
    }
   ],
   "source": [
    "totalSharpness(model,inputData,response,numPerturbations=5000,percentPerturbation=0.52)"
   ]
  },
  {
   "cell_type": "code",
   "execution_count": 177,
   "id": "f63177b1",
   "metadata": {},
   "outputs": [
    {
     "data": {
      "text/plain": [
       "0.054792110476727426"
      ]
     },
     "execution_count": 177,
     "metadata": {},
     "output_type": "execute_result"
    }
   ],
   "source": [
    "totalSharpness(model,inputData,response,numPerturbations=5000,percentPerturbation=0.31)"
   ]
  },
  {
   "cell_type": "code",
   "execution_count": 178,
   "id": "b60a2af9",
   "metadata": {},
   "outputs": [
    {
     "data": {
      "text/plain": [
       "0.028876010600257154"
      ]
     },
     "execution_count": 178,
     "metadata": {},
     "output_type": "execute_result"
    }
   ],
   "source": [
    "totalSharpness(model,inputData,response,numPerturbations=5000,percentPerturbation=0.17)"
   ]
  },
  {
   "cell_type": "code",
   "execution_count": 179,
   "id": "9cd51a6d",
   "metadata": {},
   "outputs": [
    {
     "data": {
      "text/plain": [
       "0.012909177232615174"
      ]
     },
     "execution_count": 179,
     "metadata": {},
     "output_type": "execute_result"
    }
   ],
   "source": [
    "totalSharpness(model,inputData,response,numPerturbations=5000,percentPerturbation=0.08)"
   ]
  },
  {
   "cell_type": "code",
   "execution_count": 180,
   "id": "ef289611",
   "metadata": {},
   "outputs": [
    {
     "data": {
      "text/plain": [
       "0.008869755623904987"
      ]
     },
     "execution_count": 180,
     "metadata": {},
     "output_type": "execute_result"
    }
   ],
   "source": [
    "totalSharpness(model,inputData,response,numPerturbations=5000,percentPerturbation=0.055)"
   ]
  },
  {
   "cell_type": "code",
   "execution_count": 181,
   "id": "372b436c",
   "metadata": {},
   "outputs": [
    {
     "data": {
      "text/plain": [
       "0.004019294903395274"
      ]
     },
     "execution_count": 181,
     "metadata": {},
     "output_type": "execute_result"
    }
   ],
   "source": [
    "totalSharpness(model,inputData,response,numPerturbations=5000,percentPerturbation=0.025)"
   ]
  },
  {
   "cell_type": "code",
   "execution_count": 182,
   "id": "2716321a",
   "metadata": {},
   "outputs": [
    {
     "data": {
      "image/png": "[encoded data removed]",
      "text/plain": [
       "<Figure size 1000x500 with 1 Axes>"
      ]
     },
     "metadata": {},
     "output_type": "display_data"
    }
   ],
   "source": [
    "import matplotlib.pyplot as plt \n",
    "\n",
    " \n",
    "# creating the dataset\n",
    "data = {'0.025':0.0040192,'0.055':0.0088697,'0.08':0.01290917,'0.17':0.02887601,'0.31':0.0547921,'0.52':0.07743735,'1':0.099158}\n",
    "courses = list(data.keys())\n",
    "values = list(data.values())\n",
    " \n",
    "fig = plt.figure(figsize = (10, 5))\n",
    "\n",
    "# creating the bar plot\n",
    "plt.bar(courses, values, color ='maroon', \n",
    "        width = 0.4)\n",
    "\n",
    "plt.xlabel(\"percentPerturbation\")\n",
    "plt.ylabel(\"Sharpness\")\n",
    "plt.title(\"Change in %Perturbation for Tanh Function\")\n",
    "plt.yscale(\"log\")\n",
    "plt.show()"
   ]
  },
  {
   "cell_type": "code",
   "execution_count": 183,
   "id": "e7e75ba8",
   "metadata": {},
   "outputs": [],
   "source": [
    "#Log"
   ]
  },
  {
   "cell_type": "code",
   "execution_count": 184,
   "id": "62bc72dc",
   "metadata": {},
   "outputs": [],
   "source": [
    "from StackGP import *\n",
    "import numpy as np"
   ]
  },
  {
   "cell_type": "code",
   "execution_count": 185,
   "id": "2b59cd45",
   "metadata": {},
   "outputs": [],
   "source": [
    "inputData=[[1,2,3,4,5,6,7,8,9,10]]\n",
    "response=inputData[0]"
   ]
  },
  {
   "cell_type": "code",
   "execution_count": 186,
   "id": "df952f1b",
   "metadata": {},
   "outputs": [
    {
     "data": {
      "text/plain": [
       "[[1, 2, 3, 4, 5, 6, 7, 8, 9, 10]]"
      ]
     },
     "execution_count": 186,
     "metadata": {},
     "output_type": "execute_result"
    }
   ],
   "source": [
    "inputData"
   ]
  },
  {
   "cell_type": "code",
   "execution_count": 187,
   "id": "16b4f098",
   "metadata": {},
   "outputs": [
    {
     "data": {
      "text/plain": [
       "[1, 2, 3, 4, 5, 6, 7, 8, 9, 10]"
      ]
     },
     "execution_count": 187,
     "metadata": {},
     "output_type": "execute_result"
    }
   ],
   "source": [
    "response"
   ]
  },
  {
   "cell_type": "code",
   "execution_count": 188,
   "id": "fae10188",
   "metadata": {},
   "outputs": [],
   "source": [
    "operators=allOps()"
   ]
  },
  {
   "cell_type": "code",
   "execution_count": 189,
   "id": "09e6ffe3",
   "metadata": {},
   "outputs": [
    {
     "data": {
      "text/plain": [
       "[<function StackGP.protectDiv(a, b)>,\n",
       " <function StackGP.add(a, b)>,\n",
       " <function StackGP.sub(a, b)>,\n",
       " <function StackGP.mult(a, b)>,\n",
       " <function StackGP.exp(a)>,\n",
       " <function StackGP.sqrd(a)>,\n",
       " <function StackGP.sqrt(a)>,\n",
       " <function StackGP.inv(a)>,\n",
       " <function StackGP.cos(a)>,\n",
       " <function StackGP.sin(a)>,\n",
       " <function StackGP.tan(a)>,\n",
       " <function StackGP.arccos(a)>,\n",
       " <function StackGP.arcsin(a)>,\n",
       " <function StackGP.arctan(a)>,\n",
       " <function StackGP.tanh(a)>,\n",
       " <function StackGP.log(a)>,\n",
       " 'pop',\n",
       " 'pop',\n",
       " 'pop',\n",
       " 'pop',\n",
       " 'pop',\n",
       " 'pop',\n",
       " 'pop',\n",
       " 'pop',\n",
       " 'pop',\n",
       " 'pop']"
      ]
     },
     "execution_count": 189,
     "metadata": {},
     "output_type": "execute_result"
    }
   ],
   "source": [
    "operators"
   ]
  },
  {
   "cell_type": "code",
   "execution_count": 190,
   "id": "f1d92942",
   "metadata": {},
   "outputs": [
    {
     "data": {
      "text/plain": [
       "<function StackGP.log(a)>"
      ]
     },
     "execution_count": 190,
     "metadata": {},
     "output_type": "execute_result"
    }
   ],
   "source": [
    "operators[15]"
   ]
  },
  {
   "cell_type": "code",
   "execution_count": 191,
   "id": "1ea8907b",
   "metadata": {},
   "outputs": [],
   "source": [
    "model=[np.array([operators[15]]),[variableSelect(0)],[]]"
   ]
  },
  {
   "cell_type": "code",
   "execution_count": 192,
   "id": "935ae004",
   "metadata": {},
   "outputs": [
    {
     "data": {
      "text/plain": [
       "[array([<function log at 0x0000021768EDCFE0>], dtype=object),\n",
       " [<function StackGP.variableSelect.<locals>.<lambda>(variables)>],\n",
       " []]"
      ]
     },
     "execution_count": 192,
     "metadata": {},
     "output_type": "execute_result"
    }
   ],
   "source": [
    "model"
   ]
  },
  {
   "cell_type": "code",
   "execution_count": 193,
   "id": "1baf2c7a",
   "metadata": {},
   "outputs": [
    {
     "data": {
      "text/plain": [
       "nan"
      ]
     },
     "execution_count": 193,
     "metadata": {},
     "output_type": "execute_result"
    }
   ],
   "source": [
    "totalSharpness(model,inputData,response,numPerturbations=5000,percentPerturbation=1)"
   ]
  },
  {
   "cell_type": "code",
   "execution_count": 194,
   "id": "8e62acf2",
   "metadata": {},
   "outputs": [
    {
     "data": {
      "text/plain": [
       "nan"
      ]
     },
     "execution_count": 194,
     "metadata": {},
     "output_type": "execute_result"
    }
   ],
   "source": [
    "totalSharpness(model,inputData,response,numPerturbations=5000,percentPerturbation=0.77)"
   ]
  },
  {
   "cell_type": "code",
   "execution_count": 195,
   "id": "496b3cb0",
   "metadata": {},
   "outputs": [
    {
     "data": {
      "text/plain": [
       "0.027733320427344728"
      ]
     },
     "execution_count": 195,
     "metadata": {},
     "output_type": "execute_result"
    }
   ],
   "source": [
    "totalSharpness(model,inputData,response,numPerturbations=5000,percentPerturbation=0.23)"
   ]
  },
  {
   "cell_type": "code",
   "execution_count": 196,
   "id": "853cd634",
   "metadata": {},
   "outputs": [
    {
     "data": {
      "text/plain": [
       "0.022708920630771477"
      ]
     },
     "execution_count": 196,
     "metadata": {},
     "output_type": "execute_result"
    }
   ],
   "source": [
    "totalSharpness(model,inputData,response,numPerturbations=5000,percentPerturbation=0.19)"
   ]
  },
  {
   "cell_type": "code",
   "execution_count": 197,
   "id": "727c08c2",
   "metadata": {},
   "outputs": [
    {
     "data": {
      "text/plain": [
       "0.0035487230551342185"
      ]
     },
     "execution_count": 197,
     "metadata": {},
     "output_type": "execute_result"
    }
   ],
   "source": [
    "totalSharpness(model,inputData,response,numPerturbations=5000,percentPerturbation=0.03)"
   ]
  },
  {
   "cell_type": "code",
   "execution_count": 198,
   "id": "a7c8c82c",
   "metadata": {},
   "outputs": [
    {
     "data": {
      "text/plain": [
       "0.002586982839998126"
      ]
     },
     "execution_count": 198,
     "metadata": {},
     "output_type": "execute_result"
    }
   ],
   "source": [
    "totalSharpness(model,inputData,response,numPerturbations=5000,percentPerturbation=0.022)"
   ]
  },
  {
   "cell_type": "code",
   "execution_count": 199,
   "id": "2e287fd2",
   "metadata": {},
   "outputs": [
    {
     "data": {
      "text/plain": [
       "0.0008444967340031873"
      ]
     },
     "execution_count": 199,
     "metadata": {},
     "output_type": "execute_result"
    }
   ],
   "source": [
    "totalSharpness(model,inputData,response,numPerturbations=5000,percentPerturbation=0.007)"
   ]
  },
  {
   "cell_type": "code",
   "execution_count": 200,
   "id": "0f8652cb",
   "metadata": {},
   "outputs": [
    {
     "data": {
      "image/png": "[encoded data removed]",
      "text/plain": [
       "<Figure size 1000x500 with 1 Axes>"
      ]
     },
     "metadata": {},
     "output_type": "display_data"
    }
   ],
   "source": [
    "import matplotlib.pyplot as plt \n",
    "\n",
    " \n",
    "# creating the dataset\n",
    "data = {'0.007':0.000844496,'0.022':0.002586,'0.03':0.00354872,'0.19':0.0227089,'0.23':0.0277333,'0.77':1,'1':1}\n",
    "courses = list(data.keys())\n",
    "values = list(data.values())\n",
    " \n",
    "fig = plt.figure(figsize = (10, 5))\n",
    "\n",
    "# creating the bar plot\n",
    "plt.bar(courses, values, color ='maroon', \n",
    "        width = 0.4)\n",
    "\n",
    "plt.xlabel(\"percentPerturbation\")\n",
    "plt.ylabel(\"Sharpness\")\n",
    "plt.title(\"Change in %Perturbation for Log Function\")\n",
    "plt.yscale(\"log\")\n",
    "plt.show()"
   ]
  },
  {
   "cell_type": "code",
   "execution_count": null,
   "id": "7439ce26",
   "metadata": {},
   "outputs": [],
   "source": []
  }
 ],
 "metadata": {
  "kernelspec": {
   "display_name": "Python 3 (ipykernel)",
   "language": "python",
   "name": "python3"
  },
  "language_info": {
   "codemirror_mode": {
    "name": "ipython",
    "version": 3
   },
   "file_extension": ".py",
   "mimetype": "text/x-python",
   "name": "python",
   "nbconvert_exporter": "python",
   "pygments_lexer": "ipython3",
   "version": "3.11.3"
  }
 },
 "nbformat": 4,
 "nbformat_minor": 5
}
