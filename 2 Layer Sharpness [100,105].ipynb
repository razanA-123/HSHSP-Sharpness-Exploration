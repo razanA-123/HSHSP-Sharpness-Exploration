{
 "cells": [
  {
   "cell_type": "markdown",
   "id": "76aae25c",
   "metadata": {},
   "source": [
    "# Same Operators"
   ]
  },
  {
   "cell_type": "code",
   "execution_count": 1,
   "id": "2a2c6ecc",
   "metadata": {},
   "outputs": [],
   "source": [
    "from StackGP import *\n",
    "import numpy as np"
   ]
  },
  {
   "cell_type": "code",
   "execution_count": 2,
   "id": "37ec1852",
   "metadata": {},
   "outputs": [],
   "source": [
    "operators=allOps()"
   ]
  },
  {
   "cell_type": "code",
   "execution_count": 3,
   "id": "53bd0916",
   "metadata": {},
   "outputs": [],
   "source": [
    "#Define sine function to generate data\n",
    "def sinFunc(x0):\n",
    "    return np.sin(x0)"
   ]
  },
  {
   "cell_type": "code",
   "execution_count": 4,
   "id": "395aa5d2",
   "metadata": {},
   "outputs": [],
   "source": [
    "sinModel=[np.array([operators[9],operators[9]]),[variableSelect(0)],[]]"
   ]
  },
  {
   "cell_type": "code",
   "execution_count": 5,
   "id": "360c4345",
   "metadata": {},
   "outputs": [
    {
     "data": {
      "text/plain": [
       "[array([<function sin at 0x000002C52F9D8B80>,\n",
       "        <function sin at 0x000002C52F9D8B80>], dtype=object),\n",
       " [<function StackGP.variableSelect.<locals>.<lambda>(variables)>],\n",
       " []]"
      ]
     },
     "execution_count": 5,
     "metadata": {},
     "output_type": "execute_result"
    }
   ],
   "source": [
    "sinModel"
   ]
  },
  {
   "cell_type": "code",
   "execution_count": 6,
   "id": "20548591",
   "metadata": {},
   "outputs": [],
   "source": [
    "inputData=np.array([np.arange(100,105,.0013)])\n",
    "response=inputData[0]"
   ]
  },
  {
   "cell_type": "code",
   "execution_count": 7,
   "id": "12560a19",
   "metadata": {},
   "outputs": [
    {
     "data": {
      "text/plain": [
       "0.0016134197848438011"
      ]
     },
     "execution_count": 7,
     "metadata": {},
     "output_type": "execute_result"
    }
   ],
   "source": [
    "totalSharpness(sinModel,inputData,response,numPerturbations=4000,percentPerturbation=0.2)"
   ]
  },
  {
   "cell_type": "code",
   "execution_count": null,
   "id": "479ddf1e",
   "metadata": {},
   "outputs": [],
   "source": []
  },
  {
   "cell_type": "code",
   "execution_count": 8,
   "id": "c6e73cb4",
   "metadata": {},
   "outputs": [],
   "source": [
    "from StackGP import *\n",
    "import numpy as np"
   ]
  },
  {
   "cell_type": "code",
   "execution_count": 9,
   "id": "1496c538",
   "metadata": {},
   "outputs": [],
   "source": [
    "operators=allOps()"
   ]
  },
  {
   "cell_type": "code",
   "execution_count": 10,
   "id": "8dd5ffd6",
   "metadata": {},
   "outputs": [],
   "source": [
    "#Define cosine function to generate data\n",
    "def cosFunc(x0):\n",
    "    return np.cos(x0)"
   ]
  },
  {
   "cell_type": "code",
   "execution_count": 11,
   "id": "b26b4109",
   "metadata": {},
   "outputs": [],
   "source": [
    "cosModel=[np.array([operators[8],operators[8]]),[variableSelect(0)],[]]"
   ]
  },
  {
   "cell_type": "code",
   "execution_count": 12,
   "id": "c512d7dd",
   "metadata": {},
   "outputs": [
    {
     "data": {
      "text/plain": [
       "[array([<function cos at 0x000002C52F9D8C20>,\n",
       "        <function cos at 0x000002C52F9D8C20>], dtype=object),\n",
       " [<function StackGP.variableSelect.<locals>.<lambda>(variables)>],\n",
       " []]"
      ]
     },
     "execution_count": 12,
     "metadata": {},
     "output_type": "execute_result"
    }
   ],
   "source": [
    "cosModel"
   ]
  },
  {
   "cell_type": "code",
   "execution_count": 13,
   "id": "483de19a",
   "metadata": {},
   "outputs": [],
   "source": [
    "inputData=np.array([np.arange(100,105,.0013)])\n",
    "response=inputData[0]"
   ]
  },
  {
   "cell_type": "code",
   "execution_count": 14,
   "id": "d3b466e2",
   "metadata": {},
   "outputs": [
    {
     "data": {
      "text/plain": [
       "0.0008703123699251746"
      ]
     },
     "execution_count": 14,
     "metadata": {},
     "output_type": "execute_result"
    }
   ],
   "source": [
    "totalSharpness(cosModel,inputData,response,numPerturbations=4000,percentPerturbation=0.2)"
   ]
  },
  {
   "cell_type": "code",
   "execution_count": null,
   "id": "30c85eb1",
   "metadata": {},
   "outputs": [],
   "source": []
  },
  {
   "cell_type": "code",
   "execution_count": 15,
   "id": "27376246",
   "metadata": {},
   "outputs": [],
   "source": [
    "from StackGP import *\n",
    "import numpy as np"
   ]
  },
  {
   "cell_type": "code",
   "execution_count": 16,
   "id": "9de362b5",
   "metadata": {},
   "outputs": [],
   "source": [
    "operators=allOps()"
   ]
  },
  {
   "cell_type": "code",
   "execution_count": 17,
   "id": "66fccf65",
   "metadata": {},
   "outputs": [],
   "source": [
    "#Define tangent function to generate data\n",
    "def tanFunc(x0):\n",
    "    return np.tan(x0)"
   ]
  },
  {
   "cell_type": "code",
   "execution_count": 18,
   "id": "8a82f530",
   "metadata": {},
   "outputs": [],
   "source": [
    "tanModel=[np.array([operators[10],operators[10]]),[variableSelect(0)],[]]"
   ]
  },
  {
   "cell_type": "code",
   "execution_count": 19,
   "id": "adde41e9",
   "metadata": {},
   "outputs": [
    {
     "data": {
      "text/plain": [
       "[array([<function tan at 0x000002C52F9D8CC0>,\n",
       "        <function tan at 0x000002C52F9D8CC0>], dtype=object),\n",
       " [<function StackGP.variableSelect.<locals>.<lambda>(variables)>],\n",
       " []]"
      ]
     },
     "execution_count": 19,
     "metadata": {},
     "output_type": "execute_result"
    }
   ],
   "source": [
    "tanModel"
   ]
  },
  {
   "cell_type": "code",
   "execution_count": 20,
   "id": "30af6866",
   "metadata": {},
   "outputs": [],
   "source": [
    "inputData=np.array([np.arange(100,105,.0013)])\n",
    "response=inputData[0]"
   ]
  },
  {
   "cell_type": "code",
   "execution_count": 21,
   "id": "42c2c7ae",
   "metadata": {},
   "outputs": [
    {
     "data": {
      "text/plain": [
       "0.0002742877580862467"
      ]
     },
     "execution_count": 21,
     "metadata": {},
     "output_type": "execute_result"
    }
   ],
   "source": [
    "totalSharpness(tanModel,inputData,response,numPerturbations=4000,percentPerturbation=0.2)"
   ]
  },
  {
   "cell_type": "code",
   "execution_count": null,
   "id": "433286b0",
   "metadata": {},
   "outputs": [],
   "source": []
  },
  {
   "cell_type": "code",
   "execution_count": 22,
   "id": "7005a7f5",
   "metadata": {},
   "outputs": [],
   "source": [
    "from StackGP import *\n",
    "import numpy as np"
   ]
  },
  {
   "cell_type": "code",
   "execution_count": 23,
   "id": "87261d57",
   "metadata": {},
   "outputs": [],
   "source": [
    "operators=allOps()"
   ]
  },
  {
   "cell_type": "code",
   "execution_count": 24,
   "id": "fd5cf0b1",
   "metadata": {},
   "outputs": [],
   "source": [
    "#Define exponent function to generate data\n",
    "def expFunc(x0):\n",
    "    return np.exp(x0)"
   ]
  },
  {
   "cell_type": "code",
   "execution_count": 25,
   "id": "9e6d6367",
   "metadata": {},
   "outputs": [],
   "source": [
    "expModel=[np.array([operators[4],operators[4]]),[variableSelect(0)],[]]"
   ]
  },
  {
   "cell_type": "code",
   "execution_count": 26,
   "id": "3602b9be",
   "metadata": {},
   "outputs": [
    {
     "data": {
      "text/plain": [
       "[array([<function exp at 0x000002C52F9D8860>,\n",
       "        <function exp at 0x000002C52F9D8860>], dtype=object),\n",
       " [<function StackGP.variableSelect.<locals>.<lambda>(variables)>],\n",
       " []]"
      ]
     },
     "execution_count": 26,
     "metadata": {},
     "output_type": "execute_result"
    }
   ],
   "source": [
    "expModel"
   ]
  },
  {
   "cell_type": "code",
   "execution_count": 27,
   "id": "4bdd1672",
   "metadata": {},
   "outputs": [],
   "source": [
    "inputData=np.array([np.arange(100,105,.0013)])\n",
    "response=inputData[0]"
   ]
  },
  {
   "cell_type": "code",
   "execution_count": 28,
   "id": "faaa8f9e",
   "metadata": {},
   "outputs": [
    {
     "data": {
      "text/plain": [
       "nan"
      ]
     },
     "execution_count": 28,
     "metadata": {},
     "output_type": "execute_result"
    }
   ],
   "source": [
    "totalSharpness(expModel,inputData,response,numPerturbations=4000,percentPerturbation=0.2)"
   ]
  },
  {
   "cell_type": "code",
   "execution_count": null,
   "id": "901cd50b",
   "metadata": {},
   "outputs": [],
   "source": []
  },
  {
   "cell_type": "code",
   "execution_count": 29,
   "id": "bf359f00",
   "metadata": {},
   "outputs": [],
   "source": [
    "from StackGP import *\n",
    "import numpy as np"
   ]
  },
  {
   "cell_type": "code",
   "execution_count": 30,
   "id": "ce0671fe",
   "metadata": {},
   "outputs": [],
   "source": [
    "operators=allOps()"
   ]
  },
  {
   "cell_type": "code",
   "execution_count": 31,
   "id": "7186bcf4",
   "metadata": {},
   "outputs": [],
   "source": [
    "#Define squared function to generate data\n",
    "def sqrdFunc(x0):\n",
    "    return np.sqrd(x0)"
   ]
  },
  {
   "cell_type": "code",
   "execution_count": 32,
   "id": "af5d619b",
   "metadata": {},
   "outputs": [],
   "source": [
    "sqrdModel=[np.array([operators[5],operators[5]]),[variableSelect(0)],[]]"
   ]
  },
  {
   "cell_type": "code",
   "execution_count": 33,
   "id": "0078d90f",
   "metadata": {},
   "outputs": [
    {
     "data": {
      "text/plain": [
       "[array([<function sqrd at 0x000002C52F9D8A40>,\n",
       "        <function sqrd at 0x000002C52F9D8A40>], dtype=object),\n",
       " [<function StackGP.variableSelect.<locals>.<lambda>(variables)>],\n",
       " []]"
      ]
     },
     "execution_count": 33,
     "metadata": {},
     "output_type": "execute_result"
    }
   ],
   "source": [
    "sqrdModel"
   ]
  },
  {
   "cell_type": "code",
   "execution_count": 34,
   "id": "2fb5ae4b",
   "metadata": {},
   "outputs": [],
   "source": [
    "inputData=np.array([np.arange(100,105,.0013)])\n",
    "response=inputData[0]"
   ]
  },
  {
   "cell_type": "code",
   "execution_count": 35,
   "id": "cdd3b439",
   "metadata": {},
   "outputs": [
    {
     "data": {
      "text/plain": [
       "6.094576240867462e-05"
      ]
     },
     "execution_count": 35,
     "metadata": {},
     "output_type": "execute_result"
    }
   ],
   "source": [
    "totalSharpness(sqrdModel,inputData,response,numPerturbations=4000,percentPerturbation=0.2)"
   ]
  },
  {
   "cell_type": "code",
   "execution_count": null,
   "id": "9ad44a07",
   "metadata": {},
   "outputs": [],
   "source": []
  },
  {
   "cell_type": "code",
   "execution_count": 36,
   "id": "6f1dbbf4",
   "metadata": {},
   "outputs": [],
   "source": [
    "from StackGP import *\n",
    "import numpy as np"
   ]
  },
  {
   "cell_type": "code",
   "execution_count": 37,
   "id": "56396bfe",
   "metadata": {},
   "outputs": [],
   "source": [
    "operators=allOps()"
   ]
  },
  {
   "cell_type": "code",
   "execution_count": 38,
   "id": "a693d7ff",
   "metadata": {},
   "outputs": [],
   "source": [
    "#Define square root function to generate data\n",
    "def sqrtFunc(x0):\n",
    "    return np.sqrt(x0)"
   ]
  },
  {
   "cell_type": "code",
   "execution_count": 39,
   "id": "15227d52",
   "metadata": {},
   "outputs": [],
   "source": [
    "sqrtModel=[np.array([operators[6],operators[6]]),[variableSelect(0)],[]]"
   ]
  },
  {
   "cell_type": "code",
   "execution_count": 40,
   "id": "ae033f69",
   "metadata": {},
   "outputs": [
    {
     "data": {
      "text/plain": [
       "[array([<function sqrt at 0x000002C52F9D89A0>,\n",
       "        <function sqrt at 0x000002C52F9D89A0>], dtype=object),\n",
       " [<function StackGP.variableSelect.<locals>.<lambda>(variables)>],\n",
       " []]"
      ]
     },
     "execution_count": 40,
     "metadata": {},
     "output_type": "execute_result"
    }
   ],
   "source": [
    "sqrtModel"
   ]
  },
  {
   "cell_type": "code",
   "execution_count": 41,
   "id": "6e2dbcf2",
   "metadata": {},
   "outputs": [],
   "source": [
    "inputData=np.array([np.arange(100,105,.0013)])\n",
    "response=inputData[0]"
   ]
  },
  {
   "cell_type": "code",
   "execution_count": 42,
   "id": "c79c607a",
   "metadata": {},
   "outputs": [
    {
     "data": {
      "text/plain": [
       "4.946007995500143e-05"
      ]
     },
     "execution_count": 42,
     "metadata": {},
     "output_type": "execute_result"
    }
   ],
   "source": [
    "totalSharpness(sqrtModel,inputData,response,numPerturbations=4000,percentPerturbation=0.2)"
   ]
  },
  {
   "cell_type": "code",
   "execution_count": null,
   "id": "ce19721c",
   "metadata": {},
   "outputs": [],
   "source": []
  },
  {
   "cell_type": "code",
   "execution_count": 43,
   "id": "116f4479",
   "metadata": {},
   "outputs": [],
   "source": [
    "from StackGP import *\n",
    "import numpy as np"
   ]
  },
  {
   "cell_type": "code",
   "execution_count": 44,
   "id": "acae336a",
   "metadata": {},
   "outputs": [],
   "source": [
    "operators=allOps()"
   ]
  },
  {
   "cell_type": "code",
   "execution_count": 45,
   "id": "4c487ea1",
   "metadata": {},
   "outputs": [],
   "source": [
    "#Define inverse function to generate data\n",
    "def invFunc(x0):\n",
    "    return np.inv(x0)"
   ]
  },
  {
   "cell_type": "code",
   "execution_count": 46,
   "id": "ee4eb43b",
   "metadata": {},
   "outputs": [],
   "source": [
    "invModel=[np.array([operators[7],operators[7]]),[variableSelect(0)],[]]"
   ]
  },
  {
   "cell_type": "code",
   "execution_count": 47,
   "id": "988f0380",
   "metadata": {},
   "outputs": [
    {
     "data": {
      "text/plain": [
       "[array([<function inv at 0x000002C52F9D8AE0>,\n",
       "        <function inv at 0x000002C52F9D8AE0>], dtype=object),\n",
       " [<function StackGP.variableSelect.<locals>.<lambda>(variables)>],\n",
       " []]"
      ]
     },
     "execution_count": 47,
     "metadata": {},
     "output_type": "execute_result"
    }
   ],
   "source": [
    "invModel"
   ]
  },
  {
   "cell_type": "code",
   "execution_count": 49,
   "id": "4c776a12",
   "metadata": {},
   "outputs": [],
   "source": [
    "inputData=np.array([np.arange(100,105,.0013)])\n",
    "response=inputData[0]"
   ]
  },
  {
   "cell_type": "code",
   "execution_count": 50,
   "id": "d33bd2d6",
   "metadata": {},
   "outputs": [
    {
     "data": {
      "text/plain": [
       "4.824986167969973e-05"
      ]
     },
     "execution_count": 50,
     "metadata": {},
     "output_type": "execute_result"
    }
   ],
   "source": [
    "totalSharpness(invModel,inputData,response,numPerturbations=4000,percentPerturbation=0.2)"
   ]
  },
  {
   "cell_type": "code",
   "execution_count": null,
   "id": "b3bd1b92",
   "metadata": {},
   "outputs": [],
   "source": []
  },
  {
   "cell_type": "code",
   "execution_count": 51,
   "id": "af54a7f7",
   "metadata": {},
   "outputs": [],
   "source": [
    "from StackGP import *\n",
    "import numpy as np"
   ]
  },
  {
   "cell_type": "code",
   "execution_count": 52,
   "id": "402421ee",
   "metadata": {},
   "outputs": [],
   "source": [
    "operators=allOps()"
   ]
  },
  {
   "cell_type": "code",
   "execution_count": 53,
   "id": "c125fc17",
   "metadata": {},
   "outputs": [],
   "source": [
    "#Define arctan function to generate data\n",
    "def arctanFunc(x0):\n",
    "    return np.arctan(x0)"
   ]
  },
  {
   "cell_type": "code",
   "execution_count": 54,
   "id": "c8e87f9a",
   "metadata": {},
   "outputs": [],
   "source": [
    "arctanModel=[np.array([operators[13],operators[13]]),[variableSelect(0)],[]]"
   ]
  },
  {
   "cell_type": "code",
   "execution_count": 55,
   "id": "d4683048",
   "metadata": {},
   "outputs": [
    {
     "data": {
      "text/plain": [
       "[array([<function arctan at 0x000002C52F9D8EA0>,\n",
       "        <function arctan at 0x000002C52F9D8EA0>], dtype=object),\n",
       " [<function StackGP.variableSelect.<locals>.<lambda>(variables)>],\n",
       " []]"
      ]
     },
     "execution_count": 55,
     "metadata": {},
     "output_type": "execute_result"
    }
   ],
   "source": [
    "arctanModel"
   ]
  },
  {
   "cell_type": "code",
   "execution_count": 56,
   "id": "707af04a",
   "metadata": {},
   "outputs": [],
   "source": [
    "inputData=np.array([np.arange(100,105,.0013)])\n",
    "response=inputData[0]"
   ]
  },
  {
   "cell_type": "code",
   "execution_count": 57,
   "id": "26543a92",
   "metadata": {},
   "outputs": [
    {
     "data": {
      "text/plain": [
       "5.441132403063277e-05"
      ]
     },
     "execution_count": 57,
     "metadata": {},
     "output_type": "execute_result"
    }
   ],
   "source": [
    "totalSharpness(arctanModel,inputData,response,numPerturbations=4000,percentPerturbation=0.2)"
   ]
  },
  {
   "cell_type": "code",
   "execution_count": null,
   "id": "d9d70194",
   "metadata": {},
   "outputs": [],
   "source": []
  },
  {
   "cell_type": "code",
   "execution_count": 58,
   "id": "1da064f1",
   "metadata": {},
   "outputs": [],
   "source": [
    "from StackGP import *\n",
    "import numpy as np"
   ]
  },
  {
   "cell_type": "code",
   "execution_count": 59,
   "id": "300e1528",
   "metadata": {},
   "outputs": [],
   "source": [
    "operators=allOps()"
   ]
  },
  {
   "cell_type": "code",
   "execution_count": 60,
   "id": "50c9b921",
   "metadata": {},
   "outputs": [],
   "source": [
    "#Define tanh function to generate data\n",
    "def tanhFunc(x0):\n",
    "    return np.tanh(x0)"
   ]
  },
  {
   "cell_type": "code",
   "execution_count": 61,
   "id": "645ae1c2",
   "metadata": {},
   "outputs": [],
   "source": [
    "tanhModel=[np.array([operators[14],operators[14]]),[variableSelect(0)],[]]"
   ]
  },
  {
   "cell_type": "code",
   "execution_count": 62,
   "id": "7f60dc0e",
   "metadata": {},
   "outputs": [
    {
     "data": {
      "text/plain": [
       "[array([<function tanh at 0x000002C52F9D8F40>,\n",
       "        <function tanh at 0x000002C52F9D8F40>], dtype=object),\n",
       " [<function StackGP.variableSelect.<locals>.<lambda>(variables)>],\n",
       " []]"
      ]
     },
     "execution_count": 62,
     "metadata": {},
     "output_type": "execute_result"
    }
   ],
   "source": [
    "tanhModel"
   ]
  },
  {
   "cell_type": "code",
   "execution_count": 63,
   "id": "7e0937e9",
   "metadata": {},
   "outputs": [],
   "source": [
    "inputData=np.array([np.arange(100,105,.0013)])\n",
    "response=inputData[0]"
   ]
  },
  {
   "cell_type": "code",
   "execution_count": 64,
   "id": "a348a806",
   "metadata": {},
   "outputs": [
    {
     "data": {
      "text/plain": [
       "nan"
      ]
     },
     "execution_count": 64,
     "metadata": {},
     "output_type": "execute_result"
    }
   ],
   "source": [
    "totalSharpness(tanhModel,inputData,response,numPerturbations=4000,percentPerturbation=0.2)"
   ]
  },
  {
   "cell_type": "code",
   "execution_count": null,
   "id": "08a4d3aa",
   "metadata": {},
   "outputs": [],
   "source": []
  },
  {
   "cell_type": "code",
   "execution_count": 65,
   "id": "04eefd93",
   "metadata": {},
   "outputs": [],
   "source": [
    "from StackGP import *\n",
    "import numpy as np"
   ]
  },
  {
   "cell_type": "code",
   "execution_count": 66,
   "id": "f065b328",
   "metadata": {},
   "outputs": [],
   "source": [
    "operators=allOps()"
   ]
  },
  {
   "cell_type": "code",
   "execution_count": 67,
   "id": "3a1c1489",
   "metadata": {},
   "outputs": [],
   "source": [
    "#Define log function to generate data\n",
    "def logFunc(x0):\n",
    "    return np.log(x0)"
   ]
  },
  {
   "cell_type": "code",
   "execution_count": 68,
   "id": "5788d05d",
   "metadata": {},
   "outputs": [],
   "source": [
    "logModel=[np.array([operators[15],operators[15]]),[variableSelect(0)],[]]"
   ]
  },
  {
   "cell_type": "code",
   "execution_count": 69,
   "id": "dcc9ae92",
   "metadata": {},
   "outputs": [
    {
     "data": {
      "text/plain": [
       "[array([<function log at 0x000002C52F9D8FE0>,\n",
       "        <function log at 0x000002C52F9D8FE0>], dtype=object),\n",
       " [<function StackGP.variableSelect.<locals>.<lambda>(variables)>],\n",
       " []]"
      ]
     },
     "execution_count": 69,
     "metadata": {},
     "output_type": "execute_result"
    }
   ],
   "source": [
    "logModel"
   ]
  },
  {
   "cell_type": "code",
   "execution_count": 70,
   "id": "d582c8a2",
   "metadata": {},
   "outputs": [],
   "source": [
    "inputData=np.array([np.arange(100,105,.0013)])\n",
    "response=inputData[0]"
   ]
  },
  {
   "cell_type": "code",
   "execution_count": 71,
   "id": "c76419f9",
   "metadata": {},
   "outputs": [
    {
     "data": {
      "text/plain": [
       "5.0334816333095844e-05"
      ]
     },
     "execution_count": 71,
     "metadata": {},
     "output_type": "execute_result"
    }
   ],
   "source": [
    "totalSharpness(logModel,inputData,response,numPerturbations=4000,percentPerturbation=0.2)"
   ]
  },
  {
   "cell_type": "code",
   "execution_count": null,
   "id": "80aea863",
   "metadata": {},
   "outputs": [],
   "source": []
  },
  {
   "cell_type": "code",
   "execution_count": 72,
   "id": "15c1a42d",
   "metadata": {},
   "outputs": [
    {
     "data": {
      "image/png": "[encoded data removed]",
      "text/plain": [
       "<Figure size 1000x500 with 1 Axes>"
      ]
     },
     "metadata": {},
     "output_type": "display_data"
    }
   ],
   "source": [
    "import numpy as np\n",
    "import matplotlib.pyplot as plt \n",
    "\n",
    "\n",
    "# creating the dataset\n",
    "data = {'exp':1,'tanh':1,'sin':0.0016184,'cos':0.00087031,'tan':0.00027428,'sqrd':0.0000609451,'arctan':0.0000544113,'log':0.0000503348,'sqrt':0.00004946,'inv':0.000048249}\n",
    "courses = list(data.keys())\n",
    "values = list(data.values())\n",
    "\n",
    "fig = plt.figure(figsize = (10, 5))\n",
    "\n",
    "# creating the bar plot\n",
    "plt.bar(courses, values, color ='maroon', \n",
    "\t\twidth = 0.4)\n",
    "\n",
    "plt.xlabel(\"Function\")\n",
    "plt.ylabel(\"Sharpness\")\n",
    "plt.title(\"Sharpness for each function combined with itself [100,105]\")\n",
    "plt.yscale(\"log\")\n",
    "plt.show()\n"
   ]
  },
  {
   "cell_type": "markdown",
   "id": "e6506ada",
   "metadata": {},
   "source": [
    "# Sin Function Combinations "
   ]
  },
  {
   "cell_type": "code",
   "execution_count": 73,
   "id": "1bb3edfe",
   "metadata": {},
   "outputs": [],
   "source": [
    "from StackGP import *\n",
    "import numpy as np"
   ]
  },
  {
   "cell_type": "code",
   "execution_count": 74,
   "id": "13593ea9",
   "metadata": {},
   "outputs": [],
   "source": [
    "operators=allOps()"
   ]
  },
  {
   "cell_type": "code",
   "execution_count": 75,
   "id": "9b592106",
   "metadata": {},
   "outputs": [],
   "source": [
    "#Define sine function to generate data\n",
    "def sinFunc(x0):\n",
    "    return np.sin(x0)"
   ]
  },
  {
   "cell_type": "code",
   "execution_count": 76,
   "id": "71d694c3",
   "metadata": {},
   "outputs": [],
   "source": [
    "sinModel=[np.array([operators[9],operators[4]]),[variableSelect(0)],[]]"
   ]
  },
  {
   "cell_type": "code",
   "execution_count": 77,
   "id": "2d27a5fa",
   "metadata": {},
   "outputs": [
    {
     "data": {
      "text/plain": [
       "[array([<function sin at 0x000002C52F9D8B80>,\n",
       "        <function exp at 0x000002C52F9D8860>], dtype=object),\n",
       " [<function StackGP.variableSelect.<locals>.<lambda>(variables)>],\n",
       " []]"
      ]
     },
     "execution_count": 77,
     "metadata": {},
     "output_type": "execute_result"
    }
   ],
   "source": [
    "sinModel"
   ]
  },
  {
   "cell_type": "code",
   "execution_count": 78,
   "id": "00d5a9c1",
   "metadata": {},
   "outputs": [],
   "source": [
    "inputData=np.array([np.arange(100,105,.0013)])\n",
    "response=inputData[0]"
   ]
  },
  {
   "cell_type": "code",
   "execution_count": 79,
   "id": "c6d2f84b",
   "metadata": {},
   "outputs": [
    {
     "data": {
      "text/plain": [
       "0.0010217044069348203"
      ]
     },
     "execution_count": 79,
     "metadata": {},
     "output_type": "execute_result"
    }
   ],
   "source": [
    "totalSharpness(sinModel,inputData,response,numPerturbations=4000,percentPerturbation=0.2)"
   ]
  },
  {
   "cell_type": "code",
   "execution_count": null,
   "id": "c53f342f",
   "metadata": {},
   "outputs": [],
   "source": []
  },
  {
   "cell_type": "code",
   "execution_count": 80,
   "id": "c3e1330f",
   "metadata": {},
   "outputs": [],
   "source": [
    "from StackGP import *\n",
    "import numpy as np"
   ]
  },
  {
   "cell_type": "code",
   "execution_count": 81,
   "id": "db513a02",
   "metadata": {},
   "outputs": [],
   "source": [
    "operators=allOps()"
   ]
  },
  {
   "cell_type": "code",
   "execution_count": 82,
   "id": "476f67ac",
   "metadata": {},
   "outputs": [],
   "source": [
    "#Define sine function to generate data\n",
    "def sinFunc(x0):\n",
    "    return np.sin(x0)"
   ]
  },
  {
   "cell_type": "code",
   "execution_count": 83,
   "id": "e4b11ab7",
   "metadata": {},
   "outputs": [],
   "source": [
    "sinModel=[np.array([operators[9],operators[5]]),[variableSelect(0)],[]]"
   ]
  },
  {
   "cell_type": "code",
   "execution_count": 84,
   "id": "3e72973d",
   "metadata": {},
   "outputs": [
    {
     "data": {
      "text/plain": [
       "[array([<function sin at 0x000002C52F9D8B80>,\n",
       "        <function sqrd at 0x000002C52F9D8A40>], dtype=object),\n",
       " [<function StackGP.variableSelect.<locals>.<lambda>(variables)>],\n",
       " []]"
      ]
     },
     "execution_count": 84,
     "metadata": {},
     "output_type": "execute_result"
    }
   ],
   "source": [
    "sinModel"
   ]
  },
  {
   "cell_type": "code",
   "execution_count": 85,
   "id": "9071c91c",
   "metadata": {},
   "outputs": [],
   "source": [
    "inputData=np.array([np.arange(100,105,.0013)])\n",
    "response=inputData[0]"
   ]
  },
  {
   "cell_type": "code",
   "execution_count": 86,
   "id": "77dc2019",
   "metadata": {},
   "outputs": [
    {
     "data": {
      "text/plain": [
       "0.0009169702889245784"
      ]
     },
     "execution_count": 86,
     "metadata": {},
     "output_type": "execute_result"
    }
   ],
   "source": [
    "totalSharpness(sinModel,inputData,response,numPerturbations=4000,percentPerturbation=0.2)"
   ]
  },
  {
   "cell_type": "code",
   "execution_count": null,
   "id": "c95740ed",
   "metadata": {},
   "outputs": [],
   "source": []
  },
  {
   "cell_type": "code",
   "execution_count": 87,
   "id": "9fdeca86",
   "metadata": {},
   "outputs": [],
   "source": [
    "from StackGP import *\n",
    "import numpy as np"
   ]
  },
  {
   "cell_type": "code",
   "execution_count": 88,
   "id": "70592b52",
   "metadata": {},
   "outputs": [],
   "source": [
    "operators=allOps()"
   ]
  },
  {
   "cell_type": "code",
   "execution_count": 89,
   "id": "f8e5078d",
   "metadata": {},
   "outputs": [],
   "source": [
    "#Define sine function to generate data\n",
    "def sinFunc(x0):\n",
    "    return np.sin(x0)"
   ]
  },
  {
   "cell_type": "code",
   "execution_count": 90,
   "id": "04605db2",
   "metadata": {},
   "outputs": [],
   "source": [
    "sinModel=[np.array([operators[9],operators[6]]),[variableSelect(0)],[]]"
   ]
  },
  {
   "cell_type": "code",
   "execution_count": 91,
   "id": "54637df6",
   "metadata": {},
   "outputs": [
    {
     "data": {
      "text/plain": [
       "[array([<function sin at 0x000002C52F9D8B80>,\n",
       "        <function sqrt at 0x000002C52F9D89A0>], dtype=object),\n",
       " [<function StackGP.variableSelect.<locals>.<lambda>(variables)>],\n",
       " []]"
      ]
     },
     "execution_count": 91,
     "metadata": {},
     "output_type": "execute_result"
    }
   ],
   "source": [
    "sinModel"
   ]
  },
  {
   "cell_type": "code",
   "execution_count": 92,
   "id": "34fc74e3",
   "metadata": {},
   "outputs": [],
   "source": [
    "inputData=np.array([np.arange(100,105,.0013)])\n",
    "response=inputData[0]"
   ]
  },
  {
   "cell_type": "code",
   "execution_count": 93,
   "id": "5e7a16ed",
   "metadata": {},
   "outputs": [
    {
     "data": {
      "text/plain": [
       "nan"
      ]
     },
     "execution_count": 93,
     "metadata": {},
     "output_type": "execute_result"
    }
   ],
   "source": [
    "totalSharpness(sinModel,inputData,response,numPerturbations=4000,percentPerturbation=0.2)"
   ]
  },
  {
   "cell_type": "code",
   "execution_count": null,
   "id": "007c3f6e",
   "metadata": {},
   "outputs": [],
   "source": []
  },
  {
   "cell_type": "code",
   "execution_count": 94,
   "id": "5f713386",
   "metadata": {},
   "outputs": [],
   "source": [
    "from StackGP import *\n",
    "import numpy as np"
   ]
  },
  {
   "cell_type": "code",
   "execution_count": 95,
   "id": "369228c1",
   "metadata": {},
   "outputs": [],
   "source": [
    "operators=allOps()"
   ]
  },
  {
   "cell_type": "code",
   "execution_count": 96,
   "id": "337dcb4a",
   "metadata": {},
   "outputs": [],
   "source": [
    "#Define sine function to generate data\n",
    "def sinFunc(x0):\n",
    "    return np.sin(x0)"
   ]
  },
  {
   "cell_type": "code",
   "execution_count": 97,
   "id": "9fad86ee",
   "metadata": {},
   "outputs": [],
   "source": [
    "sinModel=[np.array([operators[9],operators[7]]),[variableSelect(0)],[]]"
   ]
  },
  {
   "cell_type": "code",
   "execution_count": 98,
   "id": "9c1df053",
   "metadata": {},
   "outputs": [
    {
     "data": {
      "text/plain": [
       "[array([<function sin at 0x000002C52F9D8B80>,\n",
       "        <function inv at 0x000002C52F9D8AE0>], dtype=object),\n",
       " [<function StackGP.variableSelect.<locals>.<lambda>(variables)>],\n",
       " []]"
      ]
     },
     "execution_count": 98,
     "metadata": {},
     "output_type": "execute_result"
    }
   ],
   "source": [
    "sinModel"
   ]
  },
  {
   "cell_type": "code",
   "execution_count": 99,
   "id": "6618a839",
   "metadata": {},
   "outputs": [],
   "source": [
    "inputData=np.array([np.arange(100,105,.0013)])\n",
    "response=inputData[0]"
   ]
  },
  {
   "cell_type": "code",
   "execution_count": 100,
   "id": "5c5cd1a6",
   "metadata": {},
   "outputs": [
    {
     "data": {
      "text/plain": [
       "0.0004200117952746991"
      ]
     },
     "execution_count": 100,
     "metadata": {},
     "output_type": "execute_result"
    }
   ],
   "source": [
    "totalSharpness(sinModel,inputData,response,numPerturbations=4000,percentPerturbation=0.2)"
   ]
  },
  {
   "cell_type": "code",
   "execution_count": null,
   "id": "bf6e1035",
   "metadata": {},
   "outputs": [],
   "source": []
  },
  {
   "cell_type": "code",
   "execution_count": 101,
   "id": "9a191258",
   "metadata": {},
   "outputs": [],
   "source": [
    "from StackGP import *\n",
    "import numpy as np"
   ]
  },
  {
   "cell_type": "code",
   "execution_count": 102,
   "id": "9694de68",
   "metadata": {},
   "outputs": [],
   "source": [
    "operators=allOps()"
   ]
  },
  {
   "cell_type": "code",
   "execution_count": 103,
   "id": "e5f1a062",
   "metadata": {},
   "outputs": [],
   "source": [
    "#Define sine function to generate data\n",
    "def sinFunc(x0):\n",
    "    return np.sin(x0)"
   ]
  },
  {
   "cell_type": "code",
   "execution_count": 104,
   "id": "a60fdc03",
   "metadata": {},
   "outputs": [],
   "source": [
    "sinModel=[np.array([operators[9],operators[8]]),[variableSelect(0)],[]]"
   ]
  },
  {
   "cell_type": "code",
   "execution_count": 105,
   "id": "8237e89b",
   "metadata": {},
   "outputs": [
    {
     "data": {
      "text/plain": [
       "[array([<function sin at 0x000002C52F9D8B80>,\n",
       "        <function cos at 0x000002C52F9D8C20>], dtype=object),\n",
       " [<function StackGP.variableSelect.<locals>.<lambda>(variables)>],\n",
       " []]"
      ]
     },
     "execution_count": 105,
     "metadata": {},
     "output_type": "execute_result"
    }
   ],
   "source": [
    "sinModel"
   ]
  },
  {
   "cell_type": "code",
   "execution_count": 106,
   "id": "51694a35",
   "metadata": {},
   "outputs": [],
   "source": [
    "inputData=np.array([np.arange(100,105,.0013)])\n",
    "response=inputData[0]"
   ]
  },
  {
   "cell_type": "code",
   "execution_count": 107,
   "id": "c56ea0b2",
   "metadata": {},
   "outputs": [
    {
     "data": {
      "text/plain": [
       "0.0009102042602117222"
      ]
     },
     "execution_count": 107,
     "metadata": {},
     "output_type": "execute_result"
    }
   ],
   "source": [
    "totalSharpness(sinModel,inputData,response,numPerturbations=4000,percentPerturbation=0.2)"
   ]
  },
  {
   "cell_type": "code",
   "execution_count": null,
   "id": "7d251c02",
   "metadata": {},
   "outputs": [],
   "source": []
  },
  {
   "cell_type": "code",
   "execution_count": 108,
   "id": "d321edd9",
   "metadata": {},
   "outputs": [],
   "source": [
    "from StackGP import *\n",
    "import numpy as np"
   ]
  },
  {
   "cell_type": "code",
   "execution_count": 109,
   "id": "a6a91443",
   "metadata": {},
   "outputs": [],
   "source": [
    "operators=allOps()"
   ]
  },
  {
   "cell_type": "code",
   "execution_count": 110,
   "id": "b2e905bf",
   "metadata": {},
   "outputs": [],
   "source": [
    "#Define sine function to generate data\n",
    "def sinFunc(x0):\n",
    "    return np.sin(x0)"
   ]
  },
  {
   "cell_type": "code",
   "execution_count": 111,
   "id": "3bcdf24c",
   "metadata": {},
   "outputs": [],
   "source": [
    "sinModel=[np.array([operators[9],operators[10]]),[variableSelect(0)],[]]"
   ]
  },
  {
   "cell_type": "code",
   "execution_count": 112,
   "id": "7c1e6fba",
   "metadata": {},
   "outputs": [
    {
     "data": {
      "text/plain": [
       "[array([<function sin at 0x000002C52F9D8B80>,\n",
       "        <function tan at 0x000002C52F9D8CC0>], dtype=object),\n",
       " [<function StackGP.variableSelect.<locals>.<lambda>(variables)>],\n",
       " []]"
      ]
     },
     "execution_count": 112,
     "metadata": {},
     "output_type": "execute_result"
    }
   ],
   "source": [
    "sinModel"
   ]
  },
  {
   "cell_type": "code",
   "execution_count": 113,
   "id": "aeb6fc79",
   "metadata": {},
   "outputs": [],
   "source": [
    "inputData=np.array([np.arange(100,105,.0013)])\n",
    "response=inputData[0]"
   ]
  },
  {
   "cell_type": "code",
   "execution_count": 114,
   "id": "028ef06b",
   "metadata": {},
   "outputs": [
    {
     "data": {
      "text/plain": [
       "0.0013463576081166693"
      ]
     },
     "execution_count": 114,
     "metadata": {},
     "output_type": "execute_result"
    }
   ],
   "source": [
    "totalSharpness(sinModel,inputData,response,numPerturbations=4000,percentPerturbation=0.2)"
   ]
  },
  {
   "cell_type": "code",
   "execution_count": null,
   "id": "832489a4",
   "metadata": {},
   "outputs": [],
   "source": []
  },
  {
   "cell_type": "code",
   "execution_count": 115,
   "id": "44a2ab1e",
   "metadata": {},
   "outputs": [],
   "source": [
    "from StackGP import *\n",
    "import numpy as np"
   ]
  },
  {
   "cell_type": "code",
   "execution_count": 116,
   "id": "820e6fc4",
   "metadata": {},
   "outputs": [],
   "source": [
    "operators=allOps()"
   ]
  },
  {
   "cell_type": "code",
   "execution_count": 117,
   "id": "fe7d443c",
   "metadata": {},
   "outputs": [],
   "source": [
    "#Define sine function to generate data\n",
    "def sinFunc(x0):\n",
    "    return np.sin(x0)"
   ]
  },
  {
   "cell_type": "code",
   "execution_count": 118,
   "id": "14c45d0e",
   "metadata": {},
   "outputs": [],
   "source": [
    "sinModel=[np.array([operators[9],operators[13]]),[variableSelect(0)],[]]"
   ]
  },
  {
   "cell_type": "code",
   "execution_count": 119,
   "id": "f4181ee7",
   "metadata": {},
   "outputs": [
    {
     "data": {
      "text/plain": [
       "[array([<function sin at 0x000002C52F9D8B80>,\n",
       "        <function arctan at 0x000002C52F9D8EA0>], dtype=object),\n",
       " [<function StackGP.variableSelect.<locals>.<lambda>(variables)>],\n",
       " []]"
      ]
     },
     "execution_count": 119,
     "metadata": {},
     "output_type": "execute_result"
    }
   ],
   "source": [
    "sinModel"
   ]
  },
  {
   "cell_type": "code",
   "execution_count": 121,
   "id": "68892b29",
   "metadata": {},
   "outputs": [],
   "source": [
    "inputData=np.array([np.arange(100,105,.0013)])\n",
    "response=inputData[0]"
   ]
  },
  {
   "cell_type": "code",
   "execution_count": 122,
   "id": "17782c91",
   "metadata": {},
   "outputs": [
    {
     "data": {
      "text/plain": [
       "0.0016587796115553677"
      ]
     },
     "execution_count": 122,
     "metadata": {},
     "output_type": "execute_result"
    }
   ],
   "source": [
    "totalSharpness(sinModel,inputData,response,numPerturbations=4000,percentPerturbation=0.2)"
   ]
  },
  {
   "cell_type": "code",
   "execution_count": null,
   "id": "93815f78",
   "metadata": {},
   "outputs": [],
   "source": []
  },
  {
   "cell_type": "code",
   "execution_count": 123,
   "id": "9f2ee74a",
   "metadata": {},
   "outputs": [],
   "source": [
    "from StackGP import *\n",
    "import numpy as np"
   ]
  },
  {
   "cell_type": "code",
   "execution_count": 124,
   "id": "0dad6f48",
   "metadata": {},
   "outputs": [],
   "source": [
    "operators=allOps()"
   ]
  },
  {
   "cell_type": "code",
   "execution_count": 125,
   "id": "6ef772ba",
   "metadata": {},
   "outputs": [],
   "source": [
    "#Define sine function to generate data\n",
    "def sinFunc(x0):\n",
    "    return np.sin(x0)"
   ]
  },
  {
   "cell_type": "code",
   "execution_count": 126,
   "id": "26f7d04c",
   "metadata": {},
   "outputs": [],
   "source": [
    "sinModel=[np.array([operators[9],operators[14]]),[variableSelect(0)],[]]"
   ]
  },
  {
   "cell_type": "code",
   "execution_count": 127,
   "id": "8b5c9393",
   "metadata": {},
   "outputs": [
    {
     "data": {
      "text/plain": [
       "[array([<function sin at 0x000002C52F9D8B80>,\n",
       "        <function tanh at 0x000002C52F9D8F40>], dtype=object),\n",
       " [<function StackGP.variableSelect.<locals>.<lambda>(variables)>],\n",
       " []]"
      ]
     },
     "execution_count": 127,
     "metadata": {},
     "output_type": "execute_result"
    }
   ],
   "source": [
    "sinModel"
   ]
  },
  {
   "cell_type": "code",
   "execution_count": 128,
   "id": "c5e46f77",
   "metadata": {},
   "outputs": [],
   "source": [
    "inputData=np.array([np.arange(100,105,.0013)])\n",
    "response=inputData[0]"
   ]
  },
  {
   "cell_type": "code",
   "execution_count": 129,
   "id": "39322201",
   "metadata": {},
   "outputs": [
    {
     "data": {
      "text/plain": [
       "0.0016797147975174764"
      ]
     },
     "execution_count": 129,
     "metadata": {},
     "output_type": "execute_result"
    }
   ],
   "source": [
    "totalSharpness(sinModel,inputData,response,numPerturbations=4000,percentPerturbation=0.2)"
   ]
  },
  {
   "cell_type": "code",
   "execution_count": null,
   "id": "7920e12e",
   "metadata": {},
   "outputs": [],
   "source": []
  },
  {
   "cell_type": "code",
   "execution_count": 130,
   "id": "98a95aaf",
   "metadata": {},
   "outputs": [],
   "source": [
    "from StackGP import *\n",
    "import numpy as np"
   ]
  },
  {
   "cell_type": "code",
   "execution_count": 131,
   "id": "1ff9c2f0",
   "metadata": {},
   "outputs": [],
   "source": [
    "operators=allOps()"
   ]
  },
  {
   "cell_type": "code",
   "execution_count": 132,
   "id": "eed4b351",
   "metadata": {},
   "outputs": [],
   "source": [
    "#Define sine function to generate data\n",
    "def sinFunc(x0):\n",
    "    return np.sin(x0)"
   ]
  },
  {
   "cell_type": "code",
   "execution_count": 133,
   "id": "ec01de1a",
   "metadata": {},
   "outputs": [],
   "source": [
    "sinModel=[np.array([operators[9],operators[15]]),[variableSelect(0)],[]]"
   ]
  },
  {
   "cell_type": "code",
   "execution_count": 134,
   "id": "2befe005",
   "metadata": {},
   "outputs": [
    {
     "data": {
      "text/plain": [
       "[array([<function sin at 0x000002C52F9D8B80>,\n",
       "        <function log at 0x000002C52F9D8FE0>], dtype=object),\n",
       " [<function StackGP.variableSelect.<locals>.<lambda>(variables)>],\n",
       " []]"
      ]
     },
     "execution_count": 134,
     "metadata": {},
     "output_type": "execute_result"
    }
   ],
   "source": [
    "sinModel"
   ]
  },
  {
   "cell_type": "code",
   "execution_count": 135,
   "id": "9d6c1de5",
   "metadata": {},
   "outputs": [],
   "source": [
    "inputData=np.array([np.arange(100,105,.0013)])\n",
    "response=inputData[0]"
   ]
  },
  {
   "cell_type": "code",
   "execution_count": 136,
   "id": "d5a7601c",
   "metadata": {},
   "outputs": [
    {
     "data": {
      "text/plain": [
       "nan"
      ]
     },
     "execution_count": 136,
     "metadata": {},
     "output_type": "execute_result"
    }
   ],
   "source": [
    "totalSharpness(sinModel,inputData,response,numPerturbations=4000,percentPerturbation=0.2)"
   ]
  },
  {
   "cell_type": "code",
   "execution_count": 206,
   "id": "bb093b0f",
   "metadata": {},
   "outputs": [
    {
     "data": {
      "image/png": "[encoded data removed]",
      "text/plain": [
       "<Figure size 1000x500 with 1 Axes>"
      ]
     },
     "metadata": {},
     "output_type": "display_data"
    }
   ],
   "source": [
    "import numpy as np\n",
    "import matplotlib.pyplot as plt \n",
    "\n",
    " \n",
    "# creating the dataset\n",
    "data = {'sqrt':1,'log':1,'tanh':0.00167914,'arctan':0.00165877,'tan':0.00134635,'exp':0.0010217,'cos':0.000910214,'sqrd':0.00091697,'inv':0.000420011}\n",
    "courses = list(data.keys())\n",
    "values = list(data.values())\n",
    " \n",
    "fig = plt.figure(figsize = (10, 5))\n",
    "\n",
    "# creating the bar plot\n",
    "plt.bar(courses, values, color ='maroon', \n",
    "        width = 0.4)\n",
    "\n",
    "plt.xlabel(\"Functions\")\n",
    "plt.ylabel(\"Sin\")\n",
    "plt.title(\"Sin Function Combinations [100,105]\")\n",
    "plt.yscale(\"log\")\n",
    "plt.show()\n"
   ]
  },
  {
   "cell_type": "markdown",
   "id": "368d434d",
   "metadata": {},
   "source": [
    "# Cos Function Combinations"
   ]
  },
  {
   "cell_type": "code",
   "execution_count": 139,
   "id": "c0eaf1c9",
   "metadata": {},
   "outputs": [],
   "source": [
    "from StackGP import *\n",
    "import numpy as np"
   ]
  },
  {
   "cell_type": "code",
   "execution_count": 140,
   "id": "9e182398",
   "metadata": {},
   "outputs": [],
   "source": [
    "operators=allOps()"
   ]
  },
  {
   "cell_type": "code",
   "execution_count": 141,
   "id": "d43b6f5e",
   "metadata": {},
   "outputs": [],
   "source": [
    "#Define cosine function to generate data\n",
    "def cosFunc(x0):\n",
    "    return np.cos(x0)"
   ]
  },
  {
   "cell_type": "code",
   "execution_count": 142,
   "id": "b0a61b87",
   "metadata": {},
   "outputs": [],
   "source": [
    "cosModel=[np.array([operators[8],operators[4]]),[variableSelect(0)],[]]"
   ]
  },
  {
   "cell_type": "code",
   "execution_count": 143,
   "id": "4216e75e",
   "metadata": {},
   "outputs": [
    {
     "data": {
      "text/plain": [
       "[array([<function cos at 0x000002C52F9D8C20>,\n",
       "        <function exp at 0x000002C52F9D8860>], dtype=object),\n",
       " [<function StackGP.variableSelect.<locals>.<lambda>(variables)>],\n",
       " []]"
      ]
     },
     "execution_count": 143,
     "metadata": {},
     "output_type": "execute_result"
    }
   ],
   "source": [
    "cosModel"
   ]
  },
  {
   "cell_type": "code",
   "execution_count": 144,
   "id": "37021a5d",
   "metadata": {},
   "outputs": [],
   "source": [
    "inputData=np.array([np.arange(100,105,.0013)])\n",
    "response=inputData[0]"
   ]
  },
  {
   "cell_type": "code",
   "execution_count": 145,
   "id": "6e56f0b9",
   "metadata": {},
   "outputs": [
    {
     "data": {
      "text/plain": [
       "0.0008372781387765904"
      ]
     },
     "execution_count": 145,
     "metadata": {},
     "output_type": "execute_result"
    }
   ],
   "source": [
    "totalSharpness(cosModel,inputData,response,numPerturbations=4000,percentPerturbation=0.2)"
   ]
  },
  {
   "cell_type": "code",
   "execution_count": null,
   "id": "0529ed58",
   "metadata": {},
   "outputs": [],
   "source": []
  },
  {
   "cell_type": "code",
   "execution_count": 146,
   "id": "4a95de90",
   "metadata": {},
   "outputs": [],
   "source": [
    "from StackGP import *\n",
    "import numpy as np"
   ]
  },
  {
   "cell_type": "code",
   "execution_count": 147,
   "id": "c859cc64",
   "metadata": {},
   "outputs": [],
   "source": [
    "operators=allOps()"
   ]
  },
  {
   "cell_type": "code",
   "execution_count": 148,
   "id": "970a0a81",
   "metadata": {},
   "outputs": [],
   "source": [
    "#Define cosine function to generate data\n",
    "def cosFunc(x0):\n",
    "    return np.cos(x0)"
   ]
  },
  {
   "cell_type": "code",
   "execution_count": 149,
   "id": "18e27632",
   "metadata": {},
   "outputs": [],
   "source": [
    "cosModel=[np.array([operators[8],operators[5]]),[variableSelect(0)],[]]"
   ]
  },
  {
   "cell_type": "code",
   "execution_count": 150,
   "id": "987376e5",
   "metadata": {},
   "outputs": [
    {
     "data": {
      "text/plain": [
       "[array([<function cos at 0x000002C52F9D8C20>,\n",
       "        <function sqrd at 0x000002C52F9D8A40>], dtype=object),\n",
       " [<function StackGP.variableSelect.<locals>.<lambda>(variables)>],\n",
       " []]"
      ]
     },
     "execution_count": 150,
     "metadata": {},
     "output_type": "execute_result"
    }
   ],
   "source": [
    "cosModel"
   ]
  },
  {
   "cell_type": "code",
   "execution_count": 151,
   "id": "93c196ba",
   "metadata": {},
   "outputs": [],
   "source": [
    "inputData=np.array([np.arange(100,105,.0013)])\n",
    "response=inputData[0]"
   ]
  },
  {
   "cell_type": "code",
   "execution_count": 152,
   "id": "a4594eab",
   "metadata": {},
   "outputs": [
    {
     "data": {
      "text/plain": [
       "0.0008862969500008495"
      ]
     },
     "execution_count": 152,
     "metadata": {},
     "output_type": "execute_result"
    }
   ],
   "source": [
    "totalSharpness(cosModel,inputData,response,numPerturbations=4000,percentPerturbation=0.2)"
   ]
  },
  {
   "cell_type": "code",
   "execution_count": null,
   "id": "c9ecfb0e",
   "metadata": {},
   "outputs": [],
   "source": []
  },
  {
   "cell_type": "code",
   "execution_count": 153,
   "id": "ed84dcb7",
   "metadata": {},
   "outputs": [],
   "source": [
    "from StackGP import *\n",
    "import numpy as np"
   ]
  },
  {
   "cell_type": "code",
   "execution_count": 154,
   "id": "3e68383d",
   "metadata": {},
   "outputs": [],
   "source": [
    "operators=allOps()"
   ]
  },
  {
   "cell_type": "code",
   "execution_count": 155,
   "id": "a4a8f1bc",
   "metadata": {},
   "outputs": [],
   "source": [
    "#Define cosine function to generate data\n",
    "def cosFunc(x0):\n",
    "    return np.cos(x0)"
   ]
  },
  {
   "cell_type": "code",
   "execution_count": 156,
   "id": "04cfb94f",
   "metadata": {},
   "outputs": [],
   "source": [
    "cosModel=[np.array([operators[8],operators[6]]),[variableSelect(0)],[]]"
   ]
  },
  {
   "cell_type": "code",
   "execution_count": 157,
   "id": "d7432e63",
   "metadata": {},
   "outputs": [
    {
     "data": {
      "text/plain": [
       "[array([<function cos at 0x000002C52F9D8C20>,\n",
       "        <function sqrt at 0x000002C52F9D89A0>], dtype=object),\n",
       " [<function StackGP.variableSelect.<locals>.<lambda>(variables)>],\n",
       " []]"
      ]
     },
     "execution_count": 157,
     "metadata": {},
     "output_type": "execute_result"
    }
   ],
   "source": [
    "cosModel"
   ]
  },
  {
   "cell_type": "code",
   "execution_count": 158,
   "id": "1f68c2aa",
   "metadata": {},
   "outputs": [],
   "source": [
    "inputData=np.array([np.arange(100,105,.0013)])\n",
    "response=inputData[0]"
   ]
  },
  {
   "cell_type": "code",
   "execution_count": 159,
   "id": "2e72330c",
   "metadata": {},
   "outputs": [
    {
     "data": {
      "text/plain": [
       "nan"
      ]
     },
     "execution_count": 159,
     "metadata": {},
     "output_type": "execute_result"
    }
   ],
   "source": [
    "totalSharpness(cosModel,inputData,response,numPerturbations=4000,percentPerturbation=0.2)"
   ]
  },
  {
   "cell_type": "code",
   "execution_count": null,
   "id": "0b30db2e",
   "metadata": {},
   "outputs": [],
   "source": []
  },
  {
   "cell_type": "code",
   "execution_count": 160,
   "id": "d85c814d",
   "metadata": {},
   "outputs": [],
   "source": [
    "from StackGP import *\n",
    "import numpy as np"
   ]
  },
  {
   "cell_type": "code",
   "execution_count": 161,
   "id": "7341a26a",
   "metadata": {},
   "outputs": [],
   "source": [
    "operators=allOps()"
   ]
  },
  {
   "cell_type": "code",
   "execution_count": 162,
   "id": "2b4faea7",
   "metadata": {},
   "outputs": [],
   "source": [
    "#Define cosine function to generate data\n",
    "def cosFunc(x0):\n",
    "    return np.cos(x0)"
   ]
  },
  {
   "cell_type": "code",
   "execution_count": 163,
   "id": "f1476afd",
   "metadata": {},
   "outputs": [],
   "source": [
    "cosModel=[np.array([operators[8],operators[7]]),[variableSelect(0)],[]]"
   ]
  },
  {
   "cell_type": "code",
   "execution_count": 164,
   "id": "f6d94269",
   "metadata": {},
   "outputs": [
    {
     "data": {
      "text/plain": [
       "[array([<function cos at 0x000002C52F9D8C20>,\n",
       "        <function inv at 0x000002C52F9D8AE0>], dtype=object),\n",
       " [<function StackGP.variableSelect.<locals>.<lambda>(variables)>],\n",
       " []]"
      ]
     },
     "execution_count": 164,
     "metadata": {},
     "output_type": "execute_result"
    }
   ],
   "source": [
    "cosModel"
   ]
  },
  {
   "cell_type": "code",
   "execution_count": 166,
   "id": "26d83470",
   "metadata": {},
   "outputs": [],
   "source": [
    "inputData=np.array([np.arange(100,105,.0013)])\n",
    "response=inputData[0]"
   ]
  },
  {
   "cell_type": "code",
   "execution_count": 167,
   "id": "50589d3a",
   "metadata": {},
   "outputs": [
    {
     "data": {
      "text/plain": [
       "0.002241955052350344"
      ]
     },
     "execution_count": 167,
     "metadata": {},
     "output_type": "execute_result"
    }
   ],
   "source": [
    "totalSharpness(cosModel,inputData,response,numPerturbations=4000,percentPerturbation=0.2)"
   ]
  },
  {
   "cell_type": "code",
   "execution_count": null,
   "id": "137c0c45",
   "metadata": {},
   "outputs": [],
   "source": []
  },
  {
   "cell_type": "code",
   "execution_count": 168,
   "id": "84dcea66",
   "metadata": {},
   "outputs": [],
   "source": [
    "from StackGP import *\n",
    "import numpy as np"
   ]
  },
  {
   "cell_type": "code",
   "execution_count": 169,
   "id": "c523d9cd",
   "metadata": {},
   "outputs": [],
   "source": [
    "operators=allOps()"
   ]
  },
  {
   "cell_type": "code",
   "execution_count": 170,
   "id": "07d086dd",
   "metadata": {},
   "outputs": [],
   "source": [
    "#Define cosine function to generate data\n",
    "def cosFunc(x0):\n",
    "    return np.cos(x0)"
   ]
  },
  {
   "cell_type": "code",
   "execution_count": 171,
   "id": "5e2d1f28",
   "metadata": {},
   "outputs": [],
   "source": [
    "cosModel=[np.array([operators[8],operators[9]]),[variableSelect(0)],[]]"
   ]
  },
  {
   "cell_type": "code",
   "execution_count": 172,
   "id": "422c929a",
   "metadata": {},
   "outputs": [
    {
     "data": {
      "text/plain": [
       "[array([<function cos at 0x000002C52F9D8C20>,\n",
       "        <function sin at 0x000002C52F9D8B80>], dtype=object),\n",
       " [<function StackGP.variableSelect.<locals>.<lambda>(variables)>],\n",
       " []]"
      ]
     },
     "execution_count": 172,
     "metadata": {},
     "output_type": "execute_result"
    }
   ],
   "source": [
    "cosModel"
   ]
  },
  {
   "cell_type": "code",
   "execution_count": 173,
   "id": "80390773",
   "metadata": {},
   "outputs": [],
   "source": [
    "inputData=np.array([np.arange(100,105,.0013)])\n",
    "response=inputData[0]"
   ]
  },
  {
   "cell_type": "code",
   "execution_count": 174,
   "id": "dbc15be9",
   "metadata": {},
   "outputs": [
    {
     "data": {
      "text/plain": [
       "0.0011738713673328978"
      ]
     },
     "execution_count": 174,
     "metadata": {},
     "output_type": "execute_result"
    }
   ],
   "source": [
    "totalSharpness(cosModel,inputData,response,numPerturbations=4000,percentPerturbation=0.2)"
   ]
  },
  {
   "cell_type": "code",
   "execution_count": null,
   "id": "755448c7",
   "metadata": {},
   "outputs": [],
   "source": []
  },
  {
   "cell_type": "code",
   "execution_count": 175,
   "id": "0b909975",
   "metadata": {},
   "outputs": [],
   "source": [
    "from StackGP import *\n",
    "import numpy as np"
   ]
  },
  {
   "cell_type": "code",
   "execution_count": 176,
   "id": "db72a7a9",
   "metadata": {},
   "outputs": [],
   "source": [
    "operators=allOps()"
   ]
  },
  {
   "cell_type": "code",
   "execution_count": 177,
   "id": "a1b7fd51",
   "metadata": {},
   "outputs": [],
   "source": [
    "#Define cosine function to generate data\n",
    "def cosFunc(x0):\n",
    "    return np.cos(x0)"
   ]
  },
  {
   "cell_type": "code",
   "execution_count": 178,
   "id": "4a643371",
   "metadata": {},
   "outputs": [],
   "source": [
    "cosModel=[np.array([operators[8],operators[10]]),[variableSelect(0)],[]]"
   ]
  },
  {
   "cell_type": "code",
   "execution_count": 179,
   "id": "41bae65b",
   "metadata": {},
   "outputs": [
    {
     "data": {
      "text/plain": [
       "[array([<function cos at 0x000002C52F9D8C20>,\n",
       "        <function tan at 0x000002C52F9D8CC0>], dtype=object),\n",
       " [<function StackGP.variableSelect.<locals>.<lambda>(variables)>],\n",
       " []]"
      ]
     },
     "execution_count": 179,
     "metadata": {},
     "output_type": "execute_result"
    }
   ],
   "source": [
    "cosModel"
   ]
  },
  {
   "cell_type": "code",
   "execution_count": 180,
   "id": "9b311f18",
   "metadata": {},
   "outputs": [],
   "source": [
    "inputData=np.array([np.arange(100,105,.0013)])\n",
    "response=inputData[0]"
   ]
  },
  {
   "cell_type": "code",
   "execution_count": 181,
   "id": "44b2cf85",
   "metadata": {},
   "outputs": [
    {
     "data": {
      "text/plain": [
       "0.0011719844463868464"
      ]
     },
     "execution_count": 181,
     "metadata": {},
     "output_type": "execute_result"
    }
   ],
   "source": [
    "totalSharpness(cosModel,inputData,response,numPerturbations=4000,percentPerturbation=0.2)"
   ]
  },
  {
   "cell_type": "code",
   "execution_count": null,
   "id": "3edb911c",
   "metadata": {},
   "outputs": [],
   "source": []
  },
  {
   "cell_type": "code",
   "execution_count": 182,
   "id": "52343c78",
   "metadata": {},
   "outputs": [],
   "source": [
    "from StackGP import *\n",
    "import numpy as np"
   ]
  },
  {
   "cell_type": "code",
   "execution_count": 183,
   "id": "4b586497",
   "metadata": {},
   "outputs": [],
   "source": [
    "operators=allOps()"
   ]
  },
  {
   "cell_type": "code",
   "execution_count": 184,
   "id": "4e919ed8",
   "metadata": {},
   "outputs": [],
   "source": [
    "#Define cosine function to generate data\n",
    "def cosFunc(x0):\n",
    "    return np.cos(x0)"
   ]
  },
  {
   "cell_type": "code",
   "execution_count": 185,
   "id": "b5f500e0",
   "metadata": {},
   "outputs": [],
   "source": [
    "cosModel=[np.array([operators[8],operators[13]]),[variableSelect(0)],[]]"
   ]
  },
  {
   "cell_type": "code",
   "execution_count": 186,
   "id": "dc0284fd",
   "metadata": {},
   "outputs": [
    {
     "data": {
      "text/plain": [
       "[array([<function cos at 0x000002C52F9D8C20>,\n",
       "        <function arctan at 0x000002C52F9D8EA0>], dtype=object),\n",
       " [<function StackGP.variableSelect.<locals>.<lambda>(variables)>],\n",
       " []]"
      ]
     },
     "execution_count": 186,
     "metadata": {},
     "output_type": "execute_result"
    }
   ],
   "source": [
    "cosModel"
   ]
  },
  {
   "cell_type": "code",
   "execution_count": 187,
   "id": "6a464cae",
   "metadata": {},
   "outputs": [],
   "source": [
    "inputData=np.array([np.arange(100,105,.0013)])\n",
    "response=inputData[0]"
   ]
  },
  {
   "cell_type": "code",
   "execution_count": 188,
   "id": "fe893aa4",
   "metadata": {},
   "outputs": [
    {
     "data": {
      "text/plain": [
       "0.0012010191873164946"
      ]
     },
     "execution_count": 188,
     "metadata": {},
     "output_type": "execute_result"
    }
   ],
   "source": [
    "totalSharpness(cosModel,inputData,response,numPerturbations=4000,percentPerturbation=0.2)"
   ]
  },
  {
   "cell_type": "code",
   "execution_count": null,
   "id": "32cadd6f",
   "metadata": {},
   "outputs": [],
   "source": []
  },
  {
   "cell_type": "code",
   "execution_count": 189,
   "id": "46c6583b",
   "metadata": {},
   "outputs": [],
   "source": [
    "from StackGP import *\n",
    "import numpy as np"
   ]
  },
  {
   "cell_type": "code",
   "execution_count": 190,
   "id": "67365c3d",
   "metadata": {},
   "outputs": [],
   "source": [
    "operators=allOps()"
   ]
  },
  {
   "cell_type": "code",
   "execution_count": 191,
   "id": "9742a7cf",
   "metadata": {},
   "outputs": [],
   "source": [
    "#Define cosine function to generate data\n",
    "def cosFunc(x0):\n",
    "    return np.cos(x0)"
   ]
  },
  {
   "cell_type": "code",
   "execution_count": 192,
   "id": "073b514c",
   "metadata": {},
   "outputs": [],
   "source": [
    "cosModel=[np.array([operators[8],operators[14]]),[variableSelect(0)],[]]"
   ]
  },
  {
   "cell_type": "code",
   "execution_count": 193,
   "id": "1ba11e59",
   "metadata": {},
   "outputs": [
    {
     "data": {
      "text/plain": [
       "[array([<function cos at 0x000002C52F9D8C20>,\n",
       "        <function tanh at 0x000002C52F9D8F40>], dtype=object),\n",
       " [<function StackGP.variableSelect.<locals>.<lambda>(variables)>],\n",
       " []]"
      ]
     },
     "execution_count": 193,
     "metadata": {},
     "output_type": "execute_result"
    }
   ],
   "source": [
    "cosModel"
   ]
  },
  {
   "cell_type": "code",
   "execution_count": 194,
   "id": "2622433d",
   "metadata": {},
   "outputs": [],
   "source": [
    "inputData=np.array([np.arange(100,105,.0013)])\n",
    "response=inputData[0]"
   ]
  },
  {
   "cell_type": "code",
   "execution_count": 195,
   "id": "ac12179d",
   "metadata": {},
   "outputs": [
    {
     "data": {
      "text/plain": [
       "0.001203774378909085"
      ]
     },
     "execution_count": 195,
     "metadata": {},
     "output_type": "execute_result"
    }
   ],
   "source": [
    "totalSharpness(cosModel,inputData,response,numPerturbations=4000,percentPerturbation=0.2)"
   ]
  },
  {
   "cell_type": "code",
   "execution_count": null,
   "id": "eaebd3b1",
   "metadata": {},
   "outputs": [],
   "source": []
  },
  {
   "cell_type": "code",
   "execution_count": 196,
   "id": "5bf295c3",
   "metadata": {},
   "outputs": [],
   "source": [
    "from StackGP import *\n",
    "import numpy as np"
   ]
  },
  {
   "cell_type": "code",
   "execution_count": 197,
   "id": "6efb9e18",
   "metadata": {},
   "outputs": [],
   "source": [
    "operators=allOps()"
   ]
  },
  {
   "cell_type": "code",
   "execution_count": 198,
   "id": "719ffb0f",
   "metadata": {},
   "outputs": [],
   "source": [
    "#Define cosine function to generate data\n",
    "def cosFunc(x0):\n",
    "    return np.cos(x0)"
   ]
  },
  {
   "cell_type": "code",
   "execution_count": 199,
   "id": "21e99090",
   "metadata": {},
   "outputs": [],
   "source": [
    "cosModel=[np.array([operators[8],operators[15]]),[variableSelect(0)],[]]"
   ]
  },
  {
   "cell_type": "code",
   "execution_count": 200,
   "id": "aad5a66b",
   "metadata": {},
   "outputs": [
    {
     "data": {
      "text/plain": [
       "[array([<function cos at 0x000002C52F9D8C20>,\n",
       "        <function log at 0x000002C52F9D8FE0>], dtype=object),\n",
       " [<function StackGP.variableSelect.<locals>.<lambda>(variables)>],\n",
       " []]"
      ]
     },
     "execution_count": 200,
     "metadata": {},
     "output_type": "execute_result"
    }
   ],
   "source": [
    "cosModel"
   ]
  },
  {
   "cell_type": "code",
   "execution_count": 201,
   "id": "1ae4fa8c",
   "metadata": {},
   "outputs": [],
   "source": [
    "inputData=np.array([np.arange(100,105,.0013)])\n",
    "response=inputData[0]"
   ]
  },
  {
   "cell_type": "code",
   "execution_count": 202,
   "id": "cdeff37d",
   "metadata": {},
   "outputs": [
    {
     "data": {
      "text/plain": [
       "nan"
      ]
     },
     "execution_count": 202,
     "metadata": {},
     "output_type": "execute_result"
    }
   ],
   "source": [
    "totalSharpness(cosModel,inputData,response,numPerturbations=4000,percentPerturbation=0.2)"
   ]
  },
  {
   "cell_type": "code",
   "execution_count": 205,
   "id": "c2b4003b",
   "metadata": {},
   "outputs": [
    {
     "data": {
      "image/png": "[encoded data removed]",
      "text/plain": [
       "<Figure size 1000x500 with 1 Axes>"
      ]
     },
     "metadata": {},
     "output_type": "display_data"
    }
   ],
   "source": [
    "import numpy as np\n",
    "import matplotlib.pyplot as plt \n",
    "\n",
    " \n",
    "# creating the dataset\n",
    "data = {'sqrt':1,'log':1,'inv':0.0022419,'tanh':0.001203724,'arctan':0.001201019,'sin':0.0011738,'tan':0.0011719,'sqrd':0.000837278,'exp':0.000837278}\n",
    "courses = list(data.keys())\n",
    "values = list(data.values())\n",
    " \n",
    "fig = plt.figure(figsize = (10, 5))\n",
    "\n",
    "# creating the bar plot\n",
    "plt.bar(courses, values, color ='maroon', \n",
    "        width = 0.4)\n",
    "\n",
    "plt.xlabel(\"Functions\")\n",
    "plt.ylabel(\"Cos\")\n",
    "plt.title(\"Cosine Function Combinations [100,105]\")\n",
    "plt.yscale(\"log\")\n",
    "plt.show()\n"
   ]
  },
  {
   "cell_type": "markdown",
   "id": "3953303e",
   "metadata": {},
   "source": [
    "# Tan Function Combinations"
   ]
  },
  {
   "cell_type": "code",
   "execution_count": 207,
   "id": "c2ded3d2",
   "metadata": {},
   "outputs": [],
   "source": [
    "from StackGP import *\n",
    "import numpy as np"
   ]
  },
  {
   "cell_type": "code",
   "execution_count": 208,
   "id": "7bb4ff28",
   "metadata": {},
   "outputs": [],
   "source": [
    "operators=allOps()"
   ]
  },
  {
   "cell_type": "code",
   "execution_count": 209,
   "id": "5c272e86",
   "metadata": {},
   "outputs": [],
   "source": [
    "#Define tangent function to generate data\n",
    "def tanFunc(x0):\n",
    "    return np.tan(x0)"
   ]
  },
  {
   "cell_type": "code",
   "execution_count": 210,
   "id": "e439fa9b",
   "metadata": {},
   "outputs": [],
   "source": [
    "tanModel=[np.array([operators[10],operators[4]]),[variableSelect(0)],[]]"
   ]
  },
  {
   "cell_type": "code",
   "execution_count": 211,
   "id": "0e497a7a",
   "metadata": {},
   "outputs": [
    {
     "data": {
      "text/plain": [
       "[array([<function tan at 0x000002C52F9D8CC0>,\n",
       "        <function exp at 0x000002C52F9D8860>], dtype=object),\n",
       " [<function StackGP.variableSelect.<locals>.<lambda>(variables)>],\n",
       " []]"
      ]
     },
     "execution_count": 211,
     "metadata": {},
     "output_type": "execute_result"
    }
   ],
   "source": [
    "tanModel"
   ]
  },
  {
   "cell_type": "code",
   "execution_count": 213,
   "id": "4b37111e",
   "metadata": {},
   "outputs": [],
   "source": [
    "inputData=np.array([np.arange(100,105,.0013)])\n",
    "response=inputData[0]"
   ]
  },
  {
   "cell_type": "code",
   "execution_count": 214,
   "id": "ba33c450",
   "metadata": {},
   "outputs": [
    {
     "data": {
      "text/plain": [
       "nan"
      ]
     },
     "execution_count": 214,
     "metadata": {},
     "output_type": "execute_result"
    }
   ],
   "source": [
    "totalSharpness(tanModel,inputData,response,numPerturbations=4000,percentPerturbation=0.2)"
   ]
  },
  {
   "cell_type": "code",
   "execution_count": null,
   "id": "8adf1189",
   "metadata": {},
   "outputs": [],
   "source": []
  },
  {
   "cell_type": "code",
   "execution_count": 215,
   "id": "15a8c810",
   "metadata": {},
   "outputs": [],
   "source": [
    "from StackGP import *\n",
    "import numpy as np"
   ]
  },
  {
   "cell_type": "code",
   "execution_count": 216,
   "id": "64321c5a",
   "metadata": {},
   "outputs": [],
   "source": [
    "operators=allOps()"
   ]
  },
  {
   "cell_type": "code",
   "execution_count": 217,
   "id": "c24b334f",
   "metadata": {},
   "outputs": [],
   "source": [
    "#Define tangent function to generate data\n",
    "def tanFunc(x0):\n",
    "    return np.tan(x0)"
   ]
  },
  {
   "cell_type": "code",
   "execution_count": 218,
   "id": "be7a404b",
   "metadata": {},
   "outputs": [],
   "source": [
    "tanModel=[np.array([operators[10],operators[5]]),[variableSelect(0)],[]]"
   ]
  },
  {
   "cell_type": "code",
   "execution_count": 219,
   "id": "f87a33ed",
   "metadata": {},
   "outputs": [
    {
     "data": {
      "text/plain": [
       "[array([<function tan at 0x000002C52F9D8CC0>,\n",
       "        <function sqrd at 0x000002C52F9D8A40>], dtype=object),\n",
       " [<function StackGP.variableSelect.<locals>.<lambda>(variables)>],\n",
       " []]"
      ]
     },
     "execution_count": 219,
     "metadata": {},
     "output_type": "execute_result"
    }
   ],
   "source": [
    "tanModel"
   ]
  },
  {
   "cell_type": "code",
   "execution_count": 221,
   "id": "9fdb451e",
   "metadata": {},
   "outputs": [],
   "source": [
    "inputData=np.array([np.arange(100,105,.0013)])\n",
    "response=inputData[0]"
   ]
  },
  {
   "cell_type": "code",
   "execution_count": 222,
   "id": "b4feb1fa",
   "metadata": {},
   "outputs": [
    {
     "data": {
      "text/plain": [
       "5.26937278339838e-05"
      ]
     },
     "execution_count": 222,
     "metadata": {},
     "output_type": "execute_result"
    }
   ],
   "source": [
    "totalSharpness(tanModel,inputData,response,numPerturbations=4000,percentPerturbation=0.2)"
   ]
  },
  {
   "cell_type": "code",
   "execution_count": null,
   "id": "9ccc1dc0",
   "metadata": {},
   "outputs": [],
   "source": []
  },
  {
   "cell_type": "code",
   "execution_count": 223,
   "id": "8779e04e",
   "metadata": {},
   "outputs": [],
   "source": [
    "from StackGP import *\n",
    "import numpy as np"
   ]
  },
  {
   "cell_type": "code",
   "execution_count": 224,
   "id": "b2cb3b29",
   "metadata": {},
   "outputs": [],
   "source": [
    "operators=allOps()"
   ]
  },
  {
   "cell_type": "code",
   "execution_count": 225,
   "id": "6703cba9",
   "metadata": {},
   "outputs": [],
   "source": [
    "#Define tangent function to generate data\n",
    "def tanFunc(x0):\n",
    "    return np.tan(x0)"
   ]
  },
  {
   "cell_type": "code",
   "execution_count": 226,
   "id": "55f8cc0b",
   "metadata": {},
   "outputs": [],
   "source": [
    "tanModel=[np.array([operators[10],operators[6]]),[variableSelect(0)],[]]"
   ]
  },
  {
   "cell_type": "code",
   "execution_count": 227,
   "id": "06117564",
   "metadata": {},
   "outputs": [
    {
     "data": {
      "text/plain": [
       "[array([<function tan at 0x000002C52F9D8CC0>,\n",
       "        <function sqrt at 0x000002C52F9D89A0>], dtype=object),\n",
       " [<function StackGP.variableSelect.<locals>.<lambda>(variables)>],\n",
       " []]"
      ]
     },
     "execution_count": 227,
     "metadata": {},
     "output_type": "execute_result"
    }
   ],
   "source": [
    "tanModel"
   ]
  },
  {
   "cell_type": "code",
   "execution_count": 228,
   "id": "170c8c9e",
   "metadata": {},
   "outputs": [],
   "source": [
    "inputData=np.array([np.arange(100,105,.0013)])\n",
    "response=inputData[0]"
   ]
  },
  {
   "cell_type": "code",
   "execution_count": 229,
   "id": "f1929089",
   "metadata": {},
   "outputs": [
    {
     "data": {
      "text/plain": [
       "nan"
      ]
     },
     "execution_count": 229,
     "metadata": {},
     "output_type": "execute_result"
    }
   ],
   "source": [
    "totalSharpness(tanModel,inputData,response,numPerturbations=4000,percentPerturbation=0.2)"
   ]
  },
  {
   "cell_type": "code",
   "execution_count": null,
   "id": "25470b5c",
   "metadata": {},
   "outputs": [],
   "source": []
  },
  {
   "cell_type": "code",
   "execution_count": 230,
   "id": "a04a55a6",
   "metadata": {},
   "outputs": [],
   "source": [
    "from StackGP import *\n",
    "import numpy as np"
   ]
  },
  {
   "cell_type": "code",
   "execution_count": 231,
   "id": "3d6a125a",
   "metadata": {},
   "outputs": [],
   "source": [
    "operators=allOps()"
   ]
  },
  {
   "cell_type": "code",
   "execution_count": 232,
   "id": "94d13b37",
   "metadata": {},
   "outputs": [],
   "source": [
    "#Define tangent function to generate data\n",
    "def tanFunc(x0):\n",
    "    return np.tan(x0)"
   ]
  },
  {
   "cell_type": "code",
   "execution_count": 233,
   "id": "7ee0168d",
   "metadata": {},
   "outputs": [],
   "source": [
    "tanModel=[np.array([operators[10],operators[7]]),[variableSelect(0)],[]]"
   ]
  },
  {
   "cell_type": "code",
   "execution_count": 234,
   "id": "95ca4063",
   "metadata": {},
   "outputs": [
    {
     "data": {
      "text/plain": [
       "[array([<function tan at 0x000002C52F9D8CC0>,\n",
       "        <function inv at 0x000002C52F9D8AE0>], dtype=object),\n",
       " [<function StackGP.variableSelect.<locals>.<lambda>(variables)>],\n",
       " []]"
      ]
     },
     "execution_count": 234,
     "metadata": {},
     "output_type": "execute_result"
    }
   ],
   "source": [
    "tanModel"
   ]
  },
  {
   "cell_type": "code",
   "execution_count": 235,
   "id": "c0d90bb6",
   "metadata": {},
   "outputs": [],
   "source": [
    "inputData=np.array([np.arange(100,105,.0013)])\n",
    "response=inputData[0]"
   ]
  },
  {
   "cell_type": "code",
   "execution_count": 236,
   "id": "8362375e",
   "metadata": {},
   "outputs": [
    {
     "data": {
      "text/plain": [
       "0.00039193723541875483"
      ]
     },
     "execution_count": 236,
     "metadata": {},
     "output_type": "execute_result"
    }
   ],
   "source": [
    "totalSharpness(tanModel,inputData,response,numPerturbations=4000,percentPerturbation=0.2)"
   ]
  },
  {
   "cell_type": "code",
   "execution_count": null,
   "id": "bb7be9a3",
   "metadata": {},
   "outputs": [],
   "source": []
  },
  {
   "cell_type": "code",
   "execution_count": 237,
   "id": "7ec4d49b",
   "metadata": {},
   "outputs": [],
   "source": [
    "from StackGP import *\n",
    "import numpy as np"
   ]
  },
  {
   "cell_type": "code",
   "execution_count": 238,
   "id": "c339dd9f",
   "metadata": {},
   "outputs": [],
   "source": [
    "operators=allOps()"
   ]
  },
  {
   "cell_type": "code",
   "execution_count": 239,
   "id": "586f7b80",
   "metadata": {},
   "outputs": [],
   "source": [
    "#Define tangent function to generate data\n",
    "def tanFunc(x0):\n",
    "    return np.tan(x0)"
   ]
  },
  {
   "cell_type": "code",
   "execution_count": 240,
   "id": "f8abb99e",
   "metadata": {},
   "outputs": [],
   "source": [
    "tanModel=[np.array([operators[10],operators[8]]),[variableSelect(0)],[]]"
   ]
  },
  {
   "cell_type": "code",
   "execution_count": 241,
   "id": "963030d1",
   "metadata": {},
   "outputs": [
    {
     "data": {
      "text/plain": [
       "[array([<function tan at 0x000002C52F9D8CC0>,\n",
       "        <function cos at 0x000002C52F9D8C20>], dtype=object),\n",
       " [<function StackGP.variableSelect.<locals>.<lambda>(variables)>],\n",
       " []]"
      ]
     },
     "execution_count": 241,
     "metadata": {},
     "output_type": "execute_result"
    }
   ],
   "source": [
    "tanModel"
   ]
  },
  {
   "cell_type": "code",
   "execution_count": 242,
   "id": "4a7d70c7",
   "metadata": {},
   "outputs": [],
   "source": [
    "inputData=np.array([np.arange(100,105,.0013)])\n",
    "response=inputData[0]"
   ]
  },
  {
   "cell_type": "code",
   "execution_count": 243,
   "id": "97511431",
   "metadata": {},
   "outputs": [
    {
     "data": {
      "text/plain": [
       "0.00183273185230874"
      ]
     },
     "execution_count": 243,
     "metadata": {},
     "output_type": "execute_result"
    }
   ],
   "source": [
    "totalSharpness(tanModel,inputData,response,numPerturbations=4000,percentPerturbation=0.2)"
   ]
  },
  {
   "cell_type": "code",
   "execution_count": null,
   "id": "e1aac525",
   "metadata": {},
   "outputs": [],
   "source": []
  },
  {
   "cell_type": "code",
   "execution_count": 244,
   "id": "56c9e7f9",
   "metadata": {},
   "outputs": [],
   "source": [
    "from StackGP import *\n",
    "import numpy as np"
   ]
  },
  {
   "cell_type": "code",
   "execution_count": 245,
   "id": "34ac967a",
   "metadata": {},
   "outputs": [],
   "source": [
    "operators=allOps()"
   ]
  },
  {
   "cell_type": "code",
   "execution_count": 246,
   "id": "3a9450aa",
   "metadata": {},
   "outputs": [],
   "source": [
    "#Define tangent function to generate data\n",
    "def tanFunc(x0):\n",
    "    return np.tan(x0)"
   ]
  },
  {
   "cell_type": "code",
   "execution_count": 247,
   "id": "eb8fbd36",
   "metadata": {},
   "outputs": [],
   "source": [
    "tanModel=[np.array([operators[10],operators[9]]),[variableSelect(0)],[]]"
   ]
  },
  {
   "cell_type": "code",
   "execution_count": 248,
   "id": "e846cf7e",
   "metadata": {},
   "outputs": [
    {
     "data": {
      "text/plain": [
       "[array([<function tan at 0x000002C52F9D8CC0>,\n",
       "        <function sin at 0x000002C52F9D8B80>], dtype=object),\n",
       " [<function StackGP.variableSelect.<locals>.<lambda>(variables)>],\n",
       " []]"
      ]
     },
     "execution_count": 248,
     "metadata": {},
     "output_type": "execute_result"
    }
   ],
   "source": [
    "tanModel"
   ]
  },
  {
   "cell_type": "code",
   "execution_count": 249,
   "id": "f778fe78",
   "metadata": {},
   "outputs": [],
   "source": [
    "inputData=np.array([np.arange(100,105,.0013)])\n",
    "response=inputData[0]"
   ]
  },
  {
   "cell_type": "code",
   "execution_count": 250,
   "id": "a7bd87c4",
   "metadata": {},
   "outputs": [
    {
     "data": {
      "text/plain": [
       "0.0014906969651380848"
      ]
     },
     "execution_count": 250,
     "metadata": {},
     "output_type": "execute_result"
    }
   ],
   "source": [
    "totalSharpness(tanModel,inputData,response,numPerturbations=4000,percentPerturbation=0.2)"
   ]
  },
  {
   "cell_type": "code",
   "execution_count": null,
   "id": "ceda9d6c",
   "metadata": {},
   "outputs": [],
   "source": []
  },
  {
   "cell_type": "code",
   "execution_count": 251,
   "id": "5ea4c5c7",
   "metadata": {},
   "outputs": [],
   "source": [
    "from StackGP import *\n",
    "import numpy as np"
   ]
  },
  {
   "cell_type": "code",
   "execution_count": 252,
   "id": "8397b284",
   "metadata": {},
   "outputs": [],
   "source": [
    "operators=allOps()"
   ]
  },
  {
   "cell_type": "code",
   "execution_count": 253,
   "id": "f2224c57",
   "metadata": {},
   "outputs": [],
   "source": [
    "#Define tangent function to generate data\n",
    "def tanFunc(x0):\n",
    "    return np.tan(x0)"
   ]
  },
  {
   "cell_type": "code",
   "execution_count": 254,
   "id": "488b674e",
   "metadata": {},
   "outputs": [],
   "source": [
    "tanModel=[np.array([operators[10],operators[13]]),[variableSelect(0)],[]]"
   ]
  },
  {
   "cell_type": "code",
   "execution_count": 255,
   "id": "9e7e6252",
   "metadata": {},
   "outputs": [
    {
     "data": {
      "text/plain": [
       "[array([<function tan at 0x000002C52F9D8CC0>,\n",
       "        <function arctan at 0x000002C52F9D8EA0>], dtype=object),\n",
       " [<function StackGP.variableSelect.<locals>.<lambda>(variables)>],\n",
       " []]"
      ]
     },
     "execution_count": 255,
     "metadata": {},
     "output_type": "execute_result"
    }
   ],
   "source": [
    "tanModel"
   ]
  },
  {
   "cell_type": "code",
   "execution_count": 256,
   "id": "a6f491e3",
   "metadata": {},
   "outputs": [],
   "source": [
    "inputData=np.array([np.arange(100,105,.0013)])\n",
    "response=inputData[0]"
   ]
  },
  {
   "cell_type": "code",
   "execution_count": 257,
   "id": "075ed141",
   "metadata": {},
   "outputs": [
    {
     "data": {
      "text/plain": [
       "0.0006492371675067804"
      ]
     },
     "execution_count": 257,
     "metadata": {},
     "output_type": "execute_result"
    }
   ],
   "source": [
    "totalSharpness(tanModel,inputData,response,numPerturbations=4000,percentPerturbation=0.2)"
   ]
  },
  {
   "cell_type": "code",
   "execution_count": null,
   "id": "a744a813",
   "metadata": {},
   "outputs": [],
   "source": []
  },
  {
   "cell_type": "code",
   "execution_count": 258,
   "id": "3848a1b2",
   "metadata": {},
   "outputs": [],
   "source": [
    "from StackGP import *\n",
    "import numpy as np"
   ]
  },
  {
   "cell_type": "code",
   "execution_count": 259,
   "id": "6338c76d",
   "metadata": {},
   "outputs": [],
   "source": [
    "operators=allOps()"
   ]
  },
  {
   "cell_type": "code",
   "execution_count": 260,
   "id": "04f2b13a",
   "metadata": {},
   "outputs": [],
   "source": [
    "#Define tangent function to generate data\n",
    "def tanFunc(x0):\n",
    "    return np.tan(x0)"
   ]
  },
  {
   "cell_type": "code",
   "execution_count": 261,
   "id": "0ee7f328",
   "metadata": {},
   "outputs": [],
   "source": [
    "tanModel=[np.array([operators[10],operators[14]]),[variableSelect(0)],[]]"
   ]
  },
  {
   "cell_type": "code",
   "execution_count": 262,
   "id": "1e824cf7",
   "metadata": {},
   "outputs": [
    {
     "data": {
      "text/plain": [
       "[array([<function tan at 0x000002C52F9D8CC0>,\n",
       "        <function tanh at 0x000002C52F9D8F40>], dtype=object),\n",
       " [<function StackGP.variableSelect.<locals>.<lambda>(variables)>],\n",
       " []]"
      ]
     },
     "execution_count": 262,
     "metadata": {},
     "output_type": "execute_result"
    }
   ],
   "source": [
    "tanModel"
   ]
  },
  {
   "cell_type": "code",
   "execution_count": 263,
   "id": "31264446",
   "metadata": {},
   "outputs": [],
   "source": [
    "inputData=np.array([np.arange(100,105,.0013)])\n",
    "response=inputData[0]"
   ]
  },
  {
   "cell_type": "code",
   "execution_count": 264,
   "id": "419f73e7",
   "metadata": {},
   "outputs": [
    {
     "data": {
      "text/plain": [
       "0.0006475798924565132"
      ]
     },
     "execution_count": 264,
     "metadata": {},
     "output_type": "execute_result"
    }
   ],
   "source": [
    "totalSharpness(tanModel,inputData,response,numPerturbations=4000,percentPerturbation=0.2)"
   ]
  },
  {
   "cell_type": "code",
   "execution_count": null,
   "id": "85935baf",
   "metadata": {},
   "outputs": [],
   "source": []
  },
  {
   "cell_type": "code",
   "execution_count": 265,
   "id": "f8aba3fe",
   "metadata": {},
   "outputs": [],
   "source": [
    "from StackGP import *\n",
    "import numpy as np"
   ]
  },
  {
   "cell_type": "code",
   "execution_count": 266,
   "id": "0c9ec1cd",
   "metadata": {},
   "outputs": [],
   "source": [
    "operators=allOps()"
   ]
  },
  {
   "cell_type": "code",
   "execution_count": 267,
   "id": "a99d1291",
   "metadata": {},
   "outputs": [],
   "source": [
    "#Define tangent function to generate data\n",
    "def tanFunc(x0):\n",
    "    return np.tan(x0)"
   ]
  },
  {
   "cell_type": "code",
   "execution_count": 268,
   "id": "5051f570",
   "metadata": {},
   "outputs": [],
   "source": [
    "tanModel=[np.array([operators[10],operators[15]]),[variableSelect(0)],[]]"
   ]
  },
  {
   "cell_type": "code",
   "execution_count": 269,
   "id": "e33a7b74",
   "metadata": {},
   "outputs": [
    {
     "data": {
      "text/plain": [
       "[array([<function tan at 0x000002C52F9D8CC0>,\n",
       "        <function log at 0x000002C52F9D8FE0>], dtype=object),\n",
       " [<function StackGP.variableSelect.<locals>.<lambda>(variables)>],\n",
       " []]"
      ]
     },
     "execution_count": 269,
     "metadata": {},
     "output_type": "execute_result"
    }
   ],
   "source": [
    "tanModel"
   ]
  },
  {
   "cell_type": "code",
   "execution_count": 270,
   "id": "dc5ea079",
   "metadata": {},
   "outputs": [],
   "source": [
    "inputData=np.array([np.arange(100,105,.0013)])\n",
    "response=inputData[0]"
   ]
  },
  {
   "cell_type": "code",
   "execution_count": 271,
   "id": "43ea7416",
   "metadata": {},
   "outputs": [
    {
     "data": {
      "text/plain": [
       "nan"
      ]
     },
     "execution_count": 271,
     "metadata": {},
     "output_type": "execute_result"
    }
   ],
   "source": [
    "totalSharpness(tanModel,inputData,response,numPerturbations=4000,percentPerturbation=0.2)"
   ]
  },
  {
   "cell_type": "code",
   "execution_count": 274,
   "id": "4ba65955",
   "metadata": {},
   "outputs": [
    {
     "data": {
      "image/png": "[encoded data removed]",
      "text/plain": [
       "<Figure size 1000x500 with 1 Axes>"
      ]
     },
     "metadata": {},
     "output_type": "display_data"
    }
   ],
   "source": [
    "import numpy as np\n",
    "import matplotlib.pyplot as plt \n",
    "\n",
    " \n",
    "# creating the dataset\n",
    "data = {'exp':1,'sqrt':1,'log':1,'cos':0.0018327,'sin':0.0014906,'arctan':0.00064923,'tanh':0.00064757,'inv':0.000391937,'sqrd':0.000052693}\n",
    "courses = list(data.keys())\n",
    "values = list(data.values())\n",
    " \n",
    "fig = plt.figure(figsize = (10, 5))\n",
    "\n",
    "# creating the bar plot\n",
    "plt.bar(courses, values, color ='maroon', \n",
    "        width = 0.4)\n",
    "\n",
    "plt.xlabel(\"Functions\")\n",
    "plt.ylabel(\"Tan\")\n",
    "plt.title(\"Tangent Function Combinations [100,105]\")\n",
    "plt.yscale(\"log\")\n",
    "plt.show()\n"
   ]
  },
  {
   "cell_type": "markdown",
   "id": "2b1b8a49",
   "metadata": {},
   "source": [
    "# Arctan Function Combinations"
   ]
  },
  {
   "cell_type": "code",
   "execution_count": 275,
   "id": "1ee0d935",
   "metadata": {},
   "outputs": [],
   "source": [
    "from StackGP import *\n",
    "import numpy as np"
   ]
  },
  {
   "cell_type": "code",
   "execution_count": 276,
   "id": "96870a7f",
   "metadata": {},
   "outputs": [],
   "source": [
    "operators=allOps()"
   ]
  },
  {
   "cell_type": "code",
   "execution_count": 277,
   "id": "3a225f56",
   "metadata": {},
   "outputs": [],
   "source": [
    "#Define arctangent function to generate data\n",
    "def arctanFunc(x0):\n",
    "    return np.arctan(x0)"
   ]
  },
  {
   "cell_type": "code",
   "execution_count": 278,
   "id": "9b8cebb8",
   "metadata": {},
   "outputs": [],
   "source": [
    "arctanModel=[np.array([operators[13],operators[4]]),[variableSelect(0)],[]]"
   ]
  },
  {
   "cell_type": "code",
   "execution_count": 279,
   "id": "b76fb7e7",
   "metadata": {},
   "outputs": [
    {
     "data": {
      "text/plain": [
       "[array([<function arctan at 0x000002C52F9D8EA0>,\n",
       "        <function exp at 0x000002C52F9D8860>], dtype=object),\n",
       " [<function StackGP.variableSelect.<locals>.<lambda>(variables)>],\n",
       " []]"
      ]
     },
     "execution_count": 279,
     "metadata": {},
     "output_type": "execute_result"
    }
   ],
   "source": [
    "arctanModel"
   ]
  },
  {
   "cell_type": "code",
   "execution_count": 280,
   "id": "b441635c",
   "metadata": {},
   "outputs": [],
   "source": [
    "inputData=np.array([np.arange(100,105,.0013)])\n",
    "response=inputData[0]"
   ]
  },
  {
   "cell_type": "code",
   "execution_count": 281,
   "id": "6bbe9581",
   "metadata": {},
   "outputs": [
    {
     "data": {
      "text/plain": [
       "5.375599999641842e-05"
      ]
     },
     "execution_count": 281,
     "metadata": {},
     "output_type": "execute_result"
    }
   ],
   "source": [
    "totalSharpness(arctanModel,inputData,response,numPerturbations=4000,percentPerturbation=0.2)"
   ]
  },
  {
   "cell_type": "code",
   "execution_count": null,
   "id": "3b7207c4",
   "metadata": {},
   "outputs": [],
   "source": []
  },
  {
   "cell_type": "code",
   "execution_count": 282,
   "id": "11e8ef07",
   "metadata": {},
   "outputs": [],
   "source": [
    "from StackGP import *\n",
    "import numpy as np"
   ]
  },
  {
   "cell_type": "code",
   "execution_count": 283,
   "id": "422c89a2",
   "metadata": {},
   "outputs": [],
   "source": [
    "operators=allOps()"
   ]
  },
  {
   "cell_type": "code",
   "execution_count": 284,
   "id": "9a7d2a96",
   "metadata": {},
   "outputs": [],
   "source": [
    "#Define arctangent function to generate data\n",
    "def arctanFunc(x0):\n",
    "    return np.arctan(x0)"
   ]
  },
  {
   "cell_type": "code",
   "execution_count": 285,
   "id": "9af953f4",
   "metadata": {},
   "outputs": [],
   "source": [
    "arctanModel=[np.array([operators[13],operators[5]]),[variableSelect(0)],[]]"
   ]
  },
  {
   "cell_type": "code",
   "execution_count": 286,
   "id": "dfde68b4",
   "metadata": {},
   "outputs": [
    {
     "data": {
      "text/plain": [
       "[array([<function arctan at 0x000002C52F9D8EA0>,\n",
       "        <function sqrd at 0x000002C52F9D8A40>], dtype=object),\n",
       " [<function StackGP.variableSelect.<locals>.<lambda>(variables)>],\n",
       " []]"
      ]
     },
     "execution_count": 286,
     "metadata": {},
     "output_type": "execute_result"
    }
   ],
   "source": [
    "arctanModel"
   ]
  },
  {
   "cell_type": "code",
   "execution_count": 287,
   "id": "a7c8ec81",
   "metadata": {},
   "outputs": [],
   "source": [
    "inputData=np.array([np.arange(100,105,.0013)])\n",
    "response=inputData[0]"
   ]
  },
  {
   "cell_type": "code",
   "execution_count": 288,
   "id": "76f643c3",
   "metadata": {},
   "outputs": [
    {
     "data": {
      "text/plain": [
       "5.1802084513961614e-05"
      ]
     },
     "execution_count": 288,
     "metadata": {},
     "output_type": "execute_result"
    }
   ],
   "source": [
    "totalSharpness(arctanModel,inputData,response,numPerturbations=4000,percentPerturbation=0.2)"
   ]
  },
  {
   "cell_type": "code",
   "execution_count": null,
   "id": "6f10de44",
   "metadata": {},
   "outputs": [],
   "source": []
  },
  {
   "cell_type": "code",
   "execution_count": 289,
   "id": "c39ed9f7",
   "metadata": {},
   "outputs": [],
   "source": [
    "from StackGP import *\n",
    "import numpy as np"
   ]
  },
  {
   "cell_type": "code",
   "execution_count": 290,
   "id": "1a47d27f",
   "metadata": {},
   "outputs": [],
   "source": [
    "operators=allOps()"
   ]
  },
  {
   "cell_type": "code",
   "execution_count": 291,
   "id": "f3bf40ce",
   "metadata": {},
   "outputs": [],
   "source": [
    "#Define arctangent function to generate data\n",
    "def arctanFunc(x0):\n",
    "    return np.arctan(x0)"
   ]
  },
  {
   "cell_type": "code",
   "execution_count": 292,
   "id": "3516bb49",
   "metadata": {},
   "outputs": [],
   "source": [
    "arctanModel=[np.array([operators[13],operators[6]]),[variableSelect(0)],[]]"
   ]
  },
  {
   "cell_type": "code",
   "execution_count": 293,
   "id": "6af74fea",
   "metadata": {},
   "outputs": [
    {
     "data": {
      "text/plain": [
       "[array([<function arctan at 0x000002C52F9D8EA0>,\n",
       "        <function sqrt at 0x000002C52F9D89A0>], dtype=object),\n",
       " [<function StackGP.variableSelect.<locals>.<lambda>(variables)>],\n",
       " []]"
      ]
     },
     "execution_count": 293,
     "metadata": {},
     "output_type": "execute_result"
    }
   ],
   "source": [
    "arctanModel"
   ]
  },
  {
   "cell_type": "code",
   "execution_count": 294,
   "id": "ddd2b575",
   "metadata": {},
   "outputs": [],
   "source": [
    "inputData=np.array([np.arange(100,105,.0013)])\n",
    "response=inputData[0]"
   ]
  },
  {
   "cell_type": "code",
   "execution_count": 295,
   "id": "043cef8a",
   "metadata": {},
   "outputs": [
    {
     "data": {
      "text/plain": [
       "5.367086229587197e-05"
      ]
     },
     "execution_count": 295,
     "metadata": {},
     "output_type": "execute_result"
    }
   ],
   "source": [
    "totalSharpness(arctanModel,inputData,response,numPerturbations=4000,percentPerturbation=0.2)"
   ]
  },
  {
   "cell_type": "code",
   "execution_count": null,
   "id": "21d057f9",
   "metadata": {},
   "outputs": [],
   "source": []
  },
  {
   "cell_type": "code",
   "execution_count": 296,
   "id": "ede442aa",
   "metadata": {},
   "outputs": [],
   "source": [
    "from StackGP import *\n",
    "import numpy as np"
   ]
  },
  {
   "cell_type": "code",
   "execution_count": 297,
   "id": "5220303e",
   "metadata": {},
   "outputs": [],
   "source": [
    "operators=allOps()"
   ]
  },
  {
   "cell_type": "code",
   "execution_count": 298,
   "id": "79d0c53b",
   "metadata": {},
   "outputs": [],
   "source": [
    "#Define arctangent function to generate data\n",
    "def arctanFunc(x0):\n",
    "    return np.arctan(x0)"
   ]
  },
  {
   "cell_type": "code",
   "execution_count": 299,
   "id": "ce36acee",
   "metadata": {},
   "outputs": [],
   "source": [
    "arctanModel=[np.array([operators[13],operators[7]]),[variableSelect(0)],[]]"
   ]
  },
  {
   "cell_type": "code",
   "execution_count": 300,
   "id": "6569c98d",
   "metadata": {},
   "outputs": [
    {
     "data": {
      "text/plain": [
       "[array([<function arctan at 0x000002C52F9D8EA0>,\n",
       "        <function inv at 0x000002C52F9D8AE0>], dtype=object),\n",
       " [<function StackGP.variableSelect.<locals>.<lambda>(variables)>],\n",
       " []]"
      ]
     },
     "execution_count": 300,
     "metadata": {},
     "output_type": "execute_result"
    }
   ],
   "source": [
    "arctanModel"
   ]
  },
  {
   "cell_type": "code",
   "execution_count": 301,
   "id": "bb2521e9",
   "metadata": {},
   "outputs": [],
   "source": [
    "inputData=np.array([np.arange(100,105,.0013)])\n",
    "response=inputData[0]"
   ]
  },
  {
   "cell_type": "code",
   "execution_count": 302,
   "id": "cfa14b6f",
   "metadata": {},
   "outputs": [
    {
     "data": {
      "text/plain": [
       "5.381452222040763e-05"
      ]
     },
     "execution_count": 302,
     "metadata": {},
     "output_type": "execute_result"
    }
   ],
   "source": [
    "totalSharpness(arctanModel,inputData,response,numPerturbations=4000,percentPerturbation=0.2)"
   ]
  },
  {
   "cell_type": "code",
   "execution_count": null,
   "id": "8567b9d0",
   "metadata": {},
   "outputs": [],
   "source": []
  },
  {
   "cell_type": "code",
   "execution_count": 303,
   "id": "cc5b7cbf",
   "metadata": {},
   "outputs": [],
   "source": [
    "from StackGP import *\n",
    "import numpy as np"
   ]
  },
  {
   "cell_type": "code",
   "execution_count": 304,
   "id": "3c615cfe",
   "metadata": {},
   "outputs": [],
   "source": [
    "operators=allOps()"
   ]
  },
  {
   "cell_type": "code",
   "execution_count": 305,
   "id": "012916ca",
   "metadata": {},
   "outputs": [],
   "source": [
    "#Define arctangent function to generate data\n",
    "def arctanFunc(x0):\n",
    "    return np.arctan(x0)"
   ]
  },
  {
   "cell_type": "code",
   "execution_count": 306,
   "id": "9c79ce93",
   "metadata": {},
   "outputs": [],
   "source": [
    "arctanModel=[np.array([operators[13],operators[8]]),[variableSelect(0)],[]]"
   ]
  },
  {
   "cell_type": "code",
   "execution_count": 307,
   "id": "4bc90edd",
   "metadata": {},
   "outputs": [
    {
     "data": {
      "text/plain": [
       "[array([<function arctan at 0x000002C52F9D8EA0>,\n",
       "        <function cos at 0x000002C52F9D8C20>], dtype=object),\n",
       " [<function StackGP.variableSelect.<locals>.<lambda>(variables)>],\n",
       " []]"
      ]
     },
     "execution_count": 307,
     "metadata": {},
     "output_type": "execute_result"
    }
   ],
   "source": [
    "arctanModel"
   ]
  },
  {
   "cell_type": "code",
   "execution_count": 308,
   "id": "10e3483a",
   "metadata": {},
   "outputs": [],
   "source": [
    "inputData=np.array([np.arange(100,105,.0013)])\n",
    "response=inputData[0]"
   ]
  },
  {
   "cell_type": "code",
   "execution_count": 309,
   "id": "e41a3858",
   "metadata": {},
   "outputs": [
    {
     "data": {
      "text/plain": [
       "5.1420058990293565e-05"
      ]
     },
     "execution_count": 309,
     "metadata": {},
     "output_type": "execute_result"
    }
   ],
   "source": [
    "totalSharpness(arctanModel,inputData,response,numPerturbations=4000,percentPerturbation=0.2)"
   ]
  },
  {
   "cell_type": "code",
   "execution_count": null,
   "id": "3053df37",
   "metadata": {},
   "outputs": [],
   "source": []
  },
  {
   "cell_type": "code",
   "execution_count": 310,
   "id": "82d8abde",
   "metadata": {},
   "outputs": [],
   "source": [
    "from StackGP import *\n",
    "import numpy as np"
   ]
  },
  {
   "cell_type": "code",
   "execution_count": 311,
   "id": "d303695d",
   "metadata": {},
   "outputs": [],
   "source": [
    "operators=allOps()"
   ]
  },
  {
   "cell_type": "code",
   "execution_count": 312,
   "id": "86bcdcf2",
   "metadata": {},
   "outputs": [],
   "source": [
    "#Define arctangent function to generate data\n",
    "def arctanFunc(x0):\n",
    "    return np.arctan(x0)"
   ]
  },
  {
   "cell_type": "code",
   "execution_count": 313,
   "id": "e17feab8",
   "metadata": {},
   "outputs": [],
   "source": [
    "arctanModel=[np.array([operators[13],operators[9]]),[variableSelect(0)],[]]"
   ]
  },
  {
   "cell_type": "code",
   "execution_count": 314,
   "id": "6233de36",
   "metadata": {},
   "outputs": [
    {
     "data": {
      "text/plain": [
       "[array([<function arctan at 0x000002C52F9D8EA0>,\n",
       "        <function sin at 0x000002C52F9D8B80>], dtype=object),\n",
       " [<function StackGP.variableSelect.<locals>.<lambda>(variables)>],\n",
       " []]"
      ]
     },
     "execution_count": 314,
     "metadata": {},
     "output_type": "execute_result"
    }
   ],
   "source": [
    "arctanModel"
   ]
  },
  {
   "cell_type": "code",
   "execution_count": 315,
   "id": "f288d04a",
   "metadata": {},
   "outputs": [],
   "source": [
    "inputData=np.array([np.arange(100,105,.0013)])\n",
    "response=inputData[0]"
   ]
  },
  {
   "cell_type": "code",
   "execution_count": 316,
   "id": "9cf122df",
   "metadata": {},
   "outputs": [
    {
     "data": {
      "text/plain": [
       "6.035080631459199e-05"
      ]
     },
     "execution_count": 316,
     "metadata": {},
     "output_type": "execute_result"
    }
   ],
   "source": [
    "totalSharpness(arctanModel,inputData,response,numPerturbations=4000,percentPerturbation=0.2)"
   ]
  },
  {
   "cell_type": "code",
   "execution_count": null,
   "id": "6c22ffa9",
   "metadata": {},
   "outputs": [],
   "source": []
  },
  {
   "cell_type": "code",
   "execution_count": 317,
   "id": "acaa9563",
   "metadata": {},
   "outputs": [],
   "source": [
    "from StackGP import *\n",
    "import numpy as np"
   ]
  },
  {
   "cell_type": "code",
   "execution_count": 318,
   "id": "f069fa20",
   "metadata": {},
   "outputs": [],
   "source": [
    "operators=allOps()"
   ]
  },
  {
   "cell_type": "code",
   "execution_count": 319,
   "id": "89d142e1",
   "metadata": {},
   "outputs": [],
   "source": [
    "#Define arctangent function to generate data\n",
    "def arctanFunc(x0):\n",
    "    return np.arctan(x0)"
   ]
  },
  {
   "cell_type": "code",
   "execution_count": 320,
   "id": "0436fb06",
   "metadata": {},
   "outputs": [],
   "source": [
    "arctanModel=[np.array([operators[13],operators[10]]),[variableSelect(0)],[]]"
   ]
  },
  {
   "cell_type": "code",
   "execution_count": 321,
   "id": "e5b43721",
   "metadata": {},
   "outputs": [
    {
     "data": {
      "text/plain": [
       "[array([<function arctan at 0x000002C52F9D8EA0>,\n",
       "        <function tan at 0x000002C52F9D8CC0>], dtype=object),\n",
       " [<function StackGP.variableSelect.<locals>.<lambda>(variables)>],\n",
       " []]"
      ]
     },
     "execution_count": 321,
     "metadata": {},
     "output_type": "execute_result"
    }
   ],
   "source": [
    "arctanModel"
   ]
  },
  {
   "cell_type": "code",
   "execution_count": 322,
   "id": "45ab9fae",
   "metadata": {},
   "outputs": [],
   "source": [
    "inputData=np.array([np.arange(100,105,.0013)])\n",
    "response=inputData[0]"
   ]
  },
  {
   "cell_type": "code",
   "execution_count": 323,
   "id": "17f043d8",
   "metadata": {},
   "outputs": [
    {
     "data": {
      "text/plain": [
       "4.7918725616709206e-05"
      ]
     },
     "execution_count": 323,
     "metadata": {},
     "output_type": "execute_result"
    }
   ],
   "source": [
    "totalSharpness(arctanModel,inputData,response,numPerturbations=4000,percentPerturbation=0.2)"
   ]
  },
  {
   "cell_type": "code",
   "execution_count": null,
   "id": "4f9a3d22",
   "metadata": {},
   "outputs": [],
   "source": []
  },
  {
   "cell_type": "code",
   "execution_count": 324,
   "id": "261b4386",
   "metadata": {},
   "outputs": [],
   "source": [
    "from StackGP import *\n",
    "import numpy as np"
   ]
  },
  {
   "cell_type": "code",
   "execution_count": 325,
   "id": "93d26db4",
   "metadata": {},
   "outputs": [],
   "source": [
    "operators=allOps()"
   ]
  },
  {
   "cell_type": "code",
   "execution_count": 326,
   "id": "fc0f90b3",
   "metadata": {},
   "outputs": [],
   "source": [
    "#Define arctangent function to generate data\n",
    "def arctanFunc(x0):\n",
    "    return np.arctan(x0)"
   ]
  },
  {
   "cell_type": "code",
   "execution_count": 327,
   "id": "ce5f1634",
   "metadata": {},
   "outputs": [],
   "source": [
    "arctanModel=[np.array([operators[13],operators[14]]),[variableSelect(0)],[]]"
   ]
  },
  {
   "cell_type": "code",
   "execution_count": 328,
   "id": "c42400c8",
   "metadata": {},
   "outputs": [
    {
     "data": {
      "text/plain": [
       "[array([<function arctan at 0x000002C52F9D8EA0>,\n",
       "        <function tanh at 0x000002C52F9D8F40>], dtype=object),\n",
       " [<function StackGP.variableSelect.<locals>.<lambda>(variables)>],\n",
       " []]"
      ]
     },
     "execution_count": 328,
     "metadata": {},
     "output_type": "execute_result"
    }
   ],
   "source": [
    "arctanModel"
   ]
  },
  {
   "cell_type": "code",
   "execution_count": 329,
   "id": "e98fe0ec",
   "metadata": {},
   "outputs": [],
   "source": [
    "inputData=np.array([np.arange(100,105,.0013)])\n",
    "response=inputData[0]"
   ]
  },
  {
   "cell_type": "code",
   "execution_count": 330,
   "id": "ae3dbbd6",
   "metadata": {},
   "outputs": [
    {
     "data": {
      "text/plain": [
       "5.350680620688996e-05"
      ]
     },
     "execution_count": 330,
     "metadata": {},
     "output_type": "execute_result"
    }
   ],
   "source": [
    "totalSharpness(arctanModel,inputData,response,numPerturbations=4000,percentPerturbation=0.2)"
   ]
  },
  {
   "cell_type": "code",
   "execution_count": null,
   "id": "16e2dcf1",
   "metadata": {},
   "outputs": [],
   "source": []
  },
  {
   "cell_type": "code",
   "execution_count": 331,
   "id": "6f002519",
   "metadata": {},
   "outputs": [],
   "source": [
    "from StackGP import *\n",
    "import numpy as np"
   ]
  },
  {
   "cell_type": "code",
   "execution_count": 332,
   "id": "494a0a66",
   "metadata": {},
   "outputs": [],
   "source": [
    "operators=allOps()"
   ]
  },
  {
   "cell_type": "code",
   "execution_count": 333,
   "id": "e1b49cd8",
   "metadata": {},
   "outputs": [],
   "source": [
    "#Define arctangent function to generate data\n",
    "def arctanFunc(x0):\n",
    "    return np.arctan(x0)"
   ]
  },
  {
   "cell_type": "code",
   "execution_count": 334,
   "id": "3ef99fd4",
   "metadata": {},
   "outputs": [],
   "source": [
    "arctanModel=[np.array([operators[13],operators[15]]),[variableSelect(0)],[]]"
   ]
  },
  {
   "cell_type": "code",
   "execution_count": 336,
   "id": "d87e518a",
   "metadata": {},
   "outputs": [],
   "source": [
    "inputData=np.array([np.arange(100,105,.0013)])\n",
    "response=inputData[0]"
   ]
  },
  {
   "cell_type": "code",
   "execution_count": 337,
   "id": "49f22652",
   "metadata": {},
   "outputs": [
    {
     "data": {
      "text/plain": [
       "5.294846742143509e-05"
      ]
     },
     "execution_count": 337,
     "metadata": {},
     "output_type": "execute_result"
    }
   ],
   "source": [
    "totalSharpness(arctanModel,inputData,response,numPerturbations=4000,percentPerturbation=0.2)"
   ]
  },
  {
   "cell_type": "code",
   "execution_count": 340,
   "id": "e6b5b5d2",
   "metadata": {},
   "outputs": [
    {
     "data": {
      "image/png": "[encoded data removed]",
      "text/plain": [
       "<Figure size 1000x500 with 1 Axes>"
      ]
     },
     "metadata": {},
     "output_type": "display_data"
    }
   ],
   "source": [
    "import numpy as np\n",
    "import matplotlib.pyplot as plt \n",
    "\n",
    " \n",
    "# creating the dataset\n",
    "data = {'sin':0.000060350806,'inv':0.0000538145,'exp':0.0000537559,'sqrt':0.00005367086,'tanh':0.000053506806,'log':0.00005294846,'sqrd':0.00005180208,'cos':0.00005142005,'tan':0.00004791872}\n",
    "courses = list(data.keys())\n",
    "values = list(data.values())\n",
    " \n",
    "fig = plt.figure(figsize = (10, 5))\n",
    "\n",
    "# creating the bar plot\n",
    "plt.bar(courses, values, color ='maroon', \n",
    "        width = 0.4)\n",
    "\n",
    "plt.xlabel(\"Functions\")\n",
    "plt.ylabel(\"Arctan\")\n",
    "plt.title(\"Arctan Function Combinations [100,105]\")\n",
    "plt.yscale(\"log\")\n",
    "plt.show()\n"
   ]
  },
  {
   "cell_type": "markdown",
   "id": "8535a325",
   "metadata": {},
   "source": [
    "# Exp Function Combinations"
   ]
  },
  {
   "cell_type": "code",
   "execution_count": 1,
   "id": "7fef0efa",
   "metadata": {},
   "outputs": [],
   "source": [
    "from StackGP import *\n",
    "import numpy as np"
   ]
  },
  {
   "cell_type": "code",
   "execution_count": 2,
   "id": "6fba6894",
   "metadata": {},
   "outputs": [],
   "source": [
    "operators=allOps()"
   ]
  },
  {
   "cell_type": "code",
   "execution_count": 3,
   "id": "777928a4",
   "metadata": {},
   "outputs": [],
   "source": [
    "#Define exponent function to generate data\n",
    "def expFunc(x0):\n",
    "    return np.exp(x0)"
   ]
  },
  {
   "cell_type": "code",
   "execution_count": 5,
   "id": "1b65540c",
   "metadata": {},
   "outputs": [],
   "source": [
    "expModel=[np.array([operators[4],operators[5]]),[variableSelect(0)],[]]"
   ]
  },
  {
   "cell_type": "code",
   "execution_count": 6,
   "id": "958a616e",
   "metadata": {},
   "outputs": [
    {
     "data": {
      "text/plain": [
       "[array([<function exp at 0x00000117ACEAC860>,\n",
       "        <function sqrd at 0x00000117ACEACA40>], dtype=object),\n",
       " [<function StackGP.variableSelect.<locals>.<lambda>(variables)>],\n",
       " []]"
      ]
     },
     "execution_count": 6,
     "metadata": {},
     "output_type": "execute_result"
    }
   ],
   "source": [
    "expModel"
   ]
  },
  {
   "cell_type": "code",
   "execution_count": 7,
   "id": "58890072",
   "metadata": {},
   "outputs": [],
   "source": [
    "inputData=np.array([np.arange(100,105,.0013)])\n",
    "response=inputData[0]"
   ]
  },
  {
   "cell_type": "code",
   "execution_count": 8,
   "id": "e62b76e4",
   "metadata": {},
   "outputs": [
    {
     "data": {
      "text/plain": [
       "nan"
      ]
     },
     "execution_count": 8,
     "metadata": {},
     "output_type": "execute_result"
    }
   ],
   "source": [
    "totalSharpness(expModel,inputData,response,numPerturbations=4000,percentPerturbation=0.2)"
   ]
  },
  {
   "cell_type": "code",
   "execution_count": null,
   "id": "e35b8843",
   "metadata": {},
   "outputs": [],
   "source": []
  },
  {
   "cell_type": "code",
   "execution_count": 9,
   "id": "543ab697",
   "metadata": {},
   "outputs": [],
   "source": [
    "from StackGP import *\n",
    "import numpy as np"
   ]
  },
  {
   "cell_type": "code",
   "execution_count": 10,
   "id": "14d8e7fd",
   "metadata": {},
   "outputs": [],
   "source": [
    "operators=allOps()"
   ]
  },
  {
   "cell_type": "code",
   "execution_count": 11,
   "id": "69a04c41",
   "metadata": {},
   "outputs": [],
   "source": [
    "#Define exponent function to generate data\n",
    "def expFunc(x0):\n",
    "    return np.exp(x0)"
   ]
  },
  {
   "cell_type": "code",
   "execution_count": 12,
   "id": "26e0bacc",
   "metadata": {},
   "outputs": [],
   "source": [
    "expModel=[np.array([operators[4],operators[6]]),[variableSelect(0)],[]]"
   ]
  },
  {
   "cell_type": "code",
   "execution_count": 13,
   "id": "4647a99a",
   "metadata": {},
   "outputs": [
    {
     "data": {
      "text/plain": [
       "[array([<function exp at 0x00000117ACEAC860>,\n",
       "        <function sqrt at 0x00000117ACEAC9A0>], dtype=object),\n",
       " [<function StackGP.variableSelect.<locals>.<lambda>(variables)>],\n",
       " []]"
      ]
     },
     "execution_count": 13,
     "metadata": {},
     "output_type": "execute_result"
    }
   ],
   "source": [
    "expModel"
   ]
  },
  {
   "cell_type": "code",
   "execution_count": 14,
   "id": "a0f6ccce",
   "metadata": {},
   "outputs": [],
   "source": [
    "inputData=np.array([np.arange(100,105,.0013)])\n",
    "response=inputData[0]"
   ]
  },
  {
   "cell_type": "code",
   "execution_count": 15,
   "id": "2d3d6c77",
   "metadata": {},
   "outputs": [
    {
     "data": {
      "text/plain": [
       "0.0007254906112855496"
      ]
     },
     "execution_count": 15,
     "metadata": {},
     "output_type": "execute_result"
    }
   ],
   "source": [
    "totalSharpness(expModel,inputData,response,numPerturbations=4000,percentPerturbation=0.2)"
   ]
  },
  {
   "cell_type": "code",
   "execution_count": null,
   "id": "8c3afb90",
   "metadata": {},
   "outputs": [],
   "source": []
  },
  {
   "cell_type": "code",
   "execution_count": 16,
   "id": "a52a45f2",
   "metadata": {},
   "outputs": [],
   "source": [
    "from StackGP import *\n",
    "import numpy as np"
   ]
  },
  {
   "cell_type": "code",
   "execution_count": 17,
   "id": "9732d7b0",
   "metadata": {},
   "outputs": [],
   "source": [
    "operators=allOps()"
   ]
  },
  {
   "cell_type": "code",
   "execution_count": 18,
   "id": "cc428e7f",
   "metadata": {},
   "outputs": [],
   "source": [
    "#Define exponent function to generate data\n",
    "def expFunc(x0):\n",
    "    return np.exp(x0)"
   ]
  },
  {
   "cell_type": "code",
   "execution_count": 19,
   "id": "124a0d54",
   "metadata": {},
   "outputs": [],
   "source": [
    "expModel=[np.array([operators[4],operators[7]]),[variableSelect(0)],[]]"
   ]
  },
  {
   "cell_type": "code",
   "execution_count": 20,
   "id": "e9e03687",
   "metadata": {},
   "outputs": [
    {
     "data": {
      "text/plain": [
       "[array([<function exp at 0x00000117ACEAC860>,\n",
       "        <function inv at 0x00000117ACEACAE0>], dtype=object),\n",
       " [<function StackGP.variableSelect.<locals>.<lambda>(variables)>],\n",
       " []]"
      ]
     },
     "execution_count": 20,
     "metadata": {},
     "output_type": "execute_result"
    }
   ],
   "source": [
    "expModel"
   ]
  },
  {
   "cell_type": "code",
   "execution_count": 21,
   "id": "584995b7",
   "metadata": {},
   "outputs": [],
   "source": [
    "inputData=np.array([np.arange(100,105,.0013)])\n",
    "response=inputData[0]"
   ]
  },
  {
   "cell_type": "code",
   "execution_count": 22,
   "id": "28e204b3",
   "metadata": {},
   "outputs": [
    {
     "data": {
      "text/plain": [
       "0.001633367997849242"
      ]
     },
     "execution_count": 22,
     "metadata": {},
     "output_type": "execute_result"
    }
   ],
   "source": [
    "totalSharpness(expModel,inputData,response,numPerturbations=4000,percentPerturbation=0.2)"
   ]
  },
  {
   "cell_type": "code",
   "execution_count": null,
   "id": "9322972a",
   "metadata": {},
   "outputs": [],
   "source": []
  },
  {
   "cell_type": "code",
   "execution_count": 23,
   "id": "89f9d9ae",
   "metadata": {},
   "outputs": [],
   "source": [
    "from StackGP import *\n",
    "import numpy as np"
   ]
  },
  {
   "cell_type": "code",
   "execution_count": 24,
   "id": "ec48fdfd",
   "metadata": {},
   "outputs": [],
   "source": [
    "operators=allOps()"
   ]
  },
  {
   "cell_type": "code",
   "execution_count": 25,
   "id": "87c902ac",
   "metadata": {},
   "outputs": [],
   "source": [
    "#Define exponent function to generate data\n",
    "def expFunc(x0):\n",
    "    return np.exp(x0)"
   ]
  },
  {
   "cell_type": "code",
   "execution_count": 26,
   "id": "1d3069b5",
   "metadata": {},
   "outputs": [],
   "source": [
    "expModel=[np.array([operators[4],operators[8]]),[variableSelect(0)],[]]"
   ]
  },
  {
   "cell_type": "code",
   "execution_count": 27,
   "id": "18b6959b",
   "metadata": {},
   "outputs": [
    {
     "data": {
      "text/plain": [
       "[array([<function exp at 0x00000117ACEAC860>,\n",
       "        <function cos at 0x00000117ACEACC20>], dtype=object),\n",
       " [<function StackGP.variableSelect.<locals>.<lambda>(variables)>],\n",
       " []]"
      ]
     },
     "execution_count": 27,
     "metadata": {},
     "output_type": "execute_result"
    }
   ],
   "source": [
    "expModel"
   ]
  },
  {
   "cell_type": "code",
   "execution_count": 28,
   "id": "b5623a36",
   "metadata": {},
   "outputs": [],
   "source": [
    "inputData=np.array([np.arange(100,105,.0013)])\n",
    "response=inputData[0]"
   ]
  },
  {
   "cell_type": "code",
   "execution_count": 29,
   "id": "03ee99e6",
   "metadata": {},
   "outputs": [
    {
     "data": {
      "text/plain": [
       "0.000375915635621338"
      ]
     },
     "execution_count": 29,
     "metadata": {},
     "output_type": "execute_result"
    }
   ],
   "source": [
    "totalSharpness(expModel,inputData,response,numPerturbations=4000,percentPerturbation=0.2)"
   ]
  },
  {
   "cell_type": "code",
   "execution_count": null,
   "id": "95d6ea9b",
   "metadata": {},
   "outputs": [],
   "source": []
  },
  {
   "cell_type": "code",
   "execution_count": 30,
   "id": "a7c8c8c8",
   "metadata": {},
   "outputs": [],
   "source": [
    "from StackGP import *\n",
    "import numpy as np"
   ]
  },
  {
   "cell_type": "code",
   "execution_count": 31,
   "id": "8fbe8065",
   "metadata": {},
   "outputs": [],
   "source": [
    "operators=allOps()"
   ]
  },
  {
   "cell_type": "code",
   "execution_count": 32,
   "id": "b3a94e19",
   "metadata": {},
   "outputs": [],
   "source": [
    "#Define exponent function to generate data\n",
    "def expFunc(x0):\n",
    "    return np.exp(x0)"
   ]
  },
  {
   "cell_type": "code",
   "execution_count": 33,
   "id": "5406d2c0",
   "metadata": {},
   "outputs": [],
   "source": [
    "expModel=[np.array([operators[4],operators[9]]),[variableSelect(0)],[]]"
   ]
  },
  {
   "cell_type": "code",
   "execution_count": 34,
   "id": "da99b62d",
   "metadata": {},
   "outputs": [
    {
     "data": {
      "text/plain": [
       "[array([<function exp at 0x00000117ACEAC860>,\n",
       "        <function sin at 0x00000117ACEACB80>], dtype=object),\n",
       " [<function StackGP.variableSelect.<locals>.<lambda>(variables)>],\n",
       " []]"
      ]
     },
     "execution_count": 34,
     "metadata": {},
     "output_type": "execute_result"
    }
   ],
   "source": [
    "expModel"
   ]
  },
  {
   "cell_type": "code",
   "execution_count": 35,
   "id": "895151f5",
   "metadata": {},
   "outputs": [],
   "source": [
    "inputData=np.array([np.arange(100,105,.0013)])\n",
    "response=inputData[0]"
   ]
  },
  {
   "cell_type": "code",
   "execution_count": 36,
   "id": "3b13991b",
   "metadata": {},
   "outputs": [
    {
     "data": {
      "text/plain": [
       "0.0003758406686998534"
      ]
     },
     "execution_count": 36,
     "metadata": {},
     "output_type": "execute_result"
    }
   ],
   "source": [
    "totalSharpness(expModel,inputData,response,numPerturbations=4000,percentPerturbation=0.2)"
   ]
  },
  {
   "cell_type": "code",
   "execution_count": null,
   "id": "c1786ad8",
   "metadata": {},
   "outputs": [],
   "source": []
  },
  {
   "cell_type": "code",
   "execution_count": 37,
   "id": "eed1518c",
   "metadata": {},
   "outputs": [],
   "source": [
    "from StackGP import *\n",
    "import numpy as np"
   ]
  },
  {
   "cell_type": "code",
   "execution_count": 38,
   "id": "9af40d09",
   "metadata": {},
   "outputs": [],
   "source": [
    "operators=allOps()"
   ]
  },
  {
   "cell_type": "code",
   "execution_count": 39,
   "id": "171a31a5",
   "metadata": {},
   "outputs": [],
   "source": [
    "#Define exponent function to generate data\n",
    "def expFunc(x0):\n",
    "    return np.exp(x0)"
   ]
  },
  {
   "cell_type": "code",
   "execution_count": 40,
   "id": "ca19c8eb",
   "metadata": {},
   "outputs": [],
   "source": [
    "expModel=[np.array([operators[4],operators[10]]),[variableSelect(0)],[]]"
   ]
  },
  {
   "cell_type": "code",
   "execution_count": 41,
   "id": "ebe8e1c9",
   "metadata": {},
   "outputs": [
    {
     "data": {
      "text/plain": [
       "[array([<function exp at 0x00000117ACEAC860>,\n",
       "        <function tan at 0x00000117ACEACCC0>], dtype=object),\n",
       " [<function StackGP.variableSelect.<locals>.<lambda>(variables)>],\n",
       " []]"
      ]
     },
     "execution_count": 41,
     "metadata": {},
     "output_type": "execute_result"
    }
   ],
   "source": [
    "expModel"
   ]
  },
  {
   "cell_type": "code",
   "execution_count": 42,
   "id": "f06b9583",
   "metadata": {},
   "outputs": [],
   "source": [
    "inputData=np.array([np.arange(100,105,.0013)])\n",
    "response=inputData[0]"
   ]
  },
  {
   "cell_type": "code",
   "execution_count": 43,
   "id": "bcfd17c6",
   "metadata": {},
   "outputs": [
    {
     "data": {
      "text/plain": [
       "0.0003132458218262062"
      ]
     },
     "execution_count": 43,
     "metadata": {},
     "output_type": "execute_result"
    }
   ],
   "source": [
    "totalSharpness(expModel,inputData,response,numPerturbations=4000,percentPerturbation=0.2)"
   ]
  },
  {
   "cell_type": "code",
   "execution_count": null,
   "id": "32956daf",
   "metadata": {},
   "outputs": [],
   "source": []
  },
  {
   "cell_type": "code",
   "execution_count": 44,
   "id": "2bfae73a",
   "metadata": {},
   "outputs": [],
   "source": [
    "from StackGP import *\n",
    "import numpy as np"
   ]
  },
  {
   "cell_type": "code",
   "execution_count": 45,
   "id": "5afb94ec",
   "metadata": {},
   "outputs": [],
   "source": [
    "operators=allOps()"
   ]
  },
  {
   "cell_type": "code",
   "execution_count": 46,
   "id": "f9adf2fc",
   "metadata": {},
   "outputs": [],
   "source": [
    "#Define exponent function to generate data\n",
    "def expFunc(x0):\n",
    "    return np.exp(x0)"
   ]
  },
  {
   "cell_type": "code",
   "execution_count": 47,
   "id": "75d4d090",
   "metadata": {},
   "outputs": [],
   "source": [
    "expModel=[np.array([operators[4],operators[13]]),[variableSelect(0)],[]]"
   ]
  },
  {
   "cell_type": "code",
   "execution_count": 48,
   "id": "a860e901",
   "metadata": {},
   "outputs": [
    {
     "data": {
      "text/plain": [
       "[array([<function exp at 0x00000117ACEAC860>,\n",
       "        <function arctan at 0x00000117ACEACEA0>], dtype=object),\n",
       " [<function StackGP.variableSelect.<locals>.<lambda>(variables)>],\n",
       " []]"
      ]
     },
     "execution_count": 48,
     "metadata": {},
     "output_type": "execute_result"
    }
   ],
   "source": [
    "expModel"
   ]
  },
  {
   "cell_type": "code",
   "execution_count": 49,
   "id": "d528b186",
   "metadata": {},
   "outputs": [],
   "source": [
    "inputData=np.array([np.arange(100,105,.0013)])\n",
    "response=inputData[0]"
   ]
  },
  {
   "cell_type": "code",
   "execution_count": 50,
   "id": "cdb078a4",
   "metadata": {},
   "outputs": [
    {
     "data": {
      "text/plain": [
       "nan"
      ]
     },
     "execution_count": 50,
     "metadata": {},
     "output_type": "execute_result"
    }
   ],
   "source": [
    "totalSharpness(expModel,inputData,response,numPerturbations=4000,percentPerturbation=0.2)"
   ]
  },
  {
   "cell_type": "code",
   "execution_count": null,
   "id": "bf1139da",
   "metadata": {},
   "outputs": [],
   "source": []
  },
  {
   "cell_type": "code",
   "execution_count": 51,
   "id": "f18093e2",
   "metadata": {},
   "outputs": [],
   "source": [
    "from StackGP import *\n",
    "import numpy as np"
   ]
  },
  {
   "cell_type": "code",
   "execution_count": 52,
   "id": "75d6005f",
   "metadata": {},
   "outputs": [],
   "source": [
    "operators=allOps()"
   ]
  },
  {
   "cell_type": "code",
   "execution_count": 53,
   "id": "22a6ce01",
   "metadata": {},
   "outputs": [],
   "source": [
    "#Define exponent function to generate data\n",
    "def expFunc(x0):\n",
    "    return np.exp(x0)"
   ]
  },
  {
   "cell_type": "code",
   "execution_count": 54,
   "id": "fde59c64",
   "metadata": {},
   "outputs": [],
   "source": [
    "expModel=[np.array([operators[4],operators[14]]),[variableSelect(0)],[]]"
   ]
  },
  {
   "cell_type": "code",
   "execution_count": 55,
   "id": "5fc93a13",
   "metadata": {},
   "outputs": [
    {
     "data": {
      "text/plain": [
       "[array([<function exp at 0x00000117ACEAC860>,\n",
       "        <function tanh at 0x00000117ACEACF40>], dtype=object),\n",
       " [<function StackGP.variableSelect.<locals>.<lambda>(variables)>],\n",
       " []]"
      ]
     },
     "execution_count": 55,
     "metadata": {},
     "output_type": "execute_result"
    }
   ],
   "source": [
    "expModel"
   ]
  },
  {
   "cell_type": "code",
   "execution_count": 56,
   "id": "863de183",
   "metadata": {},
   "outputs": [],
   "source": [
    "inputData=np.array([np.arange(100,105,.0013)])\n",
    "response=inputData[0]"
   ]
  },
  {
   "cell_type": "code",
   "execution_count": 57,
   "id": "efa4c407",
   "metadata": {},
   "outputs": [
    {
     "data": {
      "text/plain": [
       "nan"
      ]
     },
     "execution_count": 57,
     "metadata": {},
     "output_type": "execute_result"
    }
   ],
   "source": [
    "totalSharpness(expModel,inputData,response,numPerturbations=4000,percentPerturbation=0.2)"
   ]
  },
  {
   "cell_type": "code",
   "execution_count": null,
   "id": "a517d70f",
   "metadata": {},
   "outputs": [],
   "source": []
  },
  {
   "cell_type": "code",
   "execution_count": 58,
   "id": "a885cc6b",
   "metadata": {},
   "outputs": [],
   "source": [
    "from StackGP import *\n",
    "import numpy as np"
   ]
  },
  {
   "cell_type": "code",
   "execution_count": 59,
   "id": "639ab8bc",
   "metadata": {},
   "outputs": [],
   "source": [
    "operators=allOps()"
   ]
  },
  {
   "cell_type": "code",
   "execution_count": 60,
   "id": "a0f73304",
   "metadata": {},
   "outputs": [],
   "source": [
    "#Define exponent function to generate data\n",
    "def expFunc(x0):\n",
    "    return np.exp(x0)"
   ]
  },
  {
   "cell_type": "code",
   "execution_count": 61,
   "id": "188770b9",
   "metadata": {},
   "outputs": [],
   "source": [
    "expModel=[np.array([operators[4],operators[15]]),[variableSelect(0)],[]]"
   ]
  },
  {
   "cell_type": "code",
   "execution_count": 62,
   "id": "c399b1a5",
   "metadata": {},
   "outputs": [
    {
     "data": {
      "text/plain": [
       "[array([<function exp at 0x00000117ACEAC860>,\n",
       "        <function log at 0x00000117ACEACFE0>], dtype=object),\n",
       " [<function StackGP.variableSelect.<locals>.<lambda>(variables)>],\n",
       " []]"
      ]
     },
     "execution_count": 62,
     "metadata": {},
     "output_type": "execute_result"
    }
   ],
   "source": [
    "expModel"
   ]
  },
  {
   "cell_type": "code",
   "execution_count": 63,
   "id": "781296b2",
   "metadata": {},
   "outputs": [],
   "source": [
    "inputData=np.array([np.arange(100,105,.0013)])\n",
    "response=inputData[0]"
   ]
  },
  {
   "cell_type": "code",
   "execution_count": 65,
   "id": "5a58817d",
   "metadata": {},
   "outputs": [
    {
     "data": {
      "text/plain": [
       "4.811952002665972e-05"
      ]
     },
     "execution_count": 65,
     "metadata": {},
     "output_type": "execute_result"
    }
   ],
   "source": [
    "totalSharpness(expModel,inputData,response,numPerturbations=4000,percentPerturbation=0.2)"
   ]
  },
  {
   "cell_type": "code",
   "execution_count": 66,
   "id": "e3719bf6",
   "metadata": {},
   "outputs": [
    {
     "data": {
      "image/png": "[encoded data removed]",
      "text/plain": [
       "<Figure size 1000x500 with 1 Axes>"
      ]
     },
     "metadata": {},
     "output_type": "display_data"
    }
   ],
   "source": [
    "import numpy as np\n",
    "import matplotlib.pyplot as plt \n",
    "\n",
    " \n",
    "# creating the dataset\n",
    "data = {'tanh':0.00005424506,'arctan':0.0000538973271,'inv':0.0000537825,'sin':0.00005322212,'log':0.0000531159,'tan':0.000052965219,'sqrt':0.0000528848,'cos':0.000052807548,'sqrd':0.000052386}\n",
    "courses = list(data.keys())\n",
    "values = list(data.values())\n",
    " \n",
    "fig = plt.figure(figsize = (10, 5))\n",
    "\n",
    "# creating the bar plot\n",
    "plt.bar(courses, values, color ='maroon', \n",
    "        width = 0.4)\n",
    "\n",
    "plt.xlabel(\"Functions\")\n",
    "plt.ylabel(\"Exp\")\n",
    "plt.title(\"Exponent Function Combinations [100,105]\")\n",
    "plt.yscale(\"log\")\n",
    "plt.show()\n"
   ]
  },
  {
   "cell_type": "markdown",
   "id": "04f4a6eb",
   "metadata": {},
   "source": [
    "# Squared Function Combinations"
   ]
  },
  {
   "cell_type": "code",
   "execution_count": 406,
   "id": "1ca99f11",
   "metadata": {},
   "outputs": [],
   "source": [
    "from StackGP import *\n",
    "import numpy as np"
   ]
  },
  {
   "cell_type": "code",
   "execution_count": 407,
   "id": "6ab1b0a7",
   "metadata": {},
   "outputs": [],
   "source": [
    "operators=allOps()"
   ]
  },
  {
   "cell_type": "code",
   "execution_count": 408,
   "id": "bb2d8b85",
   "metadata": {},
   "outputs": [],
   "source": [
    "#Define squared function to generate data\n",
    "def sqrdFunc(x0):\n",
    "    return np.sqrd(x0)"
   ]
  },
  {
   "cell_type": "code",
   "execution_count": 409,
   "id": "e92a06bf",
   "metadata": {},
   "outputs": [],
   "source": [
    "sqrdModel=[np.array([operators[5],operators[4]]),[variableSelect(0)],[]]"
   ]
  },
  {
   "cell_type": "code",
   "execution_count": 410,
   "id": "0e1e9655",
   "metadata": {},
   "outputs": [
    {
     "data": {
      "text/plain": [
       "[array([<function sqrd at 0x000002C52F9D8A40>,\n",
       "        <function exp at 0x000002C52F9D8860>], dtype=object),\n",
       " [<function StackGP.variableSelect.<locals>.<lambda>(variables)>],\n",
       " []]"
      ]
     },
     "execution_count": 410,
     "metadata": {},
     "output_type": "execute_result"
    }
   ],
   "source": [
    "sqrdModel"
   ]
  },
  {
   "cell_type": "code",
   "execution_count": 412,
   "id": "34760cdf",
   "metadata": {},
   "outputs": [],
   "source": [
    "inputData=np.array([np.arange(100,105,.0013)])\n",
    "response=inputData[0]"
   ]
  },
  {
   "cell_type": "code",
   "execution_count": 413,
   "id": "f55d6d7c",
   "metadata": {},
   "outputs": [
    {
     "data": {
      "text/plain": [
       "nan"
      ]
     },
     "execution_count": 413,
     "metadata": {},
     "output_type": "execute_result"
    }
   ],
   "source": [
    "totalSharpness(sqrdModel,inputData,response,numPerturbations=4000,percentPerturbation=0.2)"
   ]
  },
  {
   "cell_type": "code",
   "execution_count": null,
   "id": "3d3abbf7",
   "metadata": {},
   "outputs": [],
   "source": []
  },
  {
   "cell_type": "code",
   "execution_count": 414,
   "id": "322af2c7",
   "metadata": {},
   "outputs": [],
   "source": [
    "from StackGP import *\n",
    "import numpy as np"
   ]
  },
  {
   "cell_type": "code",
   "execution_count": 415,
   "id": "9d1588bb",
   "metadata": {},
   "outputs": [],
   "source": [
    "operators=allOps()"
   ]
  },
  {
   "cell_type": "code",
   "execution_count": 735,
   "id": "e2b251ae",
   "metadata": {},
   "outputs": [],
   "source": [
    "#Define squared function to generate data\n",
    "def sqrdFunc(x0):\n",
    "    return np.sqrd(x0)"
   ]
  },
  {
   "cell_type": "code",
   "execution_count": 736,
   "id": "b8207aea",
   "metadata": {},
   "outputs": [],
   "source": [
    "sqrdModel=[np.array([operators[5],operators[6]]),[variableSelect(0)],[]]"
   ]
  },
  {
   "cell_type": "code",
   "execution_count": 737,
   "id": "495bfea4",
   "metadata": {},
   "outputs": [
    {
     "data": {
      "text/plain": [
       "[array([<function sqrd at 0x000002C52F9D8A40>,\n",
       "        <function sqrt at 0x000002C52F9D89A0>], dtype=object),\n",
       " [<function StackGP.variableSelect.<locals>.<lambda>(variables)>],\n",
       " []]"
      ]
     },
     "execution_count": 737,
     "metadata": {},
     "output_type": "execute_result"
    }
   ],
   "source": [
    "sqrdModel"
   ]
  },
  {
   "cell_type": "code",
   "execution_count": 738,
   "id": "817bda29",
   "metadata": {},
   "outputs": [],
   "source": [
    "inputData=np.array([np.arange(100,105,.0013)])\n",
    "response=inputData[0]"
   ]
  },
  {
   "cell_type": "code",
   "execution_count": 739,
   "id": "0d636d91",
   "metadata": {},
   "outputs": [
    {
     "data": {
      "text/plain": [
       "4.904786325149078e-05"
      ]
     },
     "execution_count": 739,
     "metadata": {},
     "output_type": "execute_result"
    }
   ],
   "source": [
    "totalSharpness(sqrdModel,inputData,response,numPerturbations=4000,percentPerturbation=0.2)"
   ]
  },
  {
   "cell_type": "code",
   "execution_count": null,
   "id": "d8d3ab11",
   "metadata": {},
   "outputs": [],
   "source": []
  },
  {
   "cell_type": "code",
   "execution_count": 421,
   "id": "57260788",
   "metadata": {},
   "outputs": [],
   "source": [
    "from StackGP import *\n",
    "import numpy as np"
   ]
  },
  {
   "cell_type": "code",
   "execution_count": 422,
   "id": "c7f4dd6b",
   "metadata": {},
   "outputs": [],
   "source": [
    "operators=allOps()"
   ]
  },
  {
   "cell_type": "code",
   "execution_count": 423,
   "id": "6b7ad585",
   "metadata": {},
   "outputs": [],
   "source": [
    "#Define squared function to generate data\n",
    "def sqrdFunc(x0):\n",
    "    return np.sqrd(x0)"
   ]
  },
  {
   "cell_type": "code",
   "execution_count": 424,
   "id": "df1ba60e",
   "metadata": {},
   "outputs": [],
   "source": [
    "sqrdModel=[np.array([operators[5],operators[7]]),[variableSelect(0)],[]]"
   ]
  },
  {
   "cell_type": "code",
   "execution_count": 427,
   "id": "f65df2a6",
   "metadata": {},
   "outputs": [
    {
     "data": {
      "text/plain": [
       "[array([<function sqrd at 0x000002813605CA40>,\n",
       "        <function inv at 0x000002813605CAE0>], dtype=object),\n",
       " [<function StackGP.variableSelect.<locals>.<lambda>(variables)>],\n",
       " []]"
      ]
     },
     "execution_count": 427,
     "metadata": {},
     "output_type": "execute_result"
    }
   ],
   "source": [
    "sqrdModel"
   ]
  },
  {
   "cell_type": "code",
   "execution_count": 425,
   "id": "821deafe",
   "metadata": {},
   "outputs": [],
   "source": [
    "inputData=np.array([np.arange(100,105,.0013)])\n",
    "response=inputData[0]"
   ]
  },
  {
   "cell_type": "code",
   "execution_count": 426,
   "id": "11f36c82",
   "metadata": {},
   "outputs": [
    {
     "data": {
      "text/plain": [
       "5.9603215367159374e-05"
      ]
     },
     "execution_count": 426,
     "metadata": {},
     "output_type": "execute_result"
    }
   ],
   "source": [
    "totalSharpness(sqrdModel,inputData,response,numPerturbations=4000,percentPerturbation=0.2)"
   ]
  },
  {
   "cell_type": "code",
   "execution_count": null,
   "id": "46108be2",
   "metadata": {},
   "outputs": [],
   "source": []
  },
  {
   "cell_type": "code",
   "execution_count": 427,
   "id": "4c265299",
   "metadata": {},
   "outputs": [],
   "source": [
    "from StackGP import *\n",
    "import numpy as np"
   ]
  },
  {
   "cell_type": "code",
   "execution_count": 428,
   "id": "841fe4d0",
   "metadata": {},
   "outputs": [],
   "source": [
    "operators=allOps()"
   ]
  },
  {
   "cell_type": "code",
   "execution_count": 429,
   "id": "29ecfa82",
   "metadata": {},
   "outputs": [],
   "source": [
    "#Define squared function to generate data\n",
    "def sqrdFunc(x0):\n",
    "    return np.sqrd(x0)"
   ]
  },
  {
   "cell_type": "code",
   "execution_count": 430,
   "id": "95a9a06f",
   "metadata": {},
   "outputs": [],
   "source": [
    "sqrdModel=[np.array([operators[5],operators[8]]),[variableSelect(0)],[]]"
   ]
  },
  {
   "cell_type": "code",
   "execution_count": 431,
   "id": "1479f054",
   "metadata": {},
   "outputs": [
    {
     "data": {
      "text/plain": [
       "[array([<function sqrd at 0x000002C52F9D8A40>,\n",
       "        <function cos at 0x000002C52F9D8C20>], dtype=object),\n",
       " [<function StackGP.variableSelect.<locals>.<lambda>(variables)>],\n",
       " []]"
      ]
     },
     "execution_count": 431,
     "metadata": {},
     "output_type": "execute_result"
    }
   ],
   "source": [
    "sqrdModel"
   ]
  },
  {
   "cell_type": "code",
   "execution_count": 432,
   "id": "057aaafd",
   "metadata": {},
   "outputs": [],
   "source": [
    "inputData=np.array([np.arange(100,105,.0013)])\n",
    "response=inputData[0]"
   ]
  },
  {
   "cell_type": "code",
   "execution_count": 433,
   "id": "9702b6c0",
   "metadata": {},
   "outputs": [
    {
     "data": {
      "text/plain": [
       "0.0003857338361742393"
      ]
     },
     "execution_count": 433,
     "metadata": {},
     "output_type": "execute_result"
    }
   ],
   "source": [
    "totalSharpness(sqrdModel,inputData,response,numPerturbations=4000,percentPerturbation=0.2)"
   ]
  },
  {
   "cell_type": "code",
   "execution_count": null,
   "id": "c7768e40",
   "metadata": {},
   "outputs": [],
   "source": []
  },
  {
   "cell_type": "code",
   "execution_count": 434,
   "id": "b8ff1990",
   "metadata": {},
   "outputs": [],
   "source": [
    "from StackGP import *\n",
    "import numpy as np"
   ]
  },
  {
   "cell_type": "code",
   "execution_count": 435,
   "id": "ba20252d",
   "metadata": {},
   "outputs": [],
   "source": [
    "operators=allOps()"
   ]
  },
  {
   "cell_type": "code",
   "execution_count": 436,
   "id": "800dbd75",
   "metadata": {},
   "outputs": [],
   "source": [
    "#Define squared function to generate data\n",
    "def sqrdFunc(x0):\n",
    "    return np.sqrd(x0)"
   ]
  },
  {
   "cell_type": "code",
   "execution_count": 437,
   "id": "c41ce060",
   "metadata": {},
   "outputs": [],
   "source": [
    "sqrdModel=[np.array([operators[5],operators[9]]),[variableSelect(0)],[]]"
   ]
  },
  {
   "cell_type": "code",
   "execution_count": 438,
   "id": "740c31af",
   "metadata": {},
   "outputs": [
    {
     "data": {
      "text/plain": [
       "[array([<function sqrd at 0x000002C52F9D8A40>,\n",
       "        <function sin at 0x000002C52F9D8B80>], dtype=object),\n",
       " [<function StackGP.variableSelect.<locals>.<lambda>(variables)>],\n",
       " []]"
      ]
     },
     "execution_count": 438,
     "metadata": {},
     "output_type": "execute_result"
    }
   ],
   "source": [
    "sqrdModel"
   ]
  },
  {
   "cell_type": "code",
   "execution_count": 439,
   "id": "471d9cc1",
   "metadata": {},
   "outputs": [],
   "source": [
    "inputData=np.array([np.arange(100,105,.0013)])\n",
    "response=inputData[0]"
   ]
  },
  {
   "cell_type": "code",
   "execution_count": 440,
   "id": "0d82547b",
   "metadata": {},
   "outputs": [
    {
     "data": {
      "text/plain": [
       "0.00038138483329366884"
      ]
     },
     "execution_count": 440,
     "metadata": {},
     "output_type": "execute_result"
    }
   ],
   "source": [
    "totalSharpness(sqrdModel,inputData,response,numPerturbations=4000,percentPerturbation=0.2)"
   ]
  },
  {
   "cell_type": "code",
   "execution_count": null,
   "id": "f696e245",
   "metadata": {},
   "outputs": [],
   "source": []
  },
  {
   "cell_type": "code",
   "execution_count": 441,
   "id": "a6e36e93",
   "metadata": {},
   "outputs": [],
   "source": [
    "from StackGP import *\n",
    "import numpy as np"
   ]
  },
  {
   "cell_type": "code",
   "execution_count": 442,
   "id": "4ee4cc6d",
   "metadata": {},
   "outputs": [],
   "source": [
    "operators=allOps()"
   ]
  },
  {
   "cell_type": "code",
   "execution_count": 443,
   "id": "7006f925",
   "metadata": {},
   "outputs": [],
   "source": [
    "#Define squared function to generate data\n",
    "def sqrdFunc(x0):\n",
    "    return np.sqrd(x0)"
   ]
  },
  {
   "cell_type": "code",
   "execution_count": 444,
   "id": "eb18b322",
   "metadata": {},
   "outputs": [],
   "source": [
    "sqrdModel=[np.array([operators[5],operators[10]]),[variableSelect(0)],[]]"
   ]
  },
  {
   "cell_type": "code",
   "execution_count": 445,
   "id": "b2689862",
   "metadata": {},
   "outputs": [
    {
     "data": {
      "text/plain": [
       "[array([<function sqrd at 0x000002C52F9D8A40>,\n",
       "        <function tan at 0x000002C52F9D8CC0>], dtype=object),\n",
       " [<function StackGP.variableSelect.<locals>.<lambda>(variables)>],\n",
       " []]"
      ]
     },
     "execution_count": 445,
     "metadata": {},
     "output_type": "execute_result"
    }
   ],
   "source": [
    "sqrdModel"
   ]
  },
  {
   "cell_type": "code",
   "execution_count": 446,
   "id": "0e5b5681",
   "metadata": {},
   "outputs": [],
   "source": [
    "inputData=np.array([np.arange(100,105,.0013)])\n",
    "response=inputData[0]"
   ]
  },
  {
   "cell_type": "code",
   "execution_count": 447,
   "id": "1f0f6425",
   "metadata": {},
   "outputs": [
    {
     "data": {
      "text/plain": [
       "0.00030949203703190995"
      ]
     },
     "execution_count": 447,
     "metadata": {},
     "output_type": "execute_result"
    }
   ],
   "source": [
    "totalSharpness(sqrdModel,inputData,response,numPerturbations=4000,percentPerturbation=0.2)"
   ]
  },
  {
   "cell_type": "code",
   "execution_count": null,
   "id": "b8a21fcc",
   "metadata": {},
   "outputs": [],
   "source": []
  },
  {
   "cell_type": "code",
   "execution_count": 448,
   "id": "d4018b72",
   "metadata": {},
   "outputs": [],
   "source": [
    "from StackGP import *\n",
    "import numpy as np"
   ]
  },
  {
   "cell_type": "code",
   "execution_count": 449,
   "id": "28b5d818",
   "metadata": {},
   "outputs": [],
   "source": [
    "operators=allOps()"
   ]
  },
  {
   "cell_type": "code",
   "execution_count": 450,
   "id": "b6df17f4",
   "metadata": {},
   "outputs": [],
   "source": [
    "#Define squared function to generate data\n",
    "def sqrdFunc(x0):\n",
    "    return np.sqrd(x0)"
   ]
  },
  {
   "cell_type": "code",
   "execution_count": 451,
   "id": "aac981b6",
   "metadata": {},
   "outputs": [],
   "source": [
    "sqrdModel=[np.array([operators[5],operators[13]]),[variableSelect(0)],[]]"
   ]
  },
  {
   "cell_type": "code",
   "execution_count": 452,
   "id": "ed6f4c05",
   "metadata": {},
   "outputs": [
    {
     "data": {
      "text/plain": [
       "[array([<function sqrd at 0x000002C52F9D8A40>,\n",
       "        <function arctan at 0x000002C52F9D8EA0>], dtype=object),\n",
       " [<function StackGP.variableSelect.<locals>.<lambda>(variables)>],\n",
       " []]"
      ]
     },
     "execution_count": 452,
     "metadata": {},
     "output_type": "execute_result"
    }
   ],
   "source": [
    "sqrdModel"
   ]
  },
  {
   "cell_type": "code",
   "execution_count": 453,
   "id": "1f9b2da6",
   "metadata": {},
   "outputs": [],
   "source": [
    "inputData=np.array([np.arange(100,105,.0013)])\n",
    "response=inputData[0]"
   ]
  },
  {
   "cell_type": "code",
   "execution_count": 454,
   "id": "40127d4c",
   "metadata": {},
   "outputs": [
    {
     "data": {
      "text/plain": [
       "5.966315043730458e-05"
      ]
     },
     "execution_count": 454,
     "metadata": {},
     "output_type": "execute_result"
    }
   ],
   "source": [
    "totalSharpness(sqrdModel,inputData,response,numPerturbations=4000,percentPerturbation=0.2)"
   ]
  },
  {
   "cell_type": "code",
   "execution_count": null,
   "id": "592e9847",
   "metadata": {},
   "outputs": [],
   "source": []
  },
  {
   "cell_type": "code",
   "execution_count": 455,
   "id": "a380592e",
   "metadata": {},
   "outputs": [],
   "source": [
    "from StackGP import *\n",
    "import numpy as np"
   ]
  },
  {
   "cell_type": "code",
   "execution_count": 456,
   "id": "36c9c418",
   "metadata": {},
   "outputs": [],
   "source": [
    "operators=allOps()"
   ]
  },
  {
   "cell_type": "code",
   "execution_count": 457,
   "id": "adfc986d",
   "metadata": {},
   "outputs": [],
   "source": [
    "#Define squared function to generate data\n",
    "def sqrdFunc(x0):\n",
    "    return np.sqrd(x0)"
   ]
  },
  {
   "cell_type": "code",
   "execution_count": 458,
   "id": "d1514f5c",
   "metadata": {},
   "outputs": [],
   "source": [
    "sqrdModel=[np.array([operators[5],operators[14]]),[variableSelect(0)],[]]"
   ]
  },
  {
   "cell_type": "code",
   "execution_count": 459,
   "id": "8d5f4e9d",
   "metadata": {},
   "outputs": [
    {
     "data": {
      "text/plain": [
       "[array([<function sqrd at 0x000002C52F9D8A40>,\n",
       "        <function tanh at 0x000002C52F9D8F40>], dtype=object),\n",
       " [<function StackGP.variableSelect.<locals>.<lambda>(variables)>],\n",
       " []]"
      ]
     },
     "execution_count": 459,
     "metadata": {},
     "output_type": "execute_result"
    }
   ],
   "source": [
    "sqrdModel"
   ]
  },
  {
   "cell_type": "code",
   "execution_count": 461,
   "id": "759887ae",
   "metadata": {},
   "outputs": [],
   "source": [
    "inputData=np.array([np.arange(100,105,.0013)])\n",
    "response=inputData[0]"
   ]
  },
  {
   "cell_type": "code",
   "execution_count": 462,
   "id": "31d23bcf",
   "metadata": {},
   "outputs": [
    {
     "data": {
      "text/plain": [
       "nan"
      ]
     },
     "execution_count": 462,
     "metadata": {},
     "output_type": "execute_result"
    }
   ],
   "source": [
    "totalSharpness(sqrdModel,inputData,response,numPerturbations=4000,percentPerturbation=0.2)"
   ]
  },
  {
   "cell_type": "code",
   "execution_count": null,
   "id": "9b728aef",
   "metadata": {},
   "outputs": [],
   "source": []
  },
  {
   "cell_type": "code",
   "execution_count": 463,
   "id": "5c6394eb",
   "metadata": {},
   "outputs": [],
   "source": [
    "from StackGP import *\n",
    "import numpy as np"
   ]
  },
  {
   "cell_type": "code",
   "execution_count": 464,
   "id": "d3b71a7b",
   "metadata": {},
   "outputs": [],
   "source": [
    "operators=allOps()"
   ]
  },
  {
   "cell_type": "code",
   "execution_count": 465,
   "id": "3028c292",
   "metadata": {},
   "outputs": [],
   "source": [
    "#Define squared function to generate data\n",
    "def sqrdFunc(x0):\n",
    "    return np.sqrd(x0)"
   ]
  },
  {
   "cell_type": "code",
   "execution_count": 466,
   "id": "170f373b",
   "metadata": {},
   "outputs": [],
   "source": [
    "sqrdModel=[np.array([operators[5],operators[15]]),[variableSelect(0)],[]]"
   ]
  },
  {
   "cell_type": "code",
   "execution_count": 467,
   "id": "9655134c",
   "metadata": {},
   "outputs": [
    {
     "data": {
      "text/plain": [
       "[array([<function sqrd at 0x000002C52F9D8A40>,\n",
       "        <function log at 0x000002C52F9D8FE0>], dtype=object),\n",
       " [<function StackGP.variableSelect.<locals>.<lambda>(variables)>],\n",
       " []]"
      ]
     },
     "execution_count": 467,
     "metadata": {},
     "output_type": "execute_result"
    }
   ],
   "source": [
    "sqrdModel"
   ]
  },
  {
   "cell_type": "code",
   "execution_count": 468,
   "id": "f0dee5f3",
   "metadata": {},
   "outputs": [],
   "source": [
    "inputData=np.array([np.arange(100,105,.0013)])\n",
    "response=inputData[0]"
   ]
  },
  {
   "cell_type": "code",
   "execution_count": 469,
   "id": "f0c55550",
   "metadata": {},
   "outputs": [
    {
     "data": {
      "text/plain": [
       "4.867371614630732e-05"
      ]
     },
     "execution_count": 469,
     "metadata": {},
     "output_type": "execute_result"
    }
   ],
   "source": [
    "totalSharpness(sqrdModel,inputData,response,numPerturbations=4000,percentPerturbation=0.2)"
   ]
  },
  {
   "cell_type": "code",
   "execution_count": 471,
   "id": "a9bf5e53",
   "metadata": {},
   "outputs": [
    {
     "data": {
      "image/png": "[encoded data removed]",
      "text/plain": [
       "<Figure size 1000x500 with 1 Axes>"
      ]
     },
     "metadata": {},
     "output_type": "display_data"
    }
   ],
   "source": [
    "import numpy as np\n",
    "import matplotlib.pyplot as plt \n",
    "\n",
    " \n",
    "# creating the dataset\n",
    "data = {'exp':1,'tanh':1,'sqrt':0.00043547,'cos':0.00038573383,'sin':0.000381384,'tan':0.000309492,'arctan':0.000059663,'inv':0.0000596032,'log':0.00004867}\n",
    "courses = list(data.keys())\n",
    "values = list(data.values())\n",
    " \n",
    "fig = plt.figure(figsize = (10, 5))\n",
    "\n",
    "# creating the bar plot\n",
    "plt.bar(courses, values, color ='maroon', \n",
    "        width = 0.4)\n",
    "\n",
    "plt.xlabel(\"Functions\")\n",
    "plt.ylabel(\"Sqrd\")\n",
    "plt.title(\"Squared Function Combinations [100,105]\")\n",
    "plt.yscale(\"log\")\n",
    "plt.show()\n"
   ]
  },
  {
   "cell_type": "markdown",
   "id": "d1c7d317",
   "metadata": {},
   "source": [
    "# Square root Function Combinations"
   ]
  },
  {
   "cell_type": "code",
   "execution_count": 472,
   "id": "bc8d40cd",
   "metadata": {},
   "outputs": [],
   "source": [
    "from StackGP import *\n",
    "import numpy as np"
   ]
  },
  {
   "cell_type": "code",
   "execution_count": 473,
   "id": "cd33333f",
   "metadata": {},
   "outputs": [],
   "source": [
    "operators=allOps()"
   ]
  },
  {
   "cell_type": "code",
   "execution_count": 474,
   "id": "8a94930a",
   "metadata": {},
   "outputs": [],
   "source": [
    "#Define square root function to generate data\n",
    "def sqrtFunc(x0):\n",
    "    return np.sqrt(x0)"
   ]
  },
  {
   "cell_type": "code",
   "execution_count": 475,
   "id": "5a7f9ed7",
   "metadata": {},
   "outputs": [],
   "source": [
    "sqrtModel=[np.array([operators[6],operators[4]]),[variableSelect(0)],[]]"
   ]
  },
  {
   "cell_type": "code",
   "execution_count": 476,
   "id": "6c72951e",
   "metadata": {},
   "outputs": [
    {
     "data": {
      "text/plain": [
       "[array([<function sqrt at 0x000002C52F9D89A0>,\n",
       "        <function exp at 0x000002C52F9D8860>], dtype=object),\n",
       " [<function StackGP.variableSelect.<locals>.<lambda>(variables)>],\n",
       " []]"
      ]
     },
     "execution_count": 476,
     "metadata": {},
     "output_type": "execute_result"
    }
   ],
   "source": [
    "sqrtModel"
   ]
  },
  {
   "cell_type": "code",
   "execution_count": 477,
   "id": "290e7e62",
   "metadata": {},
   "outputs": [],
   "source": [
    "inputData=np.array([np.arange(100,105,.0013)])\n",
    "response=inputData[0]"
   ]
  },
  {
   "cell_type": "code",
   "execution_count": 478,
   "id": "2de85d67",
   "metadata": {},
   "outputs": [
    {
     "data": {
      "text/plain": [
       "7.158094939036461e-05"
      ]
     },
     "execution_count": 478,
     "metadata": {},
     "output_type": "execute_result"
    }
   ],
   "source": [
    "totalSharpness(sqrtModel,inputData,response,numPerturbations=4000,percentPerturbation=0.2)"
   ]
  },
  {
   "cell_type": "code",
   "execution_count": null,
   "id": "4e591a43",
   "metadata": {},
   "outputs": [],
   "source": []
  },
  {
   "cell_type": "code",
   "execution_count": 479,
   "id": "74aa4eda",
   "metadata": {},
   "outputs": [],
   "source": [
    "from StackGP import *\n",
    "import numpy as np"
   ]
  },
  {
   "cell_type": "code",
   "execution_count": 480,
   "id": "2bac7cfa",
   "metadata": {},
   "outputs": [],
   "source": [
    "operators=allOps()"
   ]
  },
  {
   "cell_type": "code",
   "execution_count": 481,
   "id": "7c56bbe5",
   "metadata": {},
   "outputs": [],
   "source": [
    "#Define square root function to generate data\n",
    "def sqrtFunc(x0):\n",
    "    return np.sqrt(x0)"
   ]
  },
  {
   "cell_type": "code",
   "execution_count": 482,
   "id": "86aacbdc",
   "metadata": {},
   "outputs": [],
   "source": [
    "sqrtModel=[np.array([operators[6],operators[5]]),[variableSelect(0)],[]]"
   ]
  },
  {
   "cell_type": "code",
   "execution_count": 483,
   "id": "2a56d86b",
   "metadata": {},
   "outputs": [
    {
     "data": {
      "text/plain": [
       "[array([<function sqrt at 0x000002C52F9D89A0>,\n",
       "        <function sqrd at 0x000002C52F9D8A40>], dtype=object),\n",
       " [<function StackGP.variableSelect.<locals>.<lambda>(variables)>],\n",
       " []]"
      ]
     },
     "execution_count": 483,
     "metadata": {},
     "output_type": "execute_result"
    }
   ],
   "source": [
    "sqrtModel"
   ]
  },
  {
   "cell_type": "code",
   "execution_count": 484,
   "id": "19cd618c",
   "metadata": {},
   "outputs": [],
   "source": [
    "inputData=np.array([np.arange(100,105,.0013)])\n",
    "response=inputData[0]"
   ]
  },
  {
   "cell_type": "code",
   "execution_count": 485,
   "id": "30fd0a63",
   "metadata": {},
   "outputs": [
    {
     "data": {
      "text/plain": [
       "4.802193429212957e-05"
      ]
     },
     "execution_count": 485,
     "metadata": {},
     "output_type": "execute_result"
    }
   ],
   "source": [
    "totalSharpness(sqrtModel,inputData,response,numPerturbations=4000,percentPerturbation=0.2)"
   ]
  },
  {
   "cell_type": "code",
   "execution_count": null,
   "id": "53b890b7",
   "metadata": {},
   "outputs": [],
   "source": []
  },
  {
   "cell_type": "code",
   "execution_count": 486,
   "id": "9fda78fd",
   "metadata": {},
   "outputs": [],
   "source": [
    "from StackGP import *\n",
    "import numpy as np"
   ]
  },
  {
   "cell_type": "code",
   "execution_count": 487,
   "id": "9fab0c7a",
   "metadata": {},
   "outputs": [],
   "source": [
    "operators=allOps()"
   ]
  },
  {
   "cell_type": "code",
   "execution_count": 488,
   "id": "3ba503bd",
   "metadata": {},
   "outputs": [],
   "source": [
    "#Define square root function to generate data\n",
    "def sqrtFunc(x0):\n",
    "    return np.sqrt(x0)"
   ]
  },
  {
   "cell_type": "code",
   "execution_count": 489,
   "id": "29764e8d",
   "metadata": {},
   "outputs": [],
   "source": [
    "sqrtModel=[np.array([operators[6],operators[7]]),[variableSelect(0)],[]]"
   ]
  },
  {
   "cell_type": "code",
   "execution_count": 490,
   "id": "8cf37365",
   "metadata": {},
   "outputs": [
    {
     "data": {
      "text/plain": [
       "[array([<function sqrt at 0x000002C52F9D89A0>,\n",
       "        <function inv at 0x000002C52F9D8AE0>], dtype=object),\n",
       " [<function StackGP.variableSelect.<locals>.<lambda>(variables)>],\n",
       " []]"
      ]
     },
     "execution_count": 490,
     "metadata": {},
     "output_type": "execute_result"
    }
   ],
   "source": [
    "sqrtModel"
   ]
  },
  {
   "cell_type": "code",
   "execution_count": 491,
   "id": "cb93784c",
   "metadata": {},
   "outputs": [],
   "source": [
    "inputData=np.array([np.arange(100,105,.0013)])\n",
    "response=inputData[0]"
   ]
  },
  {
   "cell_type": "code",
   "execution_count": 492,
   "id": "33b8a784",
   "metadata": {},
   "outputs": [
    {
     "data": {
      "text/plain": [
       "4.997952494147643e-05"
      ]
     },
     "execution_count": 492,
     "metadata": {},
     "output_type": "execute_result"
    }
   ],
   "source": [
    "totalSharpness(sqrtModel,inputData,response,numPerturbations=4000,percentPerturbation=0.2)"
   ]
  },
  {
   "cell_type": "code",
   "execution_count": null,
   "id": "f16cc3e0",
   "metadata": {},
   "outputs": [],
   "source": []
  },
  {
   "cell_type": "code",
   "execution_count": 493,
   "id": "7b9858f8",
   "metadata": {},
   "outputs": [],
   "source": [
    "from StackGP import *\n",
    "import numpy as np"
   ]
  },
  {
   "cell_type": "code",
   "execution_count": 494,
   "id": "f290c1e6",
   "metadata": {},
   "outputs": [],
   "source": [
    "operators=allOps()"
   ]
  },
  {
   "cell_type": "code",
   "execution_count": 495,
   "id": "f1563c01",
   "metadata": {},
   "outputs": [],
   "source": [
    "#Define square root function to generate data\n",
    "def sqrtFunc(x0):\n",
    "    return np.sqrt(x0)"
   ]
  },
  {
   "cell_type": "code",
   "execution_count": 496,
   "id": "6c8228b8",
   "metadata": {},
   "outputs": [],
   "source": [
    "sqrtModel=[np.array([operators[6],operators[8]]),[variableSelect(0)],[]]"
   ]
  },
  {
   "cell_type": "code",
   "execution_count": 497,
   "id": "43b198e7",
   "metadata": {},
   "outputs": [
    {
     "data": {
      "text/plain": [
       "[array([<function sqrt at 0x000002C52F9D89A0>,\n",
       "        <function cos at 0x000002C52F9D8C20>], dtype=object),\n",
       " [<function StackGP.variableSelect.<locals>.<lambda>(variables)>],\n",
       " []]"
      ]
     },
     "execution_count": 497,
     "metadata": {},
     "output_type": "execute_result"
    }
   ],
   "source": [
    "sqrtModel"
   ]
  },
  {
   "cell_type": "code",
   "execution_count": 498,
   "id": "1052e8ca",
   "metadata": {},
   "outputs": [],
   "source": [
    "inputData=np.array([np.arange(100,105,.0013)])\n",
    "response=inputData[0]"
   ]
  },
  {
   "cell_type": "code",
   "execution_count": 499,
   "id": "c1e7997b",
   "metadata": {},
   "outputs": [
    {
     "data": {
      "text/plain": [
       "8.054170781258402e-05"
      ]
     },
     "execution_count": 499,
     "metadata": {},
     "output_type": "execute_result"
    }
   ],
   "source": [
    "totalSharpness(sqrtModel,inputData,response,numPerturbations=4000,percentPerturbation=0.2)"
   ]
  },
  {
   "cell_type": "code",
   "execution_count": null,
   "id": "2db4a305",
   "metadata": {},
   "outputs": [],
   "source": []
  },
  {
   "cell_type": "code",
   "execution_count": 500,
   "id": "e736051e",
   "metadata": {},
   "outputs": [],
   "source": [
    "from StackGP import *\n",
    "import numpy as np"
   ]
  },
  {
   "cell_type": "code",
   "execution_count": 501,
   "id": "e6c356cb",
   "metadata": {},
   "outputs": [],
   "source": [
    "operators=allOps()"
   ]
  },
  {
   "cell_type": "code",
   "execution_count": 502,
   "id": "23e5c56a",
   "metadata": {},
   "outputs": [],
   "source": [
    "#Define square root function to generate data\n",
    "def sqrtFunc(x0):\n",
    "    return np.sqrt(x0)"
   ]
  },
  {
   "cell_type": "code",
   "execution_count": 503,
   "id": "6915a632",
   "metadata": {},
   "outputs": [],
   "source": [
    "sqrtModel=[np.array([operators[6],operators[9]]),[variableSelect(0)],[]]"
   ]
  },
  {
   "cell_type": "code",
   "execution_count": 504,
   "id": "9ea46a1a",
   "metadata": {},
   "outputs": [
    {
     "data": {
      "text/plain": [
       "[array([<function sqrt at 0x000002C52F9D89A0>,\n",
       "        <function sin at 0x000002C52F9D8B80>], dtype=object),\n",
       " [<function StackGP.variableSelect.<locals>.<lambda>(variables)>],\n",
       " []]"
      ]
     },
     "execution_count": 504,
     "metadata": {},
     "output_type": "execute_result"
    }
   ],
   "source": [
    "sqrtModel"
   ]
  },
  {
   "cell_type": "code",
   "execution_count": 505,
   "id": "6a392c5e",
   "metadata": {},
   "outputs": [],
   "source": [
    "inputData=np.array([np.arange(100,105,.0013)])\n",
    "response=inputData[0]"
   ]
  },
  {
   "cell_type": "code",
   "execution_count": 506,
   "id": "ebb28458",
   "metadata": {},
   "outputs": [
    {
     "data": {
      "text/plain": [
       "7.33596585252876e-05"
      ]
     },
     "execution_count": 506,
     "metadata": {},
     "output_type": "execute_result"
    }
   ],
   "source": [
    "totalSharpness(sqrtModel,inputData,response,numPerturbations=4000,percentPerturbation=0.2)"
   ]
  },
  {
   "cell_type": "code",
   "execution_count": null,
   "id": "8303c3ee",
   "metadata": {},
   "outputs": [],
   "source": []
  },
  {
   "cell_type": "code",
   "execution_count": 507,
   "id": "eaf80e9e",
   "metadata": {},
   "outputs": [],
   "source": [
    "from StackGP import *\n",
    "import numpy as np"
   ]
  },
  {
   "cell_type": "code",
   "execution_count": 508,
   "id": "026c9e3c",
   "metadata": {},
   "outputs": [],
   "source": [
    "operators=allOps()"
   ]
  },
  {
   "cell_type": "code",
   "execution_count": 509,
   "id": "7b5dfbc9",
   "metadata": {},
   "outputs": [],
   "source": [
    "#Define square root function to generate data\n",
    "def sqrtFunc(x0):\n",
    "    return np.sqrt(x0)"
   ]
  },
  {
   "cell_type": "code",
   "execution_count": 510,
   "id": "755fe893",
   "metadata": {},
   "outputs": [],
   "source": [
    "sqrtModel=[np.array([operators[6],operators[10]]),[variableSelect(0)],[]]"
   ]
  },
  {
   "cell_type": "code",
   "execution_count": 511,
   "id": "346297e1",
   "metadata": {},
   "outputs": [
    {
     "data": {
      "text/plain": [
       "[array([<function sqrt at 0x000002C52F9D89A0>,\n",
       "        <function tan at 0x000002C52F9D8CC0>], dtype=object),\n",
       " [<function StackGP.variableSelect.<locals>.<lambda>(variables)>],\n",
       " []]"
      ]
     },
     "execution_count": 511,
     "metadata": {},
     "output_type": "execute_result"
    }
   ],
   "source": [
    "sqrtModel"
   ]
  },
  {
   "cell_type": "code",
   "execution_count": 512,
   "id": "585b1760",
   "metadata": {},
   "outputs": [],
   "source": [
    "inputData=np.array([np.arange(100,105,.0013)])\n",
    "response=inputData[0]"
   ]
  },
  {
   "cell_type": "code",
   "execution_count": 513,
   "id": "2b17278d",
   "metadata": {},
   "outputs": [
    {
     "data": {
      "text/plain": [
       "0.00011021164837139872"
      ]
     },
     "execution_count": 513,
     "metadata": {},
     "output_type": "execute_result"
    }
   ],
   "source": [
    "totalSharpness(sqrtModel,inputData,response,numPerturbations=4000,percentPerturbation=0.2)"
   ]
  },
  {
   "cell_type": "code",
   "execution_count": null,
   "id": "224288c8",
   "metadata": {},
   "outputs": [],
   "source": []
  },
  {
   "cell_type": "code",
   "execution_count": 514,
   "id": "0fe1ec40",
   "metadata": {},
   "outputs": [],
   "source": [
    "from StackGP import *\n",
    "import numpy as np"
   ]
  },
  {
   "cell_type": "code",
   "execution_count": 515,
   "id": "4271dcda",
   "metadata": {},
   "outputs": [],
   "source": [
    "operators=allOps()"
   ]
  },
  {
   "cell_type": "code",
   "execution_count": 516,
   "id": "27bf7266",
   "metadata": {},
   "outputs": [],
   "source": [
    "#Define square root function to generate data\n",
    "def sqrtFunc(x0):\n",
    "    return np.sqrt(x0)"
   ]
  },
  {
   "cell_type": "code",
   "execution_count": 517,
   "id": "aab9a471",
   "metadata": {},
   "outputs": [],
   "source": [
    "sqrtModel=[np.array([operators[6],operators[13]]),[variableSelect(0)],[]]"
   ]
  },
  {
   "cell_type": "code",
   "execution_count": 518,
   "id": "18a54ae2",
   "metadata": {},
   "outputs": [
    {
     "data": {
      "text/plain": [
       "[array([<function sqrt at 0x000002C52F9D89A0>,\n",
       "        <function arctan at 0x000002C52F9D8EA0>], dtype=object),\n",
       " [<function StackGP.variableSelect.<locals>.<lambda>(variables)>],\n",
       " []]"
      ]
     },
     "execution_count": 518,
     "metadata": {},
     "output_type": "execute_result"
    }
   ],
   "source": [
    "sqrtModel"
   ]
  },
  {
   "cell_type": "code",
   "execution_count": 519,
   "id": "2399740a",
   "metadata": {},
   "outputs": [],
   "source": [
    "inputData=np.array([np.arange(100,105,.0013)])\n",
    "response=inputData[0]"
   ]
  },
  {
   "cell_type": "code",
   "execution_count": 520,
   "id": "94ce202f",
   "metadata": {},
   "outputs": [
    {
     "data": {
      "text/plain": [
       "5.0748492271547645e-05"
      ]
     },
     "execution_count": 520,
     "metadata": {},
     "output_type": "execute_result"
    }
   ],
   "source": [
    "totalSharpness(sqrtModel,inputData,response,numPerturbations=4000,percentPerturbation=0.2)"
   ]
  },
  {
   "cell_type": "code",
   "execution_count": null,
   "id": "66e0dc78",
   "metadata": {},
   "outputs": [],
   "source": []
  },
  {
   "cell_type": "code",
   "execution_count": 521,
   "id": "44581d82",
   "metadata": {},
   "outputs": [],
   "source": [
    "from StackGP import *\n",
    "import numpy as np"
   ]
  },
  {
   "cell_type": "code",
   "execution_count": 522,
   "id": "65a3ad91",
   "metadata": {},
   "outputs": [],
   "source": [
    "operators=allOps()"
   ]
  },
  {
   "cell_type": "code",
   "execution_count": 523,
   "id": "85c7911b",
   "metadata": {},
   "outputs": [],
   "source": [
    "#Define square root function to generate data\n",
    "def sqrtFunc(x0):\n",
    "    return np.sqrt(x0)"
   ]
  },
  {
   "cell_type": "code",
   "execution_count": 524,
   "id": "2f7cbb14",
   "metadata": {},
   "outputs": [],
   "source": [
    "sqrtModel=[np.array([operators[6],operators[14]]),[variableSelect(0)],[]]"
   ]
  },
  {
   "cell_type": "code",
   "execution_count": 525,
   "id": "48f935e0",
   "metadata": {},
   "outputs": [
    {
     "data": {
      "text/plain": [
       "[array([<function sqrt at 0x000002C52F9D89A0>,\n",
       "        <function tanh at 0x000002C52F9D8F40>], dtype=object),\n",
       " [<function StackGP.variableSelect.<locals>.<lambda>(variables)>],\n",
       " []]"
      ]
     },
     "execution_count": 525,
     "metadata": {},
     "output_type": "execute_result"
    }
   ],
   "source": [
    "sqrtModel"
   ]
  },
  {
   "cell_type": "code",
   "execution_count": 526,
   "id": "88203ff2",
   "metadata": {},
   "outputs": [],
   "source": [
    "inputData=np.array([np.arange(100,105,.0013)])\n",
    "response=inputData[0]"
   ]
  },
  {
   "cell_type": "code",
   "execution_count": 527,
   "id": "acb39491",
   "metadata": {},
   "outputs": [
    {
     "data": {
      "text/plain": [
       "0.00013321095363778298"
      ]
     },
     "execution_count": 527,
     "metadata": {},
     "output_type": "execute_result"
    }
   ],
   "source": [
    "totalSharpness(sqrtModel,inputData,response,numPerturbations=4000,percentPerturbation=0.2)"
   ]
  },
  {
   "cell_type": "code",
   "execution_count": null,
   "id": "6f7f67b5",
   "metadata": {},
   "outputs": [],
   "source": []
  },
  {
   "cell_type": "code",
   "execution_count": 528,
   "id": "ba1e1ce3",
   "metadata": {},
   "outputs": [],
   "source": [
    "from StackGP import *\n",
    "import numpy as np"
   ]
  },
  {
   "cell_type": "code",
   "execution_count": 529,
   "id": "386b915c",
   "metadata": {},
   "outputs": [],
   "source": [
    "operators=allOps()"
   ]
  },
  {
   "cell_type": "code",
   "execution_count": 530,
   "id": "8557d50d",
   "metadata": {},
   "outputs": [],
   "source": [
    "#Define square root function to generate data\n",
    "def sqrtFunc(x0):\n",
    "    return np.sqrt(x0)"
   ]
  },
  {
   "cell_type": "code",
   "execution_count": 531,
   "id": "d8a8c7de",
   "metadata": {},
   "outputs": [],
   "source": [
    "sqrtModel=[np.array([operators[6],operators[15]]),[variableSelect(0)],[]]"
   ]
  },
  {
   "cell_type": "code",
   "execution_count": 532,
   "id": "130f6f3d",
   "metadata": {},
   "outputs": [
    {
     "data": {
      "text/plain": [
       "[array([<function sqrt at 0x000002C52F9D89A0>,\n",
       "        <function log at 0x000002C52F9D8FE0>], dtype=object),\n",
       " [<function StackGP.variableSelect.<locals>.<lambda>(variables)>],\n",
       " []]"
      ]
     },
     "execution_count": 532,
     "metadata": {},
     "output_type": "execute_result"
    }
   ],
   "source": [
    "sqrtModel"
   ]
  },
  {
   "cell_type": "code",
   "execution_count": 533,
   "id": "a2e67e82",
   "metadata": {},
   "outputs": [],
   "source": [
    "inputData=np.array([np.arange(100,105,.0013)])\n",
    "response=inputData[0]"
   ]
  },
  {
   "cell_type": "code",
   "execution_count": 534,
   "id": "277d28b0",
   "metadata": {},
   "outputs": [
    {
     "data": {
      "text/plain": [
       "4.935244569235796e-05"
      ]
     },
     "execution_count": 534,
     "metadata": {},
     "output_type": "execute_result"
    }
   ],
   "source": [
    "totalSharpness(sqrtModel,inputData,response,numPerturbations=4000,percentPerturbation=0.2)"
   ]
  },
  {
   "cell_type": "code",
   "execution_count": 536,
   "id": "54c476fe",
   "metadata": {},
   "outputs": [
    {
     "data": {
      "image/png": "[encoded data removed]",
      "text/plain": [
       "<Figure size 1000x500 with 1 Axes>"
      ]
     },
     "metadata": {},
     "output_type": "display_data"
    }
   ],
   "source": [
    "import numpy as np\n",
    "import matplotlib.pyplot as plt \n",
    "\n",
    " \n",
    "# creating the dataset\n",
    "data = {'tanh':0.00013321095,'tan':0.000110211,'cos':0.0000805417,'sin':0.00007335965,'exp':0.0000715809,'arctan':0.00005074849,'inv':0.0000499795,'log':0.00004935244,'sqrd':0.0000480219}\n",
    "courses = list(data.keys())\n",
    "values = list(data.values())\n",
    " \n",
    "fig = plt.figure(figsize = (10, 5))\n",
    "\n",
    "# creating the bar plot\n",
    "plt.bar(courses, values, color ='maroon', \n",
    "        width = 0.4)\n",
    "\n",
    "plt.xlabel(\"Functions\")\n",
    "plt.ylabel(\"Sqrt\")\n",
    "plt.title(\"Square root Function Combinations [100,105]\")\n",
    "plt.yscale(\"log\")\n",
    "plt.show()\n"
   ]
  },
  {
   "cell_type": "markdown",
   "id": "4a592eca",
   "metadata": {},
   "source": [
    "# Inverse Function Combinations"
   ]
  },
  {
   "cell_type": "code",
   "execution_count": 537,
   "id": "d843c8ac",
   "metadata": {},
   "outputs": [],
   "source": [
    "from StackGP import *\n",
    "import numpy as np"
   ]
  },
  {
   "cell_type": "code",
   "execution_count": 538,
   "id": "92c37571",
   "metadata": {},
   "outputs": [],
   "source": [
    "operators=allOps()"
   ]
  },
  {
   "cell_type": "code",
   "execution_count": 539,
   "id": "f3b3afc7",
   "metadata": {},
   "outputs": [],
   "source": [
    "#Define inverse function to generate data\n",
    "def invFunc(x0):\n",
    "    return np.inv(x0)"
   ]
  },
  {
   "cell_type": "code",
   "execution_count": 540,
   "id": "dfe74128",
   "metadata": {},
   "outputs": [],
   "source": [
    "invModel=[np.array([operators[7],operators[4]]),[variableSelect(0)],[]]"
   ]
  },
  {
   "cell_type": "code",
   "execution_count": 541,
   "id": "3c704d32",
   "metadata": {},
   "outputs": [
    {
     "data": {
      "text/plain": [
       "[array([<function inv at 0x000002C52F9D8AE0>,\n",
       "        <function exp at 0x000002C52F9D8860>], dtype=object),\n",
       " [<function StackGP.variableSelect.<locals>.<lambda>(variables)>],\n",
       " []]"
      ]
     },
     "execution_count": 541,
     "metadata": {},
     "output_type": "execute_result"
    }
   ],
   "source": [
    "invModel"
   ]
  },
  {
   "cell_type": "code",
   "execution_count": 542,
   "id": "56bd1524",
   "metadata": {},
   "outputs": [],
   "source": [
    "inputData=np.array([np.arange(100,105,.0013)])\n",
    "response=inputData[0]"
   ]
  },
  {
   "cell_type": "code",
   "execution_count": 543,
   "id": "8bb1907f",
   "metadata": {},
   "outputs": [
    {
     "data": {
      "text/plain": [
       "5.3665741855407246e-05"
      ]
     },
     "execution_count": 543,
     "metadata": {},
     "output_type": "execute_result"
    }
   ],
   "source": [
    "totalSharpness(invModel,inputData,response,numPerturbations=4000,percentPerturbation=0.2)"
   ]
  },
  {
   "cell_type": "code",
   "execution_count": null,
   "id": "9de44736",
   "metadata": {},
   "outputs": [],
   "source": []
  },
  {
   "cell_type": "code",
   "execution_count": 544,
   "id": "92fefc8b",
   "metadata": {},
   "outputs": [],
   "source": [
    "from StackGP import *\n",
    "import numpy as np"
   ]
  },
  {
   "cell_type": "code",
   "execution_count": 545,
   "id": "c22a2a78",
   "metadata": {},
   "outputs": [],
   "source": [
    "operators=allOps()"
   ]
  },
  {
   "cell_type": "code",
   "execution_count": 546,
   "id": "769dc9fc",
   "metadata": {},
   "outputs": [],
   "source": [
    "#Define inverse function to generate data\n",
    "def invFunc(x0):\n",
    "    return np.inv(x0)"
   ]
  },
  {
   "cell_type": "code",
   "execution_count": 547,
   "id": "9e8c2b47",
   "metadata": {},
   "outputs": [],
   "source": [
    "invModel=[np.array([operators[7],operators[5]]),[variableSelect(0)],[]]"
   ]
  },
  {
   "cell_type": "code",
   "execution_count": 548,
   "id": "1359dc7c",
   "metadata": {},
   "outputs": [
    {
     "data": {
      "text/plain": [
       "[array([<function inv at 0x000002C52F9D8AE0>,\n",
       "        <function sqrd at 0x000002C52F9D8A40>], dtype=object),\n",
       " [<function StackGP.variableSelect.<locals>.<lambda>(variables)>],\n",
       " []]"
      ]
     },
     "execution_count": 548,
     "metadata": {},
     "output_type": "execute_result"
    }
   ],
   "source": [
    "invModel"
   ]
  },
  {
   "cell_type": "code",
   "execution_count": 549,
   "id": "51347c27",
   "metadata": {},
   "outputs": [],
   "source": [
    "inputData=np.array([np.arange(100,105,.0013)])\n",
    "response=inputData[0]"
   ]
  },
  {
   "cell_type": "code",
   "execution_count": 550,
   "id": "166ab84f",
   "metadata": {},
   "outputs": [
    {
     "data": {
      "text/plain": [
       "5.975522373260447e-05"
      ]
     },
     "execution_count": 550,
     "metadata": {},
     "output_type": "execute_result"
    }
   ],
   "source": [
    "totalSharpness(invModel,inputData,response,numPerturbations=4000,percentPerturbation=0.2)"
   ]
  },
  {
   "cell_type": "code",
   "execution_count": null,
   "id": "2d277163",
   "metadata": {},
   "outputs": [],
   "source": []
  },
  {
   "cell_type": "code",
   "execution_count": 551,
   "id": "92fe65ae",
   "metadata": {},
   "outputs": [],
   "source": [
    "from StackGP import *\n",
    "import numpy as np"
   ]
  },
  {
   "cell_type": "code",
   "execution_count": 552,
   "id": "9844d136",
   "metadata": {},
   "outputs": [],
   "source": [
    "operators=allOps()"
   ]
  },
  {
   "cell_type": "code",
   "execution_count": 553,
   "id": "79927ed3",
   "metadata": {},
   "outputs": [],
   "source": [
    "#Define inverse function to generate data\n",
    "def invFunc(x0):\n",
    "    return np.inv(x0)"
   ]
  },
  {
   "cell_type": "code",
   "execution_count": 554,
   "id": "b45bc203",
   "metadata": {},
   "outputs": [],
   "source": [
    "invModel=[np.array([operators[7],operators[6]]),[variableSelect(0)],[]]"
   ]
  },
  {
   "cell_type": "code",
   "execution_count": 555,
   "id": "4ba08e48",
   "metadata": {},
   "outputs": [
    {
     "data": {
      "text/plain": [
       "[array([<function inv at 0x000002C52F9D8AE0>,\n",
       "        <function sqrt at 0x000002C52F9D89A0>], dtype=object),\n",
       " [<function StackGP.variableSelect.<locals>.<lambda>(variables)>],\n",
       " []]"
      ]
     },
     "execution_count": 555,
     "metadata": {},
     "output_type": "execute_result"
    }
   ],
   "source": [
    "invModel"
   ]
  },
  {
   "cell_type": "code",
   "execution_count": 557,
   "id": "06043aed",
   "metadata": {},
   "outputs": [],
   "source": [
    "inputData=np.array([np.arange(100,105,.0013)])\n",
    "response=inputData[0]"
   ]
  },
  {
   "cell_type": "code",
   "execution_count": 558,
   "id": "229d11c4",
   "metadata": {},
   "outputs": [
    {
     "data": {
      "text/plain": [
       "5.119243095218437e-05"
      ]
     },
     "execution_count": 558,
     "metadata": {},
     "output_type": "execute_result"
    }
   ],
   "source": [
    "totalSharpness(invModel,inputData,response,numPerturbations=4000,percentPerturbation=0.2)"
   ]
  },
  {
   "cell_type": "code",
   "execution_count": null,
   "id": "af6d8733",
   "metadata": {},
   "outputs": [],
   "source": []
  },
  {
   "cell_type": "code",
   "execution_count": 559,
   "id": "d5283e2f",
   "metadata": {},
   "outputs": [],
   "source": [
    "from StackGP import *\n",
    "import numpy as np"
   ]
  },
  {
   "cell_type": "code",
   "execution_count": 560,
   "id": "0399f798",
   "metadata": {},
   "outputs": [],
   "source": [
    "operators=allOps()"
   ]
  },
  {
   "cell_type": "code",
   "execution_count": 561,
   "id": "cc9e5a90",
   "metadata": {},
   "outputs": [],
   "source": [
    "#Define inverse function to generate data\n",
    "def invFunc(x0):\n",
    "    return np.inv(x0)"
   ]
  },
  {
   "cell_type": "code",
   "execution_count": 562,
   "id": "e554aea9",
   "metadata": {},
   "outputs": [],
   "source": [
    "invModel=[np.array([operators[7],operators[8]]),[variableSelect(0)],[]]"
   ]
  },
  {
   "cell_type": "code",
   "execution_count": 563,
   "id": "4ca7493e",
   "metadata": {},
   "outputs": [
    {
     "data": {
      "text/plain": [
       "[array([<function inv at 0x000002C52F9D8AE0>,\n",
       "        <function cos at 0x000002C52F9D8C20>], dtype=object),\n",
       " [<function StackGP.variableSelect.<locals>.<lambda>(variables)>],\n",
       " []]"
      ]
     },
     "execution_count": 563,
     "metadata": {},
     "output_type": "execute_result"
    }
   ],
   "source": [
    "invModel"
   ]
  },
  {
   "cell_type": "code",
   "execution_count": 564,
   "id": "4b0a855d",
   "metadata": {},
   "outputs": [],
   "source": [
    "inputData=np.array([np.arange(100,105,.0013)])\n",
    "response=inputData[0]"
   ]
  },
  {
   "cell_type": "code",
   "execution_count": 565,
   "id": "c74fb17f",
   "metadata": {},
   "outputs": [
    {
     "data": {
      "text/plain": [
       "5.896315393722793e-05"
      ]
     },
     "execution_count": 565,
     "metadata": {},
     "output_type": "execute_result"
    }
   ],
   "source": [
    "totalSharpness(invModel,inputData,response,numPerturbations=4000,percentPerturbation=0.2)"
   ]
  },
  {
   "cell_type": "code",
   "execution_count": null,
   "id": "2b96d645",
   "metadata": {},
   "outputs": [],
   "source": []
  },
  {
   "cell_type": "code",
   "execution_count": 566,
   "id": "ade9bd89",
   "metadata": {},
   "outputs": [],
   "source": [
    "from StackGP import *\n",
    "import numpy as np"
   ]
  },
  {
   "cell_type": "code",
   "execution_count": 567,
   "id": "c485f0b8",
   "metadata": {},
   "outputs": [],
   "source": [
    "operators=allOps()"
   ]
  },
  {
   "cell_type": "code",
   "execution_count": 568,
   "id": "8f80afdf",
   "metadata": {},
   "outputs": [],
   "source": [
    "#Define inverse function to generate data\n",
    "def invFunc(x0):\n",
    "    return np.inv(x0)"
   ]
  },
  {
   "cell_type": "code",
   "execution_count": 569,
   "id": "fdd76c9f",
   "metadata": {},
   "outputs": [],
   "source": [
    "invModel=[np.array([operators[7],operators[9]]),[variableSelect(0)],[]]"
   ]
  },
  {
   "cell_type": "code",
   "execution_count": 570,
   "id": "e094b2cf",
   "metadata": {},
   "outputs": [
    {
     "data": {
      "text/plain": [
       "[array([<function inv at 0x000002C52F9D8AE0>,\n",
       "        <function sin at 0x000002C52F9D8B80>], dtype=object),\n",
       " [<function StackGP.variableSelect.<locals>.<lambda>(variables)>],\n",
       " []]"
      ]
     },
     "execution_count": 570,
     "metadata": {},
     "output_type": "execute_result"
    }
   ],
   "source": [
    "invModel"
   ]
  },
  {
   "cell_type": "code",
   "execution_count": 571,
   "id": "99bc6d39",
   "metadata": {},
   "outputs": [],
   "source": [
    "inputData=np.array([np.arange(100,105,.0013)])\n",
    "response=inputData[0]"
   ]
  },
  {
   "cell_type": "code",
   "execution_count": 572,
   "id": "7138af0b",
   "metadata": {},
   "outputs": [
    {
     "data": {
      "text/plain": [
       "5.3138414181943915e-05"
      ]
     },
     "execution_count": 572,
     "metadata": {},
     "output_type": "execute_result"
    }
   ],
   "source": [
    "totalSharpness(invModel,inputData,response,numPerturbations=4000,percentPerturbation=0.2)"
   ]
  },
  {
   "cell_type": "code",
   "execution_count": null,
   "id": "bc679883",
   "metadata": {},
   "outputs": [],
   "source": []
  },
  {
   "cell_type": "code",
   "execution_count": 573,
   "id": "039a9a3d",
   "metadata": {},
   "outputs": [],
   "source": [
    "from StackGP import *\n",
    "import numpy as np"
   ]
  },
  {
   "cell_type": "code",
   "execution_count": 574,
   "id": "fba80d58",
   "metadata": {},
   "outputs": [],
   "source": [
    "operators=allOps()"
   ]
  },
  {
   "cell_type": "code",
   "execution_count": 575,
   "id": "5d69b936",
   "metadata": {},
   "outputs": [],
   "source": [
    "#Define inverse function to generate data\n",
    "def invFunc(x0):\n",
    "    return np.inv(x0)"
   ]
  },
  {
   "cell_type": "code",
   "execution_count": 576,
   "id": "4198d7f9",
   "metadata": {},
   "outputs": [],
   "source": [
    "invModel=[np.array([operators[7],operators[10]]),[variableSelect(0)],[]]"
   ]
  },
  {
   "cell_type": "code",
   "execution_count": 577,
   "id": "3f3ac997",
   "metadata": {},
   "outputs": [
    {
     "data": {
      "text/plain": [
       "[array([<function inv at 0x000002C52F9D8AE0>,\n",
       "        <function tan at 0x000002C52F9D8CC0>], dtype=object),\n",
       " [<function StackGP.variableSelect.<locals>.<lambda>(variables)>],\n",
       " []]"
      ]
     },
     "execution_count": 577,
     "metadata": {},
     "output_type": "execute_result"
    }
   ],
   "source": [
    "invModel"
   ]
  },
  {
   "cell_type": "code",
   "execution_count": 578,
   "id": "aeedaabd",
   "metadata": {},
   "outputs": [],
   "source": [
    "inputData=np.array([np.arange(100,105,.0013)])\n",
    "response=inputData[0]"
   ]
  },
  {
   "cell_type": "code",
   "execution_count": 579,
   "id": "0971b1c5",
   "metadata": {},
   "outputs": [
    {
     "data": {
      "text/plain": [
       "5.3285017463346696e-05"
      ]
     },
     "execution_count": 579,
     "metadata": {},
     "output_type": "execute_result"
    }
   ],
   "source": [
    "totalSharpness(invModel,inputData,response,numPerturbations=4000,percentPerturbation=0.2)"
   ]
  },
  {
   "cell_type": "code",
   "execution_count": null,
   "id": "76c73ffb",
   "metadata": {},
   "outputs": [],
   "source": []
  },
  {
   "cell_type": "code",
   "execution_count": 580,
   "id": "422b35ae",
   "metadata": {},
   "outputs": [],
   "source": [
    "from StackGP import *\n",
    "import numpy as np"
   ]
  },
  {
   "cell_type": "code",
   "execution_count": 581,
   "id": "c8b6318a",
   "metadata": {},
   "outputs": [],
   "source": [
    "operators=allOps()"
   ]
  },
  {
   "cell_type": "code",
   "execution_count": 582,
   "id": "92e961a0",
   "metadata": {},
   "outputs": [],
   "source": [
    "#Define inverse function to generate data\n",
    "def invFunc(x0):\n",
    "    return np.inv(x0)"
   ]
  },
  {
   "cell_type": "code",
   "execution_count": 583,
   "id": "b3824faa",
   "metadata": {},
   "outputs": [],
   "source": [
    "invModel=[np.array([operators[7],operators[13]]),[variableSelect(0)],[]]"
   ]
  },
  {
   "cell_type": "code",
   "execution_count": 584,
   "id": "dc3dfa49",
   "metadata": {},
   "outputs": [
    {
     "data": {
      "text/plain": [
       "[array([<function inv at 0x000002C52F9D8AE0>,\n",
       "        <function arctan at 0x000002C52F9D8EA0>], dtype=object),\n",
       " [<function StackGP.variableSelect.<locals>.<lambda>(variables)>],\n",
       " []]"
      ]
     },
     "execution_count": 584,
     "metadata": {},
     "output_type": "execute_result"
    }
   ],
   "source": [
    "invModel"
   ]
  },
  {
   "cell_type": "code",
   "execution_count": 585,
   "id": "7d18474e",
   "metadata": {},
   "outputs": [],
   "source": [
    "inputData=np.array([np.arange(100,105,.0013)])\n",
    "response=inputData[0]"
   ]
  },
  {
   "cell_type": "code",
   "execution_count": 586,
   "id": "0982f9c8",
   "metadata": {},
   "outputs": [
    {
     "data": {
      "text/plain": [
       "5.282643840943091e-05"
      ]
     },
     "execution_count": 586,
     "metadata": {},
     "output_type": "execute_result"
    }
   ],
   "source": [
    "totalSharpness(invModel,inputData,response,numPerturbations=4000,percentPerturbation=0.2)"
   ]
  },
  {
   "cell_type": "code",
   "execution_count": null,
   "id": "474e8035",
   "metadata": {},
   "outputs": [],
   "source": []
  },
  {
   "cell_type": "code",
   "execution_count": 587,
   "id": "f140a95c",
   "metadata": {},
   "outputs": [],
   "source": [
    "from StackGP import *\n",
    "import numpy as np"
   ]
  },
  {
   "cell_type": "code",
   "execution_count": 588,
   "id": "b24c8c7d",
   "metadata": {},
   "outputs": [],
   "source": [
    "operators=allOps()"
   ]
  },
  {
   "cell_type": "code",
   "execution_count": 589,
   "id": "c89b0cd9",
   "metadata": {},
   "outputs": [],
   "source": [
    "#Define inverse function to generate data\n",
    "def invFunc(x0):\n",
    "    return np.inv(x0)"
   ]
  },
  {
   "cell_type": "code",
   "execution_count": 590,
   "id": "0f5b2cca",
   "metadata": {},
   "outputs": [],
   "source": [
    "invModel=[np.array([operators[7],operators[14]]),[variableSelect(0)],[]]"
   ]
  },
  {
   "cell_type": "code",
   "execution_count": 591,
   "id": "a434df70",
   "metadata": {},
   "outputs": [
    {
     "data": {
      "text/plain": [
       "[array([<function inv at 0x000002C52F9D8AE0>,\n",
       "        <function tanh at 0x000002C52F9D8F40>], dtype=object),\n",
       " [<function StackGP.variableSelect.<locals>.<lambda>(variables)>],\n",
       " []]"
      ]
     },
     "execution_count": 591,
     "metadata": {},
     "output_type": "execute_result"
    }
   ],
   "source": [
    "invModel"
   ]
  },
  {
   "cell_type": "code",
   "execution_count": 592,
   "id": "cc6b5038",
   "metadata": {},
   "outputs": [],
   "source": [
    "inputData=np.array([np.arange(100,105,.0013)])\n",
    "response=inputData[0]"
   ]
  },
  {
   "cell_type": "code",
   "execution_count": 593,
   "id": "5fcb2401",
   "metadata": {},
   "outputs": [
    {
     "data": {
      "text/plain": [
       "5.305634710871289e-05"
      ]
     },
     "execution_count": 593,
     "metadata": {},
     "output_type": "execute_result"
    }
   ],
   "source": [
    "totalSharpness(invModel,inputData,response,numPerturbations=4000,percentPerturbation=0.2)"
   ]
  },
  {
   "cell_type": "code",
   "execution_count": null,
   "id": "db3ab2aa",
   "metadata": {},
   "outputs": [],
   "source": []
  },
  {
   "cell_type": "code",
   "execution_count": 594,
   "id": "9c0f0abb",
   "metadata": {},
   "outputs": [],
   "source": [
    "from StackGP import *\n",
    "import numpy as np"
   ]
  },
  {
   "cell_type": "code",
   "execution_count": 595,
   "id": "a78a1b65",
   "metadata": {},
   "outputs": [],
   "source": [
    "operators=allOps()"
   ]
  },
  {
   "cell_type": "code",
   "execution_count": 596,
   "id": "68c286ff",
   "metadata": {},
   "outputs": [],
   "source": [
    "#Define inverse function to generate data\n",
    "def invFunc(x0):\n",
    "    return np.inv(x0)"
   ]
  },
  {
   "cell_type": "code",
   "execution_count": 597,
   "id": "1abb7582",
   "metadata": {},
   "outputs": [],
   "source": [
    "invModel=[np.array([operators[7],operators[15]]),[variableSelect(0)],[]]"
   ]
  },
  {
   "cell_type": "code",
   "execution_count": 598,
   "id": "4a99b679",
   "metadata": {},
   "outputs": [
    {
     "data": {
      "text/plain": [
       "[array([<function inv at 0x000002C52F9D8AE0>,\n",
       "        <function log at 0x000002C52F9D8FE0>], dtype=object),\n",
       " [<function StackGP.variableSelect.<locals>.<lambda>(variables)>],\n",
       " []]"
      ]
     },
     "execution_count": 598,
     "metadata": {},
     "output_type": "execute_result"
    }
   ],
   "source": [
    "invModel"
   ]
  },
  {
   "cell_type": "code",
   "execution_count": 599,
   "id": "968189e8",
   "metadata": {},
   "outputs": [],
   "source": [
    "inputData=np.array([np.arange(100,105,.0013)])\n",
    "response=inputData[0]"
   ]
  },
  {
   "cell_type": "code",
   "execution_count": 600,
   "id": "10eabb2e",
   "metadata": {},
   "outputs": [
    {
     "data": {
      "text/plain": [
       "4.92427648691622e-05"
      ]
     },
     "execution_count": 600,
     "metadata": {},
     "output_type": "execute_result"
    }
   ],
   "source": [
    "totalSharpness(invModel,inputData,response,numPerturbations=4000,percentPerturbation=0.2)"
   ]
  },
  {
   "cell_type": "code",
   "execution_count": null,
   "id": "e6660a8f",
   "metadata": {},
   "outputs": [],
   "source": []
  },
  {
   "cell_type": "code",
   "execution_count": 602,
   "id": "9ba3a6e8",
   "metadata": {},
   "outputs": [
    {
     "data": {
      "image/png": "[encoded data removed]",
      "text/plain": [
       "<Figure size 1000x500 with 1 Axes>"
      ]
     },
     "metadata": {},
     "output_type": "display_data"
    }
   ],
   "source": [
    "import numpy as np\n",
    "import matplotlib.pyplot as plt \n",
    "\n",
    " \n",
    "# creating the dataset\n",
    "data = {'sqrd':0.00005975522,'cos':0.0000589631,'exp':0.0000536657,'tan':0.000053285,'sin':0.0000531384,'tanh':0.00005305634,'arctan':0.000052826,'sqrt':0.0000511924,'log':0.0000492427}\n",
    "courses = list(data.keys())\n",
    "values = list(data.values())\n",
    " \n",
    "fig = plt.figure(figsize = (10, 5))\n",
    "\n",
    "# creating the bar plot\n",
    "plt.bar(courses, values, color ='maroon', \n",
    "        width = 0.4)\n",
    "\n",
    "plt.xlabel(\"Functions\")\n",
    "plt.ylabel(\"Inv\")\n",
    "plt.title(\"Inverse Function Combinations [100,105]\")\n",
    "plt.yscale(\"log\")\n",
    "plt.show()\n"
   ]
  },
  {
   "cell_type": "markdown",
   "id": "ccbe74e9",
   "metadata": {},
   "source": [
    "# Tanh Function Combinations"
   ]
  },
  {
   "cell_type": "code",
   "execution_count": 603,
   "id": "dda2b41f",
   "metadata": {},
   "outputs": [],
   "source": [
    "from StackGP import *\n",
    "import numpy as np"
   ]
  },
  {
   "cell_type": "code",
   "execution_count": 604,
   "id": "b4decaf1",
   "metadata": {},
   "outputs": [],
   "source": [
    "operators=allOps()"
   ]
  },
  {
   "cell_type": "code",
   "execution_count": 605,
   "id": "ce88599b",
   "metadata": {},
   "outputs": [],
   "source": [
    "#Define hyperbolic tangent function to generate data\n",
    "def tanhFunc(x0):\n",
    "    return np.tanh(x0)"
   ]
  },
  {
   "cell_type": "code",
   "execution_count": 606,
   "id": "bd98831b",
   "metadata": {},
   "outputs": [],
   "source": [
    "tanhModel=[np.array([operators[14],operators[4]]),[variableSelect(0)],[]]"
   ]
  },
  {
   "cell_type": "code",
   "execution_count": 607,
   "id": "e0640c28",
   "metadata": {},
   "outputs": [
    {
     "data": {
      "text/plain": [
       "[array([<function tanh at 0x000002C52F9D8F40>,\n",
       "        <function exp at 0x000002C52F9D8860>], dtype=object),\n",
       " [<function StackGP.variableSelect.<locals>.<lambda>(variables)>],\n",
       " []]"
      ]
     },
     "execution_count": 607,
     "metadata": {},
     "output_type": "execute_result"
    }
   ],
   "source": [
    "tanhModel"
   ]
  },
  {
   "cell_type": "code",
   "execution_count": 608,
   "id": "ea1e44e9",
   "metadata": {},
   "outputs": [],
   "source": [
    "inputData=np.array([np.arange(100,105,.0013)])\n",
    "response=inputData[0]"
   ]
  },
  {
   "cell_type": "code",
   "execution_count": 609,
   "id": "a638fa61",
   "metadata": {},
   "outputs": [
    {
     "data": {
      "text/plain": [
       "nan"
      ]
     },
     "execution_count": 609,
     "metadata": {},
     "output_type": "execute_result"
    }
   ],
   "source": [
    "totalSharpness(tanhModel,inputData,response,numPerturbations=4000,percentPerturbation=0.2)"
   ]
  },
  {
   "cell_type": "code",
   "execution_count": 610,
   "id": "4a46c9ee",
   "metadata": {},
   "outputs": [],
   "source": [
    "from StackGP import *\n",
    "import numpy as np"
   ]
  },
  {
   "cell_type": "code",
   "execution_count": 611,
   "id": "6435048d",
   "metadata": {},
   "outputs": [],
   "source": [
    "operators=allOps()"
   ]
  },
  {
   "cell_type": "code",
   "execution_count": 612,
   "id": "8085d1ff",
   "metadata": {},
   "outputs": [],
   "source": [
    "#Define hyperbolic tangent function to generate data\n",
    "def tanhFunc(x0):\n",
    "    return np.tanh(x0)"
   ]
  },
  {
   "cell_type": "code",
   "execution_count": 613,
   "id": "ffc76593",
   "metadata": {},
   "outputs": [],
   "source": [
    "tanhModel=[np.array([operators[14],operators[5]]),[variableSelect(0)],[]]"
   ]
  },
  {
   "cell_type": "code",
   "execution_count": 614,
   "id": "91bca8be",
   "metadata": {},
   "outputs": [
    {
     "data": {
      "text/plain": [
       "[array([<function tanh at 0x000002C52F9D8F40>,\n",
       "        <function sqrd at 0x000002C52F9D8A40>], dtype=object),\n",
       " [<function StackGP.variableSelect.<locals>.<lambda>(variables)>],\n",
       " []]"
      ]
     },
     "execution_count": 614,
     "metadata": {},
     "output_type": "execute_result"
    }
   ],
   "source": [
    "tanhModel"
   ]
  },
  {
   "cell_type": "code",
   "execution_count": 615,
   "id": "a435ce37",
   "metadata": {},
   "outputs": [],
   "source": [
    "inputData=np.array([np.arange(100,105,.0013)])\n",
    "response=inputData[0]"
   ]
  },
  {
   "cell_type": "code",
   "execution_count": 616,
   "id": "206a58f3",
   "metadata": {},
   "outputs": [
    {
     "data": {
      "text/plain": [
       "nan"
      ]
     },
     "execution_count": 616,
     "metadata": {},
     "output_type": "execute_result"
    }
   ],
   "source": [
    "totalSharpness(tanhModel,inputData,response,numPerturbations=4000,percentPerturbation=0.2)"
   ]
  },
  {
   "cell_type": "code",
   "execution_count": 617,
   "id": "8ef01b72",
   "metadata": {},
   "outputs": [],
   "source": [
    "from StackGP import *\n",
    "import numpy as np"
   ]
  },
  {
   "cell_type": "code",
   "execution_count": 618,
   "id": "7f6090f5",
   "metadata": {},
   "outputs": [],
   "source": [
    "operators=allOps()"
   ]
  },
  {
   "cell_type": "code",
   "execution_count": 619,
   "id": "9b378f26",
   "metadata": {},
   "outputs": [],
   "source": [
    "#Define hyperbolic tangent function to generate data\n",
    "def tanhFunc(x0):\n",
    "    return np.tanh(x0)"
   ]
  },
  {
   "cell_type": "code",
   "execution_count": 620,
   "id": "bb62fe99",
   "metadata": {},
   "outputs": [],
   "source": [
    "tanhModel=[np.array([operators[14],operators[6]]),[variableSelect(0)],[]]"
   ]
  },
  {
   "cell_type": "code",
   "execution_count": 621,
   "id": "5908ca44",
   "metadata": {},
   "outputs": [
    {
     "data": {
      "text/plain": [
       "[array([<function tanh at 0x000002C52F9D8F40>,\n",
       "        <function sqrt at 0x000002C52F9D89A0>], dtype=object),\n",
       " [<function StackGP.variableSelect.<locals>.<lambda>(variables)>],\n",
       " []]"
      ]
     },
     "execution_count": 621,
     "metadata": {},
     "output_type": "execute_result"
    }
   ],
   "source": [
    "tanhModel"
   ]
  },
  {
   "cell_type": "code",
   "execution_count": 622,
   "id": "9c8af736",
   "metadata": {},
   "outputs": [],
   "source": [
    "inputData=np.array([np.arange(100,105,.0013)])\n",
    "response=inputData[0]"
   ]
  },
  {
   "cell_type": "code",
   "execution_count": 623,
   "id": "e314d25f",
   "metadata": {},
   "outputs": [
    {
     "data": {
      "text/plain": [
       "nan"
      ]
     },
     "execution_count": 623,
     "metadata": {},
     "output_type": "execute_result"
    }
   ],
   "source": [
    "totalSharpness(tanhModel,inputData,response,numPerturbations=4000,percentPerturbation=0.2)"
   ]
  },
  {
   "cell_type": "code",
   "execution_count": 624,
   "id": "9c654af5",
   "metadata": {},
   "outputs": [],
   "source": [
    "from StackGP import *\n",
    "import numpy as np"
   ]
  },
  {
   "cell_type": "code",
   "execution_count": 625,
   "id": "24315e18",
   "metadata": {},
   "outputs": [],
   "source": [
    "operators=allOps()"
   ]
  },
  {
   "cell_type": "code",
   "execution_count": 626,
   "id": "e0247353",
   "metadata": {},
   "outputs": [],
   "source": [
    "#Define hyperbolic tangent function to generate data\n",
    "def tanhFunc(x0):\n",
    "    return np.tanh(x0)"
   ]
  },
  {
   "cell_type": "code",
   "execution_count": 627,
   "id": "501ff61b",
   "metadata": {},
   "outputs": [],
   "source": [
    "tanhModel=[np.array([operators[14],operators[7]]),[variableSelect(0)],[]]"
   ]
  },
  {
   "cell_type": "code",
   "execution_count": 628,
   "id": "c2a77f6e",
   "metadata": {},
   "outputs": [
    {
     "data": {
      "text/plain": [
       "[array([<function tanh at 0x000002C52F9D8F40>,\n",
       "        <function inv at 0x000002C52F9D8AE0>], dtype=object),\n",
       " [<function StackGP.variableSelect.<locals>.<lambda>(variables)>],\n",
       " []]"
      ]
     },
     "execution_count": 628,
     "metadata": {},
     "output_type": "execute_result"
    }
   ],
   "source": [
    "tanhModel"
   ]
  },
  {
   "cell_type": "code",
   "execution_count": 630,
   "id": "a79d08c7",
   "metadata": {},
   "outputs": [],
   "source": [
    "inputData=np.array([np.arange(100,105,.0013)])\n",
    "response=inputData[0]"
   ]
  },
  {
   "cell_type": "code",
   "execution_count": 631,
   "id": "97c551d2",
   "metadata": {},
   "outputs": [
    {
     "data": {
      "text/plain": [
       "nan"
      ]
     },
     "execution_count": 631,
     "metadata": {},
     "output_type": "execute_result"
    }
   ],
   "source": [
    "totalSharpness(tanhModel,inputData,response,numPerturbations=4000,percentPerturbation=0.2)"
   ]
  },
  {
   "cell_type": "code",
   "execution_count": 632,
   "id": "0c0ced95",
   "metadata": {},
   "outputs": [],
   "source": [
    "from StackGP import *\n",
    "import numpy as np"
   ]
  },
  {
   "cell_type": "code",
   "execution_count": 633,
   "id": "02b9d3e3",
   "metadata": {},
   "outputs": [],
   "source": [
    "operators=allOps()"
   ]
  },
  {
   "cell_type": "code",
   "execution_count": 634,
   "id": "dc015bca",
   "metadata": {},
   "outputs": [],
   "source": [
    "#Define hyperbolic tangent function to generate data\n",
    "def tanhFunc(x0):\n",
    "    return np.tanh(x0)"
   ]
  },
  {
   "cell_type": "code",
   "execution_count": 635,
   "id": "040fe6b3",
   "metadata": {},
   "outputs": [],
   "source": [
    "tanhModel=[np.array([operators[14],operators[8]]),[variableSelect(0)],[]]"
   ]
  },
  {
   "cell_type": "code",
   "execution_count": 636,
   "id": "8edb9469",
   "metadata": {},
   "outputs": [
    {
     "data": {
      "text/plain": [
       "[array([<function tanh at 0x000002C52F9D8F40>,\n",
       "        <function cos at 0x000002C52F9D8C20>], dtype=object),\n",
       " [<function StackGP.variableSelect.<locals>.<lambda>(variables)>],\n",
       " []]"
      ]
     },
     "execution_count": 636,
     "metadata": {},
     "output_type": "execute_result"
    }
   ],
   "source": [
    "tanhModel"
   ]
  },
  {
   "cell_type": "code",
   "execution_count": 637,
   "id": "10e063e5",
   "metadata": {},
   "outputs": [],
   "source": [
    "inputData=np.array([np.arange(100,105,.0013)])\n",
    "response=inputData[0]"
   ]
  },
  {
   "cell_type": "code",
   "execution_count": 638,
   "id": "ff3f5dd3",
   "metadata": {},
   "outputs": [
    {
     "data": {
      "text/plain": [
       "nan"
      ]
     },
     "execution_count": 638,
     "metadata": {},
     "output_type": "execute_result"
    }
   ],
   "source": [
    "totalSharpness(tanhModel,inputData,response,numPerturbations=4000,percentPerturbation=0.2)"
   ]
  },
  {
   "cell_type": "code",
   "execution_count": 639,
   "id": "0f98a7d5",
   "metadata": {},
   "outputs": [],
   "source": [
    "from StackGP import *\n",
    "import numpy as np"
   ]
  },
  {
   "cell_type": "code",
   "execution_count": 640,
   "id": "14db315d",
   "metadata": {},
   "outputs": [],
   "source": [
    "operators=allOps()"
   ]
  },
  {
   "cell_type": "code",
   "execution_count": 641,
   "id": "40dcb911",
   "metadata": {},
   "outputs": [],
   "source": [
    "#Define hyperbolic tangent function to generate data\n",
    "def tanhFunc(x0):\n",
    "    return np.tanh(x0)"
   ]
  },
  {
   "cell_type": "code",
   "execution_count": 642,
   "id": "de4a9c17",
   "metadata": {},
   "outputs": [],
   "source": [
    "tanhModel=[np.array([operators[14],operators[9]]),[variableSelect(0)],[]]"
   ]
  },
  {
   "cell_type": "code",
   "execution_count": 643,
   "id": "0b081d4b",
   "metadata": {},
   "outputs": [
    {
     "data": {
      "text/plain": [
       "[array([<function tanh at 0x000002C52F9D8F40>,\n",
       "        <function sin at 0x000002C52F9D8B80>], dtype=object),\n",
       " [<function StackGP.variableSelect.<locals>.<lambda>(variables)>],\n",
       " []]"
      ]
     },
     "execution_count": 643,
     "metadata": {},
     "output_type": "execute_result"
    }
   ],
   "source": [
    "tanhModel"
   ]
  },
  {
   "cell_type": "code",
   "execution_count": 644,
   "id": "44d92d4e",
   "metadata": {},
   "outputs": [],
   "source": [
    "inputData=np.array([np.arange(100,105,.0013)])\n",
    "response=inputData[0]"
   ]
  },
  {
   "cell_type": "code",
   "execution_count": 645,
   "id": "348ffa11",
   "metadata": {},
   "outputs": [
    {
     "data": {
      "text/plain": [
       "nan"
      ]
     },
     "execution_count": 645,
     "metadata": {},
     "output_type": "execute_result"
    }
   ],
   "source": [
    "totalSharpness(tanhModel,inputData,response,numPerturbations=4000,percentPerturbation=0.2)"
   ]
  },
  {
   "cell_type": "code",
   "execution_count": 646,
   "id": "3a178f70",
   "metadata": {},
   "outputs": [],
   "source": [
    "from StackGP import *\n",
    "import numpy as np"
   ]
  },
  {
   "cell_type": "code",
   "execution_count": 647,
   "id": "798155cd",
   "metadata": {},
   "outputs": [],
   "source": [
    "operators=allOps()"
   ]
  },
  {
   "cell_type": "code",
   "execution_count": 648,
   "id": "21aabf49",
   "metadata": {},
   "outputs": [],
   "source": [
    "#Define hyperbolic tangent function to generate data\n",
    "def tanhFunc(x0):\n",
    "    return np.tanh(x0)"
   ]
  },
  {
   "cell_type": "code",
   "execution_count": 649,
   "id": "af7ac253",
   "metadata": {},
   "outputs": [],
   "source": [
    "tanhModel=[np.array([operators[14],operators[10]]),[variableSelect(0)],[]]"
   ]
  },
  {
   "cell_type": "code",
   "execution_count": 650,
   "id": "6c20e038",
   "metadata": {},
   "outputs": [
    {
     "data": {
      "text/plain": [
       "[array([<function tanh at 0x000002C52F9D8F40>,\n",
       "        <function tan at 0x000002C52F9D8CC0>], dtype=object),\n",
       " [<function StackGP.variableSelect.<locals>.<lambda>(variables)>],\n",
       " []]"
      ]
     },
     "execution_count": 650,
     "metadata": {},
     "output_type": "execute_result"
    }
   ],
   "source": [
    "tanhModel"
   ]
  },
  {
   "cell_type": "code",
   "execution_count": 651,
   "id": "2c955d0a",
   "metadata": {},
   "outputs": [],
   "source": [
    "inputData=np.array([np.arange(100,105,.0013)])\n",
    "response=inputData[0]"
   ]
  },
  {
   "cell_type": "code",
   "execution_count": 652,
   "id": "01678f1f",
   "metadata": {},
   "outputs": [
    {
     "data": {
      "text/plain": [
       "nan"
      ]
     },
     "execution_count": 652,
     "metadata": {},
     "output_type": "execute_result"
    }
   ],
   "source": [
    "totalSharpness(tanhModel,inputData,response,numPerturbations=4000,percentPerturbation=0.2)"
   ]
  },
  {
   "cell_type": "code",
   "execution_count": 653,
   "id": "0b4e416d",
   "metadata": {},
   "outputs": [],
   "source": [
    "from StackGP import *\n",
    "import numpy as np"
   ]
  },
  {
   "cell_type": "code",
   "execution_count": 654,
   "id": "214d049a",
   "metadata": {},
   "outputs": [],
   "source": [
    "operators=allOps()"
   ]
  },
  {
   "cell_type": "code",
   "execution_count": 655,
   "id": "08dfeb2b",
   "metadata": {},
   "outputs": [],
   "source": [
    "#Define hyperbolic tangent function to generate data\n",
    "def tanhFunc(x0):\n",
    "    return np.tanh(x0)"
   ]
  },
  {
   "cell_type": "code",
   "execution_count": 656,
   "id": "f259db87",
   "metadata": {},
   "outputs": [],
   "source": [
    "tanhModel=[np.array([operators[14],operators[13]]),[variableSelect(0)],[]]"
   ]
  },
  {
   "cell_type": "code",
   "execution_count": 657,
   "id": "e4663e90",
   "metadata": {},
   "outputs": [
    {
     "data": {
      "text/plain": [
       "[array([<function tanh at 0x000002C52F9D8F40>,\n",
       "        <function arctan at 0x000002C52F9D8EA0>], dtype=object),\n",
       " [<function StackGP.variableSelect.<locals>.<lambda>(variables)>],\n",
       " []]"
      ]
     },
     "execution_count": 657,
     "metadata": {},
     "output_type": "execute_result"
    }
   ],
   "source": [
    "tanhModel"
   ]
  },
  {
   "cell_type": "code",
   "execution_count": 658,
   "id": "a1f6c5d0",
   "metadata": {},
   "outputs": [],
   "source": [
    "inputData=np.array([np.arange(100,105,.0013)])\n",
    "response=inputData[0]"
   ]
  },
  {
   "cell_type": "code",
   "execution_count": 659,
   "id": "df6a8665",
   "metadata": {},
   "outputs": [
    {
     "data": {
      "text/plain": [
       "nan"
      ]
     },
     "execution_count": 659,
     "metadata": {},
     "output_type": "execute_result"
    }
   ],
   "source": [
    "totalSharpness(tanhModel,inputData,response,numPerturbations=4000,percentPerturbation=0.2)"
   ]
  },
  {
   "cell_type": "code",
   "execution_count": 660,
   "id": "c90fb63e",
   "metadata": {},
   "outputs": [],
   "source": [
    "from StackGP import *\n",
    "import numpy as np"
   ]
  },
  {
   "cell_type": "code",
   "execution_count": 661,
   "id": "974e1c22",
   "metadata": {},
   "outputs": [],
   "source": [
    "operators=allOps()"
   ]
  },
  {
   "cell_type": "code",
   "execution_count": 662,
   "id": "d4315858",
   "metadata": {},
   "outputs": [],
   "source": [
    "#Define hyperbolic tangent function to generate data\n",
    "def tanhFunc(x0):\n",
    "    return np.tanh(x0)"
   ]
  },
  {
   "cell_type": "code",
   "execution_count": 663,
   "id": "0319a381",
   "metadata": {},
   "outputs": [],
   "source": [
    "tanhModel=[np.array([operators[14],operators[15]]),[variableSelect(0)],[]]"
   ]
  },
  {
   "cell_type": "code",
   "execution_count": 664,
   "id": "00a6eb8e",
   "metadata": {},
   "outputs": [
    {
     "data": {
      "text/plain": [
       "[array([<function tanh at 0x000002C52F9D8F40>,\n",
       "        <function log at 0x000002C52F9D8FE0>], dtype=object),\n",
       " [<function StackGP.variableSelect.<locals>.<lambda>(variables)>],\n",
       " []]"
      ]
     },
     "execution_count": 664,
     "metadata": {},
     "output_type": "execute_result"
    }
   ],
   "source": [
    "tanhModel"
   ]
  },
  {
   "cell_type": "code",
   "execution_count": 666,
   "id": "e7c87a76",
   "metadata": {},
   "outputs": [],
   "source": [
    "inputData=np.array([np.arange(100,105,.0013)])\n",
    "response=inputData[0]"
   ]
  },
  {
   "cell_type": "code",
   "execution_count": 667,
   "id": "d103e139",
   "metadata": {},
   "outputs": [
    {
     "data": {
      "text/plain": [
       "nan"
      ]
     },
     "execution_count": 667,
     "metadata": {},
     "output_type": "execute_result"
    }
   ],
   "source": [
    "totalSharpness(tanhModel,inputData,response,numPerturbations=4000,percentPerturbation=0.2)"
   ]
  },
  {
   "cell_type": "code",
   "execution_count": 669,
   "id": "6f3d3cec",
   "metadata": {},
   "outputs": [
    {
     "data": {
      "image/png": "[encoded data removed]",
      "text/plain": [
       "<Figure size 1000x500 with 1 Axes>"
      ]
     },
     "metadata": {},
     "output_type": "display_data"
    }
   ],
   "source": [
    "# import numpy as np\n",
    "import matplotlib.pyplot as plt \n",
    "\n",
    " \n",
    "# creating the dataset\n",
    "data = {'exp':1,'sqrd':1,'sqrt':1,'inv':1,'cos':1,'sin':1,'tan':1,'arctan':1,'log':1}\n",
    "courses = list(data.keys())\n",
    "values = list(data.values())\n",
    " \n",
    "fig = plt.figure(figsize = (10, 5))\n",
    "\n",
    "# creating the bar plot\n",
    "plt.bar(courses, values, color ='maroon', \n",
    "        width = 0.4)\n",
    "\n",
    "plt.xlabel(\"Functions\")\n",
    "plt.ylabel(\"Tanh\")\n",
    "plt.yscale(\"log\")\n",
    "plt.title(\"Hyperbolic Tangent Function Combinations [100,105]\")\n",
    "plt.show()"
   ]
  },
  {
   "cell_type": "markdown",
   "id": "54cfe9c7",
   "metadata": {},
   "source": [
    "# Logarithmic Function Combinations"
   ]
  },
  {
   "cell_type": "code",
   "execution_count": 670,
   "id": "38de601f",
   "metadata": {},
   "outputs": [],
   "source": [
    "from StackGP import *\n",
    "import numpy as np"
   ]
  },
  {
   "cell_type": "code",
   "execution_count": 671,
   "id": "2e72df1f",
   "metadata": {},
   "outputs": [],
   "source": [
    "operators=allOps()"
   ]
  },
  {
   "cell_type": "code",
   "execution_count": 672,
   "id": "47737563",
   "metadata": {},
   "outputs": [],
   "source": [
    "#Define logarithmic function to generate data\n",
    "def logFunc(x0):\n",
    "    return np.log(x0)"
   ]
  },
  {
   "cell_type": "code",
   "execution_count": 673,
   "id": "7863abf4",
   "metadata": {},
   "outputs": [],
   "source": [
    "logModel=[np.array([operators[15],operators[4]]),[variableSelect(0)],[]]"
   ]
  },
  {
   "cell_type": "code",
   "execution_count": 674,
   "id": "0fd72dcb",
   "metadata": {},
   "outputs": [
    {
     "data": {
      "text/plain": [
       "[array([<function log at 0x000002C52F9D8FE0>,\n",
       "        <function exp at 0x000002C52F9D8860>], dtype=object),\n",
       " [<function StackGP.variableSelect.<locals>.<lambda>(variables)>],\n",
       " []]"
      ]
     },
     "execution_count": 674,
     "metadata": {},
     "output_type": "execute_result"
    }
   ],
   "source": [
    "logModel"
   ]
  },
  {
   "cell_type": "code",
   "execution_count": 675,
   "id": "88c246fb",
   "metadata": {},
   "outputs": [],
   "source": [
    "inputData=np.array([np.arange(100,105,.0013)])\n",
    "response=inputData[0]"
   ]
  },
  {
   "cell_type": "code",
   "execution_count": 676,
   "id": "ef1527ba",
   "metadata": {},
   "outputs": [
    {
     "data": {
      "text/plain": [
       "4.84547422643359e-05"
      ]
     },
     "execution_count": 676,
     "metadata": {},
     "output_type": "execute_result"
    }
   ],
   "source": [
    "totalSharpness(logModel,inputData,response,numPerturbations=4000,percentPerturbation=0.2)"
   ]
  },
  {
   "cell_type": "code",
   "execution_count": null,
   "id": "c3758b12",
   "metadata": {},
   "outputs": [],
   "source": []
  },
  {
   "cell_type": "code",
   "execution_count": 677,
   "id": "d060741f",
   "metadata": {},
   "outputs": [],
   "source": [
    "from StackGP import *\n",
    "import numpy as np"
   ]
  },
  {
   "cell_type": "code",
   "execution_count": 678,
   "id": "2c2b4771",
   "metadata": {},
   "outputs": [],
   "source": [
    "operators=allOps()"
   ]
  },
  {
   "cell_type": "code",
   "execution_count": 679,
   "id": "3442be3b",
   "metadata": {},
   "outputs": [],
   "source": [
    "#Define logarithmic function to generate data\n",
    "def logFunc(x0):\n",
    "    return np.log(x0)"
   ]
  },
  {
   "cell_type": "code",
   "execution_count": 680,
   "id": "e955c418",
   "metadata": {},
   "outputs": [],
   "source": [
    "logModel=[np.array([operators[15],operators[5]]),[variableSelect(0)],[]]"
   ]
  },
  {
   "cell_type": "code",
   "execution_count": 681,
   "id": "ae6206ae",
   "metadata": {},
   "outputs": [
    {
     "data": {
      "text/plain": [
       "[array([<function log at 0x000002C52F9D8FE0>,\n",
       "        <function sqrd at 0x000002C52F9D8A40>], dtype=object),\n",
       " [<function StackGP.variableSelect.<locals>.<lambda>(variables)>],\n",
       " []]"
      ]
     },
     "execution_count": 681,
     "metadata": {},
     "output_type": "execute_result"
    }
   ],
   "source": [
    "logModel"
   ]
  },
  {
   "cell_type": "code",
   "execution_count": 682,
   "id": "eb3721b2",
   "metadata": {},
   "outputs": [],
   "source": [
    "inputData=np.array([np.arange(100,105,.0013)])\n",
    "response=inputData[0]"
   ]
  },
  {
   "cell_type": "code",
   "execution_count": 683,
   "id": "eeeaeb08",
   "metadata": {},
   "outputs": [
    {
     "data": {
      "text/plain": [
       "4.8824629036086185e-05"
      ]
     },
     "execution_count": 683,
     "metadata": {},
     "output_type": "execute_result"
    }
   ],
   "source": [
    "totalSharpness(logModel,inputData,response,numPerturbations=4000,percentPerturbation=0.2)"
   ]
  },
  {
   "cell_type": "code",
   "execution_count": null,
   "id": "941d774a",
   "metadata": {},
   "outputs": [],
   "source": []
  },
  {
   "cell_type": "code",
   "execution_count": 684,
   "id": "e9e9cf69",
   "metadata": {},
   "outputs": [],
   "source": [
    "from StackGP import *\n",
    "import numpy as np"
   ]
  },
  {
   "cell_type": "code",
   "execution_count": 685,
   "id": "cb4c9dd8",
   "metadata": {},
   "outputs": [],
   "source": [
    "operators=allOps()"
   ]
  },
  {
   "cell_type": "code",
   "execution_count": 686,
   "id": "9bdf98f6",
   "metadata": {},
   "outputs": [],
   "source": [
    "#Define logarithmic function to generate data\n",
    "def logFunc(x0):\n",
    "    return np.log(x0)"
   ]
  },
  {
   "cell_type": "code",
   "execution_count": 687,
   "id": "c07df697",
   "metadata": {},
   "outputs": [],
   "source": [
    "logModel=[np.array([operators[15],operators[6]]),[variableSelect(0)],[]]"
   ]
  },
  {
   "cell_type": "code",
   "execution_count": 688,
   "id": "ec2c1ee3",
   "metadata": {},
   "outputs": [
    {
     "data": {
      "text/plain": [
       "[array([<function log at 0x000002C52F9D8FE0>,\n",
       "        <function sqrt at 0x000002C52F9D89A0>], dtype=object),\n",
       " [<function StackGP.variableSelect.<locals>.<lambda>(variables)>],\n",
       " []]"
      ]
     },
     "execution_count": 688,
     "metadata": {},
     "output_type": "execute_result"
    }
   ],
   "source": [
    "logModel"
   ]
  },
  {
   "cell_type": "code",
   "execution_count": 689,
   "id": "d08e3396",
   "metadata": {},
   "outputs": [],
   "source": [
    "inputData=np.array([np.arange(100,105,.0013)])\n",
    "response=inputData[0]"
   ]
  },
  {
   "cell_type": "code",
   "execution_count": 690,
   "id": "89aecef6",
   "metadata": {},
   "outputs": [
    {
     "data": {
      "text/plain": [
       "4.896167148834883e-05"
      ]
     },
     "execution_count": 690,
     "metadata": {},
     "output_type": "execute_result"
    }
   ],
   "source": [
    "totalSharpness(logModel,inputData,response,numPerturbations=4000,percentPerturbation=0.2)"
   ]
  },
  {
   "cell_type": "code",
   "execution_count": null,
   "id": "cb888953",
   "metadata": {},
   "outputs": [],
   "source": []
  },
  {
   "cell_type": "code",
   "execution_count": 692,
   "id": "a88a8cb3",
   "metadata": {},
   "outputs": [],
   "source": [
    "from StackGP import *\n",
    "import numpy as np"
   ]
  },
  {
   "cell_type": "code",
   "execution_count": 693,
   "id": "12a628c9",
   "metadata": {},
   "outputs": [],
   "source": [
    "operators=allOps()"
   ]
  },
  {
   "cell_type": "code",
   "execution_count": 694,
   "id": "eadeb9e3",
   "metadata": {},
   "outputs": [],
   "source": [
    "#Define logarithmic function to generate data\n",
    "def logFunc(x0):\n",
    "    return np.log(x0)"
   ]
  },
  {
   "cell_type": "code",
   "execution_count": 695,
   "id": "e87a09ac",
   "metadata": {},
   "outputs": [],
   "source": [
    "logModel=[np.array([operators[15],operators[7]]),[variableSelect(0)],[]]"
   ]
  },
  {
   "cell_type": "code",
   "execution_count": 696,
   "id": "f12a4a56",
   "metadata": {},
   "outputs": [
    {
     "data": {
      "text/plain": [
       "[array([<function log at 0x000002C52F9D8FE0>,\n",
       "        <function inv at 0x000002C52F9D8AE0>], dtype=object),\n",
       " [<function StackGP.variableSelect.<locals>.<lambda>(variables)>],\n",
       " []]"
      ]
     },
     "execution_count": 696,
     "metadata": {},
     "output_type": "execute_result"
    }
   ],
   "source": [
    "logModel"
   ]
  },
  {
   "cell_type": "code",
   "execution_count": 697,
   "id": "d2fca0b0",
   "metadata": {},
   "outputs": [],
   "source": [
    "inputData=np.array([np.arange(100,105,.0013)])\n",
    "response=inputData[0]"
   ]
  },
  {
   "cell_type": "code",
   "execution_count": 698,
   "id": "d45bbe45",
   "metadata": {},
   "outputs": [
    {
     "data": {
      "text/plain": [
       "5.151296935277245e-05"
      ]
     },
     "execution_count": 698,
     "metadata": {},
     "output_type": "execute_result"
    }
   ],
   "source": [
    "totalSharpness(logModel,inputData,response,numPerturbations=4000,percentPerturbation=0.2)"
   ]
  },
  {
   "cell_type": "code",
   "execution_count": null,
   "id": "764eeb19",
   "metadata": {},
   "outputs": [],
   "source": []
  },
  {
   "cell_type": "code",
   "execution_count": 699,
   "id": "1d509f08",
   "metadata": {},
   "outputs": [],
   "source": [
    "from StackGP import *\n",
    "import numpy as np"
   ]
  },
  {
   "cell_type": "code",
   "execution_count": 700,
   "id": "303a4414",
   "metadata": {},
   "outputs": [],
   "source": [
    "operators=allOps()"
   ]
  },
  {
   "cell_type": "code",
   "execution_count": 701,
   "id": "633b4f9b",
   "metadata": {},
   "outputs": [],
   "source": [
    "#Define logarithmic function to generate data\n",
    "def logFunc(x0):\n",
    "    return np.log(x0)"
   ]
  },
  {
   "cell_type": "code",
   "execution_count": 702,
   "id": "7c6067ad",
   "metadata": {},
   "outputs": [],
   "source": [
    "logModel=[np.array([operators[15],operators[8]]),[variableSelect(0)],[]]"
   ]
  },
  {
   "cell_type": "code",
   "execution_count": 703,
   "id": "ac89a5c2",
   "metadata": {},
   "outputs": [
    {
     "data": {
      "text/plain": [
       "[array([<function log at 0x000002C52F9D8FE0>,\n",
       "        <function cos at 0x000002C52F9D8C20>], dtype=object),\n",
       " [<function StackGP.variableSelect.<locals>.<lambda>(variables)>],\n",
       " []]"
      ]
     },
     "execution_count": 703,
     "metadata": {},
     "output_type": "execute_result"
    }
   ],
   "source": [
    "logModel"
   ]
  },
  {
   "cell_type": "code",
   "execution_count": 704,
   "id": "fdffad8f",
   "metadata": {},
   "outputs": [],
   "source": [
    "inputData=np.array([np.arange(100,105,.0013)])\n",
    "response=inputData[0]"
   ]
  },
  {
   "cell_type": "code",
   "execution_count": 705,
   "id": "6daef5a0",
   "metadata": {},
   "outputs": [
    {
     "data": {
      "text/plain": [
       "5.0002169060496166e-05"
      ]
     },
     "execution_count": 705,
     "metadata": {},
     "output_type": "execute_result"
    }
   ],
   "source": [
    "totalSharpness(logModel,inputData,response,numPerturbations=4000,percentPerturbation=0.2)"
   ]
  },
  {
   "cell_type": "code",
   "execution_count": null,
   "id": "c65bac7a",
   "metadata": {},
   "outputs": [],
   "source": []
  },
  {
   "cell_type": "code",
   "execution_count": 706,
   "id": "0089c3cf",
   "metadata": {},
   "outputs": [],
   "source": [
    "from StackGP import *\n",
    "import numpy as np"
   ]
  },
  {
   "cell_type": "code",
   "execution_count": 707,
   "id": "6e9a66f3",
   "metadata": {},
   "outputs": [],
   "source": [
    "operators=allOps()"
   ]
  },
  {
   "cell_type": "code",
   "execution_count": 708,
   "id": "daff72d8",
   "metadata": {},
   "outputs": [],
   "source": [
    "#Define logarithmic function to generate data\n",
    "def logFunc(x0):\n",
    "    return np.log(x0)"
   ]
  },
  {
   "cell_type": "code",
   "execution_count": 709,
   "id": "1920a75f",
   "metadata": {},
   "outputs": [],
   "source": [
    "logModel=[np.array([operators[15],operators[9]]),[variableSelect(0)],[]]"
   ]
  },
  {
   "cell_type": "code",
   "execution_count": 710,
   "id": "1f48cc1c",
   "metadata": {},
   "outputs": [
    {
     "data": {
      "text/plain": [
       "[array([<function log at 0x000002C52F9D8FE0>,\n",
       "        <function sin at 0x000002C52F9D8B80>], dtype=object),\n",
       " [<function StackGP.variableSelect.<locals>.<lambda>(variables)>],\n",
       " []]"
      ]
     },
     "execution_count": 710,
     "metadata": {},
     "output_type": "execute_result"
    }
   ],
   "source": [
    "logModel"
   ]
  },
  {
   "cell_type": "code",
   "execution_count": 711,
   "id": "5abe73e7",
   "metadata": {},
   "outputs": [],
   "source": [
    "inputData=np.array([np.arange(100,105,.0013)])\n",
    "response=inputData[0]"
   ]
  },
  {
   "cell_type": "code",
   "execution_count": 712,
   "id": "1f316703",
   "metadata": {},
   "outputs": [
    {
     "data": {
      "text/plain": [
       "0.00015784462821786757"
      ]
     },
     "execution_count": 712,
     "metadata": {},
     "output_type": "execute_result"
    }
   ],
   "source": [
    "totalSharpness(logModel,inputData,response,numPerturbations=4000,percentPerturbation=0.2)"
   ]
  },
  {
   "cell_type": "code",
   "execution_count": null,
   "id": "1ca3785b",
   "metadata": {},
   "outputs": [],
   "source": []
  },
  {
   "cell_type": "code",
   "execution_count": 713,
   "id": "6e9bd016",
   "metadata": {},
   "outputs": [],
   "source": [
    "from StackGP import *\n",
    "import numpy as np"
   ]
  },
  {
   "cell_type": "code",
   "execution_count": 714,
   "id": "8fa4afa0",
   "metadata": {},
   "outputs": [],
   "source": [
    "operators=allOps()"
   ]
  },
  {
   "cell_type": "code",
   "execution_count": 715,
   "id": "4309d131",
   "metadata": {},
   "outputs": [],
   "source": [
    "#Define logarithmic function to generate data\n",
    "def logFunc(x0):\n",
    "    return np.log(x0)"
   ]
  },
  {
   "cell_type": "code",
   "execution_count": 716,
   "id": "f6df608f",
   "metadata": {},
   "outputs": [],
   "source": [
    "logModel=[np.array([operators[15],operators[10]]),[variableSelect(0)],[]]"
   ]
  },
  {
   "cell_type": "code",
   "execution_count": 717,
   "id": "fba83718",
   "metadata": {},
   "outputs": [
    {
     "data": {
      "text/plain": [
       "[array([<function log at 0x000002C52F9D8FE0>,\n",
       "        <function tan at 0x000002C52F9D8CC0>], dtype=object),\n",
       " [<function StackGP.variableSelect.<locals>.<lambda>(variables)>],\n",
       " []]"
      ]
     },
     "execution_count": 717,
     "metadata": {},
     "output_type": "execute_result"
    }
   ],
   "source": [
    "logModel"
   ]
  },
  {
   "cell_type": "code",
   "execution_count": 718,
   "id": "2b2c0182",
   "metadata": {},
   "outputs": [],
   "source": [
    "inputData=np.array([np.arange(100,105,.0013)])\n",
    "response=inputData[0]"
   ]
  },
  {
   "cell_type": "code",
   "execution_count": 719,
   "id": "83d7f05f",
   "metadata": {},
   "outputs": [
    {
     "data": {
      "text/plain": [
       "0.00032385111197763756"
      ]
     },
     "execution_count": 719,
     "metadata": {},
     "output_type": "execute_result"
    }
   ],
   "source": [
    "totalSharpness(logModel,inputData,response,numPerturbations=4000,percentPerturbation=0.2)"
   ]
  },
  {
   "cell_type": "code",
   "execution_count": null,
   "id": "4c3f6dfc",
   "metadata": {},
   "outputs": [],
   "source": []
  },
  {
   "cell_type": "code",
   "execution_count": 720,
   "id": "1d20e062",
   "metadata": {},
   "outputs": [],
   "source": [
    "from StackGP import *\n",
    "import numpy as np"
   ]
  },
  {
   "cell_type": "code",
   "execution_count": 721,
   "id": "35a442f8",
   "metadata": {},
   "outputs": [],
   "source": [
    "operators=allOps()"
   ]
  },
  {
   "cell_type": "code",
   "execution_count": 722,
   "id": "1f8a72a2",
   "metadata": {},
   "outputs": [],
   "source": [
    "#Define logarithmic function to generate data\n",
    "def logFunc(x0):\n",
    "    return np.log(x0)"
   ]
  },
  {
   "cell_type": "code",
   "execution_count": 723,
   "id": "34aab6aa",
   "metadata": {},
   "outputs": [],
   "source": [
    "logModel=[np.array([operators[15],operators[13]]),[variableSelect(0)],[]]"
   ]
  },
  {
   "cell_type": "code",
   "execution_count": 724,
   "id": "8c08ebb6",
   "metadata": {},
   "outputs": [
    {
     "data": {
      "text/plain": [
       "[array([<function log at 0x000002C52F9D8FE0>,\n",
       "        <function arctan at 0x000002C52F9D8EA0>], dtype=object),\n",
       " [<function StackGP.variableSelect.<locals>.<lambda>(variables)>],\n",
       " []]"
      ]
     },
     "execution_count": 724,
     "metadata": {},
     "output_type": "execute_result"
    }
   ],
   "source": [
    "logModel"
   ]
  },
  {
   "cell_type": "code",
   "execution_count": 725,
   "id": "4a6c6195",
   "metadata": {},
   "outputs": [],
   "source": [
    "inputData=np.array([np.arange(100,105,.0013)])\n",
    "response=inputData[0]"
   ]
  },
  {
   "cell_type": "code",
   "execution_count": 726,
   "id": "6ee0e11b",
   "metadata": {},
   "outputs": [
    {
     "data": {
      "text/plain": [
       "5.090573385452907e-05"
      ]
     },
     "execution_count": 726,
     "metadata": {},
     "output_type": "execute_result"
    }
   ],
   "source": [
    "totalSharpness(logModel,inputData,response,numPerturbations=4000,percentPerturbation=0.2)"
   ]
  },
  {
   "cell_type": "code",
   "execution_count": null,
   "id": "d70f5afd",
   "metadata": {},
   "outputs": [],
   "source": []
  },
  {
   "cell_type": "code",
   "execution_count": 727,
   "id": "86e1ffe7",
   "metadata": {},
   "outputs": [],
   "source": [
    "from StackGP import *\n",
    "import numpy as np"
   ]
  },
  {
   "cell_type": "code",
   "execution_count": 728,
   "id": "5099b9e3",
   "metadata": {},
   "outputs": [],
   "source": [
    "operators=allOps()"
   ]
  },
  {
   "cell_type": "code",
   "execution_count": 729,
   "id": "dc6d1af6",
   "metadata": {},
   "outputs": [],
   "source": [
    "#Define logarithmic function to generate data\n",
    "def logFunc(x0):\n",
    "    return np.log(x0)"
   ]
  },
  {
   "cell_type": "code",
   "execution_count": 730,
   "id": "2e37747d",
   "metadata": {},
   "outputs": [],
   "source": [
    "logModel=[np.array([operators[15],operators[14]]),[variableSelect(0)],[]]"
   ]
  },
  {
   "cell_type": "code",
   "execution_count": 731,
   "id": "8ab05097",
   "metadata": {},
   "outputs": [
    {
     "data": {
      "text/plain": [
       "[array([<function log at 0x000002C52F9D8FE0>,\n",
       "        <function tanh at 0x000002C52F9D8F40>], dtype=object),\n",
       " [<function StackGP.variableSelect.<locals>.<lambda>(variables)>],\n",
       " []]"
      ]
     },
     "execution_count": 731,
     "metadata": {},
     "output_type": "execute_result"
    }
   ],
   "source": [
    "logModel"
   ]
  },
  {
   "cell_type": "code",
   "execution_count": 732,
   "id": "bd9bf004",
   "metadata": {},
   "outputs": [],
   "source": [
    "inputData=np.array([np.arange(100,105,.0013)])\n",
    "response=inputData[0]"
   ]
  },
  {
   "cell_type": "code",
   "execution_count": 733,
   "id": "22a30c0c",
   "metadata": {},
   "outputs": [
    {
     "data": {
      "text/plain": [
       "5.937491105625594e-05"
      ]
     },
     "execution_count": 733,
     "metadata": {},
     "output_type": "execute_result"
    }
   ],
   "source": [
    "totalSharpness(logModel,inputData,response,numPerturbations=4000,percentPerturbation=0.2)"
   ]
  },
  {
   "cell_type": "code",
   "execution_count": 734,
   "id": "7639f370",
   "metadata": {},
   "outputs": [
    {
     "data": {
      "image/png": "[encoded data removed]",
      "text/plain": [
       "<Figure size 1000x500 with 1 Axes>"
      ]
     },
     "metadata": {},
     "output_type": "display_data"
    }
   ],
   "source": [
    "import numpy as np\n",
    "import matplotlib.pyplot as plt \n",
    "\n",
    " \n",
    "# creating the dataset\n",
    "data = {'tan':0.00032385,'sin':0.0001578446,'tanh':0.000059374911,'inv':0.0000515129,'arctan':0.0000509057,'cos':0.00005000216,'sqrt':0.0000489616,'sqrd':0.000048824,'exp':0.000048454}\n",
    "courses = list(data.keys())\n",
    "values = list(data.values())\n",
    " \n",
    "fig = plt.figure(figsize = (10, 5))\n",
    "\n",
    "# creating the bar plot\n",
    "plt.bar(courses, values, color ='maroon', \n",
    "        width = 0.4)\n",
    "\n",
    "plt.xlabel(\"Functions\")\n",
    "plt.ylabel(\"Log\")\n",
    "plt.title(\"Logarithmic Function Combinations [100,105]\")\n",
    "plt.yscale(\"log\")\n",
    "plt.show()\n"
   ]
  },
  {
   "cell_type": "code",
   "execution_count": null,
   "id": "04f95e00",
   "metadata": {},
   "outputs": [],
   "source": [
    "\n"
   ]
  },
  {
   "cell_type": "code",
   "execution_count": 747,
   "id": "992556da",
   "metadata": {},
   "outputs": [],
   "source": [
    "a=np.array([[ 1,  1,  1,  1,  1,  1,  1,  1,  1,  1],\n",
    "       [ 1,  1,  1,  1,  1,  1,  1,  1,  1,  1],\n",
    "       [ 1,  1,  0.00338816,  1,  1,  1,  1,  1,  1,  1],\n",
    "       [ 0.000029706, 0.00000363161, 0.000046892, 0.00007895, 0.000002133, 0.0000686104, 0.0000229753, 0.00006859, 0.00001965, 0.000018798],\n",
    "       [ 1,  1,  1,  0.0000021398,  0.0000771814,  0.0000312093,  0.007023233,  0.001475766,  0.0007267,  0.000475527],\n",
    "       [ 0.0000318,  0.000037243,  0.0000192818,  0.0000187636,  0.0000538827,  0.000020363,  0.0000317587,  0.000016431,  0.000033151, 0.0000351718],\n",
    "       [ 1,  1,  0.00050320013,  0.0000186016,  0.0018892,  0.00001742,  0.0001905,  0.00011725,  0.0002182,  0.0002279],\n",
    "       [ 1,  1,  0.0046835,  0.00007852,  0.0012163,  0.000057162,  0.00008354,  0.019145106,  0.00007503, 0.000094817 ],\n",
    "       [ 1,  1,  0.00044311,  0.00001775,  0.00192352,  0.00001656,  0.000217,  0.0000761,  0.00024177, 0.000256],\n",
    "       [ 1,  1, 0.00041541,  0.00001571,  0.002065,  0.0000151, 0.0002289,  0.00008183119,  0.000250766, 0.000261726]])"
   ]
  },
  {
   "cell_type": "code",
   "execution_count": 748,
   "id": "130b5265",
   "metadata": {},
   "outputs": [
    {
     "data": {
      "image/png": "[encoded data removed]",
      "text/plain": [
       "<Figure size 480x480 with 1 Axes>"
      ]
     },
     "metadata": {},
     "output_type": "display_data"
    }
   ],
   "source": [
    "import matplotlib.pyplot as plt\n",
    "import numpy as np\n",
    "\n",
    "\n",
    "\n",
    "# Display the matrix as a color-coded image\n",
    "plt.matshow(a,norm=\"log\")\n",
    "plt.show()\n"
   ]
  },
  {
   "cell_type": "code",
   "execution_count": 749,
   "id": "578fc061",
   "metadata": {},
   "outputs": [
    {
     "ename": "SyntaxError",
     "evalue": "illegal target for annotation (3072896776.py, line 1)",
     "output_type": "error",
     "traceback": [
      "\u001b[1;36m  Cell \u001b[1;32mIn[749], line 1\u001b[1;36m\u001b[0m\n\u001b[1;33m    'sqrt':1,'log':1,'arcsin':1,'arccos':1,'tan':0.00060787562430,'inv':0.000598166,'sqrd':0.00030759390069,'tanh':0.000181543177158,'arctan':0.000161858,'sin':0.000130928233114,'cos':0.0000283447749,'exp':0.000027142735\u001b[0m\n\u001b[1;37m    ^\u001b[0m\n\u001b[1;31mSyntaxError\u001b[0m\u001b[1;31m:\u001b[0m illegal target for annotation\n"
     ]
    }
   ],
   "source": [
    "'sqrt':1,'log':1,'arcsin':1,'arccos':1,'tan':0.00060787562430,'inv':0.000598166,'sqrd':0.00030759390069,'tanh':0.000181543177158,'arctan':0.000161858,'sin':0.000130928233114,'cos':0.0000283447749,'exp':0.000027142735"
   ]
  },
  {
   "cell_type": "code",
   "execution_count": 750,
   "id": "d25f7706",
   "metadata": {},
   "outputs": [],
   "source": [
    "layer1Values=np.array([1,1,0.000027142735 ,0.00030759390069 ,0.000598166 ,0.0000283447749 ,0.000130928233114 ,0.00060787562430 ,0.000161858 ,0.000181543177158 ])"
   ]
  },
  {
   "cell_type": "code",
   "execution_count": 751,
   "id": "1e5c10e2",
   "metadata": {},
   "outputs": [],
   "source": [
    "diffMatrix=np.array([[a[i,j]-layer1Values[i] for j in range(10)] for i in range(10)])"
   ]
  },
  {
   "cell_type": "code",
   "execution_count": 752,
   "id": "c72fc264",
   "metadata": {},
   "outputs": [
    {
     "data": {
      "text/plain": [
       "array([[ 0.00000000e+00,  0.00000000e+00,  0.00000000e+00,\n",
       "         0.00000000e+00,  0.00000000e+00,  0.00000000e+00,\n",
       "         0.00000000e+00,  0.00000000e+00,  0.00000000e+00,\n",
       "         0.00000000e+00],\n",
       "       [ 0.00000000e+00,  0.00000000e+00,  0.00000000e+00,\n",
       "         0.00000000e+00,  0.00000000e+00,  0.00000000e+00,\n",
       "         0.00000000e+00,  0.00000000e+00,  0.00000000e+00,\n",
       "         0.00000000e+00],\n",
       "       [ 9.99972857e-01,  9.99972857e-01,  3.36101726e-03,\n",
       "         9.99972857e-01,  9.99972857e-01,  9.99972857e-01,\n",
       "         9.99972857e-01,  9.99972857e-01,  9.99972857e-01,\n",
       "         9.99972857e-01],\n",
       "       [-2.77887901e-04, -3.03962291e-04, -2.60701901e-04,\n",
       "        -2.28643901e-04, -3.05460901e-04, -2.38983501e-04,\n",
       "        -2.84618601e-04, -2.39003901e-04, -2.87943901e-04,\n",
       "        -2.88795901e-04],\n",
       "       [ 9.99401834e-01,  9.99401834e-01,  9.99401834e-01,\n",
       "        -5.96026200e-04, -5.20984600e-04, -5.66956700e-04,\n",
       "         6.42506700e-03,  8.77600000e-04,  1.28534000e-04,\n",
       "        -1.22639000e-04],\n",
       "       [ 3.45522510e-06,  8.89822510e-06, -9.06297490e-06,\n",
       "        -9.58117490e-06,  2.55379251e-05, -7.98177490e-06,\n",
       "         3.41392510e-06, -1.19137749e-05,  4.80622510e-06,\n",
       "         6.82702510e-06],\n",
       "       [ 9.99869072e-01,  9.99869072e-01,  3.72271897e-04,\n",
       "        -1.12326633e-04,  1.75827177e-03, -1.13508233e-04,\n",
       "         5.95717669e-05, -1.36782331e-05,  8.72717669e-05,\n",
       "         9.69717669e-05],\n",
       "       [ 9.99392124e-01,  9.99392124e-01,  4.07562438e-03,\n",
       "        -5.29355624e-04,  6.08424376e-04, -5.50713624e-04,\n",
       "        -5.24335624e-04,  1.85372304e-02, -5.32845624e-04,\n",
       "        -5.13058624e-04],\n",
       "       [ 9.99838142e-01,  9.99838142e-01,  2.81252000e-04,\n",
       "        -1.44108000e-04,  1.76166200e-03, -1.45298000e-04,\n",
       "         5.51420000e-05, -8.57580000e-05,  7.99120000e-05,\n",
       "         9.41420000e-05],\n",
       "       [ 9.99818457e-01,  9.99818457e-01,  2.33866823e-04,\n",
       "        -1.65833177e-04,  1.88345682e-03, -1.66443177e-04,\n",
       "         4.73568228e-05, -9.97119872e-05,  6.92228228e-05,\n",
       "         8.01828228e-05]])"
      ]
     },
     "execution_count": 752,
     "metadata": {},
     "output_type": "execute_result"
    }
   ],
   "source": [
    "diffMatrix"
   ]
  },
  {
   "cell_type": "code",
   "execution_count": 753,
   "id": "8e9ce8bd",
   "metadata": {},
   "outputs": [
    {
     "data": {
      "text/plain": [
       "array([0.99997286, 0.99997286, 0.00336102, 0.99997286, 0.99997286,\n",
       "       0.99997286, 0.99997286, 0.99997286, 0.99997286, 0.99997286])"
      ]
     },
     "execution_count": 753,
     "metadata": {},
     "output_type": "execute_result"
    }
   ],
   "source": [
    "diffMatrix[2]"
   ]
  },
  {
   "cell_type": "code",
   "execution_count": 755,
   "id": "962e9018",
   "metadata": {},
   "outputs": [
    {
     "data": {
      "image/png": "[encoded data removed]",
      "text/plain": [
       "<Figure size 480x480 with 1 Axes>"
      ]
     },
     "metadata": {},
     "output_type": "display_data"
    }
   ],
   "source": [
    "\n",
    "plt.matshow(diffMatrix,norm=\"log\")\n",
    "plt.title(\"Matrix Plot for 2-Layer Functions\")\n",
    "plt.show()"
   ]
  },
  {
   "cell_type": "code",
   "execution_count": 722,
   "id": "d37f5bba",
   "metadata": {},
   "outputs": [
    {
     "data": {
      "image/png": "[encoded data removed]",
      "text/plain": [
       "<Figure size 480x480 with 1 Axes>"
      ]
     },
     "metadata": {},
     "output_type": "display_data"
    }
   ],
   "source": [
    "plt.matshow(-diffMatrix,norm=\"log\")\n",
    "plt.show()"
   ]
  },
  {
   "cell_type": "code",
   "execution_count": 724,
   "id": "70bc69ce",
   "metadata": {},
   "outputs": [
    {
     "data": {
      "image/png": "[encoded data removed]",
      "text/plain": [
       "<Figure size 480x480 with 1 Axes>"
      ]
     },
     "metadata": {},
     "output_type": "display_data"
    }
   ],
   "source": [
    "plt.matshow(np.abs(diffMatrix),norm=\"log\")\n",
    "plt.show()"
   ]
  },
  {
   "cell_type": "code",
   "execution_count": null,
   "id": "86c80859",
   "metadata": {},
   "outputs": [],
   "source": []
  }
 ],
 "metadata": {
  "kernelspec": {
   "display_name": "Python 3 (ipykernel)",
   "language": "python",
   "name": "python3"
  },
  "language_info": {
   "codemirror_mode": {
    "name": "ipython",
    "version": 3
   },
   "file_extension": ".py",
   "mimetype": "text/x-python",
   "name": "python",
   "nbconvert_exporter": "python",
   "pygments_lexer": "ipython3",
   "version": "3.11.3"
  }
 },
 "nbformat": 4,
 "nbformat_minor": 5
}
