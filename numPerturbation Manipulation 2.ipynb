{
 "cells": [
  {
   "cell_type": "code",
   "execution_count": 1,
   "id": "4149ef3c",
   "metadata": {},
   "outputs": [],
   "source": [
    "from StackGP import *\n",
    "import numpy as np"
   ]
  },
  {
   "cell_type": "code",
   "execution_count": 216,
   "id": "5b261be2",
   "metadata": {},
   "outputs": [],
   "source": [
    "inputData=[[1,2,3,4,5,6,7,8,9,10]]\n",
    "response=inputData[0]"
   ]
  },
  {
   "cell_type": "code",
   "execution_count": 217,
   "id": "a78f4e57",
   "metadata": {},
   "outputs": [
    {
     "data": {
      "text/plain": [
       "[[1, 2, 3, 4, 5, 6, 7, 8, 9, 10]]"
      ]
     },
     "execution_count": 217,
     "metadata": {},
     "output_type": "execute_result"
    }
   ],
   "source": [
    "inputData"
   ]
  },
  {
   "cell_type": "code",
   "execution_count": 218,
   "id": "77c54ff2",
   "metadata": {},
   "outputs": [
    {
     "data": {
      "text/plain": [
       "[1, 2, 3, 4, 5, 6, 7, 8, 9, 10]"
      ]
     },
     "execution_count": 218,
     "metadata": {},
     "output_type": "execute_result"
    }
   ],
   "source": [
    "response"
   ]
  },
  {
   "cell_type": "code",
   "execution_count": 219,
   "id": "667ff360",
   "metadata": {},
   "outputs": [],
   "source": [
    "operators=allOps()"
   ]
  },
  {
   "cell_type": "code",
   "execution_count": 220,
   "id": "9a5d4f63",
   "metadata": {},
   "outputs": [
    {
     "data": {
      "text/plain": [
       "[<function StackGP.protectDiv(a, b)>,\n",
       " <function StackGP.add(a, b)>,\n",
       " <function StackGP.sub(a, b)>,\n",
       " <function StackGP.mult(a, b)>,\n",
       " <function StackGP.exp(a)>,\n",
       " <function StackGP.sqrd(a)>,\n",
       " <function StackGP.sqrt(a)>,\n",
       " <function StackGP.inv(a)>,\n",
       " <function StackGP.cos(a)>,\n",
       " <function StackGP.sin(a)>,\n",
       " <function StackGP.tan(a)>,\n",
       " <function StackGP.arccos(a)>,\n",
       " <function StackGP.arcsin(a)>,\n",
       " <function StackGP.arctan(a)>,\n",
       " <function StackGP.tanh(a)>,\n",
       " <function StackGP.log(a)>,\n",
       " 'pop',\n",
       " 'pop',\n",
       " 'pop',\n",
       " 'pop',\n",
       " 'pop',\n",
       " 'pop',\n",
       " 'pop',\n",
       " 'pop',\n",
       " 'pop',\n",
       " 'pop']"
      ]
     },
     "execution_count": 220,
     "metadata": {},
     "output_type": "execute_result"
    }
   ],
   "source": [
    "operators"
   ]
  },
  {
   "cell_type": "code",
   "execution_count": 249,
   "id": "8cd53068",
   "metadata": {},
   "outputs": [
    {
     "data": {
      "text/plain": [
       "<function StackGP.cos(a)>"
      ]
     },
     "execution_count": 249,
     "metadata": {},
     "output_type": "execute_result"
    }
   ],
   "source": [
    "operators[8]"
   ]
  },
  {
   "cell_type": "code",
   "execution_count": 250,
   "id": "a00282c2",
   "metadata": {},
   "outputs": [],
   "source": [
    "model=[np.array([operators[8]]),[variableSelect(0)],[]]"
   ]
  },
  {
   "cell_type": "code",
   "execution_count": 251,
   "id": "fd6da3a2",
   "metadata": {},
   "outputs": [
    {
     "data": {
      "text/plain": [
       "[array([<function cos at 0x000002140CE47420>], dtype=object),\n",
       " [<function StackGP.variableSelect.<locals>.<lambda>(variables)>],\n",
       " []]"
      ]
     },
     "execution_count": 251,
     "metadata": {},
     "output_type": "execute_result"
    }
   ],
   "source": [
    "model"
   ]
  },
  {
   "cell_type": "code",
   "execution_count": 252,
   "id": "f7239b08",
   "metadata": {},
   "outputs": [
    {
     "data": {
      "image/png": "[encoded data removed]",
      "text/plain": [
       "<Figure size 640x480 with 1 Axes>"
      ]
     },
     "metadata": {},
     "output_type": "display_data"
    }
   ],
   "source": [
    "plotModelResponseComparison(model,inputData,response)"
   ]
  },
  {
   "cell_type": "code",
   "execution_count": 253,
   "id": "6c1ec388",
   "metadata": {},
   "outputs": [
    {
     "data": {
      "text/plain": [
       "0.01823527304613818"
      ]
     },
     "execution_count": 253,
     "metadata": {},
     "output_type": "execute_result"
    }
   ],
   "source": [
    "totalSharpness(model,inputData,response,numPerturbations=1000,percentPerturbation=0.2)"
   ]
  },
  {
   "cell_type": "code",
   "execution_count": null,
   "id": "448d7a5e",
   "metadata": {},
   "outputs": [],
   "source": []
  },
  {
   "cell_type": "code",
   "execution_count": null,
   "id": "7b4f3be2",
   "metadata": {},
   "outputs": [],
   "source": []
  },
  {
   "cell_type": "code",
   "execution_count": 27,
   "id": "be336065",
   "metadata": {},
   "outputs": [],
   "source": [
    "from StackGP import *\n",
    "import numpy as np"
   ]
  },
  {
   "cell_type": "code",
   "execution_count": 28,
   "id": "796933ac",
   "metadata": {},
   "outputs": [],
   "source": [
    "inputData=[[1,2,3,4,5,6,7,8,9,10]]\n",
    "response=inputData[0]"
   ]
  },
  {
   "cell_type": "code",
   "execution_count": 29,
   "id": "11df013d",
   "metadata": {},
   "outputs": [
    {
     "data": {
      "text/plain": [
       "[[1, 2, 3, 4, 5, 6, 7, 8, 9, 10]]"
      ]
     },
     "execution_count": 29,
     "metadata": {},
     "output_type": "execute_result"
    }
   ],
   "source": [
    "inputData"
   ]
  },
  {
   "cell_type": "code",
   "execution_count": 30,
   "id": "33211998",
   "metadata": {},
   "outputs": [
    {
     "data": {
      "text/plain": [
       "[1, 2, 3, 4, 5, 6, 7, 8, 9, 10]"
      ]
     },
     "execution_count": 30,
     "metadata": {},
     "output_type": "execute_result"
    }
   ],
   "source": [
    "response"
   ]
  },
  {
   "cell_type": "code",
   "execution_count": 31,
   "id": "0e5d1757",
   "metadata": {},
   "outputs": [],
   "source": [
    "operators=allOps()"
   ]
  },
  {
   "cell_type": "code",
   "execution_count": 32,
   "id": "cbaf5c7c",
   "metadata": {},
   "outputs": [
    {
     "data": {
      "text/plain": [
       "[<function StackGP.protectDiv(a, b)>,\n",
       " <function StackGP.add(a, b)>,\n",
       " <function StackGP.sub(a, b)>,\n",
       " <function StackGP.mult(a, b)>,\n",
       " <function StackGP.exp(a)>,\n",
       " <function StackGP.sqrd(a)>,\n",
       " <function StackGP.sqrt(a)>,\n",
       " <function StackGP.inv(a)>,\n",
       " <function StackGP.cos(a)>,\n",
       " <function StackGP.sin(a)>,\n",
       " <function StackGP.tan(a)>,\n",
       " <function StackGP.arccos(a)>,\n",
       " <function StackGP.arcsin(a)>,\n",
       " <function StackGP.arctan(a)>,\n",
       " <function StackGP.tanh(a)>,\n",
       " <function StackGP.log(a)>,\n",
       " 'pop',\n",
       " 'pop',\n",
       " 'pop',\n",
       " 'pop',\n",
       " 'pop',\n",
       " 'pop',\n",
       " 'pop',\n",
       " 'pop',\n",
       " 'pop',\n",
       " 'pop']"
      ]
     },
     "execution_count": 32,
     "metadata": {},
     "output_type": "execute_result"
    }
   ],
   "source": [
    "operators"
   ]
  },
  {
   "cell_type": "code",
   "execution_count": 33,
   "id": "9eb5ac50",
   "metadata": {},
   "outputs": [
    {
     "data": {
      "text/plain": [
       "<function StackGP.exp(a)>"
      ]
     },
     "execution_count": 33,
     "metadata": {},
     "output_type": "execute_result"
    }
   ],
   "source": [
    "operators[4]"
   ]
  },
  {
   "cell_type": "code",
   "execution_count": 34,
   "id": "65b84ac4",
   "metadata": {},
   "outputs": [],
   "source": [
    "model=[np.array([operators[4]]),[variableSelect(0)],[]]"
   ]
  },
  {
   "cell_type": "code",
   "execution_count": 35,
   "id": "0781d435",
   "metadata": {},
   "outputs": [
    {
     "data": {
      "text/plain": [
       "[array([<function exp at 0x000002140CE47060>], dtype=object),\n",
       " [<function StackGP.variableSelect.<locals>.<lambda>(variables)>],\n",
       " []]"
      ]
     },
     "execution_count": 35,
     "metadata": {},
     "output_type": "execute_result"
    }
   ],
   "source": [
    "model"
   ]
  },
  {
   "cell_type": "code",
   "execution_count": 36,
   "id": "008aa536",
   "metadata": {},
   "outputs": [
    {
     "data": {
      "image/png": "[encoded data removed]",
      "text/plain": [
       "<Figure size 640x480 with 1 Axes>"
      ]
     },
     "metadata": {},
     "output_type": "display_data"
    }
   ],
   "source": [
    "plotModelResponseComparison(model,inputData,response)"
   ]
  },
  {
   "cell_type": "code",
   "execution_count": 254,
   "id": "d3562b63",
   "metadata": {},
   "outputs": [
    {
     "data": {
      "text/plain": [
       "0.017981504359378554"
      ]
     },
     "execution_count": 254,
     "metadata": {},
     "output_type": "execute_result"
    }
   ],
   "source": [
    "totalSharpness(model,inputData,response,numPerturbations=1000,percentPerturbation=0.2)"
   ]
  },
  {
   "cell_type": "code",
   "execution_count": null,
   "id": "8afedca0",
   "metadata": {},
   "outputs": [],
   "source": []
  },
  {
   "cell_type": "code",
   "execution_count": null,
   "id": "91809bba",
   "metadata": {},
   "outputs": [],
   "source": []
  },
  {
   "cell_type": "code",
   "execution_count": 38,
   "id": "cd9c5ec5",
   "metadata": {},
   "outputs": [],
   "source": [
    "from StackGP import *\n",
    "import numpy as np"
   ]
  },
  {
   "cell_type": "code",
   "execution_count": 39,
   "id": "62dfbc00",
   "metadata": {},
   "outputs": [],
   "source": [
    "inputData=[[1,2,3,4,5,6,7,8,9,10]]\n",
    "response=inputData[0]"
   ]
  },
  {
   "cell_type": "code",
   "execution_count": 40,
   "id": "2dea66b2",
   "metadata": {},
   "outputs": [
    {
     "data": {
      "text/plain": [
       "[[1, 2, 3, 4, 5, 6, 7, 8, 9, 10]]"
      ]
     },
     "execution_count": 40,
     "metadata": {},
     "output_type": "execute_result"
    }
   ],
   "source": [
    "inputData"
   ]
  },
  {
   "cell_type": "code",
   "execution_count": 41,
   "id": "3ac42152",
   "metadata": {},
   "outputs": [
    {
     "data": {
      "text/plain": [
       "[1, 2, 3, 4, 5, 6, 7, 8, 9, 10]"
      ]
     },
     "execution_count": 41,
     "metadata": {},
     "output_type": "execute_result"
    }
   ],
   "source": [
    "response"
   ]
  },
  {
   "cell_type": "code",
   "execution_count": 42,
   "id": "d282e099",
   "metadata": {},
   "outputs": [],
   "source": [
    "operators=allOps()"
   ]
  },
  {
   "cell_type": "code",
   "execution_count": 43,
   "id": "60f586ac",
   "metadata": {},
   "outputs": [
    {
     "data": {
      "text/plain": [
       "[<function StackGP.protectDiv(a, b)>,\n",
       " <function StackGP.add(a, b)>,\n",
       " <function StackGP.sub(a, b)>,\n",
       " <function StackGP.mult(a, b)>,\n",
       " <function StackGP.exp(a)>,\n",
       " <function StackGP.sqrd(a)>,\n",
       " <function StackGP.sqrt(a)>,\n",
       " <function StackGP.inv(a)>,\n",
       " <function StackGP.cos(a)>,\n",
       " <function StackGP.sin(a)>,\n",
       " <function StackGP.tan(a)>,\n",
       " <function StackGP.arccos(a)>,\n",
       " <function StackGP.arcsin(a)>,\n",
       " <function StackGP.arctan(a)>,\n",
       " <function StackGP.tanh(a)>,\n",
       " <function StackGP.log(a)>,\n",
       " 'pop',\n",
       " 'pop',\n",
       " 'pop',\n",
       " 'pop',\n",
       " 'pop',\n",
       " 'pop',\n",
       " 'pop',\n",
       " 'pop',\n",
       " 'pop',\n",
       " 'pop']"
      ]
     },
     "execution_count": 43,
     "metadata": {},
     "output_type": "execute_result"
    }
   ],
   "source": [
    "operators"
   ]
  },
  {
   "cell_type": "code",
   "execution_count": 44,
   "id": "e23ffc4e",
   "metadata": {},
   "outputs": [
    {
     "data": {
      "text/plain": [
       "<function StackGP.sqrd(a)>"
      ]
     },
     "execution_count": 44,
     "metadata": {},
     "output_type": "execute_result"
    }
   ],
   "source": [
    "operators[5]"
   ]
  },
  {
   "cell_type": "code",
   "execution_count": 45,
   "id": "fbbb83dc",
   "metadata": {},
   "outputs": [],
   "source": [
    "model=[np.array([operators[5]]),[variableSelect(0)],[]]"
   ]
  },
  {
   "cell_type": "code",
   "execution_count": 46,
   "id": "79e763c9",
   "metadata": {},
   "outputs": [
    {
     "data": {
      "text/plain": [
       "[array([<function sqrd at 0x000002140CE47240>], dtype=object),\n",
       " [<function StackGP.variableSelect.<locals>.<lambda>(variables)>],\n",
       " []]"
      ]
     },
     "execution_count": 46,
     "metadata": {},
     "output_type": "execute_result"
    }
   ],
   "source": [
    "model"
   ]
  },
  {
   "cell_type": "code",
   "execution_count": 47,
   "id": "603a8414",
   "metadata": {},
   "outputs": [
    {
     "data": {
      "image/png": "[encoded data removed]",
      "text/plain": [
       "<Figure size 640x480 with 1 Axes>"
      ]
     },
     "metadata": {},
     "output_type": "display_data"
    }
   ],
   "source": [
    "plotModelResponseComparison(model,inputData,response)"
   ]
  },
  {
   "cell_type": "code",
   "execution_count": 255,
   "id": "48187fa5",
   "metadata": {},
   "outputs": [
    {
     "data": {
      "text/plain": [
       "0.017569394552999943"
      ]
     },
     "execution_count": 255,
     "metadata": {},
     "output_type": "execute_result"
    }
   ],
   "source": [
    "totalSharpness(model,inputData,response,numPerturbations=1000,percentPerturbation=0.2)"
   ]
  },
  {
   "cell_type": "code",
   "execution_count": null,
   "id": "c4ebbce1",
   "metadata": {},
   "outputs": [],
   "source": []
  },
  {
   "cell_type": "code",
   "execution_count": null,
   "id": "97e5a0bc",
   "metadata": {},
   "outputs": [],
   "source": []
  },
  {
   "cell_type": "code",
   "execution_count": 49,
   "id": "68cc3d91",
   "metadata": {},
   "outputs": [],
   "source": [
    "from StackGP import *\n",
    "import numpy as np"
   ]
  },
  {
   "cell_type": "code",
   "execution_count": 50,
   "id": "6f79cf36",
   "metadata": {},
   "outputs": [],
   "source": [
    "inputData=[[1,2,3,4,5,6,7,8,9,10]]\n",
    "response=inputData[0]"
   ]
  },
  {
   "cell_type": "code",
   "execution_count": 51,
   "id": "36559f58",
   "metadata": {},
   "outputs": [
    {
     "data": {
      "text/plain": [
       "[[1, 2, 3, 4, 5, 6, 7, 8, 9, 10]]"
      ]
     },
     "execution_count": 51,
     "metadata": {},
     "output_type": "execute_result"
    }
   ],
   "source": [
    "inputData"
   ]
  },
  {
   "cell_type": "code",
   "execution_count": 52,
   "id": "078f14ba",
   "metadata": {},
   "outputs": [
    {
     "data": {
      "text/plain": [
       "[1, 2, 3, 4, 5, 6, 7, 8, 9, 10]"
      ]
     },
     "execution_count": 52,
     "metadata": {},
     "output_type": "execute_result"
    }
   ],
   "source": [
    "response"
   ]
  },
  {
   "cell_type": "code",
   "execution_count": 53,
   "id": "1b0f294a",
   "metadata": {},
   "outputs": [],
   "source": [
    "operators=allOps()"
   ]
  },
  {
   "cell_type": "code",
   "execution_count": 54,
   "id": "46aac2a8",
   "metadata": {},
   "outputs": [
    {
     "data": {
      "text/plain": [
       "[<function StackGP.protectDiv(a, b)>,\n",
       " <function StackGP.add(a, b)>,\n",
       " <function StackGP.sub(a, b)>,\n",
       " <function StackGP.mult(a, b)>,\n",
       " <function StackGP.exp(a)>,\n",
       " <function StackGP.sqrd(a)>,\n",
       " <function StackGP.sqrt(a)>,\n",
       " <function StackGP.inv(a)>,\n",
       " <function StackGP.cos(a)>,\n",
       " <function StackGP.sin(a)>,\n",
       " <function StackGP.tan(a)>,\n",
       " <function StackGP.arccos(a)>,\n",
       " <function StackGP.arcsin(a)>,\n",
       " <function StackGP.arctan(a)>,\n",
       " <function StackGP.tanh(a)>,\n",
       " <function StackGP.log(a)>,\n",
       " 'pop',\n",
       " 'pop',\n",
       " 'pop',\n",
       " 'pop',\n",
       " 'pop',\n",
       " 'pop',\n",
       " 'pop',\n",
       " 'pop',\n",
       " 'pop',\n",
       " 'pop']"
      ]
     },
     "execution_count": 54,
     "metadata": {},
     "output_type": "execute_result"
    }
   ],
   "source": [
    "operators"
   ]
  },
  {
   "cell_type": "code",
   "execution_count": 55,
   "id": "1355cef8",
   "metadata": {},
   "outputs": [
    {
     "data": {
      "text/plain": [
       "<function StackGP.sqrt(a)>"
      ]
     },
     "execution_count": 55,
     "metadata": {},
     "output_type": "execute_result"
    }
   ],
   "source": [
    "operators[6]"
   ]
  },
  {
   "cell_type": "code",
   "execution_count": 56,
   "id": "30ec0a0f",
   "metadata": {},
   "outputs": [],
   "source": [
    "model=[np.array([operators[6]]),[variableSelect(0)],[]]"
   ]
  },
  {
   "cell_type": "code",
   "execution_count": 57,
   "id": "8a5638cd",
   "metadata": {},
   "outputs": [
    {
     "data": {
      "text/plain": [
       "[array([<function sqrt at 0x000002140CE471A0>], dtype=object),\n",
       " [<function StackGP.variableSelect.<locals>.<lambda>(variables)>],\n",
       " []]"
      ]
     },
     "execution_count": 57,
     "metadata": {},
     "output_type": "execute_result"
    }
   ],
   "source": [
    "model"
   ]
  },
  {
   "cell_type": "code",
   "execution_count": 58,
   "id": "a44d5c52",
   "metadata": {},
   "outputs": [
    {
     "data": {
      "image/png": "[encoded data removed]",
      "text/plain": [
       "<Figure size 640x480 with 1 Axes>"
      ]
     },
     "metadata": {},
     "output_type": "display_data"
    }
   ],
   "source": [
    "plotModelResponseComparison(model,inputData,response)"
   ]
  },
  {
   "cell_type": "code",
   "execution_count": 256,
   "id": "6afe2819",
   "metadata": {},
   "outputs": [
    {
     "data": {
      "text/plain": [
       "0.018072560647603785"
      ]
     },
     "execution_count": 256,
     "metadata": {},
     "output_type": "execute_result"
    }
   ],
   "source": [
    "totalSharpness(model,inputData,response,numPerturbations=1000,percentPerturbation=0.2)"
   ]
  },
  {
   "cell_type": "code",
   "execution_count": null,
   "id": "92963b0a",
   "metadata": {},
   "outputs": [],
   "source": []
  },
  {
   "cell_type": "code",
   "execution_count": null,
   "id": "5da27bad",
   "metadata": {},
   "outputs": [],
   "source": []
  },
  {
   "cell_type": "code",
   "execution_count": 60,
   "id": "d79aed56",
   "metadata": {},
   "outputs": [],
   "source": [
    "from StackGP import *\n",
    "import numpy as np"
   ]
  },
  {
   "cell_type": "code",
   "execution_count": 61,
   "id": "3b887ed0",
   "metadata": {},
   "outputs": [],
   "source": [
    "inputData=[[1,2,3,4,5,6,7,8,9,10]]\n",
    "response=inputData[0]"
   ]
  },
  {
   "cell_type": "code",
   "execution_count": 62,
   "id": "48cdc43a",
   "metadata": {},
   "outputs": [
    {
     "data": {
      "text/plain": [
       "[[1, 2, 3, 4, 5, 6, 7, 8, 9, 10]]"
      ]
     },
     "execution_count": 62,
     "metadata": {},
     "output_type": "execute_result"
    }
   ],
   "source": [
    "inputData"
   ]
  },
  {
   "cell_type": "code",
   "execution_count": 63,
   "id": "569af58e",
   "metadata": {},
   "outputs": [
    {
     "data": {
      "text/plain": [
       "[1, 2, 3, 4, 5, 6, 7, 8, 9, 10]"
      ]
     },
     "execution_count": 63,
     "metadata": {},
     "output_type": "execute_result"
    }
   ],
   "source": [
    "response"
   ]
  },
  {
   "cell_type": "code",
   "execution_count": 64,
   "id": "504fa123",
   "metadata": {},
   "outputs": [],
   "source": [
    "operators=allOps()"
   ]
  },
  {
   "cell_type": "code",
   "execution_count": 65,
   "id": "1248c81a",
   "metadata": {},
   "outputs": [
    {
     "data": {
      "text/plain": [
       "[<function StackGP.protectDiv(a, b)>,\n",
       " <function StackGP.add(a, b)>,\n",
       " <function StackGP.sub(a, b)>,\n",
       " <function StackGP.mult(a, b)>,\n",
       " <function StackGP.exp(a)>,\n",
       " <function StackGP.sqrd(a)>,\n",
       " <function StackGP.sqrt(a)>,\n",
       " <function StackGP.inv(a)>,\n",
       " <function StackGP.cos(a)>,\n",
       " <function StackGP.sin(a)>,\n",
       " <function StackGP.tan(a)>,\n",
       " <function StackGP.arccos(a)>,\n",
       " <function StackGP.arcsin(a)>,\n",
       " <function StackGP.arctan(a)>,\n",
       " <function StackGP.tanh(a)>,\n",
       " <function StackGP.log(a)>,\n",
       " 'pop',\n",
       " 'pop',\n",
       " 'pop',\n",
       " 'pop',\n",
       " 'pop',\n",
       " 'pop',\n",
       " 'pop',\n",
       " 'pop',\n",
       " 'pop',\n",
       " 'pop']"
      ]
     },
     "execution_count": 65,
     "metadata": {},
     "output_type": "execute_result"
    }
   ],
   "source": [
    "operators"
   ]
  },
  {
   "cell_type": "code",
   "execution_count": 66,
   "id": "868f1940",
   "metadata": {},
   "outputs": [
    {
     "data": {
      "text/plain": [
       "<function StackGP.inv(a)>"
      ]
     },
     "execution_count": 66,
     "metadata": {},
     "output_type": "execute_result"
    }
   ],
   "source": [
    "operators[7]"
   ]
  },
  {
   "cell_type": "code",
   "execution_count": 67,
   "id": "1a3278ae",
   "metadata": {},
   "outputs": [],
   "source": [
    "model=[np.array([operators[7]]),[variableSelect(0)],[]]"
   ]
  },
  {
   "cell_type": "code",
   "execution_count": 68,
   "id": "c9c05899",
   "metadata": {},
   "outputs": [
    {
     "data": {
      "text/plain": [
       "[array([<function inv at 0x000002140CE472E0>], dtype=object),\n",
       " [<function StackGP.variableSelect.<locals>.<lambda>(variables)>],\n",
       " []]"
      ]
     },
     "execution_count": 68,
     "metadata": {},
     "output_type": "execute_result"
    }
   ],
   "source": [
    "model"
   ]
  },
  {
   "cell_type": "code",
   "execution_count": 69,
   "id": "955ef1ef",
   "metadata": {},
   "outputs": [
    {
     "data": {
      "image/png": "[encoded data removed]",
      "text/plain": [
       "<Figure size 640x480 with 1 Axes>"
      ]
     },
     "metadata": {},
     "output_type": "display_data"
    }
   ],
   "source": [
    "plotModelResponseComparison(model,inputData,response)"
   ]
  },
  {
   "cell_type": "code",
   "execution_count": 257,
   "id": "488c6d88",
   "metadata": {},
   "outputs": [
    {
     "data": {
      "text/plain": [
       "0.017683163308124084"
      ]
     },
     "execution_count": 257,
     "metadata": {},
     "output_type": "execute_result"
    }
   ],
   "source": [
    "totalSharpness(model,inputData,response,numPerturbations=1000,percentPerturbation=0.2)"
   ]
  },
  {
   "cell_type": "code",
   "execution_count": null,
   "id": "287833a0",
   "metadata": {},
   "outputs": [],
   "source": []
  },
  {
   "cell_type": "code",
   "execution_count": null,
   "id": "159dcd6a",
   "metadata": {},
   "outputs": [],
   "source": []
  },
  {
   "cell_type": "code",
   "execution_count": 71,
   "id": "17a35f39",
   "metadata": {},
   "outputs": [],
   "source": [
    "from StackGP import *\n",
    "import numpy as np"
   ]
  },
  {
   "cell_type": "code",
   "execution_count": 72,
   "id": "23583b59",
   "metadata": {},
   "outputs": [],
   "source": [
    "inputData=[[1,2,3,4,5,6,7,8,9,10]]\n",
    "response=inputData[0]"
   ]
  },
  {
   "cell_type": "code",
   "execution_count": 73,
   "id": "e694b5f7",
   "metadata": {},
   "outputs": [
    {
     "data": {
      "text/plain": [
       "[[1, 2, 3, 4, 5, 6, 7, 8, 9, 10]]"
      ]
     },
     "execution_count": 73,
     "metadata": {},
     "output_type": "execute_result"
    }
   ],
   "source": [
    "inputData"
   ]
  },
  {
   "cell_type": "code",
   "execution_count": 74,
   "id": "92150288",
   "metadata": {},
   "outputs": [
    {
     "data": {
      "text/plain": [
       "[1, 2, 3, 4, 5, 6, 7, 8, 9, 10]"
      ]
     },
     "execution_count": 74,
     "metadata": {},
     "output_type": "execute_result"
    }
   ],
   "source": [
    "response"
   ]
  },
  {
   "cell_type": "code",
   "execution_count": 75,
   "id": "8961027d",
   "metadata": {},
   "outputs": [],
   "source": [
    "operators=allOps()"
   ]
  },
  {
   "cell_type": "code",
   "execution_count": 76,
   "id": "f7e9a7e3",
   "metadata": {},
   "outputs": [
    {
     "data": {
      "text/plain": [
       "[<function StackGP.protectDiv(a, b)>,\n",
       " <function StackGP.add(a, b)>,\n",
       " <function StackGP.sub(a, b)>,\n",
       " <function StackGP.mult(a, b)>,\n",
       " <function StackGP.exp(a)>,\n",
       " <function StackGP.sqrd(a)>,\n",
       " <function StackGP.sqrt(a)>,\n",
       " <function StackGP.inv(a)>,\n",
       " <function StackGP.cos(a)>,\n",
       " <function StackGP.sin(a)>,\n",
       " <function StackGP.tan(a)>,\n",
       " <function StackGP.arccos(a)>,\n",
       " <function StackGP.arcsin(a)>,\n",
       " <function StackGP.arctan(a)>,\n",
       " <function StackGP.tanh(a)>,\n",
       " <function StackGP.log(a)>,\n",
       " 'pop',\n",
       " 'pop',\n",
       " 'pop',\n",
       " 'pop',\n",
       " 'pop',\n",
       " 'pop',\n",
       " 'pop',\n",
       " 'pop',\n",
       " 'pop',\n",
       " 'pop']"
      ]
     },
     "execution_count": 76,
     "metadata": {},
     "output_type": "execute_result"
    }
   ],
   "source": [
    "operators"
   ]
  },
  {
   "cell_type": "code",
   "execution_count": 77,
   "id": "7a6893ed",
   "metadata": {},
   "outputs": [
    {
     "data": {
      "text/plain": [
       "<function StackGP.sin(a)>"
      ]
     },
     "execution_count": 77,
     "metadata": {},
     "output_type": "execute_result"
    }
   ],
   "source": [
    "operators[9]"
   ]
  },
  {
   "cell_type": "code",
   "execution_count": 78,
   "id": "6b7b76b8",
   "metadata": {},
   "outputs": [],
   "source": [
    "model=[np.array([operators[9]]),[variableSelect(0)],[]]"
   ]
  },
  {
   "cell_type": "code",
   "execution_count": 79,
   "id": "446aa173",
   "metadata": {},
   "outputs": [
    {
     "data": {
      "text/plain": [
       "[array([<function sin at 0x000002140CE47380>], dtype=object),\n",
       " [<function StackGP.variableSelect.<locals>.<lambda>(variables)>],\n",
       " []]"
      ]
     },
     "execution_count": 79,
     "metadata": {},
     "output_type": "execute_result"
    }
   ],
   "source": [
    "model"
   ]
  },
  {
   "cell_type": "code",
   "execution_count": 80,
   "id": "b106c98b",
   "metadata": {},
   "outputs": [
    {
     "data": {
      "image/png": "[encoded data removed]",
      "text/plain": [
       "<Figure size 640x480 with 1 Axes>"
      ]
     },
     "metadata": {},
     "output_type": "display_data"
    }
   ],
   "source": [
    "plotModelResponseComparison(model,inputData,response)"
   ]
  },
  {
   "cell_type": "code",
   "execution_count": 258,
   "id": "956d980c",
   "metadata": {},
   "outputs": [
    {
     "data": {
      "text/plain": [
       "0.017721657733001727"
      ]
     },
     "execution_count": 258,
     "metadata": {},
     "output_type": "execute_result"
    }
   ],
   "source": [
    "totalSharpness(model,inputData,response,numPerturbations=1000,percentPerturbation=0.2)"
   ]
  },
  {
   "cell_type": "code",
   "execution_count": null,
   "id": "bfff902a",
   "metadata": {},
   "outputs": [],
   "source": []
  },
  {
   "cell_type": "code",
   "execution_count": null,
   "id": "887cc1fd",
   "metadata": {},
   "outputs": [],
   "source": []
  },
  {
   "cell_type": "code",
   "execution_count": 95,
   "id": "ddf53890",
   "metadata": {},
   "outputs": [],
   "source": [
    "from StackGP import *\n",
    "import numpy as np"
   ]
  },
  {
   "cell_type": "code",
   "execution_count": 96,
   "id": "ea870afc",
   "metadata": {},
   "outputs": [],
   "source": [
    "inputData=[[1,2,3,4,5,6,7,8,9,10]]\n",
    "response=inputData[0]"
   ]
  },
  {
   "cell_type": "code",
   "execution_count": 97,
   "id": "1dfd31ea",
   "metadata": {},
   "outputs": [
    {
     "data": {
      "text/plain": [
       "[[1, 2, 3, 4, 5, 6, 7, 8, 9, 10]]"
      ]
     },
     "execution_count": 97,
     "metadata": {},
     "output_type": "execute_result"
    }
   ],
   "source": [
    "inputData"
   ]
  },
  {
   "cell_type": "code",
   "execution_count": 98,
   "id": "5c1bdadc",
   "metadata": {},
   "outputs": [
    {
     "data": {
      "text/plain": [
       "[1, 2, 3, 4, 5, 6, 7, 8, 9, 10]"
      ]
     },
     "execution_count": 98,
     "metadata": {},
     "output_type": "execute_result"
    }
   ],
   "source": [
    "response"
   ]
  },
  {
   "cell_type": "code",
   "execution_count": 99,
   "id": "2b59c0af",
   "metadata": {},
   "outputs": [],
   "source": [
    "operators=allOps()"
   ]
  },
  {
   "cell_type": "code",
   "execution_count": 100,
   "id": "831e4317",
   "metadata": {},
   "outputs": [
    {
     "data": {
      "text/plain": [
       "[<function StackGP.protectDiv(a, b)>,\n",
       " <function StackGP.add(a, b)>,\n",
       " <function StackGP.sub(a, b)>,\n",
       " <function StackGP.mult(a, b)>,\n",
       " <function StackGP.exp(a)>,\n",
       " <function StackGP.sqrd(a)>,\n",
       " <function StackGP.sqrt(a)>,\n",
       " <function StackGP.inv(a)>,\n",
       " <function StackGP.cos(a)>,\n",
       " <function StackGP.sin(a)>,\n",
       " <function StackGP.tan(a)>,\n",
       " <function StackGP.arccos(a)>,\n",
       " <function StackGP.arcsin(a)>,\n",
       " <function StackGP.arctan(a)>,\n",
       " <function StackGP.tanh(a)>,\n",
       " <function StackGP.log(a)>,\n",
       " 'pop',\n",
       " 'pop',\n",
       " 'pop',\n",
       " 'pop',\n",
       " 'pop',\n",
       " 'pop',\n",
       " 'pop',\n",
       " 'pop',\n",
       " 'pop',\n",
       " 'pop']"
      ]
     },
     "execution_count": 100,
     "metadata": {},
     "output_type": "execute_result"
    }
   ],
   "source": [
    "operators"
   ]
  },
  {
   "cell_type": "code",
   "execution_count": 101,
   "id": "cde1a7ec",
   "metadata": {},
   "outputs": [
    {
     "data": {
      "text/plain": [
       "<function StackGP.tan(a)>"
      ]
     },
     "execution_count": 101,
     "metadata": {},
     "output_type": "execute_result"
    }
   ],
   "source": [
    "operators[10]"
   ]
  },
  {
   "cell_type": "code",
   "execution_count": 102,
   "id": "8748589a",
   "metadata": {},
   "outputs": [],
   "source": [
    "model=[np.array([operators[10]]),[variableSelect(0)],[]]"
   ]
  },
  {
   "cell_type": "code",
   "execution_count": 103,
   "id": "d15e2956",
   "metadata": {},
   "outputs": [
    {
     "data": {
      "text/plain": [
       "[array([<function tan at 0x000002140CE474C0>], dtype=object),\n",
       " [<function StackGP.variableSelect.<locals>.<lambda>(variables)>],\n",
       " []]"
      ]
     },
     "execution_count": 103,
     "metadata": {},
     "output_type": "execute_result"
    }
   ],
   "source": [
    "model"
   ]
  },
  {
   "cell_type": "code",
   "execution_count": 104,
   "id": "ef1d7c25",
   "metadata": {},
   "outputs": [
    {
     "data": {
      "image/png": "[encoded data removed]",
      "text/plain": [
       "<Figure size 640x480 with 1 Axes>"
      ]
     },
     "metadata": {},
     "output_type": "display_data"
    }
   ],
   "source": [
    "plotModelResponseComparison(model,inputData,response)"
   ]
  },
  {
   "cell_type": "code",
   "execution_count": 259,
   "id": "db3efd9d",
   "metadata": {},
   "outputs": [
    {
     "data": {
      "text/plain": [
       "0.01797885491692716"
      ]
     },
     "execution_count": 259,
     "metadata": {},
     "output_type": "execute_result"
    }
   ],
   "source": [
    "totalSharpness(model,inputData,response,numPerturbations=1000,percentPerturbation=0.2)"
   ]
  },
  {
   "cell_type": "code",
   "execution_count": null,
   "id": "e1ad2acc",
   "metadata": {},
   "outputs": [],
   "source": []
  },
  {
   "cell_type": "code",
   "execution_count": null,
   "id": "d01a5194",
   "metadata": {},
   "outputs": [],
   "source": []
  },
  {
   "cell_type": "code",
   "execution_count": 125,
   "id": "4aa4ef34",
   "metadata": {},
   "outputs": [],
   "source": [
    "from StackGP import *\n",
    "import numpy as np"
   ]
  },
  {
   "cell_type": "code",
   "execution_count": 126,
   "id": "ecb7c56f",
   "metadata": {},
   "outputs": [],
   "source": [
    "inputData=[[1,2,3,4,5,6,7,8,9,10]]\n",
    "response=inputData[0]"
   ]
  },
  {
   "cell_type": "code",
   "execution_count": 127,
   "id": "37fac0e6",
   "metadata": {},
   "outputs": [
    {
     "data": {
      "text/plain": [
       "[[1, 2, 3, 4, 5, 6, 7, 8, 9, 10]]"
      ]
     },
     "execution_count": 127,
     "metadata": {},
     "output_type": "execute_result"
    }
   ],
   "source": [
    "inputData"
   ]
  },
  {
   "cell_type": "code",
   "execution_count": 128,
   "id": "c1221789",
   "metadata": {},
   "outputs": [
    {
     "data": {
      "text/plain": [
       "[1, 2, 3, 4, 5, 6, 7, 8, 9, 10]"
      ]
     },
     "execution_count": 128,
     "metadata": {},
     "output_type": "execute_result"
    }
   ],
   "source": [
    "response"
   ]
  },
  {
   "cell_type": "code",
   "execution_count": 129,
   "id": "a9ea26e3",
   "metadata": {},
   "outputs": [],
   "source": [
    "operators=allOps()"
   ]
  },
  {
   "cell_type": "code",
   "execution_count": 130,
   "id": "3dce4db9",
   "metadata": {},
   "outputs": [
    {
     "data": {
      "text/plain": [
       "[<function StackGP.protectDiv(a, b)>,\n",
       " <function StackGP.add(a, b)>,\n",
       " <function StackGP.sub(a, b)>,\n",
       " <function StackGP.mult(a, b)>,\n",
       " <function StackGP.exp(a)>,\n",
       " <function StackGP.sqrd(a)>,\n",
       " <function StackGP.sqrt(a)>,\n",
       " <function StackGP.inv(a)>,\n",
       " <function StackGP.cos(a)>,\n",
       " <function StackGP.sin(a)>,\n",
       " <function StackGP.tan(a)>,\n",
       " <function StackGP.arccos(a)>,\n",
       " <function StackGP.arcsin(a)>,\n",
       " <function StackGP.arctan(a)>,\n",
       " <function StackGP.tanh(a)>,\n",
       " <function StackGP.log(a)>,\n",
       " 'pop',\n",
       " 'pop',\n",
       " 'pop',\n",
       " 'pop',\n",
       " 'pop',\n",
       " 'pop',\n",
       " 'pop',\n",
       " 'pop',\n",
       " 'pop',\n",
       " 'pop']"
      ]
     },
     "execution_count": 130,
     "metadata": {},
     "output_type": "execute_result"
    }
   ],
   "source": [
    "operators"
   ]
  },
  {
   "cell_type": "code",
   "execution_count": 131,
   "id": "fed34eb6",
   "metadata": {},
   "outputs": [
    {
     "data": {
      "text/plain": [
       "<function StackGP.arccos(a)>"
      ]
     },
     "execution_count": 131,
     "metadata": {},
     "output_type": "execute_result"
    }
   ],
   "source": [
    "operators[11]"
   ]
  },
  {
   "cell_type": "code",
   "execution_count": 136,
   "id": "1b0ab890",
   "metadata": {},
   "outputs": [],
   "source": [
    "model=[np.array([operators[11]]),[variableSelect(0)],[]]"
   ]
  },
  {
   "cell_type": "code",
   "execution_count": 137,
   "id": "d943840f",
   "metadata": {},
   "outputs": [
    {
     "data": {
      "text/plain": [
       "[array([<function arccos at 0x000002140CE47560>], dtype=object),\n",
       " [<function StackGP.variableSelect.<locals>.<lambda>(variables)>],\n",
       " []]"
      ]
     },
     "execution_count": 137,
     "metadata": {},
     "output_type": "execute_result"
    }
   ],
   "source": [
    "model"
   ]
  },
  {
   "cell_type": "code",
   "execution_count": 138,
   "id": "60bcd416",
   "metadata": {},
   "outputs": [
    {
     "data": {
      "image/png": "[encoded data removed]",
      "text/plain": [
       "<Figure size 640x480 with 1 Axes>"
      ]
     },
     "metadata": {},
     "output_type": "display_data"
    }
   ],
   "source": [
    "plotModelResponseComparison(model,inputData,response)"
   ]
  },
  {
   "cell_type": "code",
   "execution_count": 140,
   "id": "aa56ef0b",
   "metadata": {},
   "outputs": [
    {
     "data": {
      "text/plain": [
       "array([ 0., nan, nan, nan, nan, nan, nan, nan, nan, nan])"
      ]
     },
     "execution_count": 140,
     "metadata": {},
     "output_type": "execute_result"
    }
   ],
   "source": [
    "evaluateGPModel(model,inputData)"
   ]
  },
  {
   "cell_type": "code",
   "execution_count": 260,
   "id": "3bdf7cc0",
   "metadata": {},
   "outputs": [
    {
     "data": {
      "text/plain": [
       "0.017494392967183622"
      ]
     },
     "execution_count": 260,
     "metadata": {},
     "output_type": "execute_result"
    }
   ],
   "source": [
    "totalSharpness(model,inputData,response,numPerturbations=1000,percentPerturbation=0.2)"
   ]
  },
  {
   "cell_type": "code",
   "execution_count": null,
   "id": "6ed89362",
   "metadata": {},
   "outputs": [],
   "source": []
  },
  {
   "cell_type": "code",
   "execution_count": null,
   "id": "cb78ac36",
   "metadata": {},
   "outputs": [],
   "source": []
  },
  {
   "cell_type": "code",
   "execution_count": 119,
   "id": "4eb40eb3",
   "metadata": {},
   "outputs": [],
   "source": [
    "from StackGP import *\n",
    "import numpy as np"
   ]
  },
  {
   "cell_type": "code",
   "execution_count": 141,
   "id": "aff7b200",
   "metadata": {},
   "outputs": [],
   "source": [
    "inputData=[[1,2,3,4,5,6,7,8,9,10]]\n",
    "response=inputData[0]"
   ]
  },
  {
   "cell_type": "code",
   "execution_count": 142,
   "id": "9be5ec80",
   "metadata": {},
   "outputs": [
    {
     "data": {
      "text/plain": [
       "[[1, 2, 3, 4, 5, 6, 7, 8, 9, 10]]"
      ]
     },
     "execution_count": 142,
     "metadata": {},
     "output_type": "execute_result"
    }
   ],
   "source": [
    "inputData"
   ]
  },
  {
   "cell_type": "code",
   "execution_count": 143,
   "id": "e89700d4",
   "metadata": {},
   "outputs": [
    {
     "data": {
      "text/plain": [
       "[1, 2, 3, 4, 5, 6, 7, 8, 9, 10]"
      ]
     },
     "execution_count": 143,
     "metadata": {},
     "output_type": "execute_result"
    }
   ],
   "source": [
    "response"
   ]
  },
  {
   "cell_type": "code",
   "execution_count": 144,
   "id": "20423fb3",
   "metadata": {},
   "outputs": [],
   "source": [
    "operators=allOps()"
   ]
  },
  {
   "cell_type": "code",
   "execution_count": 145,
   "id": "f5622d71",
   "metadata": {},
   "outputs": [
    {
     "data": {
      "text/plain": [
       "[<function StackGP.protectDiv(a, b)>,\n",
       " <function StackGP.add(a, b)>,\n",
       " <function StackGP.sub(a, b)>,\n",
       " <function StackGP.mult(a, b)>,\n",
       " <function StackGP.exp(a)>,\n",
       " <function StackGP.sqrd(a)>,\n",
       " <function StackGP.sqrt(a)>,\n",
       " <function StackGP.inv(a)>,\n",
       " <function StackGP.cos(a)>,\n",
       " <function StackGP.sin(a)>,\n",
       " <function StackGP.tan(a)>,\n",
       " <function StackGP.arccos(a)>,\n",
       " <function StackGP.arcsin(a)>,\n",
       " <function StackGP.arctan(a)>,\n",
       " <function StackGP.tanh(a)>,\n",
       " <function StackGP.log(a)>,\n",
       " 'pop',\n",
       " 'pop',\n",
       " 'pop',\n",
       " 'pop',\n",
       " 'pop',\n",
       " 'pop',\n",
       " 'pop',\n",
       " 'pop',\n",
       " 'pop',\n",
       " 'pop']"
      ]
     },
     "execution_count": 145,
     "metadata": {},
     "output_type": "execute_result"
    }
   ],
   "source": [
    "operators"
   ]
  },
  {
   "cell_type": "code",
   "execution_count": 146,
   "id": "9ae517e6",
   "metadata": {},
   "outputs": [
    {
     "data": {
      "text/plain": [
       "<function StackGP.arcsin(a)>"
      ]
     },
     "execution_count": 146,
     "metadata": {},
     "output_type": "execute_result"
    }
   ],
   "source": [
    "operators[12]"
   ]
  },
  {
   "cell_type": "code",
   "execution_count": 150,
   "id": "0f8eca4a",
   "metadata": {},
   "outputs": [],
   "source": [
    "model=[np.array([operators[12]]),[variableSelect(0)],[]]"
   ]
  },
  {
   "cell_type": "code",
   "execution_count": 151,
   "id": "a9a49332",
   "metadata": {},
   "outputs": [
    {
     "data": {
      "text/plain": [
       "[array([<function arcsin at 0x000002140CE47600>], dtype=object),\n",
       " [<function StackGP.variableSelect.<locals>.<lambda>(variables)>],\n",
       " []]"
      ]
     },
     "execution_count": 151,
     "metadata": {},
     "output_type": "execute_result"
    }
   ],
   "source": [
    "model"
   ]
  },
  {
   "cell_type": "code",
   "execution_count": 152,
   "id": "2dac37a0",
   "metadata": {},
   "outputs": [
    {
     "data": {
      "image/png": "[encoded data removed]",
      "text/plain": [
       "<Figure size 640x480 with 1 Axes>"
      ]
     },
     "metadata": {},
     "output_type": "display_data"
    }
   ],
   "source": [
    "plotModelResponseComparison(model,inputData,response)"
   ]
  },
  {
   "cell_type": "code",
   "execution_count": 261,
   "id": "88c5fe45",
   "metadata": {},
   "outputs": [
    {
     "data": {
      "text/plain": [
       "0.01790899495207786"
      ]
     },
     "execution_count": 261,
     "metadata": {},
     "output_type": "execute_result"
    }
   ],
   "source": [
    "totalSharpness(model,inputData,response,numPerturbations=1000,percentPerturbation=0.2)"
   ]
  },
  {
   "cell_type": "code",
   "execution_count": null,
   "id": "d217de5d",
   "metadata": {},
   "outputs": [],
   "source": []
  },
  {
   "cell_type": "code",
   "execution_count": null,
   "id": "5860eee9",
   "metadata": {},
   "outputs": [],
   "source": []
  },
  {
   "cell_type": "code",
   "execution_count": 154,
   "id": "3a26f05e",
   "metadata": {},
   "outputs": [],
   "source": [
    "from StackGP import *\n",
    "import numpy as np"
   ]
  },
  {
   "cell_type": "code",
   "execution_count": 155,
   "id": "5acde5a6",
   "metadata": {},
   "outputs": [],
   "source": [
    "inputData=[[1,2,3,4,5,6,7,8,9,10]]\n",
    "response=inputData[0]"
   ]
  },
  {
   "cell_type": "code",
   "execution_count": 156,
   "id": "5f5a4103",
   "metadata": {},
   "outputs": [
    {
     "data": {
      "text/plain": [
       "[[1, 2, 3, 4, 5, 6, 7, 8, 9, 10]]"
      ]
     },
     "execution_count": 156,
     "metadata": {},
     "output_type": "execute_result"
    }
   ],
   "source": [
    "inputData"
   ]
  },
  {
   "cell_type": "code",
   "execution_count": 157,
   "id": "3a38d314",
   "metadata": {},
   "outputs": [
    {
     "data": {
      "text/plain": [
       "[1, 2, 3, 4, 5, 6, 7, 8, 9, 10]"
      ]
     },
     "execution_count": 157,
     "metadata": {},
     "output_type": "execute_result"
    }
   ],
   "source": [
    "response"
   ]
  },
  {
   "cell_type": "code",
   "execution_count": 158,
   "id": "c76a4645",
   "metadata": {},
   "outputs": [],
   "source": [
    "operators=allOps()"
   ]
  },
  {
   "cell_type": "code",
   "execution_count": 159,
   "id": "b00b6239",
   "metadata": {},
   "outputs": [
    {
     "data": {
      "text/plain": [
       "[<function StackGP.protectDiv(a, b)>,\n",
       " <function StackGP.add(a, b)>,\n",
       " <function StackGP.sub(a, b)>,\n",
       " <function StackGP.mult(a, b)>,\n",
       " <function StackGP.exp(a)>,\n",
       " <function StackGP.sqrd(a)>,\n",
       " <function StackGP.sqrt(a)>,\n",
       " <function StackGP.inv(a)>,\n",
       " <function StackGP.cos(a)>,\n",
       " <function StackGP.sin(a)>,\n",
       " <function StackGP.tan(a)>,\n",
       " <function StackGP.arccos(a)>,\n",
       " <function StackGP.arcsin(a)>,\n",
       " <function StackGP.arctan(a)>,\n",
       " <function StackGP.tanh(a)>,\n",
       " <function StackGP.log(a)>,\n",
       " 'pop',\n",
       " 'pop',\n",
       " 'pop',\n",
       " 'pop',\n",
       " 'pop',\n",
       " 'pop',\n",
       " 'pop',\n",
       " 'pop',\n",
       " 'pop',\n",
       " 'pop']"
      ]
     },
     "execution_count": 159,
     "metadata": {},
     "output_type": "execute_result"
    }
   ],
   "source": [
    "operators"
   ]
  },
  {
   "cell_type": "code",
   "execution_count": 160,
   "id": "278e9409",
   "metadata": {},
   "outputs": [
    {
     "data": {
      "text/plain": [
       "<function StackGP.arctan(a)>"
      ]
     },
     "execution_count": 160,
     "metadata": {},
     "output_type": "execute_result"
    }
   ],
   "source": [
    "operators[13]"
   ]
  },
  {
   "cell_type": "code",
   "execution_count": 161,
   "id": "c174a624",
   "metadata": {},
   "outputs": [],
   "source": [
    "model=[np.array([operators[13]]),[variableSelect(0)],[]]"
   ]
  },
  {
   "cell_type": "code",
   "execution_count": 162,
   "id": "55be2aea",
   "metadata": {},
   "outputs": [
    {
     "data": {
      "text/plain": [
       "[array([<function arctan at 0x000002140CE476A0>], dtype=object),\n",
       " [<function StackGP.variableSelect.<locals>.<lambda>(variables)>],\n",
       " []]"
      ]
     },
     "execution_count": 162,
     "metadata": {},
     "output_type": "execute_result"
    }
   ],
   "source": [
    "model"
   ]
  },
  {
   "cell_type": "code",
   "execution_count": 163,
   "id": "b93c8f4c",
   "metadata": {},
   "outputs": [
    {
     "data": {
      "image/png": "[encoded data removed]",
      "text/plain": [
       "<Figure size 640x480 with 1 Axes>"
      ]
     },
     "metadata": {},
     "output_type": "display_data"
    }
   ],
   "source": [
    "plotModelResponseComparison(model,inputData,response)"
   ]
  },
  {
   "cell_type": "code",
   "execution_count": 262,
   "id": "bdc158ff",
   "metadata": {},
   "outputs": [
    {
     "data": {
      "text/plain": [
       "0.017343509104389778"
      ]
     },
     "execution_count": 262,
     "metadata": {},
     "output_type": "execute_result"
    }
   ],
   "source": [
    "totalSharpness(model,inputData,response,numPerturbations=1000,percentPerturbation=0.2)"
   ]
  },
  {
   "cell_type": "code",
   "execution_count": null,
   "id": "95351014",
   "metadata": {},
   "outputs": [],
   "source": []
  },
  {
   "cell_type": "code",
   "execution_count": null,
   "id": "c3df491c",
   "metadata": {},
   "outputs": [],
   "source": []
  },
  {
   "cell_type": "code",
   "execution_count": 165,
   "id": "148f76f7",
   "metadata": {},
   "outputs": [],
   "source": [
    "from StackGP import *\n",
    "import numpy as np"
   ]
  },
  {
   "cell_type": "code",
   "execution_count": 166,
   "id": "70eaa0fa",
   "metadata": {},
   "outputs": [],
   "source": [
    "inputData=[[1,2,3,4,5,6,7,8,9,10]]\n",
    "response=inputData[0]"
   ]
  },
  {
   "cell_type": "code",
   "execution_count": 167,
   "id": "e436d96d",
   "metadata": {},
   "outputs": [
    {
     "data": {
      "text/plain": [
       "[[1, 2, 3, 4, 5, 6, 7, 8, 9, 10]]"
      ]
     },
     "execution_count": 167,
     "metadata": {},
     "output_type": "execute_result"
    }
   ],
   "source": [
    "inputData"
   ]
  },
  {
   "cell_type": "code",
   "execution_count": 168,
   "id": "581c4a52",
   "metadata": {},
   "outputs": [
    {
     "data": {
      "text/plain": [
       "[1, 2, 3, 4, 5, 6, 7, 8, 9, 10]"
      ]
     },
     "execution_count": 168,
     "metadata": {},
     "output_type": "execute_result"
    }
   ],
   "source": [
    "response"
   ]
  },
  {
   "cell_type": "code",
   "execution_count": 169,
   "id": "c7760465",
   "metadata": {},
   "outputs": [],
   "source": [
    "operators=allOps()"
   ]
  },
  {
   "cell_type": "code",
   "execution_count": 170,
   "id": "87de155c",
   "metadata": {},
   "outputs": [
    {
     "data": {
      "text/plain": [
       "[<function StackGP.protectDiv(a, b)>,\n",
       " <function StackGP.add(a, b)>,\n",
       " <function StackGP.sub(a, b)>,\n",
       " <function StackGP.mult(a, b)>,\n",
       " <function StackGP.exp(a)>,\n",
       " <function StackGP.sqrd(a)>,\n",
       " <function StackGP.sqrt(a)>,\n",
       " <function StackGP.inv(a)>,\n",
       " <function StackGP.cos(a)>,\n",
       " <function StackGP.sin(a)>,\n",
       " <function StackGP.tan(a)>,\n",
       " <function StackGP.arccos(a)>,\n",
       " <function StackGP.arcsin(a)>,\n",
       " <function StackGP.arctan(a)>,\n",
       " <function StackGP.tanh(a)>,\n",
       " <function StackGP.log(a)>,\n",
       " 'pop',\n",
       " 'pop',\n",
       " 'pop',\n",
       " 'pop',\n",
       " 'pop',\n",
       " 'pop',\n",
       " 'pop',\n",
       " 'pop',\n",
       " 'pop',\n",
       " 'pop']"
      ]
     },
     "execution_count": 170,
     "metadata": {},
     "output_type": "execute_result"
    }
   ],
   "source": [
    "operators"
   ]
  },
  {
   "cell_type": "code",
   "execution_count": 171,
   "id": "9770bd08",
   "metadata": {},
   "outputs": [
    {
     "data": {
      "text/plain": [
       "<function StackGP.tanh(a)>"
      ]
     },
     "execution_count": 171,
     "metadata": {},
     "output_type": "execute_result"
    }
   ],
   "source": [
    "operators[14]"
   ]
  },
  {
   "cell_type": "code",
   "execution_count": 172,
   "id": "a1ce778e",
   "metadata": {},
   "outputs": [],
   "source": [
    "model=[np.array([operators[14]]),[variableSelect(0)],[]]"
   ]
  },
  {
   "cell_type": "code",
   "execution_count": 173,
   "id": "66e45966",
   "metadata": {},
   "outputs": [
    {
     "data": {
      "text/plain": [
       "[array([<function tanh at 0x000002140CE47740>], dtype=object),\n",
       " [<function StackGP.variableSelect.<locals>.<lambda>(variables)>],\n",
       " []]"
      ]
     },
     "execution_count": 173,
     "metadata": {},
     "output_type": "execute_result"
    }
   ],
   "source": [
    "model"
   ]
  },
  {
   "cell_type": "code",
   "execution_count": 174,
   "id": "1b92053a",
   "metadata": {},
   "outputs": [
    {
     "data": {
      "image/png": "[encoded data removed]",
      "text/plain": [
       "<Figure size 640x480 with 1 Axes>"
      ]
     },
     "metadata": {},
     "output_type": "display_data"
    }
   ],
   "source": [
    "plotModelResponseComparison(model,inputData,response)"
   ]
  },
  {
   "cell_type": "code",
   "execution_count": 263,
   "id": "8d1f1400",
   "metadata": {},
   "outputs": [
    {
     "data": {
      "text/plain": [
       "0.017254008548327544"
      ]
     },
     "execution_count": 263,
     "metadata": {},
     "output_type": "execute_result"
    }
   ],
   "source": [
    "totalSharpness(model,inputData,response,numPerturbations=1000,percentPerturbation=0.2)"
   ]
  },
  {
   "cell_type": "code",
   "execution_count": null,
   "id": "9a846879",
   "metadata": {},
   "outputs": [],
   "source": []
  },
  {
   "cell_type": "code",
   "execution_count": null,
   "id": "a3b7f523",
   "metadata": {},
   "outputs": [],
   "source": []
  },
  {
   "cell_type": "code",
   "execution_count": 176,
   "id": "361ce6c3",
   "metadata": {},
   "outputs": [],
   "source": [
    "from StackGP import *\n",
    "import numpy as np"
   ]
  },
  {
   "cell_type": "code",
   "execution_count": 177,
   "id": "61bae64f",
   "metadata": {},
   "outputs": [],
   "source": [
    "inputData=[[1,2,3,4,5,6,7,8,9,10]]\n",
    "response=inputData[0]"
   ]
  },
  {
   "cell_type": "code",
   "execution_count": 178,
   "id": "7e60390a",
   "metadata": {},
   "outputs": [
    {
     "data": {
      "text/plain": [
       "[[1, 2, 3, 4, 5, 6, 7, 8, 9, 10]]"
      ]
     },
     "execution_count": 178,
     "metadata": {},
     "output_type": "execute_result"
    }
   ],
   "source": [
    "inputData"
   ]
  },
  {
   "cell_type": "code",
   "execution_count": 179,
   "id": "d4294ed9",
   "metadata": {},
   "outputs": [
    {
     "data": {
      "text/plain": [
       "[1, 2, 3, 4, 5, 6, 7, 8, 9, 10]"
      ]
     },
     "execution_count": 179,
     "metadata": {},
     "output_type": "execute_result"
    }
   ],
   "source": [
    "response"
   ]
  },
  {
   "cell_type": "code",
   "execution_count": 50,
   "id": "2539d162",
   "metadata": {},
   "outputs": [],
   "source": [
    "operators=allOps()"
   ]
  },
  {
   "cell_type": "code",
   "execution_count": 51,
   "id": "df3ebb95",
   "metadata": {},
   "outputs": [
    {
     "data": {
      "text/plain": [
       "[<function StackGP.protectDiv(a, b)>,\n",
       " <function StackGP.add(a, b)>,\n",
       " <function StackGP.sub(a, b)>,\n",
       " <function StackGP.mult(a, b)>,\n",
       " <function StackGP.exp(a)>,\n",
       " <function StackGP.sqrd(a)>,\n",
       " <function StackGP.sqrt(a)>,\n",
       " <function StackGP.inv(a)>,\n",
       " <function StackGP.cos(a)>,\n",
       " <function StackGP.sin(a)>,\n",
       " <function StackGP.tan(a)>,\n",
       " <function StackGP.arccos(a)>,\n",
       " <function StackGP.arcsin(a)>,\n",
       " <function StackGP.arctan(a)>,\n",
       " <function StackGP.tanh(a)>,\n",
       " <function StackGP.log(a)>,\n",
       " 'pop',\n",
       " 'pop',\n",
       " 'pop',\n",
       " 'pop',\n",
       " 'pop',\n",
       " 'pop',\n",
       " 'pop',\n",
       " 'pop',\n",
       " 'pop',\n",
       " 'pop']"
      ]
     },
     "execution_count": 51,
     "metadata": {},
     "output_type": "execute_result"
    }
   ],
   "source": [
    "operators"
   ]
  },
  {
   "cell_type": "code",
   "execution_count": 182,
   "id": "75355e71",
   "metadata": {},
   "outputs": [
    {
     "data": {
      "text/plain": [
       "<function StackGP.log(a)>"
      ]
     },
     "execution_count": 182,
     "metadata": {},
     "output_type": "execute_result"
    }
   ],
   "source": [
    "operators[15]"
   ]
  },
  {
   "cell_type": "code",
   "execution_count": 65,
   "id": "9d116d4d",
   "metadata": {},
   "outputs": [],
   "source": [
    "model=[np.array([operators[15]]),[variableSelect(0)],[]]"
   ]
  },
  {
   "cell_type": "code",
   "execution_count": 66,
   "id": "67f50bb3",
   "metadata": {},
   "outputs": [
    {
     "data": {
      "text/plain": [
       "[array([<function log at 0x000002F5481D3D80>], dtype=object),\n",
       " [<function StackGP.variableSelect.<locals>.<lambda>(variables)>],\n",
       " []]"
      ]
     },
     "execution_count": 66,
     "metadata": {},
     "output_type": "execute_result"
    }
   ],
   "source": [
    "model"
   ]
  },
  {
   "cell_type": "code",
   "execution_count": 67,
   "id": "a5f2c8aa",
   "metadata": {},
   "outputs": [
    {
     "data": {
      "image/png": "[encoded data removed]",
      "text/plain": [
       "<Figure size 640x480 with 1 Axes>"
      ]
     },
     "metadata": {},
     "output_type": "display_data"
    }
   ],
   "source": [
    "plotModelResponseComparison(model,inputData,response)"
   ]
  },
  {
   "cell_type": "code",
   "execution_count": 68,
   "id": "d9182766",
   "metadata": {},
   "outputs": [
    {
     "data": {
      "text/plain": [
       "nan"
      ]
     },
     "execution_count": 68,
     "metadata": {},
     "output_type": "execute_result"
    }
   ],
   "source": [
    "totalSharpness(model,inputData,response,numPerturbations=1000,percentPerturbation=0.2)"
   ]
  },
  {
   "cell_type": "code",
   "execution_count": null,
   "id": "c6894a52",
   "metadata": {},
   "outputs": [],
   "source": []
  },
  {
   "cell_type": "code",
   "execution_count": null,
   "id": "7b790136",
   "metadata": {},
   "outputs": [],
   "source": []
  },
  {
   "cell_type": "code",
   "execution_count": 69,
   "id": "1428cbfb",
   "metadata": {},
   "outputs": [],
   "source": [
    "#Define sine function to generate data\n",
    "def sinFunc(x0):\n",
    "    return np.sin(x0)"
   ]
  },
  {
   "cell_type": "code",
   "execution_count": 70,
   "id": "5bdc9f7f",
   "metadata": {},
   "outputs": [
    {
     "data": {
      "text/plain": [
       "array([[  1. ,   1.1,   1.2, ..., 999.7, 999.8, 999.9]])"
      ]
     },
     "execution_count": 70,
     "metadata": {},
     "output_type": "execute_result"
    }
   ],
   "source": [
    "inputData"
   ]
  },
  {
   "cell_type": "code",
   "execution_count": 71,
   "id": "9923888a",
   "metadata": {},
   "outputs": [],
   "source": [
    "response=sinFunc(inputData[0])"
   ]
  },
  {
   "cell_type": "code",
   "execution_count": 72,
   "id": "983af5e8",
   "metadata": {},
   "outputs": [],
   "source": [
    "sinModel=[np.array([operators[9]]),[variableSelect(0)],[]]"
   ]
  },
  {
   "cell_type": "code",
   "execution_count": 73,
   "id": "588ee102",
   "metadata": {},
   "outputs": [
    {
     "data": {
      "text/plain": [
       "[array([<function sin at 0x000002F5481D3920>], dtype=object),\n",
       " [<function StackGP.variableSelect.<locals>.<lambda>(variables)>],\n",
       " []]"
      ]
     },
     "execution_count": 73,
     "metadata": {},
     "output_type": "execute_result"
    }
   ],
   "source": [
    "sinModel"
   ]
  },
  {
   "cell_type": "code",
   "execution_count": 74,
   "id": "33d15337",
   "metadata": {},
   "outputs": [
    {
     "data": {
      "text/plain": [
       "nan"
      ]
     },
     "execution_count": 74,
     "metadata": {},
     "output_type": "execute_result"
    }
   ],
   "source": [
    "totalSharpness(model,inputData,response,numPerturbations=1000,percentPerturbation=0.2)"
   ]
  },
  {
   "cell_type": "code",
   "execution_count": 75,
   "id": "a97f81ab",
   "metadata": {},
   "outputs": [
    {
     "data": {
      "text/plain": [
       "nan"
      ]
     },
     "execution_count": 75,
     "metadata": {},
     "output_type": "execute_result"
    }
   ],
   "source": [
    "totalSharpness(model,inputData,response,numPerturbations=5000,percentPerturbation=0.2)"
   ]
  },
  {
   "cell_type": "code",
   "execution_count": null,
   "id": "0345581a",
   "metadata": {},
   "outputs": [],
   "source": []
  },
  {
   "cell_type": "code",
   "execution_count": 9,
   "id": "1abbe29d",
   "metadata": {},
   "outputs": [],
   "source": [
    "#Define cos function to generate data\n",
    "def cosFunc(x0):\n",
    "    return np.cos(x0)"
   ]
  },
  {
   "cell_type": "code",
   "execution_count": 266,
   "id": "8fd59993",
   "metadata": {},
   "outputs": [
    {
     "data": {
      "text/plain": [
       "[[1, 2, 3, 4, 5, 6, 7, 8, 9, 10]]"
      ]
     },
     "execution_count": 266,
     "metadata": {},
     "output_type": "execute_result"
    }
   ],
   "source": [
    "inputData"
   ]
  },
  {
   "cell_type": "code",
   "execution_count": 267,
   "id": "2b5b1107",
   "metadata": {},
   "outputs": [],
   "source": [
    "respons=cosFunc(inputData[0])"
   ]
  },
  {
   "cell_type": "code",
   "execution_count": 10,
   "id": "dd844c4b",
   "metadata": {},
   "outputs": [],
   "source": [
    "cosModel=[np.array([operators[8]]),[variableSelect(0)],[]]"
   ]
  },
  {
   "cell_type": "code",
   "execution_count": 11,
   "id": "e5991196",
   "metadata": {},
   "outputs": [
    {
     "data": {
      "text/plain": [
       "[array([<function cos at 0x000002331F084E00>], dtype=object),\n",
       " [<function StackGP.variableSelect.<locals>.<lambda>(variables)>],\n",
       " []]"
      ]
     },
     "execution_count": 11,
     "metadata": {},
     "output_type": "execute_result"
    }
   ],
   "source": [
    "cosModel"
   ]
  },
  {
   "cell_type": "code",
   "execution_count": 12,
   "id": "05afecf8",
   "metadata": {},
   "outputs": [
    {
     "ename": "NameError",
     "evalue": "name 'model' is not defined",
     "output_type": "error",
     "traceback": [
      "\u001b[1;31m---------------------------------------------------------------------------\u001b[0m",
      "\u001b[1;31mNameError\u001b[0m                                 Traceback (most recent call last)",
      "Cell \u001b[1;32mIn[12], line 1\u001b[0m\n\u001b[1;32m----> 1\u001b[0m totalSharpness(model,inputData,response,numPerturbations\u001b[38;5;241m=\u001b[39m\u001b[38;5;241m1000\u001b[39m,percentPerturbation\u001b[38;5;241m=\u001b[39m\u001b[38;5;241m0.2\u001b[39m)\n",
      "\u001b[1;31mNameError\u001b[0m: name 'model' is not defined"
     ]
    }
   ],
   "source": [
    "totalSharpness(model,inputData,response,numPerturbations=1000,percentPerturbation=0.2)"
   ]
  },
  {
   "cell_type": "code",
   "execution_count": null,
   "id": "cf2e0b88",
   "metadata": {},
   "outputs": [],
   "source": []
  },
  {
   "cell_type": "code",
   "execution_count": null,
   "id": "f040c8a4",
   "metadata": {},
   "outputs": [],
   "source": []
  },
  {
   "cell_type": "code",
   "execution_count": 13,
   "id": "3de6cedb",
   "metadata": {},
   "outputs": [],
   "source": [
    "#Define exponent function to generate data\n",
    "def expFunc(x0):\n",
    "    return np.exp(x0)"
   ]
  },
  {
   "cell_type": "code",
   "execution_count": 14,
   "id": "079a59e1",
   "metadata": {},
   "outputs": [
    {
     "ename": "NameError",
     "evalue": "name 'inputData' is not defined",
     "output_type": "error",
     "traceback": [
      "\u001b[1;31m---------------------------------------------------------------------------\u001b[0m",
      "\u001b[1;31mNameError\u001b[0m                                 Traceback (most recent call last)",
      "Cell \u001b[1;32mIn[14], line 1\u001b[0m\n\u001b[1;32m----> 1\u001b[0m inputData\n",
      "\u001b[1;31mNameError\u001b[0m: name 'inputData' is not defined"
     ]
    }
   ],
   "source": [
    "inputData"
   ]
  },
  {
   "cell_type": "code",
   "execution_count": 273,
   "id": "d2ea238a",
   "metadata": {},
   "outputs": [],
   "source": [
    "respons=expFunc(inputData[0])"
   ]
  },
  {
   "cell_type": "code",
   "execution_count": 15,
   "id": "9966de23",
   "metadata": {},
   "outputs": [],
   "source": [
    "expModel=[np.array([operators[4]]),[variableSelect(0)],[]]"
   ]
  },
  {
   "cell_type": "code",
   "execution_count": 275,
   "id": "a5bea1fb",
   "metadata": {},
   "outputs": [
    {
     "data": {
      "text/plain": [
       "[array([<function exp at 0x000002140CE47060>], dtype=object),\n",
       " [<function StackGP.variableSelect.<locals>.<lambda>(variables)>],\n",
       " []]"
      ]
     },
     "execution_count": 275,
     "metadata": {},
     "output_type": "execute_result"
    }
   ],
   "source": [
    "expModel"
   ]
  },
  {
   "cell_type": "code",
   "execution_count": 276,
   "id": "c3491247",
   "metadata": {},
   "outputs": [
    {
     "data": {
      "text/plain": [
       "0.01785787338666982"
      ]
     },
     "execution_count": 276,
     "metadata": {},
     "output_type": "execute_result"
    }
   ],
   "source": [
    "totalSharpness(model,inputData,response,numPerturbations=1000,percentPerturbation=0.2)"
   ]
  },
  {
   "cell_type": "code",
   "execution_count": null,
   "id": "1c9e978b",
   "metadata": {},
   "outputs": [],
   "source": []
  },
  {
   "cell_type": "code",
   "execution_count": null,
   "id": "c4569581",
   "metadata": {},
   "outputs": [],
   "source": []
  },
  {
   "cell_type": "code",
   "execution_count": 16,
   "id": "db837835",
   "metadata": {},
   "outputs": [],
   "source": [
    "#Define squared function to generate data\n",
    "def sqrdFunc(x0):\n",
    "    return np.array(x0)**2"
   ]
  },
  {
   "cell_type": "code",
   "execution_count": 283,
   "id": "f7c069e0",
   "metadata": {},
   "outputs": [
    {
     "data": {
      "text/plain": [
       "[[1, 2, 3, 4, 5, 6, 7, 8, 9, 10]]"
      ]
     },
     "execution_count": 283,
     "metadata": {},
     "output_type": "execute_result"
    }
   ],
   "source": [
    "inputData"
   ]
  },
  {
   "cell_type": "code",
   "execution_count": 286,
   "id": "44391f63",
   "metadata": {},
   "outputs": [],
   "source": [
    "respons=sqrdFunc(inputData[0])"
   ]
  },
  {
   "cell_type": "code",
   "execution_count": 17,
   "id": "959cfc3c",
   "metadata": {},
   "outputs": [],
   "source": [
    "sqrdModel=[np.array([operators[5]]),[variableSelect(0)],[]]"
   ]
  },
  {
   "cell_type": "code",
   "execution_count": 289,
   "id": "ef32f964",
   "metadata": {},
   "outputs": [
    {
     "data": {
      "text/plain": [
       "[array([<function sqrd at 0x000002140CE47240>], dtype=object),\n",
       " [<function StackGP.variableSelect.<locals>.<lambda>(variables)>],\n",
       " []]"
      ]
     },
     "execution_count": 289,
     "metadata": {},
     "output_type": "execute_result"
    }
   ],
   "source": [
    "sqrdModel"
   ]
  },
  {
   "cell_type": "code",
   "execution_count": 290,
   "id": "e994cd4a",
   "metadata": {},
   "outputs": [
    {
     "data": {
      "text/plain": [
       "0.017724159386900366"
      ]
     },
     "execution_count": 290,
     "metadata": {},
     "output_type": "execute_result"
    }
   ],
   "source": [
    "totalSharpness(model,inputData,response,numPerturbations=1000,percentPerturbation=0.2)"
   ]
  },
  {
   "cell_type": "code",
   "execution_count": null,
   "id": "5f6df582",
   "metadata": {},
   "outputs": [],
   "source": []
  },
  {
   "cell_type": "code",
   "execution_count": null,
   "id": "f458907f",
   "metadata": {},
   "outputs": [],
   "source": []
  },
  {
   "cell_type": "code",
   "execution_count": 18,
   "id": "1b280f44",
   "metadata": {},
   "outputs": [],
   "source": [
    "#Define square root function to generate data\n",
    "def sqrtFunc(x0):\n",
    "    return np.sqrt(x0)"
   ]
  },
  {
   "cell_type": "code",
   "execution_count": 292,
   "id": "e0e768c7",
   "metadata": {},
   "outputs": [
    {
     "data": {
      "text/plain": [
       "[[1, 2, 3, 4, 5, 6, 7, 8, 9, 10]]"
      ]
     },
     "execution_count": 292,
     "metadata": {},
     "output_type": "execute_result"
    }
   ],
   "source": [
    "inputData"
   ]
  },
  {
   "cell_type": "code",
   "execution_count": 293,
   "id": "90b34e18",
   "metadata": {},
   "outputs": [],
   "source": [
    "respons=sqrtFunc(inputData[0])"
   ]
  },
  {
   "cell_type": "code",
   "execution_count": 19,
   "id": "35ed5fe7",
   "metadata": {},
   "outputs": [],
   "source": [
    "sqrtModel=[np.array([operators[6]]),[variableSelect(0)],[]]"
   ]
  },
  {
   "cell_type": "code",
   "execution_count": 295,
   "id": "2386c81d",
   "metadata": {},
   "outputs": [
    {
     "data": {
      "text/plain": [
       "[array([<function sqrt at 0x000002140CE471A0>], dtype=object),\n",
       " [<function StackGP.variableSelect.<locals>.<lambda>(variables)>],\n",
       " []]"
      ]
     },
     "execution_count": 295,
     "metadata": {},
     "output_type": "execute_result"
    }
   ],
   "source": [
    "sqrtModel"
   ]
  },
  {
   "cell_type": "code",
   "execution_count": 296,
   "id": "27a3c672",
   "metadata": {},
   "outputs": [
    {
     "data": {
      "text/plain": [
       "0.018178077207649763"
      ]
     },
     "execution_count": 296,
     "metadata": {},
     "output_type": "execute_result"
    }
   ],
   "source": [
    "totalSharpness(model,inputData,response,numPerturbations=1000,percentPerturbation=0.2)"
   ]
  },
  {
   "cell_type": "code",
   "execution_count": null,
   "id": "911fdeb1",
   "metadata": {},
   "outputs": [],
   "source": []
  },
  {
   "cell_type": "code",
   "execution_count": null,
   "id": "fa026e59",
   "metadata": {},
   "outputs": [],
   "source": []
  },
  {
   "cell_type": "code",
   "execution_count": 20,
   "id": "7e23026a",
   "metadata": {},
   "outputs": [],
   "source": [
    "#Define inverse function to generate data\n",
    "def invFunc(x0):\n",
    "    return inv(np.array(x0))"
   ]
  },
  {
   "cell_type": "code",
   "execution_count": 298,
   "id": "d2c9de6d",
   "metadata": {},
   "outputs": [
    {
     "data": {
      "text/plain": [
       "[[1, 2, 3, 4, 5, 6, 7, 8, 9, 10]]"
      ]
     },
     "execution_count": 298,
     "metadata": {},
     "output_type": "execute_result"
    }
   ],
   "source": [
    "inputData"
   ]
  },
  {
   "cell_type": "code",
   "execution_count": 303,
   "id": "ee4d9c3b",
   "metadata": {},
   "outputs": [],
   "source": [
    "respons=invFunc(inputData[0])"
   ]
  },
  {
   "cell_type": "code",
   "execution_count": 21,
   "id": "fdf536dc",
   "metadata": {},
   "outputs": [],
   "source": [
    "invModel=[np.array([operators[7]]),[variableSelect(0)],[]]"
   ]
  },
  {
   "cell_type": "code",
   "execution_count": 305,
   "id": "e5ea3ce4",
   "metadata": {},
   "outputs": [
    {
     "data": {
      "text/plain": [
       "[array([<function inv at 0x000002140CE472E0>], dtype=object),\n",
       " [<function StackGP.variableSelect.<locals>.<lambda>(variables)>],\n",
       " []]"
      ]
     },
     "execution_count": 305,
     "metadata": {},
     "output_type": "execute_result"
    }
   ],
   "source": [
    "invModel"
   ]
  },
  {
   "cell_type": "code",
   "execution_count": 306,
   "id": "104a8652",
   "metadata": {},
   "outputs": [
    {
     "data": {
      "text/plain": [
       "0.018224877523631354"
      ]
     },
     "execution_count": 306,
     "metadata": {},
     "output_type": "execute_result"
    }
   ],
   "source": [
    "totalSharpness(model,inputData,response,numPerturbations=1000,percentPerturbation=0.2)"
   ]
  },
  {
   "cell_type": "code",
   "execution_count": null,
   "id": "9ad06163",
   "metadata": {},
   "outputs": [],
   "source": []
  },
  {
   "cell_type": "code",
   "execution_count": null,
   "id": "076d6259",
   "metadata": {},
   "outputs": [],
   "source": []
  },
  {
   "cell_type": "code",
   "execution_count": 42,
   "id": "36882a38",
   "metadata": {},
   "outputs": [],
   "source": [
    "#Define tangent function to generate data\n",
    "def tanFunc(x0):\n",
    "    return tan(np.array(x0))"
   ]
  },
  {
   "cell_type": "code",
   "execution_count": 43,
   "id": "4d664c55",
   "metadata": {},
   "outputs": [
    {
     "data": {
      "text/plain": [
       "array([[  1. ,   1.1,   1.2, ..., 999.7, 999.8, 999.9]])"
      ]
     },
     "execution_count": 43,
     "metadata": {},
     "output_type": "execute_result"
    }
   ],
   "source": [
    "inputData"
   ]
  },
  {
   "cell_type": "code",
   "execution_count": 44,
   "id": "4b6ebc7d",
   "metadata": {},
   "outputs": [],
   "source": [
    "respons=tanFunc(inputData[0])"
   ]
  },
  {
   "cell_type": "code",
   "execution_count": 45,
   "id": "19bf6fa1",
   "metadata": {},
   "outputs": [
    {
     "ename": "NameError",
     "evalue": "name 'operators' is not defined",
     "output_type": "error",
     "traceback": [
      "\u001b[1;31m---------------------------------------------------------------------------\u001b[0m",
      "\u001b[1;31mNameError\u001b[0m                                 Traceback (most recent call last)",
      "Cell \u001b[1;32mIn[45], line 1\u001b[0m\n\u001b[1;32m----> 1\u001b[0m tanModel\u001b[38;5;241m=\u001b[39m[np\u001b[38;5;241m.\u001b[39marray([operators[\u001b[38;5;241m10\u001b[39m]]),[variableSelect(\u001b[38;5;241m0\u001b[39m)],[]]\n",
      "\u001b[1;31mNameError\u001b[0m: name 'operators' is not defined"
     ]
    }
   ],
   "source": [
    "tanModel=[np.array([operators[10]]),[variableSelect(0)],[]]"
   ]
  },
  {
   "cell_type": "code",
   "execution_count": 312,
   "id": "ab668fc2",
   "metadata": {},
   "outputs": [
    {
     "data": {
      "text/plain": [
       "[array([<function tan at 0x000002140CE474C0>], dtype=object),\n",
       " [<function StackGP.variableSelect.<locals>.<lambda>(variables)>],\n",
       " []]"
      ]
     },
     "execution_count": 312,
     "metadata": {},
     "output_type": "execute_result"
    }
   ],
   "source": [
    "tanModel"
   ]
  },
  {
   "cell_type": "code",
   "execution_count": 313,
   "id": "88717647",
   "metadata": {},
   "outputs": [
    {
     "data": {
      "text/plain": [
       "0.017347652251715823"
      ]
     },
     "execution_count": 313,
     "metadata": {},
     "output_type": "execute_result"
    }
   ],
   "source": [
    "totalSharpness(model,inputData,response,numPerturbations=1000,percentPerturbation=0.2)"
   ]
  },
  {
   "cell_type": "code",
   "execution_count": null,
   "id": "d37c6b9d",
   "metadata": {},
   "outputs": [],
   "source": []
  },
  {
   "cell_type": "code",
   "execution_count": null,
   "id": "acccd292",
   "metadata": {},
   "outputs": [],
   "source": []
  },
  {
   "cell_type": "code",
   "execution_count": 24,
   "id": "13ad62e0",
   "metadata": {},
   "outputs": [],
   "source": [
    "#Define arccos function to generate data\n",
    "def arccosFunc(x0):\n",
    "    return arccos(np.array(x0))"
   ]
  },
  {
   "cell_type": "code",
   "execution_count": 315,
   "id": "4611ba4e",
   "metadata": {},
   "outputs": [
    {
     "data": {
      "text/plain": [
       "[[1, 2, 3, 4, 5, 6, 7, 8, 9, 10]]"
      ]
     },
     "execution_count": 315,
     "metadata": {},
     "output_type": "execute_result"
    }
   ],
   "source": [
    "inputData"
   ]
  },
  {
   "cell_type": "code",
   "execution_count": 316,
   "id": "43292759",
   "metadata": {},
   "outputs": [],
   "source": [
    "respons=arccosFunc(inputData[0])"
   ]
  },
  {
   "cell_type": "code",
   "execution_count": 25,
   "id": "d602daa4",
   "metadata": {},
   "outputs": [],
   "source": [
    "arccosModel=[np.array([operators[11]]),[variableSelect(0)],[]]"
   ]
  },
  {
   "cell_type": "code",
   "execution_count": 318,
   "id": "9c0c6144",
   "metadata": {},
   "outputs": [
    {
     "data": {
      "text/plain": [
       "[array([<function arccos at 0x000002140CE47560>], dtype=object),\n",
       " [<function StackGP.variableSelect.<locals>.<lambda>(variables)>],\n",
       " []]"
      ]
     },
     "execution_count": 318,
     "metadata": {},
     "output_type": "execute_result"
    }
   ],
   "source": [
    "arccosModel"
   ]
  },
  {
   "cell_type": "code",
   "execution_count": 319,
   "id": "67148d4a",
   "metadata": {},
   "outputs": [
    {
     "data": {
      "text/plain": [
       "0.017603944374860524"
      ]
     },
     "execution_count": 319,
     "metadata": {},
     "output_type": "execute_result"
    }
   ],
   "source": [
    "totalSharpness(model,inputData,response,numPerturbations=1000,percentPerturbation=0.2)"
   ]
  },
  {
   "cell_type": "code",
   "execution_count": null,
   "id": "301a6f04",
   "metadata": {},
   "outputs": [],
   "source": []
  },
  {
   "cell_type": "code",
   "execution_count": null,
   "id": "303c7d1a",
   "metadata": {},
   "outputs": [],
   "source": []
  },
  {
   "cell_type": "code",
   "execution_count": 26,
   "id": "18201dd4",
   "metadata": {},
   "outputs": [],
   "source": [
    "#Define arcsin function to generate data\n",
    "def arcsinFunc(x0):\n",
    "    return arcsin(np.array(x0))"
   ]
  },
  {
   "cell_type": "code",
   "execution_count": 321,
   "id": "94fd2060",
   "metadata": {},
   "outputs": [
    {
     "data": {
      "text/plain": [
       "[[1, 2, 3, 4, 5, 6, 7, 8, 9, 10]]"
      ]
     },
     "execution_count": 321,
     "metadata": {},
     "output_type": "execute_result"
    }
   ],
   "source": [
    "inputData"
   ]
  },
  {
   "cell_type": "code",
   "execution_count": 322,
   "id": "c10018b7",
   "metadata": {},
   "outputs": [],
   "source": [
    "respons=arcsinFunc(inputData[0])"
   ]
  },
  {
   "cell_type": "code",
   "execution_count": 27,
   "id": "1061513d",
   "metadata": {},
   "outputs": [],
   "source": [
    "arcsinModel=[np.array([operators[12]]),[variableSelect(0)],[]]"
   ]
  },
  {
   "cell_type": "code",
   "execution_count": 325,
   "id": "4b334df5",
   "metadata": {},
   "outputs": [
    {
     "data": {
      "text/plain": [
       "[array([<function arcsin at 0x000002140CE47600>], dtype=object),\n",
       " [<function StackGP.variableSelect.<locals>.<lambda>(variables)>],\n",
       " []]"
      ]
     },
     "execution_count": 325,
     "metadata": {},
     "output_type": "execute_result"
    }
   ],
   "source": [
    "arcsinModel"
   ]
  },
  {
   "cell_type": "code",
   "execution_count": 326,
   "id": "b1779d19",
   "metadata": {},
   "outputs": [
    {
     "data": {
      "text/plain": [
       "0.01799667270189267"
      ]
     },
     "execution_count": 326,
     "metadata": {},
     "output_type": "execute_result"
    }
   ],
   "source": [
    "totalSharpness(model,inputData,response,numPerturbations=1000,percentPerturbation=0.2)"
   ]
  },
  {
   "cell_type": "code",
   "execution_count": null,
   "id": "7abd0af6",
   "metadata": {},
   "outputs": [],
   "source": []
  },
  {
   "cell_type": "code",
   "execution_count": null,
   "id": "8e4bada9",
   "metadata": {},
   "outputs": [],
   "source": []
  },
  {
   "cell_type": "code",
   "execution_count": 28,
   "id": "1223c186",
   "metadata": {},
   "outputs": [],
   "source": [
    "#Define arctan function to generate data\n",
    "def arctanFunc(x0):\n",
    "    return arctan(np.array(x0))"
   ]
  },
  {
   "cell_type": "code",
   "execution_count": 328,
   "id": "45571a5d",
   "metadata": {},
   "outputs": [
    {
     "data": {
      "text/plain": [
       "[[1, 2, 3, 4, 5, 6, 7, 8, 9, 10]]"
      ]
     },
     "execution_count": 328,
     "metadata": {},
     "output_type": "execute_result"
    }
   ],
   "source": [
    "inputData"
   ]
  },
  {
   "cell_type": "code",
   "execution_count": 329,
   "id": "88381e1d",
   "metadata": {},
   "outputs": [],
   "source": [
    "respons=arctanFunc(inputData[0])"
   ]
  },
  {
   "cell_type": "code",
   "execution_count": 29,
   "id": "e605f21e",
   "metadata": {},
   "outputs": [],
   "source": [
    "arctanModel=[np.array([operators[13]]),[variableSelect(0)],[]]"
   ]
  },
  {
   "cell_type": "code",
   "execution_count": 331,
   "id": "c66c593c",
   "metadata": {},
   "outputs": [
    {
     "data": {
      "text/plain": [
       "[array([<function arctan at 0x000002140CE476A0>], dtype=object),\n",
       " [<function StackGP.variableSelect.<locals>.<lambda>(variables)>],\n",
       " []]"
      ]
     },
     "execution_count": 331,
     "metadata": {},
     "output_type": "execute_result"
    }
   ],
   "source": [
    "arctanModel"
   ]
  },
  {
   "cell_type": "code",
   "execution_count": 332,
   "id": "aeadf558",
   "metadata": {},
   "outputs": [
    {
     "data": {
      "text/plain": [
       "0.017897321480702593"
      ]
     },
     "execution_count": 332,
     "metadata": {},
     "output_type": "execute_result"
    }
   ],
   "source": [
    "totalSharpness(model,inputData,response,numPerturbations=1000,percentPerturbation=0.2)"
   ]
  },
  {
   "cell_type": "code",
   "execution_count": null,
   "id": "df64d507",
   "metadata": {},
   "outputs": [],
   "source": []
  },
  {
   "cell_type": "code",
   "execution_count": null,
   "id": "182c99ba",
   "metadata": {},
   "outputs": [],
   "source": []
  },
  {
   "cell_type": "code",
   "execution_count": 30,
   "id": "3b82a001",
   "metadata": {},
   "outputs": [],
   "source": [
    "#Define hyperbolic tangent function to generate data\n",
    "def tanhFunc(x0):\n",
    "    return tanh(np.array(x0))"
   ]
  },
  {
   "cell_type": "code",
   "execution_count": 334,
   "id": "7034052f",
   "metadata": {},
   "outputs": [
    {
     "data": {
      "text/plain": [
       "[[1, 2, 3, 4, 5, 6, 7, 8, 9, 10]]"
      ]
     },
     "execution_count": 334,
     "metadata": {},
     "output_type": "execute_result"
    }
   ],
   "source": [
    "inputData"
   ]
  },
  {
   "cell_type": "code",
   "execution_count": 335,
   "id": "e98611f5",
   "metadata": {},
   "outputs": [],
   "source": [
    "respons=tanhFunc(inputData[0])"
   ]
  },
  {
   "cell_type": "code",
   "execution_count": 31,
   "id": "7e5634ad",
   "metadata": {},
   "outputs": [],
   "source": [
    "tanhModel=[np.array([operators[14]]),[variableSelect(0)],[]]"
   ]
  },
  {
   "cell_type": "code",
   "execution_count": 337,
   "id": "f343aa1f",
   "metadata": {},
   "outputs": [
    {
     "data": {
      "text/plain": [
       "[array([<function tanh at 0x000002140CE47740>], dtype=object),\n",
       " [<function StackGP.variableSelect.<locals>.<lambda>(variables)>],\n",
       " []]"
      ]
     },
     "execution_count": 337,
     "metadata": {},
     "output_type": "execute_result"
    }
   ],
   "source": [
    "tanhModel"
   ]
  },
  {
   "cell_type": "code",
   "execution_count": 338,
   "id": "868f6bc1",
   "metadata": {},
   "outputs": [
    {
     "data": {
      "text/plain": [
       "0.01782606562633586"
      ]
     },
     "execution_count": 338,
     "metadata": {},
     "output_type": "execute_result"
    }
   ],
   "source": [
    "totalSharpness(model,inputData,response,numPerturbations=1000,percentPerturbation=0.2)"
   ]
  },
  {
   "cell_type": "code",
   "execution_count": null,
   "id": "2367c19d",
   "metadata": {},
   "outputs": [],
   "source": []
  },
  {
   "cell_type": "code",
   "execution_count": null,
   "id": "89767cb9",
   "metadata": {},
   "outputs": [],
   "source": []
  },
  {
   "cell_type": "code",
   "execution_count": 32,
   "id": "f41e5b00",
   "metadata": {},
   "outputs": [],
   "source": [
    "#Define logarithmic function to generate data\n",
    "def logFunc(x0):\n",
    "    return log(np.array(x0))"
   ]
  },
  {
   "cell_type": "code",
   "execution_count": 340,
   "id": "7514ee51",
   "metadata": {},
   "outputs": [
    {
     "data": {
      "text/plain": [
       "[[1, 2, 3, 4, 5, 6, 7, 8, 9, 10]]"
      ]
     },
     "execution_count": 340,
     "metadata": {},
     "output_type": "execute_result"
    }
   ],
   "source": [
    "inputData"
   ]
  },
  {
   "cell_type": "code",
   "execution_count": 341,
   "id": "ed72e96d",
   "metadata": {},
   "outputs": [],
   "source": [
    "respons=logFunc(inputData[0])"
   ]
  },
  {
   "cell_type": "code",
   "execution_count": 33,
   "id": "42cc62d1",
   "metadata": {},
   "outputs": [],
   "source": [
    "logModel=[np.array([operators[15]]),[variableSelect(0)],[]]"
   ]
  },
  {
   "cell_type": "code",
   "execution_count": 343,
   "id": "35b16fb9",
   "metadata": {},
   "outputs": [
    {
     "data": {
      "text/plain": [
       "[array([<function log at 0x000002140CE477E0>], dtype=object),\n",
       " [<function StackGP.variableSelect.<locals>.<lambda>(variables)>],\n",
       " []]"
      ]
     },
     "execution_count": 343,
     "metadata": {},
     "output_type": "execute_result"
    }
   ],
   "source": [
    "logModel"
   ]
  },
  {
   "cell_type": "code",
   "execution_count": 344,
   "id": "9946d907",
   "metadata": {},
   "outputs": [
    {
     "data": {
      "text/plain": [
       "0.018073011117403205"
      ]
     },
     "execution_count": 344,
     "metadata": {},
     "output_type": "execute_result"
    }
   ],
   "source": [
    "totalSharpness(model,inputData,response,numPerturbations=1000,percentPerturbation=0.2)"
   ]
  },
  {
   "cell_type": "code",
   "execution_count": null,
   "id": "fb9de853",
   "metadata": {},
   "outputs": [],
   "source": []
  },
  {
   "cell_type": "code",
   "execution_count": 345,
   "id": "89d96146",
   "metadata": {},
   "outputs": [
    {
     "data": {
      "text/plain": [
       "[<function StackGP.protectDiv(a, b)>,\n",
       " <function StackGP.add(a, b)>,\n",
       " <function StackGP.sub(a, b)>,\n",
       " <function StackGP.mult(a, b)>,\n",
       " <function StackGP.exp(a)>,\n",
       " <function StackGP.sqrd(a)>,\n",
       " <function StackGP.sqrt(a)>,\n",
       " <function StackGP.inv(a)>,\n",
       " <function StackGP.cos(a)>,\n",
       " <function StackGP.sin(a)>,\n",
       " <function StackGP.tan(a)>,\n",
       " <function StackGP.arccos(a)>,\n",
       " <function StackGP.arcsin(a)>,\n",
       " <function StackGP.arctan(a)>,\n",
       " <function StackGP.tanh(a)>,\n",
       " <function StackGP.log(a)>,\n",
       " 'pop',\n",
       " 'pop',\n",
       " 'pop',\n",
       " 'pop',\n",
       " 'pop',\n",
       " 'pop',\n",
       " 'pop',\n",
       " 'pop',\n",
       " 'pop',\n",
       " 'pop']"
      ]
     },
     "execution_count": 345,
     "metadata": {},
     "output_type": "execute_result"
    }
   ],
   "source": [
    "operators"
   ]
  },
  {
   "cell_type": "code",
   "execution_count": 34,
   "id": "4490946c",
   "metadata": {},
   "outputs": [],
   "source": [
    "multModel=[np.array([operators[3]]),[variableSelect(0),1],[]]"
   ]
  },
  {
   "cell_type": "code",
   "execution_count": 347,
   "id": "2fda45e3",
   "metadata": {},
   "outputs": [
    {
     "data": {
      "text/plain": [
       "[array([<function mult at 0x000002140CE46FC0>], dtype=object),\n",
       " [<function StackGP.variableSelect.<locals>.<lambda>(variables)>, 1],\n",
       " []]"
      ]
     },
     "execution_count": 347,
     "metadata": {},
     "output_type": "execute_result"
    }
   ],
   "source": [
    "multModel"
   ]
  },
  {
   "cell_type": "code",
   "execution_count": 349,
   "id": "c692616f",
   "metadata": {},
   "outputs": [
    {
     "data": {
      "text/plain": [
       "0.0009743140968678845"
      ]
     },
     "execution_count": 349,
     "metadata": {},
     "output_type": "execute_result"
    }
   ],
   "source": [
    "totalSharpness(multModel,inputData,response,numPerturbations=1000,percentPerturbation=0.2)"
   ]
  },
  {
   "cell_type": "code",
   "execution_count": null,
   "id": "504c3847",
   "metadata": {},
   "outputs": [],
   "source": []
  },
  {
   "cell_type": "code",
   "execution_count": null,
   "id": "06c2722a",
   "metadata": {},
   "outputs": [],
   "source": []
  },
  {
   "cell_type": "code",
   "execution_count": 350,
   "id": "b20aa53b",
   "metadata": {},
   "outputs": [],
   "source": [
    "from StackGP import *\n",
    "import numpy as np"
   ]
  },
  {
   "cell_type": "code",
   "execution_count": 351,
   "id": "56953f04",
   "metadata": {},
   "outputs": [],
   "source": [
    "inputData=[[1,2,3,4,5,6,7,8,9,10]]\n",
    "response=inputData[0]"
   ]
  },
  {
   "cell_type": "code",
   "execution_count": 352,
   "id": "5185c6db",
   "metadata": {},
   "outputs": [
    {
     "data": {
      "text/plain": [
       "[[1, 2, 3, 4, 5, 6, 7, 8, 9, 10]]"
      ]
     },
     "execution_count": 352,
     "metadata": {},
     "output_type": "execute_result"
    }
   ],
   "source": [
    "inputData"
   ]
  },
  {
   "cell_type": "code",
   "execution_count": 353,
   "id": "7d6dd83c",
   "metadata": {},
   "outputs": [
    {
     "data": {
      "text/plain": [
       "[1, 2, 3, 4, 5, 6, 7, 8, 9, 10]"
      ]
     },
     "execution_count": 353,
     "metadata": {},
     "output_type": "execute_result"
    }
   ],
   "source": [
    "response"
   ]
  },
  {
   "cell_type": "code",
   "execution_count": 356,
   "id": "a6768d10",
   "metadata": {},
   "outputs": [],
   "source": [
    "operators=allOps()"
   ]
  },
  {
   "cell_type": "code",
   "execution_count": 357,
   "id": "0fc2fe04",
   "metadata": {},
   "outputs": [
    {
     "data": {
      "text/plain": [
       "[<function StackGP.protectDiv(a, b)>,\n",
       " <function StackGP.add(a, b)>,\n",
       " <function StackGP.sub(a, b)>,\n",
       " <function StackGP.mult(a, b)>,\n",
       " <function StackGP.exp(a)>,\n",
       " <function StackGP.sqrd(a)>,\n",
       " <function StackGP.sqrt(a)>,\n",
       " <function StackGP.inv(a)>,\n",
       " <function StackGP.cos(a)>,\n",
       " <function StackGP.sin(a)>,\n",
       " <function StackGP.tan(a)>,\n",
       " <function StackGP.arccos(a)>,\n",
       " <function StackGP.arcsin(a)>,\n",
       " <function StackGP.arctan(a)>,\n",
       " <function StackGP.tanh(a)>,\n",
       " <function StackGP.log(a)>,\n",
       " 'pop',\n",
       " 'pop',\n",
       " 'pop',\n",
       " 'pop',\n",
       " 'pop',\n",
       " 'pop',\n",
       " 'pop',\n",
       " 'pop',\n",
       " 'pop',\n",
       " 'pop']"
      ]
     },
     "execution_count": 357,
     "metadata": {},
     "output_type": "execute_result"
    }
   ],
   "source": [
    "operators"
   ]
  },
  {
   "cell_type": "code",
   "execution_count": 358,
   "id": "3d39c8d5",
   "metadata": {},
   "outputs": [
    {
     "data": {
      "text/plain": [
       "<function StackGP.protectDiv(a, b)>"
      ]
     },
     "execution_count": 358,
     "metadata": {},
     "output_type": "execute_result"
    }
   ],
   "source": [
    "operators[0]"
   ]
  },
  {
   "cell_type": "code",
   "execution_count": 365,
   "id": "8e6a7dcb",
   "metadata": {},
   "outputs": [],
   "source": [
    "model=[np.array([operators[0]]),[variableSelect(0),1],[]]"
   ]
  },
  {
   "cell_type": "code",
   "execution_count": 366,
   "id": "e35ccbb0",
   "metadata": {},
   "outputs": [
    {
     "data": {
      "text/plain": [
       "[array([<function protectDiv at 0x0000021405CCFF60>], dtype=object),\n",
       " [<function StackGP.variableSelect.<locals>.<lambda>(variables)>, 1],\n",
       " []]"
      ]
     },
     "execution_count": 366,
     "metadata": {},
     "output_type": "execute_result"
    }
   ],
   "source": [
    "model"
   ]
  },
  {
   "cell_type": "markdown",
   "id": "a2a49c8c",
   "metadata": {},
   "source": [
    "model"
   ]
  },
  {
   "cell_type": "code",
   "execution_count": 367,
   "id": "7ab2ece6",
   "metadata": {},
   "outputs": [
    {
     "data": {
      "image/png": "[encoded data removed]",
      "text/plain": [
       "<Figure size 640x480 with 1 Axes>"
      ]
     },
     "metadata": {},
     "output_type": "display_data"
    }
   ],
   "source": [
    "plotModelResponseComparison(model,inputData,response)"
   ]
  },
  {
   "cell_type": "code",
   "execution_count": 368,
   "id": "7e9aadad",
   "metadata": {},
   "outputs": [
    {
     "data": {
      "text/plain": [
       "0.0009577834361586265"
      ]
     },
     "execution_count": 368,
     "metadata": {},
     "output_type": "execute_result"
    }
   ],
   "source": [
    "totalSharpness(model,inputData,response,numPerturbations=1000,percentPerturbation=0.2)"
   ]
  },
  {
   "cell_type": "code",
   "execution_count": null,
   "id": "0f693b15",
   "metadata": {},
   "outputs": [],
   "source": []
  },
  {
   "cell_type": "code",
   "execution_count": null,
   "id": "dee17a6a",
   "metadata": {},
   "outputs": [],
   "source": []
  },
  {
   "cell_type": "code",
   "execution_count": 369,
   "id": "9ed0db18",
   "metadata": {},
   "outputs": [],
   "source": [
    "from StackGP import *\n",
    "import numpy as np"
   ]
  },
  {
   "cell_type": "code",
   "execution_count": 370,
   "id": "c26a7e81",
   "metadata": {},
   "outputs": [],
   "source": [
    "inputData=[[1,2,3,4,5,6,7,8,9,10]]\n",
    "response=inputData[0]"
   ]
  },
  {
   "cell_type": "code",
   "execution_count": 371,
   "id": "eeb07f2c",
   "metadata": {},
   "outputs": [
    {
     "data": {
      "text/plain": [
       "[[1, 2, 3, 4, 5, 6, 7, 8, 9, 10]]"
      ]
     },
     "execution_count": 371,
     "metadata": {},
     "output_type": "execute_result"
    }
   ],
   "source": [
    "inputData"
   ]
  },
  {
   "cell_type": "code",
   "execution_count": 372,
   "id": "3dcd7075",
   "metadata": {},
   "outputs": [
    {
     "data": {
      "text/plain": [
       "[1, 2, 3, 4, 5, 6, 7, 8, 9, 10]"
      ]
     },
     "execution_count": 372,
     "metadata": {},
     "output_type": "execute_result"
    }
   ],
   "source": [
    "response"
   ]
  },
  {
   "cell_type": "code",
   "execution_count": 373,
   "id": "7ed2c0ea",
   "metadata": {},
   "outputs": [],
   "source": [
    "operators=allOps()"
   ]
  },
  {
   "cell_type": "code",
   "execution_count": 374,
   "id": "cc2727f5",
   "metadata": {},
   "outputs": [
    {
     "data": {
      "text/plain": [
       "[<function StackGP.protectDiv(a, b)>,\n",
       " <function StackGP.add(a, b)>,\n",
       " <function StackGP.sub(a, b)>,\n",
       " <function StackGP.mult(a, b)>,\n",
       " <function StackGP.exp(a)>,\n",
       " <function StackGP.sqrd(a)>,\n",
       " <function StackGP.sqrt(a)>,\n",
       " <function StackGP.inv(a)>,\n",
       " <function StackGP.cos(a)>,\n",
       " <function StackGP.sin(a)>,\n",
       " <function StackGP.tan(a)>,\n",
       " <function StackGP.arccos(a)>,\n",
       " <function StackGP.arcsin(a)>,\n",
       " <function StackGP.arctan(a)>,\n",
       " <function StackGP.tanh(a)>,\n",
       " <function StackGP.log(a)>,\n",
       " 'pop',\n",
       " 'pop',\n",
       " 'pop',\n",
       " 'pop',\n",
       " 'pop',\n",
       " 'pop',\n",
       " 'pop',\n",
       " 'pop',\n",
       " 'pop',\n",
       " 'pop']"
      ]
     },
     "execution_count": 374,
     "metadata": {},
     "output_type": "execute_result"
    }
   ],
   "source": [
    "operators"
   ]
  },
  {
   "cell_type": "code",
   "execution_count": 375,
   "id": "8080f4da",
   "metadata": {},
   "outputs": [
    {
     "data": {
      "text/plain": [
       "<function StackGP.add(a, b)>"
      ]
     },
     "execution_count": 375,
     "metadata": {},
     "output_type": "execute_result"
    }
   ],
   "source": [
    "operators[1]"
   ]
  },
  {
   "cell_type": "code",
   "execution_count": 376,
   "id": "8fcecf58",
   "metadata": {},
   "outputs": [],
   "source": [
    "model=[np.array([operators[0]]),[variableSelect(0),1],[]]"
   ]
  },
  {
   "cell_type": "code",
   "execution_count": 377,
   "id": "88a0cf05",
   "metadata": {},
   "outputs": [
    {
     "data": {
      "text/plain": [
       "[array([<function protectDiv at 0x0000021405CCFF60>], dtype=object),\n",
       " [<function StackGP.variableSelect.<locals>.<lambda>(variables)>, 1],\n",
       " []]"
      ]
     },
     "execution_count": 377,
     "metadata": {},
     "output_type": "execute_result"
    }
   ],
   "source": [
    "model"
   ]
  },
  {
   "cell_type": "code",
   "execution_count": 378,
   "id": "9d2acca0",
   "metadata": {},
   "outputs": [
    {
     "data": {
      "image/png": "[encoded data removed]",
      "text/plain": [
       "<Figure size 640x480 with 1 Axes>"
      ]
     },
     "metadata": {},
     "output_type": "display_data"
    }
   ],
   "source": [
    "plotModelResponseComparison(model,inputData,response)"
   ]
  },
  {
   "cell_type": "code",
   "execution_count": 379,
   "id": "dd2e6633",
   "metadata": {},
   "outputs": [
    {
     "data": {
      "text/plain": [
       "0.000977738116395121"
      ]
     },
     "execution_count": 379,
     "metadata": {},
     "output_type": "execute_result"
    }
   ],
   "source": [
    "totalSharpness(model,inputData,response,numPerturbations=1000,percentPerturbation=0.2)"
   ]
  },
  {
   "cell_type": "code",
   "execution_count": null,
   "id": "45d9ba37",
   "metadata": {},
   "outputs": [],
   "source": []
  },
  {
   "cell_type": "code",
   "execution_count": null,
   "id": "6a3a7b1a",
   "metadata": {},
   "outputs": [],
   "source": []
  },
  {
   "cell_type": "code",
   "execution_count": 380,
   "id": "7581a5b5",
   "metadata": {},
   "outputs": [],
   "source": [
    "from StackGP import *\n",
    "import numpy as np"
   ]
  },
  {
   "cell_type": "code",
   "execution_count": 381,
   "id": "d161f465",
   "metadata": {},
   "outputs": [],
   "source": [
    "inputData=[[1,2,3,4,5,6,7,8,9,10]]\n",
    "response=inputData[0]"
   ]
  },
  {
   "cell_type": "code",
   "execution_count": 382,
   "id": "5b75f73e",
   "metadata": {},
   "outputs": [
    {
     "data": {
      "text/plain": [
       "[[1, 2, 3, 4, 5, 6, 7, 8, 9, 10]]"
      ]
     },
     "execution_count": 382,
     "metadata": {},
     "output_type": "execute_result"
    }
   ],
   "source": [
    "inputData"
   ]
  },
  {
   "cell_type": "code",
   "execution_count": 383,
   "id": "43408e6b",
   "metadata": {},
   "outputs": [
    {
     "data": {
      "text/plain": [
       "[1, 2, 3, 4, 5, 6, 7, 8, 9, 10]"
      ]
     },
     "execution_count": 383,
     "metadata": {},
     "output_type": "execute_result"
    }
   ],
   "source": [
    "response"
   ]
  },
  {
   "cell_type": "code",
   "execution_count": 384,
   "id": "e16a50c7",
   "metadata": {},
   "outputs": [],
   "source": [
    "operators=allOps()"
   ]
  },
  {
   "cell_type": "code",
   "execution_count": 385,
   "id": "372fbf87",
   "metadata": {},
   "outputs": [
    {
     "data": {
      "text/plain": [
       "[<function StackGP.protectDiv(a, b)>,\n",
       " <function StackGP.add(a, b)>,\n",
       " <function StackGP.sub(a, b)>,\n",
       " <function StackGP.mult(a, b)>,\n",
       " <function StackGP.exp(a)>,\n",
       " <function StackGP.sqrd(a)>,\n",
       " <function StackGP.sqrt(a)>,\n",
       " <function StackGP.inv(a)>,\n",
       " <function StackGP.cos(a)>,\n",
       " <function StackGP.sin(a)>,\n",
       " <function StackGP.tan(a)>,\n",
       " <function StackGP.arccos(a)>,\n",
       " <function StackGP.arcsin(a)>,\n",
       " <function StackGP.arctan(a)>,\n",
       " <function StackGP.tanh(a)>,\n",
       " <function StackGP.log(a)>,\n",
       " 'pop',\n",
       " 'pop',\n",
       " 'pop',\n",
       " 'pop',\n",
       " 'pop',\n",
       " 'pop',\n",
       " 'pop',\n",
       " 'pop',\n",
       " 'pop',\n",
       " 'pop']"
      ]
     },
     "execution_count": 385,
     "metadata": {},
     "output_type": "execute_result"
    }
   ],
   "source": [
    "operators"
   ]
  },
  {
   "cell_type": "code",
   "execution_count": 387,
   "id": "0a512bd3",
   "metadata": {},
   "outputs": [
    {
     "data": {
      "text/plain": [
       "<function StackGP.sub(a, b)>"
      ]
     },
     "execution_count": 387,
     "metadata": {},
     "output_type": "execute_result"
    }
   ],
   "source": [
    "operators[2]"
   ]
  },
  {
   "cell_type": "code",
   "execution_count": 388,
   "id": "6dbf04ed",
   "metadata": {},
   "outputs": [],
   "source": [
    "model=[np.array([operators[0]]),[variableSelect(0),1],[]]"
   ]
  },
  {
   "cell_type": "code",
   "execution_count": 389,
   "id": "1ee4c028",
   "metadata": {},
   "outputs": [
    {
     "data": {
      "text/plain": [
       "[array([<function protectDiv at 0x0000021405CCFF60>], dtype=object),\n",
       " [<function StackGP.variableSelect.<locals>.<lambda>(variables)>, 1],\n",
       " []]"
      ]
     },
     "execution_count": 389,
     "metadata": {},
     "output_type": "execute_result"
    }
   ],
   "source": [
    "model"
   ]
  },
  {
   "cell_type": "code",
   "execution_count": 390,
   "id": "5b3bbb20",
   "metadata": {},
   "outputs": [
    {
     "data": {
      "image/png": "[encoded data removed]",
      "text/plain": [
       "<Figure size 640x480 with 1 Axes>"
      ]
     },
     "metadata": {},
     "output_type": "display_data"
    }
   ],
   "source": [
    "plotModelResponseComparison(model,inputData,response)"
   ]
  },
  {
   "cell_type": "code",
   "execution_count": 391,
   "id": "61af50d0",
   "metadata": {},
   "outputs": [
    {
     "data": {
      "text/plain": [
       "0.0009463956926256863"
      ]
     },
     "execution_count": 391,
     "metadata": {},
     "output_type": "execute_result"
    }
   ],
   "source": [
    "totalSharpness(model,inputData,response,numPerturbations=1000,percentPerturbation=0.2)"
   ]
  },
  {
   "cell_type": "code",
   "execution_count": null,
   "id": "980a69b7",
   "metadata": {},
   "outputs": [],
   "source": []
  },
  {
   "cell_type": "code",
   "execution_count": null,
   "id": "0e96d937",
   "metadata": {},
   "outputs": [],
   "source": []
  },
  {
   "cell_type": "code",
   "execution_count": 392,
   "id": "03a74e0d",
   "metadata": {},
   "outputs": [],
   "source": [
    "from StackGP import *\n",
    "import numpy as np"
   ]
  },
  {
   "cell_type": "code",
   "execution_count": 393,
   "id": "d17ae533",
   "metadata": {},
   "outputs": [],
   "source": [
    "inputData=[[1,2,3,4,5,6,7,8,9,10]]\n",
    "response=inputData[0]"
   ]
  },
  {
   "cell_type": "code",
   "execution_count": 394,
   "id": "8844d7ff",
   "metadata": {},
   "outputs": [
    {
     "data": {
      "text/plain": [
       "[[1, 2, 3, 4, 5, 6, 7, 8, 9, 10]]"
      ]
     },
     "execution_count": 394,
     "metadata": {},
     "output_type": "execute_result"
    }
   ],
   "source": [
    "inputData"
   ]
  },
  {
   "cell_type": "code",
   "execution_count": 395,
   "id": "0d05b5ce",
   "metadata": {},
   "outputs": [
    {
     "data": {
      "text/plain": [
       "[1, 2, 3, 4, 5, 6, 7, 8, 9, 10]"
      ]
     },
     "execution_count": 395,
     "metadata": {},
     "output_type": "execute_result"
    }
   ],
   "source": [
    "response"
   ]
  },
  {
   "cell_type": "code",
   "execution_count": 396,
   "id": "536d99c6",
   "metadata": {},
   "outputs": [],
   "source": [
    "operators=allOps()"
   ]
  },
  {
   "cell_type": "code",
   "execution_count": 397,
   "id": "9dcfcf7d",
   "metadata": {},
   "outputs": [
    {
     "data": {
      "text/plain": [
       "[<function StackGP.protectDiv(a, b)>,\n",
       " <function StackGP.add(a, b)>,\n",
       " <function StackGP.sub(a, b)>,\n",
       " <function StackGP.mult(a, b)>,\n",
       " <function StackGP.exp(a)>,\n",
       " <function StackGP.sqrd(a)>,\n",
       " <function StackGP.sqrt(a)>,\n",
       " <function StackGP.inv(a)>,\n",
       " <function StackGP.cos(a)>,\n",
       " <function StackGP.sin(a)>,\n",
       " <function StackGP.tan(a)>,\n",
       " <function StackGP.arccos(a)>,\n",
       " <function StackGP.arcsin(a)>,\n",
       " <function StackGP.arctan(a)>,\n",
       " <function StackGP.tanh(a)>,\n",
       " <function StackGP.log(a)>,\n",
       " 'pop',\n",
       " 'pop',\n",
       " 'pop',\n",
       " 'pop',\n",
       " 'pop',\n",
       " 'pop',\n",
       " 'pop',\n",
       " 'pop',\n",
       " 'pop',\n",
       " 'pop']"
      ]
     },
     "execution_count": 397,
     "metadata": {},
     "output_type": "execute_result"
    }
   ],
   "source": [
    "operators"
   ]
  },
  {
   "cell_type": "code",
   "execution_count": 399,
   "id": "6a95e3d0",
   "metadata": {},
   "outputs": [
    {
     "data": {
      "text/plain": [
       "<function StackGP.mult(a, b)>"
      ]
     },
     "execution_count": 399,
     "metadata": {},
     "output_type": "execute_result"
    }
   ],
   "source": [
    "operators[3]"
   ]
  },
  {
   "cell_type": "code",
   "execution_count": 452,
   "id": "cc51345c",
   "metadata": {},
   "outputs": [],
   "source": [
    "model=[np.array([operators[3]]),[variableSelect(0),1],[]]"
   ]
  },
  {
   "cell_type": "code",
   "execution_count": 453,
   "id": "3c9182cf",
   "metadata": {},
   "outputs": [
    {
     "data": {
      "text/plain": [
       "[array([<function mult at 0x000002140CE46FC0>], dtype=object),\n",
       " [<function StackGP.variableSelect.<locals>.<lambda>(variables)>, 1],\n",
       " []]"
      ]
     },
     "execution_count": 453,
     "metadata": {},
     "output_type": "execute_result"
    }
   ],
   "source": [
    "model"
   ]
  },
  {
   "cell_type": "code",
   "execution_count": 454,
   "id": "4839cd85",
   "metadata": {},
   "outputs": [
    {
     "ename": "ValueError",
     "evalue": "x and y must be the same size",
     "output_type": "error",
     "traceback": [
      "\u001b[1;31m---------------------------------------------------------------------------\u001b[0m",
      "\u001b[1;31mValueError\u001b[0m                                Traceback (most recent call last)",
      "Cell \u001b[1;32mIn[454], line 1\u001b[0m\n\u001b[1;32m----> 1\u001b[0m plotModelResponseComparison(model,inputData,response)\n",
      "File \u001b[1;32m~\\Desktop\\HSHSP Folder\\StackGP.py:814\u001b[0m, in \u001b[0;36mplotModelResponseComparison\u001b[1;34m(model, inputData, response, sort)\u001b[0m\n\u001b[0;32m    813\u001b[0m \u001b[38;5;28;01mdef\u001b[39;00m \u001b[38;5;21mplotModelResponseComparison\u001b[39m(model,inputData,response,sort\u001b[38;5;241m=\u001b[39m\u001b[38;5;28;01mFalse\u001b[39;00m):\n\u001b[1;32m--> 814\u001b[0m     plt\u001b[38;5;241m.\u001b[39mscatter(\u001b[38;5;28mrange\u001b[39m(\u001b[38;5;28mlen\u001b[39m(response)),response,label\u001b[38;5;241m=\u001b[39m\u001b[38;5;124m\"\u001b[39m\u001b[38;5;124mTrue Response\u001b[39m\u001b[38;5;124m\"\u001b[39m)\n\u001b[0;32m    815\u001b[0m     plt\u001b[38;5;241m.\u001b[39mscatter(\u001b[38;5;28mrange\u001b[39m(\u001b[38;5;28mlen\u001b[39m(response)),evaluateGPModel(model,inputData),label\u001b[38;5;241m=\u001b[39m\u001b[38;5;124m\"\u001b[39m\u001b[38;5;124mModel Prediction\u001b[39m\u001b[38;5;124m\"\u001b[39m)\n\u001b[0;32m    816\u001b[0m     plt\u001b[38;5;241m.\u001b[39mlegend()\n",
      "File \u001b[1;32mC:\\Program Files\\Anaconda3\\Lib\\site-packages\\matplotlib\\pyplot.py:2862\u001b[0m, in \u001b[0;36mscatter\u001b[1;34m(x, y, s, c, marker, cmap, norm, vmin, vmax, alpha, linewidths, edgecolors, plotnonfinite, data, **kwargs)\u001b[0m\n\u001b[0;32m   2857\u001b[0m \u001b[38;5;129m@_copy_docstring_and_deprecators\u001b[39m(Axes\u001b[38;5;241m.\u001b[39mscatter)\n\u001b[0;32m   2858\u001b[0m \u001b[38;5;28;01mdef\u001b[39;00m \u001b[38;5;21mscatter\u001b[39m(\n\u001b[0;32m   2859\u001b[0m         x, y, s\u001b[38;5;241m=\u001b[39m\u001b[38;5;28;01mNone\u001b[39;00m, c\u001b[38;5;241m=\u001b[39m\u001b[38;5;28;01mNone\u001b[39;00m, marker\u001b[38;5;241m=\u001b[39m\u001b[38;5;28;01mNone\u001b[39;00m, cmap\u001b[38;5;241m=\u001b[39m\u001b[38;5;28;01mNone\u001b[39;00m, norm\u001b[38;5;241m=\u001b[39m\u001b[38;5;28;01mNone\u001b[39;00m,\n\u001b[0;32m   2860\u001b[0m         vmin\u001b[38;5;241m=\u001b[39m\u001b[38;5;28;01mNone\u001b[39;00m, vmax\u001b[38;5;241m=\u001b[39m\u001b[38;5;28;01mNone\u001b[39;00m, alpha\u001b[38;5;241m=\u001b[39m\u001b[38;5;28;01mNone\u001b[39;00m, linewidths\u001b[38;5;241m=\u001b[39m\u001b[38;5;28;01mNone\u001b[39;00m, \u001b[38;5;241m*\u001b[39m,\n\u001b[0;32m   2861\u001b[0m         edgecolors\u001b[38;5;241m=\u001b[39m\u001b[38;5;28;01mNone\u001b[39;00m, plotnonfinite\u001b[38;5;241m=\u001b[39m\u001b[38;5;28;01mFalse\u001b[39;00m, data\u001b[38;5;241m=\u001b[39m\u001b[38;5;28;01mNone\u001b[39;00m, \u001b[38;5;241m*\u001b[39m\u001b[38;5;241m*\u001b[39mkwargs):\n\u001b[1;32m-> 2862\u001b[0m     __ret \u001b[38;5;241m=\u001b[39m gca()\u001b[38;5;241m.\u001b[39mscatter(\n\u001b[0;32m   2863\u001b[0m         x, y, s\u001b[38;5;241m=\u001b[39ms, c\u001b[38;5;241m=\u001b[39mc, marker\u001b[38;5;241m=\u001b[39mmarker, cmap\u001b[38;5;241m=\u001b[39mcmap, norm\u001b[38;5;241m=\u001b[39mnorm,\n\u001b[0;32m   2864\u001b[0m         vmin\u001b[38;5;241m=\u001b[39mvmin, vmax\u001b[38;5;241m=\u001b[39mvmax, alpha\u001b[38;5;241m=\u001b[39malpha, linewidths\u001b[38;5;241m=\u001b[39mlinewidths,\n\u001b[0;32m   2865\u001b[0m         edgecolors\u001b[38;5;241m=\u001b[39medgecolors, plotnonfinite\u001b[38;5;241m=\u001b[39mplotnonfinite,\n\u001b[0;32m   2866\u001b[0m         \u001b[38;5;241m*\u001b[39m\u001b[38;5;241m*\u001b[39m({\u001b[38;5;124m\"\u001b[39m\u001b[38;5;124mdata\u001b[39m\u001b[38;5;124m\"\u001b[39m: data} \u001b[38;5;28;01mif\u001b[39;00m data \u001b[38;5;129;01mis\u001b[39;00m \u001b[38;5;129;01mnot\u001b[39;00m \u001b[38;5;28;01mNone\u001b[39;00m \u001b[38;5;28;01melse\u001b[39;00m {}), \u001b[38;5;241m*\u001b[39m\u001b[38;5;241m*\u001b[39mkwargs)\n\u001b[0;32m   2867\u001b[0m     sci(__ret)\n\u001b[0;32m   2868\u001b[0m     \u001b[38;5;28;01mreturn\u001b[39;00m __ret\n",
      "File \u001b[1;32mC:\\Program Files\\Anaconda3\\Lib\\site-packages\\matplotlib\\__init__.py:1442\u001b[0m, in \u001b[0;36m_preprocess_data.<locals>.inner\u001b[1;34m(ax, data, *args, **kwargs)\u001b[0m\n\u001b[0;32m   1439\u001b[0m \u001b[38;5;129m@functools\u001b[39m\u001b[38;5;241m.\u001b[39mwraps(func)\n\u001b[0;32m   1440\u001b[0m \u001b[38;5;28;01mdef\u001b[39;00m \u001b[38;5;21minner\u001b[39m(ax, \u001b[38;5;241m*\u001b[39margs, data\u001b[38;5;241m=\u001b[39m\u001b[38;5;28;01mNone\u001b[39;00m, \u001b[38;5;241m*\u001b[39m\u001b[38;5;241m*\u001b[39mkwargs):\n\u001b[0;32m   1441\u001b[0m     \u001b[38;5;28;01mif\u001b[39;00m data \u001b[38;5;129;01mis\u001b[39;00m \u001b[38;5;28;01mNone\u001b[39;00m:\n\u001b[1;32m-> 1442\u001b[0m         \u001b[38;5;28;01mreturn\u001b[39;00m func(ax, \u001b[38;5;241m*\u001b[39m\u001b[38;5;28mmap\u001b[39m(sanitize_sequence, args), \u001b[38;5;241m*\u001b[39m\u001b[38;5;241m*\u001b[39mkwargs)\n\u001b[0;32m   1444\u001b[0m     bound \u001b[38;5;241m=\u001b[39m new_sig\u001b[38;5;241m.\u001b[39mbind(ax, \u001b[38;5;241m*\u001b[39margs, \u001b[38;5;241m*\u001b[39m\u001b[38;5;241m*\u001b[39mkwargs)\n\u001b[0;32m   1445\u001b[0m     auto_label \u001b[38;5;241m=\u001b[39m (bound\u001b[38;5;241m.\u001b[39marguments\u001b[38;5;241m.\u001b[39mget(label_namer)\n\u001b[0;32m   1446\u001b[0m                   \u001b[38;5;129;01mor\u001b[39;00m bound\u001b[38;5;241m.\u001b[39mkwargs\u001b[38;5;241m.\u001b[39mget(label_namer))\n",
      "File \u001b[1;32mC:\\Program Files\\Anaconda3\\Lib\\site-packages\\matplotlib\\axes\\_axes.py:4584\u001b[0m, in \u001b[0;36mAxes.scatter\u001b[1;34m(self, x, y, s, c, marker, cmap, norm, vmin, vmax, alpha, linewidths, edgecolors, plotnonfinite, **kwargs)\u001b[0m\n\u001b[0;32m   4582\u001b[0m y \u001b[38;5;241m=\u001b[39m np\u001b[38;5;241m.\u001b[39mma\u001b[38;5;241m.\u001b[39mravel(y)\n\u001b[0;32m   4583\u001b[0m \u001b[38;5;28;01mif\u001b[39;00m x\u001b[38;5;241m.\u001b[39msize \u001b[38;5;241m!=\u001b[39m y\u001b[38;5;241m.\u001b[39msize:\n\u001b[1;32m-> 4584\u001b[0m     \u001b[38;5;28;01mraise\u001b[39;00m \u001b[38;5;167;01mValueError\u001b[39;00m(\u001b[38;5;124m\"\u001b[39m\u001b[38;5;124mx and y must be the same size\u001b[39m\u001b[38;5;124m\"\u001b[39m)\n\u001b[0;32m   4586\u001b[0m \u001b[38;5;28;01mif\u001b[39;00m s \u001b[38;5;129;01mis\u001b[39;00m \u001b[38;5;28;01mNone\u001b[39;00m:\n\u001b[0;32m   4587\u001b[0m     s \u001b[38;5;241m=\u001b[39m (\u001b[38;5;241m20\u001b[39m \u001b[38;5;28;01mif\u001b[39;00m mpl\u001b[38;5;241m.\u001b[39mrcParams[\u001b[38;5;124m'\u001b[39m\u001b[38;5;124m_internal.classic_mode\u001b[39m\u001b[38;5;124m'\u001b[39m] \u001b[38;5;28;01melse\u001b[39;00m\n\u001b[0;32m   4588\u001b[0m          mpl\u001b[38;5;241m.\u001b[39mrcParams[\u001b[38;5;124m'\u001b[39m\u001b[38;5;124mlines.markersize\u001b[39m\u001b[38;5;124m'\u001b[39m] \u001b[38;5;241m*\u001b[39m\u001b[38;5;241m*\u001b[39m \u001b[38;5;241m2.0\u001b[39m)\n",
      "\u001b[1;31mValueError\u001b[0m: x and y must be the same size"
     ]
    },
    {
     "data": {
      "image/png": "[encoded data removed]",
      "text/plain": [
       "<Figure size 640x480 with 1 Axes>"
      ]
     },
     "metadata": {},
     "output_type": "display_data"
    }
   ],
   "source": [
    "plotModelResponseComparison(model,inputData,response)"
   ]
  },
  {
   "cell_type": "code",
   "execution_count": 455,
   "id": "3808ff30",
   "metadata": {},
   "outputs": [
    {
     "ename": "TypeError",
     "evalue": "object of type 'numpy.float64' has no len()",
     "output_type": "error",
     "traceback": [
      "\u001b[1;31m---------------------------------------------------------------------------\u001b[0m",
      "\u001b[1;31mTypeError\u001b[0m                                 Traceback (most recent call last)",
      "Cell \u001b[1;32mIn[455], line 1\u001b[0m\n\u001b[1;32m----> 1\u001b[0m totalSharpness(model,inputData,response,numPerturbations\u001b[38;5;241m=\u001b[39m\u001b[38;5;241m1000\u001b[39m,percentPerturbation\u001b[38;5;241m=\u001b[39m\u001b[38;5;241m0.2\u001b[39m)\n",
      "File \u001b[1;32m~\\Desktop\\HSHSP Folder\\StackGP.py:969\u001b[0m, in \u001b[0;36mtotalSharpness\u001b[1;34m(model, inputData, responseData, numPerturbations, percentPerturbation)\u001b[0m\n\u001b[0;32m    967\u001b[0m \u001b[38;5;28;01mdef\u001b[39;00m \u001b[38;5;21mtotalSharpness\u001b[39m(model,inputData,responseData,numPerturbations\u001b[38;5;241m=\u001b[39m\u001b[38;5;241m10\u001b[39m,percentPerturbation\u001b[38;5;241m=\u001b[39m\u001b[38;5;241m0.2\u001b[39m):\n\u001b[1;32m--> 969\u001b[0m     \u001b[38;5;28;01mreturn\u001b[39;00m sharpnessConstants(model,inputData,responseData,numPerturbations\u001b[38;5;241m=\u001b[39mnumPerturbations,percentPerturbation\u001b[38;5;241m=\u001b[39mpercentPerturbation)\u001b[38;5;241m+\u001b[39msharpnessData(model,inputData,responseData,numPerturbations\u001b[38;5;241m=\u001b[39mnumPerturbations,percentPerturbation\u001b[38;5;241m=\u001b[39mpercentPerturbation)\n",
      "File \u001b[1;32m~\\Desktop\\HSHSP Folder\\StackGP.py:963\u001b[0m, in \u001b[0;36msharpnessData\u001b[1;34m(model, inputData, responseData, numPerturbations, percentPerturbation)\u001b[0m\n\u001b[0;32m    961\u001b[0m \u001b[38;5;28;01mfor\u001b[39;00m i \u001b[38;5;129;01min\u001b[39;00m \u001b[38;5;28mrange\u001b[39m(numPerturbations):\n\u001b[0;32m    962\u001b[0m     tempData\u001b[38;5;241m=\u001b[39mcopy\u001b[38;5;241m.\u001b[39mdeepcopy(inputData)\n\u001b[1;32m--> 963\u001b[0m     tempData\u001b[38;5;241m=\u001b[39mnp\u001b[38;5;241m.\u001b[39marray([(vec\u001b[38;5;241m+\u001b[39mpercentPerturbation\u001b[38;5;241m*\u001b[39mnp\u001b[38;5;241m.\u001b[39mstd(vec)\u001b[38;5;241m*\u001b[39m(np\u001b[38;5;241m.\u001b[39mrandom\u001b[38;5;241m.\u001b[39muniform(size\u001b[38;5;241m=\u001b[39m\u001b[38;5;28mlen\u001b[39m(vec))\u001b[38;5;241m-\u001b[39m\u001b[38;5;241m0.5\u001b[39m)) \u001b[38;5;28;01mfor\u001b[39;00m vec \u001b[38;5;129;01min\u001b[39;00m tempData])\n\u001b[0;32m    964\u001b[0m     fits\u001b[38;5;241m.\u001b[39mappend(fitness(model,tempData,responseData))\n\u001b[0;32m    965\u001b[0m \u001b[38;5;28;01mreturn\u001b[39;00m np\u001b[38;5;241m.\u001b[39mstd(fits)\n",
      "File \u001b[1;32m~\\Desktop\\HSHSP Folder\\StackGP.py:963\u001b[0m, in \u001b[0;36m<listcomp>\u001b[1;34m(.0)\u001b[0m\n\u001b[0;32m    961\u001b[0m \u001b[38;5;28;01mfor\u001b[39;00m i \u001b[38;5;129;01min\u001b[39;00m \u001b[38;5;28mrange\u001b[39m(numPerturbations):\n\u001b[0;32m    962\u001b[0m     tempData\u001b[38;5;241m=\u001b[39mcopy\u001b[38;5;241m.\u001b[39mdeepcopy(inputData)\n\u001b[1;32m--> 963\u001b[0m     tempData\u001b[38;5;241m=\u001b[39mnp\u001b[38;5;241m.\u001b[39marray([(vec\u001b[38;5;241m+\u001b[39mpercentPerturbation\u001b[38;5;241m*\u001b[39mnp\u001b[38;5;241m.\u001b[39mstd(vec)\u001b[38;5;241m*\u001b[39m(np\u001b[38;5;241m.\u001b[39mrandom\u001b[38;5;241m.\u001b[39muniform(size\u001b[38;5;241m=\u001b[39m\u001b[38;5;28mlen\u001b[39m(vec))\u001b[38;5;241m-\u001b[39m\u001b[38;5;241m0.5\u001b[39m)) \u001b[38;5;28;01mfor\u001b[39;00m vec \u001b[38;5;129;01min\u001b[39;00m tempData])\n\u001b[0;32m    964\u001b[0m     fits\u001b[38;5;241m.\u001b[39mappend(fitness(model,tempData,responseData))\n\u001b[0;32m    965\u001b[0m \u001b[38;5;28;01mreturn\u001b[39;00m np\u001b[38;5;241m.\u001b[39mstd(fits)\n",
      "\u001b[1;31mTypeError\u001b[0m: object of type 'numpy.float64' has no len()"
     ]
    }
   ],
   "source": [
    "totalSharpness(model,inputData,response,numPerturbations=1000,percentPerturbation=0.2)"
   ]
  },
  {
   "cell_type": "code",
   "execution_count": null,
   "id": "3b2d5f5c",
   "metadata": {},
   "outputs": [],
   "source": []
  },
  {
   "cell_type": "code",
   "execution_count": null,
   "id": "361555c5",
   "metadata": {},
   "outputs": [],
   "source": []
  },
  {
   "cell_type": "code",
   "execution_count": 404,
   "id": "b90663f6",
   "metadata": {},
   "outputs": [
    {
     "data": {
      "text/plain": [
       "[<function StackGP.protectDiv(a, b)>,\n",
       " <function StackGP.add(a, b)>,\n",
       " <function StackGP.sub(a, b)>,\n",
       " <function StackGP.mult(a, b)>,\n",
       " <function StackGP.exp(a)>,\n",
       " <function StackGP.sqrd(a)>,\n",
       " <function StackGP.sqrt(a)>,\n",
       " <function StackGP.inv(a)>,\n",
       " <function StackGP.cos(a)>,\n",
       " <function StackGP.sin(a)>,\n",
       " <function StackGP.tan(a)>,\n",
       " <function StackGP.arccos(a)>,\n",
       " <function StackGP.arcsin(a)>,\n",
       " <function StackGP.arctan(a)>,\n",
       " <function StackGP.tanh(a)>,\n",
       " <function StackGP.log(a)>,\n",
       " 'pop',\n",
       " 'pop',\n",
       " 'pop',\n",
       " 'pop',\n",
       " 'pop',\n",
       " 'pop',\n",
       " 'pop',\n",
       " 'pop',\n",
       " 'pop',\n",
       " 'pop']"
      ]
     },
     "execution_count": 404,
     "metadata": {},
     "output_type": "execute_result"
    }
   ],
   "source": [
    "operators"
   ]
  },
  {
   "cell_type": "code",
   "execution_count": 405,
   "id": "84f70bf5",
   "metadata": {},
   "outputs": [],
   "source": [
    "subModel=[np.array([operators[3]]),[variableSelect(0),1],[]]"
   ]
  },
  {
   "cell_type": "code",
   "execution_count": 406,
   "id": "b53ec415",
   "metadata": {},
   "outputs": [
    {
     "data": {
      "text/plain": [
       "[array([<function mult at 0x000002140CE46FC0>], dtype=object),\n",
       " [<function StackGP.variableSelect.<locals>.<lambda>(variables)>, 1],\n",
       " []]"
      ]
     },
     "execution_count": 406,
     "metadata": {},
     "output_type": "execute_result"
    }
   ],
   "source": [
    "subModel"
   ]
  },
  {
   "cell_type": "code",
   "execution_count": 407,
   "id": "a53556b6",
   "metadata": {},
   "outputs": [
    {
     "data": {
      "text/plain": [
       "0.0009726411558364929"
      ]
     },
     "execution_count": 407,
     "metadata": {},
     "output_type": "execute_result"
    }
   ],
   "source": [
    "totalSharpness(subModel,inputData,response,numPerturbations=1000,percentPerturbation=0.2)"
   ]
  },
  {
   "cell_type": "code",
   "execution_count": null,
   "id": "38637d41",
   "metadata": {},
   "outputs": [],
   "source": []
  },
  {
   "cell_type": "code",
   "execution_count": null,
   "id": "3dc835a3",
   "metadata": {},
   "outputs": [],
   "source": []
  },
  {
   "cell_type": "code",
   "execution_count": 408,
   "id": "4a264362",
   "metadata": {},
   "outputs": [
    {
     "data": {
      "text/plain": [
       "[<function StackGP.protectDiv(a, b)>,\n",
       " <function StackGP.add(a, b)>,\n",
       " <function StackGP.sub(a, b)>,\n",
       " <function StackGP.mult(a, b)>,\n",
       " <function StackGP.exp(a)>,\n",
       " <function StackGP.sqrd(a)>,\n",
       " <function StackGP.sqrt(a)>,\n",
       " <function StackGP.inv(a)>,\n",
       " <function StackGP.cos(a)>,\n",
       " <function StackGP.sin(a)>,\n",
       " <function StackGP.tan(a)>,\n",
       " <function StackGP.arccos(a)>,\n",
       " <function StackGP.arcsin(a)>,\n",
       " <function StackGP.arctan(a)>,\n",
       " <function StackGP.tanh(a)>,\n",
       " <function StackGP.log(a)>,\n",
       " 'pop',\n",
       " 'pop',\n",
       " 'pop',\n",
       " 'pop',\n",
       " 'pop',\n",
       " 'pop',\n",
       " 'pop',\n",
       " 'pop',\n",
       " 'pop',\n",
       " 'pop']"
      ]
     },
     "execution_count": 408,
     "metadata": {},
     "output_type": "execute_result"
    }
   ],
   "source": [
    "operators"
   ]
  },
  {
   "cell_type": "code",
   "execution_count": 409,
   "id": "b5138cbc",
   "metadata": {},
   "outputs": [],
   "source": [
    "addModel=[np.array([operators[3]]),[variableSelect(0),1],[]]"
   ]
  },
  {
   "cell_type": "code",
   "execution_count": 410,
   "id": "3b900441",
   "metadata": {},
   "outputs": [
    {
     "data": {
      "text/plain": [
       "[array([<function mult at 0x000002140CE46FC0>], dtype=object),\n",
       " [<function StackGP.variableSelect.<locals>.<lambda>(variables)>, 1],\n",
       " []]"
      ]
     },
     "execution_count": 410,
     "metadata": {},
     "output_type": "execute_result"
    }
   ],
   "source": [
    "addModel"
   ]
  },
  {
   "cell_type": "code",
   "execution_count": 411,
   "id": "7ea6438b",
   "metadata": {},
   "outputs": [
    {
     "data": {
      "text/plain": [
       "0.0009618161855332506"
      ]
     },
     "execution_count": 411,
     "metadata": {},
     "output_type": "execute_result"
    }
   ],
   "source": [
    "totalSharpness(addModel,inputData,response,numPerturbations=1000,percentPerturbation=0.2)"
   ]
  },
  {
   "cell_type": "code",
   "execution_count": null,
   "id": "73168e71",
   "metadata": {},
   "outputs": [],
   "source": []
  },
  {
   "cell_type": "code",
   "execution_count": null,
   "id": "2eed31ad",
   "metadata": {},
   "outputs": [],
   "source": []
  },
  {
   "cell_type": "code",
   "execution_count": 412,
   "id": "486998bd",
   "metadata": {},
   "outputs": [
    {
     "data": {
      "text/plain": [
       "[<function StackGP.protectDiv(a, b)>,\n",
       " <function StackGP.add(a, b)>,\n",
       " <function StackGP.sub(a, b)>,\n",
       " <function StackGP.mult(a, b)>,\n",
       " <function StackGP.exp(a)>,\n",
       " <function StackGP.sqrd(a)>,\n",
       " <function StackGP.sqrt(a)>,\n",
       " <function StackGP.inv(a)>,\n",
       " <function StackGP.cos(a)>,\n",
       " <function StackGP.sin(a)>,\n",
       " <function StackGP.tan(a)>,\n",
       " <function StackGP.arccos(a)>,\n",
       " <function StackGP.arcsin(a)>,\n",
       " <function StackGP.arctan(a)>,\n",
       " <function StackGP.tanh(a)>,\n",
       " <function StackGP.log(a)>,\n",
       " 'pop',\n",
       " 'pop',\n",
       " 'pop',\n",
       " 'pop',\n",
       " 'pop',\n",
       " 'pop',\n",
       " 'pop',\n",
       " 'pop',\n",
       " 'pop',\n",
       " 'pop']"
      ]
     },
     "execution_count": 412,
     "metadata": {},
     "output_type": "execute_result"
    }
   ],
   "source": [
    "operators"
   ]
  },
  {
   "cell_type": "code",
   "execution_count": 413,
   "id": "ed4cb0a8",
   "metadata": {},
   "outputs": [],
   "source": [
    "protectDivModel=[np.array([operators[3]]),[variableSelect(0),1],[]]"
   ]
  },
  {
   "cell_type": "code",
   "execution_count": 414,
   "id": "73b754be",
   "metadata": {},
   "outputs": [
    {
     "data": {
      "text/plain": [
       "[array([<function mult at 0x000002140CE46FC0>], dtype=object),\n",
       " [<function StackGP.variableSelect.<locals>.<lambda>(variables)>, 1],\n",
       " []]"
      ]
     },
     "execution_count": 414,
     "metadata": {},
     "output_type": "execute_result"
    }
   ],
   "source": [
    "protectDivModel"
   ]
  },
  {
   "cell_type": "code",
   "execution_count": 415,
   "id": "93373d17",
   "metadata": {},
   "outputs": [
    {
     "data": {
      "text/plain": [
       "0.0009575235521734584"
      ]
     },
     "execution_count": 415,
     "metadata": {},
     "output_type": "execute_result"
    }
   ],
   "source": [
    "totalSharpness(protectDivModel,inputData,response,numPerturbations=1000,percentPerturbation=0.2)"
   ]
  },
  {
   "cell_type": "code",
   "execution_count": null,
   "id": "f1119dd8",
   "metadata": {},
   "outputs": [],
   "source": []
  },
  {
   "cell_type": "code",
   "execution_count": null,
   "id": "9a04ceeb",
   "metadata": {},
   "outputs": [],
   "source": []
  },
  {
   "cell_type": "code",
   "execution_count": 416,
   "id": "ccb77255",
   "metadata": {},
   "outputs": [
    {
     "data": {
      "text/plain": [
       "[<function StackGP.protectDiv(a, b)>,\n",
       " <function StackGP.add(a, b)>,\n",
       " <function StackGP.sub(a, b)>,\n",
       " <function StackGP.mult(a, b)>,\n",
       " <function StackGP.exp(a)>,\n",
       " <function StackGP.sqrd(a)>,\n",
       " <function StackGP.sqrt(a)>,\n",
       " <function StackGP.inv(a)>,\n",
       " <function StackGP.cos(a)>,\n",
       " <function StackGP.sin(a)>,\n",
       " <function StackGP.tan(a)>,\n",
       " <function StackGP.arccos(a)>,\n",
       " <function StackGP.arcsin(a)>,\n",
       " <function StackGP.arctan(a)>,\n",
       " <function StackGP.tanh(a)>,\n",
       " <function StackGP.log(a)>,\n",
       " 'pop',\n",
       " 'pop',\n",
       " 'pop',\n",
       " 'pop',\n",
       " 'pop',\n",
       " 'pop',\n",
       " 'pop',\n",
       " 'pop',\n",
       " 'pop',\n",
       " 'pop']"
      ]
     },
     "execution_count": 416,
     "metadata": {},
     "output_type": "execute_result"
    }
   ],
   "source": [
    "operators"
   ]
  },
  {
   "cell_type": "code",
   "execution_count": 417,
   "id": "bbef732a",
   "metadata": {},
   "outputs": [],
   "source": [
    "multModel=[np.array([operators[3]]),[variableSelect(0),1],[]]"
   ]
  },
  {
   "cell_type": "code",
   "execution_count": 418,
   "id": "97c94d0a",
   "metadata": {},
   "outputs": [
    {
     "data": {
      "text/plain": [
       "[array([<function mult at 0x000002140CE46FC0>], dtype=object),\n",
       " [<function StackGP.variableSelect.<locals>.<lambda>(variables)>, 1],\n",
       " []]"
      ]
     },
     "execution_count": 418,
     "metadata": {},
     "output_type": "execute_result"
    }
   ],
   "source": [
    "multModel"
   ]
  },
  {
   "cell_type": "code",
   "execution_count": 419,
   "id": "df129d8f",
   "metadata": {},
   "outputs": [
    {
     "data": {
      "text/plain": [
       "0.0009435754573731192"
      ]
     },
     "execution_count": 419,
     "metadata": {},
     "output_type": "execute_result"
    }
   ],
   "source": [
    "totalSharpness(multModel,inputData,response,numPerturbations=1000,percentPerturbation=0.2)"
   ]
  },
  {
   "cell_type": "code",
   "execution_count": null,
   "id": "83dbcd06",
   "metadata": {},
   "outputs": [],
   "source": []
  },
  {
   "cell_type": "code",
   "execution_count": 428,
   "id": "e5fbbc15",
   "metadata": {
    "scrolled": false
   },
   "outputs": [
    {
     "data": {
      "image/png": "[encoded data removed]",
      "text/plain": [
       "<Figure size 1000x500 with 1 Axes>"
      ]
     },
     "metadata": {},
     "output_type": "display_data"
    }
   ],
   "source": [
    "import numpy as np\n",
    "import matplotlib.pyplot as plt \n",
    "\n",
    "\n",
    "# creating the dataset\n",
    "data = {'cos':0.018235273, 'sqrt':0.01807256064, 'exp':0.0179815, 'tan':0.0179788549, 'arcsin':0.017908994952, 'log':0.01778498690325, 'sin':0.0177216577330, 'Inv':0.0176831633, 'sqrd':0.017569394552, 'arccos':0.01749439296,  'arctan':0.017254008548327, 'tanh':0.017254008548327544,}\n",
    "courses = list(data.keys())\n",
    "values = list(data.values())\n",
    "\n",
    "fig = plt.figure(figsize = (10, 5))\n",
    "\n",
    "# creating the bar plot\n",
    "plt.bar(courses, values, color ='maroon', \n",
    "\t\twidth = 0.4)\n",
    "\n",
    "plt.xlabel(\"Function\")\n",
    "plt.ylabel(\"Sharpness\")\n",
    "plt.title(\"Sharpness levels for each function\")\n",
    "plt.show()\n"
   ]
  },
  {
   "cell_type": "code",
   "execution_count": null,
   "id": "910997e1",
   "metadata": {},
   "outputs": [],
   "source": []
  },
  {
   "cell_type": "code",
   "execution_count": 457,
   "id": "44b6c6cf",
   "metadata": {},
   "outputs": [
    {
     "data": {
      "image/png": "[encoded data removed]",
      "text/plain": [
       "<Figure size 1000x500 with 1 Axes>"
      ]
     },
     "metadata": {},
     "output_type": "display_data"
    }
   ],
   "source": [
    "import numpy as np\n",
    "import matplotlib.pyplot as plt \n",
    "\n",
    "\n",
    "# creating the dataset\n",
    "data = {'inv':0.01822487752, 'sqrt':0.018178077207, 'cos':0.01801060758, 'log':0.01807301111, 'arcsin':0.01799667270, 'arctan':0.017897321, 'exp':0.01785787338666, 'tanh':0.0178260656, 'sqrd':0.01772415938, 'arccos':0.01760394437, 'tan':0.0173476522517, 'sin':0.01730413614 }\n",
    "courses = list(data.keys())\n",
    "values = list(data.values())\n",
    "\n",
    "fig = plt.figure(figsize = (10, 5))\n",
    "\n",
    "# creating the bar plot\n",
    "plt.bar(courses, values, color ='maroon', \n",
    "\t\twidth = 0.4)\n",
    "\n",
    "plt.xlabel(\"Function\")\n",
    "plt.ylabel(\"Sharpness\")\n",
    "plt.title(\"Sharpness for each function\")\n",
    "plt.show()\n"
   ]
  },
  {
   "cell_type": "markdown",
   "id": "ebfa29c2",
   "metadata": {},
   "source": [
    "# New Data Range [-1,1]"
   ]
  },
  {
   "cell_type": "code",
   "execution_count": 444,
   "id": "251cc033",
   "metadata": {},
   "outputs": [],
   "source": [
    "import matplotlib.pyplot as plt"
   ]
  },
  {
   "cell_type": "code",
   "execution_count": 483,
   "id": "d62a07f6",
   "metadata": {},
   "outputs": [],
   "source": [
    "inputData=np.array([np.arange(-1,1,.0013)])\n",
    "response=inputData[0]"
   ]
  },
  {
   "cell_type": "code",
   "execution_count": 484,
   "id": "e9be2f83",
   "metadata": {},
   "outputs": [
    {
     "data": {
      "text/plain": [
       "<matplotlib.collections.PathCollection at 0x21412349610>"
      ]
     },
     "execution_count": 484,
     "metadata": {},
     "output_type": "execute_result"
    },
    {
     "data": {
      "image/png": "[encoded data removed]",
      "text/plain": [
       "<Figure size 640x480 with 1 Axes>"
      ]
     },
     "metadata": {},
     "output_type": "display_data"
    }
   ],
   "source": [
    "plt.scatter(inputData[0],response)"
   ]
  },
  {
   "cell_type": "code",
   "execution_count": 475,
   "id": "67d1b505",
   "metadata": {},
   "outputs": [
    {
     "data": {
      "text/plain": [
       "array([[0.05578568]])"
      ]
     },
     "execution_count": 475,
     "metadata": {},
     "output_type": "execute_result"
    }
   ],
   "source": [
    "response"
   ]
  },
  {
   "cell_type": "code",
   "execution_count": 486,
   "id": "7583d4f3",
   "metadata": {},
   "outputs": [
    {
     "data": {
      "text/plain": [
       "0.0004442089230470933"
      ]
     },
     "execution_count": 486,
     "metadata": {},
     "output_type": "execute_result"
    }
   ],
   "source": [
    "totalSharpness(invModel,inputData,response,numPerturbations=1000,percentPerturbation=0.2)"
   ]
  },
  {
   "cell_type": "code",
   "execution_count": 487,
   "id": "0961371b",
   "metadata": {},
   "outputs": [
    {
     "data": {
      "text/plain": [
       "0.0001118545175642255"
      ]
     },
     "execution_count": 487,
     "metadata": {},
     "output_type": "execute_result"
    }
   ],
   "source": [
    "totalSharpness(sinModel,inputData,response)"
   ]
  },
  {
   "cell_type": "code",
   "execution_count": 456,
   "id": "d028fc76",
   "metadata": {},
   "outputs": [],
   "source": [
    "multModel=[np.array([operators[3]]),[variableSelect(0),1],[]]"
   ]
  },
  {
   "cell_type": "code",
   "execution_count": 458,
   "id": "7c72f68c",
   "metadata": {},
   "outputs": [],
   "source": [
    "inputData=np.arange(-1,1,0.01730413614)\n",
    "response=np.random.rand(1,len(inputData))"
   ]
  },
  {
   "cell_type": "code",
   "execution_count": 459,
   "id": "d9f54c10",
   "metadata": {},
   "outputs": [
    {
     "data": {
      "text/plain": [
       "<matplotlib.collections.PathCollection at 0x214112b6490>"
      ]
     },
     "execution_count": 459,
     "metadata": {},
     "output_type": "execute_result"
    },
    {
     "data": {
      "image/png": "[encoded data removed]",
      "text/plain": [
       "<Figure size 640x480 with 1 Axes>"
      ]
     },
     "metadata": {},
     "output_type": "display_data"
    }
   ],
   "source": [
    "plt.scatter(inputData,response)"
   ]
  },
  {
   "cell_type": "code",
   "execution_count": null,
   "id": "2d846182",
   "metadata": {},
   "outputs": [],
   "source": []
  },
  {
   "cell_type": "code",
   "execution_count": null,
   "id": "e644db1b",
   "metadata": {},
   "outputs": [],
   "source": []
  },
  {
   "cell_type": "code",
   "execution_count": 488,
   "id": "dc33767b",
   "metadata": {},
   "outputs": [
    {
     "data": {
      "text/plain": [
       "0.0005981664351942336"
      ]
     },
     "execution_count": 488,
     "metadata": {},
     "output_type": "execute_result"
    }
   ],
   "source": [
    "totalSharpness(invModel,inputData,response,numPerturbations=1000,percentPerturbation=0.2)"
   ]
  },
  {
   "cell_type": "code",
   "execution_count": null,
   "id": "fe879d4d",
   "metadata": {},
   "outputs": [],
   "source": []
  },
  {
   "cell_type": "code",
   "execution_count": 489,
   "id": "da23e30e",
   "metadata": {},
   "outputs": [
    {
     "data": {
      "text/plain": [
       "nan"
      ]
     },
     "execution_count": 489,
     "metadata": {},
     "output_type": "execute_result"
    }
   ],
   "source": [
    "totalSharpness(sqrtModel,inputData,response,numPerturbations=1000,percentPerturbation=0.2)"
   ]
  },
  {
   "cell_type": "code",
   "execution_count": null,
   "id": "945f94ef",
   "metadata": {},
   "outputs": [],
   "source": []
  },
  {
   "cell_type": "code",
   "execution_count": 490,
   "id": "df3e3147",
   "metadata": {},
   "outputs": [
    {
     "data": {
      "text/plain": [
       "2.834477490192447e-05"
      ]
     },
     "execution_count": 490,
     "metadata": {},
     "output_type": "execute_result"
    }
   ],
   "source": [
    "totalSharpness(cosModel,inputData,response,numPerturbations=1000,percentPerturbation=0.2)"
   ]
  },
  {
   "cell_type": "code",
   "execution_count": null,
   "id": "1aa4eb1c",
   "metadata": {},
   "outputs": [],
   "source": []
  },
  {
   "cell_type": "code",
   "execution_count": 491,
   "id": "a746f3db",
   "metadata": {},
   "outputs": [
    {
     "data": {
      "text/plain": [
       "nan"
      ]
     },
     "execution_count": 491,
     "metadata": {},
     "output_type": "execute_result"
    }
   ],
   "source": [
    "totalSharpness(logModel,inputData,response,numPerturbations=1000,percentPerturbation=0.2)"
   ]
  },
  {
   "cell_type": "code",
   "execution_count": null,
   "id": "a9fd583e",
   "metadata": {},
   "outputs": [],
   "source": []
  },
  {
   "cell_type": "code",
   "execution_count": 492,
   "id": "cb767b92",
   "metadata": {},
   "outputs": [
    {
     "data": {
      "text/plain": [
       "nan"
      ]
     },
     "execution_count": 492,
     "metadata": {},
     "output_type": "execute_result"
    }
   ],
   "source": [
    "totalSharpness(arcsinModel,inputData,response,numPerturbations=1000,percentPerturbation=0.2)"
   ]
  },
  {
   "cell_type": "code",
   "execution_count": null,
   "id": "82efb36a",
   "metadata": {},
   "outputs": [],
   "source": []
  },
  {
   "cell_type": "code",
   "execution_count": 493,
   "id": "94732e7c",
   "metadata": {},
   "outputs": [
    {
     "data": {
      "text/plain": [
       "0.00016185801464028957"
      ]
     },
     "execution_count": 493,
     "metadata": {},
     "output_type": "execute_result"
    }
   ],
   "source": [
    "totalSharpness(arctanModel,inputData,response,numPerturbations=1000,percentPerturbation=0.2)"
   ]
  },
  {
   "cell_type": "code",
   "execution_count": null,
   "id": "01b29df5",
   "metadata": {},
   "outputs": [],
   "source": []
  },
  {
   "cell_type": "code",
   "execution_count": 494,
   "id": "13a1ddc4",
   "metadata": {},
   "outputs": [
    {
     "data": {
      "text/plain": [
       "2.7142735702267755e-05"
      ]
     },
     "execution_count": 494,
     "metadata": {},
     "output_type": "execute_result"
    }
   ],
   "source": [
    "totalSharpness(expModel,inputData,response,numPerturbations=1000,percentPerturbation=0.2)"
   ]
  },
  {
   "cell_type": "code",
   "execution_count": null,
   "id": "23c45b1b",
   "metadata": {},
   "outputs": [],
   "source": []
  },
  {
   "cell_type": "code",
   "execution_count": 495,
   "id": "e2353206",
   "metadata": {},
   "outputs": [
    {
     "data": {
      "text/plain": [
       "0.00018154317715821414"
      ]
     },
     "execution_count": 495,
     "metadata": {},
     "output_type": "execute_result"
    }
   ],
   "source": [
    "totalSharpness(tanhModel,inputData,response,numPerturbations=1000,percentPerturbation=0.2)"
   ]
  },
  {
   "cell_type": "code",
   "execution_count": null,
   "id": "09c522a0",
   "metadata": {},
   "outputs": [],
   "source": []
  },
  {
   "cell_type": "code",
   "execution_count": 496,
   "id": "67f290ac",
   "metadata": {},
   "outputs": [
    {
     "data": {
      "text/plain": [
       "3.0759390069009334e-05"
      ]
     },
     "execution_count": 496,
     "metadata": {},
     "output_type": "execute_result"
    }
   ],
   "source": [
    "totalSharpness(sqrdModel,inputData,response,numPerturbations=1000,percentPerturbation=0.2)"
   ]
  },
  {
   "cell_type": "code",
   "execution_count": null,
   "id": "1d7200d5",
   "metadata": {},
   "outputs": [],
   "source": []
  },
  {
   "cell_type": "code",
   "execution_count": 497,
   "id": "11464be7",
   "metadata": {},
   "outputs": [
    {
     "data": {
      "text/plain": [
       "nan"
      ]
     },
     "execution_count": 497,
     "metadata": {},
     "output_type": "execute_result"
    }
   ],
   "source": [
    "totalSharpness(arccosModel,inputData,response,numPerturbations=1000,percentPerturbation=0.2)"
   ]
  },
  {
   "cell_type": "code",
   "execution_count": null,
   "id": "903d05f9",
   "metadata": {},
   "outputs": [],
   "source": []
  },
  {
   "cell_type": "code",
   "execution_count": 498,
   "id": "830deb83",
   "metadata": {},
   "outputs": [
    {
     "data": {
      "text/plain": [
       "0.0006078756243046488"
      ]
     },
     "execution_count": 498,
     "metadata": {},
     "output_type": "execute_result"
    }
   ],
   "source": [
    "totalSharpness(tanModel,inputData,response,numPerturbations=1000,percentPerturbation=0.2)"
   ]
  },
  {
   "cell_type": "code",
   "execution_count": null,
   "id": "0f9c1058",
   "metadata": {},
   "outputs": [],
   "source": []
  },
  {
   "cell_type": "code",
   "execution_count": 499,
   "id": "591a9f48",
   "metadata": {},
   "outputs": [
    {
     "data": {
      "text/plain": [
       "0.00013092823311483924"
      ]
     },
     "execution_count": 499,
     "metadata": {},
     "output_type": "execute_result"
    }
   ],
   "source": [
    "totalSharpness(sinModel,inputData,response,numPerturbations=1000,percentPerturbation=0.2)"
   ]
  },
  {
   "cell_type": "code",
   "execution_count": null,
   "id": "c8ed3056",
   "metadata": {},
   "outputs": [],
   "source": []
  },
  {
   "cell_type": "code",
   "execution_count": null,
   "id": "e3d6bbdd",
   "metadata": {},
   "outputs": [],
   "source": []
  },
  {
   "cell_type": "code",
   "execution_count": null,
   "id": "cb32876a",
   "metadata": {},
   "outputs": [],
   "source": []
  },
  {
   "cell_type": "code",
   "execution_count": 520,
   "id": "ab916c9c",
   "metadata": {},
   "outputs": [
    {
     "data": {
      "image/png": "[encoded data removed]",
      "text/plain": [
       "<Figure size 1000x500 with 1 Axes>"
      ]
     },
     "metadata": {},
     "output_type": "display_data"
    }
   ],
   "source": [
    "import numpy as np\n",
    "import matplotlib.pyplot as plt \n",
    "\n",
    "\n",
    "# creating the dataset\n",
    "data = {'sqrt':1,'log':1,'arcsin':1,'arccos':1,'tan':0.00060787562430,'inv':0.000598166,'sqrd':0.00030759390069,'tanh':0.000181543177158,'arctan':0.000161858,'sin':0.000130928233114,'cos':0.0000283447749,'exp':0.000027142735}\n",
    "courses = list(data.keys())\n",
    "values = list(data.values())\n",
    "\n",
    "fig = plt.figure(figsize = (10, 5))\n",
    "\n",
    "# creating the bar plot\n",
    "plt.bar(courses, values, color ='maroon', \n",
    "\t\twidth = 0.4)\n",
    "\n",
    "plt.xlabel(\"Function\")\n",
    "plt.ylabel(\"Sharpness\")\n",
    "plt.title(\"Sharpness for each function\")\n",
    "plt.yscale(\"log\")\n",
    "plt.show()\n"
   ]
  },
  {
   "cell_type": "markdown",
   "id": "ae1afdb5",
   "metadata": {},
   "source": [
    "# Data Range [1,1000]"
   ]
  },
  {
   "cell_type": "code",
   "execution_count": 521,
   "id": "493a28f2",
   "metadata": {},
   "outputs": [],
   "source": [
    "inputData=np.array([np.arange(1,1000,.1)])\n",
    "response=inputData[0]"
   ]
  },
  {
   "cell_type": "code",
   "execution_count": 522,
   "id": "8f70b9ed",
   "metadata": {},
   "outputs": [
    {
     "data": {
      "text/plain": [
       "0.00011631882219566888"
      ]
     },
     "execution_count": 522,
     "metadata": {},
     "output_type": "execute_result"
    }
   ],
   "source": [
    "totalSharpness(invModel,inputData,response,numPerturbations=1000,percentPerturbation=0.2)"
   ]
  },
  {
   "cell_type": "code",
   "execution_count": null,
   "id": "0b2ca082",
   "metadata": {},
   "outputs": [],
   "source": []
  },
  {
   "cell_type": "code",
   "execution_count": 523,
   "id": "dd7240b8",
   "metadata": {},
   "outputs": [
    {
     "data": {
      "text/plain": [
       "nan"
      ]
     },
     "execution_count": 523,
     "metadata": {},
     "output_type": "execute_result"
    }
   ],
   "source": [
    "totalSharpness(sqrtModel,inputData,response,numPerturbations=1000,percentPerturbation=0.2)"
   ]
  },
  {
   "cell_type": "code",
   "execution_count": 524,
   "id": "436bab34",
   "metadata": {},
   "outputs": [
    {
     "data": {
      "text/plain": [
       "0.00015087648213332896"
      ]
     },
     "execution_count": 524,
     "metadata": {},
     "output_type": "execute_result"
    }
   ],
   "source": [
    "totalSharpness(cosModel,inputData,response,numPerturbations=1000,percentPerturbation=0.2)"
   ]
  },
  {
   "cell_type": "code",
   "execution_count": null,
   "id": "0bdf8eaa",
   "metadata": {},
   "outputs": [],
   "source": []
  },
  {
   "cell_type": "code",
   "execution_count": 525,
   "id": "ea8f96a4",
   "metadata": {},
   "outputs": [
    {
     "data": {
      "text/plain": [
       "0.0018764808903652356"
      ]
     },
     "execution_count": 525,
     "metadata": {},
     "output_type": "execute_result"
    }
   ],
   "source": [
    "totalSharpness(arctanModel,inputData,response,numPerturbations=1000,percentPerturbation=0.2)"
   ]
  },
  {
   "cell_type": "code",
   "execution_count": null,
   "id": "7c0df63d",
   "metadata": {},
   "outputs": [],
   "source": []
  },
  {
   "cell_type": "code",
   "execution_count": 526,
   "id": "c59b92fe",
   "metadata": {},
   "outputs": [
    {
     "data": {
      "text/plain": [
       "nan"
      ]
     },
     "execution_count": 526,
     "metadata": {},
     "output_type": "execute_result"
    }
   ],
   "source": [
    "totalSharpness(logModel,inputData,response,numPerturbations=1000,percentPerturbation=0.2)"
   ]
  },
  {
   "cell_type": "code",
   "execution_count": null,
   "id": "c52b91b4",
   "metadata": {},
   "outputs": [],
   "source": []
  },
  {
   "cell_type": "code",
   "execution_count": 527,
   "id": "aad102e3",
   "metadata": {},
   "outputs": [
    {
     "data": {
      "text/plain": [
       "nan"
      ]
     },
     "execution_count": 527,
     "metadata": {},
     "output_type": "execute_result"
    }
   ],
   "source": [
    "totalSharpness(arcsinModel,inputData,response,numPerturbations=1000,percentPerturbation=0.2)"
   ]
  },
  {
   "cell_type": "code",
   "execution_count": null,
   "id": "a6aa509c",
   "metadata": {},
   "outputs": [],
   "source": []
  },
  {
   "cell_type": "code",
   "execution_count": 528,
   "id": "6c131a81",
   "metadata": {},
   "outputs": [
    {
     "data": {
      "text/plain": [
       "0.0002737586600024283"
      ]
     },
     "execution_count": 528,
     "metadata": {},
     "output_type": "execute_result"
    }
   ],
   "source": [
    "totalSharpness(expModel,inputData,response,numPerturbations=1000,percentPerturbation=0.2)"
   ]
  },
  {
   "cell_type": "code",
   "execution_count": null,
   "id": "fc331590",
   "metadata": {},
   "outputs": [],
   "source": []
  },
  {
   "cell_type": "code",
   "execution_count": 529,
   "id": "74868b77",
   "metadata": {},
   "outputs": [
    {
     "data": {
      "text/plain": [
       "0.00027964218236638683"
      ]
     },
     "execution_count": 529,
     "metadata": {},
     "output_type": "execute_result"
    }
   ],
   "source": [
    "totalSharpness(sqrdModel,inputData,response,numPerturbations=1000,percentPerturbation=0.2)"
   ]
  },
  {
   "cell_type": "code",
   "execution_count": null,
   "id": "77ba316f",
   "metadata": {},
   "outputs": [],
   "source": []
  },
  {
   "cell_type": "code",
   "execution_count": 530,
   "id": "b66ae3c2",
   "metadata": {},
   "outputs": [
    {
     "data": {
      "text/plain": [
       "nan"
      ]
     },
     "execution_count": 530,
     "metadata": {},
     "output_type": "execute_result"
    }
   ],
   "source": [
    "totalSharpness(arccosModel,inputData,response,numPerturbations=1000,percentPerturbation=0.2)"
   ]
  },
  {
   "cell_type": "code",
   "execution_count": null,
   "id": "ce0ecc0c",
   "metadata": {},
   "outputs": [],
   "source": []
  },
  {
   "cell_type": "code",
   "execution_count": 531,
   "id": "55306e4f",
   "metadata": {},
   "outputs": [
    {
     "data": {
      "text/plain": [
       "0.0019437508817804993"
      ]
     },
     "execution_count": 531,
     "metadata": {},
     "output_type": "execute_result"
    }
   ],
   "source": [
    "totalSharpness(tanhModel,inputData,response,numPerturbations=1000,percentPerturbation=0.2)"
   ]
  },
  {
   "cell_type": "code",
   "execution_count": null,
   "id": "a5e111a5",
   "metadata": {},
   "outputs": [],
   "source": []
  },
  {
   "cell_type": "code",
   "execution_count": 532,
   "id": "6f4d0ac1",
   "metadata": {},
   "outputs": [
    {
     "data": {
      "text/plain": [
       "0.00011846837080368163"
      ]
     },
     "execution_count": 532,
     "metadata": {},
     "output_type": "execute_result"
    }
   ],
   "source": [
    "totalSharpness(tanModel,inputData,response,numPerturbations=1000,percentPerturbation=0.2)"
   ]
  },
  {
   "cell_type": "code",
   "execution_count": null,
   "id": "e5ed393f",
   "metadata": {},
   "outputs": [],
   "source": []
  },
  {
   "cell_type": "code",
   "execution_count": 533,
   "id": "97126821",
   "metadata": {},
   "outputs": [
    {
     "data": {
      "text/plain": [
       "0.00014448538336184224"
      ]
     },
     "execution_count": 533,
     "metadata": {},
     "output_type": "execute_result"
    }
   ],
   "source": [
    "totalSharpness(sinModel,inputData,response,numPerturbations=1000,percentPerturbation=0.2)"
   ]
  },
  {
   "cell_type": "code",
   "execution_count": null,
   "id": "a6bf4463",
   "metadata": {},
   "outputs": [],
   "source": []
  },
  {
   "cell_type": "code",
   "execution_count": null,
   "id": "69cb42ce",
   "metadata": {},
   "outputs": [],
   "source": []
  },
  {
   "cell_type": "code",
   "execution_count": 535,
   "id": "efe16a5e",
   "metadata": {},
   "outputs": [
    {
     "data": {
      "image/png": "[encoded data removed]",
      "text/plain": [
       "<Figure size 1000x500 with 1 Axes>"
      ]
     },
     "metadata": {},
     "output_type": "display_data"
    }
   ],
   "source": [
    "import numpy as np\n",
    "import matplotlib.pyplot as plt \n",
    "\n",
    "\n",
    "# creating the dataset\n",
    "data = {'sqrt':1,'log':1,'arcsin':1,'arccos':1,'tanh':0.00194375088,'arctan':0.00187648,'sqrd':0.00027964218,'exp':0.000273758,'cos':0.00015087648,'sin':0.00014448538336,'tan':0.0001184683708,'inv':0.0001163188}\n",
    "courses = list(data.keys())\n",
    "values = list(data.values())\n",
    "\n",
    "fig = plt.figure(figsize = (10, 5))\n",
    "\n",
    "# creating the bar plot\n",
    "plt.bar(courses, values, color ='maroon', \n",
    "\t\twidth = 0.4)\n",
    "\n",
    "plt.xlabel(\"Function\")\n",
    "plt.ylabel(\"Sharpness\")\n",
    "plt.title(\"Sharpness for each function\")\n",
    "plt.yscale(\"log\")\n",
    "plt.show()\n"
   ]
  },
  {
   "cell_type": "markdown",
   "id": "0af33355",
   "metadata": {},
   "source": [
    "# Intrinsic Sharpness Data Range [1,1000]"
   ]
  },
  {
   "cell_type": "code",
   "execution_count": 38,
   "id": "0a9730bc",
   "metadata": {},
   "outputs": [],
   "source": [
    "from StackGP import *\n",
    "import numpy as np"
   ]
  },
  {
   "cell_type": "code",
   "execution_count": 39,
   "id": "7f8085bf",
   "metadata": {},
   "outputs": [],
   "source": [
    "inputData=np.array([np.arange(1,1000,.1)])"
   ]
  },
  {
   "cell_type": "code",
   "execution_count": 40,
   "id": "38286190",
   "metadata": {},
   "outputs": [],
   "source": [
    "response=sinFunc(inputData[0])"
   ]
  },
  {
   "cell_type": "code",
   "execution_count": 41,
   "id": "6c38ffb7",
   "metadata": {},
   "outputs": [
    {
     "ename": "NameError",
     "evalue": "name 'sinModel' is not defined",
     "output_type": "error",
     "traceback": [
      "\u001b[1;31m---------------------------------------------------------------------------\u001b[0m",
      "\u001b[1;31mNameError\u001b[0m                                 Traceback (most recent call last)",
      "Cell \u001b[1;32mIn[41], line 1\u001b[0m\n\u001b[1;32m----> 1\u001b[0m totalSharpness(sinModel,inputData,response,numPerturbations\u001b[38;5;241m=\u001b[39m\u001b[38;5;241m5000\u001b[39m,percentPerturbation\u001b[38;5;241m=\u001b[39m\u001b[38;5;241m1\u001b[39m)\n",
      "\u001b[1;31mNameError\u001b[0m: name 'sinModel' is not defined"
     ]
    }
   ],
   "source": [
    "totalSharpness(sinModel,inputData,response,numPerturbations=5000,percentPerturbation=1)"
   ]
  },
  {
   "cell_type": "code",
   "execution_count": null,
   "id": "cfe31b07",
   "metadata": {},
   "outputs": [],
   "source": []
  },
  {
   "cell_type": "code",
   "execution_count": 639,
   "id": "43a13a9d",
   "metadata": {},
   "outputs": [],
   "source": [
    "inputData=np.array([np.arange(1,1000,.1)])"
   ]
  },
  {
   "cell_type": "code",
   "execution_count": 640,
   "id": "7c935a6c",
   "metadata": {},
   "outputs": [],
   "source": [
    "response=cosFunc(inputData[0])"
   ]
  },
  {
   "cell_type": "code",
   "execution_count": 641,
   "id": "a0f9e941",
   "metadata": {},
   "outputs": [
    {
     "data": {
      "text/plain": [
       "0.0003920450655534504"
      ]
     },
     "execution_count": 641,
     "metadata": {},
     "output_type": "execute_result"
    }
   ],
   "source": [
    "totalSharpness(cosModel,inputData,response,numPerturbations=1000,percentPerturbation=0.2)"
   ]
  },
  {
   "cell_type": "code",
   "execution_count": null,
   "id": "681b223e",
   "metadata": {},
   "outputs": [],
   "source": []
  },
  {
   "cell_type": "code",
   "execution_count": 642,
   "id": "58012681",
   "metadata": {},
   "outputs": [],
   "source": [
    "inputData=np.array([np.arange(1,1000,.1)])"
   ]
  },
  {
   "cell_type": "code",
   "execution_count": 643,
   "id": "867b0021",
   "metadata": {},
   "outputs": [],
   "source": [
    "response=tanFunc(inputData[0])"
   ]
  },
  {
   "cell_type": "code",
   "execution_count": 644,
   "id": "19816c8d",
   "metadata": {},
   "outputs": [
    {
     "data": {
      "text/plain": [
       "9.118557647814032e-05"
      ]
     },
     "execution_count": 644,
     "metadata": {},
     "output_type": "execute_result"
    }
   ],
   "source": [
    "totalSharpness(tanModel,inputData,response,numPerturbations=1000,percentPerturbation=0.2)"
   ]
  },
  {
   "cell_type": "code",
   "execution_count": null,
   "id": "be09e3e1",
   "metadata": {},
   "outputs": [],
   "source": []
  },
  {
   "cell_type": "code",
   "execution_count": 645,
   "id": "aa1a9664",
   "metadata": {},
   "outputs": [],
   "source": [
    "inputData=np.array([np.arange(1,1000,.1)])"
   ]
  },
  {
   "cell_type": "code",
   "execution_count": 646,
   "id": "beb7adc7",
   "metadata": {},
   "outputs": [],
   "source": [
    "response=arcsinFunc(inputData[0])"
   ]
  },
  {
   "cell_type": "code",
   "execution_count": 647,
   "id": "58c34180",
   "metadata": {},
   "outputs": [
    {
     "data": {
      "text/plain": [
       "nan"
      ]
     },
     "execution_count": 647,
     "metadata": {},
     "output_type": "execute_result"
    }
   ],
   "source": [
    "totalSharpness(arcsinModel,inputData,response,numPerturbations=1000,percentPerturbation=0.2)"
   ]
  },
  {
   "cell_type": "code",
   "execution_count": null,
   "id": "644e089a",
   "metadata": {},
   "outputs": [],
   "source": []
  },
  {
   "cell_type": "code",
   "execution_count": 648,
   "id": "5352bd7e",
   "metadata": {},
   "outputs": [],
   "source": [
    "inputData=np.array([np.arange(1,1000,.1)])"
   ]
  },
  {
   "cell_type": "code",
   "execution_count": 649,
   "id": "1c77cfbf",
   "metadata": {},
   "outputs": [],
   "source": [
    "response=arccosFunc(inputData[0])"
   ]
  },
  {
   "cell_type": "code",
   "execution_count": 650,
   "id": "2a0e4ef4",
   "metadata": {},
   "outputs": [
    {
     "data": {
      "text/plain": [
       "nan"
      ]
     },
     "execution_count": 650,
     "metadata": {},
     "output_type": "execute_result"
    }
   ],
   "source": [
    "totalSharpness(arccosModel,inputData,response,numPerturbations=1000,percentPerturbation=0.2)"
   ]
  },
  {
   "cell_type": "code",
   "execution_count": null,
   "id": "54ce825f",
   "metadata": {},
   "outputs": [],
   "source": []
  },
  {
   "cell_type": "code",
   "execution_count": 651,
   "id": "ffcabb66",
   "metadata": {},
   "outputs": [],
   "source": [
    "inputData=np.array([np.arange(1,1000,.1)])"
   ]
  },
  {
   "cell_type": "code",
   "execution_count": 652,
   "id": "7e6690bf",
   "metadata": {},
   "outputs": [],
   "source": [
    "response=arctanFunc(inputData[0])"
   ]
  },
  {
   "cell_type": "code",
   "execution_count": 653,
   "id": "a45544b7",
   "metadata": {},
   "outputs": [
    {
     "data": {
      "text/plain": [
       "0.04384760333277282"
      ]
     },
     "execution_count": 653,
     "metadata": {},
     "output_type": "execute_result"
    }
   ],
   "source": [
    "totalSharpness(arctanModel,inputData,response,numPerturbations=1000,percentPerturbation=0.2)"
   ]
  },
  {
   "cell_type": "code",
   "execution_count": null,
   "id": "9d7cdaa2",
   "metadata": {},
   "outputs": [],
   "source": []
  },
  {
   "cell_type": "code",
   "execution_count": 25,
   "id": "19942314",
   "metadata": {},
   "outputs": [],
   "source": [
    "inputData=np.array([np.arange(1,1000,.1)])"
   ]
  },
  {
   "cell_type": "code",
   "execution_count": 26,
   "id": "5b6a1837",
   "metadata": {},
   "outputs": [
    {
     "ename": "NameError",
     "evalue": "name 'invFunc' is not defined",
     "output_type": "error",
     "traceback": [
      "\u001b[1;31m---------------------------------------------------------------------------\u001b[0m",
      "\u001b[1;31mNameError\u001b[0m                                 Traceback (most recent call last)",
      "Cell \u001b[1;32mIn[26], line 1\u001b[0m\n\u001b[1;32m----> 1\u001b[0m response\u001b[38;5;241m=\u001b[39minvFunc(inputData[\u001b[38;5;241m0\u001b[39m])\n",
      "\u001b[1;31mNameError\u001b[0m: name 'invFunc' is not defined"
     ]
    }
   ],
   "source": [
    "response=invFunc(inputData[0])"
   ]
  },
  {
   "cell_type": "code",
   "execution_count": 27,
   "id": "cc4634a9",
   "metadata": {},
   "outputs": [
    {
     "ename": "NameError",
     "evalue": "name 'invModel' is not defined",
     "output_type": "error",
     "traceback": [
      "\u001b[1;31m---------------------------------------------------------------------------\u001b[0m",
      "\u001b[1;31mNameError\u001b[0m                                 Traceback (most recent call last)",
      "Cell \u001b[1;32mIn[27], line 1\u001b[0m\n\u001b[1;32m----> 1\u001b[0m totalSharpness(invModel,inputData,response,numPerturbations\u001b[38;5;241m=\u001b[39m\u001b[38;5;241m1000\u001b[39m,percentPerturbation\u001b[38;5;241m=\u001b[39m\u001b[38;5;241m0.2\u001b[39m)\n",
      "\u001b[1;31mNameError\u001b[0m: name 'invModel' is not defined"
     ]
    }
   ],
   "source": [
    "totalSharpness(invModel,inputData,response,numPerturbations=1000,percentPerturbation=0.2)"
   ]
  },
  {
   "cell_type": "code",
   "execution_count": 657,
   "id": "b5924a23",
   "metadata": {},
   "outputs": [],
   "source": [
    "inputData=np.array([np.arange(1,1000,.1)])"
   ]
  },
  {
   "cell_type": "code",
   "execution_count": 658,
   "id": "a8079fc4",
   "metadata": {},
   "outputs": [],
   "source": [
    "response=expFunc(inputData[0])"
   ]
  },
  {
   "cell_type": "code",
   "execution_count": 659,
   "id": "02ddc7fe",
   "metadata": {},
   "outputs": [
    {
     "data": {
      "text/plain": [
       "0.0"
      ]
     },
     "execution_count": 659,
     "metadata": {},
     "output_type": "execute_result"
    }
   ],
   "source": [
    "totalSharpness(expModel,inputData,response,numPerturbations=1000,percentPerturbation=0.2)"
   ]
  },
  {
   "cell_type": "code",
   "execution_count": null,
   "id": "1369d8e0",
   "metadata": {},
   "outputs": [],
   "source": []
  },
  {
   "cell_type": "code",
   "execution_count": 660,
   "id": "da233114",
   "metadata": {},
   "outputs": [],
   "source": [
    "inputData=np.array([np.arange(1,1000,.1)])"
   ]
  },
  {
   "cell_type": "code",
   "execution_count": 661,
   "id": "432a6954",
   "metadata": {},
   "outputs": [],
   "source": [
    "response=sqrdFunc(inputData[0])"
   ]
  },
  {
   "cell_type": "code",
   "execution_count": 662,
   "id": "6cb4c1d3",
   "metadata": {},
   "outputs": [
    {
     "data": {
      "text/plain": [
       "4.822025710454195e-05"
      ]
     },
     "execution_count": 662,
     "metadata": {},
     "output_type": "execute_result"
    }
   ],
   "source": [
    "totalSharpness(sqrdModel,inputData,response,numPerturbations=1000,percentPerturbation=0.2)"
   ]
  },
  {
   "cell_type": "code",
   "execution_count": null,
   "id": "f48fab6c",
   "metadata": {},
   "outputs": [],
   "source": []
  },
  {
   "cell_type": "code",
   "execution_count": 42,
   "id": "65d57be9",
   "metadata": {},
   "outputs": [],
   "source": [
    "inputData=np.array([np.arange(1,1000,.1)])"
   ]
  },
  {
   "cell_type": "code",
   "execution_count": 43,
   "id": "4311b0bb",
   "metadata": {},
   "outputs": [],
   "source": [
    "response=sqrtFunc(inputData[0])"
   ]
  },
  {
   "cell_type": "code",
   "execution_count": 44,
   "id": "6e6a3bdd",
   "metadata": {},
   "outputs": [
    {
     "data": {
      "text/plain": [
       "0.00014020451833321365"
      ]
     },
     "execution_count": 44,
     "metadata": {},
     "output_type": "execute_result"
    }
   ],
   "source": [
    "totalSharpness(sqrtModel,inputData,response,numPerturbations=1000,percentPerturbation=0.2,preserveSign=True)"
   ]
  },
  {
   "cell_type": "code",
   "execution_count": null,
   "id": "cb2d1286",
   "metadata": {},
   "outputs": [],
   "source": []
  },
  {
   "cell_type": "code",
   "execution_count": 666,
   "id": "6f7e3e07",
   "metadata": {},
   "outputs": [],
   "source": [
    "inputData=np.array([np.arange(1,1000,.1)])"
   ]
  },
  {
   "cell_type": "code",
   "execution_count": 667,
   "id": "64e1366d",
   "metadata": {},
   "outputs": [],
   "source": [
    "response=tanhFunc(inputData[0])"
   ]
  },
  {
   "cell_type": "code",
   "execution_count": 668,
   "id": "dae3c8b6",
   "metadata": {},
   "outputs": [
    {
     "data": {
      "text/plain": [
       "0.022836055517780347"
      ]
     },
     "execution_count": 668,
     "metadata": {},
     "output_type": "execute_result"
    }
   ],
   "source": [
    "totalSharpness(tanhModel,inputData,response,numPerturbations=1000,percentPerturbation=0.2)"
   ]
  },
  {
   "cell_type": "code",
   "execution_count": null,
   "id": "446f8f3c",
   "metadata": {},
   "outputs": [],
   "source": []
  },
  {
   "cell_type": "code",
   "execution_count": 45,
   "id": "1a47198c",
   "metadata": {},
   "outputs": [],
   "source": [
    "inputData=np.array([np.arange(1,1000,.1)])"
   ]
  },
  {
   "cell_type": "code",
   "execution_count": 46,
   "id": "751e488c",
   "metadata": {},
   "outputs": [],
   "source": [
    "response=logFunc(inputData[0])"
   ]
  },
  {
   "cell_type": "code",
   "execution_count": 47,
   "id": "90df95ff",
   "metadata": {},
   "outputs": [
    {
     "data": {
      "text/plain": [
       "0.00503114787178415"
      ]
     },
     "execution_count": 47,
     "metadata": {},
     "output_type": "execute_result"
    }
   ],
   "source": [
    "totalSharpness(logModel,inputData,response,numPerturbations=1000,percentPerturbation=0.2,preserveSign=True)"
   ]
  },
  {
   "cell_type": "code",
   "execution_count": 48,
   "id": "98a577da",
   "metadata": {},
   "outputs": [
    {
     "data": {
      "image/png": "[encoded data removed]",
      "text/plain": [
       "<Figure size 1000x500 with 1 Axes>"
      ]
     },
     "metadata": {},
     "output_type": "display_data"
    }
   ],
   "source": [
    "import numpy as np\n",
    "import matplotlib.pyplot as plt \n",
    "\n",
    "\n",
    "# creating the dataset\n",
    "data = {'arcsin':1,'arccos':1,'arctan':0.0441528,'tanh':0.0239275,'inv':0.00887171,'log':0.00503114787178415,'cos':0.00047206,'sin':0.000401844,'sqrt':0.00014020451833321365,'sqrd':0.000047594,'tan':0.0000111531,'exp':0 }\n",
    "courses = list(data.keys())\n",
    "values = list(data.values())\n",
    "\n",
    "fig = plt.figure(figsize = (10, 5))\n",
    "\n",
    "# creating the bar plot\n",
    "plt.bar(courses, values, color ='maroon', \n",
    "\t\twidth = 0.4)\n",
    "\n",
    "plt.xlabel(\"Function\")\n",
    "plt.ylabel(\"Sharpness\")\n",
    "plt.title(\"Sharpness of each type of function\")\n",
    "plt.yscale(\"log\")\n",
    "plt.show()\n"
   ]
  },
  {
   "cell_type": "markdown",
   "id": "0c3cae08",
   "metadata": {},
   "source": [
    "# Intrinsic Sharpness Data Range [-1,1]a"
   ]
  },
  {
   "cell_type": "code",
   "execution_count": 32,
   "id": "0f44f2dd",
   "metadata": {},
   "outputs": [],
   "source": [
    "inputData=np.array([np.arange(-1,1,.0013)])"
   ]
  },
  {
   "cell_type": "code",
   "execution_count": 33,
   "id": "6fbb7842",
   "metadata": {},
   "outputs": [],
   "source": [
    "response=sinFunc(inputData[0])"
   ]
  },
  {
   "cell_type": "code",
   "execution_count": 35,
   "id": "93885ec5",
   "metadata": {},
   "outputs": [
    {
     "ename": "NameError",
     "evalue": "name 'sinModel' is not defined",
     "output_type": "error",
     "traceback": [
      "\u001b[1;31m---------------------------------------------------------------------------\u001b[0m",
      "\u001b[1;31mNameError\u001b[0m                                 Traceback (most recent call last)",
      "Cell \u001b[1;32mIn[35], line 1\u001b[0m\n\u001b[1;32m----> 1\u001b[0m totalSharpness(sinModel,inputData,response,numPerturbations\u001b[38;5;241m=\u001b[39m\u001b[38;5;241m5000\u001b[39m,percentPerturbation\u001b[38;5;241m=\u001b[39m\u001b[38;5;241m1\u001b[39m)\n",
      "\u001b[1;31mNameError\u001b[0m: name 'sinModel' is not defined"
     ]
    }
   ],
   "source": [
    "totalSharpness(sinModel,inputData,response,numPerturbations=5000,percentPerturbation=1)"
   ]
  },
  {
   "cell_type": "code",
   "execution_count": null,
   "id": "46bd1e79",
   "metadata": {},
   "outputs": [],
   "source": []
  },
  {
   "cell_type": "code",
   "execution_count": 36,
   "id": "88af70d6",
   "metadata": {},
   "outputs": [],
   "source": [
    "inputData=np.array([np.arange(-1,1,.0013)])"
   ]
  },
  {
   "cell_type": "code",
   "execution_count": 37,
   "id": "9bf6dc46",
   "metadata": {},
   "outputs": [
    {
     "ename": "NameError",
     "evalue": "name 'cosFunc' is not defined",
     "output_type": "error",
     "traceback": [
      "\u001b[1;31m---------------------------------------------------------------------------\u001b[0m",
      "\u001b[1;31mNameError\u001b[0m                                 Traceback (most recent call last)",
      "Cell \u001b[1;32mIn[37], line 1\u001b[0m\n\u001b[1;32m----> 1\u001b[0m response\u001b[38;5;241m=\u001b[39mcosFunc(inputData[\u001b[38;5;241m0\u001b[39m])\n",
      "\u001b[1;31mNameError\u001b[0m: name 'cosFunc' is not defined"
     ]
    }
   ],
   "source": [
    "response=cosFunc(inputData[0])"
   ]
  },
  {
   "cell_type": "code",
   "execution_count": 581,
   "id": "b70d4ace",
   "metadata": {},
   "outputs": [
    {
     "data": {
      "text/plain": [
       "0.0004665922208952201"
      ]
     },
     "execution_count": 581,
     "metadata": {},
     "output_type": "execute_result"
    }
   ],
   "source": [
    "totalSharpness(cosModel,inputData,response,numPerturbations=1000,percentPerturbation=0.2)"
   ]
  },
  {
   "cell_type": "code",
   "execution_count": null,
   "id": "17264c22",
   "metadata": {},
   "outputs": [],
   "source": []
  },
  {
   "cell_type": "code",
   "execution_count": 582,
   "id": "c14ed12c",
   "metadata": {},
   "outputs": [],
   "source": [
    "inputData=np.array([np.arange(-1,1,.0013)])"
   ]
  },
  {
   "cell_type": "code",
   "execution_count": 583,
   "id": "61e36484",
   "metadata": {},
   "outputs": [],
   "source": [
    "response=tanFunc(inputData[0])"
   ]
  },
  {
   "cell_type": "code",
   "execution_count": 584,
   "id": "d8b3173c",
   "metadata": {},
   "outputs": [
    {
     "data": {
      "text/plain": [
       "0.000165483232902493"
      ]
     },
     "execution_count": 584,
     "metadata": {},
     "output_type": "execute_result"
    }
   ],
   "source": [
    "totalSharpness(tanModel,inputData,response,numPerturbations=1000,percentPerturbation=0.2)"
   ]
  },
  {
   "cell_type": "code",
   "execution_count": null,
   "id": "fa86a692",
   "metadata": {},
   "outputs": [],
   "source": []
  },
  {
   "cell_type": "code",
   "execution_count": 585,
   "id": "ecfa9c6f",
   "metadata": {},
   "outputs": [],
   "source": [
    "inputData=np.array([np.arange(-1,1,.0013)])"
   ]
  },
  {
   "cell_type": "code",
   "execution_count": 37,
   "id": "9b7a7804",
   "metadata": {},
   "outputs": [],
   "source": [
    "response=arcsinFunc(inputData[0])"
   ]
  },
  {
   "cell_type": "code",
   "execution_count": 587,
   "id": "7bbc9163",
   "metadata": {},
   "outputs": [
    {
     "data": {
      "text/plain": [
       "nan"
      ]
     },
     "execution_count": 587,
     "metadata": {},
     "output_type": "execute_result"
    }
   ],
   "source": [
    "totalSharpness(arcsinModel,inputData,response,numPerturbations=1000,percentPerturbation=0.2)"
   ]
  },
  {
   "cell_type": "code",
   "execution_count": null,
   "id": "3f2e0094",
   "metadata": {},
   "outputs": [],
   "source": []
  },
  {
   "cell_type": "code",
   "execution_count": 588,
   "id": "c2a51997",
   "metadata": {},
   "outputs": [],
   "source": [
    "inputData=np.array([np.arange(-1,1,.0013)])"
   ]
  },
  {
   "cell_type": "code",
   "execution_count": 589,
   "id": "18314796",
   "metadata": {},
   "outputs": [],
   "source": [
    "response=arccosFunc(inputData[0])"
   ]
  },
  {
   "cell_type": "code",
   "execution_count": 590,
   "id": "0766a433",
   "metadata": {},
   "outputs": [
    {
     "data": {
      "text/plain": [
       "nan"
      ]
     },
     "execution_count": 590,
     "metadata": {},
     "output_type": "execute_result"
    }
   ],
   "source": [
    "totalSharpness(arccosModel,inputData,response,numPerturbations=1000,percentPerturbation=0.2)"
   ]
  },
  {
   "cell_type": "code",
   "execution_count": null,
   "id": "56451637",
   "metadata": {},
   "outputs": [],
   "source": []
  },
  {
   "cell_type": "code",
   "execution_count": 591,
   "id": "42d359a4",
   "metadata": {},
   "outputs": [],
   "source": [
    "inputData=np.array([np.arange(-1,1,.0013)])"
   ]
  },
  {
   "cell_type": "code",
   "execution_count": 593,
   "id": "d481401b",
   "metadata": {},
   "outputs": [],
   "source": [
    "response=arctanFunc(inputData[0])"
   ]
  },
  {
   "cell_type": "code",
   "execution_count": 594,
   "id": "c40a30cb",
   "metadata": {},
   "outputs": [
    {
     "data": {
      "text/plain": [
       "6.998140606851694e-05"
      ]
     },
     "execution_count": 594,
     "metadata": {},
     "output_type": "execute_result"
    }
   ],
   "source": [
    "totalSharpness(arctanModel,inputData,response,numPerturbations=1000,percentPerturbation=0.2)"
   ]
  },
  {
   "cell_type": "code",
   "execution_count": null,
   "id": "1d6a15d2",
   "metadata": {},
   "outputs": [],
   "source": []
  },
  {
   "cell_type": "code",
   "execution_count": 675,
   "id": "30f9d988",
   "metadata": {},
   "outputs": [],
   "source": [
    "inputData=np.array([np.arange(-1,1,.0013)])"
   ]
  },
  {
   "cell_type": "code",
   "execution_count": 676,
   "id": "4a0795e7",
   "metadata": {},
   "outputs": [],
   "source": [
    "response=invFunc(inputData[0])"
   ]
  },
  {
   "cell_type": "code",
   "execution_count": 677,
   "id": "33e7ebd9",
   "metadata": {},
   "outputs": [
    {
     "data": {
      "text/plain": [
       "0.07809096253652832"
      ]
     },
     "execution_count": 677,
     "metadata": {},
     "output_type": "execute_result"
    }
   ],
   "source": [
    "totalSharpness(invModel,inputData,response,numPerturbations=1000,percentPerturbation=0.2)"
   ]
  },
  {
   "cell_type": "code",
   "execution_count": 599,
   "id": "6e981f5a",
   "metadata": {},
   "outputs": [],
   "source": [
    "inputData=np.array([np.arange(-1,1,.0013)])"
   ]
  },
  {
   "cell_type": "code",
   "execution_count": 600,
   "id": "b59ea46b",
   "metadata": {},
   "outputs": [],
   "source": [
    "response=expFunc(inputData[0])"
   ]
  },
  {
   "cell_type": "code",
   "execution_count": 601,
   "id": "1ec6dfb7",
   "metadata": {},
   "outputs": [
    {
     "data": {
      "text/plain": [
       "0.0021192265388104217"
      ]
     },
     "execution_count": 601,
     "metadata": {},
     "output_type": "execute_result"
    }
   ],
   "source": [
    "totalSharpness(expModel,inputData,response,numPerturbations=1000,percentPerturbation=0.2)"
   ]
  },
  {
   "cell_type": "code",
   "execution_count": null,
   "id": "a86da606",
   "metadata": {},
   "outputs": [],
   "source": []
  },
  {
   "cell_type": "code",
   "execution_count": 602,
   "id": "509eaf9b",
   "metadata": {},
   "outputs": [],
   "source": [
    "inputData=np.array([np.arange(-1,1,.0013)])"
   ]
  },
  {
   "cell_type": "code",
   "execution_count": 603,
   "id": "6710a67b",
   "metadata": {},
   "outputs": [],
   "source": [
    "response=sqrdFunc(inputData[0])"
   ]
  },
  {
   "cell_type": "code",
   "execution_count": 604,
   "id": "2b1e1d50",
   "metadata": {},
   "outputs": [
    {
     "data": {
      "text/plain": [
       "0.000487230685622718"
      ]
     },
     "execution_count": 604,
     "metadata": {},
     "output_type": "execute_result"
    }
   ],
   "source": [
    "totalSharpness(sqrdModel,inputData,response,numPerturbations=1000,percentPerturbation=0.2)"
   ]
  },
  {
   "cell_type": "code",
   "execution_count": null,
   "id": "77b9b654",
   "metadata": {},
   "outputs": [],
   "source": []
  },
  {
   "cell_type": "code",
   "execution_count": 605,
   "id": "dee42d22",
   "metadata": {},
   "outputs": [],
   "source": [
    "inputData=np.array([np.arange(-1,1,.0013)])"
   ]
  },
  {
   "cell_type": "code",
   "execution_count": 39,
   "id": "c096f761",
   "metadata": {},
   "outputs": [],
   "source": [
    "response=sqrtFunc(inputData[0])"
   ]
  },
  {
   "cell_type": "code",
   "execution_count": 607,
   "id": "4e776a85",
   "metadata": {},
   "outputs": [
    {
     "data": {
      "text/plain": [
       "nan"
      ]
     },
     "execution_count": 607,
     "metadata": {},
     "output_type": "execute_result"
    }
   ],
   "source": [
    "totalSharpness(sqrtModel,inputData,response,numPerturbations=1000,percentPerturbation=0.2)"
   ]
  },
  {
   "cell_type": "code",
   "execution_count": null,
   "id": "19d2f175",
   "metadata": {},
   "outputs": [],
   "source": []
  },
  {
   "cell_type": "code",
   "execution_count": 608,
   "id": "80b6b9c7",
   "metadata": {},
   "outputs": [],
   "source": [
    "inputData=np.array([np.arange(-1,1,.0013)])"
   ]
  },
  {
   "cell_type": "code",
   "execution_count": 609,
   "id": "bd936e5f",
   "metadata": {},
   "outputs": [],
   "source": [
    "response=tanhFunc(inputData[0])"
   ]
  },
  {
   "cell_type": "code",
   "execution_count": 610,
   "id": "fe297955",
   "metadata": {},
   "outputs": [
    {
     "data": {
      "text/plain": [
       "7.184361694340372e-05"
      ]
     },
     "execution_count": 610,
     "metadata": {},
     "output_type": "execute_result"
    }
   ],
   "source": [
    "totalSharpness(tanhModel,inputData,response,numPerturbations=1000,percentPerturbation=0.2)"
   ]
  },
  {
   "cell_type": "code",
   "execution_count": null,
   "id": "3fe039ea",
   "metadata": {},
   "outputs": [],
   "source": []
  },
  {
   "cell_type": "code",
   "execution_count": 611,
   "id": "8c2a69bd",
   "metadata": {},
   "outputs": [],
   "source": [
    "inputData=np.array([np.arange(-1,1,.0013)])"
   ]
  },
  {
   "cell_type": "code",
   "execution_count": 612,
   "id": "6673ddbc",
   "metadata": {},
   "outputs": [],
   "source": [
    "response=logFunc(inputData[0])"
   ]
  },
  {
   "cell_type": "code",
   "execution_count": 613,
   "id": "c77476df",
   "metadata": {},
   "outputs": [
    {
     "data": {
      "text/plain": [
       "nan"
      ]
     },
     "execution_count": 613,
     "metadata": {},
     "output_type": "execute_result"
    }
   ],
   "source": [
    "totalSharpness(logModel,inputData,response,numPerturbations=1000,percentPerturbation=0.2)"
   ]
  },
  {
   "cell_type": "code",
   "execution_count": 679,
   "id": "28784313",
   "metadata": {},
   "outputs": [
    {
     "data": {
      "image/png": "[encoded data removed]",
      "text/plain": [
       "<Figure size 1000x500 with 1 Axes>"
      ]
     },
     "metadata": {},
     "output_type": "display_data"
    }
   ],
   "source": [
    "import numpy as np\n",
    "import matplotlib.pyplot as plt \n",
    "\n",
    "\n",
    "# creating the dataset\n",
    "data = {'arcsin':1,'arccos':1,'sqrt':1,'log':1,'inv':0.078090962,'exp':0.00211922653,'sqrd':0.00048723068,'cos':0.00046659222,'tan':0.00016548323,'tanh':0.00007184361,'sin':0.000071559078,'arctan':0.0000699814,}\n",
    "courses = list(data.keys())\n",
    "values = list(data.values())\n",
    "\n",
    "fig = plt.figure(figsize = (10, 5))\n",
    "\n",
    "# creating the bar plot\n",
    "plt.bar(courses, values, color ='maroon', \n",
    "\t\twidth = 0.4)\n",
    "\n",
    "plt.xlabel(\"\")\n",
    "plt.ylabel(\"Sharpness\")\n",
    "plt.title(\"Sharpness for  function\")\n",
    "plt.yscale(\"log\")\n",
    "plt.show()\n"
   ]
  },
  {
   "cell_type": "code",
   "execution_count": null,
   "id": "ee1a1151",
   "metadata": {},
   "outputs": [],
   "source": []
  }
 ],
 "metadata": {
  "kernelspec": {
   "display_name": "Python 3 (ipykernel)",
   "language": "python",
   "name": "python3"
  },
  "language_info": {
   "codemirror_mode": {
    "name": "ipython",
    "version": 3
   },
   "file_extension": ".py",
   "mimetype": "text/x-python",
   "name": "python",
   "nbconvert_exporter": "python",
   "pygments_lexer": "ipython3",
   "version": "3.11.3"
  }
 },
 "nbformat": 4,
 "nbformat_minor": 5
}
