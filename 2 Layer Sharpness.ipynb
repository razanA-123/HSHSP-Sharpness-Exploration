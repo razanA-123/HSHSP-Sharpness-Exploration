{
 "cells": [
  {
   "cell_type": "markdown",
   "id": "76aae25c",
   "metadata": {},
   "source": [
    "# Same Operators"
   ]
  },
  {
   "cell_type": "code",
   "execution_count": 1,
   "id": "2a2c6ecc",
   "metadata": {},
   "outputs": [],
   "source": [
    "from StackGP import *\n",
    "import numpy as np"
   ]
  },
  {
   "cell_type": "code",
   "execution_count": 2,
   "id": "37ec1852",
   "metadata": {},
   "outputs": [],
   "source": [
    "operators=allOps()"
   ]
  },
  {
   "cell_type": "code",
   "execution_count": 3,
   "id": "53bd0916",
   "metadata": {},
   "outputs": [],
   "source": [
    "#Define sine function to generate data\n",
    "def sinFunc(x0):\n",
    "    return np.sin(x0)"
   ]
  },
  {
   "cell_type": "code",
   "execution_count": 4,
   "id": "395aa5d2",
   "metadata": {},
   "outputs": [],
   "source": [
    "sinModel=[np.array([operators[9],operators[9]]),[variableSelect(0)],[]]"
   ]
  },
  {
   "cell_type": "code",
   "execution_count": 5,
   "id": "360c4345",
   "metadata": {},
   "outputs": [
    {
     "data": {
      "text/plain": [
       "[array([<function sin at 0x0000017F84BD8C20>,\n",
       "        <function sin at 0x0000017F84BD8C20>], dtype=object),\n",
       " [<function StackGP.variableSelect.<locals>.<lambda>(variables)>],\n",
       " []]"
      ]
     },
     "execution_count": 5,
     "metadata": {},
     "output_type": "execute_result"
    }
   ],
   "source": [
    "sinModel"
   ]
  },
  {
   "cell_type": "code",
   "execution_count": 6,
   "id": "20548591",
   "metadata": {},
   "outputs": [],
   "source": [
    "inputData=np.array([np.arange(1,1000,.1)])\n",
    "response=inputData[0]"
   ]
  },
  {
   "cell_type": "code",
   "execution_count": 18,
   "id": "12560a19",
   "metadata": {},
   "outputs": [
    {
     "data": {
      "text/plain": [
       "0.0001393658107764236"
      ]
     },
     "execution_count": 18,
     "metadata": {},
     "output_type": "execute_result"
    }
   ],
   "source": [
    "totalSharpness(sinModel,inputData,response,numPerturbations=4000,percentPerturbation=0.2)"
   ]
  },
  {
   "cell_type": "code",
   "execution_count": null,
   "id": "479ddf1e",
   "metadata": {},
   "outputs": [],
   "source": []
  },
  {
   "cell_type": "code",
   "execution_count": 49,
   "id": "c6e73cb4",
   "metadata": {},
   "outputs": [],
   "source": [
    "from StackGP import *\n",
    "import numpy as np"
   ]
  },
  {
   "cell_type": "code",
   "execution_count": 50,
   "id": "1496c538",
   "metadata": {},
   "outputs": [],
   "source": [
    "operators=allOps()"
   ]
  },
  {
   "cell_type": "code",
   "execution_count": 51,
   "id": "8dd5ffd6",
   "metadata": {},
   "outputs": [],
   "source": [
    "#Define cosine function to generate data\n",
    "def cosFunc(x0):\n",
    "    return np.cos(x0)"
   ]
  },
  {
   "cell_type": "code",
   "execution_count": 52,
   "id": "b26b4109",
   "metadata": {},
   "outputs": [],
   "source": [
    "cosModel=[np.array([operators[8],operators[8]]),[variableSelect(0)],[]]"
   ]
  },
  {
   "cell_type": "code",
   "execution_count": 53,
   "id": "c512d7dd",
   "metadata": {},
   "outputs": [
    {
     "data": {
      "text/plain": [
       "[array([<function cos at 0x0000017F84BD8CC0>,\n",
       "        <function cos at 0x0000017F84BD8CC0>], dtype=object),\n",
       " [<function StackGP.variableSelect.<locals>.<lambda>(variables)>],\n",
       " []]"
      ]
     },
     "execution_count": 53,
     "metadata": {},
     "output_type": "execute_result"
    }
   ],
   "source": [
    "cosModel"
   ]
  },
  {
   "cell_type": "code",
   "execution_count": 54,
   "id": "483de19a",
   "metadata": {},
   "outputs": [],
   "source": [
    "inputData=np.array([np.arange(1,1000,.1)])\n",
    "response=inputData[0]"
   ]
  },
  {
   "cell_type": "code",
   "execution_count": 55,
   "id": "d3b466e2",
   "metadata": {},
   "outputs": [
    {
     "data": {
      "text/plain": [
       "0.00014734556496263828"
      ]
     },
     "execution_count": 55,
     "metadata": {},
     "output_type": "execute_result"
    }
   ],
   "source": [
    "totalSharpness(cosModel,inputData,response,numPerturbations=4000,percentPerturbation=0.2)"
   ]
  },
  {
   "cell_type": "code",
   "execution_count": null,
   "id": "30c85eb1",
   "metadata": {},
   "outputs": [],
   "source": []
  },
  {
   "cell_type": "code",
   "execution_count": 56,
   "id": "27376246",
   "metadata": {},
   "outputs": [],
   "source": [
    "from StackGP import *\n",
    "import numpy as np"
   ]
  },
  {
   "cell_type": "code",
   "execution_count": 57,
   "id": "9de362b5",
   "metadata": {},
   "outputs": [],
   "source": [
    "operators=allOps()"
   ]
  },
  {
   "cell_type": "code",
   "execution_count": 58,
   "id": "66fccf65",
   "metadata": {},
   "outputs": [],
   "source": [
    "#Define tangent function to generate data\n",
    "def tanFunc(x0):\n",
    "    return np.tan(x0)"
   ]
  },
  {
   "cell_type": "code",
   "execution_count": 59,
   "id": "8a82f530",
   "metadata": {},
   "outputs": [],
   "source": [
    "tanModel=[np.array([operators[10],operators[10]]),[variableSelect(0)],[]]"
   ]
  },
  {
   "cell_type": "code",
   "execution_count": 60,
   "id": "adde41e9",
   "metadata": {},
   "outputs": [
    {
     "data": {
      "text/plain": [
       "[array([<function tan at 0x0000017F84BD8D60>,\n",
       "        <function tan at 0x0000017F84BD8D60>], dtype=object),\n",
       " [<function StackGP.variableSelect.<locals>.<lambda>(variables)>],\n",
       " []]"
      ]
     },
     "execution_count": 60,
     "metadata": {},
     "output_type": "execute_result"
    }
   ],
   "source": [
    "tanModel"
   ]
  },
  {
   "cell_type": "code",
   "execution_count": 61,
   "id": "30af6866",
   "metadata": {},
   "outputs": [],
   "source": [
    "inputData=np.array([np.arange(1,1000,.1)])\n",
    "response=inputData[0]"
   ]
  },
  {
   "cell_type": "code",
   "execution_count": 62,
   "id": "42c2c7ae",
   "metadata": {},
   "outputs": [
    {
     "data": {
      "text/plain": [
       "0.00012212482233990194"
      ]
     },
     "execution_count": 62,
     "metadata": {},
     "output_type": "execute_result"
    }
   ],
   "source": [
    "totalSharpness(tanModel,inputData,response,numPerturbations=4000,percentPerturbation=0.2)"
   ]
  },
  {
   "cell_type": "code",
   "execution_count": null,
   "id": "433286b0",
   "metadata": {},
   "outputs": [],
   "source": []
  },
  {
   "cell_type": "code",
   "execution_count": 63,
   "id": "7005a7f5",
   "metadata": {},
   "outputs": [],
   "source": [
    "from StackGP import *\n",
    "import numpy as np"
   ]
  },
  {
   "cell_type": "code",
   "execution_count": 64,
   "id": "87261d57",
   "metadata": {},
   "outputs": [],
   "source": [
    "operators=allOps()"
   ]
  },
  {
   "cell_type": "code",
   "execution_count": 65,
   "id": "fd5cf0b1",
   "metadata": {},
   "outputs": [],
   "source": [
    "#Define exponent function to generate data\n",
    "def expFunc(x0):\n",
    "    return np.exp(x0)"
   ]
  },
  {
   "cell_type": "code",
   "execution_count": 66,
   "id": "9e6d6367",
   "metadata": {},
   "outputs": [],
   "source": [
    "expModel=[np.array([operators[4],operators[4]]),[variableSelect(0)],[]]"
   ]
  },
  {
   "cell_type": "code",
   "execution_count": 67,
   "id": "3602b9be",
   "metadata": {},
   "outputs": [
    {
     "data": {
      "text/plain": [
       "[array([<function exp at 0x0000017F84BD8900>,\n",
       "        <function exp at 0x0000017F84BD8900>], dtype=object),\n",
       " [<function StackGP.variableSelect.<locals>.<lambda>(variables)>],\n",
       " []]"
      ]
     },
     "execution_count": 67,
     "metadata": {},
     "output_type": "execute_result"
    }
   ],
   "source": [
    "expModel"
   ]
  },
  {
   "cell_type": "code",
   "execution_count": 68,
   "id": "4bdd1672",
   "metadata": {},
   "outputs": [],
   "source": [
    "inputData=np.array([np.arange(1,1000,.1)])\n",
    "response=inputData[0]"
   ]
  },
  {
   "cell_type": "code",
   "execution_count": 69,
   "id": "faaa8f9e",
   "metadata": {},
   "outputs": [
    {
     "data": {
      "text/plain": [
       "nan"
      ]
     },
     "execution_count": 69,
     "metadata": {},
     "output_type": "execute_result"
    }
   ],
   "source": [
    "totalSharpness(expModel,inputData,response,numPerturbations=4000,percentPerturbation=0.2)"
   ]
  },
  {
   "cell_type": "code",
   "execution_count": null,
   "id": "901cd50b",
   "metadata": {},
   "outputs": [],
   "source": []
  },
  {
   "cell_type": "code",
   "execution_count": 70,
   "id": "bf359f00",
   "metadata": {},
   "outputs": [],
   "source": [
    "from StackGP import *\n",
    "import numpy as np"
   ]
  },
  {
   "cell_type": "code",
   "execution_count": 71,
   "id": "ce0671fe",
   "metadata": {},
   "outputs": [],
   "source": [
    "operators=allOps()"
   ]
  },
  {
   "cell_type": "code",
   "execution_count": 72,
   "id": "7186bcf4",
   "metadata": {},
   "outputs": [],
   "source": [
    "#Define squared function to generate data\n",
    "def sqrdFunc(x0):\n",
    "    return np.sqrd(x0)"
   ]
  },
  {
   "cell_type": "code",
   "execution_count": 73,
   "id": "af5d619b",
   "metadata": {},
   "outputs": [],
   "source": [
    "sqrdModel=[np.array([operators[5],operators[5]]),[variableSelect(0)],[]]"
   ]
  },
  {
   "cell_type": "code",
   "execution_count": 74,
   "id": "0078d90f",
   "metadata": {},
   "outputs": [
    {
     "data": {
      "text/plain": [
       "[array([<function sqrd at 0x0000017F84BD8AE0>,\n",
       "        <function sqrd at 0x0000017F84BD8AE0>], dtype=object),\n",
       " [<function StackGP.variableSelect.<locals>.<lambda>(variables)>],\n",
       " []]"
      ]
     },
     "execution_count": 74,
     "metadata": {},
     "output_type": "execute_result"
    }
   ],
   "source": [
    "sqrdModel"
   ]
  },
  {
   "cell_type": "code",
   "execution_count": 75,
   "id": "2fb5ae4b",
   "metadata": {},
   "outputs": [],
   "source": [
    "inputData=np.array([np.arange(1,1000,.1)])\n",
    "response=inputData[0]"
   ]
  },
  {
   "cell_type": "code",
   "execution_count": 76,
   "id": "cdd3b439",
   "metadata": {},
   "outputs": [
    {
     "data": {
      "text/plain": [
       "0.000744496422147038"
      ]
     },
     "execution_count": 76,
     "metadata": {},
     "output_type": "execute_result"
    }
   ],
   "source": [
    "totalSharpness(sqrdModel,inputData,response,numPerturbations=4000,percentPerturbation=0.2)"
   ]
  },
  {
   "cell_type": "code",
   "execution_count": null,
   "id": "9ad44a07",
   "metadata": {},
   "outputs": [],
   "source": []
  },
  {
   "cell_type": "code",
   "execution_count": 77,
   "id": "6f1dbbf4",
   "metadata": {},
   "outputs": [],
   "source": [
    "from StackGP import *\n",
    "import numpy as np"
   ]
  },
  {
   "cell_type": "code",
   "execution_count": 78,
   "id": "56396bfe",
   "metadata": {},
   "outputs": [],
   "source": [
    "operators=allOps()"
   ]
  },
  {
   "cell_type": "code",
   "execution_count": 79,
   "id": "a693d7ff",
   "metadata": {},
   "outputs": [],
   "source": [
    "#Define square root function to generate data\n",
    "def sqrtFunc(x0):\n",
    "    return np.sqrt(x0)"
   ]
  },
  {
   "cell_type": "code",
   "execution_count": 80,
   "id": "15227d52",
   "metadata": {},
   "outputs": [],
   "source": [
    "sqrtModel=[np.array([operators[6],operators[6]]),[variableSelect(0)],[]]"
   ]
  },
  {
   "cell_type": "code",
   "execution_count": 81,
   "id": "ae033f69",
   "metadata": {},
   "outputs": [
    {
     "data": {
      "text/plain": [
       "[array([<function sqrt at 0x0000017F84BD8A40>,\n",
       "        <function sqrt at 0x0000017F84BD8A40>], dtype=object),\n",
       " [<function StackGP.variableSelect.<locals>.<lambda>(variables)>],\n",
       " []]"
      ]
     },
     "execution_count": 81,
     "metadata": {},
     "output_type": "execute_result"
    }
   ],
   "source": [
    "sqrtModel"
   ]
  },
  {
   "cell_type": "code",
   "execution_count": 82,
   "id": "6e2dbcf2",
   "metadata": {},
   "outputs": [],
   "source": [
    "inputData=np.array([np.arange(1,1000,.1)])\n",
    "response=inputData[0]"
   ]
  },
  {
   "cell_type": "code",
   "execution_count": 83,
   "id": "c79c607a",
   "metadata": {},
   "outputs": [
    {
     "data": {
      "text/plain": [
       "nan"
      ]
     },
     "execution_count": 83,
     "metadata": {},
     "output_type": "execute_result"
    }
   ],
   "source": [
    "totalSharpness(sqrtModel,inputData,response,numPerturbations=4000,percentPerturbation=0.2)"
   ]
  },
  {
   "cell_type": "code",
   "execution_count": null,
   "id": "ce19721c",
   "metadata": {},
   "outputs": [],
   "source": []
  },
  {
   "cell_type": "code",
   "execution_count": 84,
   "id": "116f4479",
   "metadata": {},
   "outputs": [],
   "source": [
    "from StackGP import *\n",
    "import numpy as np"
   ]
  },
  {
   "cell_type": "code",
   "execution_count": 85,
   "id": "acae336a",
   "metadata": {},
   "outputs": [],
   "source": [
    "operators=allOps()"
   ]
  },
  {
   "cell_type": "code",
   "execution_count": 86,
   "id": "4c487ea1",
   "metadata": {},
   "outputs": [],
   "source": [
    "#Define inverse function to generate data\n",
    "def invFunc(x0):\n",
    "    return np.inv(x0)"
   ]
  },
  {
   "cell_type": "code",
   "execution_count": 87,
   "id": "ee4eb43b",
   "metadata": {},
   "outputs": [],
   "source": [
    "invModel=[np.array([operators[7],operators[7]]),[variableSelect(0)],[]]"
   ]
  },
  {
   "cell_type": "code",
   "execution_count": 88,
   "id": "988f0380",
   "metadata": {},
   "outputs": [
    {
     "data": {
      "text/plain": [
       "[array([<function inv at 0x0000017F84BD8B80>,\n",
       "        <function inv at 0x0000017F84BD8B80>], dtype=object),\n",
       " [<function StackGP.variableSelect.<locals>.<lambda>(variables)>],\n",
       " []]"
      ]
     },
     "execution_count": 88,
     "metadata": {},
     "output_type": "execute_result"
    }
   ],
   "source": [
    "invModel"
   ]
  },
  {
   "cell_type": "code",
   "execution_count": 89,
   "id": "4c776a12",
   "metadata": {},
   "outputs": [],
   "source": [
    "inputData=np.array([np.arange(1,1000,.1)])\n",
    "response=inputData[0]"
   ]
  },
  {
   "cell_type": "code",
   "execution_count": 90,
   "id": "d33bd2d6",
   "metadata": {},
   "outputs": [
    {
     "data": {
      "text/plain": [
       "3.002344451133196e-05"
      ]
     },
     "execution_count": 90,
     "metadata": {},
     "output_type": "execute_result"
    }
   ],
   "source": [
    "totalSharpness(invModel,inputData,response,numPerturbations=4000,percentPerturbation=0.2)"
   ]
  },
  {
   "cell_type": "code",
   "execution_count": null,
   "id": "b3bd1b92",
   "metadata": {},
   "outputs": [],
   "source": []
  },
  {
   "cell_type": "code",
   "execution_count": 91,
   "id": "af54a7f7",
   "metadata": {},
   "outputs": [],
   "source": [
    "from StackGP import *\n",
    "import numpy as np"
   ]
  },
  {
   "cell_type": "code",
   "execution_count": 92,
   "id": "402421ee",
   "metadata": {},
   "outputs": [],
   "source": [
    "operators=allOps()"
   ]
  },
  {
   "cell_type": "code",
   "execution_count": 93,
   "id": "c125fc17",
   "metadata": {},
   "outputs": [],
   "source": [
    "#Define arctan function to generate data\n",
    "def arctanFunc(x0):\n",
    "    return np.arctan(x0)"
   ]
  },
  {
   "cell_type": "code",
   "execution_count": 94,
   "id": "c8e87f9a",
   "metadata": {},
   "outputs": [],
   "source": [
    "arctanModel=[np.array([operators[13],operators[13]]),[variableSelect(0)],[]]"
   ]
  },
  {
   "cell_type": "code",
   "execution_count": 95,
   "id": "d4683048",
   "metadata": {},
   "outputs": [
    {
     "data": {
      "text/plain": [
       "[array([<function arctan at 0x0000017F84BD8F40>,\n",
       "        <function arctan at 0x0000017F84BD8F40>], dtype=object),\n",
       " [<function StackGP.variableSelect.<locals>.<lambda>(variables)>],\n",
       " []]"
      ]
     },
     "execution_count": 95,
     "metadata": {},
     "output_type": "execute_result"
    }
   ],
   "source": [
    "arctanModel"
   ]
  },
  {
   "cell_type": "code",
   "execution_count": 96,
   "id": "707af04a",
   "metadata": {},
   "outputs": [],
   "source": [
    "inputData=np.array([np.arange(1,1000,.1)])\n",
    "response=inputData[0]"
   ]
  },
  {
   "cell_type": "code",
   "execution_count": 97,
   "id": "26543a92",
   "metadata": {},
   "outputs": [
    {
     "data": {
      "text/plain": [
       "0.00192485861359812"
      ]
     },
     "execution_count": 97,
     "metadata": {},
     "output_type": "execute_result"
    }
   ],
   "source": [
    "totalSharpness(arctanModel,inputData,response,numPerturbations=4000,percentPerturbation=0.2)"
   ]
  },
  {
   "cell_type": "code",
   "execution_count": null,
   "id": "d9d70194",
   "metadata": {},
   "outputs": [],
   "source": []
  },
  {
   "cell_type": "code",
   "execution_count": 98,
   "id": "1da064f1",
   "metadata": {},
   "outputs": [],
   "source": [
    "from StackGP import *\n",
    "import numpy as np"
   ]
  },
  {
   "cell_type": "code",
   "execution_count": 99,
   "id": "300e1528",
   "metadata": {},
   "outputs": [],
   "source": [
    "operators=allOps()"
   ]
  },
  {
   "cell_type": "code",
   "execution_count": 100,
   "id": "50c9b921",
   "metadata": {},
   "outputs": [],
   "source": [
    "#Define tanh function to generate data\n",
    "def tanhFunc(x0):\n",
    "    return np.tanh(x0)"
   ]
  },
  {
   "cell_type": "code",
   "execution_count": 101,
   "id": "645ae1c2",
   "metadata": {},
   "outputs": [],
   "source": [
    "tanhModel=[np.array([operators[14],operators[14]]),[variableSelect(0)],[]]"
   ]
  },
  {
   "cell_type": "code",
   "execution_count": 102,
   "id": "7f60dc0e",
   "metadata": {},
   "outputs": [
    {
     "data": {
      "text/plain": [
       "[array([<function tanh at 0x0000017F84BD8FE0>,\n",
       "        <function tanh at 0x0000017F84BD8FE0>], dtype=object),\n",
       " [<function StackGP.variableSelect.<locals>.<lambda>(variables)>],\n",
       " []]"
      ]
     },
     "execution_count": 102,
     "metadata": {},
     "output_type": "execute_result"
    }
   ],
   "source": [
    "tanhModel"
   ]
  },
  {
   "cell_type": "code",
   "execution_count": 103,
   "id": "7e0937e9",
   "metadata": {},
   "outputs": [],
   "source": [
    "inputData=np.array([np.arange(1,1000,.1)])\n",
    "response=inputData[0]"
   ]
  },
  {
   "cell_type": "code",
   "execution_count": 104,
   "id": "a348a806",
   "metadata": {},
   "outputs": [
    {
     "data": {
      "text/plain": [
       "0.0019502929667983065"
      ]
     },
     "execution_count": 104,
     "metadata": {},
     "output_type": "execute_result"
    }
   ],
   "source": [
    "totalSharpness(tanhModel,inputData,response,numPerturbations=4000,percentPerturbation=0.2)"
   ]
  },
  {
   "cell_type": "code",
   "execution_count": null,
   "id": "08a4d3aa",
   "metadata": {},
   "outputs": [],
   "source": []
  },
  {
   "cell_type": "code",
   "execution_count": 105,
   "id": "04eefd93",
   "metadata": {},
   "outputs": [],
   "source": [
    "from StackGP import *\n",
    "import numpy as np"
   ]
  },
  {
   "cell_type": "code",
   "execution_count": 106,
   "id": "f065b328",
   "metadata": {},
   "outputs": [],
   "source": [
    "operators=allOps()"
   ]
  },
  {
   "cell_type": "code",
   "execution_count": 107,
   "id": "3a1c1489",
   "metadata": {},
   "outputs": [],
   "source": [
    "#Define log function to generate data\n",
    "def logFunc(x0):\n",
    "    return np.log(x0)"
   ]
  },
  {
   "cell_type": "code",
   "execution_count": 108,
   "id": "5788d05d",
   "metadata": {},
   "outputs": [],
   "source": [
    "logModel=[np.array([operators[15],operators[15]]),[variableSelect(0)],[]]"
   ]
  },
  {
   "cell_type": "code",
   "execution_count": 109,
   "id": "dcc9ae92",
   "metadata": {},
   "outputs": [
    {
     "data": {
      "text/plain": [
       "[array([<function log at 0x0000017F84BD9080>,\n",
       "        <function log at 0x0000017F84BD9080>], dtype=object),\n",
       " [<function StackGP.variableSelect.<locals>.<lambda>(variables)>],\n",
       " []]"
      ]
     },
     "execution_count": 109,
     "metadata": {},
     "output_type": "execute_result"
    }
   ],
   "source": [
    "logModel"
   ]
  },
  {
   "cell_type": "code",
   "execution_count": 110,
   "id": "d582c8a2",
   "metadata": {},
   "outputs": [],
   "source": [
    "inputData=np.array([np.arange(1,1000,.1)])\n",
    "response=inputData[0]"
   ]
  },
  {
   "cell_type": "code",
   "execution_count": 111,
   "id": "c76419f9",
   "metadata": {},
   "outputs": [
    {
     "data": {
      "text/plain": [
       "nan"
      ]
     },
     "execution_count": 111,
     "metadata": {},
     "output_type": "execute_result"
    }
   ],
   "source": [
    "totalSharpness(logModel,inputData,response,numPerturbations=4000,percentPerturbation=0.2)"
   ]
  },
  {
   "cell_type": "code",
   "execution_count": null,
   "id": "80aea863",
   "metadata": {},
   "outputs": [],
   "source": []
  },
  {
   "cell_type": "code",
   "execution_count": 80,
   "id": "15c1a42d",
   "metadata": {},
   "outputs": [
    {
     "data": {
      "image/png": "[encoded data removed]",
      "text/plain": [
       "<Figure size 1000x500 with 1 Axes>"
      ]
     },
     "metadata": {},
     "output_type": "display_data"
    }
   ],
   "source": [
    "import numpy as np\n",
    "import matplotlib.pyplot as plt \n",
    "\n",
    "\n",
    "# creating the dataset\n",
    "data = {'exp':1,'sqrt':1,'log':1,'tanh':0.00195029,'arctan':0.0019248,'sqrd':0.0007444964,'cos':0.00014734,'sin':0.00013936,'tan':0.0001221224,'inv':0.0000300234}\n",
    "courses = list(data.keys())\n",
    "values = list(data.values())\n",
    "\n",
    "fig = plt.figure(figsize = (10, 5))\n",
    "\n",
    "# creating the bar plot\n",
    "plt.bar(courses, values, color ='maroon', \n",
    "\t\twidth = 0.4)\n",
    "\n",
    "plt.xlabel(\"Function\")\n",
    "plt.ylabel(\"Sharpness\")\n",
    "plt.title(\"Sharpness for each function combined with itself [1,1000]\")\n",
    "plt.yscale(\"log\")\n",
    "plt.show()\n"
   ]
  },
  {
   "cell_type": "markdown",
   "id": "e6506ada",
   "metadata": {},
   "source": [
    "# Sin Function Combinations "
   ]
  },
  {
   "cell_type": "code",
   "execution_count": 113,
   "id": "1bb3edfe",
   "metadata": {},
   "outputs": [],
   "source": [
    "from StackGP import *\n",
    "import numpy as np"
   ]
  },
  {
   "cell_type": "code",
   "execution_count": 114,
   "id": "13593ea9",
   "metadata": {},
   "outputs": [],
   "source": [
    "operators=allOps()"
   ]
  },
  {
   "cell_type": "code",
   "execution_count": 115,
   "id": "9b592106",
   "metadata": {},
   "outputs": [],
   "source": [
    "#Define sine function to generate data\n",
    "def sinFunc(x0):\n",
    "    return np.sin(x0)"
   ]
  },
  {
   "cell_type": "code",
   "execution_count": 116,
   "id": "71d694c3",
   "metadata": {},
   "outputs": [],
   "source": [
    "sinModel=[np.array([operators[9],operators[4]]),[variableSelect(0)],[]]"
   ]
  },
  {
   "cell_type": "code",
   "execution_count": 117,
   "id": "2d27a5fa",
   "metadata": {},
   "outputs": [
    {
     "data": {
      "text/plain": [
       "[array([<function sin at 0x0000017F84BD8C20>,\n",
       "        <function exp at 0x0000017F84BD8900>], dtype=object),\n",
       " [<function StackGP.variableSelect.<locals>.<lambda>(variables)>],\n",
       " []]"
      ]
     },
     "execution_count": 117,
     "metadata": {},
     "output_type": "execute_result"
    }
   ],
   "source": [
    "sinModel"
   ]
  },
  {
   "cell_type": "code",
   "execution_count": 118,
   "id": "00d5a9c1",
   "metadata": {},
   "outputs": [],
   "source": [
    "inputData=np.array([np.arange(1,1000,.1)])\n",
    "response=inputData[0]"
   ]
  },
  {
   "cell_type": "code",
   "execution_count": 119,
   "id": "c6d2f84b",
   "metadata": {},
   "outputs": [
    {
     "data": {
      "text/plain": [
       "0.00014074627604864192"
      ]
     },
     "execution_count": 119,
     "metadata": {},
     "output_type": "execute_result"
    }
   ],
   "source": [
    "totalSharpness(sinModel,inputData,response,numPerturbations=4000,percentPerturbation=0.2)"
   ]
  },
  {
   "cell_type": "code",
   "execution_count": null,
   "id": "c53f342f",
   "metadata": {},
   "outputs": [],
   "source": []
  },
  {
   "cell_type": "code",
   "execution_count": 120,
   "id": "c3e1330f",
   "metadata": {},
   "outputs": [],
   "source": [
    "from StackGP import *\n",
    "import numpy as np"
   ]
  },
  {
   "cell_type": "code",
   "execution_count": 121,
   "id": "db513a02",
   "metadata": {},
   "outputs": [],
   "source": [
    "operators=allOps()"
   ]
  },
  {
   "cell_type": "code",
   "execution_count": 122,
   "id": "476f67ac",
   "metadata": {},
   "outputs": [],
   "source": [
    "#Define sine function to generate data\n",
    "def sinFunc(x0):\n",
    "    return np.sin(x0)"
   ]
  },
  {
   "cell_type": "code",
   "execution_count": 123,
   "id": "e4b11ab7",
   "metadata": {},
   "outputs": [],
   "source": [
    "sinModel=[np.array([operators[9],operators[5]]),[variableSelect(0)],[]]"
   ]
  },
  {
   "cell_type": "code",
   "execution_count": 124,
   "id": "3e72973d",
   "metadata": {},
   "outputs": [
    {
     "data": {
      "text/plain": [
       "[array([<function sin at 0x0000017F84BD8C20>,\n",
       "        <function sqrd at 0x0000017F84BD8AE0>], dtype=object),\n",
       " [<function StackGP.variableSelect.<locals>.<lambda>(variables)>],\n",
       " []]"
      ]
     },
     "execution_count": 124,
     "metadata": {},
     "output_type": "execute_result"
    }
   ],
   "source": [
    "sinModel"
   ]
  },
  {
   "cell_type": "code",
   "execution_count": 125,
   "id": "9071c91c",
   "metadata": {},
   "outputs": [],
   "source": [
    "inputData=np.array([np.arange(1,1000,.1)])\n",
    "response=inputData[0]"
   ]
  },
  {
   "cell_type": "code",
   "execution_count": 126,
   "id": "77dc2019",
   "metadata": {},
   "outputs": [
    {
     "data": {
      "text/plain": [
       "0.00013509610846074103"
      ]
     },
     "execution_count": 126,
     "metadata": {},
     "output_type": "execute_result"
    }
   ],
   "source": [
    "totalSharpness(sinModel,inputData,response,numPerturbations=4000,percentPerturbation=0.2)"
   ]
  },
  {
   "cell_type": "code",
   "execution_count": null,
   "id": "c95740ed",
   "metadata": {},
   "outputs": [],
   "source": []
  },
  {
   "cell_type": "code",
   "execution_count": 127,
   "id": "9fdeca86",
   "metadata": {},
   "outputs": [],
   "source": [
    "from StackGP import *\n",
    "import numpy as np"
   ]
  },
  {
   "cell_type": "code",
   "execution_count": 128,
   "id": "70592b52",
   "metadata": {},
   "outputs": [],
   "source": [
    "operators=allOps()"
   ]
  },
  {
   "cell_type": "code",
   "execution_count": 129,
   "id": "f8e5078d",
   "metadata": {},
   "outputs": [],
   "source": [
    "#Define sine function to generate data\n",
    "def sinFunc(x0):\n",
    "    return np.sin(x0)"
   ]
  },
  {
   "cell_type": "code",
   "execution_count": 130,
   "id": "04605db2",
   "metadata": {},
   "outputs": [],
   "source": [
    "sinModel=[np.array([operators[9],operators[6]]),[variableSelect(0)],[]]"
   ]
  },
  {
   "cell_type": "code",
   "execution_count": 131,
   "id": "54637df6",
   "metadata": {},
   "outputs": [
    {
     "data": {
      "text/plain": [
       "[array([<function sin at 0x0000017F84BD8C20>,\n",
       "        <function sqrt at 0x0000017F84BD8A40>], dtype=object),\n",
       " [<function StackGP.variableSelect.<locals>.<lambda>(variables)>],\n",
       " []]"
      ]
     },
     "execution_count": 131,
     "metadata": {},
     "output_type": "execute_result"
    }
   ],
   "source": [
    "sinModel"
   ]
  },
  {
   "cell_type": "code",
   "execution_count": 132,
   "id": "34fc74e3",
   "metadata": {},
   "outputs": [],
   "source": [
    "inputData=np.array([np.arange(1,1000,.1)])\n",
    "response=inputData[0]"
   ]
  },
  {
   "cell_type": "code",
   "execution_count": 133,
   "id": "5e7a16ed",
   "metadata": {},
   "outputs": [
    {
     "data": {
      "text/plain": [
       "nan"
      ]
     },
     "execution_count": 133,
     "metadata": {},
     "output_type": "execute_result"
    }
   ],
   "source": [
    "totalSharpness(sinModel,inputData,response,numPerturbations=4000,percentPerturbation=0.2)"
   ]
  },
  {
   "cell_type": "code",
   "execution_count": null,
   "id": "007c3f6e",
   "metadata": {},
   "outputs": [],
   "source": []
  },
  {
   "cell_type": "code",
   "execution_count": 134,
   "id": "5f713386",
   "metadata": {},
   "outputs": [],
   "source": [
    "from StackGP import *\n",
    "import numpy as np"
   ]
  },
  {
   "cell_type": "code",
   "execution_count": 135,
   "id": "369228c1",
   "metadata": {},
   "outputs": [],
   "source": [
    "operators=allOps()"
   ]
  },
  {
   "cell_type": "code",
   "execution_count": 136,
   "id": "337dcb4a",
   "metadata": {},
   "outputs": [],
   "source": [
    "#Define sine function to generate data\n",
    "def sinFunc(x0):\n",
    "    return np.sin(x0)"
   ]
  },
  {
   "cell_type": "code",
   "execution_count": 137,
   "id": "9fad86ee",
   "metadata": {},
   "outputs": [],
   "source": [
    "sinModel=[np.array([operators[9],operators[7]]),[variableSelect(0)],[]]"
   ]
  },
  {
   "cell_type": "code",
   "execution_count": 138,
   "id": "9c1df053",
   "metadata": {},
   "outputs": [
    {
     "data": {
      "text/plain": [
       "[array([<function sin at 0x0000017F84BD8C20>,\n",
       "        <function inv at 0x0000017F84BD8B80>], dtype=object),\n",
       " [<function StackGP.variableSelect.<locals>.<lambda>(variables)>],\n",
       " []]"
      ]
     },
     "execution_count": 138,
     "metadata": {},
     "output_type": "execute_result"
    }
   ],
   "source": [
    "sinModel"
   ]
  },
  {
   "cell_type": "code",
   "execution_count": 139,
   "id": "6618a839",
   "metadata": {},
   "outputs": [],
   "source": [
    "inputData=np.array([np.arange(1,1000,.1)])\n",
    "response=inputData[0]"
   ]
  },
  {
   "cell_type": "code",
   "execution_count": 140,
   "id": "5c5cd1a6",
   "metadata": {},
   "outputs": [
    {
     "data": {
      "text/plain": [
       "0.0001232400745252912"
      ]
     },
     "execution_count": 140,
     "metadata": {},
     "output_type": "execute_result"
    }
   ],
   "source": [
    "totalSharpness(sinModel,inputData,response,numPerturbations=4000,percentPerturbation=0.2)"
   ]
  },
  {
   "cell_type": "code",
   "execution_count": null,
   "id": "bf6e1035",
   "metadata": {},
   "outputs": [],
   "source": []
  },
  {
   "cell_type": "code",
   "execution_count": 141,
   "id": "9a191258",
   "metadata": {},
   "outputs": [],
   "source": [
    "from StackGP import *\n",
    "import numpy as np"
   ]
  },
  {
   "cell_type": "code",
   "execution_count": 142,
   "id": "9694de68",
   "metadata": {},
   "outputs": [],
   "source": [
    "operators=allOps()"
   ]
  },
  {
   "cell_type": "code",
   "execution_count": 143,
   "id": "e5f1a062",
   "metadata": {},
   "outputs": [],
   "source": [
    "#Define sine function to generate data\n",
    "def sinFunc(x0):\n",
    "    return np.sin(x0)"
   ]
  },
  {
   "cell_type": "code",
   "execution_count": 144,
   "id": "a60fdc03",
   "metadata": {},
   "outputs": [],
   "source": [
    "sinModel=[np.array([operators[9],operators[8]]),[variableSelect(0)],[]]"
   ]
  },
  {
   "cell_type": "code",
   "execution_count": 145,
   "id": "8237e89b",
   "metadata": {},
   "outputs": [
    {
     "data": {
      "text/plain": [
       "[array([<function sin at 0x0000017F84BD8C20>,\n",
       "        <function cos at 0x0000017F84BD8CC0>], dtype=object),\n",
       " [<function StackGP.variableSelect.<locals>.<lambda>(variables)>],\n",
       " []]"
      ]
     },
     "execution_count": 145,
     "metadata": {},
     "output_type": "execute_result"
    }
   ],
   "source": [
    "sinModel"
   ]
  },
  {
   "cell_type": "code",
   "execution_count": 146,
   "id": "51694a35",
   "metadata": {},
   "outputs": [],
   "source": [
    "inputData=np.array([np.arange(1,1000,.1)])\n",
    "response=inputData[0]"
   ]
  },
  {
   "cell_type": "code",
   "execution_count": 147,
   "id": "c56ea0b2",
   "metadata": {},
   "outputs": [
    {
     "data": {
      "text/plain": [
       "0.00014170916971064203"
      ]
     },
     "execution_count": 147,
     "metadata": {},
     "output_type": "execute_result"
    }
   ],
   "source": [
    "totalSharpness(sinModel,inputData,response,numPerturbations=4000,percentPerturbation=0.2)"
   ]
  },
  {
   "cell_type": "code",
   "execution_count": null,
   "id": "7d251c02",
   "metadata": {},
   "outputs": [],
   "source": []
  },
  {
   "cell_type": "code",
   "execution_count": 148,
   "id": "d321edd9",
   "metadata": {},
   "outputs": [],
   "source": [
    "from StackGP import *\n",
    "import numpy as np"
   ]
  },
  {
   "cell_type": "code",
   "execution_count": 149,
   "id": "a6a91443",
   "metadata": {},
   "outputs": [],
   "source": [
    "operators=allOps()"
   ]
  },
  {
   "cell_type": "code",
   "execution_count": 150,
   "id": "b2e905bf",
   "metadata": {},
   "outputs": [],
   "source": [
    "#Define sine function to generate data\n",
    "def sinFunc(x0):\n",
    "    return np.sin(x0)"
   ]
  },
  {
   "cell_type": "code",
   "execution_count": 151,
   "id": "3bcdf24c",
   "metadata": {},
   "outputs": [],
   "source": [
    "sinModel=[np.array([operators[9],operators[10]]),[variableSelect(0)],[]]"
   ]
  },
  {
   "cell_type": "code",
   "execution_count": 152,
   "id": "7c1e6fba",
   "metadata": {},
   "outputs": [
    {
     "data": {
      "text/plain": [
       "[array([<function sin at 0x0000017F84BD8C20>,\n",
       "        <function tan at 0x0000017F84BD8D60>], dtype=object),\n",
       " [<function StackGP.variableSelect.<locals>.<lambda>(variables)>],\n",
       " []]"
      ]
     },
     "execution_count": 152,
     "metadata": {},
     "output_type": "execute_result"
    }
   ],
   "source": [
    "sinModel"
   ]
  },
  {
   "cell_type": "code",
   "execution_count": 153,
   "id": "aeb6fc79",
   "metadata": {},
   "outputs": [],
   "source": [
    "inputData=np.array([np.arange(1,1000,.1)])\n",
    "response=inputData[0]"
   ]
  },
  {
   "cell_type": "code",
   "execution_count": 154,
   "id": "028ef06b",
   "metadata": {},
   "outputs": [
    {
     "data": {
      "text/plain": [
       "0.0001429365001633277"
      ]
     },
     "execution_count": 154,
     "metadata": {},
     "output_type": "execute_result"
    }
   ],
   "source": [
    "totalSharpness(sinModel,inputData,response,numPerturbations=4000,percentPerturbation=0.2)"
   ]
  },
  {
   "cell_type": "code",
   "execution_count": null,
   "id": "832489a4",
   "metadata": {},
   "outputs": [],
   "source": []
  },
  {
   "cell_type": "code",
   "execution_count": 155,
   "id": "44a2ab1e",
   "metadata": {},
   "outputs": [],
   "source": [
    "from StackGP import *\n",
    "import numpy as np"
   ]
  },
  {
   "cell_type": "code",
   "execution_count": 156,
   "id": "820e6fc4",
   "metadata": {},
   "outputs": [],
   "source": [
    "operators=allOps()"
   ]
  },
  {
   "cell_type": "code",
   "execution_count": 157,
   "id": "fe7d443c",
   "metadata": {},
   "outputs": [],
   "source": [
    "#Define sine function to generate data\n",
    "def sinFunc(x0):\n",
    "    return np.sin(x0)"
   ]
  },
  {
   "cell_type": "code",
   "execution_count": 158,
   "id": "14c45d0e",
   "metadata": {},
   "outputs": [],
   "source": [
    "sinModel=[np.array([operators[9],operators[13]]),[variableSelect(0)],[]]"
   ]
  },
  {
   "cell_type": "code",
   "execution_count": 159,
   "id": "f4181ee7",
   "metadata": {},
   "outputs": [
    {
     "data": {
      "text/plain": [
       "[array([<function sin at 0x0000017F84BD8C20>,\n",
       "        <function arctan at 0x0000017F84BD8F40>], dtype=object),\n",
       " [<function StackGP.variableSelect.<locals>.<lambda>(variables)>],\n",
       " []]"
      ]
     },
     "execution_count": 159,
     "metadata": {},
     "output_type": "execute_result"
    }
   ],
   "source": [
    "sinModel"
   ]
  },
  {
   "cell_type": "code",
   "execution_count": 160,
   "id": "68892b29",
   "metadata": {},
   "outputs": [],
   "source": [
    "inputData=np.array([np.arange(1,1000,.1)])\n",
    "response=inputData[0]"
   ]
  },
  {
   "cell_type": "code",
   "execution_count": 161,
   "id": "17782c91",
   "metadata": {},
   "outputs": [
    {
     "data": {
      "text/plain": [
       "0.00014817972811894336"
      ]
     },
     "execution_count": 161,
     "metadata": {},
     "output_type": "execute_result"
    }
   ],
   "source": [
    "totalSharpness(sinModel,inputData,response,numPerturbations=4000,percentPerturbation=0.2)"
   ]
  },
  {
   "cell_type": "code",
   "execution_count": null,
   "id": "93815f78",
   "metadata": {},
   "outputs": [],
   "source": []
  },
  {
   "cell_type": "code",
   "execution_count": 162,
   "id": "9f2ee74a",
   "metadata": {},
   "outputs": [],
   "source": [
    "from StackGP import *\n",
    "import numpy as np"
   ]
  },
  {
   "cell_type": "code",
   "execution_count": 163,
   "id": "0dad6f48",
   "metadata": {},
   "outputs": [],
   "source": [
    "operators=allOps()"
   ]
  },
  {
   "cell_type": "code",
   "execution_count": 164,
   "id": "6ef772ba",
   "metadata": {},
   "outputs": [],
   "source": [
    "#Define sine function to generate data\n",
    "def sinFunc(x0):\n",
    "    return np.sin(x0)"
   ]
  },
  {
   "cell_type": "code",
   "execution_count": 165,
   "id": "26f7d04c",
   "metadata": {},
   "outputs": [],
   "source": [
    "sinModel=[np.array([operators[9],operators[14]]),[variableSelect(0)],[]]"
   ]
  },
  {
   "cell_type": "code",
   "execution_count": 166,
   "id": "8b5c9393",
   "metadata": {},
   "outputs": [
    {
     "data": {
      "text/plain": [
       "[array([<function sin at 0x0000017F84BD8C20>,\n",
       "        <function tanh at 0x0000017F84BD8FE0>], dtype=object),\n",
       " [<function StackGP.variableSelect.<locals>.<lambda>(variables)>],\n",
       " []]"
      ]
     },
     "execution_count": 166,
     "metadata": {},
     "output_type": "execute_result"
    }
   ],
   "source": [
    "sinModel"
   ]
  },
  {
   "cell_type": "code",
   "execution_count": 167,
   "id": "c5e46f77",
   "metadata": {},
   "outputs": [],
   "source": [
    "inputData=np.array([np.arange(1,1000,.1)])\n",
    "response=inputData[0]"
   ]
  },
  {
   "cell_type": "code",
   "execution_count": 168,
   "id": "39322201",
   "metadata": {},
   "outputs": [
    {
     "data": {
      "text/plain": [
       "0.00014826873138525215"
      ]
     },
     "execution_count": 168,
     "metadata": {},
     "output_type": "execute_result"
    }
   ],
   "source": [
    "totalSharpness(sinModel,inputData,response,numPerturbations=4000,percentPerturbation=0.2)"
   ]
  },
  {
   "cell_type": "code",
   "execution_count": null,
   "id": "7920e12e",
   "metadata": {},
   "outputs": [],
   "source": []
  },
  {
   "cell_type": "code",
   "execution_count": 169,
   "id": "98a95aaf",
   "metadata": {},
   "outputs": [],
   "source": [
    "from StackGP import *\n",
    "import numpy as np"
   ]
  },
  {
   "cell_type": "code",
   "execution_count": 170,
   "id": "1ff9c2f0",
   "metadata": {},
   "outputs": [],
   "source": [
    "operators=allOps()"
   ]
  },
  {
   "cell_type": "code",
   "execution_count": 171,
   "id": "eed4b351",
   "metadata": {},
   "outputs": [],
   "source": [
    "#Define sine function to generate data\n",
    "def sinFunc(x0):\n",
    "    return np.sin(x0)"
   ]
  },
  {
   "cell_type": "code",
   "execution_count": 172,
   "id": "ec01de1a",
   "metadata": {},
   "outputs": [],
   "source": [
    "sinModel=[np.array([operators[9],operators[15]]),[variableSelect(0)],[]]"
   ]
  },
  {
   "cell_type": "code",
   "execution_count": 173,
   "id": "2befe005",
   "metadata": {},
   "outputs": [
    {
     "data": {
      "text/plain": [
       "[array([<function sin at 0x0000017F84BD8C20>,\n",
       "        <function log at 0x0000017F84BD9080>], dtype=object),\n",
       " [<function StackGP.variableSelect.<locals>.<lambda>(variables)>],\n",
       " []]"
      ]
     },
     "execution_count": 173,
     "metadata": {},
     "output_type": "execute_result"
    }
   ],
   "source": [
    "sinModel"
   ]
  },
  {
   "cell_type": "code",
   "execution_count": 174,
   "id": "9d6c1de5",
   "metadata": {},
   "outputs": [],
   "source": [
    "inputData=np.array([np.arange(1,1000,.1)])\n",
    "response=inputData[0]"
   ]
  },
  {
   "cell_type": "code",
   "execution_count": 175,
   "id": "d5a7601c",
   "metadata": {},
   "outputs": [
    {
     "data": {
      "text/plain": [
       "nan"
      ]
     },
     "execution_count": 175,
     "metadata": {},
     "output_type": "execute_result"
    }
   ],
   "source": [
    "totalSharpness(sinModel,inputData,response,numPerturbations=4000,percentPerturbation=0.2)"
   ]
  },
  {
   "cell_type": "code",
   "execution_count": 1,
   "id": "94ea2a0e",
   "metadata": {},
   "outputs": [
    {
     "data": {
      "image/png": "[encoded data removed]",
      "text/plain": [
       "<Figure size 1000x500 with 1 Axes>"
      ]
     },
     "metadata": {},
     "output_type": "display_data"
    }
   ],
   "source": [
    "import numpy as np\n",
    "import matplotlib.pyplot as plt \n",
    "\n",
    " \n",
    "# creating the dataset\n",
    "data = {'sin':0.000071559,'sin x sin':0.00013936,'log':1,'sqrt':1,'tanh':0.000148268731,'arctan':0.00014817972,'tan':0.000142936,'cos':0.00014170916,'exp':0.0001407462,'sqrd':0.000135096,'inv':0.00012324007}\n",
    "courses = list(data.keys())\n",
    "values = list(data.values())\n",
    " \n",
    "fig = plt.figure(figsize = (10, 5))\n",
    "\n",
    "# creating the bar plot\n",
    "plt.bar(courses, values, color ='maroon', \n",
    "        width = 0.4)\n",
    "\n",
    "plt.xlabel(\"Functions\")\n",
    "plt.ylabel(\"Sin\")\n",
    "plt.title(\"Sin Function Combinations\")\n",
    "plt.yscale(\"log\")\n",
    "plt.show()\n"
   ]
  },
  {
   "cell_type": "markdown",
   "id": "368d434d",
   "metadata": {},
   "source": [
    "# Cos Function Combinations"
   ]
  },
  {
   "cell_type": "code",
   "execution_count": null,
   "id": "c0eaf1c9",
   "metadata": {},
   "outputs": [],
   "source": [
    "from StackGP import *\n",
    "import numpy as np"
   ]
  },
  {
   "cell_type": "code",
   "execution_count": null,
   "id": "9e182398",
   "metadata": {},
   "outputs": [],
   "source": [
    "operators=allOps()"
   ]
  },
  {
   "cell_type": "code",
   "execution_count": 177,
   "id": "d43b6f5e",
   "metadata": {},
   "outputs": [],
   "source": [
    "#Define cosine function to generate data\n",
    "def cosFunc(x0):\n",
    "    return np.cos(x0)"
   ]
  },
  {
   "cell_type": "code",
   "execution_count": 179,
   "id": "b0a61b87",
   "metadata": {},
   "outputs": [],
   "source": [
    "cosModel=[np.array([operators[8],operators[4]]),[variableSelect(0)],[]]"
   ]
  },
  {
   "cell_type": "code",
   "execution_count": 180,
   "id": "4216e75e",
   "metadata": {},
   "outputs": [
    {
     "data": {
      "text/plain": [
       "[array([<function cos at 0x0000017F84BD8CC0>,\n",
       "        <function exp at 0x0000017F84BD8900>], dtype=object),\n",
       " [<function StackGP.variableSelect.<locals>.<lambda>(variables)>],\n",
       " []]"
      ]
     },
     "execution_count": 180,
     "metadata": {},
     "output_type": "execute_result"
    }
   ],
   "source": [
    "cosModel"
   ]
  },
  {
   "cell_type": "code",
   "execution_count": 181,
   "id": "37021a5d",
   "metadata": {},
   "outputs": [],
   "source": [
    "inputData=np.array([np.arange(1,1000,.1)])\n",
    "response=inputData[0]"
   ]
  },
  {
   "cell_type": "code",
   "execution_count": 182,
   "id": "6e56f0b9",
   "metadata": {},
   "outputs": [
    {
     "data": {
      "text/plain": [
       "0.00013710288937929808"
      ]
     },
     "execution_count": 182,
     "metadata": {},
     "output_type": "execute_result"
    }
   ],
   "source": [
    "totalSharpness(cosModel,inputData,response,numPerturbations=4000,percentPerturbation=0.2)"
   ]
  },
  {
   "cell_type": "code",
   "execution_count": null,
   "id": "0529ed58",
   "metadata": {},
   "outputs": [],
   "source": []
  },
  {
   "cell_type": "code",
   "execution_count": 183,
   "id": "4a95de90",
   "metadata": {},
   "outputs": [],
   "source": [
    "from StackGP import *\n",
    "import numpy as np"
   ]
  },
  {
   "cell_type": "code",
   "execution_count": 184,
   "id": "c859cc64",
   "metadata": {},
   "outputs": [],
   "source": [
    "operators=allOps()"
   ]
  },
  {
   "cell_type": "code",
   "execution_count": 185,
   "id": "970a0a81",
   "metadata": {},
   "outputs": [],
   "source": [
    "#Define cosine function to generate data\n",
    "def cosFunc(x0):\n",
    "    return np.cos(x0)"
   ]
  },
  {
   "cell_type": "code",
   "execution_count": 186,
   "id": "18e27632",
   "metadata": {},
   "outputs": [],
   "source": [
    "cosModel=[np.array([operators[8],operators[5]]),[variableSelect(0)],[]]"
   ]
  },
  {
   "cell_type": "code",
   "execution_count": 187,
   "id": "987376e5",
   "metadata": {},
   "outputs": [
    {
     "data": {
      "text/plain": [
       "[array([<function cos at 0x0000017F84BD8CC0>,\n",
       "        <function sqrd at 0x0000017F84BD8AE0>], dtype=object),\n",
       " [<function StackGP.variableSelect.<locals>.<lambda>(variables)>],\n",
       " []]"
      ]
     },
     "execution_count": 187,
     "metadata": {},
     "output_type": "execute_result"
    }
   ],
   "source": [
    "cosModel"
   ]
  },
  {
   "cell_type": "code",
   "execution_count": 188,
   "id": "93c196ba",
   "metadata": {},
   "outputs": [],
   "source": [
    "inputData=np.array([np.arange(1,1000,.1)])\n",
    "response=inputData[0]"
   ]
  },
  {
   "cell_type": "code",
   "execution_count": 189,
   "id": "a4594eab",
   "metadata": {},
   "outputs": [
    {
     "data": {
      "text/plain": [
       "0.00013808367599439425"
      ]
     },
     "execution_count": 189,
     "metadata": {},
     "output_type": "execute_result"
    }
   ],
   "source": [
    "totalSharpness(cosModel,inputData,response,numPerturbations=4000,percentPerturbation=0.2)"
   ]
  },
  {
   "cell_type": "code",
   "execution_count": null,
   "id": "c9ecfb0e",
   "metadata": {},
   "outputs": [],
   "source": []
  },
  {
   "cell_type": "code",
   "execution_count": 190,
   "id": "ed84dcb7",
   "metadata": {},
   "outputs": [],
   "source": [
    "from StackGP import *\n",
    "import numpy as np"
   ]
  },
  {
   "cell_type": "code",
   "execution_count": 191,
   "id": "3e68383d",
   "metadata": {},
   "outputs": [],
   "source": [
    "operators=allOps()"
   ]
  },
  {
   "cell_type": "code",
   "execution_count": 192,
   "id": "a4a8f1bc",
   "metadata": {},
   "outputs": [],
   "source": [
    "#Define cosine function to generate data\n",
    "def cosFunc(x0):\n",
    "    return np.cos(x0)"
   ]
  },
  {
   "cell_type": "code",
   "execution_count": 193,
   "id": "04cfb94f",
   "metadata": {},
   "outputs": [],
   "source": [
    "cosModel=[np.array([operators[8],operators[6]]),[variableSelect(0)],[]]"
   ]
  },
  {
   "cell_type": "code",
   "execution_count": 194,
   "id": "d7432e63",
   "metadata": {},
   "outputs": [
    {
     "data": {
      "text/plain": [
       "[array([<function cos at 0x0000017F84BD8CC0>,\n",
       "        <function sqrt at 0x0000017F84BD8A40>], dtype=object),\n",
       " [<function StackGP.variableSelect.<locals>.<lambda>(variables)>],\n",
       " []]"
      ]
     },
     "execution_count": 194,
     "metadata": {},
     "output_type": "execute_result"
    }
   ],
   "source": [
    "cosModel"
   ]
  },
  {
   "cell_type": "code",
   "execution_count": 195,
   "id": "1f68c2aa",
   "metadata": {},
   "outputs": [],
   "source": [
    "inputData=np.array([np.arange(1,1000,.1)])\n",
    "response=inputData[0]"
   ]
  },
  {
   "cell_type": "code",
   "execution_count": 196,
   "id": "2e72330c",
   "metadata": {},
   "outputs": [
    {
     "data": {
      "text/plain": [
       "nan"
      ]
     },
     "execution_count": 196,
     "metadata": {},
     "output_type": "execute_result"
    }
   ],
   "source": [
    "totalSharpness(cosModel,inputData,response,numPerturbations=4000,percentPerturbation=0.2)"
   ]
  },
  {
   "cell_type": "code",
   "execution_count": null,
   "id": "0b30db2e",
   "metadata": {},
   "outputs": [],
   "source": []
  },
  {
   "cell_type": "code",
   "execution_count": 197,
   "id": "d85c814d",
   "metadata": {},
   "outputs": [],
   "source": [
    "from StackGP import *\n",
    "import numpy as np"
   ]
  },
  {
   "cell_type": "code",
   "execution_count": 198,
   "id": "7341a26a",
   "metadata": {},
   "outputs": [],
   "source": [
    "operators=allOps()"
   ]
  },
  {
   "cell_type": "code",
   "execution_count": 199,
   "id": "2b4faea7",
   "metadata": {},
   "outputs": [],
   "source": [
    "#Define cosine function to generate data\n",
    "def cosFunc(x0):\n",
    "    return np.cos(x0)"
   ]
  },
  {
   "cell_type": "code",
   "execution_count": 200,
   "id": "f1476afd",
   "metadata": {},
   "outputs": [],
   "source": [
    "cosModel=[np.array([operators[8],operators[7]]),[variableSelect(0)],[]]"
   ]
  },
  {
   "cell_type": "code",
   "execution_count": 201,
   "id": "f6d94269",
   "metadata": {},
   "outputs": [
    {
     "data": {
      "text/plain": [
       "[array([<function cos at 0x0000017F84BD8CC0>,\n",
       "        <function inv at 0x0000017F84BD8B80>], dtype=object),\n",
       " [<function StackGP.variableSelect.<locals>.<lambda>(variables)>],\n",
       " []]"
      ]
     },
     "execution_count": 201,
     "metadata": {},
     "output_type": "execute_result"
    }
   ],
   "source": [
    "cosModel"
   ]
  },
  {
   "cell_type": "code",
   "execution_count": 202,
   "id": "26d83470",
   "metadata": {},
   "outputs": [],
   "source": [
    "inputData=np.array([np.arange(1,1000,.1)])\n",
    "response=inputData[0]"
   ]
  },
  {
   "cell_type": "code",
   "execution_count": 203,
   "id": "50589d3a",
   "metadata": {},
   "outputs": [
    {
     "data": {
      "text/plain": [
       "0.00012155473175360915"
      ]
     },
     "execution_count": 203,
     "metadata": {},
     "output_type": "execute_result"
    }
   ],
   "source": [
    "totalSharpness(cosModel,inputData,response,numPerturbations=4000,percentPerturbation=0.2)"
   ]
  },
  {
   "cell_type": "code",
   "execution_count": null,
   "id": "137c0c45",
   "metadata": {},
   "outputs": [],
   "source": []
  },
  {
   "cell_type": "code",
   "execution_count": 204,
   "id": "84dcea66",
   "metadata": {},
   "outputs": [],
   "source": [
    "from StackGP import *\n",
    "import numpy as np"
   ]
  },
  {
   "cell_type": "code",
   "execution_count": 205,
   "id": "c523d9cd",
   "metadata": {},
   "outputs": [],
   "source": [
    "operators=allOps()"
   ]
  },
  {
   "cell_type": "code",
   "execution_count": 206,
   "id": "07d086dd",
   "metadata": {},
   "outputs": [],
   "source": [
    "#Define cosine function to generate data\n",
    "def cosFunc(x0):\n",
    "    return np.cos(x0)"
   ]
  },
  {
   "cell_type": "code",
   "execution_count": 207,
   "id": "5e2d1f28",
   "metadata": {},
   "outputs": [],
   "source": [
    "cosModel=[np.array([operators[8],operators[9]]),[variableSelect(0)],[]]"
   ]
  },
  {
   "cell_type": "code",
   "execution_count": 208,
   "id": "422c929a",
   "metadata": {},
   "outputs": [
    {
     "data": {
      "text/plain": [
       "[array([<function cos at 0x0000017F84BD8CC0>,\n",
       "        <function sin at 0x0000017F84BD8C20>], dtype=object),\n",
       " [<function StackGP.variableSelect.<locals>.<lambda>(variables)>],\n",
       " []]"
      ]
     },
     "execution_count": 208,
     "metadata": {},
     "output_type": "execute_result"
    }
   ],
   "source": [
    "cosModel"
   ]
  },
  {
   "cell_type": "code",
   "execution_count": 209,
   "id": "80390773",
   "metadata": {},
   "outputs": [],
   "source": [
    "inputData=np.array([np.arange(1,1000,.1)])\n",
    "response=inputData[0]"
   ]
  },
  {
   "cell_type": "code",
   "execution_count": 210,
   "id": "dbc15be9",
   "metadata": {},
   "outputs": [
    {
     "data": {
      "text/plain": [
       "0.0001454920601243689"
      ]
     },
     "execution_count": 210,
     "metadata": {},
     "output_type": "execute_result"
    }
   ],
   "source": [
    "totalSharpness(cosModel,inputData,response,numPerturbations=4000,percentPerturbation=0.2)"
   ]
  },
  {
   "cell_type": "code",
   "execution_count": null,
   "id": "755448c7",
   "metadata": {},
   "outputs": [],
   "source": []
  },
  {
   "cell_type": "code",
   "execution_count": 211,
   "id": "0b909975",
   "metadata": {},
   "outputs": [],
   "source": [
    "from StackGP import *\n",
    "import numpy as np"
   ]
  },
  {
   "cell_type": "code",
   "execution_count": 212,
   "id": "db72a7a9",
   "metadata": {},
   "outputs": [],
   "source": [
    "operators=allOps()"
   ]
  },
  {
   "cell_type": "code",
   "execution_count": 213,
   "id": "a1b7fd51",
   "metadata": {},
   "outputs": [],
   "source": [
    "#Define cosine function to generate data\n",
    "def cosFunc(x0):\n",
    "    return np.cos(x0)"
   ]
  },
  {
   "cell_type": "code",
   "execution_count": 214,
   "id": "4a643371",
   "metadata": {},
   "outputs": [],
   "source": [
    "cosModel=[np.array([operators[8],operators[10]]),[variableSelect(0)],[]]"
   ]
  },
  {
   "cell_type": "code",
   "execution_count": 215,
   "id": "41bae65b",
   "metadata": {},
   "outputs": [
    {
     "data": {
      "text/plain": [
       "[array([<function cos at 0x0000017F84BD8CC0>,\n",
       "        <function tan at 0x0000017F84BD8D60>], dtype=object),\n",
       " [<function StackGP.variableSelect.<locals>.<lambda>(variables)>],\n",
       " []]"
      ]
     },
     "execution_count": 215,
     "metadata": {},
     "output_type": "execute_result"
    }
   ],
   "source": [
    "cosModel"
   ]
  },
  {
   "cell_type": "code",
   "execution_count": 216,
   "id": "9b311f18",
   "metadata": {},
   "outputs": [],
   "source": [
    "inputData=np.array([np.arange(1,1000,.1)])\n",
    "response=inputData[0]"
   ]
  },
  {
   "cell_type": "code",
   "execution_count": 217,
   "id": "44b2cf85",
   "metadata": {},
   "outputs": [
    {
     "data": {
      "text/plain": [
       "0.00013928536878175522"
      ]
     },
     "execution_count": 217,
     "metadata": {},
     "output_type": "execute_result"
    }
   ],
   "source": [
    "totalSharpness(cosModel,inputData,response,numPerturbations=4000,percentPerturbation=0.2)"
   ]
  },
  {
   "cell_type": "code",
   "execution_count": null,
   "id": "3edb911c",
   "metadata": {},
   "outputs": [],
   "source": []
  },
  {
   "cell_type": "code",
   "execution_count": 218,
   "id": "52343c78",
   "metadata": {},
   "outputs": [],
   "source": [
    "from StackGP import *\n",
    "import numpy as np"
   ]
  },
  {
   "cell_type": "code",
   "execution_count": 219,
   "id": "4b586497",
   "metadata": {},
   "outputs": [],
   "source": [
    "operators=allOps()"
   ]
  },
  {
   "cell_type": "code",
   "execution_count": 220,
   "id": "4e919ed8",
   "metadata": {},
   "outputs": [],
   "source": [
    "#Define cosine function to generate data\n",
    "def cosFunc(x0):\n",
    "    return np.cos(x0)"
   ]
  },
  {
   "cell_type": "code",
   "execution_count": 221,
   "id": "b5f500e0",
   "metadata": {},
   "outputs": [],
   "source": [
    "cosModel=[np.array([operators[8],operators[13]]),[variableSelect(0)],[]]"
   ]
  },
  {
   "cell_type": "code",
   "execution_count": 222,
   "id": "dc0284fd",
   "metadata": {},
   "outputs": [
    {
     "data": {
      "text/plain": [
       "[array([<function cos at 0x0000017F84BD8CC0>,\n",
       "        <function arctan at 0x0000017F84BD8F40>], dtype=object),\n",
       " [<function StackGP.variableSelect.<locals>.<lambda>(variables)>],\n",
       " []]"
      ]
     },
     "execution_count": 222,
     "metadata": {},
     "output_type": "execute_result"
    }
   ],
   "source": [
    "cosModel"
   ]
  },
  {
   "cell_type": "code",
   "execution_count": 223,
   "id": "6a464cae",
   "metadata": {},
   "outputs": [],
   "source": [
    "inputData=np.array([np.arange(1,1000,.1)])\n",
    "response=inputData[0]"
   ]
  },
  {
   "cell_type": "code",
   "execution_count": 224,
   "id": "fe893aa4",
   "metadata": {},
   "outputs": [
    {
     "data": {
      "text/plain": [
       "0.00014567392244377718"
      ]
     },
     "execution_count": 224,
     "metadata": {},
     "output_type": "execute_result"
    }
   ],
   "source": [
    "totalSharpness(cosModel,inputData,response,numPerturbations=4000,percentPerturbation=0.2)"
   ]
  },
  {
   "cell_type": "code",
   "execution_count": null,
   "id": "32cadd6f",
   "metadata": {},
   "outputs": [],
   "source": []
  },
  {
   "cell_type": "code",
   "execution_count": 225,
   "id": "46c6583b",
   "metadata": {},
   "outputs": [],
   "source": [
    "from StackGP import *\n",
    "import numpy as np"
   ]
  },
  {
   "cell_type": "code",
   "execution_count": 226,
   "id": "67365c3d",
   "metadata": {},
   "outputs": [],
   "source": [
    "operators=allOps()"
   ]
  },
  {
   "cell_type": "code",
   "execution_count": 227,
   "id": "9742a7cf",
   "metadata": {},
   "outputs": [],
   "source": [
    "#Define cosine function to generate data\n",
    "def cosFunc(x0):\n",
    "    return np.cos(x0)"
   ]
  },
  {
   "cell_type": "code",
   "execution_count": 228,
   "id": "073b514c",
   "metadata": {},
   "outputs": [],
   "source": [
    "cosModel=[np.array([operators[8],operators[14]]),[variableSelect(0)],[]]"
   ]
  },
  {
   "cell_type": "code",
   "execution_count": 229,
   "id": "1ba11e59",
   "metadata": {},
   "outputs": [
    {
     "data": {
      "text/plain": [
       "[array([<function cos at 0x0000017F84BD8CC0>,\n",
       "        <function tanh at 0x0000017F84BD8FE0>], dtype=object),\n",
       " [<function StackGP.variableSelect.<locals>.<lambda>(variables)>],\n",
       " []]"
      ]
     },
     "execution_count": 229,
     "metadata": {},
     "output_type": "execute_result"
    }
   ],
   "source": [
    "cosModel"
   ]
  },
  {
   "cell_type": "code",
   "execution_count": 230,
   "id": "2622433d",
   "metadata": {},
   "outputs": [],
   "source": [
    "inputData=np.array([np.arange(1,1000,.1)])\n",
    "response=inputData[0]"
   ]
  },
  {
   "cell_type": "code",
   "execution_count": 231,
   "id": "ac12179d",
   "metadata": {},
   "outputs": [
    {
     "data": {
      "text/plain": [
       "0.00013607077977170659"
      ]
     },
     "execution_count": 231,
     "metadata": {},
     "output_type": "execute_result"
    }
   ],
   "source": [
    "totalSharpness(cosModel,inputData,response,numPerturbations=4000,percentPerturbation=0.2)"
   ]
  },
  {
   "cell_type": "code",
   "execution_count": null,
   "id": "eaebd3b1",
   "metadata": {},
   "outputs": [],
   "source": []
  },
  {
   "cell_type": "code",
   "execution_count": 232,
   "id": "5bf295c3",
   "metadata": {},
   "outputs": [],
   "source": [
    "from StackGP import *\n",
    "import numpy as np"
   ]
  },
  {
   "cell_type": "code",
   "execution_count": 233,
   "id": "6efb9e18",
   "metadata": {},
   "outputs": [],
   "source": [
    "operators=allOps()"
   ]
  },
  {
   "cell_type": "code",
   "execution_count": 234,
   "id": "719ffb0f",
   "metadata": {},
   "outputs": [],
   "source": [
    "#Define cosine function to generate data\n",
    "def cosFunc(x0):\n",
    "    return np.cos(x0)"
   ]
  },
  {
   "cell_type": "code",
   "execution_count": 235,
   "id": "21e99090",
   "metadata": {},
   "outputs": [],
   "source": [
    "cosModel=[np.array([operators[8],operators[15]]),[variableSelect(0)],[]]"
   ]
  },
  {
   "cell_type": "code",
   "execution_count": 236,
   "id": "aad5a66b",
   "metadata": {},
   "outputs": [
    {
     "data": {
      "text/plain": [
       "[array([<function cos at 0x0000017F84BD8CC0>,\n",
       "        <function log at 0x0000017F84BD9080>], dtype=object),\n",
       " [<function StackGP.variableSelect.<locals>.<lambda>(variables)>],\n",
       " []]"
      ]
     },
     "execution_count": 236,
     "metadata": {},
     "output_type": "execute_result"
    }
   ],
   "source": [
    "cosModel"
   ]
  },
  {
   "cell_type": "code",
   "execution_count": 237,
   "id": "1ae4fa8c",
   "metadata": {},
   "outputs": [],
   "source": [
    "inputData=np.array([np.arange(1,1000,.1)])\n",
    "response=inputData[0]"
   ]
  },
  {
   "cell_type": "code",
   "execution_count": 238,
   "id": "cdeff37d",
   "metadata": {},
   "outputs": [
    {
     "data": {
      "text/plain": [
       "nan"
      ]
     },
     "execution_count": 238,
     "metadata": {},
     "output_type": "execute_result"
    }
   ],
   "source": [
    "totalSharpness(cosModel,inputData,response,numPerturbations=4000,percentPerturbation=0.2)"
   ]
  },
  {
   "cell_type": "code",
   "execution_count": 2,
   "id": "732f0ffa",
   "metadata": {},
   "outputs": [
    {
     "data": {
      "image/png": "[encoded data removed]",
      "text/plain": [
       "<Figure size 1000x500 with 1 Axes>"
      ]
     },
     "metadata": {},
     "output_type": "display_data"
    }
   ],
   "source": [
    "import numpy as np\n",
    "import matplotlib.pyplot as plt \n",
    "\n",
    " \n",
    "# creating the dataset\n",
    "data = {'cos':0.00046659,'cos x cos':0.00014345,'sqrt':1,'log':1,'arctan':0.000145673,'sin':0.000145492,'tan':0.000139285,'sqrd':0.0001380836,'exp':0.000137102,'tanh':0.00013607077,'inv':0.000121554}\n",
    "courses = list(data.keys())\n",
    "values = list(data.values())\n",
    " \n",
    "fig = plt.figure(figsize = (10, 5))\n",
    "\n",
    "# creating the bar plot\n",
    "plt.bar(courses, values, color ='maroon', \n",
    "        width = 0.4)\n",
    "\n",
    "plt.xlabel(\"Functions\")\n",
    "plt.ylabel(\"Cos\")\n",
    "plt.title(\"Cosine Function Combinations\")\n",
    "plt.yscale(\"log\")\n",
    "plt.show()\n"
   ]
  },
  {
   "cell_type": "markdown",
   "id": "3953303e",
   "metadata": {},
   "source": [
    "# Tan Function Combinations"
   ]
  },
  {
   "cell_type": "code",
   "execution_count": 244,
   "id": "c2ded3d2",
   "metadata": {},
   "outputs": [],
   "source": [
    "from StackGP import *\n",
    "import numpy as np"
   ]
  },
  {
   "cell_type": "code",
   "execution_count": 245,
   "id": "7bb4ff28",
   "metadata": {},
   "outputs": [],
   "source": [
    "operators=allOps()"
   ]
  },
  {
   "cell_type": "code",
   "execution_count": 246,
   "id": "5c272e86",
   "metadata": {},
   "outputs": [],
   "source": [
    "#Define tangent function to generate data\n",
    "def tanFunc(x0):\n",
    "    return np.tan(x0)"
   ]
  },
  {
   "cell_type": "code",
   "execution_count": 247,
   "id": "e439fa9b",
   "metadata": {},
   "outputs": [],
   "source": [
    "tanModel=[np.array([operators[10],operators[4]]),[variableSelect(0)],[]]"
   ]
  },
  {
   "cell_type": "code",
   "execution_count": 248,
   "id": "0e497a7a",
   "metadata": {},
   "outputs": [
    {
     "data": {
      "text/plain": [
       "[array([<function tan at 0x0000017F84BD8D60>,\n",
       "        <function exp at 0x0000017F84BD8900>], dtype=object),\n",
       " [<function StackGP.variableSelect.<locals>.<lambda>(variables)>],\n",
       " []]"
      ]
     },
     "execution_count": 248,
     "metadata": {},
     "output_type": "execute_result"
    }
   ],
   "source": [
    "tanModel"
   ]
  },
  {
   "cell_type": "code",
   "execution_count": 249,
   "id": "4b37111e",
   "metadata": {},
   "outputs": [],
   "source": [
    "inputData=np.array([np.arange(1,1000,.1)])\n",
    "response=inputData[0]"
   ]
  },
  {
   "cell_type": "code",
   "execution_count": 250,
   "id": "ba33c450",
   "metadata": {},
   "outputs": [
    {
     "data": {
      "text/plain": [
       "nan"
      ]
     },
     "execution_count": 250,
     "metadata": {},
     "output_type": "execute_result"
    }
   ],
   "source": [
    "totalSharpness(tanModel,inputData,response,numPerturbations=4000,percentPerturbation=0.2)"
   ]
  },
  {
   "cell_type": "code",
   "execution_count": null,
   "id": "8adf1189",
   "metadata": {},
   "outputs": [],
   "source": []
  },
  {
   "cell_type": "code",
   "execution_count": 251,
   "id": "15a8c810",
   "metadata": {},
   "outputs": [],
   "source": [
    "from StackGP import *\n",
    "import numpy as np"
   ]
  },
  {
   "cell_type": "code",
   "execution_count": 252,
   "id": "64321c5a",
   "metadata": {},
   "outputs": [],
   "source": [
    "operators=allOps()"
   ]
  },
  {
   "cell_type": "code",
   "execution_count": 253,
   "id": "c24b334f",
   "metadata": {},
   "outputs": [],
   "source": [
    "#Define tangent function to generate data\n",
    "def tanFunc(x0):\n",
    "    return np.tan(x0)"
   ]
  },
  {
   "cell_type": "code",
   "execution_count": 254,
   "id": "be7a404b",
   "metadata": {},
   "outputs": [],
   "source": [
    "tanModel=[np.array([operators[10],operators[5]]),[variableSelect(0)],[]]"
   ]
  },
  {
   "cell_type": "code",
   "execution_count": 255,
   "id": "f87a33ed",
   "metadata": {},
   "outputs": [
    {
     "data": {
      "text/plain": [
       "[array([<function tan at 0x0000017F84BD8D60>,\n",
       "        <function sqrd at 0x0000017F84BD8AE0>], dtype=object),\n",
       " [<function StackGP.variableSelect.<locals>.<lambda>(variables)>],\n",
       " []]"
      ]
     },
     "execution_count": 255,
     "metadata": {},
     "output_type": "execute_result"
    }
   ],
   "source": [
    "tanModel"
   ]
  },
  {
   "cell_type": "code",
   "execution_count": 256,
   "id": "9fdb451e",
   "metadata": {},
   "outputs": [],
   "source": [
    "inputData=np.array([np.arange(1,1000,.1)])\n",
    "response=inputData[0]"
   ]
  },
  {
   "cell_type": "code",
   "execution_count": 257,
   "id": "b4feb1fa",
   "metadata": {},
   "outputs": [
    {
     "data": {
      "text/plain": [
       "0.00010649052376755532"
      ]
     },
     "execution_count": 257,
     "metadata": {},
     "output_type": "execute_result"
    }
   ],
   "source": [
    "totalSharpness(tanModel,inputData,response,numPerturbations=4000,percentPerturbation=0.2)"
   ]
  },
  {
   "cell_type": "code",
   "execution_count": null,
   "id": "9ccc1dc0",
   "metadata": {},
   "outputs": [],
   "source": []
  },
  {
   "cell_type": "code",
   "execution_count": 258,
   "id": "8779e04e",
   "metadata": {},
   "outputs": [],
   "source": [
    "from StackGP import *\n",
    "import numpy as np"
   ]
  },
  {
   "cell_type": "code",
   "execution_count": 259,
   "id": "b2cb3b29",
   "metadata": {},
   "outputs": [],
   "source": [
    "operators=allOps()"
   ]
  },
  {
   "cell_type": "code",
   "execution_count": 260,
   "id": "6703cba9",
   "metadata": {},
   "outputs": [],
   "source": [
    "#Define tangent function to generate data\n",
    "def tanFunc(x0):\n",
    "    return np.tan(x0)"
   ]
  },
  {
   "cell_type": "code",
   "execution_count": 261,
   "id": "55f8cc0b",
   "metadata": {},
   "outputs": [],
   "source": [
    "tanModel=[np.array([operators[10],operators[6]]),[variableSelect(0)],[]]"
   ]
  },
  {
   "cell_type": "code",
   "execution_count": 262,
   "id": "06117564",
   "metadata": {},
   "outputs": [
    {
     "data": {
      "text/plain": [
       "[array([<function tan at 0x0000017F84BD8D60>,\n",
       "        <function sqrt at 0x0000017F84BD8A40>], dtype=object),\n",
       " [<function StackGP.variableSelect.<locals>.<lambda>(variables)>],\n",
       " []]"
      ]
     },
     "execution_count": 262,
     "metadata": {},
     "output_type": "execute_result"
    }
   ],
   "source": [
    "tanModel"
   ]
  },
  {
   "cell_type": "code",
   "execution_count": 263,
   "id": "170c8c9e",
   "metadata": {},
   "outputs": [],
   "source": [
    "inputData=np.array([np.arange(1,1000,.1)])\n",
    "response=inputData[0]"
   ]
  },
  {
   "cell_type": "code",
   "execution_count": 264,
   "id": "f1929089",
   "metadata": {},
   "outputs": [
    {
     "data": {
      "text/plain": [
       "nan"
      ]
     },
     "execution_count": 264,
     "metadata": {},
     "output_type": "execute_result"
    }
   ],
   "source": [
    "totalSharpness(tanModel,inputData,response,numPerturbations=4000,percentPerturbation=0.2)"
   ]
  },
  {
   "cell_type": "code",
   "execution_count": null,
   "id": "25470b5c",
   "metadata": {},
   "outputs": [],
   "source": []
  },
  {
   "cell_type": "code",
   "execution_count": 265,
   "id": "a04a55a6",
   "metadata": {},
   "outputs": [],
   "source": [
    "from StackGP import *\n",
    "import numpy as np"
   ]
  },
  {
   "cell_type": "code",
   "execution_count": 266,
   "id": "3d6a125a",
   "metadata": {},
   "outputs": [],
   "source": [
    "operators=allOps()"
   ]
  },
  {
   "cell_type": "code",
   "execution_count": 267,
   "id": "94d13b37",
   "metadata": {},
   "outputs": [],
   "source": [
    "#Define tangent function to generate data\n",
    "def tanFunc(x0):\n",
    "    return np.tan(x0)"
   ]
  },
  {
   "cell_type": "code",
   "execution_count": 268,
   "id": "7ee0168d",
   "metadata": {},
   "outputs": [],
   "source": [
    "tanModel=[np.array([operators[10],operators[7]]),[variableSelect(0)],[]]"
   ]
  },
  {
   "cell_type": "code",
   "execution_count": 269,
   "id": "95ca4063",
   "metadata": {},
   "outputs": [
    {
     "data": {
      "text/plain": [
       "[array([<function tan at 0x0000017F84BD8D60>,\n",
       "        <function inv at 0x0000017F84BD8B80>], dtype=object),\n",
       " [<function StackGP.variableSelect.<locals>.<lambda>(variables)>],\n",
       " []]"
      ]
     },
     "execution_count": 269,
     "metadata": {},
     "output_type": "execute_result"
    }
   ],
   "source": [
    "tanModel"
   ]
  },
  {
   "cell_type": "code",
   "execution_count": 270,
   "id": "c0d90bb6",
   "metadata": {},
   "outputs": [],
   "source": [
    "inputData=np.array([np.arange(1,1000,.1)])\n",
    "response=inputData[0]"
   ]
  },
  {
   "cell_type": "code",
   "execution_count": 271,
   "id": "8362375e",
   "metadata": {},
   "outputs": [
    {
     "data": {
      "text/plain": [
       "0.00011879192626107715"
      ]
     },
     "execution_count": 271,
     "metadata": {},
     "output_type": "execute_result"
    }
   ],
   "source": [
    "totalSharpness(tanModel,inputData,response,numPerturbations=4000,percentPerturbation=0.2)"
   ]
  },
  {
   "cell_type": "code",
   "execution_count": null,
   "id": "bb7be9a3",
   "metadata": {},
   "outputs": [],
   "source": []
  },
  {
   "cell_type": "code",
   "execution_count": 272,
   "id": "7ec4d49b",
   "metadata": {},
   "outputs": [],
   "source": [
    "from StackGP import *\n",
    "import numpy as np"
   ]
  },
  {
   "cell_type": "code",
   "execution_count": 273,
   "id": "c339dd9f",
   "metadata": {},
   "outputs": [],
   "source": [
    "operators=allOps()"
   ]
  },
  {
   "cell_type": "code",
   "execution_count": 274,
   "id": "586f7b80",
   "metadata": {},
   "outputs": [],
   "source": [
    "#Define tangent function to generate data\n",
    "def tanFunc(x0):\n",
    "    return np.tan(x0)"
   ]
  },
  {
   "cell_type": "code",
   "execution_count": 275,
   "id": "f8abb99e",
   "metadata": {},
   "outputs": [],
   "source": [
    "tanModel=[np.array([operators[10],operators[8]]),[variableSelect(0)],[]]"
   ]
  },
  {
   "cell_type": "code",
   "execution_count": 276,
   "id": "963030d1",
   "metadata": {},
   "outputs": [
    {
     "data": {
      "text/plain": [
       "[array([<function tan at 0x0000017F84BD8D60>,\n",
       "        <function cos at 0x0000017F84BD8CC0>], dtype=object),\n",
       " [<function StackGP.variableSelect.<locals>.<lambda>(variables)>],\n",
       " []]"
      ]
     },
     "execution_count": 276,
     "metadata": {},
     "output_type": "execute_result"
    }
   ],
   "source": [
    "tanModel"
   ]
  },
  {
   "cell_type": "code",
   "execution_count": 277,
   "id": "4a7d70c7",
   "metadata": {},
   "outputs": [],
   "source": [
    "inputData=np.array([np.arange(1,1000,.1)])\n",
    "response=inputData[0]"
   ]
  },
  {
   "cell_type": "code",
   "execution_count": 278,
   "id": "97511431",
   "metadata": {},
   "outputs": [
    {
     "data": {
      "text/plain": [
       "0.00013561554899418573"
      ]
     },
     "execution_count": 278,
     "metadata": {},
     "output_type": "execute_result"
    }
   ],
   "source": [
    "totalSharpness(tanModel,inputData,response,numPerturbations=4000,percentPerturbation=0.2)"
   ]
  },
  {
   "cell_type": "code",
   "execution_count": null,
   "id": "e1aac525",
   "metadata": {},
   "outputs": [],
   "source": []
  },
  {
   "cell_type": "code",
   "execution_count": 279,
   "id": "56c9e7f9",
   "metadata": {},
   "outputs": [],
   "source": [
    "from StackGP import *\n",
    "import numpy as np"
   ]
  },
  {
   "cell_type": "code",
   "execution_count": 280,
   "id": "34ac967a",
   "metadata": {},
   "outputs": [],
   "source": [
    "operators=allOps()"
   ]
  },
  {
   "cell_type": "code",
   "execution_count": 281,
   "id": "3a9450aa",
   "metadata": {},
   "outputs": [],
   "source": [
    "#Define tangent function to generate data\n",
    "def tanFunc(x0):\n",
    "    return np.tan(x0)"
   ]
  },
  {
   "cell_type": "code",
   "execution_count": 282,
   "id": "eb8fbd36",
   "metadata": {},
   "outputs": [],
   "source": [
    "tanModel=[np.array([operators[10],operators[9]]),[variableSelect(0)],[]]"
   ]
  },
  {
   "cell_type": "code",
   "execution_count": 283,
   "id": "e846cf7e",
   "metadata": {},
   "outputs": [
    {
     "data": {
      "text/plain": [
       "[array([<function tan at 0x0000017F84BD8D60>,\n",
       "        <function sin at 0x0000017F84BD8C20>], dtype=object),\n",
       " [<function StackGP.variableSelect.<locals>.<lambda>(variables)>],\n",
       " []]"
      ]
     },
     "execution_count": 283,
     "metadata": {},
     "output_type": "execute_result"
    }
   ],
   "source": [
    "tanModel"
   ]
  },
  {
   "cell_type": "code",
   "execution_count": 284,
   "id": "f778fe78",
   "metadata": {},
   "outputs": [],
   "source": [
    "inputData=np.array([np.arange(1,1000,.1)])\n",
    "response=inputData[0]"
   ]
  },
  {
   "cell_type": "code",
   "execution_count": 285,
   "id": "a7bd87c4",
   "metadata": {},
   "outputs": [
    {
     "data": {
      "text/plain": [
       "0.00014685549504570665"
      ]
     },
     "execution_count": 285,
     "metadata": {},
     "output_type": "execute_result"
    }
   ],
   "source": [
    "totalSharpness(tanModel,inputData,response,numPerturbations=4000,percentPerturbation=0.2)"
   ]
  },
  {
   "cell_type": "code",
   "execution_count": null,
   "id": "ceda9d6c",
   "metadata": {},
   "outputs": [],
   "source": []
  },
  {
   "cell_type": "code",
   "execution_count": 286,
   "id": "5ea4c5c7",
   "metadata": {},
   "outputs": [],
   "source": [
    "from StackGP import *\n",
    "import numpy as np"
   ]
  },
  {
   "cell_type": "code",
   "execution_count": 287,
   "id": "8397b284",
   "metadata": {},
   "outputs": [],
   "source": [
    "operators=allOps()"
   ]
  },
  {
   "cell_type": "code",
   "execution_count": 288,
   "id": "f2224c57",
   "metadata": {},
   "outputs": [],
   "source": [
    "#Define tangent function to generate data\n",
    "def tanFunc(x0):\n",
    "    return np.tan(x0)"
   ]
  },
  {
   "cell_type": "code",
   "execution_count": 289,
   "id": "488b674e",
   "metadata": {},
   "outputs": [],
   "source": [
    "tanModel=[np.array([operators[10],operators[13]]),[variableSelect(0)],[]]"
   ]
  },
  {
   "cell_type": "code",
   "execution_count": 290,
   "id": "9e7e6252",
   "metadata": {},
   "outputs": [
    {
     "data": {
      "text/plain": [
       "[array([<function tan at 0x0000017F84BD8D60>,\n",
       "        <function arctan at 0x0000017F84BD8F40>], dtype=object),\n",
       " [<function StackGP.variableSelect.<locals>.<lambda>(variables)>],\n",
       " []]"
      ]
     },
     "execution_count": 290,
     "metadata": {},
     "output_type": "execute_result"
    }
   ],
   "source": [
    "tanModel"
   ]
  },
  {
   "cell_type": "code",
   "execution_count": 291,
   "id": "a6f491e3",
   "metadata": {},
   "outputs": [],
   "source": [
    "inputData=np.array([np.arange(1,1000,.1)])\n",
    "response=inputData[0]"
   ]
  },
  {
   "cell_type": "code",
   "execution_count": 292,
   "id": "075ed141",
   "metadata": {},
   "outputs": [
    {
     "data": {
      "text/plain": [
       "0.0001370963831790429"
      ]
     },
     "execution_count": 292,
     "metadata": {},
     "output_type": "execute_result"
    }
   ],
   "source": [
    "totalSharpness(tanModel,inputData,response,numPerturbations=4000,percentPerturbation=0.2)"
   ]
  },
  {
   "cell_type": "code",
   "execution_count": null,
   "id": "a744a813",
   "metadata": {},
   "outputs": [],
   "source": []
  },
  {
   "cell_type": "code",
   "execution_count": 293,
   "id": "3848a1b2",
   "metadata": {},
   "outputs": [],
   "source": [
    "from StackGP import *\n",
    "import numpy as np"
   ]
  },
  {
   "cell_type": "code",
   "execution_count": 294,
   "id": "6338c76d",
   "metadata": {},
   "outputs": [],
   "source": [
    "operators=allOps()"
   ]
  },
  {
   "cell_type": "code",
   "execution_count": 295,
   "id": "04f2b13a",
   "metadata": {},
   "outputs": [],
   "source": [
    "#Define tangent function to generate data\n",
    "def tanFunc(x0):\n",
    "    return np.tan(x0)"
   ]
  },
  {
   "cell_type": "code",
   "execution_count": 296,
   "id": "0ee7f328",
   "metadata": {},
   "outputs": [],
   "source": [
    "tanModel=[np.array([operators[10],operators[14]]),[variableSelect(0)],[]]"
   ]
  },
  {
   "cell_type": "code",
   "execution_count": 297,
   "id": "1e824cf7",
   "metadata": {},
   "outputs": [
    {
     "data": {
      "text/plain": [
       "[array([<function tan at 0x0000017F84BD8D60>,\n",
       "        <function tanh at 0x0000017F84BD8FE0>], dtype=object),\n",
       " [<function StackGP.variableSelect.<locals>.<lambda>(variables)>],\n",
       " []]"
      ]
     },
     "execution_count": 297,
     "metadata": {},
     "output_type": "execute_result"
    }
   ],
   "source": [
    "tanModel"
   ]
  },
  {
   "cell_type": "code",
   "execution_count": 298,
   "id": "31264446",
   "metadata": {},
   "outputs": [],
   "source": [
    "inputData=np.array([np.arange(1,1000,.1)])\n",
    "response=inputData[0]"
   ]
  },
  {
   "cell_type": "code",
   "execution_count": 299,
   "id": "419f73e7",
   "metadata": {},
   "outputs": [
    {
     "data": {
      "text/plain": [
       "0.0001400343235321133"
      ]
     },
     "execution_count": 299,
     "metadata": {},
     "output_type": "execute_result"
    }
   ],
   "source": [
    "totalSharpness(tanModel,inputData,response,numPerturbations=4000,percentPerturbation=0.2)"
   ]
  },
  {
   "cell_type": "code",
   "execution_count": null,
   "id": "85935baf",
   "metadata": {},
   "outputs": [],
   "source": []
  },
  {
   "cell_type": "code",
   "execution_count": 300,
   "id": "f8aba3fe",
   "metadata": {},
   "outputs": [],
   "source": [
    "from StackGP import *\n",
    "import numpy as np"
   ]
  },
  {
   "cell_type": "code",
   "execution_count": 301,
   "id": "0c9ec1cd",
   "metadata": {},
   "outputs": [],
   "source": [
    "operators=allOps()"
   ]
  },
  {
   "cell_type": "code",
   "execution_count": 302,
   "id": "a99d1291",
   "metadata": {},
   "outputs": [],
   "source": [
    "#Define tangent function to generate data\n",
    "def tanFunc(x0):\n",
    "    return np.tan(x0)"
   ]
  },
  {
   "cell_type": "code",
   "execution_count": 303,
   "id": "5051f570",
   "metadata": {},
   "outputs": [],
   "source": [
    "tanModel=[np.array([operators[10],operators[15]]),[variableSelect(0)],[]]"
   ]
  },
  {
   "cell_type": "code",
   "execution_count": 304,
   "id": "e33a7b74",
   "metadata": {},
   "outputs": [
    {
     "data": {
      "text/plain": [
       "[array([<function tan at 0x0000017F84BD8D60>,\n",
       "        <function log at 0x0000017F84BD9080>], dtype=object),\n",
       " [<function StackGP.variableSelect.<locals>.<lambda>(variables)>],\n",
       " []]"
      ]
     },
     "execution_count": 304,
     "metadata": {},
     "output_type": "execute_result"
    }
   ],
   "source": [
    "tanModel"
   ]
  },
  {
   "cell_type": "code",
   "execution_count": 305,
   "id": "dc5ea079",
   "metadata": {},
   "outputs": [],
   "source": [
    "inputData=np.array([np.arange(1,1000,.1)])\n",
    "response=inputData[0]"
   ]
  },
  {
   "cell_type": "code",
   "execution_count": 306,
   "id": "43ea7416",
   "metadata": {},
   "outputs": [
    {
     "data": {
      "text/plain": [
       "nan"
      ]
     },
     "execution_count": 306,
     "metadata": {},
     "output_type": "execute_result"
    }
   ],
   "source": [
    "totalSharpness(tanModel,inputData,response,numPerturbations=4000,percentPerturbation=0.2)"
   ]
  },
  {
   "cell_type": "code",
   "execution_count": 3,
   "id": "b3d850fc",
   "metadata": {},
   "outputs": [
    {
     "data": {
      "image/png": "[encoded data removed]",
      "text/plain": [
       "<Figure size 1000x500 with 1 Axes>"
      ]
     },
     "metadata": {},
     "output_type": "display_data"
    }
   ],
   "source": [
    "import numpy as np\n",
    "import matplotlib.pyplot as plt \n",
    "\n",
    " \n",
    "# creating the dataset\n",
    "data = {'tan':0.00016548,'tan x tan':0.0001221248,'exp':1,'sqrt':1,'log':1,'sin':0.000146855,'tanh':0.000140034,'arctan':0.000137096,'cos':0.000135615,'inv':0.00011879,'sqrd':0.00010649}\n",
    "courses = list(data.keys())\n",
    "values = list(data.values())\n",
    " \n",
    "fig = plt.figure(figsize = (10, 5))\n",
    "\n",
    "# creating the bar plot\n",
    "plt.bar(courses, values, color ='maroon', \n",
    "        width = 0.4)\n",
    "\n",
    "plt.xlabel(\"Functions\")\n",
    "plt.ylabel(\"Tan\")\n",
    "plt.title(\"Tangent Function Combinations\")\n",
    "plt.yscale(\"log\")\n",
    "plt.show()\n"
   ]
  },
  {
   "cell_type": "markdown",
   "id": "2b1b8a49",
   "metadata": {},
   "source": [
    "# Arctan Function Combinations"
   ]
  },
  {
   "cell_type": "code",
   "execution_count": 312,
   "id": "1ee0d935",
   "metadata": {},
   "outputs": [],
   "source": [
    "from StackGP import *\n",
    "import numpy as np"
   ]
  },
  {
   "cell_type": "code",
   "execution_count": 313,
   "id": "96870a7f",
   "metadata": {},
   "outputs": [],
   "source": [
    "operators=allOps()"
   ]
  },
  {
   "cell_type": "code",
   "execution_count": 314,
   "id": "3a225f56",
   "metadata": {},
   "outputs": [],
   "source": [
    "#Define arctangent function to generate data\n",
    "def arctanFunc(x0):\n",
    "    return np.arctan(x0)"
   ]
  },
  {
   "cell_type": "code",
   "execution_count": 315,
   "id": "9b8cebb8",
   "metadata": {},
   "outputs": [],
   "source": [
    "arctanModel=[np.array([operators[13],operators[4]]),[variableSelect(0)],[]]"
   ]
  },
  {
   "cell_type": "code",
   "execution_count": 316,
   "id": "b76fb7e7",
   "metadata": {},
   "outputs": [
    {
     "data": {
      "text/plain": [
       "[array([<function arctan at 0x0000017F84BD8F40>,\n",
       "        <function exp at 0x0000017F84BD8900>], dtype=object),\n",
       " [<function StackGP.variableSelect.<locals>.<lambda>(variables)>],\n",
       " []]"
      ]
     },
     "execution_count": 316,
     "metadata": {},
     "output_type": "execute_result"
    }
   ],
   "source": [
    "arctanModel"
   ]
  },
  {
   "cell_type": "code",
   "execution_count": null,
   "id": "b441635c",
   "metadata": {},
   "outputs": [],
   "source": [
    "inputData=np.array([np.arange(1,1000,.1)])\n",
    "response=inputData[0]"
   ]
  },
  {
   "cell_type": "code",
   "execution_count": 317,
   "id": "6bbe9581",
   "metadata": {},
   "outputs": [
    {
     "data": {
      "text/plain": [
       "0.0014766937985332617"
      ]
     },
     "execution_count": 317,
     "metadata": {},
     "output_type": "execute_result"
    }
   ],
   "source": [
    "totalSharpness(arctanModel,inputData,response,numPerturbations=4000,percentPerturbation=0.2)"
   ]
  },
  {
   "cell_type": "code",
   "execution_count": null,
   "id": "3b7207c4",
   "metadata": {},
   "outputs": [],
   "source": []
  },
  {
   "cell_type": "code",
   "execution_count": 318,
   "id": "11e8ef07",
   "metadata": {},
   "outputs": [],
   "source": [
    "from StackGP import *\n",
    "import numpy as np"
   ]
  },
  {
   "cell_type": "code",
   "execution_count": 319,
   "id": "422c89a2",
   "metadata": {},
   "outputs": [],
   "source": [
    "operators=allOps()"
   ]
  },
  {
   "cell_type": "code",
   "execution_count": 320,
   "id": "9a7d2a96",
   "metadata": {},
   "outputs": [],
   "source": [
    "#Define arctangent function to generate data\n",
    "def arctanFunc(x0):\n",
    "    return np.arctan(x0)"
   ]
  },
  {
   "cell_type": "code",
   "execution_count": 321,
   "id": "9af953f4",
   "metadata": {},
   "outputs": [],
   "source": [
    "arctanModel=[np.array([operators[13],operators[5]]),[variableSelect(0)],[]]"
   ]
  },
  {
   "cell_type": "code",
   "execution_count": 322,
   "id": "dfde68b4",
   "metadata": {},
   "outputs": [
    {
     "data": {
      "text/plain": [
       "[array([<function arctan at 0x0000017F84BD8F40>,\n",
       "        <function sqrd at 0x0000017F84BD8AE0>], dtype=object),\n",
       " [<function StackGP.variableSelect.<locals>.<lambda>(variables)>],\n",
       " []]"
      ]
     },
     "execution_count": 322,
     "metadata": {},
     "output_type": "execute_result"
    }
   ],
   "source": [
    "arctanModel"
   ]
  },
  {
   "cell_type": "code",
   "execution_count": 323,
   "id": "a7c8ec81",
   "metadata": {},
   "outputs": [],
   "source": [
    "inputData=np.array([np.arange(1,1000,.1)])\n",
    "response=inputData[0]"
   ]
  },
  {
   "cell_type": "code",
   "execution_count": 324,
   "id": "76f643c3",
   "metadata": {},
   "outputs": [
    {
     "data": {
      "text/plain": [
       "0.005569895120400064"
      ]
     },
     "execution_count": 324,
     "metadata": {},
     "output_type": "execute_result"
    }
   ],
   "source": [
    "totalSharpness(arctanModel,inputData,response,numPerturbations=4000,percentPerturbation=0.2)"
   ]
  },
  {
   "cell_type": "code",
   "execution_count": null,
   "id": "6f10de44",
   "metadata": {},
   "outputs": [],
   "source": []
  },
  {
   "cell_type": "code",
   "execution_count": 325,
   "id": "c39ed9f7",
   "metadata": {},
   "outputs": [],
   "source": [
    "from StackGP import *\n",
    "import numpy as np"
   ]
  },
  {
   "cell_type": "code",
   "execution_count": 326,
   "id": "1a47d27f",
   "metadata": {},
   "outputs": [],
   "source": [
    "operators=allOps()"
   ]
  },
  {
   "cell_type": "code",
   "execution_count": 327,
   "id": "f3bf40ce",
   "metadata": {},
   "outputs": [],
   "source": [
    "#Define arctangent function to generate data\n",
    "def arctanFunc(x0):\n",
    "    return np.arctan(x0)"
   ]
  },
  {
   "cell_type": "code",
   "execution_count": 328,
   "id": "3516bb49",
   "metadata": {},
   "outputs": [],
   "source": [
    "arctanModel=[np.array([operators[13],operators[6]]),[variableSelect(0)],[]]"
   ]
  },
  {
   "cell_type": "code",
   "execution_count": 329,
   "id": "6af74fea",
   "metadata": {},
   "outputs": [
    {
     "data": {
      "text/plain": [
       "[array([<function arctan at 0x0000017F84BD8F40>,\n",
       "        <function sqrt at 0x0000017F84BD8A40>], dtype=object),\n",
       " [<function StackGP.variableSelect.<locals>.<lambda>(variables)>],\n",
       " []]"
      ]
     },
     "execution_count": 329,
     "metadata": {},
     "output_type": "execute_result"
    }
   ],
   "source": [
    "arctanModel"
   ]
  },
  {
   "cell_type": "code",
   "execution_count": 330,
   "id": "ddd2b575",
   "metadata": {},
   "outputs": [],
   "source": [
    "inputData=np.array([np.arange(1,1000,.1)])\n",
    "response=inputData[0]"
   ]
  },
  {
   "cell_type": "code",
   "execution_count": 331,
   "id": "043cef8a",
   "metadata": {},
   "outputs": [
    {
     "data": {
      "text/plain": [
       "nan"
      ]
     },
     "execution_count": 331,
     "metadata": {},
     "output_type": "execute_result"
    }
   ],
   "source": [
    "totalSharpness(arctanModel,inputData,response,numPerturbations=4000,percentPerturbation=0.2)"
   ]
  },
  {
   "cell_type": "code",
   "execution_count": null,
   "id": "21d057f9",
   "metadata": {},
   "outputs": [],
   "source": []
  },
  {
   "cell_type": "code",
   "execution_count": 332,
   "id": "ede442aa",
   "metadata": {},
   "outputs": [],
   "source": [
    "from StackGP import *\n",
    "import numpy as np"
   ]
  },
  {
   "cell_type": "code",
   "execution_count": 333,
   "id": "5220303e",
   "metadata": {},
   "outputs": [],
   "source": [
    "operators=allOps()"
   ]
  },
  {
   "cell_type": "code",
   "execution_count": 334,
   "id": "79d0c53b",
   "metadata": {},
   "outputs": [],
   "source": [
    "#Define arctangent function to generate data\n",
    "def arctanFunc(x0):\n",
    "    return np.arctan(x0)"
   ]
  },
  {
   "cell_type": "code",
   "execution_count": 335,
   "id": "ce36acee",
   "metadata": {},
   "outputs": [],
   "source": [
    "arctanModel=[np.array([operators[13],operators[7]]),[variableSelect(0)],[]]"
   ]
  },
  {
   "cell_type": "code",
   "execution_count": 336,
   "id": "6569c98d",
   "metadata": {},
   "outputs": [
    {
     "data": {
      "text/plain": [
       "[array([<function arctan at 0x0000017F84BD8F40>,\n",
       "        <function inv at 0x0000017F84BD8B80>], dtype=object),\n",
       " [<function StackGP.variableSelect.<locals>.<lambda>(variables)>],\n",
       " []]"
      ]
     },
     "execution_count": 336,
     "metadata": {},
     "output_type": "execute_result"
    }
   ],
   "source": [
    "arctanModel"
   ]
  },
  {
   "cell_type": "code",
   "execution_count": 337,
   "id": "bb2521e9",
   "metadata": {},
   "outputs": [],
   "source": [
    "inputData=np.array([np.arange(1,1000,.1)])\n",
    "response=inputData[0]"
   ]
  },
  {
   "cell_type": "code",
   "execution_count": 338,
   "id": "cfa14b6f",
   "metadata": {},
   "outputs": [
    {
     "data": {
      "text/plain": [
       "0.0036642242535251863"
      ]
     },
     "execution_count": 338,
     "metadata": {},
     "output_type": "execute_result"
    }
   ],
   "source": [
    "totalSharpness(arctanModel,inputData,response,numPerturbations=4000,percentPerturbation=0.2)"
   ]
  },
  {
   "cell_type": "code",
   "execution_count": null,
   "id": "8567b9d0",
   "metadata": {},
   "outputs": [],
   "source": []
  },
  {
   "cell_type": "code",
   "execution_count": 339,
   "id": "cc5b7cbf",
   "metadata": {},
   "outputs": [],
   "source": [
    "from StackGP import *\n",
    "import numpy as np"
   ]
  },
  {
   "cell_type": "code",
   "execution_count": 340,
   "id": "3c615cfe",
   "metadata": {},
   "outputs": [],
   "source": [
    "operators=allOps()"
   ]
  },
  {
   "cell_type": "code",
   "execution_count": 341,
   "id": "012916ca",
   "metadata": {},
   "outputs": [],
   "source": [
    "#Define arctangent function to generate data\n",
    "def arctanFunc(x0):\n",
    "    return np.arctan(x0)"
   ]
  },
  {
   "cell_type": "code",
   "execution_count": 342,
   "id": "9c79ce93",
   "metadata": {},
   "outputs": [],
   "source": [
    "arctanModel=[np.array([operators[13],operators[8]]),[variableSelect(0)],[]]"
   ]
  },
  {
   "cell_type": "code",
   "execution_count": 343,
   "id": "4bc90edd",
   "metadata": {},
   "outputs": [
    {
     "data": {
      "text/plain": [
       "[array([<function arctan at 0x0000017F84BD8F40>,\n",
       "        <function cos at 0x0000017F84BD8CC0>], dtype=object),\n",
       " [<function StackGP.variableSelect.<locals>.<lambda>(variables)>],\n",
       " []]"
      ]
     },
     "execution_count": 343,
     "metadata": {},
     "output_type": "execute_result"
    }
   ],
   "source": [
    "arctanModel"
   ]
  },
  {
   "cell_type": "code",
   "execution_count": 344,
   "id": "10e3483a",
   "metadata": {},
   "outputs": [],
   "source": [
    "inputData=np.array([np.arange(1,1000,.1)])\n",
    "response=inputData[0]"
   ]
  },
  {
   "cell_type": "code",
   "execution_count": 345,
   "id": "e41a3858",
   "metadata": {},
   "outputs": [
    {
     "data": {
      "text/plain": [
       "0.005178262412444729"
      ]
     },
     "execution_count": 345,
     "metadata": {},
     "output_type": "execute_result"
    }
   ],
   "source": [
    "totalSharpness(arctanModel,inputData,response,numPerturbations=4000,percentPerturbation=0.2)"
   ]
  },
  {
   "cell_type": "code",
   "execution_count": null,
   "id": "3053df37",
   "metadata": {},
   "outputs": [],
   "source": []
  },
  {
   "cell_type": "code",
   "execution_count": 346,
   "id": "82d8abde",
   "metadata": {},
   "outputs": [],
   "source": [
    "from StackGP import *\n",
    "import numpy as np"
   ]
  },
  {
   "cell_type": "code",
   "execution_count": 347,
   "id": "d303695d",
   "metadata": {},
   "outputs": [],
   "source": [
    "operators=allOps()"
   ]
  },
  {
   "cell_type": "code",
   "execution_count": 348,
   "id": "86bcdcf2",
   "metadata": {},
   "outputs": [],
   "source": [
    "#Define arctangent function to generate data\n",
    "def arctanFunc(x0):\n",
    "    return np.arctan(x0)"
   ]
  },
  {
   "cell_type": "code",
   "execution_count": 349,
   "id": "e17feab8",
   "metadata": {},
   "outputs": [],
   "source": [
    "arctanModel=[np.array([operators[13],operators[9]]),[variableSelect(0)],[]]"
   ]
  },
  {
   "cell_type": "code",
   "execution_count": 350,
   "id": "6233de36",
   "metadata": {},
   "outputs": [
    {
     "data": {
      "text/plain": [
       "[array([<function arctan at 0x0000017F84BD8F40>,\n",
       "        <function sin at 0x0000017F84BD8C20>], dtype=object),\n",
       " [<function StackGP.variableSelect.<locals>.<lambda>(variables)>],\n",
       " []]"
      ]
     },
     "execution_count": 350,
     "metadata": {},
     "output_type": "execute_result"
    }
   ],
   "source": [
    "arctanModel"
   ]
  },
  {
   "cell_type": "code",
   "execution_count": 351,
   "id": "f288d04a",
   "metadata": {},
   "outputs": [],
   "source": [
    "inputData=np.array([np.arange(1,1000,.1)])\n",
    "response=inputData[0]"
   ]
  },
  {
   "cell_type": "code",
   "execution_count": 352,
   "id": "9cf122df",
   "metadata": {},
   "outputs": [
    {
     "data": {
      "text/plain": [
       "0.0019408272382543579"
      ]
     },
     "execution_count": 352,
     "metadata": {},
     "output_type": "execute_result"
    }
   ],
   "source": [
    "totalSharpness(arctanModel,inputData,response,numPerturbations=4000,percentPerturbation=0.2)"
   ]
  },
  {
   "cell_type": "code",
   "execution_count": null,
   "id": "6c22ffa9",
   "metadata": {},
   "outputs": [],
   "source": []
  },
  {
   "cell_type": "code",
   "execution_count": 353,
   "id": "acaa9563",
   "metadata": {},
   "outputs": [],
   "source": [
    "from StackGP import *\n",
    "import numpy as np"
   ]
  },
  {
   "cell_type": "code",
   "execution_count": 354,
   "id": "f069fa20",
   "metadata": {},
   "outputs": [],
   "source": [
    "operators=allOps()"
   ]
  },
  {
   "cell_type": "code",
   "execution_count": 355,
   "id": "89d142e1",
   "metadata": {},
   "outputs": [],
   "source": [
    "#Define arctangent function to generate data\n",
    "def arctanFunc(x0):\n",
    "    return np.arctan(x0)"
   ]
  },
  {
   "cell_type": "code",
   "execution_count": 357,
   "id": "0436fb06",
   "metadata": {},
   "outputs": [],
   "source": [
    "arctanModel=[np.array([operators[13],operators[10]]),[variableSelect(0)],[]]"
   ]
  },
  {
   "cell_type": "code",
   "execution_count": 358,
   "id": "e5b43721",
   "metadata": {},
   "outputs": [
    {
     "data": {
      "text/plain": [
       "[array([<function arctan at 0x0000017F84BD8F40>,\n",
       "        <function tan at 0x0000017F84BD8D60>], dtype=object),\n",
       " [<function StackGP.variableSelect.<locals>.<lambda>(variables)>],\n",
       " []]"
      ]
     },
     "execution_count": 358,
     "metadata": {},
     "output_type": "execute_result"
    }
   ],
   "source": [
    "arctanModel"
   ]
  },
  {
   "cell_type": "code",
   "execution_count": 359,
   "id": "45ab9fae",
   "metadata": {},
   "outputs": [],
   "source": [
    "inputData=np.array([np.arange(1,1000,.1)])\n",
    "response=inputData[0]"
   ]
  },
  {
   "cell_type": "code",
   "execution_count": 360,
   "id": "17f043d8",
   "metadata": {},
   "outputs": [
    {
     "data": {
      "text/plain": [
       "2.9226608551616333e-05"
      ]
     },
     "execution_count": 360,
     "metadata": {},
     "output_type": "execute_result"
    }
   ],
   "source": [
    "totalSharpness(arctanModel,inputData,response,numPerturbations=4000,percentPerturbation=0.2)"
   ]
  },
  {
   "cell_type": "code",
   "execution_count": null,
   "id": "4f9a3d22",
   "metadata": {},
   "outputs": [],
   "source": []
  },
  {
   "cell_type": "code",
   "execution_count": 361,
   "id": "261b4386",
   "metadata": {},
   "outputs": [],
   "source": [
    "from StackGP import *\n",
    "import numpy as np"
   ]
  },
  {
   "cell_type": "code",
   "execution_count": 362,
   "id": "93d26db4",
   "metadata": {},
   "outputs": [],
   "source": [
    "operators=allOps()"
   ]
  },
  {
   "cell_type": "code",
   "execution_count": 363,
   "id": "fc0f90b3",
   "metadata": {},
   "outputs": [],
   "source": [
    "#Define arctangent function to generate data\n",
    "def arctanFunc(x0):\n",
    "    return np.arctan(x0)"
   ]
  },
  {
   "cell_type": "code",
   "execution_count": 364,
   "id": "ce5f1634",
   "metadata": {},
   "outputs": [],
   "source": [
    "arctanModel=[np.array([operators[13],operators[14]]),[variableSelect(0)],[]]"
   ]
  },
  {
   "cell_type": "code",
   "execution_count": 365,
   "id": "c42400c8",
   "metadata": {},
   "outputs": [
    {
     "data": {
      "text/plain": [
       "[array([<function arctan at 0x0000017F84BD8F40>,\n",
       "        <function tanh at 0x0000017F84BD8FE0>], dtype=object),\n",
       " [<function StackGP.variableSelect.<locals>.<lambda>(variables)>],\n",
       " []]"
      ]
     },
     "execution_count": 365,
     "metadata": {},
     "output_type": "execute_result"
    }
   ],
   "source": [
    "arctanModel"
   ]
  },
  {
   "cell_type": "code",
   "execution_count": 366,
   "id": "e98fe0ec",
   "metadata": {},
   "outputs": [],
   "source": [
    "inputData=np.array([np.arange(1,1000,.1)])\n",
    "response=inputData[0]"
   ]
  },
  {
   "cell_type": "code",
   "execution_count": 367,
   "id": "ae3dbbd6",
   "metadata": {},
   "outputs": [
    {
     "data": {
      "text/plain": [
       "0.0019514079994923446"
      ]
     },
     "execution_count": 367,
     "metadata": {},
     "output_type": "execute_result"
    }
   ],
   "source": [
    "totalSharpness(arctanModel,inputData,response,numPerturbations=4000,percentPerturbation=0.2)"
   ]
  },
  {
   "cell_type": "code",
   "execution_count": null,
   "id": "16e2dcf1",
   "metadata": {},
   "outputs": [],
   "source": []
  },
  {
   "cell_type": "code",
   "execution_count": 368,
   "id": "6f002519",
   "metadata": {},
   "outputs": [],
   "source": [
    "from StackGP import *\n",
    "import numpy as np"
   ]
  },
  {
   "cell_type": "code",
   "execution_count": 369,
   "id": "494a0a66",
   "metadata": {},
   "outputs": [],
   "source": [
    "operators=allOps()"
   ]
  },
  {
   "cell_type": "code",
   "execution_count": 370,
   "id": "e1b49cd8",
   "metadata": {},
   "outputs": [],
   "source": [
    "#Define arctangent function to generate data\n",
    "def arctanFunc(x0):\n",
    "    return np.arctan(x0)"
   ]
  },
  {
   "cell_type": "code",
   "execution_count": 371,
   "id": "3ef99fd4",
   "metadata": {},
   "outputs": [],
   "source": [
    "arctanModel=[np.array([operators[13],operators[15]]),[variableSelect(0)],[]]"
   ]
  },
  {
   "cell_type": "code",
   "execution_count": 372,
   "id": "d87e518a",
   "metadata": {},
   "outputs": [],
   "source": [
    "inputData=np.array([np.arange(1,1000,.1)])\n",
    "response=inputData[0]"
   ]
  },
  {
   "cell_type": "code",
   "execution_count": 373,
   "id": "49f22652",
   "metadata": {},
   "outputs": [
    {
     "data": {
      "text/plain": [
       "nan"
      ]
     },
     "execution_count": 373,
     "metadata": {},
     "output_type": "execute_result"
    }
   ],
   "source": [
    "totalSharpness(arctanModel,inputData,response,numPerturbations=4000,percentPerturbation=0.2)"
   ]
  },
  {
   "cell_type": "code",
   "execution_count": 6,
   "id": "97eff78a",
   "metadata": {},
   "outputs": [
    {
     "data": {
      "image/png": "[encoded data removed]",
      "text/plain": [
       "<Figure size 1000x500 with 1 Axes>"
      ]
     },
     "metadata": {},
     "output_type": "display_data"
    }
   ],
   "source": [
    "import numpy as np\n",
    "import matplotlib.pyplot as plt \n",
    "\n",
    " \n",
    "# creating the dataset\n",
    "data = {'at':0.0000699814,'arctanxarctan':0.00192485,'sqrt':1,'log':1,'sqrd':0.0055698,'cos':0.00517826,'inv':0.003664224,'tanh':0.001951407,'sin':0.001940827,'exp':0.00147669,'tan':0.000029226}\n",
    "courses = list(data.keys())\n",
    "values = list(data.values())\n",
    " \n",
    "fig = plt.figure(figsize = (10, 5))\n",
    "\n",
    "# creating the bar plot\n",
    "plt.bar(courses, values, color ='maroon', \n",
    "        width = 0.4)\n",
    "\n",
    "plt.xlabel(\"Functions\")\n",
    "plt.ylabel(\"Arctan\")\n",
    "plt.title(\"Arctan Function Combinations\")\n",
    "plt.yscale(\"log\")\n",
    "plt.show()\n"
   ]
  },
  {
   "cell_type": "markdown",
   "id": "8535a325",
   "metadata": {},
   "source": [
    "# Exp Function Combinations"
   ]
  },
  {
   "cell_type": "code",
   "execution_count": 374,
   "id": "7fef0efa",
   "metadata": {},
   "outputs": [],
   "source": [
    "from StackGP import *\n",
    "import numpy as np"
   ]
  },
  {
   "cell_type": "code",
   "execution_count": 375,
   "id": "6fba6894",
   "metadata": {},
   "outputs": [],
   "source": [
    "operators=allOps()"
   ]
  },
  {
   "cell_type": "code",
   "execution_count": 376,
   "id": "777928a4",
   "metadata": {},
   "outputs": [],
   "source": [
    "#Define exponent function to generate data\n",
    "def expFunc(x0):\n",
    "    return np.exp(x0)"
   ]
  },
  {
   "cell_type": "code",
   "execution_count": 377,
   "id": "1b65540c",
   "metadata": {},
   "outputs": [],
   "source": [
    "expModel=[np.array([operators[4],operators[5]]),[variableSelect(0)],[]]"
   ]
  },
  {
   "cell_type": "code",
   "execution_count": 378,
   "id": "958a616e",
   "metadata": {},
   "outputs": [
    {
     "data": {
      "text/plain": [
       "[array([<function exp at 0x0000017F84BD8900>,\n",
       "        <function sqrd at 0x0000017F84BD8AE0>], dtype=object),\n",
       " [<function StackGP.variableSelect.<locals>.<lambda>(variables)>],\n",
       " []]"
      ]
     },
     "execution_count": 378,
     "metadata": {},
     "output_type": "execute_result"
    }
   ],
   "source": [
    "expModel"
   ]
  },
  {
   "cell_type": "code",
   "execution_count": 379,
   "id": "58890072",
   "metadata": {},
   "outputs": [],
   "source": [
    "inputData=np.array([np.arange(1,1000,.1)])\n",
    "response=inputData[0]"
   ]
  },
  {
   "cell_type": "code",
   "execution_count": 380,
   "id": "e62b76e4",
   "metadata": {},
   "outputs": [
    {
     "data": {
      "text/plain": [
       "nan"
      ]
     },
     "execution_count": 380,
     "metadata": {},
     "output_type": "execute_result"
    }
   ],
   "source": [
    "totalSharpness(arctanModel,inputData,response,numPerturbations=4000,percentPerturbation=0.2)"
   ]
  },
  {
   "cell_type": "code",
   "execution_count": null,
   "id": "e35b8843",
   "metadata": {},
   "outputs": [],
   "source": []
  },
  {
   "cell_type": "code",
   "execution_count": 381,
   "id": "543ab697",
   "metadata": {},
   "outputs": [],
   "source": [
    "from StackGP import *\n",
    "import numpy as np"
   ]
  },
  {
   "cell_type": "code",
   "execution_count": 382,
   "id": "14d8e7fd",
   "metadata": {},
   "outputs": [],
   "source": [
    "operators=allOps()"
   ]
  },
  {
   "cell_type": "code",
   "execution_count": 383,
   "id": "69a04c41",
   "metadata": {},
   "outputs": [],
   "source": [
    "#Define exponent function to generate data\n",
    "def expFunc(x0):\n",
    "    return np.exp(x0)"
   ]
  },
  {
   "cell_type": "code",
   "execution_count": 384,
   "id": "26e0bacc",
   "metadata": {},
   "outputs": [],
   "source": [
    "expModel=[np.array([operators[4],operators[6]]),[variableSelect(0)],[]]"
   ]
  },
  {
   "cell_type": "code",
   "execution_count": 385,
   "id": "4647a99a",
   "metadata": {},
   "outputs": [
    {
     "data": {
      "text/plain": [
       "[array([<function exp at 0x0000017F84BD8900>,\n",
       "        <function sqrt at 0x0000017F84BD8A40>], dtype=object),\n",
       " [<function StackGP.variableSelect.<locals>.<lambda>(variables)>],\n",
       " []]"
      ]
     },
     "execution_count": 385,
     "metadata": {},
     "output_type": "execute_result"
    }
   ],
   "source": [
    "expModel"
   ]
  },
  {
   "cell_type": "code",
   "execution_count": 386,
   "id": "a0f6ccce",
   "metadata": {},
   "outputs": [],
   "source": [
    "inputData=np.array([np.arange(1,1000,.1)])\n",
    "response=inputData[0]"
   ]
  },
  {
   "cell_type": "code",
   "execution_count": 387,
   "id": "2d3d6c77",
   "metadata": {},
   "outputs": [
    {
     "data": {
      "text/plain": [
       "nan"
      ]
     },
     "execution_count": 387,
     "metadata": {},
     "output_type": "execute_result"
    }
   ],
   "source": [
    "totalSharpness(arctanModel,inputData,response,numPerturbations=4000,percentPerturbation=0.2)"
   ]
  },
  {
   "cell_type": "code",
   "execution_count": null,
   "id": "8c3afb90",
   "metadata": {},
   "outputs": [],
   "source": []
  },
  {
   "cell_type": "code",
   "execution_count": 388,
   "id": "a52a45f2",
   "metadata": {},
   "outputs": [],
   "source": [
    "from StackGP import *\n",
    "import numpy as np"
   ]
  },
  {
   "cell_type": "code",
   "execution_count": 389,
   "id": "9732d7b0",
   "metadata": {},
   "outputs": [],
   "source": [
    "operators=allOps()"
   ]
  },
  {
   "cell_type": "code",
   "execution_count": 390,
   "id": "cc428e7f",
   "metadata": {},
   "outputs": [],
   "source": [
    "#Define exponent function to generate data\n",
    "def expFunc(x0):\n",
    "    return np.exp(x0)"
   ]
  },
  {
   "cell_type": "code",
   "execution_count": 391,
   "id": "124a0d54",
   "metadata": {},
   "outputs": [],
   "source": [
    "expModel=[np.array([operators[4],operators[7]]),[variableSelect(0)],[]]"
   ]
  },
  {
   "cell_type": "code",
   "execution_count": 392,
   "id": "e9e03687",
   "metadata": {},
   "outputs": [
    {
     "data": {
      "text/plain": [
       "[array([<function exp at 0x0000017F84BD8900>,\n",
       "        <function inv at 0x0000017F84BD8B80>], dtype=object),\n",
       " [<function StackGP.variableSelect.<locals>.<lambda>(variables)>],\n",
       " []]"
      ]
     },
     "execution_count": 392,
     "metadata": {},
     "output_type": "execute_result"
    }
   ],
   "source": [
    "expModel"
   ]
  },
  {
   "cell_type": "code",
   "execution_count": 393,
   "id": "584995b7",
   "metadata": {},
   "outputs": [],
   "source": [
    "inputData=np.array([np.arange(1,1000,.1)])\n",
    "response=inputData[0]"
   ]
  },
  {
   "cell_type": "code",
   "execution_count": 394,
   "id": "28e204b3",
   "metadata": {},
   "outputs": [
    {
     "data": {
      "text/plain": [
       "nan"
      ]
     },
     "execution_count": 394,
     "metadata": {},
     "output_type": "execute_result"
    }
   ],
   "source": [
    "totalSharpness(arctanModel,inputData,response,numPerturbations=4000,percentPerturbation=0.2)"
   ]
  },
  {
   "cell_type": "code",
   "execution_count": null,
   "id": "9322972a",
   "metadata": {},
   "outputs": [],
   "source": []
  },
  {
   "cell_type": "code",
   "execution_count": 395,
   "id": "89f9d9ae",
   "metadata": {},
   "outputs": [],
   "source": [
    "from StackGP import *\n",
    "import numpy as np"
   ]
  },
  {
   "cell_type": "code",
   "execution_count": 396,
   "id": "ec48fdfd",
   "metadata": {},
   "outputs": [],
   "source": [
    "operators=allOps()"
   ]
  },
  {
   "cell_type": "code",
   "execution_count": 397,
   "id": "87c902ac",
   "metadata": {},
   "outputs": [],
   "source": [
    "#Define exponent function to generate data\n",
    "def expFunc(x0):\n",
    "    return np.exp(x0)"
   ]
  },
  {
   "cell_type": "code",
   "execution_count": 398,
   "id": "1d3069b5",
   "metadata": {},
   "outputs": [],
   "source": [
    "expModel=[np.array([operators[4],operators[8]]),[variableSelect(0)],[]]"
   ]
  },
  {
   "cell_type": "code",
   "execution_count": 399,
   "id": "18b6959b",
   "metadata": {},
   "outputs": [
    {
     "data": {
      "text/plain": [
       "[array([<function exp at 0x0000017F84BD8900>,\n",
       "        <function cos at 0x0000017F84BD8CC0>], dtype=object),\n",
       " [<function StackGP.variableSelect.<locals>.<lambda>(variables)>],\n",
       " []]"
      ]
     },
     "execution_count": 399,
     "metadata": {},
     "output_type": "execute_result"
    }
   ],
   "source": [
    "expModel"
   ]
  },
  {
   "cell_type": "code",
   "execution_count": 400,
   "id": "b5623a36",
   "metadata": {},
   "outputs": [],
   "source": [
    "inputData=np.array([np.arange(1,1000,.1)])\n",
    "response=inputData[0]"
   ]
  },
  {
   "cell_type": "code",
   "execution_count": 401,
   "id": "03ee99e6",
   "metadata": {},
   "outputs": [
    {
     "data": {
      "text/plain": [
       "nan"
      ]
     },
     "execution_count": 401,
     "metadata": {},
     "output_type": "execute_result"
    }
   ],
   "source": [
    "totalSharpness(arctanModel,inputData,response,numPerturbations=4000,percentPerturbation=0.2)"
   ]
  },
  {
   "cell_type": "code",
   "execution_count": null,
   "id": "95d6ea9b",
   "metadata": {},
   "outputs": [],
   "source": []
  },
  {
   "cell_type": "code",
   "execution_count": 402,
   "id": "a7c8c8c8",
   "metadata": {},
   "outputs": [],
   "source": [
    "from StackGP import *\n",
    "import numpy as np"
   ]
  },
  {
   "cell_type": "code",
   "execution_count": 403,
   "id": "8fbe8065",
   "metadata": {},
   "outputs": [],
   "source": [
    "operators=allOps()"
   ]
  },
  {
   "cell_type": "code",
   "execution_count": 404,
   "id": "b3a94e19",
   "metadata": {},
   "outputs": [],
   "source": [
    "#Define exponent function to generate data\n",
    "def expFunc(x0):\n",
    "    return np.exp(x0)"
   ]
  },
  {
   "cell_type": "code",
   "execution_count": 405,
   "id": "5406d2c0",
   "metadata": {},
   "outputs": [],
   "source": [
    "expModel=[np.array([operators[4],operators[9]]),[variableSelect(0)],[]]"
   ]
  },
  {
   "cell_type": "code",
   "execution_count": 406,
   "id": "da99b62d",
   "metadata": {},
   "outputs": [
    {
     "data": {
      "text/plain": [
       "[array([<function exp at 0x0000017F84BD8900>,\n",
       "        <function sin at 0x0000017F84BD8C20>], dtype=object),\n",
       " [<function StackGP.variableSelect.<locals>.<lambda>(variables)>],\n",
       " []]"
      ]
     },
     "execution_count": 406,
     "metadata": {},
     "output_type": "execute_result"
    }
   ],
   "source": [
    "expModel"
   ]
  },
  {
   "cell_type": "code",
   "execution_count": 407,
   "id": "895151f5",
   "metadata": {},
   "outputs": [],
   "source": [
    "inputData=np.array([np.arange(1,1000,.1)])\n",
    "response=inputData[0]"
   ]
  },
  {
   "cell_type": "code",
   "execution_count": 408,
   "id": "3b13991b",
   "metadata": {},
   "outputs": [
    {
     "data": {
      "text/plain": [
       "nan"
      ]
     },
     "execution_count": 408,
     "metadata": {},
     "output_type": "execute_result"
    }
   ],
   "source": [
    "totalSharpness(arctanModel,inputData,response,numPerturbations=4000,percentPerturbation=0.2)"
   ]
  },
  {
   "cell_type": "code",
   "execution_count": null,
   "id": "c1786ad8",
   "metadata": {},
   "outputs": [],
   "source": []
  },
  {
   "cell_type": "code",
   "execution_count": 409,
   "id": "eed1518c",
   "metadata": {},
   "outputs": [],
   "source": [
    "from StackGP import *\n",
    "import numpy as np"
   ]
  },
  {
   "cell_type": "code",
   "execution_count": 410,
   "id": "9af40d09",
   "metadata": {},
   "outputs": [],
   "source": [
    "operators=allOps()"
   ]
  },
  {
   "cell_type": "code",
   "execution_count": 411,
   "id": "171a31a5",
   "metadata": {},
   "outputs": [],
   "source": [
    "#Define exponent function to generate data\n",
    "def expFunc(x0):\n",
    "    return np.exp(x0)"
   ]
  },
  {
   "cell_type": "code",
   "execution_count": 412,
   "id": "ca19c8eb",
   "metadata": {},
   "outputs": [],
   "source": [
    "expModel=[np.array([operators[4],operators[10]]),[variableSelect(0)],[]]"
   ]
  },
  {
   "cell_type": "code",
   "execution_count": 413,
   "id": "ebe8e1c9",
   "metadata": {},
   "outputs": [
    {
     "data": {
      "text/plain": [
       "[array([<function exp at 0x0000017F84BD8900>,\n",
       "        <function tan at 0x0000017F84BD8D60>], dtype=object),\n",
       " [<function StackGP.variableSelect.<locals>.<lambda>(variables)>],\n",
       " []]"
      ]
     },
     "execution_count": 413,
     "metadata": {},
     "output_type": "execute_result"
    }
   ],
   "source": [
    "expModel"
   ]
  },
  {
   "cell_type": "code",
   "execution_count": 414,
   "id": "f06b9583",
   "metadata": {},
   "outputs": [],
   "source": [
    "inputData=np.array([np.arange(1,1000,.1)])\n",
    "response=inputData[0]"
   ]
  },
  {
   "cell_type": "code",
   "execution_count": 415,
   "id": "bcfd17c6",
   "metadata": {},
   "outputs": [
    {
     "data": {
      "text/plain": [
       "nan"
      ]
     },
     "execution_count": 415,
     "metadata": {},
     "output_type": "execute_result"
    }
   ],
   "source": [
    "totalSharpness(arctanModel,inputData,response,numPerturbations=4000,percentPerturbation=0.2)"
   ]
  },
  {
   "cell_type": "code",
   "execution_count": null,
   "id": "32956daf",
   "metadata": {},
   "outputs": [],
   "source": []
  },
  {
   "cell_type": "code",
   "execution_count": 416,
   "id": "2bfae73a",
   "metadata": {},
   "outputs": [],
   "source": [
    "from StackGP import *\n",
    "import numpy as np"
   ]
  },
  {
   "cell_type": "code",
   "execution_count": 417,
   "id": "5afb94ec",
   "metadata": {},
   "outputs": [],
   "source": [
    "operators=allOps()"
   ]
  },
  {
   "cell_type": "code",
   "execution_count": 418,
   "id": "f9adf2fc",
   "metadata": {},
   "outputs": [],
   "source": [
    "#Define exponent function to generate data\n",
    "def expFunc(x0):\n",
    "    return np.exp(x0)"
   ]
  },
  {
   "cell_type": "code",
   "execution_count": 419,
   "id": "75d4d090",
   "metadata": {},
   "outputs": [],
   "source": [
    "expModel=[np.array([operators[4],operators[13]]),[variableSelect(0)],[]]"
   ]
  },
  {
   "cell_type": "code",
   "execution_count": 420,
   "id": "a860e901",
   "metadata": {},
   "outputs": [
    {
     "data": {
      "text/plain": [
       "[array([<function exp at 0x0000017F84BD8900>,\n",
       "        <function arctan at 0x0000017F84BD8F40>], dtype=object),\n",
       " [<function StackGP.variableSelect.<locals>.<lambda>(variables)>],\n",
       " []]"
      ]
     },
     "execution_count": 420,
     "metadata": {},
     "output_type": "execute_result"
    }
   ],
   "source": [
    "expModel"
   ]
  },
  {
   "cell_type": "code",
   "execution_count": 421,
   "id": "d528b186",
   "metadata": {},
   "outputs": [],
   "source": [
    "inputData=np.array([np.arange(1,1000,.1)])\n",
    "response=inputData[0]"
   ]
  },
  {
   "cell_type": "code",
   "execution_count": 422,
   "id": "cdb078a4",
   "metadata": {},
   "outputs": [
    {
     "data": {
      "text/plain": [
       "nan"
      ]
     },
     "execution_count": 422,
     "metadata": {},
     "output_type": "execute_result"
    }
   ],
   "source": [
    "totalSharpness(arctanModel,inputData,response,numPerturbations=4000,percentPerturbation=0.2)"
   ]
  },
  {
   "cell_type": "code",
   "execution_count": null,
   "id": "bf1139da",
   "metadata": {},
   "outputs": [],
   "source": []
  },
  {
   "cell_type": "code",
   "execution_count": 423,
   "id": "f18093e2",
   "metadata": {},
   "outputs": [],
   "source": [
    "from StackGP import *\n",
    "import numpy as np"
   ]
  },
  {
   "cell_type": "code",
   "execution_count": 424,
   "id": "75d6005f",
   "metadata": {},
   "outputs": [],
   "source": [
    "operators=allOps()"
   ]
  },
  {
   "cell_type": "code",
   "execution_count": 425,
   "id": "22a6ce01",
   "metadata": {},
   "outputs": [],
   "source": [
    "#Define exponent function to generate data\n",
    "def expFunc(x0):\n",
    "    return np.exp(x0)"
   ]
  },
  {
   "cell_type": "code",
   "execution_count": 426,
   "id": "fde59c64",
   "metadata": {},
   "outputs": [],
   "source": [
    "expModel=[np.array([operators[4],operators[14]]),[variableSelect(0)],[]]"
   ]
  },
  {
   "cell_type": "code",
   "execution_count": 427,
   "id": "5fc93a13",
   "metadata": {},
   "outputs": [
    {
     "data": {
      "text/plain": [
       "[array([<function exp at 0x0000017F84BD8900>,\n",
       "        <function tanh at 0x0000017F84BD8FE0>], dtype=object),\n",
       " [<function StackGP.variableSelect.<locals>.<lambda>(variables)>],\n",
       " []]"
      ]
     },
     "execution_count": 427,
     "metadata": {},
     "output_type": "execute_result"
    }
   ],
   "source": [
    "expModel"
   ]
  },
  {
   "cell_type": "code",
   "execution_count": 428,
   "id": "863de183",
   "metadata": {},
   "outputs": [],
   "source": [
    "inputData=np.array([np.arange(1,1000,.1)])\n",
    "response=inputData[0]"
   ]
  },
  {
   "cell_type": "code",
   "execution_count": 429,
   "id": "efa4c407",
   "metadata": {},
   "outputs": [
    {
     "data": {
      "text/plain": [
       "nan"
      ]
     },
     "execution_count": 429,
     "metadata": {},
     "output_type": "execute_result"
    }
   ],
   "source": [
    "totalSharpness(arctanModel,inputData,response,numPerturbations=4000,percentPerturbation=0.2)"
   ]
  },
  {
   "cell_type": "code",
   "execution_count": null,
   "id": "a517d70f",
   "metadata": {},
   "outputs": [],
   "source": []
  },
  {
   "cell_type": "code",
   "execution_count": 430,
   "id": "a885cc6b",
   "metadata": {},
   "outputs": [],
   "source": [
    "from StackGP import *\n",
    "import numpy as np"
   ]
  },
  {
   "cell_type": "code",
   "execution_count": 431,
   "id": "639ab8bc",
   "metadata": {},
   "outputs": [],
   "source": [
    "operators=allOps()"
   ]
  },
  {
   "cell_type": "code",
   "execution_count": 432,
   "id": "a0f73304",
   "metadata": {},
   "outputs": [],
   "source": [
    "#Define exponent function to generate data\n",
    "def expFunc(x0):\n",
    "    return np.exp(x0)"
   ]
  },
  {
   "cell_type": "code",
   "execution_count": 433,
   "id": "188770b9",
   "metadata": {},
   "outputs": [],
   "source": [
    "expModel=[np.array([operators[4],operators[15]]),[variableSelect(0)],[]]"
   ]
  },
  {
   "cell_type": "code",
   "execution_count": 434,
   "id": "c399b1a5",
   "metadata": {},
   "outputs": [
    {
     "data": {
      "text/plain": [
       "[array([<function exp at 0x0000017F84BD8900>,\n",
       "        <function log at 0x0000017F84BD9080>], dtype=object),\n",
       " [<function StackGP.variableSelect.<locals>.<lambda>(variables)>],\n",
       " []]"
      ]
     },
     "execution_count": 434,
     "metadata": {},
     "output_type": "execute_result"
    }
   ],
   "source": [
    "expModel"
   ]
  },
  {
   "cell_type": "code",
   "execution_count": 435,
   "id": "781296b2",
   "metadata": {},
   "outputs": [],
   "source": [
    "inputData=np.array([np.arange(1,1000,.1)])\n",
    "response=inputData[0]"
   ]
  },
  {
   "cell_type": "code",
   "execution_count": 436,
   "id": "5a58817d",
   "metadata": {},
   "outputs": [
    {
     "data": {
      "text/plain": [
       "nan"
      ]
     },
     "execution_count": 436,
     "metadata": {},
     "output_type": "execute_result"
    }
   ],
   "source": [
    "totalSharpness(arctanModel,inputData,response,numPerturbations=4000,percentPerturbation=0.2)"
   ]
  },
  {
   "cell_type": "code",
   "execution_count": 7,
   "id": "ec68df23",
   "metadata": {},
   "outputs": [
    {
     "data": {
      "image/png": "[encoded data removed]",
      "text/plain": [
       "<Figure size 1000x500 with 1 Axes>"
      ]
     },
     "metadata": {},
     "output_type": "display_data"
    }
   ],
   "source": [
    "import numpy as np\n",
    "import matplotlib.pyplot as plt \n",
    "\n",
    " \n",
    "# creating the dataset\n",
    "data = {'exp':0.002119226,'exp x exp':1, 'sqrd':1,'sqrt':1,'inv':1,'cos':1,'sin':1,'tan':1,'arctan':1,'tanh':1,'log':1}\n",
    "courses = list(data.keys())\n",
    "values = list(data.values())\n",
    " \n",
    "fig = plt.figure(figsize = (10, 5))\n",
    "\n",
    "# creating the bar plot\n",
    "plt.bar(courses, values, color ='maroon', \n",
    "        width = 0.4)\n",
    "\n",
    "plt.xlabel(\"Functions\")\n",
    "plt.ylabel(\"Exp\")\n",
    "plt.title(\"Exponent Function Combinations\")\n",
    "plt.yscale(\"log\")\n",
    "plt.show()\n"
   ]
  },
  {
   "cell_type": "markdown",
   "id": "04f4a6eb",
   "metadata": {},
   "source": [
    "# Squared Function Combinations"
   ]
  },
  {
   "cell_type": "code",
   "execution_count": 437,
   "id": "1ca99f11",
   "metadata": {},
   "outputs": [],
   "source": [
    "from StackGP import *\n",
    "import numpy as np"
   ]
  },
  {
   "cell_type": "code",
   "execution_count": 438,
   "id": "6ab1b0a7",
   "metadata": {},
   "outputs": [],
   "source": [
    "operators=allOps()"
   ]
  },
  {
   "cell_type": "code",
   "execution_count": 439,
   "id": "bb2d8b85",
   "metadata": {},
   "outputs": [],
   "source": [
    "#Define squared function to generate data\n",
    "def sqrdFunc(x0):\n",
    "    return np.sqrd(x0)"
   ]
  },
  {
   "cell_type": "code",
   "execution_count": 441,
   "id": "e92a06bf",
   "metadata": {},
   "outputs": [],
   "source": [
    "sqrdModel=[np.array([operators[5],operators[4]]),[variableSelect(0)],[]]"
   ]
  },
  {
   "cell_type": "code",
   "execution_count": 443,
   "id": "0e1e9655",
   "metadata": {},
   "outputs": [
    {
     "data": {
      "text/plain": [
       "[array([<function sqrd at 0x0000017F84BD8AE0>,\n",
       "        <function exp at 0x0000017F84BD8900>], dtype=object),\n",
       " [<function StackGP.variableSelect.<locals>.<lambda>(variables)>],\n",
       " []]"
      ]
     },
     "execution_count": 443,
     "metadata": {},
     "output_type": "execute_result"
    }
   ],
   "source": [
    "sqrdModel"
   ]
  },
  {
   "cell_type": "code",
   "execution_count": 444,
   "id": "34760cdf",
   "metadata": {},
   "outputs": [],
   "source": [
    "inputData=np.array([np.arange(1,1000,.1)])\n",
    "response=inputData[0]"
   ]
  },
  {
   "cell_type": "code",
   "execution_count": 445,
   "id": "f55d6d7c",
   "metadata": {},
   "outputs": [
    {
     "data": {
      "text/plain": [
       "nan"
      ]
     },
     "execution_count": 445,
     "metadata": {},
     "output_type": "execute_result"
    }
   ],
   "source": [
    "totalSharpness(sqrdModel,inputData,response,numPerturbations=4000,percentPerturbation=0.2)"
   ]
  },
  {
   "cell_type": "code",
   "execution_count": null,
   "id": "3d3abbf7",
   "metadata": {},
   "outputs": [],
   "source": []
  },
  {
   "cell_type": "code",
   "execution_count": 446,
   "id": "322af2c7",
   "metadata": {},
   "outputs": [],
   "source": [
    "from StackGP import *\n",
    "import numpy as np"
   ]
  },
  {
   "cell_type": "code",
   "execution_count": 447,
   "id": "9d1588bb",
   "metadata": {},
   "outputs": [],
   "source": [
    "operators=allOps()"
   ]
  },
  {
   "cell_type": "code",
   "execution_count": 448,
   "id": "e2b251ae",
   "metadata": {},
   "outputs": [],
   "source": [
    "#Define squared function to generate data\n",
    "def sqrdFunc(x0):\n",
    "    return np.sqrd(x0)"
   ]
  },
  {
   "cell_type": "code",
   "execution_count": 451,
   "id": "b8207aea",
   "metadata": {},
   "outputs": [],
   "source": [
    "sqrdModel=[np.array([operators[5],operators[6]]),[variableSelect(0)],[]]"
   ]
  },
  {
   "cell_type": "code",
   "execution_count": 452,
   "id": "495bfea4",
   "metadata": {},
   "outputs": [
    {
     "data": {
      "text/plain": [
       "[array([<function sqrd at 0x0000017F84BD8AE0>,\n",
       "        <function sqrt at 0x0000017F84BD8A40>], dtype=object),\n",
       " [<function StackGP.variableSelect.<locals>.<lambda>(variables)>],\n",
       " []]"
      ]
     },
     "execution_count": 452,
     "metadata": {},
     "output_type": "execute_result"
    }
   ],
   "source": [
    "sqrdModel"
   ]
  },
  {
   "cell_type": "code",
   "execution_count": 453,
   "id": "817bda29",
   "metadata": {},
   "outputs": [],
   "source": [
    "inputData=np.array([np.arange(1,1000,.1)])\n",
    "response=inputData[0]"
   ]
  },
  {
   "cell_type": "code",
   "execution_count": 454,
   "id": "0d636d91",
   "metadata": {},
   "outputs": [
    {
     "data": {
      "text/plain": [
       "3.002769647946007e-05"
      ]
     },
     "execution_count": 454,
     "metadata": {},
     "output_type": "execute_result"
    }
   ],
   "source": [
    "totalSharpness(sqrdModel,inputData,response,numPerturbations=4000,percentPerturbation=0.2)"
   ]
  },
  {
   "cell_type": "code",
   "execution_count": null,
   "id": "d8d3ab11",
   "metadata": {},
   "outputs": [],
   "source": []
  },
  {
   "cell_type": "code",
   "execution_count": 455,
   "id": "57260788",
   "metadata": {},
   "outputs": [],
   "source": [
    "from StackGP import *\n",
    "import numpy as np"
   ]
  },
  {
   "cell_type": "code",
   "execution_count": 456,
   "id": "c7f4dd6b",
   "metadata": {},
   "outputs": [],
   "source": [
    "operators=allOps()"
   ]
  },
  {
   "cell_type": "code",
   "execution_count": 457,
   "id": "6b7ad585",
   "metadata": {},
   "outputs": [],
   "source": [
    "#Define squared function to generate data\n",
    "def sqrdFunc(x0):\n",
    "    return np.sqrd(x0)"
   ]
  },
  {
   "cell_type": "code",
   "execution_count": 458,
   "id": "df1ba60e",
   "metadata": {},
   "outputs": [],
   "source": [
    "sqrdModel=[np.array([operators[5],operators[7]]),[variableSelect(0)],[]]"
   ]
  },
  {
   "cell_type": "code",
   "execution_count": 459,
   "id": "f65df2a6",
   "metadata": {},
   "outputs": [
    {
     "data": {
      "text/plain": [
       "[array([<function sqrd at 0x0000017F84BD8AE0>,\n",
       "        <function inv at 0x0000017F84BD8B80>], dtype=object),\n",
       " [<function StackGP.variableSelect.<locals>.<lambda>(variables)>],\n",
       " []]"
      ]
     },
     "execution_count": 459,
     "metadata": {},
     "output_type": "execute_result"
    }
   ],
   "source": [
    "sqrdModel"
   ]
  },
  {
   "cell_type": "code",
   "execution_count": 460,
   "id": "821deafe",
   "metadata": {},
   "outputs": [],
   "source": [
    "inputData=np.array([np.arange(1,1000,.1)])\n",
    "response=inputData[0]"
   ]
  },
  {
   "cell_type": "code",
   "execution_count": 461,
   "id": "11f36c82",
   "metadata": {},
   "outputs": [
    {
     "data": {
      "text/plain": [
       "0.0007992779434055198"
      ]
     },
     "execution_count": 461,
     "metadata": {},
     "output_type": "execute_result"
    }
   ],
   "source": [
    "totalSharpness(sqrdModel,inputData,response,numPerturbations=4000,percentPerturbation=0.2)"
   ]
  },
  {
   "cell_type": "code",
   "execution_count": null,
   "id": "46108be2",
   "metadata": {},
   "outputs": [],
   "source": []
  },
  {
   "cell_type": "code",
   "execution_count": 462,
   "id": "4c265299",
   "metadata": {},
   "outputs": [],
   "source": [
    "from StackGP import *\n",
    "import numpy as np"
   ]
  },
  {
   "cell_type": "code",
   "execution_count": 463,
   "id": "841fe4d0",
   "metadata": {},
   "outputs": [],
   "source": [
    "operators=allOps()"
   ]
  },
  {
   "cell_type": "code",
   "execution_count": 464,
   "id": "29ecfa82",
   "metadata": {},
   "outputs": [],
   "source": [
    "#Define squared function to generate data\n",
    "def sqrdFunc(x0):\n",
    "    return np.sqrd(x0)"
   ]
  },
  {
   "cell_type": "code",
   "execution_count": 465,
   "id": "95a9a06f",
   "metadata": {},
   "outputs": [],
   "source": [
    "sqrdModel=[np.array([operators[5],operators[8]]),[variableSelect(0)],[]]"
   ]
  },
  {
   "cell_type": "code",
   "execution_count": 466,
   "id": "1479f054",
   "metadata": {},
   "outputs": [
    {
     "data": {
      "text/plain": [
       "[array([<function sqrd at 0x0000017F84BD8AE0>,\n",
       "        <function cos at 0x0000017F84BD8CC0>], dtype=object),\n",
       " [<function StackGP.variableSelect.<locals>.<lambda>(variables)>],\n",
       " []]"
      ]
     },
     "execution_count": 466,
     "metadata": {},
     "output_type": "execute_result"
    }
   ],
   "source": [
    "sqrdModel"
   ]
  },
  {
   "cell_type": "code",
   "execution_count": 467,
   "id": "057aaafd",
   "metadata": {},
   "outputs": [],
   "source": [
    "inputData=np.array([np.arange(1,1000,.1)])\n",
    "response=inputData[0]"
   ]
  },
  {
   "cell_type": "code",
   "execution_count": 468,
   "id": "9702b6c0",
   "metadata": {},
   "outputs": [
    {
     "data": {
      "text/plain": [
       "0.00015099625392360258"
      ]
     },
     "execution_count": 468,
     "metadata": {},
     "output_type": "execute_result"
    }
   ],
   "source": [
    "totalSharpness(sqrdModel,inputData,response,numPerturbations=4000,percentPerturbation=0.2)"
   ]
  },
  {
   "cell_type": "code",
   "execution_count": null,
   "id": "c7768e40",
   "metadata": {},
   "outputs": [],
   "source": []
  },
  {
   "cell_type": "code",
   "execution_count": 469,
   "id": "b8ff1990",
   "metadata": {},
   "outputs": [],
   "source": [
    "from StackGP import *\n",
    "import numpy as np"
   ]
  },
  {
   "cell_type": "code",
   "execution_count": 470,
   "id": "ba20252d",
   "metadata": {},
   "outputs": [],
   "source": [
    "operators=allOps()"
   ]
  },
  {
   "cell_type": "code",
   "execution_count": 471,
   "id": "800dbd75",
   "metadata": {},
   "outputs": [],
   "source": [
    "#Define squared function to generate data\n",
    "def sqrdFunc(x0):\n",
    "    return np.sqrd(x0)"
   ]
  },
  {
   "cell_type": "code",
   "execution_count": 472,
   "id": "c41ce060",
   "metadata": {},
   "outputs": [],
   "source": [
    "sqrdModel=[np.array([operators[5],operators[9]]),[variableSelect(0)],[]]"
   ]
  },
  {
   "cell_type": "code",
   "execution_count": 473,
   "id": "740c31af",
   "metadata": {},
   "outputs": [
    {
     "data": {
      "text/plain": [
       "[array([<function sqrd at 0x0000017F84BD8AE0>,\n",
       "        <function sin at 0x0000017F84BD8C20>], dtype=object),\n",
       " [<function StackGP.variableSelect.<locals>.<lambda>(variables)>],\n",
       " []]"
      ]
     },
     "execution_count": 473,
     "metadata": {},
     "output_type": "execute_result"
    }
   ],
   "source": [
    "sqrdModel"
   ]
  },
  {
   "cell_type": "code",
   "execution_count": 474,
   "id": "471d9cc1",
   "metadata": {},
   "outputs": [],
   "source": [
    "inputData=np.array([np.arange(1,1000,.1)])\n",
    "response=inputData[0]"
   ]
  },
  {
   "cell_type": "code",
   "execution_count": 475,
   "id": "0d82547b",
   "metadata": {},
   "outputs": [
    {
     "data": {
      "text/plain": [
       "0.00014124434705664607"
      ]
     },
     "execution_count": 475,
     "metadata": {},
     "output_type": "execute_result"
    }
   ],
   "source": [
    "totalSharpness(sqrdModel,inputData,response,numPerturbations=4000,percentPerturbation=0.2)"
   ]
  },
  {
   "cell_type": "code",
   "execution_count": null,
   "id": "f696e245",
   "metadata": {},
   "outputs": [],
   "source": []
  },
  {
   "cell_type": "code",
   "execution_count": 476,
   "id": "a6e36e93",
   "metadata": {},
   "outputs": [],
   "source": [
    "from StackGP import *\n",
    "import numpy as np"
   ]
  },
  {
   "cell_type": "code",
   "execution_count": 477,
   "id": "4ee4cc6d",
   "metadata": {},
   "outputs": [],
   "source": [
    "operators=allOps()"
   ]
  },
  {
   "cell_type": "code",
   "execution_count": 478,
   "id": "7006f925",
   "metadata": {},
   "outputs": [],
   "source": [
    "#Define squared function to generate data\n",
    "def sqrdFunc(x0):\n",
    "    return np.sqrd(x0)"
   ]
  },
  {
   "cell_type": "code",
   "execution_count": 479,
   "id": "eb18b322",
   "metadata": {},
   "outputs": [],
   "source": [
    "sqrdModel=[np.array([operators[5],operators[10]]),[variableSelect(0)],[]]"
   ]
  },
  {
   "cell_type": "code",
   "execution_count": 480,
   "id": "b2689862",
   "metadata": {},
   "outputs": [
    {
     "data": {
      "text/plain": [
       "[array([<function sqrd at 0x0000017F84BD8AE0>,\n",
       "        <function tan at 0x0000017F84BD8D60>], dtype=object),\n",
       " [<function StackGP.variableSelect.<locals>.<lambda>(variables)>],\n",
       " []]"
      ]
     },
     "execution_count": 480,
     "metadata": {},
     "output_type": "execute_result"
    }
   ],
   "source": [
    "sqrdModel"
   ]
  },
  {
   "cell_type": "code",
   "execution_count": 481,
   "id": "0e5b5681",
   "metadata": {},
   "outputs": [],
   "source": [
    "inputData=np.array([np.arange(1,1000,.1)])\n",
    "response=inputData[0]"
   ]
  },
  {
   "cell_type": "code",
   "execution_count": 482,
   "id": "1f0f6425",
   "metadata": {},
   "outputs": [
    {
     "data": {
      "text/plain": [
       "0.00011890492156969017"
      ]
     },
     "execution_count": 482,
     "metadata": {},
     "output_type": "execute_result"
    }
   ],
   "source": [
    "totalSharpness(sqrdModel,inputData,response,numPerturbations=4000,percentPerturbation=0.2)"
   ]
  },
  {
   "cell_type": "code",
   "execution_count": null,
   "id": "b8a21fcc",
   "metadata": {},
   "outputs": [],
   "source": []
  },
  {
   "cell_type": "code",
   "execution_count": 483,
   "id": "d4018b72",
   "metadata": {},
   "outputs": [],
   "source": [
    "from StackGP import *\n",
    "import numpy as np"
   ]
  },
  {
   "cell_type": "code",
   "execution_count": 484,
   "id": "28b5d818",
   "metadata": {},
   "outputs": [],
   "source": [
    "operators=allOps()"
   ]
  },
  {
   "cell_type": "code",
   "execution_count": 485,
   "id": "b6df17f4",
   "metadata": {},
   "outputs": [],
   "source": [
    "#Define squared function to generate data\n",
    "def sqrdFunc(x0):\n",
    "    return np.sqrd(x0)"
   ]
  },
  {
   "cell_type": "code",
   "execution_count": 486,
   "id": "aac981b6",
   "metadata": {},
   "outputs": [],
   "source": [
    "sqrdModel=[np.array([operators[5],operators[13]]),[variableSelect(0)],[]]"
   ]
  },
  {
   "cell_type": "code",
   "execution_count": 487,
   "id": "ed6f4c05",
   "metadata": {},
   "outputs": [
    {
     "data": {
      "text/plain": [
       "[array([<function sqrd at 0x0000017F84BD8AE0>,\n",
       "        <function arctan at 0x0000017F84BD8F40>], dtype=object),\n",
       " [<function StackGP.variableSelect.<locals>.<lambda>(variables)>],\n",
       " []]"
      ]
     },
     "execution_count": 487,
     "metadata": {},
     "output_type": "execute_result"
    }
   ],
   "source": [
    "sqrdModel"
   ]
  },
  {
   "cell_type": "code",
   "execution_count": 488,
   "id": "1f9b2da6",
   "metadata": {},
   "outputs": [],
   "source": [
    "inputData=np.array([np.arange(1,1000,.1)])\n",
    "response=inputData[0]"
   ]
  },
  {
   "cell_type": "code",
   "execution_count": 489,
   "id": "40127d4c",
   "metadata": {},
   "outputs": [
    {
     "data": {
      "text/plain": [
       "0.0009196909594601028"
      ]
     },
     "execution_count": 489,
     "metadata": {},
     "output_type": "execute_result"
    }
   ],
   "source": [
    "totalSharpness(sqrdModel,inputData,response,numPerturbations=4000,percentPerturbation=0.2)"
   ]
  },
  {
   "cell_type": "code",
   "execution_count": null,
   "id": "592e9847",
   "metadata": {},
   "outputs": [],
   "source": []
  },
  {
   "cell_type": "code",
   "execution_count": 490,
   "id": "a380592e",
   "metadata": {},
   "outputs": [],
   "source": [
    "from StackGP import *\n",
    "import numpy as np"
   ]
  },
  {
   "cell_type": "code",
   "execution_count": 491,
   "id": "36c9c418",
   "metadata": {},
   "outputs": [],
   "source": [
    "operators=allOps()"
   ]
  },
  {
   "cell_type": "code",
   "execution_count": 492,
   "id": "adfc986d",
   "metadata": {},
   "outputs": [],
   "source": [
    "#Define squared function to generate data\n",
    "def sqrdFunc(x0):\n",
    "    return np.sqrd(x0)"
   ]
  },
  {
   "cell_type": "code",
   "execution_count": 493,
   "id": "d1514f5c",
   "metadata": {},
   "outputs": [],
   "source": [
    "sqrdModel=[np.array([operators[5],operators[14]]),[variableSelect(0)],[]]"
   ]
  },
  {
   "cell_type": "code",
   "execution_count": 494,
   "id": "8d5f4e9d",
   "metadata": {},
   "outputs": [
    {
     "data": {
      "text/plain": [
       "[array([<function sqrd at 0x0000017F84BD8AE0>,\n",
       "        <function tanh at 0x0000017F84BD8FE0>], dtype=object),\n",
       " [<function StackGP.variableSelect.<locals>.<lambda>(variables)>],\n",
       " []]"
      ]
     },
     "execution_count": 494,
     "metadata": {},
     "output_type": "execute_result"
    }
   ],
   "source": [
    "sqrdModel"
   ]
  },
  {
   "cell_type": "code",
   "execution_count": 495,
   "id": "759887ae",
   "metadata": {},
   "outputs": [],
   "source": [
    "inputData=np.array([np.arange(1,1000,.1)])\n",
    "response=inputData[0]"
   ]
  },
  {
   "cell_type": "code",
   "execution_count": 496,
   "id": "31d23bcf",
   "metadata": {},
   "outputs": [
    {
     "data": {
      "text/plain": [
       "0.0007855655053724838"
      ]
     },
     "execution_count": 496,
     "metadata": {},
     "output_type": "execute_result"
    }
   ],
   "source": [
    "totalSharpness(sqrdModel,inputData,response,numPerturbations=4000,percentPerturbation=0.2)"
   ]
  },
  {
   "cell_type": "code",
   "execution_count": null,
   "id": "9b728aef",
   "metadata": {},
   "outputs": [],
   "source": []
  },
  {
   "cell_type": "code",
   "execution_count": 497,
   "id": "5c6394eb",
   "metadata": {},
   "outputs": [],
   "source": [
    "from StackGP import *\n",
    "import numpy as np"
   ]
  },
  {
   "cell_type": "code",
   "execution_count": 498,
   "id": "d3b71a7b",
   "metadata": {},
   "outputs": [],
   "source": [
    "operators=allOps()"
   ]
  },
  {
   "cell_type": "code",
   "execution_count": 499,
   "id": "3028c292",
   "metadata": {},
   "outputs": [],
   "source": [
    "#Define squared function to generate data\n",
    "def sqrdFunc(x0):\n",
    "    return np.sqrd(x0)"
   ]
  },
  {
   "cell_type": "code",
   "execution_count": 500,
   "id": "170f373b",
   "metadata": {},
   "outputs": [],
   "source": [
    "sqrdModel=[np.array([operators[5],operators[15]]),[variableSelect(0)],[]]"
   ]
  },
  {
   "cell_type": "code",
   "execution_count": 501,
   "id": "9655134c",
   "metadata": {},
   "outputs": [
    {
     "data": {
      "text/plain": [
       "[array([<function sqrd at 0x0000017F84BD8AE0>,\n",
       "        <function log at 0x0000017F84BD9080>], dtype=object),\n",
       " [<function StackGP.variableSelect.<locals>.<lambda>(variables)>],\n",
       " []]"
      ]
     },
     "execution_count": 501,
     "metadata": {},
     "output_type": "execute_result"
    }
   ],
   "source": [
    "sqrdModel"
   ]
  },
  {
   "cell_type": "code",
   "execution_count": 502,
   "id": "f0dee5f3",
   "metadata": {},
   "outputs": [],
   "source": [
    "inputData=np.array([np.arange(1,1000,.1)])\n",
    "response=inputData[0]"
   ]
  },
  {
   "cell_type": "code",
   "execution_count": 503,
   "id": "f0c55550",
   "metadata": {},
   "outputs": [
    {
     "data": {
      "text/plain": [
       "0.007484583481247888"
      ]
     },
     "execution_count": 503,
     "metadata": {},
     "output_type": "execute_result"
    }
   ],
   "source": [
    "totalSharpness(sqrdModel,inputData,response,numPerturbations=4000,percentPerturbation=0.2)"
   ]
  },
  {
   "cell_type": "code",
   "execution_count": 8,
   "id": "77859b32",
   "metadata": {},
   "outputs": [
    {
     "data": {
      "image/png": "[encoded data removed]",
      "text/plain": [
       "<Figure size 1000x500 with 1 Axes>"
      ]
     },
     "metadata": {},
     "output_type": "display_data"
    }
   ],
   "source": [
    "import numpy as np\n",
    "import matplotlib.pyplot as plt \n",
    "\n",
    " \n",
    "# creating the dataset\n",
    "data = {'sqrd':0.0004872306,'sqrd x sqrd':0.00074449,'exp':1,'arctan':0.00091969,'inv':0.00079927,'tanh':0.00078556,'log':0.000748458,'cos':0.00015099625,'sin':0.0001412443,'tan':0.0001189049,'sqrt':0.00003002769}\n",
    "courses = list(data.keys())\n",
    "values = list(data.values())\n",
    " \n",
    "fig = plt.figure(figsize = (10, 5))\n",
    "\n",
    "# creating the bar plot\n",
    "plt.bar(courses, values, color ='maroon', \n",
    "        width = 0.4)\n",
    "\n",
    "plt.xlabel(\"Functions\")\n",
    "plt.ylabel(\"Sqrd\")\n",
    "plt.title(\"Squared Function Combinations\")\n",
    "plt.yscale(\"log\")\n",
    "plt.show()\n"
   ]
  },
  {
   "cell_type": "markdown",
   "id": "d1c7d317",
   "metadata": {},
   "source": [
    "# Square root Function Combinations"
   ]
  },
  {
   "cell_type": "code",
   "execution_count": 504,
   "id": "bc8d40cd",
   "metadata": {},
   "outputs": [],
   "source": [
    "from StackGP import *\n",
    "import numpy as np"
   ]
  },
  {
   "cell_type": "code",
   "execution_count": 505,
   "id": "cd33333f",
   "metadata": {},
   "outputs": [],
   "source": [
    "operators=allOps()"
   ]
  },
  {
   "cell_type": "code",
   "execution_count": 507,
   "id": "8a94930a",
   "metadata": {},
   "outputs": [],
   "source": [
    "#Define square root function to generate data\n",
    "def sqrtFunc(x0):\n",
    "    return np.sqrt(x0)"
   ]
  },
  {
   "cell_type": "code",
   "execution_count": 508,
   "id": "5a7f9ed7",
   "metadata": {},
   "outputs": [],
   "source": [
    "sqrtModel=[np.array([operators[6],operators[4]]),[variableSelect(0)],[]]"
   ]
  },
  {
   "cell_type": "code",
   "execution_count": 509,
   "id": "6c72951e",
   "metadata": {},
   "outputs": [
    {
     "data": {
      "text/plain": [
       "[array([<function sqrt at 0x0000017F84BD8A40>,\n",
       "        <function exp at 0x0000017F84BD8900>], dtype=object),\n",
       " [<function StackGP.variableSelect.<locals>.<lambda>(variables)>],\n",
       " []]"
      ]
     },
     "execution_count": 509,
     "metadata": {},
     "output_type": "execute_result"
    }
   ],
   "source": [
    "sqrtModel"
   ]
  },
  {
   "cell_type": "code",
   "execution_count": 510,
   "id": "290e7e62",
   "metadata": {},
   "outputs": [],
   "source": [
    "inputData=np.array([np.arange(1,1000,.1)])\n",
    "response=inputData[0]"
   ]
  },
  {
   "cell_type": "code",
   "execution_count": 587,
   "id": "2de85d67",
   "metadata": {},
   "outputs": [
    {
     "data": {
      "text/plain": [
       "nan"
      ]
     },
     "execution_count": 587,
     "metadata": {},
     "output_type": "execute_result"
    }
   ],
   "source": [
    "totalSharpness(sqrtModel,inputData,response,numPerturbations=4000,percentPerturbation=0.2)"
   ]
  },
  {
   "cell_type": "code",
   "execution_count": null,
   "id": "4e591a43",
   "metadata": {},
   "outputs": [],
   "source": []
  },
  {
   "cell_type": "code",
   "execution_count": 512,
   "id": "74aa4eda",
   "metadata": {},
   "outputs": [],
   "source": [
    "from StackGP import *\n",
    "import numpy as np"
   ]
  },
  {
   "cell_type": "code",
   "execution_count": 513,
   "id": "2bac7cfa",
   "metadata": {},
   "outputs": [],
   "source": [
    "operators=allOps()"
   ]
  },
  {
   "cell_type": "code",
   "execution_count": 514,
   "id": "7c56bbe5",
   "metadata": {},
   "outputs": [],
   "source": [
    "#Define square root function to generate data\n",
    "def sqrtFunc(x0):\n",
    "    return np.sqrt(x0)"
   ]
  },
  {
   "cell_type": "code",
   "execution_count": 516,
   "id": "86aacbdc",
   "metadata": {},
   "outputs": [],
   "source": [
    "sqrtModel=[np.array([operators[6],operators[5]]),[variableSelect(0)],[]]"
   ]
  },
  {
   "cell_type": "code",
   "execution_count": 517,
   "id": "2a56d86b",
   "metadata": {},
   "outputs": [
    {
     "data": {
      "text/plain": [
       "[array([<function sqrt at 0x0000017F84BD8A40>,\n",
       "        <function sqrd at 0x0000017F84BD8AE0>], dtype=object),\n",
       " [<function StackGP.variableSelect.<locals>.<lambda>(variables)>],\n",
       " []]"
      ]
     },
     "execution_count": 517,
     "metadata": {},
     "output_type": "execute_result"
    }
   ],
   "source": [
    "sqrtModel"
   ]
  },
  {
   "cell_type": "code",
   "execution_count": 518,
   "id": "19cd618c",
   "metadata": {},
   "outputs": [],
   "source": [
    "inputData=np.array([np.arange(1,1000,.1)])\n",
    "response=inputData[0]"
   ]
  },
  {
   "cell_type": "code",
   "execution_count": 586,
   "id": "30fd0a63",
   "metadata": {},
   "outputs": [
    {
     "data": {
      "text/plain": [
       "nan"
      ]
     },
     "execution_count": 586,
     "metadata": {},
     "output_type": "execute_result"
    }
   ],
   "source": [
    "totalSharpness(sqrtModel,inputData,response,numPerturbations=4000,percentPerturbation=0.2)"
   ]
  },
  {
   "cell_type": "code",
   "execution_count": null,
   "id": "53b890b7",
   "metadata": {},
   "outputs": [],
   "source": []
  },
  {
   "cell_type": "code",
   "execution_count": 520,
   "id": "9fda78fd",
   "metadata": {},
   "outputs": [],
   "source": [
    "from StackGP import *\n",
    "import numpy as np"
   ]
  },
  {
   "cell_type": "code",
   "execution_count": 521,
   "id": "9fab0c7a",
   "metadata": {},
   "outputs": [],
   "source": [
    "operators=allOps()"
   ]
  },
  {
   "cell_type": "code",
   "execution_count": 522,
   "id": "3ba503bd",
   "metadata": {},
   "outputs": [],
   "source": [
    "#Define square root function to generate data\n",
    "def sqrtFunc(x0):\n",
    "    return np.sqrt(x0)"
   ]
  },
  {
   "cell_type": "code",
   "execution_count": 523,
   "id": "29764e8d",
   "metadata": {},
   "outputs": [],
   "source": [
    "sqrtModel=[np.array([operators[6],operators[7]]),[variableSelect(0)],[]]"
   ]
  },
  {
   "cell_type": "code",
   "execution_count": 524,
   "id": "8cf37365",
   "metadata": {},
   "outputs": [
    {
     "data": {
      "text/plain": [
       "[array([<function sqrt at 0x0000017F84BD8A40>,\n",
       "        <function inv at 0x0000017F84BD8B80>], dtype=object),\n",
       " [<function StackGP.variableSelect.<locals>.<lambda>(variables)>],\n",
       " []]"
      ]
     },
     "execution_count": 524,
     "metadata": {},
     "output_type": "execute_result"
    }
   ],
   "source": [
    "sqrtModel"
   ]
  },
  {
   "cell_type": "code",
   "execution_count": 525,
   "id": "cb93784c",
   "metadata": {},
   "outputs": [],
   "source": [
    "inputData=np.array([np.arange(1,1000,.1)])\n",
    "response=inputData[0]"
   ]
  },
  {
   "cell_type": "code",
   "execution_count": 585,
   "id": "33b8a784",
   "metadata": {},
   "outputs": [
    {
     "data": {
      "text/plain": [
       "nan"
      ]
     },
     "execution_count": 585,
     "metadata": {},
     "output_type": "execute_result"
    }
   ],
   "source": [
    "totalSharpness(sqrtModel,inputData,response,numPerturbations=4000,percentPerturbation=0.2)"
   ]
  },
  {
   "cell_type": "code",
   "execution_count": null,
   "id": "f16cc3e0",
   "metadata": {},
   "outputs": [],
   "source": []
  },
  {
   "cell_type": "code",
   "execution_count": 527,
   "id": "7b9858f8",
   "metadata": {},
   "outputs": [],
   "source": [
    "from StackGP import *\n",
    "import numpy as np"
   ]
  },
  {
   "cell_type": "code",
   "execution_count": 528,
   "id": "f290c1e6",
   "metadata": {},
   "outputs": [],
   "source": [
    "operators=allOps()"
   ]
  },
  {
   "cell_type": "code",
   "execution_count": 529,
   "id": "f1563c01",
   "metadata": {},
   "outputs": [],
   "source": [
    "#Define square root function to generate data\n",
    "def sqrtFunc(x0):\n",
    "    return np.sqrt(x0)"
   ]
  },
  {
   "cell_type": "code",
   "execution_count": 530,
   "id": "6c8228b8",
   "metadata": {},
   "outputs": [],
   "source": [
    "sqrtModel=[np.array([operators[6],operators[8]]),[variableSelect(0)],[]]"
   ]
  },
  {
   "cell_type": "code",
   "execution_count": 531,
   "id": "43b198e7",
   "metadata": {},
   "outputs": [
    {
     "data": {
      "text/plain": [
       "[array([<function sqrt at 0x0000017F84BD8A40>,\n",
       "        <function cos at 0x0000017F84BD8CC0>], dtype=object),\n",
       " [<function StackGP.variableSelect.<locals>.<lambda>(variables)>],\n",
       " []]"
      ]
     },
     "execution_count": 531,
     "metadata": {},
     "output_type": "execute_result"
    }
   ],
   "source": [
    "sqrtModel"
   ]
  },
  {
   "cell_type": "code",
   "execution_count": 532,
   "id": "1052e8ca",
   "metadata": {},
   "outputs": [],
   "source": [
    "inputData=np.array([np.arange(1,1000,.1)])\n",
    "response=inputData[0]"
   ]
  },
  {
   "cell_type": "code",
   "execution_count": 584,
   "id": "c1e7997b",
   "metadata": {},
   "outputs": [
    {
     "data": {
      "text/plain": [
       "nan"
      ]
     },
     "execution_count": 584,
     "metadata": {},
     "output_type": "execute_result"
    }
   ],
   "source": [
    "totalSharpness(sqrtModel,inputData,response,numPerturbations=4000,percentPerturbation=0.2)"
   ]
  },
  {
   "cell_type": "code",
   "execution_count": null,
   "id": "2db4a305",
   "metadata": {},
   "outputs": [],
   "source": []
  },
  {
   "cell_type": "code",
   "execution_count": 534,
   "id": "e736051e",
   "metadata": {},
   "outputs": [],
   "source": [
    "from StackGP import *\n",
    "import numpy as np"
   ]
  },
  {
   "cell_type": "code",
   "execution_count": 535,
   "id": "e6c356cb",
   "metadata": {},
   "outputs": [],
   "source": [
    "operators=allOps()"
   ]
  },
  {
   "cell_type": "code",
   "execution_count": 536,
   "id": "23e5c56a",
   "metadata": {},
   "outputs": [],
   "source": [
    "#Define square root function to generate data\n",
    "def sqrtFunc(x0):\n",
    "    return np.sqrt(x0)"
   ]
  },
  {
   "cell_type": "code",
   "execution_count": 537,
   "id": "6915a632",
   "metadata": {},
   "outputs": [],
   "source": [
    "sqrtModel=[np.array([operators[6],operators[9]]),[variableSelect(0)],[]]"
   ]
  },
  {
   "cell_type": "code",
   "execution_count": 538,
   "id": "9ea46a1a",
   "metadata": {},
   "outputs": [
    {
     "data": {
      "text/plain": [
       "[array([<function sqrt at 0x0000017F84BD8A40>,\n",
       "        <function sin at 0x0000017F84BD8C20>], dtype=object),\n",
       " [<function StackGP.variableSelect.<locals>.<lambda>(variables)>],\n",
       " []]"
      ]
     },
     "execution_count": 538,
     "metadata": {},
     "output_type": "execute_result"
    }
   ],
   "source": [
    "sqrtModel"
   ]
  },
  {
   "cell_type": "code",
   "execution_count": 539,
   "id": "6a392c5e",
   "metadata": {},
   "outputs": [],
   "source": [
    "inputData=np.array([np.arange(1,1000,.1)])\n",
    "response=inputData[0]"
   ]
  },
  {
   "cell_type": "code",
   "execution_count": 583,
   "id": "ebb28458",
   "metadata": {},
   "outputs": [
    {
     "data": {
      "text/plain": [
       "nan"
      ]
     },
     "execution_count": 583,
     "metadata": {},
     "output_type": "execute_result"
    }
   ],
   "source": [
    "totalSharpness(sqrtModel,inputData,response,numPerturbations=4000,percentPerturbation=0.2)"
   ]
  },
  {
   "cell_type": "code",
   "execution_count": null,
   "id": "8303c3ee",
   "metadata": {},
   "outputs": [],
   "source": []
  },
  {
   "cell_type": "code",
   "execution_count": 541,
   "id": "eaf80e9e",
   "metadata": {},
   "outputs": [],
   "source": [
    "from StackGP import *\n",
    "import numpy as np"
   ]
  },
  {
   "cell_type": "code",
   "execution_count": 542,
   "id": "026c9e3c",
   "metadata": {},
   "outputs": [],
   "source": [
    "operators=allOps()"
   ]
  },
  {
   "cell_type": "code",
   "execution_count": 543,
   "id": "7b5dfbc9",
   "metadata": {},
   "outputs": [],
   "source": [
    "#Define square root function to generate data\n",
    "def sqrtFunc(x0):\n",
    "    return np.sqrt(x0)"
   ]
  },
  {
   "cell_type": "code",
   "execution_count": 545,
   "id": "755fe893",
   "metadata": {},
   "outputs": [],
   "source": [
    "sqrtModel=[np.array([operators[6],operators[10]]),[variableSelect(0)],[]]"
   ]
  },
  {
   "cell_type": "code",
   "execution_count": 546,
   "id": "346297e1",
   "metadata": {},
   "outputs": [
    {
     "data": {
      "text/plain": [
       "[array([<function sqrt at 0x0000017F84BD8A40>,\n",
       "        <function tan at 0x0000017F84BD8D60>], dtype=object),\n",
       " [<function StackGP.variableSelect.<locals>.<lambda>(variables)>],\n",
       " []]"
      ]
     },
     "execution_count": 546,
     "metadata": {},
     "output_type": "execute_result"
    }
   ],
   "source": [
    "sqrtModel"
   ]
  },
  {
   "cell_type": "code",
   "execution_count": 547,
   "id": "585b1760",
   "metadata": {},
   "outputs": [],
   "source": [
    "inputData=np.array([np.arange(1,1000,.1)])\n",
    "response=inputData[0]"
   ]
  },
  {
   "cell_type": "code",
   "execution_count": 582,
   "id": "2b17278d",
   "metadata": {},
   "outputs": [
    {
     "data": {
      "text/plain": [
       "nan"
      ]
     },
     "execution_count": 582,
     "metadata": {},
     "output_type": "execute_result"
    }
   ],
   "source": [
    "totalSharpness(sqrtModel,inputData,response,numPerturbations=4000,percentPerturbation=0.2)"
   ]
  },
  {
   "cell_type": "code",
   "execution_count": null,
   "id": "224288c8",
   "metadata": {},
   "outputs": [],
   "source": []
  },
  {
   "cell_type": "code",
   "execution_count": 549,
   "id": "0fe1ec40",
   "metadata": {},
   "outputs": [],
   "source": [
    "from StackGP import *\n",
    "import numpy as np"
   ]
  },
  {
   "cell_type": "code",
   "execution_count": 550,
   "id": "4271dcda",
   "metadata": {},
   "outputs": [],
   "source": [
    "operators=allOps()"
   ]
  },
  {
   "cell_type": "code",
   "execution_count": 551,
   "id": "27bf7266",
   "metadata": {},
   "outputs": [],
   "source": [
    "#Define square root function to generate data\n",
    "def sqrtFunc(x0):\n",
    "    return np.sqrt(x0)"
   ]
  },
  {
   "cell_type": "code",
   "execution_count": 552,
   "id": "aab9a471",
   "metadata": {},
   "outputs": [],
   "source": [
    "sqrtModel=[np.array([operators[6],operators[13]]),[variableSelect(0)],[]]"
   ]
  },
  {
   "cell_type": "code",
   "execution_count": 553,
   "id": "18a54ae2",
   "metadata": {},
   "outputs": [
    {
     "data": {
      "text/plain": [
       "[array([<function sqrt at 0x0000017F84BD8A40>,\n",
       "        <function arctan at 0x0000017F84BD8F40>], dtype=object),\n",
       " [<function StackGP.variableSelect.<locals>.<lambda>(variables)>],\n",
       " []]"
      ]
     },
     "execution_count": 553,
     "metadata": {},
     "output_type": "execute_result"
    }
   ],
   "source": [
    "sqrtModel"
   ]
  },
  {
   "cell_type": "code",
   "execution_count": 554,
   "id": "2399740a",
   "metadata": {},
   "outputs": [],
   "source": [
    "inputData=np.array([np.arange(1,1000,.1)])\n",
    "response=inputData[0]"
   ]
  },
  {
   "cell_type": "code",
   "execution_count": 581,
   "id": "94ce202f",
   "metadata": {},
   "outputs": [
    {
     "data": {
      "text/plain": [
       "nan"
      ]
     },
     "execution_count": 581,
     "metadata": {},
     "output_type": "execute_result"
    }
   ],
   "source": [
    "totalSharpness(sqrtModel,inputData,response,numPerturbations=4000,percentPerturbation=0.2)"
   ]
  },
  {
   "cell_type": "code",
   "execution_count": null,
   "id": "66e0dc78",
   "metadata": {},
   "outputs": [],
   "source": []
  },
  {
   "cell_type": "code",
   "execution_count": 556,
   "id": "44581d82",
   "metadata": {},
   "outputs": [],
   "source": [
    "from StackGP import *\n",
    "import numpy as np"
   ]
  },
  {
   "cell_type": "code",
   "execution_count": 557,
   "id": "65a3ad91",
   "metadata": {},
   "outputs": [],
   "source": [
    "operators=allOps()"
   ]
  },
  {
   "cell_type": "code",
   "execution_count": 558,
   "id": "85c7911b",
   "metadata": {},
   "outputs": [],
   "source": [
    "#Define square root function to generate data\n",
    "def sqrtFunc(x0):\n",
    "    return np.sqrt(x0)"
   ]
  },
  {
   "cell_type": "code",
   "execution_count": 559,
   "id": "2f7cbb14",
   "metadata": {},
   "outputs": [],
   "source": [
    "sqrtModel=[np.array([operators[6],operators[14]]),[variableSelect(0)],[]]"
   ]
  },
  {
   "cell_type": "code",
   "execution_count": 560,
   "id": "48f935e0",
   "metadata": {},
   "outputs": [
    {
     "data": {
      "text/plain": [
       "[array([<function sqrt at 0x0000017F84BD8A40>,\n",
       "        <function tanh at 0x0000017F84BD8FE0>], dtype=object),\n",
       " [<function StackGP.variableSelect.<locals>.<lambda>(variables)>],\n",
       " []]"
      ]
     },
     "execution_count": 560,
     "metadata": {},
     "output_type": "execute_result"
    }
   ],
   "source": [
    "sqrtModel"
   ]
  },
  {
   "cell_type": "code",
   "execution_count": 561,
   "id": "88203ff2",
   "metadata": {},
   "outputs": [],
   "source": [
    "inputData=np.array([np.arange(1,1000,.1)])\n",
    "response=inputData[0]"
   ]
  },
  {
   "cell_type": "code",
   "execution_count": 580,
   "id": "acb39491",
   "metadata": {},
   "outputs": [
    {
     "data": {
      "text/plain": [
       "nan"
      ]
     },
     "execution_count": 580,
     "metadata": {},
     "output_type": "execute_result"
    }
   ],
   "source": [
    "totalSharpness(sqrtModel,inputData,response,numPerturbations=4000,percentPerturbation=0.2)"
   ]
  },
  {
   "cell_type": "code",
   "execution_count": null,
   "id": "6f7f67b5",
   "metadata": {},
   "outputs": [],
   "source": []
  },
  {
   "cell_type": "code",
   "execution_count": 563,
   "id": "ba1e1ce3",
   "metadata": {},
   "outputs": [],
   "source": [
    "from StackGP import *\n",
    "import numpy as np"
   ]
  },
  {
   "cell_type": "code",
   "execution_count": 564,
   "id": "386b915c",
   "metadata": {},
   "outputs": [],
   "source": [
    "operators=allOps()"
   ]
  },
  {
   "cell_type": "code",
   "execution_count": 565,
   "id": "8557d50d",
   "metadata": {},
   "outputs": [],
   "source": [
    "#Define square root function to generate data\n",
    "def sqrtFunc(x0):\n",
    "    return np.sqrt(x0)"
   ]
  },
  {
   "cell_type": "code",
   "execution_count": 566,
   "id": "d8a8c7de",
   "metadata": {},
   "outputs": [],
   "source": [
    "sqrtModel=[np.array([operators[6],operators[15]]),[variableSelect(0)],[]]"
   ]
  },
  {
   "cell_type": "code",
   "execution_count": 567,
   "id": "130f6f3d",
   "metadata": {},
   "outputs": [
    {
     "data": {
      "text/plain": [
       "[array([<function sqrt at 0x0000017F84BD8A40>,\n",
       "        <function log at 0x0000017F84BD9080>], dtype=object),\n",
       " [<function StackGP.variableSelect.<locals>.<lambda>(variables)>],\n",
       " []]"
      ]
     },
     "execution_count": 567,
     "metadata": {},
     "output_type": "execute_result"
    }
   ],
   "source": [
    "sqrtModel"
   ]
  },
  {
   "cell_type": "code",
   "execution_count": 568,
   "id": "a2e67e82",
   "metadata": {},
   "outputs": [],
   "source": [
    "inputData=np.array([np.arange(1,1000,.1)])\n",
    "response=inputData[0]"
   ]
  },
  {
   "cell_type": "code",
   "execution_count": 579,
   "id": "277d28b0",
   "metadata": {},
   "outputs": [
    {
     "data": {
      "text/plain": [
       "nan"
      ]
     },
     "execution_count": 579,
     "metadata": {},
     "output_type": "execute_result"
    }
   ],
   "source": [
    "totalSharpness(sqrtModel,inputData,response,numPerturbations=4000,percentPerturbation=0.2)"
   ]
  },
  {
   "cell_type": "code",
   "execution_count": 40,
   "id": "7c431c54",
   "metadata": {},
   "outputs": [
    {
     "data": {
      "image/png": "[encoded data removed]",
      "text/plain": [
       "<Figure size 1000x500 with 1 Axes>"
      ]
     },
     "metadata": {},
     "output_type": "display_data"
    }
   ],
   "source": [
    "import numpy as np\n",
    "import matplotlib.pyplot as plt \n",
    "\n",
    " \n",
    "# creating the dataset\n",
    "data = {'sqrt':1,'sqrt x sqrt':1,'exp':1,'sqrd':1,'inv':1,'cos':1,'sin':1,'tan':1,'arctan':1,'tanh':1,'log':1}\n",
    "courses = list(data.keys())\n",
    "values = list(data.values())\n",
    " \n",
    "fig = plt.figure(figsize = (10, 5))\n",
    "\n",
    "# creating the bar plot\n",
    "plt.bar(courses, values, color ='maroon', \n",
    "        width = 0.4)\n",
    "\n",
    "plt.xlabel(\"Functions\")\n",
    "plt.ylabel(\"Sqrt\")\n",
    "plt.title(\"Square root Function Combinations\")\n",
    "plt.yscale(\"log\")\n",
    "plt.show()\n"
   ]
  },
  {
   "cell_type": "markdown",
   "id": "4a592eca",
   "metadata": {},
   "source": [
    "# Inverse Function Combinations"
   ]
  },
  {
   "cell_type": "code",
   "execution_count": 570,
   "id": "d843c8ac",
   "metadata": {},
   "outputs": [],
   "source": [
    "from StackGP import *\n",
    "import numpy as np"
   ]
  },
  {
   "cell_type": "code",
   "execution_count": 571,
   "id": "92c37571",
   "metadata": {},
   "outputs": [],
   "source": [
    "operators=allOps()"
   ]
  },
  {
   "cell_type": "code",
   "execution_count": 572,
   "id": "f3b3afc7",
   "metadata": {},
   "outputs": [],
   "source": [
    "#Define inverse function to generate data\n",
    "def invFunc(x0):\n",
    "    return np.inv(x0)"
   ]
  },
  {
   "cell_type": "code",
   "execution_count": 575,
   "id": "dfe74128",
   "metadata": {},
   "outputs": [],
   "source": [
    "invModel=[np.array([operators[7],operators[4]]),[variableSelect(0)],[]]"
   ]
  },
  {
   "cell_type": "code",
   "execution_count": 576,
   "id": "3c704d32",
   "metadata": {},
   "outputs": [
    {
     "data": {
      "text/plain": [
       "[array([<function inv at 0x0000017F84BD8B80>,\n",
       "        <function exp at 0x0000017F84BD8900>], dtype=object),\n",
       " [<function StackGP.variableSelect.<locals>.<lambda>(variables)>],\n",
       " []]"
      ]
     },
     "execution_count": 576,
     "metadata": {},
     "output_type": "execute_result"
    }
   ],
   "source": [
    "invModel"
   ]
  },
  {
   "cell_type": "code",
   "execution_count": 577,
   "id": "56bd1524",
   "metadata": {},
   "outputs": [],
   "source": [
    "inputData=np.array([np.arange(1,1000,.1)])\n",
    "response=inputData[0]"
   ]
  },
  {
   "cell_type": "code",
   "execution_count": 578,
   "id": "8bb1907f",
   "metadata": {},
   "outputs": [
    {
     "data": {
      "text/plain": [
       "nan"
      ]
     },
     "execution_count": 578,
     "metadata": {},
     "output_type": "execute_result"
    }
   ],
   "source": [
    "totalSharpness(invModel,inputData,response,numPerturbations=4000,percentPerturbation=0.2)"
   ]
  },
  {
   "cell_type": "code",
   "execution_count": null,
   "id": "9de44736",
   "metadata": {},
   "outputs": [],
   "source": []
  },
  {
   "cell_type": "code",
   "execution_count": 588,
   "id": "92fefc8b",
   "metadata": {},
   "outputs": [],
   "source": [
    "from StackGP import *\n",
    "import numpy as np"
   ]
  },
  {
   "cell_type": "code",
   "execution_count": 589,
   "id": "c22a2a78",
   "metadata": {},
   "outputs": [],
   "source": [
    "operators=allOps()"
   ]
  },
  {
   "cell_type": "code",
   "execution_count": 590,
   "id": "769dc9fc",
   "metadata": {},
   "outputs": [],
   "source": [
    "#Define inverse function to generate data\n",
    "def invFunc(x0):\n",
    "    return np.inv(x0)"
   ]
  },
  {
   "cell_type": "code",
   "execution_count": 591,
   "id": "9e8c2b47",
   "metadata": {},
   "outputs": [],
   "source": [
    "invModel=[np.array([operators[7],operators[5]]),[variableSelect(0)],[]]"
   ]
  },
  {
   "cell_type": "code",
   "execution_count": 592,
   "id": "1359dc7c",
   "metadata": {},
   "outputs": [
    {
     "data": {
      "text/plain": [
       "[array([<function inv at 0x0000017F84BD8B80>,\n",
       "        <function sqrd at 0x0000017F84BD8AE0>], dtype=object),\n",
       " [<function StackGP.variableSelect.<locals>.<lambda>(variables)>],\n",
       " []]"
      ]
     },
     "execution_count": 592,
     "metadata": {},
     "output_type": "execute_result"
    }
   ],
   "source": [
    "invModel"
   ]
  },
  {
   "cell_type": "code",
   "execution_count": 593,
   "id": "51347c27",
   "metadata": {},
   "outputs": [],
   "source": [
    "inputData=np.array([np.arange(1,1000,.1)])\n",
    "response=inputData[0]"
   ]
  },
  {
   "cell_type": "code",
   "execution_count": 594,
   "id": "166ab84f",
   "metadata": {},
   "outputs": [
    {
     "data": {
      "text/plain": [
       "0.0008021645310368319"
      ]
     },
     "execution_count": 594,
     "metadata": {},
     "output_type": "execute_result"
    }
   ],
   "source": [
    "totalSharpness(invModel,inputData,response,numPerturbations=4000,percentPerturbation=0.2)"
   ]
  },
  {
   "cell_type": "code",
   "execution_count": null,
   "id": "2d277163",
   "metadata": {},
   "outputs": [],
   "source": []
  },
  {
   "cell_type": "code",
   "execution_count": 595,
   "id": "92fe65ae",
   "metadata": {},
   "outputs": [],
   "source": [
    "from StackGP import *\n",
    "import numpy as np"
   ]
  },
  {
   "cell_type": "code",
   "execution_count": 596,
   "id": "9844d136",
   "metadata": {},
   "outputs": [],
   "source": [
    "operators=allOps()"
   ]
  },
  {
   "cell_type": "code",
   "execution_count": 597,
   "id": "79927ed3",
   "metadata": {},
   "outputs": [],
   "source": [
    "#Define inverse function to generate data\n",
    "def invFunc(x0):\n",
    "    return np.inv(x0)"
   ]
  },
  {
   "cell_type": "code",
   "execution_count": 598,
   "id": "b45bc203",
   "metadata": {},
   "outputs": [],
   "source": [
    "invModel=[np.array([operators[7],operators[6]]),[variableSelect(0)],[]]"
   ]
  },
  {
   "cell_type": "code",
   "execution_count": 599,
   "id": "4ba08e48",
   "metadata": {},
   "outputs": [
    {
     "data": {
      "text/plain": [
       "[array([<function inv at 0x0000017F84BD8B80>,\n",
       "        <function sqrt at 0x0000017F84BD8A40>], dtype=object),\n",
       " [<function StackGP.variableSelect.<locals>.<lambda>(variables)>],\n",
       " []]"
      ]
     },
     "execution_count": 599,
     "metadata": {},
     "output_type": "execute_result"
    }
   ],
   "source": [
    "invModel"
   ]
  },
  {
   "cell_type": "code",
   "execution_count": 600,
   "id": "06043aed",
   "metadata": {},
   "outputs": [],
   "source": [
    "inputData=np.array([np.arange(1,1000,.1)])\n",
    "response=inputData[0]"
   ]
  },
  {
   "cell_type": "code",
   "execution_count": 601,
   "id": "229d11c4",
   "metadata": {},
   "outputs": [
    {
     "data": {
      "text/plain": [
       "nan"
      ]
     },
     "execution_count": 601,
     "metadata": {},
     "output_type": "execute_result"
    }
   ],
   "source": [
    "totalSharpness(invModel,inputData,response,numPerturbations=4000,percentPerturbation=0.2)"
   ]
  },
  {
   "cell_type": "code",
   "execution_count": null,
   "id": "af6d8733",
   "metadata": {},
   "outputs": [],
   "source": []
  },
  {
   "cell_type": "code",
   "execution_count": 602,
   "id": "d5283e2f",
   "metadata": {},
   "outputs": [],
   "source": [
    "from StackGP import *\n",
    "import numpy as np"
   ]
  },
  {
   "cell_type": "code",
   "execution_count": 603,
   "id": "0399f798",
   "metadata": {},
   "outputs": [],
   "source": [
    "operators=allOps()"
   ]
  },
  {
   "cell_type": "code",
   "execution_count": 604,
   "id": "cc9e5a90",
   "metadata": {},
   "outputs": [],
   "source": [
    "#Define inverse function to generate data\n",
    "def invFunc(x0):\n",
    "    return np.inv(x0)"
   ]
  },
  {
   "cell_type": "code",
   "execution_count": 605,
   "id": "e554aea9",
   "metadata": {},
   "outputs": [],
   "source": [
    "invModel=[np.array([operators[7],operators[8]]),[variableSelect(0)],[]]"
   ]
  },
  {
   "cell_type": "code",
   "execution_count": 606,
   "id": "4ca7493e",
   "metadata": {},
   "outputs": [
    {
     "data": {
      "text/plain": [
       "[array([<function inv at 0x0000017F84BD8B80>,\n",
       "        <function cos at 0x0000017F84BD8CC0>], dtype=object),\n",
       " [<function StackGP.variableSelect.<locals>.<lambda>(variables)>],\n",
       " []]"
      ]
     },
     "execution_count": 606,
     "metadata": {},
     "output_type": "execute_result"
    }
   ],
   "source": [
    "invModel"
   ]
  },
  {
   "cell_type": "code",
   "execution_count": 607,
   "id": "4b0a855d",
   "metadata": {},
   "outputs": [],
   "source": [
    "inputData=np.array([np.arange(1,1000,.1)])\n",
    "response=inputData[0]"
   ]
  },
  {
   "cell_type": "code",
   "execution_count": 608,
   "id": "c74fb17f",
   "metadata": {},
   "outputs": [
    {
     "data": {
      "text/plain": [
       "0.0007602927584445525"
      ]
     },
     "execution_count": 608,
     "metadata": {},
     "output_type": "execute_result"
    }
   ],
   "source": [
    "totalSharpness(invModel,inputData,response,numPerturbations=4000,percentPerturbation=0.2)"
   ]
  },
  {
   "cell_type": "code",
   "execution_count": null,
   "id": "2b96d645",
   "metadata": {},
   "outputs": [],
   "source": []
  },
  {
   "cell_type": "code",
   "execution_count": 609,
   "id": "ade9bd89",
   "metadata": {},
   "outputs": [],
   "source": [
    "from StackGP import *\n",
    "import numpy as np"
   ]
  },
  {
   "cell_type": "code",
   "execution_count": 610,
   "id": "c485f0b8",
   "metadata": {},
   "outputs": [],
   "source": [
    "operators=allOps()"
   ]
  },
  {
   "cell_type": "code",
   "execution_count": 611,
   "id": "8f80afdf",
   "metadata": {},
   "outputs": [],
   "source": [
    "#Define inverse function to generate data\n",
    "def invFunc(x0):\n",
    "    return np.inv(x0)"
   ]
  },
  {
   "cell_type": "code",
   "execution_count": 612,
   "id": "fdd76c9f",
   "metadata": {},
   "outputs": [],
   "source": [
    "invModel=[np.array([operators[7],operators[9]]),[variableSelect(0)],[]]"
   ]
  },
  {
   "cell_type": "code",
   "execution_count": 613,
   "id": "e094b2cf",
   "metadata": {},
   "outputs": [
    {
     "data": {
      "text/plain": [
       "[array([<function inv at 0x0000017F84BD8B80>,\n",
       "        <function sin at 0x0000017F84BD8C20>], dtype=object),\n",
       " [<function StackGP.variableSelect.<locals>.<lambda>(variables)>],\n",
       " []]"
      ]
     },
     "execution_count": 613,
     "metadata": {},
     "output_type": "execute_result"
    }
   ],
   "source": [
    "invModel"
   ]
  },
  {
   "cell_type": "code",
   "execution_count": 614,
   "id": "99bc6d39",
   "metadata": {},
   "outputs": [],
   "source": [
    "inputData=np.array([np.arange(1,1000,.1)])\n",
    "response=inputData[0]"
   ]
  },
  {
   "cell_type": "code",
   "execution_count": 615,
   "id": "7138af0b",
   "metadata": {},
   "outputs": [
    {
     "data": {
      "text/plain": [
       "0.004502425796069262"
      ]
     },
     "execution_count": 615,
     "metadata": {},
     "output_type": "execute_result"
    }
   ],
   "source": [
    "totalSharpness(invModel,inputData,response,numPerturbations=4000,percentPerturbation=0.2)"
   ]
  },
  {
   "cell_type": "code",
   "execution_count": null,
   "id": "bc679883",
   "metadata": {},
   "outputs": [],
   "source": []
  },
  {
   "cell_type": "code",
   "execution_count": 12,
   "id": "039a9a3d",
   "metadata": {},
   "outputs": [],
   "source": [
    "from StackGP import *\n",
    "import numpy as np"
   ]
  },
  {
   "cell_type": "code",
   "execution_count": 13,
   "id": "fba80d58",
   "metadata": {},
   "outputs": [],
   "source": [
    "operators=allOps()"
   ]
  },
  {
   "cell_type": "code",
   "execution_count": 14,
   "id": "5d69b936",
   "metadata": {},
   "outputs": [],
   "source": [
    "#Define inverse function to generate data\n",
    "def invFunc(x0):\n",
    "    return np.inv(x0)"
   ]
  },
  {
   "cell_type": "code",
   "execution_count": 15,
   "id": "93e7cb90",
   "metadata": {},
   "outputs": [],
   "source": [
    "invModel=[np.array([operators[7],operators[10]]),[variableSelect(0)],[]]"
   ]
  },
  {
   "cell_type": "code",
   "execution_count": 16,
   "id": "7a5777e0",
   "metadata": {},
   "outputs": [
    {
     "data": {
      "text/plain": [
       "[array([<function inv at 0x000001FB4B36FB00>,\n",
       "        <function tan at 0x000001FB4B36FCE0>], dtype=object),\n",
       " [<function StackGP.variableSelect.<locals>.<lambda>(variables)>],\n",
       " []]"
      ]
     },
     "execution_count": 16,
     "metadata": {},
     "output_type": "execute_result"
    }
   ],
   "source": [
    "invModel"
   ]
  },
  {
   "cell_type": "code",
   "execution_count": 17,
   "id": "71842e53",
   "metadata": {},
   "outputs": [],
   "source": [
    "inputData=np.array([np.arange(1,1000,.1)])\n",
    "response=inputData[0]"
   ]
  },
  {
   "cell_type": "code",
   "execution_count": 18,
   "id": "33203c1c",
   "metadata": {},
   "outputs": [
    {
     "data": {
      "text/plain": [
       "0.0022033449691257613"
      ]
     },
     "execution_count": 18,
     "metadata": {},
     "output_type": "execute_result"
    }
   ],
   "source": [
    "totalSharpness(invModel,inputData,response,numPerturbations=4000,percentPerturbation=0.2)"
   ]
  },
  {
   "cell_type": "code",
   "execution_count": null,
   "id": "902b5ee3",
   "metadata": {},
   "outputs": [],
   "source": []
  },
  {
   "cell_type": "code",
   "execution_count": 19,
   "id": "f5f068b2",
   "metadata": {},
   "outputs": [],
   "source": [
    "from StackGP import *\n",
    "import numpy as np"
   ]
  },
  {
   "cell_type": "code",
   "execution_count": 20,
   "id": "24634a87",
   "metadata": {},
   "outputs": [],
   "source": [
    "operators=allOps()"
   ]
  },
  {
   "cell_type": "code",
   "execution_count": 21,
   "id": "5fa74687",
   "metadata": {},
   "outputs": [],
   "source": [
    "#Define inverse function to generate data\n",
    "def invFunc(x0):\n",
    "    return np.inv(x0)"
   ]
  },
  {
   "cell_type": "code",
   "execution_count": 22,
   "id": "ddcb6468",
   "metadata": {},
   "outputs": [],
   "source": [
    "invModel=[np.array([operators[7],operators[13]]),[variableSelect(0)],[]]"
   ]
  },
  {
   "cell_type": "code",
   "execution_count": 23,
   "id": "3e192bf8",
   "metadata": {},
   "outputs": [
    {
     "data": {
      "text/plain": [
       "[array([<function inv at 0x000001FB4B36FB00>,\n",
       "        <function arctan at 0x000001FB4B36FEC0>], dtype=object),\n",
       " [<function StackGP.variableSelect.<locals>.<lambda>(variables)>],\n",
       " []]"
      ]
     },
     "execution_count": 23,
     "metadata": {},
     "output_type": "execute_result"
    }
   ],
   "source": [
    "invModel"
   ]
  },
  {
   "cell_type": "code",
   "execution_count": 24,
   "id": "a387195b",
   "metadata": {},
   "outputs": [],
   "source": [
    "inputData=np.array([np.arange(1,1000,.1)])\n",
    "response=inputData[0]"
   ]
  },
  {
   "cell_type": "code",
   "execution_count": 25,
   "id": "bdb81772",
   "metadata": {},
   "outputs": [
    {
     "data": {
      "text/plain": [
       "0.004083473775526974"
      ]
     },
     "execution_count": 25,
     "metadata": {},
     "output_type": "execute_result"
    }
   ],
   "source": [
    "totalSharpness(invModel,inputData,response,numPerturbations=4000,percentPerturbation=0.2)"
   ]
  },
  {
   "cell_type": "code",
   "execution_count": null,
   "id": "a8fb17b0",
   "metadata": {},
   "outputs": [],
   "source": []
  },
  {
   "cell_type": "code",
   "execution_count": 26,
   "id": "67eedac7",
   "metadata": {},
   "outputs": [],
   "source": [
    "from StackGP import *\n",
    "import numpy as np"
   ]
  },
  {
   "cell_type": "code",
   "execution_count": 27,
   "id": "f372cf41",
   "metadata": {},
   "outputs": [],
   "source": [
    "operators=allOps()"
   ]
  },
  {
   "cell_type": "code",
   "execution_count": 28,
   "id": "634135c4",
   "metadata": {},
   "outputs": [],
   "source": [
    "#Define inverse function to generate data\n",
    "def invFunc(x0):\n",
    "    return np.inv(x0)"
   ]
  },
  {
   "cell_type": "code",
   "execution_count": 29,
   "id": "72bd3b8b",
   "metadata": {},
   "outputs": [],
   "source": [
    "invModel=[np.array([operators[7],operators[14]]),[variableSelect(0)],[]]"
   ]
  },
  {
   "cell_type": "code",
   "execution_count": 30,
   "id": "6c341e20",
   "metadata": {},
   "outputs": [
    {
     "data": {
      "text/plain": [
       "[array([<function inv at 0x000001FB4B36FB00>,\n",
       "        <function tanh at 0x000001FB4B36FF60>], dtype=object),\n",
       " [<function StackGP.variableSelect.<locals>.<lambda>(variables)>],\n",
       " []]"
      ]
     },
     "execution_count": 30,
     "metadata": {},
     "output_type": "execute_result"
    }
   ],
   "source": [
    "invModel"
   ]
  },
  {
   "cell_type": "code",
   "execution_count": 31,
   "id": "25482447",
   "metadata": {},
   "outputs": [],
   "source": [
    "inputData=np.array([np.arange(1,1000,.1)])\n",
    "response=inputData[0]"
   ]
  },
  {
   "cell_type": "code",
   "execution_count": 32,
   "id": "1a3c542d",
   "metadata": {},
   "outputs": [
    {
     "data": {
      "text/plain": [
       "0.004395681600527668"
      ]
     },
     "execution_count": 32,
     "metadata": {},
     "output_type": "execute_result"
    }
   ],
   "source": [
    "totalSharpness(invModel,inputData,response,numPerturbations=4000,percentPerturbation=0.2)"
   ]
  },
  {
   "cell_type": "code",
   "execution_count": null,
   "id": "8ca9d52a",
   "metadata": {},
   "outputs": [],
   "source": []
  },
  {
   "cell_type": "code",
   "execution_count": 33,
   "id": "d943715c",
   "metadata": {},
   "outputs": [],
   "source": [
    "from StackGP import *\n",
    "import numpy as np"
   ]
  },
  {
   "cell_type": "code",
   "execution_count": 34,
   "id": "ab32eb3e",
   "metadata": {},
   "outputs": [],
   "source": [
    "operators=allOps()"
   ]
  },
  {
   "cell_type": "code",
   "execution_count": 35,
   "id": "71df8a71",
   "metadata": {},
   "outputs": [],
   "source": [
    "#Define inverse function to generate data\n",
    "def invFunc(x0):\n",
    "    return np.inv(x0)"
   ]
  },
  {
   "cell_type": "code",
   "execution_count": 36,
   "id": "c7ac45e1",
   "metadata": {},
   "outputs": [],
   "source": [
    "invModel=[np.array([operators[7],operators[15]]),[variableSelect(0)],[]]"
   ]
  },
  {
   "cell_type": "code",
   "execution_count": 37,
   "id": "431113d3",
   "metadata": {},
   "outputs": [
    {
     "data": {
      "text/plain": [
       "[array([<function inv at 0x000001FB4B36FB00>,\n",
       "        <function log at 0x000001FB4B380040>], dtype=object),\n",
       " [<function StackGP.variableSelect.<locals>.<lambda>(variables)>],\n",
       " []]"
      ]
     },
     "execution_count": 37,
     "metadata": {},
     "output_type": "execute_result"
    }
   ],
   "source": [
    "invModel"
   ]
  },
  {
   "cell_type": "code",
   "execution_count": 38,
   "id": "d96ab997",
   "metadata": {},
   "outputs": [],
   "source": [
    "inputData=np.array([np.arange(1,1000,.1)])\n",
    "response=inputData[0]"
   ]
  },
  {
   "cell_type": "code",
   "execution_count": 39,
   "id": "bfba8896",
   "metadata": {},
   "outputs": [
    {
     "data": {
      "text/plain": [
       "nan"
      ]
     },
     "execution_count": 39,
     "metadata": {},
     "output_type": "execute_result"
    }
   ],
   "source": [
    "totalSharpness(invModel,inputData,response,numPerturbations=4000,percentPerturbation=0.2)"
   ]
  },
  {
   "cell_type": "code",
   "execution_count": null,
   "id": "bb5fe9f2",
   "metadata": {},
   "outputs": [],
   "source": []
  },
  {
   "cell_type": "code",
   "execution_count": 42,
   "id": "2fbb0679",
   "metadata": {},
   "outputs": [
    {
     "data": {
      "image/png": "[encoded data removed]",
      "text/plain": [
       "<Figure size 1000x500 with 1 Axes>"
      ]
     },
     "metadata": {},
     "output_type": "display_data"
    }
   ],
   "source": [
    "import numpy as np\n",
    "import matplotlib.pyplot as plt \n",
    "\n",
    " \n",
    "# creating the dataset\n",
    "data = {'inv':0.078090962, 'inv x inv':0.0000300234,'exp':1,'sqrt':1,'log':1,'sin':0.00461158,'tanh':0.00424577,'arctan':0.0039766,'tan':0.00214278,'sqrd':0.00080216,'cos':0.0007966604}\n",
    "courses = list(data.keys())\n",
    "values = list(data.values())\n",
    " \n",
    "fig = plt.figure(figsize = (10, 5))\n",
    "\n",
    "# creating the bar plot\n",
    "plt.bar(courses, values, color ='maroon', \n",
    "        width = 0.4)\n",
    "\n",
    "plt.xlabel(\"Functions\")\n",
    "plt.ylabel(\"Inv\")\n",
    "plt.title(\"Inverse Function Combinations\")\n",
    "plt.yscale(\"log\")\n",
    "plt.show()\n"
   ]
  },
  {
   "cell_type": "markdown",
   "id": "e3ac7d0f",
   "metadata": {},
   "source": [
    "# Tanh Function Combinations"
   ]
  },
  {
   "cell_type": "code",
   "execution_count": 72,
   "id": "6a99f08c",
   "metadata": {},
   "outputs": [
    {
     "data": {
      "image/png": "[encoded data removed]",
      "text/plain": [
       "<Figure size 1000x500 with 1 Axes>"
      ]
     },
     "metadata": {},
     "output_type": "display_data"
    }
   ],
   "source": [
    "# import numpy as np\n",
    "import matplotlib.pyplot as plt \n",
    "\n",
    " \n",
    "# creating the dataset\n",
    "data = {'tanh':0.0000718436,'tanh x tanh':0.001950292,'sqrt':1,'log':1,'inv':0.006121405,'sin':0.00198472,'exp':0.001980328,'tan':0.00197599,'arctan':0.00196545,'cos':0.000890892,'sqrd':0.0008863215}\n",
    "courses = list(data.keys())\n",
    "values = list(data.values())\n",
    " \n",
    "fig = plt.figure(figsize = (10, 5))\n",
    "\n",
    "# creating the bar plot\n",
    "plt.bar(courses, values, color ='maroon', \n",
    "        width = 0.4)\n",
    "\n",
    "plt.xlabel(\"Functions\")\n",
    "plt.ylabel(\"Tanh\")\n",
    "plt.yscale(\"log\")\n",
    "plt.title(\"Hyperbolic Tangent Function Combinations\")\n",
    "plt.show()\n"
   ]
  },
  {
   "cell_type": "code",
   "execution_count": 45,
   "id": "78eba417",
   "metadata": {},
   "outputs": [],
   "source": [
    "#Logarithmic Function Combinations"
   ]
  },
  {
   "cell_type": "code",
   "execution_count": 46,
   "id": "b884f6f4",
   "metadata": {},
   "outputs": [],
   "source": [
    "from StackGP import *\n",
    "import numpy as np"
   ]
  },
  {
   "cell_type": "code",
   "execution_count": 47,
   "id": "97fef4e2",
   "metadata": {},
   "outputs": [],
   "source": [
    "operators=allOps()"
   ]
  },
  {
   "cell_type": "code",
   "execution_count": 51,
   "id": "1266a677",
   "metadata": {},
   "outputs": [],
   "source": [
    "#Define logarithmic function to generate data\n",
    "def logFunc(x0):\n",
    "    return np.log(x0)"
   ]
  },
  {
   "cell_type": "code",
   "execution_count": 52,
   "id": "7ba49396",
   "metadata": {},
   "outputs": [],
   "source": [
    "logModel=[np.array([operators[15],operators[4]]),[variableSelect(0)],[]]"
   ]
  },
  {
   "cell_type": "code",
   "execution_count": 53,
   "id": "568d7e53",
   "metadata": {},
   "outputs": [
    {
     "data": {
      "text/plain": [
       "[array([<function log at 0x000001FB4B380040>,\n",
       "        <function exp at 0x000001FB4B36F880>], dtype=object),\n",
       " [<function StackGP.variableSelect.<locals>.<lambda>(variables)>],\n",
       " []]"
      ]
     },
     "execution_count": 53,
     "metadata": {},
     "output_type": "execute_result"
    }
   ],
   "source": [
    "logModel"
   ]
  },
  {
   "cell_type": "code",
   "execution_count": 54,
   "id": "e88062a9",
   "metadata": {},
   "outputs": [],
   "source": [
    "inputData=np.array([np.arange(1,1000,.1)])\n",
    "response=inputData[0]"
   ]
  },
  {
   "cell_type": "code",
   "execution_count": 79,
   "id": "22ca3023",
   "metadata": {},
   "outputs": [
    {
     "data": {
      "text/plain": [
       "nan"
      ]
     },
     "execution_count": 79,
     "metadata": {},
     "output_type": "execute_result"
    }
   ],
   "source": [
    "totalSharpness(logModel,inputData,response,numPerturbations=4000,percentPerturbation=0.2)"
   ]
  },
  {
   "cell_type": "code",
   "execution_count": null,
   "id": "ce2192da",
   "metadata": {},
   "outputs": [],
   "source": []
  },
  {
   "cell_type": "code",
   "execution_count": 56,
   "id": "b3dc8f27",
   "metadata": {},
   "outputs": [],
   "source": [
    "from StackGP import *\n",
    "import numpy as np"
   ]
  },
  {
   "cell_type": "code",
   "execution_count": 57,
   "id": "8984952d",
   "metadata": {},
   "outputs": [],
   "source": [
    "operators=allOps()"
   ]
  },
  {
   "cell_type": "code",
   "execution_count": 58,
   "id": "1df7dd43",
   "metadata": {},
   "outputs": [],
   "source": [
    "#Define logarithmic function to generate data\n",
    "def logFunc(x0):\n",
    "    return np.log(x0)"
   ]
  },
  {
   "cell_type": "code",
   "execution_count": 59,
   "id": "714bb6c9",
   "metadata": {},
   "outputs": [],
   "source": [
    "logModel=[np.array([operators[15],operators[5]]),[variableSelect(0)],[]]"
   ]
  },
  {
   "cell_type": "code",
   "execution_count": 60,
   "id": "4a343731",
   "metadata": {},
   "outputs": [
    {
     "data": {
      "text/plain": [
       "[array([<function log at 0x000001FB4B380040>,\n",
       "        <function sqrd at 0x000001FB4B36FA60>], dtype=object),\n",
       " [<function StackGP.variableSelect.<locals>.<lambda>(variables)>],\n",
       " []]"
      ]
     },
     "execution_count": 60,
     "metadata": {},
     "output_type": "execute_result"
    }
   ],
   "source": [
    "logModel"
   ]
  },
  {
   "cell_type": "code",
   "execution_count": 61,
   "id": "db6e2068",
   "metadata": {},
   "outputs": [],
   "source": [
    "inputData=np.array([np.arange(1,1000,.1)])\n",
    "response=inputData[0]"
   ]
  },
  {
   "cell_type": "code",
   "execution_count": 76,
   "id": "209a0816",
   "metadata": {},
   "outputs": [
    {
     "data": {
      "text/plain": [
       "nan"
      ]
     },
     "execution_count": 76,
     "metadata": {},
     "output_type": "execute_result"
    }
   ],
   "source": [
    "totalSharpness(logModel,inputData,response,numPerturbations=4000,percentPerturbation=0.2)"
   ]
  },
  {
   "cell_type": "code",
   "execution_count": null,
   "id": "67f62806",
   "metadata": {},
   "outputs": [],
   "source": []
  },
  {
   "cell_type": "code",
   "execution_count": 63,
   "id": "861d28c0",
   "metadata": {},
   "outputs": [],
   "source": [
    "from StackGP import *\n",
    "import numpy as np"
   ]
  },
  {
   "cell_type": "code",
   "execution_count": 64,
   "id": "ccadb0f6",
   "metadata": {},
   "outputs": [],
   "source": [
    "operators=allOps()"
   ]
  },
  {
   "cell_type": "code",
   "execution_count": 65,
   "id": "60a51053",
   "metadata": {},
   "outputs": [],
   "source": [
    "#Define logarithmic function to generate data\n",
    "def logFunc(x0):\n",
    "    return np.log(x0)"
   ]
  },
  {
   "cell_type": "code",
   "execution_count": 66,
   "id": "2403dc47",
   "metadata": {},
   "outputs": [],
   "source": [
    "logModel=[np.array([operators[15],operators[6]]),[variableSelect(0)],[]]"
   ]
  },
  {
   "cell_type": "code",
   "execution_count": 67,
   "id": "611d2811",
   "metadata": {},
   "outputs": [
    {
     "data": {
      "text/plain": [
       "[array([<function log at 0x000001FB4B380040>,\n",
       "        <function sqrt at 0x000001FB4B36F9C0>], dtype=object),\n",
       " [<function StackGP.variableSelect.<locals>.<lambda>(variables)>],\n",
       " []]"
      ]
     },
     "execution_count": 67,
     "metadata": {},
     "output_type": "execute_result"
    }
   ],
   "source": [
    "logModel"
   ]
  },
  {
   "cell_type": "code",
   "execution_count": 68,
   "id": "41f02ed2",
   "metadata": {},
   "outputs": [],
   "source": [
    "inputData=np.array([np.arange(1,1000,.1)])\n",
    "response=inputData[0]"
   ]
  },
  {
   "cell_type": "code",
   "execution_count": 78,
   "id": "859de3aa",
   "metadata": {},
   "outputs": [
    {
     "data": {
      "text/plain": [
       "nan"
      ]
     },
     "execution_count": 78,
     "metadata": {},
     "output_type": "execute_result"
    }
   ],
   "source": [
    "totalSharpness(logModel,inputData,response,numPerturbations=4000,percentPerturbation=0.2)"
   ]
  },
  {
   "cell_type": "code",
   "execution_count": null,
   "id": "56386455",
   "metadata": {},
   "outputs": [],
   "source": []
  },
  {
   "cell_type": "code",
   "execution_count": 70,
   "id": "3d793418",
   "metadata": {},
   "outputs": [
    {
     "data": {
      "image/png": "[encoded data removed]",
      "text/plain": [
       "<Figure size 1000x500 with 1 Axes>"
      ]
     },
     "metadata": {},
     "output_type": "display_data"
    }
   ],
   "source": [
    "import numpy as np\n",
    "import matplotlib.pyplot as plt \n",
    "\n",
    " \n",
    "# creating the dataset\n",
    "data = {'log':1,'log x log':1,'exp':1,'sqrd':1,'sqrt':1,'inv':1,'cos':1,'sin':1,'tan':1,'arctan':1,'tanh':1}\n",
    "courses = list(data.keys())\n",
    "values = list(data.values())\n",
    " \n",
    "fig = plt.figure(figsize = (10, 5))\n",
    "\n",
    "# creating the bar plot\n",
    "plt.bar(courses, values, color ='maroon', \n",
    "        width = 0.4)\n",
    "\n",
    "plt.xlabel(\"Functions\")\n",
    "plt.ylabel(\"Log\")\n",
    "plt.title(\"Logarithmic Function Combinations\")\n",
    "plt.yscale(\"log\")\n",
    "plt.show()\n"
   ]
  },
  {
   "cell_type": "code",
   "execution_count": null,
   "id": "b937c9b6",
   "metadata": {},
   "outputs": [],
   "source": []
  }
 ],
 "metadata": {
  "kernelspec": {
   "display_name": "Python 3 (ipykernel)",
   "language": "python",
   "name": "python3"
  },
  "language_info": {
   "codemirror_mode": {
    "name": "ipython",
    "version": 3
   },
   "file_extension": ".py",
   "mimetype": "text/x-python",
   "name": "python",
   "nbconvert_exporter": "python",
   "pygments_lexer": "ipython3",
   "version": "3.11.3"
  }
 },
 "nbformat": 4,
 "nbformat_minor": 5
}
