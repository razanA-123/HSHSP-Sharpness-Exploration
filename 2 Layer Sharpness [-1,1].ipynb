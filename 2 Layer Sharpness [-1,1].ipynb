{
 "cells": [
  {
   "cell_type": "markdown",
   "id": "76aae25c",
   "metadata": {},
   "source": [
    "# Same Operators"
   ]
  },
  {
   "cell_type": "code",
   "execution_count": 15,
   "id": "2a2c6ecc",
   "metadata": {},
   "outputs": [],
   "source": [
    "from StackGP import *\n",
    "import numpy as np"
   ]
  },
  {
   "cell_type": "code",
   "execution_count": 16,
   "id": "37ec1852",
   "metadata": {},
   "outputs": [],
   "source": [
    "operators=allOps()"
   ]
  },
  {
   "cell_type": "code",
   "execution_count": 17,
   "id": "53bd0916",
   "metadata": {},
   "outputs": [],
   "source": [
    "#Define sine function to generate data\n",
    "def sinFunc(x0):\n",
    "    return np.sin(x0)"
   ]
  },
  {
   "cell_type": "code",
   "execution_count": 18,
   "id": "395aa5d2",
   "metadata": {},
   "outputs": [],
   "source": [
    "sinModel=[np.array([operators[9],operators[9]]),[variableSelect(0)],[]]"
   ]
  },
  {
   "cell_type": "code",
   "execution_count": 19,
   "id": "360c4345",
   "metadata": {},
   "outputs": [
    {
     "data": {
      "text/plain": [
       "[array([<function sin at 0x000002813605CB80>,\n",
       "        <function sin at 0x000002813605CB80>], dtype=object),\n",
       " [<function StackGP.variableSelect.<locals>.<lambda>(variables)>],\n",
       " []]"
      ]
     },
     "execution_count": 19,
     "metadata": {},
     "output_type": "execute_result"
    }
   ],
   "source": [
    "sinModel"
   ]
  },
  {
   "cell_type": "code",
   "execution_count": 20,
   "id": "20548591",
   "metadata": {},
   "outputs": [],
   "source": [
    "inputData=np.array([np.arange(-1,1,.0013)])\n",
    "response=inputData[0]"
   ]
  },
  {
   "cell_type": "code",
   "execution_count": 21,
   "id": "12560a19",
   "metadata": {},
   "outputs": [
    {
     "data": {
      "text/plain": [
       "0.00019052324034969363"
      ]
     },
     "execution_count": 21,
     "metadata": {},
     "output_type": "execute_result"
    }
   ],
   "source": [
    "totalSharpness(sinModel,inputData,response,numPerturbations=4000,percentPerturbation=0.2)"
   ]
  },
  {
   "cell_type": "code",
   "execution_count": null,
   "id": "479ddf1e",
   "metadata": {},
   "outputs": [],
   "source": []
  },
  {
   "cell_type": "code",
   "execution_count": 22,
   "id": "c6e73cb4",
   "metadata": {},
   "outputs": [],
   "source": [
    "from StackGP import *\n",
    "import numpy as np"
   ]
  },
  {
   "cell_type": "code",
   "execution_count": 23,
   "id": "1496c538",
   "metadata": {},
   "outputs": [],
   "source": [
    "operators=allOps()"
   ]
  },
  {
   "cell_type": "code",
   "execution_count": 24,
   "id": "8dd5ffd6",
   "metadata": {},
   "outputs": [],
   "source": [
    "#Define cosine function to generate data\n",
    "def cosFunc(x0):\n",
    "    return np.cos(x0)"
   ]
  },
  {
   "cell_type": "code",
   "execution_count": 25,
   "id": "b26b4109",
   "metadata": {},
   "outputs": [],
   "source": [
    "cosModel=[np.array([operators[8],operators[8]]),[variableSelect(0)],[]]"
   ]
  },
  {
   "cell_type": "code",
   "execution_count": 26,
   "id": "c512d7dd",
   "metadata": {},
   "outputs": [
    {
     "data": {
      "text/plain": [
       "[array([<function cos at 0x000002813605CC20>,\n",
       "        <function cos at 0x000002813605CC20>], dtype=object),\n",
       " [<function StackGP.variableSelect.<locals>.<lambda>(variables)>],\n",
       " []]"
      ]
     },
     "execution_count": 26,
     "metadata": {},
     "output_type": "execute_result"
    }
   ],
   "source": [
    "cosModel"
   ]
  },
  {
   "cell_type": "code",
   "execution_count": 27,
   "id": "483de19a",
   "metadata": {},
   "outputs": [],
   "source": [
    "inputData=np.array([np.arange(-1,1,.0013)])\n",
    "response=inputData[0]"
   ]
  },
  {
   "cell_type": "code",
   "execution_count": 28,
   "id": "d3b466e2",
   "metadata": {},
   "outputs": [
    {
     "data": {
      "text/plain": [
       "2.0363061546709367e-05"
      ]
     },
     "execution_count": 28,
     "metadata": {},
     "output_type": "execute_result"
    }
   ],
   "source": [
    "totalSharpness(cosModel,inputData,response,numPerturbations=4000,percentPerturbation=0.2)"
   ]
  },
  {
   "cell_type": "code",
   "execution_count": null,
   "id": "30c85eb1",
   "metadata": {},
   "outputs": [],
   "source": []
  },
  {
   "cell_type": "code",
   "execution_count": 29,
   "id": "27376246",
   "metadata": {},
   "outputs": [],
   "source": [
    "from StackGP import *\n",
    "import numpy as np"
   ]
  },
  {
   "cell_type": "code",
   "execution_count": 30,
   "id": "9de362b5",
   "metadata": {},
   "outputs": [],
   "source": [
    "operators=allOps()"
   ]
  },
  {
   "cell_type": "code",
   "execution_count": 31,
   "id": "66fccf65",
   "metadata": {},
   "outputs": [],
   "source": [
    "#Define tangent function to generate data\n",
    "def tanFunc(x0):\n",
    "    return np.tan(x0)"
   ]
  },
  {
   "cell_type": "code",
   "execution_count": 32,
   "id": "8a82f530",
   "metadata": {},
   "outputs": [],
   "source": [
    "tanModel=[np.array([operators[10],operators[10]]),[variableSelect(0)],[]]"
   ]
  },
  {
   "cell_type": "code",
   "execution_count": 33,
   "id": "adde41e9",
   "metadata": {},
   "outputs": [
    {
     "data": {
      "text/plain": [
       "[array([<function tan at 0x000002813605CCC0>,\n",
       "        <function tan at 0x000002813605CCC0>], dtype=object),\n",
       " [<function StackGP.variableSelect.<locals>.<lambda>(variables)>],\n",
       " []]"
      ]
     },
     "execution_count": 33,
     "metadata": {},
     "output_type": "execute_result"
    }
   ],
   "source": [
    "tanModel"
   ]
  },
  {
   "cell_type": "code",
   "execution_count": 34,
   "id": "30af6866",
   "metadata": {},
   "outputs": [],
   "source": [
    "inputData=np.array([np.arange(-1,1,.0013)])\n",
    "response=inputData[0]"
   ]
  },
  {
   "cell_type": "code",
   "execution_count": 35,
   "id": "42c2c7ae",
   "metadata": {},
   "outputs": [
    {
     "data": {
      "text/plain": [
       "0.019145106549659622"
      ]
     },
     "execution_count": 35,
     "metadata": {},
     "output_type": "execute_result"
    }
   ],
   "source": [
    "totalSharpness(tanModel,inputData,response,numPerturbations=4000,percentPerturbation=0.2)"
   ]
  },
  {
   "cell_type": "code",
   "execution_count": null,
   "id": "433286b0",
   "metadata": {},
   "outputs": [],
   "source": []
  },
  {
   "cell_type": "code",
   "execution_count": 36,
   "id": "7005a7f5",
   "metadata": {},
   "outputs": [],
   "source": [
    "from StackGP import *\n",
    "import numpy as np"
   ]
  },
  {
   "cell_type": "code",
   "execution_count": 37,
   "id": "87261d57",
   "metadata": {},
   "outputs": [],
   "source": [
    "operators=allOps()"
   ]
  },
  {
   "cell_type": "code",
   "execution_count": 38,
   "id": "fd5cf0b1",
   "metadata": {},
   "outputs": [],
   "source": [
    "#Define exponent function to generate data\n",
    "def expFunc(x0):\n",
    "    return np.exp(x0)"
   ]
  },
  {
   "cell_type": "code",
   "execution_count": 39,
   "id": "9e6d6367",
   "metadata": {},
   "outputs": [],
   "source": [
    "expModel=[np.array([operators[4],operators[4]]),[variableSelect(0)],[]]"
   ]
  },
  {
   "cell_type": "code",
   "execution_count": 40,
   "id": "3602b9be",
   "metadata": {},
   "outputs": [
    {
     "data": {
      "text/plain": [
       "[array([<function exp at 0x000002813605C860>,\n",
       "        <function exp at 0x000002813605C860>], dtype=object),\n",
       " [<function StackGP.variableSelect.<locals>.<lambda>(variables)>],\n",
       " []]"
      ]
     },
     "execution_count": 40,
     "metadata": {},
     "output_type": "execute_result"
    }
   ],
   "source": [
    "expModel"
   ]
  },
  {
   "cell_type": "code",
   "execution_count": 41,
   "id": "4bdd1672",
   "metadata": {},
   "outputs": [],
   "source": [
    "inputData=np.array([np.arange(-1,1,.0013)])\n",
    "response=inputData[0]"
   ]
  },
  {
   "cell_type": "code",
   "execution_count": 42,
   "id": "faaa8f9e",
   "metadata": {},
   "outputs": [
    {
     "data": {
      "text/plain": [
       "0.003388116991256414"
      ]
     },
     "execution_count": 42,
     "metadata": {},
     "output_type": "execute_result"
    }
   ],
   "source": [
    "totalSharpness(expModel,inputData,response,numPerturbations=4000,percentPerturbation=0.2)"
   ]
  },
  {
   "cell_type": "code",
   "execution_count": null,
   "id": "901cd50b",
   "metadata": {},
   "outputs": [],
   "source": []
  },
  {
   "cell_type": "code",
   "execution_count": 43,
   "id": "bf359f00",
   "metadata": {},
   "outputs": [],
   "source": [
    "from StackGP import *\n",
    "import numpy as np"
   ]
  },
  {
   "cell_type": "code",
   "execution_count": 44,
   "id": "ce0671fe",
   "metadata": {},
   "outputs": [],
   "source": [
    "operators=allOps()"
   ]
  },
  {
   "cell_type": "code",
   "execution_count": 45,
   "id": "7186bcf4",
   "metadata": {},
   "outputs": [],
   "source": [
    "#Define squared function to generate data\n",
    "def sqrdFunc(x0):\n",
    "    return np.sqrd(x0)"
   ]
  },
  {
   "cell_type": "code",
   "execution_count": 46,
   "id": "af5d619b",
   "metadata": {},
   "outputs": [],
   "source": [
    "sqrdModel=[np.array([operators[5],operators[5]]),[variableSelect(0)],[]]"
   ]
  },
  {
   "cell_type": "code",
   "execution_count": 47,
   "id": "0078d90f",
   "metadata": {},
   "outputs": [
    {
     "data": {
      "text/plain": [
       "[array([<function sqrd at 0x000002813605CA40>,\n",
       "        <function sqrd at 0x000002813605CA40>], dtype=object),\n",
       " [<function StackGP.variableSelect.<locals>.<lambda>(variables)>],\n",
       " []]"
      ]
     },
     "execution_count": 47,
     "metadata": {},
     "output_type": "execute_result"
    }
   ],
   "source": [
    "sqrdModel"
   ]
  },
  {
   "cell_type": "code",
   "execution_count": 48,
   "id": "2fb5ae4b",
   "metadata": {},
   "outputs": [],
   "source": [
    "inputData=np.array([np.arange(-1,1,.0013)])\n",
    "response=inputData[0]"
   ]
  },
  {
   "cell_type": "code",
   "execution_count": 49,
   "id": "cdd3b439",
   "metadata": {},
   "outputs": [
    {
     "data": {
      "text/plain": [
       "7.895706383044028e-05"
      ]
     },
     "execution_count": 49,
     "metadata": {},
     "output_type": "execute_result"
    }
   ],
   "source": [
    "totalSharpness(sqrdModel,inputData,response,numPerturbations=4000,percentPerturbation=0.2)"
   ]
  },
  {
   "cell_type": "code",
   "execution_count": null,
   "id": "9ad44a07",
   "metadata": {},
   "outputs": [],
   "source": []
  },
  {
   "cell_type": "code",
   "execution_count": 50,
   "id": "6f1dbbf4",
   "metadata": {},
   "outputs": [],
   "source": [
    "from StackGP import *\n",
    "import numpy as np"
   ]
  },
  {
   "cell_type": "code",
   "execution_count": 51,
   "id": "56396bfe",
   "metadata": {},
   "outputs": [],
   "source": [
    "operators=allOps()"
   ]
  },
  {
   "cell_type": "code",
   "execution_count": 52,
   "id": "a693d7ff",
   "metadata": {},
   "outputs": [],
   "source": [
    "#Define square root function to generate data\n",
    "def sqrtFunc(x0):\n",
    "    return np.sqrt(x0)"
   ]
  },
  {
   "cell_type": "code",
   "execution_count": 53,
   "id": "15227d52",
   "metadata": {},
   "outputs": [],
   "source": [
    "sqrtModel=[np.array([operators[6],operators[6]]),[variableSelect(0)],[]]"
   ]
  },
  {
   "cell_type": "code",
   "execution_count": 54,
   "id": "ae033f69",
   "metadata": {},
   "outputs": [
    {
     "data": {
      "text/plain": [
       "[array([<function sqrt at 0x000002813605C9A0>,\n",
       "        <function sqrt at 0x000002813605C9A0>], dtype=object),\n",
       " [<function StackGP.variableSelect.<locals>.<lambda>(variables)>],\n",
       " []]"
      ]
     },
     "execution_count": 54,
     "metadata": {},
     "output_type": "execute_result"
    }
   ],
   "source": [
    "sqrtModel"
   ]
  },
  {
   "cell_type": "code",
   "execution_count": 55,
   "id": "6e2dbcf2",
   "metadata": {},
   "outputs": [],
   "source": [
    "inputData=np.array([np.arange(-1,1,.0013)])\n",
    "response=inputData[0]"
   ]
  },
  {
   "cell_type": "code",
   "execution_count": 56,
   "id": "c79c607a",
   "metadata": {},
   "outputs": [
    {
     "data": {
      "text/plain": [
       "nan"
      ]
     },
     "execution_count": 56,
     "metadata": {},
     "output_type": "execute_result"
    }
   ],
   "source": [
    "totalSharpness(sqrtModel,inputData,response,numPerturbations=4000,percentPerturbation=0.2)"
   ]
  },
  {
   "cell_type": "code",
   "execution_count": null,
   "id": "ce19721c",
   "metadata": {},
   "outputs": [],
   "source": []
  },
  {
   "cell_type": "code",
   "execution_count": 57,
   "id": "116f4479",
   "metadata": {},
   "outputs": [],
   "source": [
    "from StackGP import *\n",
    "import numpy as np"
   ]
  },
  {
   "cell_type": "code",
   "execution_count": 58,
   "id": "acae336a",
   "metadata": {},
   "outputs": [],
   "source": [
    "operators=allOps()"
   ]
  },
  {
   "cell_type": "code",
   "execution_count": 59,
   "id": "4c487ea1",
   "metadata": {},
   "outputs": [],
   "source": [
    "#Define inverse function to generate data\n",
    "def invFunc(x0):\n",
    "    return np.inv(x0)"
   ]
  },
  {
   "cell_type": "code",
   "execution_count": 60,
   "id": "ee4eb43b",
   "metadata": {},
   "outputs": [],
   "source": [
    "invModel=[np.array([operators[7],operators[7]]),[variableSelect(0)],[]]"
   ]
  },
  {
   "cell_type": "code",
   "execution_count": 61,
   "id": "988f0380",
   "metadata": {},
   "outputs": [
    {
     "data": {
      "text/plain": [
       "[array([<function inv at 0x000002813605CAE0>,\n",
       "        <function inv at 0x000002813605CAE0>], dtype=object),\n",
       " [<function StackGP.variableSelect.<locals>.<lambda>(variables)>],\n",
       " []]"
      ]
     },
     "execution_count": 61,
     "metadata": {},
     "output_type": "execute_result"
    }
   ],
   "source": [
    "invModel"
   ]
  },
  {
   "cell_type": "code",
   "execution_count": 62,
   "id": "4c776a12",
   "metadata": {},
   "outputs": [],
   "source": [
    "inputData=np.array([np.arange(-1,1,.0013)])\n",
    "response=inputData[0]"
   ]
  },
  {
   "cell_type": "code",
   "execution_count": 63,
   "id": "d33bd2d6",
   "metadata": {},
   "outputs": [
    {
     "data": {
      "text/plain": [
       "7.718142895430825e-05"
      ]
     },
     "execution_count": 63,
     "metadata": {},
     "output_type": "execute_result"
    }
   ],
   "source": [
    "totalSharpness(invModel,inputData,response,numPerturbations=4000,percentPerturbation=0.2)"
   ]
  },
  {
   "cell_type": "code",
   "execution_count": null,
   "id": "b3bd1b92",
   "metadata": {},
   "outputs": [],
   "source": []
  },
  {
   "cell_type": "code",
   "execution_count": 64,
   "id": "af54a7f7",
   "metadata": {},
   "outputs": [],
   "source": [
    "from StackGP import *\n",
    "import numpy as np"
   ]
  },
  {
   "cell_type": "code",
   "execution_count": 65,
   "id": "402421ee",
   "metadata": {},
   "outputs": [],
   "source": [
    "operators=allOps()"
   ]
  },
  {
   "cell_type": "code",
   "execution_count": 66,
   "id": "c125fc17",
   "metadata": {},
   "outputs": [],
   "source": [
    "#Define arctan function to generate data\n",
    "def arctanFunc(x0):\n",
    "    return np.arctan(x0)"
   ]
  },
  {
   "cell_type": "code",
   "execution_count": 67,
   "id": "c8e87f9a",
   "metadata": {},
   "outputs": [],
   "source": [
    "arctanModel=[np.array([operators[13],operators[13]]),[variableSelect(0)],[]]"
   ]
  },
  {
   "cell_type": "code",
   "execution_count": 68,
   "id": "d4683048",
   "metadata": {},
   "outputs": [
    {
     "data": {
      "text/plain": [
       "[array([<function arctan at 0x000002813605CEA0>,\n",
       "        <function arctan at 0x000002813605CEA0>], dtype=object),\n",
       " [<function StackGP.variableSelect.<locals>.<lambda>(variables)>],\n",
       " []]"
      ]
     },
     "execution_count": 68,
     "metadata": {},
     "output_type": "execute_result"
    }
   ],
   "source": [
    "arctanModel"
   ]
  },
  {
   "cell_type": "code",
   "execution_count": 69,
   "id": "707af04a",
   "metadata": {},
   "outputs": [],
   "source": [
    "inputData=np.array([np.arange(-1,1,.0013)])\n",
    "response=inputData[0]"
   ]
  },
  {
   "cell_type": "code",
   "execution_count": 70,
   "id": "26543a92",
   "metadata": {},
   "outputs": [
    {
     "data": {
      "text/plain": [
       "0.00024177710233351003"
      ]
     },
     "execution_count": 70,
     "metadata": {},
     "output_type": "execute_result"
    }
   ],
   "source": [
    "totalSharpness(arctanModel,inputData,response,numPerturbations=4000,percentPerturbation=0.2)"
   ]
  },
  {
   "cell_type": "code",
   "execution_count": null,
   "id": "d9d70194",
   "metadata": {},
   "outputs": [],
   "source": []
  },
  {
   "cell_type": "code",
   "execution_count": 71,
   "id": "1da064f1",
   "metadata": {},
   "outputs": [],
   "source": [
    "from StackGP import *\n",
    "import numpy as np"
   ]
  },
  {
   "cell_type": "code",
   "execution_count": 72,
   "id": "300e1528",
   "metadata": {},
   "outputs": [],
   "source": [
    "operators=allOps()"
   ]
  },
  {
   "cell_type": "code",
   "execution_count": 73,
   "id": "50c9b921",
   "metadata": {},
   "outputs": [],
   "source": [
    "#Define tanh function to generate data\n",
    "def tanhFunc(x0):\n",
    "    return np.tanh(x0)"
   ]
  },
  {
   "cell_type": "code",
   "execution_count": 74,
   "id": "645ae1c2",
   "metadata": {},
   "outputs": [],
   "source": [
    "tanhModel=[np.array([operators[14],operators[14]]),[variableSelect(0)],[]]"
   ]
  },
  {
   "cell_type": "code",
   "execution_count": 75,
   "id": "7f60dc0e",
   "metadata": {},
   "outputs": [
    {
     "data": {
      "text/plain": [
       "[array([<function tanh at 0x000002813605CF40>,\n",
       "        <function tanh at 0x000002813605CF40>], dtype=object),\n",
       " [<function StackGP.variableSelect.<locals>.<lambda>(variables)>],\n",
       " []]"
      ]
     },
     "execution_count": 75,
     "metadata": {},
     "output_type": "execute_result"
    }
   ],
   "source": [
    "tanhModel"
   ]
  },
  {
   "cell_type": "code",
   "execution_count": 76,
   "id": "7e0937e9",
   "metadata": {},
   "outputs": [],
   "source": [
    "inputData=np.array([np.arange(-1,1,.0013)])\n",
    "response=inputData[0]"
   ]
  },
  {
   "cell_type": "code",
   "execution_count": 77,
   "id": "a348a806",
   "metadata": {},
   "outputs": [
    {
     "data": {
      "text/plain": [
       "0.00026617268318706867"
      ]
     },
     "execution_count": 77,
     "metadata": {},
     "output_type": "execute_result"
    }
   ],
   "source": [
    "totalSharpness(tanhModel,inputData,response,numPerturbations=4000,percentPerturbation=0.2)"
   ]
  },
  {
   "cell_type": "code",
   "execution_count": null,
   "id": "08a4d3aa",
   "metadata": {},
   "outputs": [],
   "source": []
  },
  {
   "cell_type": "code",
   "execution_count": 78,
   "id": "04eefd93",
   "metadata": {},
   "outputs": [],
   "source": [
    "from StackGP import *\n",
    "import numpy as np"
   ]
  },
  {
   "cell_type": "code",
   "execution_count": 79,
   "id": "f065b328",
   "metadata": {},
   "outputs": [],
   "source": [
    "operators=allOps()"
   ]
  },
  {
   "cell_type": "code",
   "execution_count": 80,
   "id": "3a1c1489",
   "metadata": {},
   "outputs": [],
   "source": [
    "#Define log function to generate data\n",
    "def logFunc(x0):\n",
    "    return np.log(x0)"
   ]
  },
  {
   "cell_type": "code",
   "execution_count": 81,
   "id": "5788d05d",
   "metadata": {},
   "outputs": [],
   "source": [
    "logModel=[np.array([operators[15],operators[15]]),[variableSelect(0)],[]]"
   ]
  },
  {
   "cell_type": "code",
   "execution_count": 82,
   "id": "dcc9ae92",
   "metadata": {},
   "outputs": [
    {
     "data": {
      "text/plain": [
       "[array([<function log at 0x000002813605CFE0>,\n",
       "        <function log at 0x000002813605CFE0>], dtype=object),\n",
       " [<function StackGP.variableSelect.<locals>.<lambda>(variables)>],\n",
       " []]"
      ]
     },
     "execution_count": 82,
     "metadata": {},
     "output_type": "execute_result"
    }
   ],
   "source": [
    "logModel"
   ]
  },
  {
   "cell_type": "code",
   "execution_count": 83,
   "id": "d582c8a2",
   "metadata": {},
   "outputs": [],
   "source": [
    "inputData=np.array([np.arange(-1,1,.0013)])\n",
    "response=inputData[0]"
   ]
  },
  {
   "cell_type": "code",
   "execution_count": 84,
   "id": "c76419f9",
   "metadata": {},
   "outputs": [
    {
     "data": {
      "text/plain": [
       "nan"
      ]
     },
     "execution_count": 84,
     "metadata": {},
     "output_type": "execute_result"
    }
   ],
   "source": [
    "totalSharpness(logModel,inputData,response,numPerturbations=4000,percentPerturbation=0.2)"
   ]
  },
  {
   "cell_type": "code",
   "execution_count": null,
   "id": "80aea863",
   "metadata": {},
   "outputs": [],
   "source": []
  },
  {
   "cell_type": "code",
   "execution_count": 85,
   "id": "15c1a42d",
   "metadata": {},
   "outputs": [
    {
     "data": {
      "image/png": "[encoded data removed]",
      "text/plain": [
       "<Figure size 1000x500 with 1 Axes>"
      ]
     },
     "metadata": {},
     "output_type": "display_data"
    }
   ],
   "source": [
    "import numpy as np\n",
    "import matplotlib.pyplot as plt \n",
    "\n",
    "\n",
    "# creating the dataset\n",
    "data = {'sqrt':1,'log':1,'tan':0.019145106,'exp':0.003388116,'tanh':0.000261726,'arctan':0.000241777,'sin':0.000190523,'sqrd':0.00007895,'inv':0.0000771814,'cos':0.000020363}\n",
    "courses = list(data.keys())\n",
    "values = list(data.values())\n",
    "\n",
    "fig = plt.figure(figsize = (10, 5))\n",
    "\n",
    "# creating the bar plot\n",
    "plt.bar(courses, values, color ='maroon', \n",
    "\t\twidth = 0.4)\n",
    "\n",
    "plt.xlabel(\"Function\")\n",
    "plt.ylabel(\"Sharpness\")\n",
    "plt.title(\"Sharpness for each function combined with itself [-1,1]\")\n",
    "plt.yscale(\"log\")\n",
    "plt.show()\n"
   ]
  },
  {
   "cell_type": "markdown",
   "id": "e6506ada",
   "metadata": {},
   "source": [
    "# Sin Function Combinations "
   ]
  },
  {
   "cell_type": "code",
   "execution_count": 86,
   "id": "1bb3edfe",
   "metadata": {},
   "outputs": [],
   "source": [
    "from StackGP import *\n",
    "import numpy as np"
   ]
  },
  {
   "cell_type": "code",
   "execution_count": 87,
   "id": "13593ea9",
   "metadata": {},
   "outputs": [],
   "source": [
    "operators=allOps()"
   ]
  },
  {
   "cell_type": "code",
   "execution_count": 88,
   "id": "9b592106",
   "metadata": {},
   "outputs": [],
   "source": [
    "#Define sine function to generate data\n",
    "def sinFunc(x0):\n",
    "    return np.sin(x0)"
   ]
  },
  {
   "cell_type": "code",
   "execution_count": 89,
   "id": "71d694c3",
   "metadata": {},
   "outputs": [],
   "source": [
    "sinModel=[np.array([operators[9],operators[4]]),[variableSelect(0)],[]]"
   ]
  },
  {
   "cell_type": "code",
   "execution_count": 90,
   "id": "2d27a5fa",
   "metadata": {},
   "outputs": [
    {
     "data": {
      "text/plain": [
       "[array([<function sin at 0x000002813605CB80>,\n",
       "        <function exp at 0x000002813605C860>], dtype=object),\n",
       " [<function StackGP.variableSelect.<locals>.<lambda>(variables)>],\n",
       " []]"
      ]
     },
     "execution_count": 90,
     "metadata": {},
     "output_type": "execute_result"
    }
   ],
   "source": [
    "sinModel"
   ]
  },
  {
   "cell_type": "code",
   "execution_count": 91,
   "id": "00d5a9c1",
   "metadata": {},
   "outputs": [],
   "source": [
    "inputData=np.array([np.arange(-1,1,.0013)])\n",
    "response=inputData[0]"
   ]
  },
  {
   "cell_type": "code",
   "execution_count": 92,
   "id": "c6d2f84b",
   "metadata": {},
   "outputs": [
    {
     "data": {
      "text/plain": [
       "0.0005032000136365655"
      ]
     },
     "execution_count": 92,
     "metadata": {},
     "output_type": "execute_result"
    }
   ],
   "source": [
    "totalSharpness(sinModel,inputData,response,numPerturbations=4000,percentPerturbation=0.2)"
   ]
  },
  {
   "cell_type": "code",
   "execution_count": null,
   "id": "c53f342f",
   "metadata": {},
   "outputs": [],
   "source": []
  },
  {
   "cell_type": "code",
   "execution_count": 93,
   "id": "c3e1330f",
   "metadata": {},
   "outputs": [],
   "source": [
    "from StackGP import *\n",
    "import numpy as np"
   ]
  },
  {
   "cell_type": "code",
   "execution_count": 94,
   "id": "db513a02",
   "metadata": {},
   "outputs": [],
   "source": [
    "operators=allOps()"
   ]
  },
  {
   "cell_type": "code",
   "execution_count": 95,
   "id": "476f67ac",
   "metadata": {},
   "outputs": [],
   "source": [
    "#Define sine function to generate data\n",
    "def sinFunc(x0):\n",
    "    return np.sin(x0)"
   ]
  },
  {
   "cell_type": "code",
   "execution_count": 96,
   "id": "e4b11ab7",
   "metadata": {},
   "outputs": [],
   "source": [
    "sinModel=[np.array([operators[9],operators[5]]),[variableSelect(0)],[]]"
   ]
  },
  {
   "cell_type": "code",
   "execution_count": 97,
   "id": "3e72973d",
   "metadata": {},
   "outputs": [
    {
     "data": {
      "text/plain": [
       "[array([<function sin at 0x000002813605CB80>,\n",
       "        <function sqrd at 0x000002813605CA40>], dtype=object),\n",
       " [<function StackGP.variableSelect.<locals>.<lambda>(variables)>],\n",
       " []]"
      ]
     },
     "execution_count": 97,
     "metadata": {},
     "output_type": "execute_result"
    }
   ],
   "source": [
    "sinModel"
   ]
  },
  {
   "cell_type": "code",
   "execution_count": 98,
   "id": "9071c91c",
   "metadata": {},
   "outputs": [],
   "source": [
    "inputData=np.array([np.arange(-1,1,.0013)])\n",
    "response=inputData[0]"
   ]
  },
  {
   "cell_type": "code",
   "execution_count": 99,
   "id": "77dc2019",
   "metadata": {},
   "outputs": [
    {
     "data": {
      "text/plain": [
       "1.8601643061972345e-05"
      ]
     },
     "execution_count": 99,
     "metadata": {},
     "output_type": "execute_result"
    }
   ],
   "source": [
    "totalSharpness(sinModel,inputData,response,numPerturbations=4000,percentPerturbation=0.2)"
   ]
  },
  {
   "cell_type": "code",
   "execution_count": null,
   "id": "c95740ed",
   "metadata": {},
   "outputs": [],
   "source": []
  },
  {
   "cell_type": "code",
   "execution_count": 100,
   "id": "9fdeca86",
   "metadata": {},
   "outputs": [],
   "source": [
    "from StackGP import *\n",
    "import numpy as np"
   ]
  },
  {
   "cell_type": "code",
   "execution_count": 101,
   "id": "70592b52",
   "metadata": {},
   "outputs": [],
   "source": [
    "operators=allOps()"
   ]
  },
  {
   "cell_type": "code",
   "execution_count": 102,
   "id": "f8e5078d",
   "metadata": {},
   "outputs": [],
   "source": [
    "#Define sine function to generate data\n",
    "def sinFunc(x0):\n",
    "    return np.sin(x0)"
   ]
  },
  {
   "cell_type": "code",
   "execution_count": 103,
   "id": "04605db2",
   "metadata": {},
   "outputs": [],
   "source": [
    "sinModel=[np.array([operators[9],operators[6]]),[variableSelect(0)],[]]"
   ]
  },
  {
   "cell_type": "code",
   "execution_count": 104,
   "id": "54637df6",
   "metadata": {},
   "outputs": [
    {
     "data": {
      "text/plain": [
       "[array([<function sin at 0x000002813605CB80>,\n",
       "        <function sqrt at 0x000002813605C9A0>], dtype=object),\n",
       " [<function StackGP.variableSelect.<locals>.<lambda>(variables)>],\n",
       " []]"
      ]
     },
     "execution_count": 104,
     "metadata": {},
     "output_type": "execute_result"
    }
   ],
   "source": [
    "sinModel"
   ]
  },
  {
   "cell_type": "code",
   "execution_count": 105,
   "id": "34fc74e3",
   "metadata": {},
   "outputs": [],
   "source": [
    "inputData=np.array([np.arange(-1,1,.0013)])\n",
    "response=inputData[0]"
   ]
  },
  {
   "cell_type": "code",
   "execution_count": 106,
   "id": "5e7a16ed",
   "metadata": {},
   "outputs": [
    {
     "data": {
      "text/plain": [
       "nan"
      ]
     },
     "execution_count": 106,
     "metadata": {},
     "output_type": "execute_result"
    }
   ],
   "source": [
    "totalSharpness(sinModel,inputData,response,numPerturbations=4000,percentPerturbation=0.2)"
   ]
  },
  {
   "cell_type": "code",
   "execution_count": null,
   "id": "007c3f6e",
   "metadata": {},
   "outputs": [],
   "source": []
  },
  {
   "cell_type": "code",
   "execution_count": 107,
   "id": "5f713386",
   "metadata": {},
   "outputs": [],
   "source": [
    "from StackGP import *\n",
    "import numpy as np"
   ]
  },
  {
   "cell_type": "code",
   "execution_count": 108,
   "id": "369228c1",
   "metadata": {},
   "outputs": [],
   "source": [
    "operators=allOps()"
   ]
  },
  {
   "cell_type": "code",
   "execution_count": 109,
   "id": "337dcb4a",
   "metadata": {},
   "outputs": [],
   "source": [
    "#Define sine function to generate data\n",
    "def sinFunc(x0):\n",
    "    return np.sin(x0)"
   ]
  },
  {
   "cell_type": "code",
   "execution_count": 110,
   "id": "9fad86ee",
   "metadata": {},
   "outputs": [],
   "source": [
    "sinModel=[np.array([operators[9],operators[7]]),[variableSelect(0)],[]]"
   ]
  },
  {
   "cell_type": "code",
   "execution_count": 111,
   "id": "9c1df053",
   "metadata": {},
   "outputs": [
    {
     "data": {
      "text/plain": [
       "[array([<function sin at 0x000002813605CB80>,\n",
       "        <function inv at 0x000002813605CAE0>], dtype=object),\n",
       " [<function StackGP.variableSelect.<locals>.<lambda>(variables)>],\n",
       " []]"
      ]
     },
     "execution_count": 111,
     "metadata": {},
     "output_type": "execute_result"
    }
   ],
   "source": [
    "sinModel"
   ]
  },
  {
   "cell_type": "code",
   "execution_count": 112,
   "id": "6618a839",
   "metadata": {},
   "outputs": [],
   "source": [
    "inputData=np.array([np.arange(-1,1,.0013)])\n",
    "response=inputData[0]"
   ]
  },
  {
   "cell_type": "code",
   "execution_count": 113,
   "id": "5c5cd1a6",
   "metadata": {},
   "outputs": [
    {
     "data": {
      "text/plain": [
       "0.001889200196304113"
      ]
     },
     "execution_count": 113,
     "metadata": {},
     "output_type": "execute_result"
    }
   ],
   "source": [
    "totalSharpness(sinModel,inputData,response,numPerturbations=4000,percentPerturbation=0.2)"
   ]
  },
  {
   "cell_type": "code",
   "execution_count": null,
   "id": "bf6e1035",
   "metadata": {},
   "outputs": [],
   "source": []
  },
  {
   "cell_type": "code",
   "execution_count": 114,
   "id": "9a191258",
   "metadata": {},
   "outputs": [],
   "source": [
    "from StackGP import *\n",
    "import numpy as np"
   ]
  },
  {
   "cell_type": "code",
   "execution_count": 115,
   "id": "9694de68",
   "metadata": {},
   "outputs": [],
   "source": [
    "operators=allOps()"
   ]
  },
  {
   "cell_type": "code",
   "execution_count": 116,
   "id": "e5f1a062",
   "metadata": {},
   "outputs": [],
   "source": [
    "#Define sine function to generate data\n",
    "def sinFunc(x0):\n",
    "    return np.sin(x0)"
   ]
  },
  {
   "cell_type": "code",
   "execution_count": 117,
   "id": "a60fdc03",
   "metadata": {},
   "outputs": [],
   "source": [
    "sinModel=[np.array([operators[9],operators[8]]),[variableSelect(0)],[]]"
   ]
  },
  {
   "cell_type": "code",
   "execution_count": 118,
   "id": "8237e89b",
   "metadata": {},
   "outputs": [
    {
     "data": {
      "text/plain": [
       "[array([<function sin at 0x000002813605CB80>,\n",
       "        <function cos at 0x000002813605CC20>], dtype=object),\n",
       " [<function StackGP.variableSelect.<locals>.<lambda>(variables)>],\n",
       " []]"
      ]
     },
     "execution_count": 118,
     "metadata": {},
     "output_type": "execute_result"
    }
   ],
   "source": [
    "sinModel"
   ]
  },
  {
   "cell_type": "code",
   "execution_count": 119,
   "id": "51694a35",
   "metadata": {},
   "outputs": [],
   "source": [
    "inputData=np.array([np.arange(-1,1,.0013)])\n",
    "response=inputData[0]"
   ]
  },
  {
   "cell_type": "code",
   "execution_count": 120,
   "id": "c56ea0b2",
   "metadata": {},
   "outputs": [
    {
     "data": {
      "text/plain": [
       "1.7422476909498455e-05"
      ]
     },
     "execution_count": 120,
     "metadata": {},
     "output_type": "execute_result"
    }
   ],
   "source": [
    "totalSharpness(sinModel,inputData,response,numPerturbations=4000,percentPerturbation=0.2)"
   ]
  },
  {
   "cell_type": "code",
   "execution_count": null,
   "id": "7d251c02",
   "metadata": {},
   "outputs": [],
   "source": []
  },
  {
   "cell_type": "code",
   "execution_count": 121,
   "id": "d321edd9",
   "metadata": {},
   "outputs": [],
   "source": [
    "from StackGP import *\n",
    "import numpy as np"
   ]
  },
  {
   "cell_type": "code",
   "execution_count": 122,
   "id": "a6a91443",
   "metadata": {},
   "outputs": [],
   "source": [
    "operators=allOps()"
   ]
  },
  {
   "cell_type": "code",
   "execution_count": 123,
   "id": "b2e905bf",
   "metadata": {},
   "outputs": [],
   "source": [
    "#Define sine function to generate data\n",
    "def sinFunc(x0):\n",
    "    return np.sin(x0)"
   ]
  },
  {
   "cell_type": "code",
   "execution_count": 124,
   "id": "3bcdf24c",
   "metadata": {},
   "outputs": [],
   "source": [
    "sinModel=[np.array([operators[9],operators[10]]),[variableSelect(0)],[]]"
   ]
  },
  {
   "cell_type": "code",
   "execution_count": 125,
   "id": "7c1e6fba",
   "metadata": {},
   "outputs": [
    {
     "data": {
      "text/plain": [
       "[array([<function sin at 0x000002813605CB80>,\n",
       "        <function tan at 0x000002813605CCC0>], dtype=object),\n",
       " [<function StackGP.variableSelect.<locals>.<lambda>(variables)>],\n",
       " []]"
      ]
     },
     "execution_count": 125,
     "metadata": {},
     "output_type": "execute_result"
    }
   ],
   "source": [
    "sinModel"
   ]
  },
  {
   "cell_type": "code",
   "execution_count": 126,
   "id": "aeb6fc79",
   "metadata": {},
   "outputs": [],
   "source": [
    "inputData=np.array([np.arange(-1,1,.0013)])\n",
    "response=inputData[0]"
   ]
  },
  {
   "cell_type": "code",
   "execution_count": 127,
   "id": "028ef06b",
   "metadata": {},
   "outputs": [
    {
     "data": {
      "text/plain": [
       "0.0001172597425767007"
      ]
     },
     "execution_count": 127,
     "metadata": {},
     "output_type": "execute_result"
    }
   ],
   "source": [
    "totalSharpness(sinModel,inputData,response,numPerturbations=4000,percentPerturbation=0.2)"
   ]
  },
  {
   "cell_type": "code",
   "execution_count": null,
   "id": "832489a4",
   "metadata": {},
   "outputs": [],
   "source": []
  },
  {
   "cell_type": "code",
   "execution_count": 128,
   "id": "44a2ab1e",
   "metadata": {},
   "outputs": [],
   "source": [
    "from StackGP import *\n",
    "import numpy as np"
   ]
  },
  {
   "cell_type": "code",
   "execution_count": 129,
   "id": "820e6fc4",
   "metadata": {},
   "outputs": [],
   "source": [
    "operators=allOps()"
   ]
  },
  {
   "cell_type": "code",
   "execution_count": 130,
   "id": "fe7d443c",
   "metadata": {},
   "outputs": [],
   "source": [
    "#Define sine function to generate data\n",
    "def sinFunc(x0):\n",
    "    return np.sin(x0)"
   ]
  },
  {
   "cell_type": "code",
   "execution_count": 131,
   "id": "14c45d0e",
   "metadata": {},
   "outputs": [],
   "source": [
    "sinModel=[np.array([operators[9],operators[13]]),[variableSelect(0)],[]]"
   ]
  },
  {
   "cell_type": "code",
   "execution_count": 132,
   "id": "f4181ee7",
   "metadata": {},
   "outputs": [
    {
     "data": {
      "text/plain": [
       "[array([<function sin at 0x000002813605CB80>,\n",
       "        <function arctan at 0x000002813605CEA0>], dtype=object),\n",
       " [<function StackGP.variableSelect.<locals>.<lambda>(variables)>],\n",
       " []]"
      ]
     },
     "execution_count": 132,
     "metadata": {},
     "output_type": "execute_result"
    }
   ],
   "source": [
    "sinModel"
   ]
  },
  {
   "cell_type": "code",
   "execution_count": 133,
   "id": "68892b29",
   "metadata": {},
   "outputs": [],
   "source": [
    "inputData=np.array([np.arange(-1,1,.0013)])\n",
    "response=inputData[0]"
   ]
  },
  {
   "cell_type": "code",
   "execution_count": 134,
   "id": "17782c91",
   "metadata": {},
   "outputs": [
    {
     "data": {
      "text/plain": [
       "0.00021822824170871774"
      ]
     },
     "execution_count": 134,
     "metadata": {},
     "output_type": "execute_result"
    }
   ],
   "source": [
    "totalSharpness(sinModel,inputData,response,numPerturbations=4000,percentPerturbation=0.2)"
   ]
  },
  {
   "cell_type": "code",
   "execution_count": null,
   "id": "93815f78",
   "metadata": {},
   "outputs": [],
   "source": []
  },
  {
   "cell_type": "code",
   "execution_count": 135,
   "id": "9f2ee74a",
   "metadata": {},
   "outputs": [],
   "source": [
    "from StackGP import *\n",
    "import numpy as np"
   ]
  },
  {
   "cell_type": "code",
   "execution_count": 136,
   "id": "0dad6f48",
   "metadata": {},
   "outputs": [],
   "source": [
    "operators=allOps()"
   ]
  },
  {
   "cell_type": "code",
   "execution_count": 137,
   "id": "6ef772ba",
   "metadata": {},
   "outputs": [],
   "source": [
    "#Define sine function to generate data\n",
    "def sinFunc(x0):\n",
    "    return np.sin(x0)"
   ]
  },
  {
   "cell_type": "code",
   "execution_count": 138,
   "id": "26f7d04c",
   "metadata": {},
   "outputs": [],
   "source": [
    "sinModel=[np.array([operators[9],operators[14]]),[variableSelect(0)],[]]"
   ]
  },
  {
   "cell_type": "code",
   "execution_count": 139,
   "id": "8b5c9393",
   "metadata": {},
   "outputs": [
    {
     "data": {
      "text/plain": [
       "[array([<function sin at 0x000002813605CB80>,\n",
       "        <function tanh at 0x000002813605CF40>], dtype=object),\n",
       " [<function StackGP.variableSelect.<locals>.<lambda>(variables)>],\n",
       " []]"
      ]
     },
     "execution_count": 139,
     "metadata": {},
     "output_type": "execute_result"
    }
   ],
   "source": [
    "sinModel"
   ]
  },
  {
   "cell_type": "code",
   "execution_count": 140,
   "id": "c5e46f77",
   "metadata": {},
   "outputs": [],
   "source": [
    "inputData=np.array([np.arange(-1,1,.0013)])\n",
    "response=inputData[0]"
   ]
  },
  {
   "cell_type": "code",
   "execution_count": 141,
   "id": "39322201",
   "metadata": {},
   "outputs": [
    {
     "data": {
      "text/plain": [
       "0.00022796563648746137"
      ]
     },
     "execution_count": 141,
     "metadata": {},
     "output_type": "execute_result"
    }
   ],
   "source": [
    "totalSharpness(sinModel,inputData,response,numPerturbations=4000,percentPerturbation=0.2)"
   ]
  },
  {
   "cell_type": "code",
   "execution_count": null,
   "id": "7920e12e",
   "metadata": {},
   "outputs": [],
   "source": []
  },
  {
   "cell_type": "code",
   "execution_count": 142,
   "id": "98a95aaf",
   "metadata": {},
   "outputs": [],
   "source": [
    "from StackGP import *\n",
    "import numpy as np"
   ]
  },
  {
   "cell_type": "code",
   "execution_count": 143,
   "id": "1ff9c2f0",
   "metadata": {},
   "outputs": [],
   "source": [
    "operators=allOps()"
   ]
  },
  {
   "cell_type": "code",
   "execution_count": 144,
   "id": "eed4b351",
   "metadata": {},
   "outputs": [],
   "source": [
    "#Define sine function to generate data\n",
    "def sinFunc(x0):\n",
    "    return np.sin(x0)"
   ]
  },
  {
   "cell_type": "code",
   "execution_count": 145,
   "id": "ec01de1a",
   "metadata": {},
   "outputs": [],
   "source": [
    "sinModel=[np.array([operators[9],operators[15]]),[variableSelect(0)],[]]"
   ]
  },
  {
   "cell_type": "code",
   "execution_count": 146,
   "id": "2befe005",
   "metadata": {},
   "outputs": [
    {
     "data": {
      "text/plain": [
       "[array([<function sin at 0x000002813605CB80>,\n",
       "        <function log at 0x000002813605CFE0>], dtype=object),\n",
       " [<function StackGP.variableSelect.<locals>.<lambda>(variables)>],\n",
       " []]"
      ]
     },
     "execution_count": 146,
     "metadata": {},
     "output_type": "execute_result"
    }
   ],
   "source": [
    "sinModel"
   ]
  },
  {
   "cell_type": "code",
   "execution_count": 147,
   "id": "9d6c1de5",
   "metadata": {},
   "outputs": [],
   "source": [
    "inputData=np.array([np.arange(-1,1,.0013)])\n",
    "response=inputData[0]"
   ]
  },
  {
   "cell_type": "code",
   "execution_count": 148,
   "id": "d5a7601c",
   "metadata": {},
   "outputs": [
    {
     "data": {
      "text/plain": [
       "nan"
      ]
     },
     "execution_count": 148,
     "metadata": {},
     "output_type": "execute_result"
    }
   ],
   "source": [
    "totalSharpness(sinModel,inputData,response,numPerturbations=4000,percentPerturbation=0.2)"
   ]
  },
  {
   "cell_type": "code",
   "execution_count": 150,
   "id": "bb093b0f",
   "metadata": {},
   "outputs": [
    {
     "data": {
      "image/png": "[encoded data removed]",
      "text/plain": [
       "<Figure size 1000x500 with 1 Axes>"
      ]
     },
     "metadata": {},
     "output_type": "display_data"
    }
   ],
   "source": [
    "import numpy as np\n",
    "import matplotlib.pyplot as plt \n",
    "\n",
    " \n",
    "# creating the dataset\n",
    "data = {'sin':0.000071559078,'sin x sin':0.000190523,'sqrt':1,'log':1,'inv':0.0018892,'exp':0.00050320013,'tanh':0.00022796,'arctan':0.000218228,'tan':0.00011725974,'sqrd':0.0000186016,'cos':0.0000174224 }\n",
    "courses = list(data.keys())\n",
    "values = list(data.values())\n",
    " \n",
    "fig = plt.figure(figsize = (10, 5))\n",
    "\n",
    "# creating the bar plot\n",
    "plt.bar(courses, values, color ='maroon', \n",
    "        width = 0.4)\n",
    "\n",
    "plt.xlabel(\"Functions\")\n",
    "plt.ylabel(\"Sin\")\n",
    "plt.title(\"Sin Function Combinations\")\n",
    "plt.yscale(\"log\")\n",
    "plt.show()\n"
   ]
  },
  {
   "cell_type": "markdown",
   "id": "368d434d",
   "metadata": {},
   "source": [
    "# Cos Function Combinations"
   ]
  },
  {
   "cell_type": "code",
   "execution_count": 151,
   "id": "c0eaf1c9",
   "metadata": {},
   "outputs": [],
   "source": [
    "from StackGP import *\n",
    "import numpy as np"
   ]
  },
  {
   "cell_type": "code",
   "execution_count": 152,
   "id": "9e182398",
   "metadata": {},
   "outputs": [],
   "source": [
    "operators=allOps()"
   ]
  },
  {
   "cell_type": "code",
   "execution_count": 153,
   "id": "d43b6f5e",
   "metadata": {},
   "outputs": [],
   "source": [
    "#Define cosine function to generate data\n",
    "def cosFunc(x0):\n",
    "    return np.cos(x0)"
   ]
  },
  {
   "cell_type": "code",
   "execution_count": 154,
   "id": "b0a61b87",
   "metadata": {},
   "outputs": [],
   "source": [
    "cosModel=[np.array([operators[8],operators[4]]),[variableSelect(0)],[]]"
   ]
  },
  {
   "cell_type": "code",
   "execution_count": 155,
   "id": "4216e75e",
   "metadata": {},
   "outputs": [
    {
     "data": {
      "text/plain": [
       "[array([<function cos at 0x000002813605CC20>,\n",
       "        <function exp at 0x000002813605C860>], dtype=object),\n",
       " [<function StackGP.variableSelect.<locals>.<lambda>(variables)>],\n",
       " []]"
      ]
     },
     "execution_count": 155,
     "metadata": {},
     "output_type": "execute_result"
    }
   ],
   "source": [
    "cosModel"
   ]
  },
  {
   "cell_type": "code",
   "execution_count": 156,
   "id": "37021a5d",
   "metadata": {},
   "outputs": [],
   "source": [
    "inputData=np.array([np.arange(-1,1,.0013)])\n",
    "response=inputData[0]"
   ]
  },
  {
   "cell_type": "code",
   "execution_count": 157,
   "id": "6e56f0b9",
   "metadata": {},
   "outputs": [
    {
     "data": {
      "text/plain": [
       "1.928181851415206e-05"
      ]
     },
     "execution_count": 157,
     "metadata": {},
     "output_type": "execute_result"
    }
   ],
   "source": [
    "totalSharpness(cosModel,inputData,response,numPerturbations=4000,percentPerturbation=0.2)"
   ]
  },
  {
   "cell_type": "code",
   "execution_count": null,
   "id": "0529ed58",
   "metadata": {},
   "outputs": [],
   "source": []
  },
  {
   "cell_type": "code",
   "execution_count": 158,
   "id": "4a95de90",
   "metadata": {},
   "outputs": [],
   "source": [
    "from StackGP import *\n",
    "import numpy as np"
   ]
  },
  {
   "cell_type": "code",
   "execution_count": 159,
   "id": "c859cc64",
   "metadata": {},
   "outputs": [],
   "source": [
    "operators=allOps()"
   ]
  },
  {
   "cell_type": "code",
   "execution_count": 160,
   "id": "970a0a81",
   "metadata": {},
   "outputs": [],
   "source": [
    "#Define cosine function to generate data\n",
    "def cosFunc(x0):\n",
    "    return np.cos(x0)"
   ]
  },
  {
   "cell_type": "code",
   "execution_count": 161,
   "id": "18e27632",
   "metadata": {},
   "outputs": [],
   "source": [
    "cosModel=[np.array([operators[8],operators[5]]),[variableSelect(0)],[]]"
   ]
  },
  {
   "cell_type": "code",
   "execution_count": 162,
   "id": "987376e5",
   "metadata": {},
   "outputs": [
    {
     "data": {
      "text/plain": [
       "[array([<function cos at 0x000002813605CC20>,\n",
       "        <function sqrd at 0x000002813605CA40>], dtype=object),\n",
       " [<function StackGP.variableSelect.<locals>.<lambda>(variables)>],\n",
       " []]"
      ]
     },
     "execution_count": 162,
     "metadata": {},
     "output_type": "execute_result"
    }
   ],
   "source": [
    "cosModel"
   ]
  },
  {
   "cell_type": "code",
   "execution_count": 163,
   "id": "93c196ba",
   "metadata": {},
   "outputs": [],
   "source": [
    "inputData=np.array([np.arange(-1,1,.0013)])\n",
    "response=inputData[0]"
   ]
  },
  {
   "cell_type": "code",
   "execution_count": 164,
   "id": "a4594eab",
   "metadata": {},
   "outputs": [
    {
     "data": {
      "text/plain": [
       "1.8763618159895616e-05"
      ]
     },
     "execution_count": 164,
     "metadata": {},
     "output_type": "execute_result"
    }
   ],
   "source": [
    "totalSharpness(cosModel,inputData,response,numPerturbations=4000,percentPerturbation=0.2)"
   ]
  },
  {
   "cell_type": "code",
   "execution_count": null,
   "id": "c9ecfb0e",
   "metadata": {},
   "outputs": [],
   "source": []
  },
  {
   "cell_type": "code",
   "execution_count": 165,
   "id": "ed84dcb7",
   "metadata": {},
   "outputs": [],
   "source": [
    "from StackGP import *\n",
    "import numpy as np"
   ]
  },
  {
   "cell_type": "code",
   "execution_count": 166,
   "id": "3e68383d",
   "metadata": {},
   "outputs": [],
   "source": [
    "operators=allOps()"
   ]
  },
  {
   "cell_type": "code",
   "execution_count": 167,
   "id": "a4a8f1bc",
   "metadata": {},
   "outputs": [],
   "source": [
    "#Define cosine function to generate data\n",
    "def cosFunc(x0):\n",
    "    return np.cos(x0)"
   ]
  },
  {
   "cell_type": "code",
   "execution_count": 168,
   "id": "04cfb94f",
   "metadata": {},
   "outputs": [],
   "source": [
    "cosModel=[np.array([operators[8],operators[6]]),[variableSelect(0)],[]]"
   ]
  },
  {
   "cell_type": "code",
   "execution_count": 169,
   "id": "d7432e63",
   "metadata": {},
   "outputs": [
    {
     "data": {
      "text/plain": [
       "[array([<function cos at 0x000002813605CC20>,\n",
       "        <function sqrt at 0x000002813605C9A0>], dtype=object),\n",
       " [<function StackGP.variableSelect.<locals>.<lambda>(variables)>],\n",
       " []]"
      ]
     },
     "execution_count": 169,
     "metadata": {},
     "output_type": "execute_result"
    }
   ],
   "source": [
    "cosModel"
   ]
  },
  {
   "cell_type": "code",
   "execution_count": 170,
   "id": "1f68c2aa",
   "metadata": {},
   "outputs": [],
   "source": [
    "inputData=np.array([np.arange(-1,1,.0013)])\n",
    "response=inputData[0]"
   ]
  },
  {
   "cell_type": "code",
   "execution_count": 171,
   "id": "2e72330c",
   "metadata": {},
   "outputs": [
    {
     "data": {
      "text/plain": [
       "3.180410869541424e-05"
      ]
     },
     "execution_count": 171,
     "metadata": {},
     "output_type": "execute_result"
    }
   ],
   "source": [
    "totalSharpness(cosModel,inputData,response,numPerturbations=4000,percentPerturbation=0.2)"
   ]
  },
  {
   "cell_type": "code",
   "execution_count": null,
   "id": "0b30db2e",
   "metadata": {},
   "outputs": [],
   "source": []
  },
  {
   "cell_type": "code",
   "execution_count": 172,
   "id": "d85c814d",
   "metadata": {},
   "outputs": [],
   "source": [
    "from StackGP import *\n",
    "import numpy as np"
   ]
  },
  {
   "cell_type": "code",
   "execution_count": 173,
   "id": "7341a26a",
   "metadata": {},
   "outputs": [],
   "source": [
    "operators=allOps()"
   ]
  },
  {
   "cell_type": "code",
   "execution_count": 174,
   "id": "2b4faea7",
   "metadata": {},
   "outputs": [],
   "source": [
    "#Define cosine function to generate data\n",
    "def cosFunc(x0):\n",
    "    return np.cos(x0)"
   ]
  },
  {
   "cell_type": "code",
   "execution_count": 175,
   "id": "f1476afd",
   "metadata": {},
   "outputs": [],
   "source": [
    "cosModel=[np.array([operators[8],operators[7]]),[variableSelect(0)],[]]"
   ]
  },
  {
   "cell_type": "code",
   "execution_count": 176,
   "id": "f6d94269",
   "metadata": {},
   "outputs": [
    {
     "data": {
      "text/plain": [
       "[array([<function cos at 0x000002813605CC20>,\n",
       "        <function inv at 0x000002813605CAE0>], dtype=object),\n",
       " [<function StackGP.variableSelect.<locals>.<lambda>(variables)>],\n",
       " []]"
      ]
     },
     "execution_count": 176,
     "metadata": {},
     "output_type": "execute_result"
    }
   ],
   "source": [
    "cosModel"
   ]
  },
  {
   "cell_type": "code",
   "execution_count": 177,
   "id": "26d83470",
   "metadata": {},
   "outputs": [],
   "source": [
    "inputData=np.array([np.arange(-1,1,.0013)])\n",
    "response=inputData[0]"
   ]
  },
  {
   "cell_type": "code",
   "execution_count": 178,
   "id": "50589d3a",
   "metadata": {},
   "outputs": [
    {
     "data": {
      "text/plain": [
       "5.388272758386542e-05"
      ]
     },
     "execution_count": 178,
     "metadata": {},
     "output_type": "execute_result"
    }
   ],
   "source": [
    "totalSharpness(cosModel,inputData,response,numPerturbations=4000,percentPerturbation=0.2)"
   ]
  },
  {
   "cell_type": "code",
   "execution_count": null,
   "id": "137c0c45",
   "metadata": {},
   "outputs": [],
   "source": []
  },
  {
   "cell_type": "code",
   "execution_count": 179,
   "id": "84dcea66",
   "metadata": {},
   "outputs": [],
   "source": [
    "from StackGP import *\n",
    "import numpy as np"
   ]
  },
  {
   "cell_type": "code",
   "execution_count": 180,
   "id": "c523d9cd",
   "metadata": {},
   "outputs": [],
   "source": [
    "operators=allOps()"
   ]
  },
  {
   "cell_type": "code",
   "execution_count": 181,
   "id": "07d086dd",
   "metadata": {},
   "outputs": [],
   "source": [
    "#Define cosine function to generate data\n",
    "def cosFunc(x0):\n",
    "    return np.cos(x0)"
   ]
  },
  {
   "cell_type": "code",
   "execution_count": 182,
   "id": "5e2d1f28",
   "metadata": {},
   "outputs": [],
   "source": [
    "cosModel=[np.array([operators[8],operators[9]]),[variableSelect(0)],[]]"
   ]
  },
  {
   "cell_type": "code",
   "execution_count": 183,
   "id": "422c929a",
   "metadata": {},
   "outputs": [
    {
     "data": {
      "text/plain": [
       "[array([<function cos at 0x000002813605CC20>,\n",
       "        <function sin at 0x000002813605CB80>], dtype=object),\n",
       " [<function StackGP.variableSelect.<locals>.<lambda>(variables)>],\n",
       " []]"
      ]
     },
     "execution_count": 183,
     "metadata": {},
     "output_type": "execute_result"
    }
   ],
   "source": [
    "cosModel"
   ]
  },
  {
   "cell_type": "code",
   "execution_count": 184,
   "id": "80390773",
   "metadata": {},
   "outputs": [],
   "source": [
    "inputData=np.array([np.arange(-1,1,.0013)])\n",
    "response=inputData[0]"
   ]
  },
  {
   "cell_type": "code",
   "execution_count": 185,
   "id": "dbc15be9",
   "metadata": {},
   "outputs": [
    {
     "data": {
      "text/plain": [
       "3.175876309563918e-05"
      ]
     },
     "execution_count": 185,
     "metadata": {},
     "output_type": "execute_result"
    }
   ],
   "source": [
    "totalSharpness(cosModel,inputData,response,numPerturbations=4000,percentPerturbation=0.2)"
   ]
  },
  {
   "cell_type": "code",
   "execution_count": null,
   "id": "755448c7",
   "metadata": {},
   "outputs": [],
   "source": []
  },
  {
   "cell_type": "code",
   "execution_count": 186,
   "id": "0b909975",
   "metadata": {},
   "outputs": [],
   "source": [
    "from StackGP import *\n",
    "import numpy as np"
   ]
  },
  {
   "cell_type": "code",
   "execution_count": 187,
   "id": "db72a7a9",
   "metadata": {},
   "outputs": [],
   "source": [
    "operators=allOps()"
   ]
  },
  {
   "cell_type": "code",
   "execution_count": 188,
   "id": "a1b7fd51",
   "metadata": {},
   "outputs": [],
   "source": [
    "#Define cosine function to generate data\n",
    "def cosFunc(x0):\n",
    "    return np.cos(x0)"
   ]
  },
  {
   "cell_type": "code",
   "execution_count": 189,
   "id": "4a643371",
   "metadata": {},
   "outputs": [],
   "source": [
    "cosModel=[np.array([operators[8],operators[10]]),[variableSelect(0)],[]]"
   ]
  },
  {
   "cell_type": "code",
   "execution_count": 190,
   "id": "41bae65b",
   "metadata": {},
   "outputs": [
    {
     "data": {
      "text/plain": [
       "[array([<function cos at 0x000002813605CC20>,\n",
       "        <function tan at 0x000002813605CCC0>], dtype=object),\n",
       " [<function StackGP.variableSelect.<locals>.<lambda>(variables)>],\n",
       " []]"
      ]
     },
     "execution_count": 190,
     "metadata": {},
     "output_type": "execute_result"
    }
   ],
   "source": [
    "cosModel"
   ]
  },
  {
   "cell_type": "code",
   "execution_count": 191,
   "id": "9b311f18",
   "metadata": {},
   "outputs": [],
   "source": [
    "inputData=np.array([np.arange(-1,1,.0013)])\n",
    "response=inputData[0]"
   ]
  },
  {
   "cell_type": "code",
   "execution_count": 192,
   "id": "44b2cf85",
   "metadata": {},
   "outputs": [
    {
     "data": {
      "text/plain": [
       "1.6431537247670345e-05"
      ]
     },
     "execution_count": 192,
     "metadata": {},
     "output_type": "execute_result"
    }
   ],
   "source": [
    "totalSharpness(cosModel,inputData,response,numPerturbations=4000,percentPerturbation=0.2)"
   ]
  },
  {
   "cell_type": "code",
   "execution_count": null,
   "id": "3edb911c",
   "metadata": {},
   "outputs": [],
   "source": []
  },
  {
   "cell_type": "code",
   "execution_count": 193,
   "id": "52343c78",
   "metadata": {},
   "outputs": [],
   "source": [
    "from StackGP import *\n",
    "import numpy as np"
   ]
  },
  {
   "cell_type": "code",
   "execution_count": 194,
   "id": "4b586497",
   "metadata": {},
   "outputs": [],
   "source": [
    "operators=allOps()"
   ]
  },
  {
   "cell_type": "code",
   "execution_count": 195,
   "id": "4e919ed8",
   "metadata": {},
   "outputs": [],
   "source": [
    "#Define cosine function to generate data\n",
    "def cosFunc(x0):\n",
    "    return np.cos(x0)"
   ]
  },
  {
   "cell_type": "code",
   "execution_count": 196,
   "id": "b5f500e0",
   "metadata": {},
   "outputs": [],
   "source": [
    "cosModel=[np.array([operators[8],operators[13]]),[variableSelect(0)],[]]"
   ]
  },
  {
   "cell_type": "code",
   "execution_count": 197,
   "id": "dc0284fd",
   "metadata": {},
   "outputs": [
    {
     "data": {
      "text/plain": [
       "[array([<function cos at 0x000002813605CC20>,\n",
       "        <function arctan at 0x000002813605CEA0>], dtype=object),\n",
       " [<function StackGP.variableSelect.<locals>.<lambda>(variables)>],\n",
       " []]"
      ]
     },
     "execution_count": 197,
     "metadata": {},
     "output_type": "execute_result"
    }
   ],
   "source": [
    "cosModel"
   ]
  },
  {
   "cell_type": "code",
   "execution_count": 198,
   "id": "6a464cae",
   "metadata": {},
   "outputs": [],
   "source": [
    "inputData=np.array([np.arange(-1,1,.0013)])\n",
    "response=inputData[0]"
   ]
  },
  {
   "cell_type": "code",
   "execution_count": 199,
   "id": "fe893aa4",
   "metadata": {},
   "outputs": [
    {
     "data": {
      "text/plain": [
       "3.315168774182672e-05"
      ]
     },
     "execution_count": 199,
     "metadata": {},
     "output_type": "execute_result"
    }
   ],
   "source": [
    "totalSharpness(cosModel,inputData,response,numPerturbations=4000,percentPerturbation=0.2)"
   ]
  },
  {
   "cell_type": "code",
   "execution_count": null,
   "id": "32cadd6f",
   "metadata": {},
   "outputs": [],
   "source": []
  },
  {
   "cell_type": "code",
   "execution_count": 200,
   "id": "46c6583b",
   "metadata": {},
   "outputs": [],
   "source": [
    "from StackGP import *\n",
    "import numpy as np"
   ]
  },
  {
   "cell_type": "code",
   "execution_count": 201,
   "id": "67365c3d",
   "metadata": {},
   "outputs": [],
   "source": [
    "operators=allOps()"
   ]
  },
  {
   "cell_type": "code",
   "execution_count": 202,
   "id": "9742a7cf",
   "metadata": {},
   "outputs": [],
   "source": [
    "#Define cosine function to generate data\n",
    "def cosFunc(x0):\n",
    "    return np.cos(x0)"
   ]
  },
  {
   "cell_type": "code",
   "execution_count": 203,
   "id": "073b514c",
   "metadata": {},
   "outputs": [],
   "source": [
    "cosModel=[np.array([operators[8],operators[14]]),[variableSelect(0)],[]]"
   ]
  },
  {
   "cell_type": "code",
   "execution_count": 204,
   "id": "1ba11e59",
   "metadata": {},
   "outputs": [
    {
     "data": {
      "text/plain": [
       "[array([<function cos at 0x000002813605CC20>,\n",
       "        <function tanh at 0x000002813605CF40>], dtype=object),\n",
       " [<function StackGP.variableSelect.<locals>.<lambda>(variables)>],\n",
       " []]"
      ]
     },
     "execution_count": 204,
     "metadata": {},
     "output_type": "execute_result"
    }
   ],
   "source": [
    "cosModel"
   ]
  },
  {
   "cell_type": "code",
   "execution_count": 205,
   "id": "2622433d",
   "metadata": {},
   "outputs": [],
   "source": [
    "inputData=np.array([np.arange(-1,1,.0013)])\n",
    "response=inputData[0]"
   ]
  },
  {
   "cell_type": "code",
   "execution_count": 206,
   "id": "ac12179d",
   "metadata": {},
   "outputs": [
    {
     "data": {
      "text/plain": [
       "3.517184990802914e-05"
      ]
     },
     "execution_count": 206,
     "metadata": {},
     "output_type": "execute_result"
    }
   ],
   "source": [
    "totalSharpness(cosModel,inputData,response,numPerturbations=4000,percentPerturbation=0.2)"
   ]
  },
  {
   "cell_type": "code",
   "execution_count": null,
   "id": "eaebd3b1",
   "metadata": {},
   "outputs": [],
   "source": []
  },
  {
   "cell_type": "code",
   "execution_count": 207,
   "id": "5bf295c3",
   "metadata": {},
   "outputs": [],
   "source": [
    "from StackGP import *\n",
    "import numpy as np"
   ]
  },
  {
   "cell_type": "code",
   "execution_count": 208,
   "id": "6efb9e18",
   "metadata": {},
   "outputs": [],
   "source": [
    "operators=allOps()"
   ]
  },
  {
   "cell_type": "code",
   "execution_count": 209,
   "id": "719ffb0f",
   "metadata": {},
   "outputs": [],
   "source": [
    "#Define cosine function to generate data\n",
    "def cosFunc(x0):\n",
    "    return np.cos(x0)"
   ]
  },
  {
   "cell_type": "code",
   "execution_count": 210,
   "id": "21e99090",
   "metadata": {},
   "outputs": [],
   "source": [
    "cosModel=[np.array([operators[8],operators[15]]),[variableSelect(0)],[]]"
   ]
  },
  {
   "cell_type": "code",
   "execution_count": 211,
   "id": "aad5a66b",
   "metadata": {},
   "outputs": [
    {
     "data": {
      "text/plain": [
       "[array([<function cos at 0x000002813605CC20>,\n",
       "        <function log at 0x000002813605CFE0>], dtype=object),\n",
       " [<function StackGP.variableSelect.<locals>.<lambda>(variables)>],\n",
       " []]"
      ]
     },
     "execution_count": 211,
     "metadata": {},
     "output_type": "execute_result"
    }
   ],
   "source": [
    "cosModel"
   ]
  },
  {
   "cell_type": "code",
   "execution_count": 212,
   "id": "1ae4fa8c",
   "metadata": {},
   "outputs": [],
   "source": [
    "inputData=np.array([np.arange(-1,1,.0013)])\n",
    "response=inputData[0]"
   ]
  },
  {
   "cell_type": "code",
   "execution_count": 213,
   "id": "cdeff37d",
   "metadata": {},
   "outputs": [
    {
     "data": {
      "text/plain": [
       "3.7243594560315677e-05"
      ]
     },
     "execution_count": 213,
     "metadata": {},
     "output_type": "execute_result"
    }
   ],
   "source": [
    "totalSharpness(cosModel,inputData,response,numPerturbations=4000,percentPerturbation=0.2)"
   ]
  },
  {
   "cell_type": "code",
   "execution_count": 216,
   "id": "c2b4003b",
   "metadata": {},
   "outputs": [
    {
     "data": {
      "image/png": "[encoded data removed]",
      "text/plain": [
       "<Figure size 1000x500 with 1 Axes>"
      ]
     },
     "metadata": {},
     "output_type": "display_data"
    }
   ],
   "source": [
    "import numpy as np\n",
    "import matplotlib.pyplot as plt \n",
    "\n",
    " \n",
    "# creating the dataset\n",
    "data = {'cos':0.00046659,'cos x cos':0.000020363,'inv':0.00005388272,'log':0.0000372435,'tanh':0.0000351718,'arctan':0.00003315168,'sqrt':0.000031804,'sin':0.00003175876,'exp':0.0000192818,'sqrd':0.0000187636,'tan':0.0000164315}\n",
    "courses = list(data.keys())\n",
    "values = list(data.values())\n",
    " \n",
    "fig = plt.figure(figsize = (10, 5))\n",
    "\n",
    "# creating the bar plot\n",
    "plt.bar(courses, values, color ='maroon', \n",
    "        width = 0.4)\n",
    "\n",
    "plt.xlabel(\"Functions\")\n",
    "plt.ylabel(\"Cos\")\n",
    "plt.title(\"Cosine Function Combinations [-1,1]\")\n",
    "plt.yscale(\"log\")\n",
    "plt.show()\n"
   ]
  },
  {
   "cell_type": "markdown",
   "id": "3953303e",
   "metadata": {},
   "source": [
    "# Tan Function Combinations"
   ]
  },
  {
   "cell_type": "code",
   "execution_count": 217,
   "id": "c2ded3d2",
   "metadata": {},
   "outputs": [],
   "source": [
    "from StackGP import *\n",
    "import numpy as np"
   ]
  },
  {
   "cell_type": "code",
   "execution_count": 218,
   "id": "7bb4ff28",
   "metadata": {},
   "outputs": [],
   "source": [
    "operators=allOps()"
   ]
  },
  {
   "cell_type": "code",
   "execution_count": 219,
   "id": "5c272e86",
   "metadata": {},
   "outputs": [],
   "source": [
    "#Define tangent function to generate data\n",
    "def tanFunc(x0):\n",
    "    return np.tan(x0)"
   ]
  },
  {
   "cell_type": "code",
   "execution_count": 220,
   "id": "e439fa9b",
   "metadata": {},
   "outputs": [],
   "source": [
    "tanModel=[np.array([operators[10],operators[4]]),[variableSelect(0)],[]]"
   ]
  },
  {
   "cell_type": "code",
   "execution_count": 221,
   "id": "0e497a7a",
   "metadata": {},
   "outputs": [
    {
     "data": {
      "text/plain": [
       "[array([<function tan at 0x000002813605CCC0>,\n",
       "        <function exp at 0x000002813605C860>], dtype=object),\n",
       " [<function StackGP.variableSelect.<locals>.<lambda>(variables)>],\n",
       " []]"
      ]
     },
     "execution_count": 221,
     "metadata": {},
     "output_type": "execute_result"
    }
   ],
   "source": [
    "tanModel"
   ]
  },
  {
   "cell_type": "code",
   "execution_count": 222,
   "id": "4b37111e",
   "metadata": {},
   "outputs": [],
   "source": [
    "inputData=np.array([np.arange(-1,1,.0013)])\n",
    "response=inputData[0]"
   ]
  },
  {
   "cell_type": "code",
   "execution_count": 223,
   "id": "ba33c450",
   "metadata": {},
   "outputs": [
    {
     "data": {
      "text/plain": [
       "0.004683553129311079"
      ]
     },
     "execution_count": 223,
     "metadata": {},
     "output_type": "execute_result"
    }
   ],
   "source": [
    "totalSharpness(tanModel,inputData,response,numPerturbations=4000,percentPerturbation=0.2)"
   ]
  },
  {
   "cell_type": "code",
   "execution_count": null,
   "id": "8adf1189",
   "metadata": {},
   "outputs": [],
   "source": []
  },
  {
   "cell_type": "code",
   "execution_count": 224,
   "id": "15a8c810",
   "metadata": {},
   "outputs": [],
   "source": [
    "from StackGP import *\n",
    "import numpy as np"
   ]
  },
  {
   "cell_type": "code",
   "execution_count": 225,
   "id": "64321c5a",
   "metadata": {},
   "outputs": [],
   "source": [
    "operators=allOps()"
   ]
  },
  {
   "cell_type": "code",
   "execution_count": 226,
   "id": "c24b334f",
   "metadata": {},
   "outputs": [],
   "source": [
    "#Define tangent function to generate data\n",
    "def tanFunc(x0):\n",
    "    return np.tan(x0)"
   ]
  },
  {
   "cell_type": "code",
   "execution_count": 227,
   "id": "be7a404b",
   "metadata": {},
   "outputs": [],
   "source": [
    "tanModel=[np.array([operators[10],operators[5]]),[variableSelect(0)],[]]"
   ]
  },
  {
   "cell_type": "code",
   "execution_count": 228,
   "id": "f87a33ed",
   "metadata": {},
   "outputs": [
    {
     "data": {
      "text/plain": [
       "[array([<function tan at 0x000002813605CCC0>,\n",
       "        <function sqrd at 0x000002813605CA40>], dtype=object),\n",
       " [<function StackGP.variableSelect.<locals>.<lambda>(variables)>],\n",
       " []]"
      ]
     },
     "execution_count": 228,
     "metadata": {},
     "output_type": "execute_result"
    }
   ],
   "source": [
    "tanModel"
   ]
  },
  {
   "cell_type": "code",
   "execution_count": 229,
   "id": "9fdb451e",
   "metadata": {},
   "outputs": [],
   "source": [
    "inputData=np.array([np.arange(-1,1,.0013)])\n",
    "response=inputData[0]"
   ]
  },
  {
   "cell_type": "code",
   "execution_count": 230,
   "id": "b4feb1fa",
   "metadata": {},
   "outputs": [
    {
     "data": {
      "text/plain": [
       "7.8524600113342e-05"
      ]
     },
     "execution_count": 230,
     "metadata": {},
     "output_type": "execute_result"
    }
   ],
   "source": [
    "totalSharpness(tanModel,inputData,response,numPerturbations=4000,percentPerturbation=0.2)"
   ]
  },
  {
   "cell_type": "code",
   "execution_count": null,
   "id": "9ccc1dc0",
   "metadata": {},
   "outputs": [],
   "source": []
  },
  {
   "cell_type": "code",
   "execution_count": 231,
   "id": "8779e04e",
   "metadata": {},
   "outputs": [],
   "source": [
    "from StackGP import *\n",
    "import numpy as np"
   ]
  },
  {
   "cell_type": "code",
   "execution_count": 232,
   "id": "b2cb3b29",
   "metadata": {},
   "outputs": [],
   "source": [
    "operators=allOps()"
   ]
  },
  {
   "cell_type": "code",
   "execution_count": 233,
   "id": "6703cba9",
   "metadata": {},
   "outputs": [],
   "source": [
    "#Define tangent function to generate data\n",
    "def tanFunc(x0):\n",
    "    return np.tan(x0)"
   ]
  },
  {
   "cell_type": "code",
   "execution_count": 234,
   "id": "55f8cc0b",
   "metadata": {},
   "outputs": [],
   "source": [
    "tanModel=[np.array([operators[10],operators[6]]),[variableSelect(0)],[]]"
   ]
  },
  {
   "cell_type": "code",
   "execution_count": 235,
   "id": "06117564",
   "metadata": {},
   "outputs": [
    {
     "data": {
      "text/plain": [
       "[array([<function tan at 0x000002813605CCC0>,\n",
       "        <function sqrt at 0x000002813605C9A0>], dtype=object),\n",
       " [<function StackGP.variableSelect.<locals>.<lambda>(variables)>],\n",
       " []]"
      ]
     },
     "execution_count": 235,
     "metadata": {},
     "output_type": "execute_result"
    }
   ],
   "source": [
    "tanModel"
   ]
  },
  {
   "cell_type": "code",
   "execution_count": 236,
   "id": "170c8c9e",
   "metadata": {},
   "outputs": [],
   "source": [
    "inputData=np.array([np.arange(-1,1,.0013)])\n",
    "response=inputData[0]"
   ]
  },
  {
   "cell_type": "code",
   "execution_count": 237,
   "id": "f1929089",
   "metadata": {},
   "outputs": [
    {
     "data": {
      "text/plain": [
       "nan"
      ]
     },
     "execution_count": 237,
     "metadata": {},
     "output_type": "execute_result"
    }
   ],
   "source": [
    "totalSharpness(tanModel,inputData,response,numPerturbations=4000,percentPerturbation=0.2)"
   ]
  },
  {
   "cell_type": "code",
   "execution_count": null,
   "id": "25470b5c",
   "metadata": {},
   "outputs": [],
   "source": []
  },
  {
   "cell_type": "code",
   "execution_count": 238,
   "id": "a04a55a6",
   "metadata": {},
   "outputs": [],
   "source": [
    "from StackGP import *\n",
    "import numpy as np"
   ]
  },
  {
   "cell_type": "code",
   "execution_count": 239,
   "id": "3d6a125a",
   "metadata": {},
   "outputs": [],
   "source": [
    "operators=allOps()"
   ]
  },
  {
   "cell_type": "code",
   "execution_count": 240,
   "id": "94d13b37",
   "metadata": {},
   "outputs": [],
   "source": [
    "#Define tangent function to generate data\n",
    "def tanFunc(x0):\n",
    "    return np.tan(x0)"
   ]
  },
  {
   "cell_type": "code",
   "execution_count": 241,
   "id": "7ee0168d",
   "metadata": {},
   "outputs": [],
   "source": [
    "tanModel=[np.array([operators[10],operators[7]]),[variableSelect(0)],[]]"
   ]
  },
  {
   "cell_type": "code",
   "execution_count": 242,
   "id": "95ca4063",
   "metadata": {},
   "outputs": [
    {
     "data": {
      "text/plain": [
       "[array([<function tan at 0x000002813605CCC0>,\n",
       "        <function inv at 0x000002813605CAE0>], dtype=object),\n",
       " [<function StackGP.variableSelect.<locals>.<lambda>(variables)>],\n",
       " []]"
      ]
     },
     "execution_count": 242,
     "metadata": {},
     "output_type": "execute_result"
    }
   ],
   "source": [
    "tanModel"
   ]
  },
  {
   "cell_type": "code",
   "execution_count": 243,
   "id": "c0d90bb6",
   "metadata": {},
   "outputs": [],
   "source": [
    "inputData=np.array([np.arange(-1,1,.0013)])\n",
    "response=inputData[0]"
   ]
  },
  {
   "cell_type": "code",
   "execution_count": 244,
   "id": "8362375e",
   "metadata": {},
   "outputs": [
    {
     "data": {
      "text/plain": [
       "0.0012163433646972517"
      ]
     },
     "execution_count": 244,
     "metadata": {},
     "output_type": "execute_result"
    }
   ],
   "source": [
    "totalSharpness(tanModel,inputData,response,numPerturbations=4000,percentPerturbation=0.2)"
   ]
  },
  {
   "cell_type": "code",
   "execution_count": null,
   "id": "bb7be9a3",
   "metadata": {},
   "outputs": [],
   "source": []
  },
  {
   "cell_type": "code",
   "execution_count": 245,
   "id": "7ec4d49b",
   "metadata": {},
   "outputs": [],
   "source": [
    "from StackGP import *\n",
    "import numpy as np"
   ]
  },
  {
   "cell_type": "code",
   "execution_count": 246,
   "id": "c339dd9f",
   "metadata": {},
   "outputs": [],
   "source": [
    "operators=allOps()"
   ]
  },
  {
   "cell_type": "code",
   "execution_count": 247,
   "id": "586f7b80",
   "metadata": {},
   "outputs": [],
   "source": [
    "#Define tangent function to generate data\n",
    "def tanFunc(x0):\n",
    "    return np.tan(x0)"
   ]
  },
  {
   "cell_type": "code",
   "execution_count": 248,
   "id": "f8abb99e",
   "metadata": {},
   "outputs": [],
   "source": [
    "tanModel=[np.array([operators[10],operators[8]]),[variableSelect(0)],[]]"
   ]
  },
  {
   "cell_type": "code",
   "execution_count": 249,
   "id": "963030d1",
   "metadata": {},
   "outputs": [
    {
     "data": {
      "text/plain": [
       "[array([<function tan at 0x000002813605CCC0>,\n",
       "        <function cos at 0x000002813605CC20>], dtype=object),\n",
       " [<function StackGP.variableSelect.<locals>.<lambda>(variables)>],\n",
       " []]"
      ]
     },
     "execution_count": 249,
     "metadata": {},
     "output_type": "execute_result"
    }
   ],
   "source": [
    "tanModel"
   ]
  },
  {
   "cell_type": "code",
   "execution_count": 250,
   "id": "4a7d70c7",
   "metadata": {},
   "outputs": [],
   "source": [
    "inputData=np.array([np.arange(-1,1,.0013)])\n",
    "response=inputData[0]"
   ]
  },
  {
   "cell_type": "code",
   "execution_count": 251,
   "id": "97511431",
   "metadata": {},
   "outputs": [
    {
     "data": {
      "text/plain": [
       "5.716207509246527e-05"
      ]
     },
     "execution_count": 251,
     "metadata": {},
     "output_type": "execute_result"
    }
   ],
   "source": [
    "totalSharpness(tanModel,inputData,response,numPerturbations=4000,percentPerturbation=0.2)"
   ]
  },
  {
   "cell_type": "code",
   "execution_count": null,
   "id": "e1aac525",
   "metadata": {},
   "outputs": [],
   "source": []
  },
  {
   "cell_type": "code",
   "execution_count": 252,
   "id": "56c9e7f9",
   "metadata": {},
   "outputs": [],
   "source": [
    "from StackGP import *\n",
    "import numpy as np"
   ]
  },
  {
   "cell_type": "code",
   "execution_count": 253,
   "id": "34ac967a",
   "metadata": {},
   "outputs": [],
   "source": [
    "operators=allOps()"
   ]
  },
  {
   "cell_type": "code",
   "execution_count": 254,
   "id": "3a9450aa",
   "metadata": {},
   "outputs": [],
   "source": [
    "#Define tangent function to generate data\n",
    "def tanFunc(x0):\n",
    "    return np.tan(x0)"
   ]
  },
  {
   "cell_type": "code",
   "execution_count": 255,
   "id": "eb8fbd36",
   "metadata": {},
   "outputs": [],
   "source": [
    "tanModel=[np.array([operators[10],operators[9]]),[variableSelect(0)],[]]"
   ]
  },
  {
   "cell_type": "code",
   "execution_count": 256,
   "id": "e846cf7e",
   "metadata": {},
   "outputs": [
    {
     "data": {
      "text/plain": [
       "[array([<function tan at 0x000002813605CCC0>,\n",
       "        <function sin at 0x000002813605CB80>], dtype=object),\n",
       " [<function StackGP.variableSelect.<locals>.<lambda>(variables)>],\n",
       " []]"
      ]
     },
     "execution_count": 256,
     "metadata": {},
     "output_type": "execute_result"
    }
   ],
   "source": [
    "tanModel"
   ]
  },
  {
   "cell_type": "code",
   "execution_count": 257,
   "id": "f778fe78",
   "metadata": {},
   "outputs": [],
   "source": [
    "inputData=np.array([np.arange(-1,1,.0013)])\n",
    "response=inputData[0]"
   ]
  },
  {
   "cell_type": "code",
   "execution_count": 258,
   "id": "a7bd87c4",
   "metadata": {},
   "outputs": [
    {
     "data": {
      "text/plain": [
       "8.354149106010846e-05"
      ]
     },
     "execution_count": 258,
     "metadata": {},
     "output_type": "execute_result"
    }
   ],
   "source": [
    "totalSharpness(tanModel,inputData,response,numPerturbations=4000,percentPerturbation=0.2)"
   ]
  },
  {
   "cell_type": "code",
   "execution_count": null,
   "id": "ceda9d6c",
   "metadata": {},
   "outputs": [],
   "source": []
  },
  {
   "cell_type": "code",
   "execution_count": 259,
   "id": "5ea4c5c7",
   "metadata": {},
   "outputs": [],
   "source": [
    "from StackGP import *\n",
    "import numpy as np"
   ]
  },
  {
   "cell_type": "code",
   "execution_count": 260,
   "id": "8397b284",
   "metadata": {},
   "outputs": [],
   "source": [
    "operators=allOps()"
   ]
  },
  {
   "cell_type": "code",
   "execution_count": 261,
   "id": "f2224c57",
   "metadata": {},
   "outputs": [],
   "source": [
    "#Define tangent function to generate data\n",
    "def tanFunc(x0):\n",
    "    return np.tan(x0)"
   ]
  },
  {
   "cell_type": "code",
   "execution_count": 262,
   "id": "488b674e",
   "metadata": {},
   "outputs": [],
   "source": [
    "tanModel=[np.array([operators[10],operators[13]]),[variableSelect(0)],[]]"
   ]
  },
  {
   "cell_type": "code",
   "execution_count": 263,
   "id": "9e7e6252",
   "metadata": {},
   "outputs": [
    {
     "data": {
      "text/plain": [
       "[array([<function tan at 0x000002813605CCC0>,\n",
       "        <function arctan at 0x000002813605CEA0>], dtype=object),\n",
       " [<function StackGP.variableSelect.<locals>.<lambda>(variables)>],\n",
       " []]"
      ]
     },
     "execution_count": 263,
     "metadata": {},
     "output_type": "execute_result"
    }
   ],
   "source": [
    "tanModel"
   ]
  },
  {
   "cell_type": "code",
   "execution_count": 264,
   "id": "a6f491e3",
   "metadata": {},
   "outputs": [],
   "source": [
    "inputData=np.array([np.arange(-1,1,.0013)])\n",
    "response=inputData[0]"
   ]
  },
  {
   "cell_type": "code",
   "execution_count": 265,
   "id": "075ed141",
   "metadata": {},
   "outputs": [
    {
     "data": {
      "text/plain": [
       "7.503904796484715e-05"
      ]
     },
     "execution_count": 265,
     "metadata": {},
     "output_type": "execute_result"
    }
   ],
   "source": [
    "totalSharpness(tanModel,inputData,response,numPerturbations=4000,percentPerturbation=0.2)"
   ]
  },
  {
   "cell_type": "code",
   "execution_count": null,
   "id": "a744a813",
   "metadata": {},
   "outputs": [],
   "source": []
  },
  {
   "cell_type": "code",
   "execution_count": 266,
   "id": "3848a1b2",
   "metadata": {},
   "outputs": [],
   "source": [
    "from StackGP import *\n",
    "import numpy as np"
   ]
  },
  {
   "cell_type": "code",
   "execution_count": 267,
   "id": "6338c76d",
   "metadata": {},
   "outputs": [],
   "source": [
    "operators=allOps()"
   ]
  },
  {
   "cell_type": "code",
   "execution_count": 268,
   "id": "04f2b13a",
   "metadata": {},
   "outputs": [],
   "source": [
    "#Define tangent function to generate data\n",
    "def tanFunc(x0):\n",
    "    return np.tan(x0)"
   ]
  },
  {
   "cell_type": "code",
   "execution_count": 269,
   "id": "0ee7f328",
   "metadata": {},
   "outputs": [],
   "source": [
    "tanModel=[np.array([operators[10],operators[14]]),[variableSelect(0)],[]]"
   ]
  },
  {
   "cell_type": "code",
   "execution_count": 270,
   "id": "1e824cf7",
   "metadata": {},
   "outputs": [
    {
     "data": {
      "text/plain": [
       "[array([<function tan at 0x000002813605CCC0>,\n",
       "        <function tanh at 0x000002813605CF40>], dtype=object),\n",
       " [<function StackGP.variableSelect.<locals>.<lambda>(variables)>],\n",
       " []]"
      ]
     },
     "execution_count": 270,
     "metadata": {},
     "output_type": "execute_result"
    }
   ],
   "source": [
    "tanModel"
   ]
  },
  {
   "cell_type": "code",
   "execution_count": 271,
   "id": "31264446",
   "metadata": {},
   "outputs": [],
   "source": [
    "inputData=np.array([np.arange(-1,1,.0013)])\n",
    "response=inputData[0]"
   ]
  },
  {
   "cell_type": "code",
   "execution_count": 272,
   "id": "419f73e7",
   "metadata": {},
   "outputs": [
    {
     "data": {
      "text/plain": [
       "9.481709344927338e-05"
      ]
     },
     "execution_count": 272,
     "metadata": {},
     "output_type": "execute_result"
    }
   ],
   "source": [
    "totalSharpness(tanModel,inputData,response,numPerturbations=4000,percentPerturbation=0.2)"
   ]
  },
  {
   "cell_type": "code",
   "execution_count": null,
   "id": "85935baf",
   "metadata": {},
   "outputs": [],
   "source": []
  },
  {
   "cell_type": "code",
   "execution_count": 273,
   "id": "f8aba3fe",
   "metadata": {},
   "outputs": [],
   "source": [
    "from StackGP import *\n",
    "import numpy as np"
   ]
  },
  {
   "cell_type": "code",
   "execution_count": 274,
   "id": "0c9ec1cd",
   "metadata": {},
   "outputs": [],
   "source": [
    "operators=allOps()"
   ]
  },
  {
   "cell_type": "code",
   "execution_count": 275,
   "id": "a99d1291",
   "metadata": {},
   "outputs": [],
   "source": [
    "#Define tangent function to generate data\n",
    "def tanFunc(x0):\n",
    "    return np.tan(x0)"
   ]
  },
  {
   "cell_type": "code",
   "execution_count": 276,
   "id": "5051f570",
   "metadata": {},
   "outputs": [],
   "source": [
    "tanModel=[np.array([operators[10],operators[15]]),[variableSelect(0)],[]]"
   ]
  },
  {
   "cell_type": "code",
   "execution_count": 277,
   "id": "e33a7b74",
   "metadata": {},
   "outputs": [
    {
     "data": {
      "text/plain": [
       "[array([<function tan at 0x000002813605CCC0>,\n",
       "        <function log at 0x000002813605CFE0>], dtype=object),\n",
       " [<function StackGP.variableSelect.<locals>.<lambda>(variables)>],\n",
       " []]"
      ]
     },
     "execution_count": 277,
     "metadata": {},
     "output_type": "execute_result"
    }
   ],
   "source": [
    "tanModel"
   ]
  },
  {
   "cell_type": "code",
   "execution_count": 278,
   "id": "dc5ea079",
   "metadata": {},
   "outputs": [],
   "source": [
    "inputData=np.array([np.arange(-1,1,.0013)])\n",
    "response=inputData[0]"
   ]
  },
  {
   "cell_type": "code",
   "execution_count": 279,
   "id": "43ea7416",
   "metadata": {},
   "outputs": [
    {
     "data": {
      "text/plain": [
       "nan"
      ]
     },
     "execution_count": 279,
     "metadata": {},
     "output_type": "execute_result"
    }
   ],
   "source": [
    "totalSharpness(tanModel,inputData,response,numPerturbations=4000,percentPerturbation=0.2)"
   ]
  },
  {
   "cell_type": "code",
   "execution_count": 281,
   "id": "4ba65955",
   "metadata": {},
   "outputs": [
    {
     "data": {
      "image/png": "[encoded data removed]",
      "text/plain": [
       "<Figure size 1000x500 with 1 Axes>"
      ]
     },
     "metadata": {},
     "output_type": "display_data"
    }
   ],
   "source": [
    "import numpy as np\n",
    "import matplotlib.pyplot as plt \n",
    "\n",
    " \n",
    "# creating the dataset\n",
    "data = {'tan':0.00016548,'tan x tan':0.019145106,'sqrt':1,'log':1,'exp':0.00468355,'inv':0.00121634,'tanh':0.000094817,'sin':0.00008354149,'sqrd':0.0000785246,'arctan':0.000075039,'cos':0.00005716207}\n",
    "courses = list(data.keys())\n",
    "values = list(data.values())\n",
    " \n",
    "fig = plt.figure(figsize = (10, 5))\n",
    "\n",
    "# creating the bar plot\n",
    "plt.bar(courses, values, color ='maroon', \n",
    "        width = 0.4)\n",
    "\n",
    "plt.xlabel(\"Functions\")\n",
    "plt.ylabel(\"Tan\")\n",
    "plt.title(\"Tangent Function Combinations [-1,1]\")\n",
    "plt.yscale(\"log\")\n",
    "plt.show()\n"
   ]
  },
  {
   "cell_type": "markdown",
   "id": "2b1b8a49",
   "metadata": {},
   "source": [
    "# Arctan Function Combinations"
   ]
  },
  {
   "cell_type": "code",
   "execution_count": 282,
   "id": "1ee0d935",
   "metadata": {},
   "outputs": [],
   "source": [
    "from StackGP import *\n",
    "import numpy as np"
   ]
  },
  {
   "cell_type": "code",
   "execution_count": 283,
   "id": "96870a7f",
   "metadata": {},
   "outputs": [],
   "source": [
    "operators=allOps()"
   ]
  },
  {
   "cell_type": "code",
   "execution_count": 284,
   "id": "3a225f56",
   "metadata": {},
   "outputs": [],
   "source": [
    "#Define arctangent function to generate data\n",
    "def arctanFunc(x0):\n",
    "    return np.arctan(x0)"
   ]
  },
  {
   "cell_type": "code",
   "execution_count": 285,
   "id": "9b8cebb8",
   "metadata": {},
   "outputs": [],
   "source": [
    "arctanModel=[np.array([operators[13],operators[4]]),[variableSelect(0)],[]]"
   ]
  },
  {
   "cell_type": "code",
   "execution_count": 286,
   "id": "b76fb7e7",
   "metadata": {},
   "outputs": [
    {
     "data": {
      "text/plain": [
       "[array([<function arctan at 0x000002813605CEA0>,\n",
       "        <function exp at 0x000002813605C860>], dtype=object),\n",
       " [<function StackGP.variableSelect.<locals>.<lambda>(variables)>],\n",
       " []]"
      ]
     },
     "execution_count": 286,
     "metadata": {},
     "output_type": "execute_result"
    }
   ],
   "source": [
    "arctanModel"
   ]
  },
  {
   "cell_type": "code",
   "execution_count": 287,
   "id": "b441635c",
   "metadata": {},
   "outputs": [],
   "source": [
    "inputData=np.array([np.arange(-1,1,.0013)])\n",
    "response=inputData[0]"
   ]
  },
  {
   "cell_type": "code",
   "execution_count": 288,
   "id": "6bbe9581",
   "metadata": {},
   "outputs": [
    {
     "data": {
      "text/plain": [
       "0.0004431123707557422"
      ]
     },
     "execution_count": 288,
     "metadata": {},
     "output_type": "execute_result"
    }
   ],
   "source": [
    "totalSharpness(arctanModel,inputData,response,numPerturbations=4000,percentPerturbation=0.2)"
   ]
  },
  {
   "cell_type": "code",
   "execution_count": null,
   "id": "3b7207c4",
   "metadata": {},
   "outputs": [],
   "source": []
  },
  {
   "cell_type": "code",
   "execution_count": 289,
   "id": "11e8ef07",
   "metadata": {},
   "outputs": [],
   "source": [
    "from StackGP import *\n",
    "import numpy as np"
   ]
  },
  {
   "cell_type": "code",
   "execution_count": 290,
   "id": "422c89a2",
   "metadata": {},
   "outputs": [],
   "source": [
    "operators=allOps()"
   ]
  },
  {
   "cell_type": "code",
   "execution_count": 291,
   "id": "9a7d2a96",
   "metadata": {},
   "outputs": [],
   "source": [
    "#Define arctangent function to generate data\n",
    "def arctanFunc(x0):\n",
    "    return np.arctan(x0)"
   ]
  },
  {
   "cell_type": "code",
   "execution_count": 292,
   "id": "9af953f4",
   "metadata": {},
   "outputs": [],
   "source": [
    "arctanModel=[np.array([operators[13],operators[5]]),[variableSelect(0)],[]]"
   ]
  },
  {
   "cell_type": "code",
   "execution_count": 293,
   "id": "dfde68b4",
   "metadata": {},
   "outputs": [
    {
     "data": {
      "text/plain": [
       "[array([<function arctan at 0x000002813605CEA0>,\n",
       "        <function sqrd at 0x000002813605CA40>], dtype=object),\n",
       " [<function StackGP.variableSelect.<locals>.<lambda>(variables)>],\n",
       " []]"
      ]
     },
     "execution_count": 293,
     "metadata": {},
     "output_type": "execute_result"
    }
   ],
   "source": [
    "arctanModel"
   ]
  },
  {
   "cell_type": "code",
   "execution_count": 294,
   "id": "a7c8ec81",
   "metadata": {},
   "outputs": [],
   "source": [
    "inputData=np.array([np.arange(-1,1,.0013)])\n",
    "response=inputData[0]"
   ]
  },
  {
   "cell_type": "code",
   "execution_count": 295,
   "id": "76f643c3",
   "metadata": {},
   "outputs": [
    {
     "data": {
      "text/plain": [
       "1.7759743005044227e-05"
      ]
     },
     "execution_count": 295,
     "metadata": {},
     "output_type": "execute_result"
    }
   ],
   "source": [
    "totalSharpness(arctanModel,inputData,response,numPerturbations=4000,percentPerturbation=0.2)"
   ]
  },
  {
   "cell_type": "code",
   "execution_count": null,
   "id": "6f10de44",
   "metadata": {},
   "outputs": [],
   "source": []
  },
  {
   "cell_type": "code",
   "execution_count": 296,
   "id": "c39ed9f7",
   "metadata": {},
   "outputs": [],
   "source": [
    "from StackGP import *\n",
    "import numpy as np"
   ]
  },
  {
   "cell_type": "code",
   "execution_count": 297,
   "id": "1a47d27f",
   "metadata": {},
   "outputs": [],
   "source": [
    "operators=allOps()"
   ]
  },
  {
   "cell_type": "code",
   "execution_count": 298,
   "id": "f3bf40ce",
   "metadata": {},
   "outputs": [],
   "source": [
    "#Define arctangent function to generate data\n",
    "def arctanFunc(x0):\n",
    "    return np.arctan(x0)"
   ]
  },
  {
   "cell_type": "code",
   "execution_count": 299,
   "id": "3516bb49",
   "metadata": {},
   "outputs": [],
   "source": [
    "arctanModel=[np.array([operators[13],operators[6]]),[variableSelect(0)],[]]"
   ]
  },
  {
   "cell_type": "code",
   "execution_count": 300,
   "id": "6af74fea",
   "metadata": {},
   "outputs": [
    {
     "data": {
      "text/plain": [
       "[array([<function arctan at 0x000002813605CEA0>,\n",
       "        <function sqrt at 0x000002813605C9A0>], dtype=object),\n",
       " [<function StackGP.variableSelect.<locals>.<lambda>(variables)>],\n",
       " []]"
      ]
     },
     "execution_count": 300,
     "metadata": {},
     "output_type": "execute_result"
    }
   ],
   "source": [
    "arctanModel"
   ]
  },
  {
   "cell_type": "code",
   "execution_count": 301,
   "id": "ddd2b575",
   "metadata": {},
   "outputs": [],
   "source": [
    "inputData=np.array([np.arange(-1,1,.0013)])\n",
    "response=inputData[0]"
   ]
  },
  {
   "cell_type": "code",
   "execution_count": 302,
   "id": "043cef8a",
   "metadata": {},
   "outputs": [
    {
     "data": {
      "text/plain": [
       "nan"
      ]
     },
     "execution_count": 302,
     "metadata": {},
     "output_type": "execute_result"
    }
   ],
   "source": [
    "totalSharpness(arctanModel,inputData,response,numPerturbations=4000,percentPerturbation=0.2)"
   ]
  },
  {
   "cell_type": "code",
   "execution_count": null,
   "id": "21d057f9",
   "metadata": {},
   "outputs": [],
   "source": []
  },
  {
   "cell_type": "code",
   "execution_count": 303,
   "id": "ede442aa",
   "metadata": {},
   "outputs": [],
   "source": [
    "from StackGP import *\n",
    "import numpy as np"
   ]
  },
  {
   "cell_type": "code",
   "execution_count": 304,
   "id": "5220303e",
   "metadata": {},
   "outputs": [],
   "source": [
    "operators=allOps()"
   ]
  },
  {
   "cell_type": "code",
   "execution_count": 305,
   "id": "79d0c53b",
   "metadata": {},
   "outputs": [],
   "source": [
    "#Define arctangent function to generate data\n",
    "def arctanFunc(x0):\n",
    "    return np.arctan(x0)"
   ]
  },
  {
   "cell_type": "code",
   "execution_count": 306,
   "id": "ce36acee",
   "metadata": {},
   "outputs": [],
   "source": [
    "arctanModel=[np.array([operators[13],operators[7]]),[variableSelect(0)],[]]"
   ]
  },
  {
   "cell_type": "code",
   "execution_count": 307,
   "id": "6569c98d",
   "metadata": {},
   "outputs": [
    {
     "data": {
      "text/plain": [
       "[array([<function arctan at 0x000002813605CEA0>,\n",
       "        <function inv at 0x000002813605CAE0>], dtype=object),\n",
       " [<function StackGP.variableSelect.<locals>.<lambda>(variables)>],\n",
       " []]"
      ]
     },
     "execution_count": 307,
     "metadata": {},
     "output_type": "execute_result"
    }
   ],
   "source": [
    "arctanModel"
   ]
  },
  {
   "cell_type": "code",
   "execution_count": 308,
   "id": "bb2521e9",
   "metadata": {},
   "outputs": [],
   "source": [
    "inputData=np.array([np.arange(-1,1,.0013)])\n",
    "response=inputData[0]"
   ]
  },
  {
   "cell_type": "code",
   "execution_count": 309,
   "id": "cfa14b6f",
   "metadata": {},
   "outputs": [
    {
     "data": {
      "text/plain": [
       "0.0019235271204470416"
      ]
     },
     "execution_count": 309,
     "metadata": {},
     "output_type": "execute_result"
    }
   ],
   "source": [
    "totalSharpness(arctanModel,inputData,response,numPerturbations=4000,percentPerturbation=0.2)"
   ]
  },
  {
   "cell_type": "code",
   "execution_count": null,
   "id": "8567b9d0",
   "metadata": {},
   "outputs": [],
   "source": []
  },
  {
   "cell_type": "code",
   "execution_count": 310,
   "id": "cc5b7cbf",
   "metadata": {},
   "outputs": [],
   "source": [
    "from StackGP import *\n",
    "import numpy as np"
   ]
  },
  {
   "cell_type": "code",
   "execution_count": 311,
   "id": "3c615cfe",
   "metadata": {},
   "outputs": [],
   "source": [
    "operators=allOps()"
   ]
  },
  {
   "cell_type": "code",
   "execution_count": 312,
   "id": "012916ca",
   "metadata": {},
   "outputs": [],
   "source": [
    "#Define arctangent function to generate data\n",
    "def arctanFunc(x0):\n",
    "    return np.arctan(x0)"
   ]
  },
  {
   "cell_type": "code",
   "execution_count": 313,
   "id": "9c79ce93",
   "metadata": {},
   "outputs": [],
   "source": [
    "arctanModel=[np.array([operators[13],operators[8]]),[variableSelect(0)],[]]"
   ]
  },
  {
   "cell_type": "code",
   "execution_count": 314,
   "id": "4bc90edd",
   "metadata": {},
   "outputs": [
    {
     "data": {
      "text/plain": [
       "[array([<function arctan at 0x000002813605CEA0>,\n",
       "        <function cos at 0x000002813605CC20>], dtype=object),\n",
       " [<function StackGP.variableSelect.<locals>.<lambda>(variables)>],\n",
       " []]"
      ]
     },
     "execution_count": 314,
     "metadata": {},
     "output_type": "execute_result"
    }
   ],
   "source": [
    "arctanModel"
   ]
  },
  {
   "cell_type": "code",
   "execution_count": 315,
   "id": "10e3483a",
   "metadata": {},
   "outputs": [],
   "source": [
    "inputData=np.array([np.arange(-1,1,.0013)])\n",
    "response=inputData[0]"
   ]
  },
  {
   "cell_type": "code",
   "execution_count": 316,
   "id": "e41a3858",
   "metadata": {},
   "outputs": [
    {
     "data": {
      "text/plain": [
       "1.6565836474764286e-05"
      ]
     },
     "execution_count": 316,
     "metadata": {},
     "output_type": "execute_result"
    }
   ],
   "source": [
    "totalSharpness(arctanModel,inputData,response,numPerturbations=4000,percentPerturbation=0.2)"
   ]
  },
  {
   "cell_type": "code",
   "execution_count": null,
   "id": "3053df37",
   "metadata": {},
   "outputs": [],
   "source": []
  },
  {
   "cell_type": "code",
   "execution_count": 317,
   "id": "82d8abde",
   "metadata": {},
   "outputs": [],
   "source": [
    "from StackGP import *\n",
    "import numpy as np"
   ]
  },
  {
   "cell_type": "code",
   "execution_count": 318,
   "id": "d303695d",
   "metadata": {},
   "outputs": [],
   "source": [
    "operators=allOps()"
   ]
  },
  {
   "cell_type": "code",
   "execution_count": 319,
   "id": "86bcdcf2",
   "metadata": {},
   "outputs": [],
   "source": [
    "#Define arctangent function to generate data\n",
    "def arctanFunc(x0):\n",
    "    return np.arctan(x0)"
   ]
  },
  {
   "cell_type": "code",
   "execution_count": 320,
   "id": "e17feab8",
   "metadata": {},
   "outputs": [],
   "source": [
    "arctanModel=[np.array([operators[13],operators[9]]),[variableSelect(0)],[]]"
   ]
  },
  {
   "cell_type": "code",
   "execution_count": 321,
   "id": "6233de36",
   "metadata": {},
   "outputs": [
    {
     "data": {
      "text/plain": [
       "[array([<function arctan at 0x000002813605CEA0>,\n",
       "        <function sin at 0x000002813605CB80>], dtype=object),\n",
       " [<function StackGP.variableSelect.<locals>.<lambda>(variables)>],\n",
       " []]"
      ]
     },
     "execution_count": 321,
     "metadata": {},
     "output_type": "execute_result"
    }
   ],
   "source": [
    "arctanModel"
   ]
  },
  {
   "cell_type": "code",
   "execution_count": 322,
   "id": "f288d04a",
   "metadata": {},
   "outputs": [],
   "source": [
    "inputData=np.array([np.arange(-1,1,.0013)])\n",
    "response=inputData[0]"
   ]
  },
  {
   "cell_type": "code",
   "execution_count": 323,
   "id": "9cf122df",
   "metadata": {},
   "outputs": [
    {
     "data": {
      "text/plain": [
       "0.00021700039539587033"
      ]
     },
     "execution_count": 323,
     "metadata": {},
     "output_type": "execute_result"
    }
   ],
   "source": [
    "totalSharpness(arctanModel,inputData,response,numPerturbations=4000,percentPerturbation=0.2)"
   ]
  },
  {
   "cell_type": "code",
   "execution_count": null,
   "id": "6c22ffa9",
   "metadata": {},
   "outputs": [],
   "source": []
  },
  {
   "cell_type": "code",
   "execution_count": 324,
   "id": "acaa9563",
   "metadata": {},
   "outputs": [],
   "source": [
    "from StackGP import *\n",
    "import numpy as np"
   ]
  },
  {
   "cell_type": "code",
   "execution_count": 325,
   "id": "f069fa20",
   "metadata": {},
   "outputs": [],
   "source": [
    "operators=allOps()"
   ]
  },
  {
   "cell_type": "code",
   "execution_count": 326,
   "id": "89d142e1",
   "metadata": {},
   "outputs": [],
   "source": [
    "#Define arctangent function to generate data\n",
    "def arctanFunc(x0):\n",
    "    return np.arctan(x0)"
   ]
  },
  {
   "cell_type": "code",
   "execution_count": 327,
   "id": "0436fb06",
   "metadata": {},
   "outputs": [],
   "source": [
    "arctanModel=[np.array([operators[13],operators[10]]),[variableSelect(0)],[]]"
   ]
  },
  {
   "cell_type": "code",
   "execution_count": 328,
   "id": "e5b43721",
   "metadata": {},
   "outputs": [
    {
     "data": {
      "text/plain": [
       "[array([<function arctan at 0x000002813605CEA0>,\n",
       "        <function tan at 0x000002813605CCC0>], dtype=object),\n",
       " [<function StackGP.variableSelect.<locals>.<lambda>(variables)>],\n",
       " []]"
      ]
     },
     "execution_count": 328,
     "metadata": {},
     "output_type": "execute_result"
    }
   ],
   "source": [
    "arctanModel"
   ]
  },
  {
   "cell_type": "code",
   "execution_count": 329,
   "id": "45ab9fae",
   "metadata": {},
   "outputs": [],
   "source": [
    "inputData=np.array([np.arange(-1,1,.0013)])\n",
    "response=inputData[0]"
   ]
  },
  {
   "cell_type": "code",
   "execution_count": 330,
   "id": "17f043d8",
   "metadata": {},
   "outputs": [
    {
     "data": {
      "text/plain": [
       "7.612149245972839e-05"
      ]
     },
     "execution_count": 330,
     "metadata": {},
     "output_type": "execute_result"
    }
   ],
   "source": [
    "totalSharpness(arctanModel,inputData,response,numPerturbations=4000,percentPerturbation=0.2)"
   ]
  },
  {
   "cell_type": "code",
   "execution_count": null,
   "id": "4f9a3d22",
   "metadata": {},
   "outputs": [],
   "source": []
  },
  {
   "cell_type": "code",
   "execution_count": 331,
   "id": "261b4386",
   "metadata": {},
   "outputs": [],
   "source": [
    "from StackGP import *\n",
    "import numpy as np"
   ]
  },
  {
   "cell_type": "code",
   "execution_count": 332,
   "id": "93d26db4",
   "metadata": {},
   "outputs": [],
   "source": [
    "operators=allOps()"
   ]
  },
  {
   "cell_type": "code",
   "execution_count": 333,
   "id": "fc0f90b3",
   "metadata": {},
   "outputs": [],
   "source": [
    "#Define arctangent function to generate data\n",
    "def arctanFunc(x0):\n",
    "    return np.arctan(x0)"
   ]
  },
  {
   "cell_type": "code",
   "execution_count": 334,
   "id": "ce5f1634",
   "metadata": {},
   "outputs": [],
   "source": [
    "arctanModel=[np.array([operators[13],operators[14]]),[variableSelect(0)],[]]"
   ]
  },
  {
   "cell_type": "code",
   "execution_count": 335,
   "id": "c42400c8",
   "metadata": {},
   "outputs": [
    {
     "data": {
      "text/plain": [
       "[array([<function arctan at 0x000002813605CEA0>,\n",
       "        <function tanh at 0x000002813605CF40>], dtype=object),\n",
       " [<function StackGP.variableSelect.<locals>.<lambda>(variables)>],\n",
       " []]"
      ]
     },
     "execution_count": 335,
     "metadata": {},
     "output_type": "execute_result"
    }
   ],
   "source": [
    "arctanModel"
   ]
  },
  {
   "cell_type": "code",
   "execution_count": 336,
   "id": "e98fe0ec",
   "metadata": {},
   "outputs": [],
   "source": [
    "inputData=np.array([np.arange(-1,1,.0013)])\n",
    "response=inputData[0]"
   ]
  },
  {
   "cell_type": "code",
   "execution_count": 337,
   "id": "ae3dbbd6",
   "metadata": {},
   "outputs": [
    {
     "data": {
      "text/plain": [
       "0.00025606483022088246"
      ]
     },
     "execution_count": 337,
     "metadata": {},
     "output_type": "execute_result"
    }
   ],
   "source": [
    "totalSharpness(arctanModel,inputData,response,numPerturbations=4000,percentPerturbation=0.2)"
   ]
  },
  {
   "cell_type": "code",
   "execution_count": null,
   "id": "16e2dcf1",
   "metadata": {},
   "outputs": [],
   "source": []
  },
  {
   "cell_type": "code",
   "execution_count": 338,
   "id": "6f002519",
   "metadata": {},
   "outputs": [],
   "source": [
    "from StackGP import *\n",
    "import numpy as np"
   ]
  },
  {
   "cell_type": "code",
   "execution_count": 339,
   "id": "494a0a66",
   "metadata": {},
   "outputs": [],
   "source": [
    "operators=allOps()"
   ]
  },
  {
   "cell_type": "code",
   "execution_count": 340,
   "id": "e1b49cd8",
   "metadata": {},
   "outputs": [],
   "source": [
    "#Define arctangent function to generate data\n",
    "def arctanFunc(x0):\n",
    "    return np.arctan(x0)"
   ]
  },
  {
   "cell_type": "code",
   "execution_count": 341,
   "id": "3ef99fd4",
   "metadata": {},
   "outputs": [],
   "source": [
    "arctanModel=[np.array([operators[13],operators[15]]),[variableSelect(0)],[]]"
   ]
  },
  {
   "cell_type": "code",
   "execution_count": 342,
   "id": "d87e518a",
   "metadata": {},
   "outputs": [],
   "source": [
    "inputData=np.array([np.arange(-1,1,.0013)])\n",
    "response=inputData[0]"
   ]
  },
  {
   "cell_type": "code",
   "execution_count": 343,
   "id": "49f22652",
   "metadata": {},
   "outputs": [
    {
     "data": {
      "text/plain": [
       "nan"
      ]
     },
     "execution_count": 343,
     "metadata": {},
     "output_type": "execute_result"
    }
   ],
   "source": [
    "totalSharpness(arctanModel,inputData,response,numPerturbations=4000,percentPerturbation=0.2)"
   ]
  },
  {
   "cell_type": "code",
   "execution_count": 344,
   "id": "e6b5b5d2",
   "metadata": {},
   "outputs": [
    {
     "data": {
      "image/png": "[encoded data removed]",
      "text/plain": [
       "<Figure size 1000x500 with 1 Axes>"
      ]
     },
     "metadata": {},
     "output_type": "display_data"
    }
   ],
   "source": [
    "import numpy as np\n",
    "import matplotlib.pyplot as plt \n",
    "\n",
    " \n",
    "# creating the dataset\n",
    "data = {'at':0.0000699814,'arctanxarctan':0.000241777,'sqrt':1,'log':1,'inv':0.00192352,'exp':0.0004431123,'tanh':0.00025606,'sin':0.0002170003,'tan':0.00007612149,'sqrd':0.000017759,'cos':0.0000165658}\n",
    "courses = list(data.keys())\n",
    "values = list(data.values())\n",
    " \n",
    "fig = plt.figure(figsize = (10, 5))\n",
    "\n",
    "# creating the bar plot\n",
    "plt.bar(courses, values, color ='maroon', \n",
    "        width = 0.4)\n",
    "\n",
    "plt.xlabel(\"Functions\")\n",
    "plt.ylabel(\"Arctan\")\n",
    "plt.title(\"Arctan Function Combinations [-1,1]\")\n",
    "plt.yscale(\"log\")\n",
    "plt.show()\n"
   ]
  },
  {
   "cell_type": "markdown",
   "id": "8535a325",
   "metadata": {},
   "source": [
    "# Exp Function Combinations"
   ]
  },
  {
   "cell_type": "code",
   "execution_count": 345,
   "id": "7fef0efa",
   "metadata": {},
   "outputs": [],
   "source": [
    "from StackGP import *\n",
    "import numpy as np"
   ]
  },
  {
   "cell_type": "code",
   "execution_count": 346,
   "id": "6fba6894",
   "metadata": {},
   "outputs": [],
   "source": [
    "operators=allOps()"
   ]
  },
  {
   "cell_type": "code",
   "execution_count": 347,
   "id": "777928a4",
   "metadata": {},
   "outputs": [],
   "source": [
    "#Define exponent function to generate data\n",
    "def expFunc(x0):\n",
    "    return np.exp(x0)"
   ]
  },
  {
   "cell_type": "code",
   "execution_count": 348,
   "id": "1b65540c",
   "metadata": {},
   "outputs": [],
   "source": [
    "expModel=[np.array([operators[4],operators[5]]),[variableSelect(0)],[]]"
   ]
  },
  {
   "cell_type": "code",
   "execution_count": 349,
   "id": "958a616e",
   "metadata": {},
   "outputs": [
    {
     "data": {
      "text/plain": [
       "[array([<function exp at 0x000002813605C860>,\n",
       "        <function sqrd at 0x000002813605CA40>], dtype=object),\n",
       " [<function StackGP.variableSelect.<locals>.<lambda>(variables)>],\n",
       " []]"
      ]
     },
     "execution_count": 349,
     "metadata": {},
     "output_type": "execute_result"
    }
   ],
   "source": [
    "expModel"
   ]
  },
  {
   "cell_type": "code",
   "execution_count": 350,
   "id": "58890072",
   "metadata": {},
   "outputs": [],
   "source": [
    "inputData=np.array([np.arange(-1,1,.0013)])\n",
    "response=inputData[0]"
   ]
  },
  {
   "cell_type": "code",
   "execution_count": 351,
   "id": "e62b76e4",
   "metadata": {},
   "outputs": [
    {
     "data": {
      "text/plain": [
       "nan"
      ]
     },
     "execution_count": 351,
     "metadata": {},
     "output_type": "execute_result"
    }
   ],
   "source": [
    "totalSharpness(arctanModel,inputData,response,numPerturbations=4000,percentPerturbation=0.2)"
   ]
  },
  {
   "cell_type": "code",
   "execution_count": null,
   "id": "e35b8843",
   "metadata": {},
   "outputs": [],
   "source": []
  },
  {
   "cell_type": "code",
   "execution_count": 352,
   "id": "543ab697",
   "metadata": {},
   "outputs": [],
   "source": [
    "from StackGP import *\n",
    "import numpy as np"
   ]
  },
  {
   "cell_type": "code",
   "execution_count": 353,
   "id": "14d8e7fd",
   "metadata": {},
   "outputs": [],
   "source": [
    "operators=allOps()"
   ]
  },
  {
   "cell_type": "code",
   "execution_count": 354,
   "id": "69a04c41",
   "metadata": {},
   "outputs": [],
   "source": [
    "#Define exponent function to generate data\n",
    "def expFunc(x0):\n",
    "    return np.exp(x0)"
   ]
  },
  {
   "cell_type": "code",
   "execution_count": 355,
   "id": "26e0bacc",
   "metadata": {},
   "outputs": [],
   "source": [
    "expModel=[np.array([operators[4],operators[6]]),[variableSelect(0)],[]]"
   ]
  },
  {
   "cell_type": "code",
   "execution_count": 356,
   "id": "4647a99a",
   "metadata": {},
   "outputs": [
    {
     "data": {
      "text/plain": [
       "[array([<function exp at 0x000002813605C860>,\n",
       "        <function sqrt at 0x000002813605C9A0>], dtype=object),\n",
       " [<function StackGP.variableSelect.<locals>.<lambda>(variables)>],\n",
       " []]"
      ]
     },
     "execution_count": 356,
     "metadata": {},
     "output_type": "execute_result"
    }
   ],
   "source": [
    "expModel"
   ]
  },
  {
   "cell_type": "code",
   "execution_count": 357,
   "id": "a0f6ccce",
   "metadata": {},
   "outputs": [],
   "source": [
    "inputData=np.array([np.arange(-1,1,.0013)])\n",
    "response=inputData[0]"
   ]
  },
  {
   "cell_type": "code",
   "execution_count": 358,
   "id": "2d3d6c77",
   "metadata": {},
   "outputs": [
    {
     "data": {
      "text/plain": [
       "nan"
      ]
     },
     "execution_count": 358,
     "metadata": {},
     "output_type": "execute_result"
    }
   ],
   "source": [
    "totalSharpness(arctanModel,inputData,response,numPerturbations=4000,percentPerturbation=0.2)"
   ]
  },
  {
   "cell_type": "code",
   "execution_count": null,
   "id": "8c3afb90",
   "metadata": {},
   "outputs": [],
   "source": []
  },
  {
   "cell_type": "code",
   "execution_count": 359,
   "id": "a52a45f2",
   "metadata": {},
   "outputs": [],
   "source": [
    "from StackGP import *\n",
    "import numpy as np"
   ]
  },
  {
   "cell_type": "code",
   "execution_count": 360,
   "id": "9732d7b0",
   "metadata": {},
   "outputs": [],
   "source": [
    "operators=allOps()"
   ]
  },
  {
   "cell_type": "code",
   "execution_count": 361,
   "id": "cc428e7f",
   "metadata": {},
   "outputs": [],
   "source": [
    "#Define exponent function to generate data\n",
    "def expFunc(x0):\n",
    "    return np.exp(x0)"
   ]
  },
  {
   "cell_type": "code",
   "execution_count": 362,
   "id": "124a0d54",
   "metadata": {},
   "outputs": [],
   "source": [
    "expModel=[np.array([operators[4],operators[7]]),[variableSelect(0)],[]]"
   ]
  },
  {
   "cell_type": "code",
   "execution_count": 363,
   "id": "e9e03687",
   "metadata": {},
   "outputs": [
    {
     "data": {
      "text/plain": [
       "[array([<function exp at 0x000002813605C860>,\n",
       "        <function inv at 0x000002813605CAE0>], dtype=object),\n",
       " [<function StackGP.variableSelect.<locals>.<lambda>(variables)>],\n",
       " []]"
      ]
     },
     "execution_count": 363,
     "metadata": {},
     "output_type": "execute_result"
    }
   ],
   "source": [
    "expModel"
   ]
  },
  {
   "cell_type": "code",
   "execution_count": 364,
   "id": "584995b7",
   "metadata": {},
   "outputs": [],
   "source": [
    "inputData=np.array([np.arange(-1,1,.0013)])\n",
    "response=inputData[0]"
   ]
  },
  {
   "cell_type": "code",
   "execution_count": 365,
   "id": "28e204b3",
   "metadata": {},
   "outputs": [
    {
     "data": {
      "text/plain": [
       "nan"
      ]
     },
     "execution_count": 365,
     "metadata": {},
     "output_type": "execute_result"
    }
   ],
   "source": [
    "totalSharpness(arctanModel,inputData,response,numPerturbations=4000,percentPerturbation=0.2)"
   ]
  },
  {
   "cell_type": "code",
   "execution_count": null,
   "id": "9322972a",
   "metadata": {},
   "outputs": [],
   "source": []
  },
  {
   "cell_type": "code",
   "execution_count": 366,
   "id": "89f9d9ae",
   "metadata": {},
   "outputs": [],
   "source": [
    "from StackGP import *\n",
    "import numpy as np"
   ]
  },
  {
   "cell_type": "code",
   "execution_count": 367,
   "id": "ec48fdfd",
   "metadata": {},
   "outputs": [],
   "source": [
    "operators=allOps()"
   ]
  },
  {
   "cell_type": "code",
   "execution_count": 368,
   "id": "87c902ac",
   "metadata": {},
   "outputs": [],
   "source": [
    "#Define exponent function to generate data\n",
    "def expFunc(x0):\n",
    "    return np.exp(x0)"
   ]
  },
  {
   "cell_type": "code",
   "execution_count": 369,
   "id": "1d3069b5",
   "metadata": {},
   "outputs": [],
   "source": [
    "expModel=[np.array([operators[4],operators[8]]),[variableSelect(0)],[]]"
   ]
  },
  {
   "cell_type": "code",
   "execution_count": 370,
   "id": "18b6959b",
   "metadata": {},
   "outputs": [
    {
     "data": {
      "text/plain": [
       "[array([<function exp at 0x000002813605C860>,\n",
       "        <function cos at 0x000002813605CC20>], dtype=object),\n",
       " [<function StackGP.variableSelect.<locals>.<lambda>(variables)>],\n",
       " []]"
      ]
     },
     "execution_count": 370,
     "metadata": {},
     "output_type": "execute_result"
    }
   ],
   "source": [
    "expModel"
   ]
  },
  {
   "cell_type": "code",
   "execution_count": 371,
   "id": "b5623a36",
   "metadata": {},
   "outputs": [],
   "source": [
    "inputData=np.array([np.arange(-1,1,.0013)])\n",
    "response=inputData[0]"
   ]
  },
  {
   "cell_type": "code",
   "execution_count": 372,
   "id": "03ee99e6",
   "metadata": {},
   "outputs": [
    {
     "data": {
      "text/plain": [
       "nan"
      ]
     },
     "execution_count": 372,
     "metadata": {},
     "output_type": "execute_result"
    }
   ],
   "source": [
    "totalSharpness(arctanModel,inputData,response,numPerturbations=4000,percentPerturbation=0.2)"
   ]
  },
  {
   "cell_type": "code",
   "execution_count": null,
   "id": "95d6ea9b",
   "metadata": {},
   "outputs": [],
   "source": []
  },
  {
   "cell_type": "code",
   "execution_count": 373,
   "id": "a7c8c8c8",
   "metadata": {},
   "outputs": [],
   "source": [
    "from StackGP import *\n",
    "import numpy as np"
   ]
  },
  {
   "cell_type": "code",
   "execution_count": 374,
   "id": "8fbe8065",
   "metadata": {},
   "outputs": [],
   "source": [
    "operators=allOps()"
   ]
  },
  {
   "cell_type": "code",
   "execution_count": 375,
   "id": "b3a94e19",
   "metadata": {},
   "outputs": [],
   "source": [
    "#Define exponent function to generate data\n",
    "def expFunc(x0):\n",
    "    return np.exp(x0)"
   ]
  },
  {
   "cell_type": "code",
   "execution_count": 376,
   "id": "5406d2c0",
   "metadata": {},
   "outputs": [],
   "source": [
    "expModel=[np.array([operators[4],operators[9]]),[variableSelect(0)],[]]"
   ]
  },
  {
   "cell_type": "code",
   "execution_count": 377,
   "id": "da99b62d",
   "metadata": {},
   "outputs": [
    {
     "data": {
      "text/plain": [
       "[array([<function exp at 0x000002813605C860>,\n",
       "        <function sin at 0x000002813605CB80>], dtype=object),\n",
       " [<function StackGP.variableSelect.<locals>.<lambda>(variables)>],\n",
       " []]"
      ]
     },
     "execution_count": 377,
     "metadata": {},
     "output_type": "execute_result"
    }
   ],
   "source": [
    "expModel"
   ]
  },
  {
   "cell_type": "code",
   "execution_count": 378,
   "id": "895151f5",
   "metadata": {},
   "outputs": [],
   "source": [
    "inputData=np.array([np.arange(-1,1,.0013)])\n",
    "response=inputData[0]"
   ]
  },
  {
   "cell_type": "code",
   "execution_count": 379,
   "id": "3b13991b",
   "metadata": {},
   "outputs": [
    {
     "data": {
      "text/plain": [
       "nan"
      ]
     },
     "execution_count": 379,
     "metadata": {},
     "output_type": "execute_result"
    }
   ],
   "source": [
    "totalSharpness(arctanModel,inputData,response,numPerturbations=4000,percentPerturbation=0.2)"
   ]
  },
  {
   "cell_type": "code",
   "execution_count": null,
   "id": "c1786ad8",
   "metadata": {},
   "outputs": [],
   "source": []
  },
  {
   "cell_type": "code",
   "execution_count": 380,
   "id": "eed1518c",
   "metadata": {},
   "outputs": [],
   "source": [
    "from StackGP import *\n",
    "import numpy as np"
   ]
  },
  {
   "cell_type": "code",
   "execution_count": 381,
   "id": "9af40d09",
   "metadata": {},
   "outputs": [],
   "source": [
    "operators=allOps()"
   ]
  },
  {
   "cell_type": "code",
   "execution_count": 382,
   "id": "171a31a5",
   "metadata": {},
   "outputs": [],
   "source": [
    "#Define exponent function to generate data\n",
    "def expFunc(x0):\n",
    "    return np.exp(x0)"
   ]
  },
  {
   "cell_type": "code",
   "execution_count": 383,
   "id": "ca19c8eb",
   "metadata": {},
   "outputs": [],
   "source": [
    "expModel=[np.array([operators[4],operators[10]]),[variableSelect(0)],[]]"
   ]
  },
  {
   "cell_type": "code",
   "execution_count": 384,
   "id": "ebe8e1c9",
   "metadata": {},
   "outputs": [
    {
     "data": {
      "text/plain": [
       "[array([<function exp at 0x000002813605C860>,\n",
       "        <function tan at 0x000002813605CCC0>], dtype=object),\n",
       " [<function StackGP.variableSelect.<locals>.<lambda>(variables)>],\n",
       " []]"
      ]
     },
     "execution_count": 384,
     "metadata": {},
     "output_type": "execute_result"
    }
   ],
   "source": [
    "expModel"
   ]
  },
  {
   "cell_type": "code",
   "execution_count": 385,
   "id": "f06b9583",
   "metadata": {},
   "outputs": [],
   "source": [
    "inputData=np.array([np.arange(-1,1,.0013)])\n",
    "response=inputData[0]"
   ]
  },
  {
   "cell_type": "code",
   "execution_count": 386,
   "id": "bcfd17c6",
   "metadata": {},
   "outputs": [
    {
     "data": {
      "text/plain": [
       "nan"
      ]
     },
     "execution_count": 386,
     "metadata": {},
     "output_type": "execute_result"
    }
   ],
   "source": [
    "totalSharpness(arctanModel,inputData,response,numPerturbations=4000,percentPerturbation=0.2)"
   ]
  },
  {
   "cell_type": "code",
   "execution_count": null,
   "id": "32956daf",
   "metadata": {},
   "outputs": [],
   "source": []
  },
  {
   "cell_type": "code",
   "execution_count": 387,
   "id": "2bfae73a",
   "metadata": {},
   "outputs": [],
   "source": [
    "from StackGP import *\n",
    "import numpy as np"
   ]
  },
  {
   "cell_type": "code",
   "execution_count": 388,
   "id": "5afb94ec",
   "metadata": {},
   "outputs": [],
   "source": [
    "operators=allOps()"
   ]
  },
  {
   "cell_type": "code",
   "execution_count": 389,
   "id": "f9adf2fc",
   "metadata": {},
   "outputs": [],
   "source": [
    "#Define exponent function to generate data\n",
    "def expFunc(x0):\n",
    "    return np.exp(x0)"
   ]
  },
  {
   "cell_type": "code",
   "execution_count": 390,
   "id": "75d4d090",
   "metadata": {},
   "outputs": [],
   "source": [
    "expModel=[np.array([operators[4],operators[13]]),[variableSelect(0)],[]]"
   ]
  },
  {
   "cell_type": "code",
   "execution_count": 391,
   "id": "a860e901",
   "metadata": {},
   "outputs": [
    {
     "data": {
      "text/plain": [
       "[array([<function exp at 0x000002813605C860>,\n",
       "        <function arctan at 0x000002813605CEA0>], dtype=object),\n",
       " [<function StackGP.variableSelect.<locals>.<lambda>(variables)>],\n",
       " []]"
      ]
     },
     "execution_count": 391,
     "metadata": {},
     "output_type": "execute_result"
    }
   ],
   "source": [
    "expModel"
   ]
  },
  {
   "cell_type": "code",
   "execution_count": 392,
   "id": "d528b186",
   "metadata": {},
   "outputs": [],
   "source": [
    "inputData=np.array([np.arange(-1,1,.0013)])\n",
    "response=inputData[0]"
   ]
  },
  {
   "cell_type": "code",
   "execution_count": 393,
   "id": "cdb078a4",
   "metadata": {},
   "outputs": [
    {
     "data": {
      "text/plain": [
       "nan"
      ]
     },
     "execution_count": 393,
     "metadata": {},
     "output_type": "execute_result"
    }
   ],
   "source": [
    "totalSharpness(arctanModel,inputData,response,numPerturbations=4000,percentPerturbation=0.2)"
   ]
  },
  {
   "cell_type": "code",
   "execution_count": null,
   "id": "bf1139da",
   "metadata": {},
   "outputs": [],
   "source": []
  },
  {
   "cell_type": "code",
   "execution_count": 394,
   "id": "f18093e2",
   "metadata": {},
   "outputs": [],
   "source": [
    "from StackGP import *\n",
    "import numpy as np"
   ]
  },
  {
   "cell_type": "code",
   "execution_count": 395,
   "id": "75d6005f",
   "metadata": {},
   "outputs": [],
   "source": [
    "operators=allOps()"
   ]
  },
  {
   "cell_type": "code",
   "execution_count": 396,
   "id": "22a6ce01",
   "metadata": {},
   "outputs": [],
   "source": [
    "#Define exponent function to generate data\n",
    "def expFunc(x0):\n",
    "    return np.exp(x0)"
   ]
  },
  {
   "cell_type": "code",
   "execution_count": 397,
   "id": "fde59c64",
   "metadata": {},
   "outputs": [],
   "source": [
    "expModel=[np.array([operators[4],operators[14]]),[variableSelect(0)],[]]"
   ]
  },
  {
   "cell_type": "code",
   "execution_count": 398,
   "id": "5fc93a13",
   "metadata": {},
   "outputs": [
    {
     "data": {
      "text/plain": [
       "[array([<function exp at 0x000002813605C860>,\n",
       "        <function tanh at 0x000002813605CF40>], dtype=object),\n",
       " [<function StackGP.variableSelect.<locals>.<lambda>(variables)>],\n",
       " []]"
      ]
     },
     "execution_count": 398,
     "metadata": {},
     "output_type": "execute_result"
    }
   ],
   "source": [
    "expModel"
   ]
  },
  {
   "cell_type": "code",
   "execution_count": 399,
   "id": "863de183",
   "metadata": {},
   "outputs": [],
   "source": [
    "inputData=np.array([np.arange(-1,1,.0013)])\n",
    "response=inputData[0]"
   ]
  },
  {
   "cell_type": "code",
   "execution_count": 400,
   "id": "efa4c407",
   "metadata": {},
   "outputs": [
    {
     "data": {
      "text/plain": [
       "nan"
      ]
     },
     "execution_count": 400,
     "metadata": {},
     "output_type": "execute_result"
    }
   ],
   "source": [
    "totalSharpness(arctanModel,inputData,response,numPerturbations=4000,percentPerturbation=0.2)"
   ]
  },
  {
   "cell_type": "code",
   "execution_count": null,
   "id": "a517d70f",
   "metadata": {},
   "outputs": [],
   "source": []
  },
  {
   "cell_type": "code",
   "execution_count": 401,
   "id": "a885cc6b",
   "metadata": {},
   "outputs": [],
   "source": [
    "from StackGP import *\n",
    "import numpy as np"
   ]
  },
  {
   "cell_type": "code",
   "execution_count": 402,
   "id": "639ab8bc",
   "metadata": {},
   "outputs": [],
   "source": [
    "operators=allOps()"
   ]
  },
  {
   "cell_type": "code",
   "execution_count": 403,
   "id": "a0f73304",
   "metadata": {},
   "outputs": [],
   "source": [
    "#Define exponent function to generate data\n",
    "def expFunc(x0):\n",
    "    return np.exp(x0)"
   ]
  },
  {
   "cell_type": "code",
   "execution_count": 404,
   "id": "188770b9",
   "metadata": {},
   "outputs": [],
   "source": [
    "expModel=[np.array([operators[4],operators[15]]),[variableSelect(0)],[]]"
   ]
  },
  {
   "cell_type": "code",
   "execution_count": 405,
   "id": "c399b1a5",
   "metadata": {},
   "outputs": [
    {
     "data": {
      "text/plain": [
       "[array([<function exp at 0x000002813605C860>,\n",
       "        <function log at 0x000002813605CFE0>], dtype=object),\n",
       " [<function StackGP.variableSelect.<locals>.<lambda>(variables)>],\n",
       " []]"
      ]
     },
     "execution_count": 405,
     "metadata": {},
     "output_type": "execute_result"
    }
   ],
   "source": [
    "expModel"
   ]
  },
  {
   "cell_type": "code",
   "execution_count": 406,
   "id": "781296b2",
   "metadata": {},
   "outputs": [],
   "source": [
    "inputData=np.array([np.arange(-1,1,.0013)])\n",
    "response=inputData[0]"
   ]
  },
  {
   "cell_type": "code",
   "execution_count": 407,
   "id": "5a58817d",
   "metadata": {},
   "outputs": [
    {
     "data": {
      "text/plain": [
       "nan"
      ]
     },
     "execution_count": 407,
     "metadata": {},
     "output_type": "execute_result"
    }
   ],
   "source": [
    "totalSharpness(arctanModel,inputData,response,numPerturbations=4000,percentPerturbation=0.2)"
   ]
  },
  {
   "cell_type": "code",
   "execution_count": 408,
   "id": "e3719bf6",
   "metadata": {},
   "outputs": [
    {
     "data": {
      "image/png": "[encoded data removed]",
      "text/plain": [
       "<Figure size 1000x500 with 1 Axes>"
      ]
     },
     "metadata": {},
     "output_type": "display_data"
    }
   ],
   "source": [
    "import numpy as np\n",
    "import matplotlib.pyplot as plt \n",
    "\n",
    " \n",
    "# creating the dataset\n",
    "data = {'exp':0.002119226,'exp x exp':0.003388116, 'sqrd':1,'sqrt':1,'inv':1,'cos':1,'sin':1,'tan':1,'arctan':1,'tanh':1,'log':1}\n",
    "courses = list(data.keys())\n",
    "values = list(data.values())\n",
    " \n",
    "fig = plt.figure(figsize = (10, 5))\n",
    "\n",
    "# creating the bar plot\n",
    "plt.bar(courses, values, color ='maroon', \n",
    "        width = 0.4)\n",
    "\n",
    "plt.xlabel(\"Functions\")\n",
    "plt.ylabel(\"Exp\")\n",
    "plt.title(\"Exponent Function Combinations [-1,1]\")\n",
    "plt.yscale(\"log\")\n",
    "plt.show()\n"
   ]
  },
  {
   "cell_type": "markdown",
   "id": "04f4a6eb",
   "metadata": {},
   "source": [
    "# Squared Function Combinations"
   ]
  },
  {
   "cell_type": "code",
   "execution_count": 409,
   "id": "1ca99f11",
   "metadata": {},
   "outputs": [],
   "source": [
    "from StackGP import *\n",
    "import numpy as np"
   ]
  },
  {
   "cell_type": "code",
   "execution_count": 410,
   "id": "6ab1b0a7",
   "metadata": {},
   "outputs": [],
   "source": [
    "operators=allOps()"
   ]
  },
  {
   "cell_type": "code",
   "execution_count": 411,
   "id": "bb2d8b85",
   "metadata": {},
   "outputs": [],
   "source": [
    "#Define squared function to generate data\n",
    "def sqrdFunc(x0):\n",
    "    return np.sqrd(x0)"
   ]
  },
  {
   "cell_type": "code",
   "execution_count": 412,
   "id": "e92a06bf",
   "metadata": {},
   "outputs": [],
   "source": [
    "sqrdModel=[np.array([operators[5],operators[4]]),[variableSelect(0)],[]]"
   ]
  },
  {
   "cell_type": "code",
   "execution_count": 413,
   "id": "0e1e9655",
   "metadata": {},
   "outputs": [
    {
     "data": {
      "text/plain": [
       "[array([<function sqrd at 0x000002813605CA40>,\n",
       "        <function exp at 0x000002813605C860>], dtype=object),\n",
       " [<function StackGP.variableSelect.<locals>.<lambda>(variables)>],\n",
       " []]"
      ]
     },
     "execution_count": 413,
     "metadata": {},
     "output_type": "execute_result"
    }
   ],
   "source": [
    "sqrdModel"
   ]
  },
  {
   "cell_type": "code",
   "execution_count": 414,
   "id": "34760cdf",
   "metadata": {},
   "outputs": [],
   "source": [
    "inputData=np.array([np.arange(-1,1,.0013)])\n",
    "response=inputData[0]"
   ]
  },
  {
   "cell_type": "code",
   "execution_count": 415,
   "id": "f55d6d7c",
   "metadata": {},
   "outputs": [
    {
     "data": {
      "text/plain": [
       "4.6892228663536386e-05"
      ]
     },
     "execution_count": 415,
     "metadata": {},
     "output_type": "execute_result"
    }
   ],
   "source": [
    "totalSharpness(sqrdModel,inputData,response,numPerturbations=4000,percentPerturbation=0.2)"
   ]
  },
  {
   "cell_type": "code",
   "execution_count": null,
   "id": "3d3abbf7",
   "metadata": {},
   "outputs": [],
   "source": []
  },
  {
   "cell_type": "code",
   "execution_count": 416,
   "id": "322af2c7",
   "metadata": {},
   "outputs": [],
   "source": [
    "from StackGP import *\n",
    "import numpy as np"
   ]
  },
  {
   "cell_type": "code",
   "execution_count": 417,
   "id": "9d1588bb",
   "metadata": {},
   "outputs": [],
   "source": [
    "operators=allOps()"
   ]
  },
  {
   "cell_type": "code",
   "execution_count": 418,
   "id": "e2b251ae",
   "metadata": {},
   "outputs": [],
   "source": [
    "#Define squared function to generate data\n",
    "def sqrdFunc(x0):\n",
    "    return np.sqrd(x0)"
   ]
  },
  {
   "cell_type": "code",
   "execution_count": 419,
   "id": "b8207aea",
   "metadata": {},
   "outputs": [],
   "source": [
    "sqrdModel=[np.array([operators[5],operators[6]]),[variableSelect(0)],[]]"
   ]
  },
  {
   "cell_type": "code",
   "execution_count": 420,
   "id": "495bfea4",
   "metadata": {},
   "outputs": [
    {
     "data": {
      "text/plain": [
       "[array([<function sqrd at 0x000002813605CA40>,\n",
       "        <function sqrt at 0x000002813605C9A0>], dtype=object),\n",
       " [<function StackGP.variableSelect.<locals>.<lambda>(variables)>],\n",
       " []]"
      ]
     },
     "execution_count": 420,
     "metadata": {},
     "output_type": "execute_result"
    }
   ],
   "source": [
    "sqrdModel"
   ]
  },
  {
   "cell_type": "code",
   "execution_count": 421,
   "id": "817bda29",
   "metadata": {},
   "outputs": [],
   "source": [
    "inputData=np.array([np.arange(1,1000,.1)])\n",
    "response=inputData[0]"
   ]
  },
  {
   "cell_type": "code",
   "execution_count": 422,
   "id": "0d636d91",
   "metadata": {},
   "outputs": [
    {
     "data": {
      "text/plain": [
       "2.970686093143311e-05"
      ]
     },
     "execution_count": 422,
     "metadata": {},
     "output_type": "execute_result"
    }
   ],
   "source": [
    "totalSharpness(sqrdModel,inputData,response,numPerturbations=4000,percentPerturbation=0.2)"
   ]
  },
  {
   "cell_type": "code",
   "execution_count": null,
   "id": "d8d3ab11",
   "metadata": {},
   "outputs": [],
   "source": []
  },
  {
   "cell_type": "code",
   "execution_count": 423,
   "id": "57260788",
   "metadata": {},
   "outputs": [],
   "source": [
    "from StackGP import *\n",
    "import numpy as np"
   ]
  },
  {
   "cell_type": "code",
   "execution_count": 424,
   "id": "c7f4dd6b",
   "metadata": {},
   "outputs": [],
   "source": [
    "operators=allOps()"
   ]
  },
  {
   "cell_type": "code",
   "execution_count": 425,
   "id": "6b7ad585",
   "metadata": {},
   "outputs": [],
   "source": [
    "#Define squared function to generate data\n",
    "def sqrdFunc(x0):\n",
    "    return np.sqrd(x0)"
   ]
  },
  {
   "cell_type": "code",
   "execution_count": 426,
   "id": "df1ba60e",
   "metadata": {},
   "outputs": [],
   "source": [
    "sqrdModel=[np.array([operators[5],operators[7]]),[variableSelect(0)],[]]"
   ]
  },
  {
   "cell_type": "code",
   "execution_count": 427,
   "id": "f65df2a6",
   "metadata": {},
   "outputs": [
    {
     "data": {
      "text/plain": [
       "[array([<function sqrd at 0x000002813605CA40>,\n",
       "        <function inv at 0x000002813605CAE0>], dtype=object),\n",
       " [<function StackGP.variableSelect.<locals>.<lambda>(variables)>],\n",
       " []]"
      ]
     },
     "execution_count": 427,
     "metadata": {},
     "output_type": "execute_result"
    }
   ],
   "source": [
    "sqrdModel"
   ]
  },
  {
   "cell_type": "code",
   "execution_count": 428,
   "id": "821deafe",
   "metadata": {},
   "outputs": [],
   "source": [
    "inputData=np.array([np.arange(-1,1,.0013)])\n",
    "response=inputData[0]"
   ]
  },
  {
   "cell_type": "code",
   "execution_count": 429,
   "id": "11f36c82",
   "metadata": {},
   "outputs": [
    {
     "data": {
      "text/plain": [
       "2.133204258356721e-06"
      ]
     },
     "execution_count": 429,
     "metadata": {},
     "output_type": "execute_result"
    }
   ],
   "source": [
    "totalSharpness(sqrdModel,inputData,response,numPerturbations=4000,percentPerturbation=0.2)"
   ]
  },
  {
   "cell_type": "code",
   "execution_count": null,
   "id": "46108be2",
   "metadata": {},
   "outputs": [],
   "source": []
  },
  {
   "cell_type": "code",
   "execution_count": 430,
   "id": "4c265299",
   "metadata": {},
   "outputs": [],
   "source": [
    "from StackGP import *\n",
    "import numpy as np"
   ]
  },
  {
   "cell_type": "code",
   "execution_count": 431,
   "id": "841fe4d0",
   "metadata": {},
   "outputs": [],
   "source": [
    "operators=allOps()"
   ]
  },
  {
   "cell_type": "code",
   "execution_count": 432,
   "id": "29ecfa82",
   "metadata": {},
   "outputs": [],
   "source": [
    "#Define squared function to generate data\n",
    "def sqrdFunc(x0):\n",
    "    return np.sqrd(x0)"
   ]
  },
  {
   "cell_type": "code",
   "execution_count": 433,
   "id": "95a9a06f",
   "metadata": {},
   "outputs": [],
   "source": [
    "sqrdModel=[np.array([operators[5],operators[8]]),[variableSelect(0)],[]]"
   ]
  },
  {
   "cell_type": "code",
   "execution_count": 434,
   "id": "1479f054",
   "metadata": {},
   "outputs": [
    {
     "data": {
      "text/plain": [
       "[array([<function sqrd at 0x000002813605CA40>,\n",
       "        <function cos at 0x000002813605CC20>], dtype=object),\n",
       " [<function StackGP.variableSelect.<locals>.<lambda>(variables)>],\n",
       " []]"
      ]
     },
     "execution_count": 434,
     "metadata": {},
     "output_type": "execute_result"
    }
   ],
   "source": [
    "sqrdModel"
   ]
  },
  {
   "cell_type": "code",
   "execution_count": 435,
   "id": "057aaafd",
   "metadata": {},
   "outputs": [],
   "source": [
    "inputData=np.array([np.arange(-1,1,.0013)])\n",
    "response=inputData[0]"
   ]
  },
  {
   "cell_type": "code",
   "execution_count": 436,
   "id": "9702b6c0",
   "metadata": {},
   "outputs": [
    {
     "data": {
      "text/plain": [
       "6.861044020388382e-05"
      ]
     },
     "execution_count": 436,
     "metadata": {},
     "output_type": "execute_result"
    }
   ],
   "source": [
    "totalSharpness(sqrdModel,inputData,response,numPerturbations=4000,percentPerturbation=0.2)"
   ]
  },
  {
   "cell_type": "code",
   "execution_count": null,
   "id": "c7768e40",
   "metadata": {},
   "outputs": [],
   "source": []
  },
  {
   "cell_type": "code",
   "execution_count": 437,
   "id": "b8ff1990",
   "metadata": {},
   "outputs": [],
   "source": [
    "from StackGP import *\n",
    "import numpy as np"
   ]
  },
  {
   "cell_type": "code",
   "execution_count": 438,
   "id": "ba20252d",
   "metadata": {},
   "outputs": [],
   "source": [
    "operators=allOps()"
   ]
  },
  {
   "cell_type": "code",
   "execution_count": 439,
   "id": "800dbd75",
   "metadata": {},
   "outputs": [],
   "source": [
    "#Define squared function to generate data\n",
    "def sqrdFunc(x0):\n",
    "    return np.sqrd(x0)"
   ]
  },
  {
   "cell_type": "code",
   "execution_count": 440,
   "id": "c41ce060",
   "metadata": {},
   "outputs": [],
   "source": [
    "sqrdModel=[np.array([operators[5],operators[9]]),[variableSelect(0)],[]]"
   ]
  },
  {
   "cell_type": "code",
   "execution_count": 441,
   "id": "740c31af",
   "metadata": {},
   "outputs": [
    {
     "data": {
      "text/plain": [
       "[array([<function sqrd at 0x000002813605CA40>,\n",
       "        <function sin at 0x000002813605CB80>], dtype=object),\n",
       " [<function StackGP.variableSelect.<locals>.<lambda>(variables)>],\n",
       " []]"
      ]
     },
     "execution_count": 441,
     "metadata": {},
     "output_type": "execute_result"
    }
   ],
   "source": [
    "sqrdModel"
   ]
  },
  {
   "cell_type": "code",
   "execution_count": 442,
   "id": "471d9cc1",
   "metadata": {},
   "outputs": [],
   "source": [
    "inputData=np.array([np.arange(-1,1,.0013)])\n",
    "response=inputData[0]"
   ]
  },
  {
   "cell_type": "code",
   "execution_count": 443,
   "id": "0d82547b",
   "metadata": {},
   "outputs": [
    {
     "data": {
      "text/plain": [
       "2.2975303419925977e-05"
      ]
     },
     "execution_count": 443,
     "metadata": {},
     "output_type": "execute_result"
    }
   ],
   "source": [
    "totalSharpness(sqrdModel,inputData,response,numPerturbations=4000,percentPerturbation=0.2)"
   ]
  },
  {
   "cell_type": "code",
   "execution_count": null,
   "id": "f696e245",
   "metadata": {},
   "outputs": [],
   "source": []
  },
  {
   "cell_type": "code",
   "execution_count": 444,
   "id": "a6e36e93",
   "metadata": {},
   "outputs": [],
   "source": [
    "from StackGP import *\n",
    "import numpy as np"
   ]
  },
  {
   "cell_type": "code",
   "execution_count": 445,
   "id": "4ee4cc6d",
   "metadata": {},
   "outputs": [],
   "source": [
    "operators=allOps()"
   ]
  },
  {
   "cell_type": "code",
   "execution_count": 446,
   "id": "7006f925",
   "metadata": {},
   "outputs": [],
   "source": [
    "#Define squared function to generate data\n",
    "def sqrdFunc(x0):\n",
    "    return np.sqrd(x0)"
   ]
  },
  {
   "cell_type": "code",
   "execution_count": 447,
   "id": "eb18b322",
   "metadata": {},
   "outputs": [],
   "source": [
    "sqrdModel=[np.array([operators[5],operators[10]]),[variableSelect(0)],[]]"
   ]
  },
  {
   "cell_type": "code",
   "execution_count": 448,
   "id": "b2689862",
   "metadata": {},
   "outputs": [
    {
     "data": {
      "text/plain": [
       "[array([<function sqrd at 0x000002813605CA40>,\n",
       "        <function tan at 0x000002813605CCC0>], dtype=object),\n",
       " [<function StackGP.variableSelect.<locals>.<lambda>(variables)>],\n",
       " []]"
      ]
     },
     "execution_count": 448,
     "metadata": {},
     "output_type": "execute_result"
    }
   ],
   "source": [
    "sqrdModel"
   ]
  },
  {
   "cell_type": "code",
   "execution_count": 449,
   "id": "0e5b5681",
   "metadata": {},
   "outputs": [],
   "source": [
    "inputData=np.array([np.arange(-1,1,.0013)])\n",
    "response=inputData[0]"
   ]
  },
  {
   "cell_type": "code",
   "execution_count": 450,
   "id": "1f0f6425",
   "metadata": {},
   "outputs": [
    {
     "data": {
      "text/plain": [
       "6.859861122920364e-05"
      ]
     },
     "execution_count": 450,
     "metadata": {},
     "output_type": "execute_result"
    }
   ],
   "source": [
    "totalSharpness(sqrdModel,inputData,response,numPerturbations=4000,percentPerturbation=0.2)"
   ]
  },
  {
   "cell_type": "code",
   "execution_count": null,
   "id": "b8a21fcc",
   "metadata": {},
   "outputs": [],
   "source": []
  },
  {
   "cell_type": "code",
   "execution_count": 451,
   "id": "d4018b72",
   "metadata": {},
   "outputs": [],
   "source": [
    "from StackGP import *\n",
    "import numpy as np"
   ]
  },
  {
   "cell_type": "code",
   "execution_count": 452,
   "id": "28b5d818",
   "metadata": {},
   "outputs": [],
   "source": [
    "operators=allOps()"
   ]
  },
  {
   "cell_type": "code",
   "execution_count": 453,
   "id": "b6df17f4",
   "metadata": {},
   "outputs": [],
   "source": [
    "#Define squared function to generate data\n",
    "def sqrdFunc(x0):\n",
    "    return np.sqrd(x0)"
   ]
  },
  {
   "cell_type": "code",
   "execution_count": 454,
   "id": "aac981b6",
   "metadata": {},
   "outputs": [],
   "source": [
    "sqrdModel=[np.array([operators[5],operators[13]]),[variableSelect(0)],[]]"
   ]
  },
  {
   "cell_type": "code",
   "execution_count": 455,
   "id": "ed6f4c05",
   "metadata": {},
   "outputs": [
    {
     "data": {
      "text/plain": [
       "[array([<function sqrd at 0x000002813605CA40>,\n",
       "        <function arctan at 0x000002813605CEA0>], dtype=object),\n",
       " [<function StackGP.variableSelect.<locals>.<lambda>(variables)>],\n",
       " []]"
      ]
     },
     "execution_count": 455,
     "metadata": {},
     "output_type": "execute_result"
    }
   ],
   "source": [
    "sqrdModel"
   ]
  },
  {
   "cell_type": "code",
   "execution_count": 456,
   "id": "1f9b2da6",
   "metadata": {},
   "outputs": [],
   "source": [
    "inputData=np.array([np.arange(-1,1,.0013)])\n",
    "response=inputData[0]"
   ]
  },
  {
   "cell_type": "code",
   "execution_count": 457,
   "id": "40127d4c",
   "metadata": {},
   "outputs": [
    {
     "data": {
      "text/plain": [
       "1.9650004313027982e-05"
      ]
     },
     "execution_count": 457,
     "metadata": {},
     "output_type": "execute_result"
    }
   ],
   "source": [
    "totalSharpness(sqrdModel,inputData,response,numPerturbations=4000,percentPerturbation=0.2)"
   ]
  },
  {
   "cell_type": "code",
   "execution_count": null,
   "id": "592e9847",
   "metadata": {},
   "outputs": [],
   "source": []
  },
  {
   "cell_type": "code",
   "execution_count": 458,
   "id": "a380592e",
   "metadata": {},
   "outputs": [],
   "source": [
    "from StackGP import *\n",
    "import numpy as np"
   ]
  },
  {
   "cell_type": "code",
   "execution_count": 459,
   "id": "36c9c418",
   "metadata": {},
   "outputs": [],
   "source": [
    "operators=allOps()"
   ]
  },
  {
   "cell_type": "code",
   "execution_count": 460,
   "id": "adfc986d",
   "metadata": {},
   "outputs": [],
   "source": [
    "#Define squared function to generate data\n",
    "def sqrdFunc(x0):\n",
    "    return np.sqrd(x0)"
   ]
  },
  {
   "cell_type": "code",
   "execution_count": 461,
   "id": "d1514f5c",
   "metadata": {},
   "outputs": [],
   "source": [
    "sqrdModel=[np.array([operators[5],operators[14]]),[variableSelect(0)],[]]"
   ]
  },
  {
   "cell_type": "code",
   "execution_count": 462,
   "id": "8d5f4e9d",
   "metadata": {},
   "outputs": [
    {
     "data": {
      "text/plain": [
       "[array([<function sqrd at 0x000002813605CA40>,\n",
       "        <function tanh at 0x000002813605CF40>], dtype=object),\n",
       " [<function StackGP.variableSelect.<locals>.<lambda>(variables)>],\n",
       " []]"
      ]
     },
     "execution_count": 462,
     "metadata": {},
     "output_type": "execute_result"
    }
   ],
   "source": [
    "sqrdModel"
   ]
  },
  {
   "cell_type": "code",
   "execution_count": 463,
   "id": "759887ae",
   "metadata": {},
   "outputs": [],
   "source": [
    "inputData=np.array([np.arange(-1,1,.0013)])\n",
    "response=inputData[0]"
   ]
  },
  {
   "cell_type": "code",
   "execution_count": 464,
   "id": "31d23bcf",
   "metadata": {},
   "outputs": [
    {
     "data": {
      "text/plain": [
       "1.879805099107917e-05"
      ]
     },
     "execution_count": 464,
     "metadata": {},
     "output_type": "execute_result"
    }
   ],
   "source": [
    "totalSharpness(sqrdModel,inputData,response,numPerturbations=4000,percentPerturbation=0.2)"
   ]
  },
  {
   "cell_type": "code",
   "execution_count": null,
   "id": "9b728aef",
   "metadata": {},
   "outputs": [],
   "source": []
  },
  {
   "cell_type": "code",
   "execution_count": 465,
   "id": "5c6394eb",
   "metadata": {},
   "outputs": [],
   "source": [
    "from StackGP import *\n",
    "import numpy as np"
   ]
  },
  {
   "cell_type": "code",
   "execution_count": 466,
   "id": "d3b71a7b",
   "metadata": {},
   "outputs": [],
   "source": [
    "operators=allOps()"
   ]
  },
  {
   "cell_type": "code",
   "execution_count": 467,
   "id": "3028c292",
   "metadata": {},
   "outputs": [],
   "source": [
    "#Define squared function to generate data\n",
    "def sqrdFunc(x0):\n",
    "    return np.sqrd(x0)"
   ]
  },
  {
   "cell_type": "code",
   "execution_count": 468,
   "id": "170f373b",
   "metadata": {},
   "outputs": [],
   "source": [
    "sqrdModel=[np.array([operators[5],operators[15]]),[variableSelect(0)],[]]"
   ]
  },
  {
   "cell_type": "code",
   "execution_count": 469,
   "id": "9655134c",
   "metadata": {},
   "outputs": [
    {
     "data": {
      "text/plain": [
       "[array([<function sqrd at 0x000002813605CA40>,\n",
       "        <function log at 0x000002813605CFE0>], dtype=object),\n",
       " [<function StackGP.variableSelect.<locals>.<lambda>(variables)>],\n",
       " []]"
      ]
     },
     "execution_count": 469,
     "metadata": {},
     "output_type": "execute_result"
    }
   ],
   "source": [
    "sqrdModel"
   ]
  },
  {
   "cell_type": "code",
   "execution_count": 470,
   "id": "f0dee5f3",
   "metadata": {},
   "outputs": [],
   "source": [
    "inputData=np.array([np.arange(-1,1,.0013)])\n",
    "response=inputData[0]"
   ]
  },
  {
   "cell_type": "code",
   "execution_count": 471,
   "id": "f0c55550",
   "metadata": {},
   "outputs": [
    {
     "data": {
      "text/plain": [
       "3.631614305871076e-06"
      ]
     },
     "execution_count": 471,
     "metadata": {},
     "output_type": "execute_result"
    }
   ],
   "source": [
    "totalSharpness(sqrdModel,inputData,response,numPerturbations=4000,percentPerturbation=0.2)"
   ]
  },
  {
   "cell_type": "code",
   "execution_count": 473,
   "id": "a9bf5e53",
   "metadata": {},
   "outputs": [
    {
     "data": {
      "image/png": "[encoded data removed]",
      "text/plain": [
       "<Figure size 1000x500 with 1 Axes>"
      ]
     },
     "metadata": {},
     "output_type": "display_data"
    }
   ],
   "source": [
    "import numpy as np\n",
    "import matplotlib.pyplot as plt \n",
    "\n",
    " \n",
    "# creating the dataset\n",
    "data = {'sqrd':0.0004872306,'sqrd x sqrd':0.00007895,'cos':0.0000686104,'tan':0.000068598,'exp':0.000046892,'sqrt':0.0000297068,'sin':0.0000229753,'arctan':0.0000196500,'tanh':0.00001879805,'log':0.00000363161,'inv':0.0000021332}\n",
    "courses = list(data.keys())\n",
    "values = list(data.values())\n",
    " \n",
    "fig = plt.figure(figsize = (10, 5))\n",
    "\n",
    "# creating the bar plot\n",
    "plt.bar(courses, values, color ='maroon', \n",
    "        width = 0.4)\n",
    "\n",
    "plt.xlabel(\"Functions\")\n",
    "plt.ylabel(\"Sqrd\")\n",
    "plt.title(\"Squared Function Combinations [-1,1]\")\n",
    "plt.yscale(\"log\")\n",
    "plt.show()\n"
   ]
  },
  {
   "cell_type": "markdown",
   "id": "d1c7d317",
   "metadata": {},
   "source": [
    "# Square root Function Combinations"
   ]
  },
  {
   "cell_type": "code",
   "execution_count": 474,
   "id": "bc8d40cd",
   "metadata": {},
   "outputs": [],
   "source": [
    "from StackGP import *\n",
    "import numpy as np"
   ]
  },
  {
   "cell_type": "code",
   "execution_count": 475,
   "id": "cd33333f",
   "metadata": {},
   "outputs": [],
   "source": [
    "operators=allOps()"
   ]
  },
  {
   "cell_type": "code",
   "execution_count": 476,
   "id": "8a94930a",
   "metadata": {},
   "outputs": [],
   "source": [
    "#Define square root function to generate data\n",
    "def sqrtFunc(x0):\n",
    "    return np.sqrt(x0)"
   ]
  },
  {
   "cell_type": "code",
   "execution_count": 477,
   "id": "5a7f9ed7",
   "metadata": {},
   "outputs": [],
   "source": [
    "sqrtModel=[np.array([operators[6],operators[4]]),[variableSelect(0)],[]]"
   ]
  },
  {
   "cell_type": "code",
   "execution_count": 478,
   "id": "6c72951e",
   "metadata": {},
   "outputs": [
    {
     "data": {
      "text/plain": [
       "[array([<function sqrt at 0x000002813605C9A0>,\n",
       "        <function exp at 0x000002813605C860>], dtype=object),\n",
       " [<function StackGP.variableSelect.<locals>.<lambda>(variables)>],\n",
       " []]"
      ]
     },
     "execution_count": 478,
     "metadata": {},
     "output_type": "execute_result"
    }
   ],
   "source": [
    "sqrtModel"
   ]
  },
  {
   "cell_type": "code",
   "execution_count": 479,
   "id": "290e7e62",
   "metadata": {},
   "outputs": [],
   "source": [
    "inputData=np.array([np.arange(-1,1,.0013)])\n",
    "response=inputData[0]"
   ]
  },
  {
   "cell_type": "code",
   "execution_count": 480,
   "id": "2de85d67",
   "metadata": {},
   "outputs": [
    {
     "data": {
      "text/plain": [
       "nan"
      ]
     },
     "execution_count": 480,
     "metadata": {},
     "output_type": "execute_result"
    }
   ],
   "source": [
    "totalSharpness(sqrtModel,inputData,response,numPerturbations=4000,percentPerturbation=0.2)"
   ]
  },
  {
   "cell_type": "code",
   "execution_count": null,
   "id": "4e591a43",
   "metadata": {},
   "outputs": [],
   "source": []
  },
  {
   "cell_type": "code",
   "execution_count": 481,
   "id": "74aa4eda",
   "metadata": {},
   "outputs": [],
   "source": [
    "from StackGP import *\n",
    "import numpy as np"
   ]
  },
  {
   "cell_type": "code",
   "execution_count": 482,
   "id": "2bac7cfa",
   "metadata": {},
   "outputs": [],
   "source": [
    "operators=allOps()"
   ]
  },
  {
   "cell_type": "code",
   "execution_count": 483,
   "id": "7c56bbe5",
   "metadata": {},
   "outputs": [],
   "source": [
    "#Define square root function to generate data\n",
    "def sqrtFunc(x0):\n",
    "    return np.sqrt(x0)"
   ]
  },
  {
   "cell_type": "code",
   "execution_count": 484,
   "id": "86aacbdc",
   "metadata": {},
   "outputs": [],
   "source": [
    "sqrtModel=[np.array([operators[6],operators[5]]),[variableSelect(0)],[]]"
   ]
  },
  {
   "cell_type": "code",
   "execution_count": 485,
   "id": "2a56d86b",
   "metadata": {},
   "outputs": [
    {
     "data": {
      "text/plain": [
       "[array([<function sqrt at 0x000002813605C9A0>,\n",
       "        <function sqrd at 0x000002813605CA40>], dtype=object),\n",
       " [<function StackGP.variableSelect.<locals>.<lambda>(variables)>],\n",
       " []]"
      ]
     },
     "execution_count": 485,
     "metadata": {},
     "output_type": "execute_result"
    }
   ],
   "source": [
    "sqrtModel"
   ]
  },
  {
   "cell_type": "code",
   "execution_count": 486,
   "id": "19cd618c",
   "metadata": {},
   "outputs": [],
   "source": [
    "inputData=np.array([np.arange(-1,1,.0013)])\n",
    "response=inputData[0]"
   ]
  },
  {
   "cell_type": "code",
   "execution_count": 487,
   "id": "30fd0a63",
   "metadata": {},
   "outputs": [
    {
     "data": {
      "text/plain": [
       "nan"
      ]
     },
     "execution_count": 487,
     "metadata": {},
     "output_type": "execute_result"
    }
   ],
   "source": [
    "totalSharpness(sqrtModel,inputData,response,numPerturbations=4000,percentPerturbation=0.2)"
   ]
  },
  {
   "cell_type": "code",
   "execution_count": null,
   "id": "53b890b7",
   "metadata": {},
   "outputs": [],
   "source": []
  },
  {
   "cell_type": "code",
   "execution_count": 488,
   "id": "9fda78fd",
   "metadata": {},
   "outputs": [],
   "source": [
    "from StackGP import *\n",
    "import numpy as np"
   ]
  },
  {
   "cell_type": "code",
   "execution_count": 489,
   "id": "9fab0c7a",
   "metadata": {},
   "outputs": [],
   "source": [
    "operators=allOps()"
   ]
  },
  {
   "cell_type": "code",
   "execution_count": 490,
   "id": "3ba503bd",
   "metadata": {},
   "outputs": [],
   "source": [
    "#Define square root function to generate data\n",
    "def sqrtFunc(x0):\n",
    "    return np.sqrt(x0)"
   ]
  },
  {
   "cell_type": "code",
   "execution_count": 491,
   "id": "29764e8d",
   "metadata": {},
   "outputs": [],
   "source": [
    "sqrtModel=[np.array([operators[6],operators[7]]),[variableSelect(0)],[]]"
   ]
  },
  {
   "cell_type": "code",
   "execution_count": 492,
   "id": "8cf37365",
   "metadata": {},
   "outputs": [
    {
     "data": {
      "text/plain": [
       "[array([<function sqrt at 0x000002813605C9A0>,\n",
       "        <function inv at 0x000002813605CAE0>], dtype=object),\n",
       " [<function StackGP.variableSelect.<locals>.<lambda>(variables)>],\n",
       " []]"
      ]
     },
     "execution_count": 492,
     "metadata": {},
     "output_type": "execute_result"
    }
   ],
   "source": [
    "sqrtModel"
   ]
  },
  {
   "cell_type": "code",
   "execution_count": 493,
   "id": "cb93784c",
   "metadata": {},
   "outputs": [],
   "source": [
    "inputData=np.array([np.arange(-1,1,.0013)])\n",
    "response=inputData[0]"
   ]
  },
  {
   "cell_type": "code",
   "execution_count": 494,
   "id": "33b8a784",
   "metadata": {},
   "outputs": [
    {
     "data": {
      "text/plain": [
       "nan"
      ]
     },
     "execution_count": 494,
     "metadata": {},
     "output_type": "execute_result"
    }
   ],
   "source": [
    "totalSharpness(sqrtModel,inputData,response,numPerturbations=4000,percentPerturbation=0.2)"
   ]
  },
  {
   "cell_type": "code",
   "execution_count": null,
   "id": "f16cc3e0",
   "metadata": {},
   "outputs": [],
   "source": []
  },
  {
   "cell_type": "code",
   "execution_count": 495,
   "id": "7b9858f8",
   "metadata": {},
   "outputs": [],
   "source": [
    "from StackGP import *\n",
    "import numpy as np"
   ]
  },
  {
   "cell_type": "code",
   "execution_count": 496,
   "id": "f290c1e6",
   "metadata": {},
   "outputs": [],
   "source": [
    "operators=allOps()"
   ]
  },
  {
   "cell_type": "code",
   "execution_count": 497,
   "id": "f1563c01",
   "metadata": {},
   "outputs": [],
   "source": [
    "#Define square root function to generate data\n",
    "def sqrtFunc(x0):\n",
    "    return np.sqrt(x0)"
   ]
  },
  {
   "cell_type": "code",
   "execution_count": 498,
   "id": "6c8228b8",
   "metadata": {},
   "outputs": [],
   "source": [
    "sqrtModel=[np.array([operators[6],operators[8]]),[variableSelect(0)],[]]"
   ]
  },
  {
   "cell_type": "code",
   "execution_count": 499,
   "id": "43b198e7",
   "metadata": {},
   "outputs": [
    {
     "data": {
      "text/plain": [
       "[array([<function sqrt at 0x000002813605C9A0>,\n",
       "        <function cos at 0x000002813605CC20>], dtype=object),\n",
       " [<function StackGP.variableSelect.<locals>.<lambda>(variables)>],\n",
       " []]"
      ]
     },
     "execution_count": 499,
     "metadata": {},
     "output_type": "execute_result"
    }
   ],
   "source": [
    "sqrtModel"
   ]
  },
  {
   "cell_type": "code",
   "execution_count": 500,
   "id": "1052e8ca",
   "metadata": {},
   "outputs": [],
   "source": [
    "inputData=np.array([np.arange(-1,1,.0013)])\n",
    "response=inputData[0]"
   ]
  },
  {
   "cell_type": "code",
   "execution_count": 501,
   "id": "c1e7997b",
   "metadata": {},
   "outputs": [
    {
     "data": {
      "text/plain": [
       "nan"
      ]
     },
     "execution_count": 501,
     "metadata": {},
     "output_type": "execute_result"
    }
   ],
   "source": [
    "totalSharpness(sqrtModel,inputData,response,numPerturbations=4000,percentPerturbation=0.2)"
   ]
  },
  {
   "cell_type": "code",
   "execution_count": null,
   "id": "2db4a305",
   "metadata": {},
   "outputs": [],
   "source": []
  },
  {
   "cell_type": "code",
   "execution_count": 502,
   "id": "e736051e",
   "metadata": {},
   "outputs": [],
   "source": [
    "from StackGP import *\n",
    "import numpy as np"
   ]
  },
  {
   "cell_type": "code",
   "execution_count": 503,
   "id": "e6c356cb",
   "metadata": {},
   "outputs": [],
   "source": [
    "operators=allOps()"
   ]
  },
  {
   "cell_type": "code",
   "execution_count": 504,
   "id": "23e5c56a",
   "metadata": {},
   "outputs": [],
   "source": [
    "#Define square root function to generate data\n",
    "def sqrtFunc(x0):\n",
    "    return np.sqrt(x0)"
   ]
  },
  {
   "cell_type": "code",
   "execution_count": 505,
   "id": "6915a632",
   "metadata": {},
   "outputs": [],
   "source": [
    "sqrtModel=[np.array([operators[6],operators[9]]),[variableSelect(0)],[]]"
   ]
  },
  {
   "cell_type": "code",
   "execution_count": 506,
   "id": "9ea46a1a",
   "metadata": {},
   "outputs": [
    {
     "data": {
      "text/plain": [
       "[array([<function sqrt at 0x000002813605C9A0>,\n",
       "        <function sin at 0x000002813605CB80>], dtype=object),\n",
       " [<function StackGP.variableSelect.<locals>.<lambda>(variables)>],\n",
       " []]"
      ]
     },
     "execution_count": 506,
     "metadata": {},
     "output_type": "execute_result"
    }
   ],
   "source": [
    "sqrtModel"
   ]
  },
  {
   "cell_type": "code",
   "execution_count": 507,
   "id": "6a392c5e",
   "metadata": {},
   "outputs": [],
   "source": [
    "inputData=np.array([np.arange(-1,1,.0013)])\n",
    "response=inputData[0]"
   ]
  },
  {
   "cell_type": "code",
   "execution_count": 508,
   "id": "ebb28458",
   "metadata": {},
   "outputs": [
    {
     "data": {
      "text/plain": [
       "nan"
      ]
     },
     "execution_count": 508,
     "metadata": {},
     "output_type": "execute_result"
    }
   ],
   "source": [
    "totalSharpness(sqrtModel,inputData,response,numPerturbations=4000,percentPerturbation=0.2)"
   ]
  },
  {
   "cell_type": "code",
   "execution_count": null,
   "id": "8303c3ee",
   "metadata": {},
   "outputs": [],
   "source": []
  },
  {
   "cell_type": "code",
   "execution_count": 509,
   "id": "eaf80e9e",
   "metadata": {},
   "outputs": [],
   "source": [
    "from StackGP import *\n",
    "import numpy as np"
   ]
  },
  {
   "cell_type": "code",
   "execution_count": 510,
   "id": "026c9e3c",
   "metadata": {},
   "outputs": [],
   "source": [
    "operators=allOps()"
   ]
  },
  {
   "cell_type": "code",
   "execution_count": 511,
   "id": "7b5dfbc9",
   "metadata": {},
   "outputs": [],
   "source": [
    "#Define square root function to generate data\n",
    "def sqrtFunc(x0):\n",
    "    return np.sqrt(x0)"
   ]
  },
  {
   "cell_type": "code",
   "execution_count": 512,
   "id": "755fe893",
   "metadata": {},
   "outputs": [],
   "source": [
    "sqrtModel=[np.array([operators[6],operators[10]]),[variableSelect(0)],[]]"
   ]
  },
  {
   "cell_type": "code",
   "execution_count": 513,
   "id": "346297e1",
   "metadata": {},
   "outputs": [
    {
     "data": {
      "text/plain": [
       "[array([<function sqrt at 0x000002813605C9A0>,\n",
       "        <function tan at 0x000002813605CCC0>], dtype=object),\n",
       " [<function StackGP.variableSelect.<locals>.<lambda>(variables)>],\n",
       " []]"
      ]
     },
     "execution_count": 513,
     "metadata": {},
     "output_type": "execute_result"
    }
   ],
   "source": [
    "sqrtModel"
   ]
  },
  {
   "cell_type": "code",
   "execution_count": 514,
   "id": "585b1760",
   "metadata": {},
   "outputs": [],
   "source": [
    "inputData=np.array([np.arange(-1,1,.0013)])\n",
    "response=inputData[0]"
   ]
  },
  {
   "cell_type": "code",
   "execution_count": 515,
   "id": "2b17278d",
   "metadata": {},
   "outputs": [
    {
     "data": {
      "text/plain": [
       "nan"
      ]
     },
     "execution_count": 515,
     "metadata": {},
     "output_type": "execute_result"
    }
   ],
   "source": [
    "totalSharpness(sqrtModel,inputData,response,numPerturbations=4000,percentPerturbation=0.2)"
   ]
  },
  {
   "cell_type": "code",
   "execution_count": null,
   "id": "224288c8",
   "metadata": {},
   "outputs": [],
   "source": []
  },
  {
   "cell_type": "code",
   "execution_count": 516,
   "id": "0fe1ec40",
   "metadata": {},
   "outputs": [],
   "source": [
    "from StackGP import *\n",
    "import numpy as np"
   ]
  },
  {
   "cell_type": "code",
   "execution_count": 517,
   "id": "4271dcda",
   "metadata": {},
   "outputs": [],
   "source": [
    "operators=allOps()"
   ]
  },
  {
   "cell_type": "code",
   "execution_count": 518,
   "id": "27bf7266",
   "metadata": {},
   "outputs": [],
   "source": [
    "#Define square root function to generate data\n",
    "def sqrtFunc(x0):\n",
    "    return np.sqrt(x0)"
   ]
  },
  {
   "cell_type": "code",
   "execution_count": 519,
   "id": "aab9a471",
   "metadata": {},
   "outputs": [],
   "source": [
    "sqrtModel=[np.array([operators[6],operators[13]]),[variableSelect(0)],[]]"
   ]
  },
  {
   "cell_type": "code",
   "execution_count": 520,
   "id": "18a54ae2",
   "metadata": {},
   "outputs": [
    {
     "data": {
      "text/plain": [
       "[array([<function sqrt at 0x000002813605C9A0>,\n",
       "        <function arctan at 0x000002813605CEA0>], dtype=object),\n",
       " [<function StackGP.variableSelect.<locals>.<lambda>(variables)>],\n",
       " []]"
      ]
     },
     "execution_count": 520,
     "metadata": {},
     "output_type": "execute_result"
    }
   ],
   "source": [
    "sqrtModel"
   ]
  },
  {
   "cell_type": "code",
   "execution_count": 521,
   "id": "2399740a",
   "metadata": {},
   "outputs": [],
   "source": [
    "inputData=np.array([np.arange(-1,1,.0013)])\n",
    "response=inputData[0]"
   ]
  },
  {
   "cell_type": "code",
   "execution_count": 522,
   "id": "94ce202f",
   "metadata": {},
   "outputs": [
    {
     "data": {
      "text/plain": [
       "nan"
      ]
     },
     "execution_count": 522,
     "metadata": {},
     "output_type": "execute_result"
    }
   ],
   "source": [
    "totalSharpness(sqrtModel,inputData,response,numPerturbations=4000,percentPerturbation=0.2)"
   ]
  },
  {
   "cell_type": "code",
   "execution_count": null,
   "id": "66e0dc78",
   "metadata": {},
   "outputs": [],
   "source": []
  },
  {
   "cell_type": "code",
   "execution_count": 523,
   "id": "44581d82",
   "metadata": {},
   "outputs": [],
   "source": [
    "from StackGP import *\n",
    "import numpy as np"
   ]
  },
  {
   "cell_type": "code",
   "execution_count": 524,
   "id": "65a3ad91",
   "metadata": {},
   "outputs": [],
   "source": [
    "operators=allOps()"
   ]
  },
  {
   "cell_type": "code",
   "execution_count": 525,
   "id": "85c7911b",
   "metadata": {},
   "outputs": [],
   "source": [
    "#Define square root function to generate data\n",
    "def sqrtFunc(x0):\n",
    "    return np.sqrt(x0)"
   ]
  },
  {
   "cell_type": "code",
   "execution_count": 526,
   "id": "2f7cbb14",
   "metadata": {},
   "outputs": [],
   "source": [
    "sqrtModel=[np.array([operators[6],operators[14]]),[variableSelect(0)],[]]"
   ]
  },
  {
   "cell_type": "code",
   "execution_count": 529,
   "id": "48f935e0",
   "metadata": {},
   "outputs": [
    {
     "data": {
      "text/plain": [
       "[array([<function sqrt at 0x000002813605C9A0>,\n",
       "        <function tanh at 0x000002813605CF40>], dtype=object),\n",
       " [<function StackGP.variableSelect.<locals>.<lambda>(variables)>],\n",
       " []]"
      ]
     },
     "execution_count": 529,
     "metadata": {},
     "output_type": "execute_result"
    }
   ],
   "source": [
    "sqrtModel"
   ]
  },
  {
   "cell_type": "code",
   "execution_count": 530,
   "id": "88203ff2",
   "metadata": {},
   "outputs": [],
   "source": [
    "inputData=np.array([np.arange(-1,1,.0013)])\n",
    "response=inputData[0]"
   ]
  },
  {
   "cell_type": "code",
   "execution_count": 531,
   "id": "acb39491",
   "metadata": {},
   "outputs": [
    {
     "data": {
      "text/plain": [
       "nan"
      ]
     },
     "execution_count": 531,
     "metadata": {},
     "output_type": "execute_result"
    }
   ],
   "source": [
    "totalSharpness(sqrtModel,inputData,response,numPerturbations=4000,percentPerturbation=0.2)"
   ]
  },
  {
   "cell_type": "code",
   "execution_count": null,
   "id": "6f7f67b5",
   "metadata": {},
   "outputs": [],
   "source": []
  },
  {
   "cell_type": "code",
   "execution_count": 532,
   "id": "ba1e1ce3",
   "metadata": {},
   "outputs": [],
   "source": [
    "from StackGP import *\n",
    "import numpy as np"
   ]
  },
  {
   "cell_type": "code",
   "execution_count": 533,
   "id": "386b915c",
   "metadata": {},
   "outputs": [],
   "source": [
    "operators=allOps()"
   ]
  },
  {
   "cell_type": "code",
   "execution_count": 534,
   "id": "8557d50d",
   "metadata": {},
   "outputs": [],
   "source": [
    "#Define square root function to generate data\n",
    "def sqrtFunc(x0):\n",
    "    return np.sqrt(x0)"
   ]
  },
  {
   "cell_type": "code",
   "execution_count": 535,
   "id": "d8a8c7de",
   "metadata": {},
   "outputs": [],
   "source": [
    "sqrtModel=[np.array([operators[6],operators[15]]),[variableSelect(0)],[]]"
   ]
  },
  {
   "cell_type": "code",
   "execution_count": 536,
   "id": "130f6f3d",
   "metadata": {},
   "outputs": [
    {
     "data": {
      "text/plain": [
       "[array([<function sqrt at 0x000002813605C9A0>,\n",
       "        <function log at 0x000002813605CFE0>], dtype=object),\n",
       " [<function StackGP.variableSelect.<locals>.<lambda>(variables)>],\n",
       " []]"
      ]
     },
     "execution_count": 536,
     "metadata": {},
     "output_type": "execute_result"
    }
   ],
   "source": [
    "sqrtModel"
   ]
  },
  {
   "cell_type": "code",
   "execution_count": 537,
   "id": "a2e67e82",
   "metadata": {},
   "outputs": [],
   "source": [
    "inputData=np.array([np.arange(-1,1,.0013)])\n",
    "response=inputData[0]"
   ]
  },
  {
   "cell_type": "code",
   "execution_count": 538,
   "id": "277d28b0",
   "metadata": {},
   "outputs": [
    {
     "data": {
      "text/plain": [
       "nan"
      ]
     },
     "execution_count": 538,
     "metadata": {},
     "output_type": "execute_result"
    }
   ],
   "source": [
    "totalSharpness(sqrtModel,inputData,response,numPerturbations=4000,percentPerturbation=0.2)"
   ]
  },
  {
   "cell_type": "code",
   "execution_count": 539,
   "id": "54c476fe",
   "metadata": {},
   "outputs": [
    {
     "data": {
      "image/png": "[encoded data removed]",
      "text/plain": [
       "<Figure size 1000x500 with 1 Axes>"
      ]
     },
     "metadata": {},
     "output_type": "display_data"
    }
   ],
   "source": [
    "import numpy as np\n",
    "import matplotlib.pyplot as plt \n",
    "\n",
    " \n",
    "# creating the dataset\n",
    "data = {'sqrt':1,'sqrt x sqrt':1,'exp':1,'sqrd':1,'inv':1,'cos':1,'sin':1,'tan':1,'arctan':1,'tanh':1,'log':1}\n",
    "courses = list(data.keys())\n",
    "values = list(data.values())\n",
    " \n",
    "fig = plt.figure(figsize = (10, 5))\n",
    "\n",
    "# creating the bar plot\n",
    "plt.bar(courses, values, color ='maroon', \n",
    "        width = 0.4)\n",
    "\n",
    "plt.xlabel(\"Functions\")\n",
    "plt.ylabel(\"Sqrt\")\n",
    "plt.title(\"Square root Function Combinations [-1,1]\")\n",
    "plt.yscale(\"log\")\n",
    "plt.show()\n"
   ]
  },
  {
   "cell_type": "markdown",
   "id": "4a592eca",
   "metadata": {},
   "source": [
    "# Inverse Function Combinations"
   ]
  },
  {
   "cell_type": "code",
   "execution_count": 540,
   "id": "d843c8ac",
   "metadata": {},
   "outputs": [],
   "source": [
    "from StackGP import *\n",
    "import numpy as np"
   ]
  },
  {
   "cell_type": "code",
   "execution_count": 541,
   "id": "92c37571",
   "metadata": {},
   "outputs": [],
   "source": [
    "operators=allOps()"
   ]
  },
  {
   "cell_type": "code",
   "execution_count": 542,
   "id": "f3b3afc7",
   "metadata": {},
   "outputs": [],
   "source": [
    "#Define inverse function to generate data\n",
    "def invFunc(x0):\n",
    "    return np.inv(x0)"
   ]
  },
  {
   "cell_type": "code",
   "execution_count": 543,
   "id": "dfe74128",
   "metadata": {},
   "outputs": [],
   "source": [
    "invModel=[np.array([operators[7],operators[4]]),[variableSelect(0)],[]]"
   ]
  },
  {
   "cell_type": "code",
   "execution_count": 544,
   "id": "3c704d32",
   "metadata": {},
   "outputs": [
    {
     "data": {
      "text/plain": [
       "[array([<function inv at 0x000002813605CAE0>,\n",
       "        <function exp at 0x000002813605C860>], dtype=object),\n",
       " [<function StackGP.variableSelect.<locals>.<lambda>(variables)>],\n",
       " []]"
      ]
     },
     "execution_count": 544,
     "metadata": {},
     "output_type": "execute_result"
    }
   ],
   "source": [
    "invModel"
   ]
  },
  {
   "cell_type": "code",
   "execution_count": 545,
   "id": "56bd1524",
   "metadata": {},
   "outputs": [],
   "source": [
    "inputData=np.array([np.arange(-1,1,.0013)])\n",
    "response=inputData[0]"
   ]
  },
  {
   "cell_type": "code",
   "execution_count": 546,
   "id": "8bb1907f",
   "metadata": {},
   "outputs": [
    {
     "data": {
      "text/plain": [
       "nan"
      ]
     },
     "execution_count": 546,
     "metadata": {},
     "output_type": "execute_result"
    }
   ],
   "source": [
    "totalSharpness(invModel,inputData,response,numPerturbations=4000,percentPerturbation=0.2)"
   ]
  },
  {
   "cell_type": "code",
   "execution_count": null,
   "id": "9de44736",
   "metadata": {},
   "outputs": [],
   "source": []
  },
  {
   "cell_type": "code",
   "execution_count": 547,
   "id": "92fefc8b",
   "metadata": {},
   "outputs": [],
   "source": [
    "from StackGP import *\n",
    "import numpy as np"
   ]
  },
  {
   "cell_type": "code",
   "execution_count": 548,
   "id": "c22a2a78",
   "metadata": {},
   "outputs": [],
   "source": [
    "operators=allOps()"
   ]
  },
  {
   "cell_type": "code",
   "execution_count": 549,
   "id": "769dc9fc",
   "metadata": {},
   "outputs": [],
   "source": [
    "#Define inverse function to generate data\n",
    "def invFunc(x0):\n",
    "    return np.inv(x0)"
   ]
  },
  {
   "cell_type": "code",
   "execution_count": 550,
   "id": "9e8c2b47",
   "metadata": {},
   "outputs": [],
   "source": [
    "invModel=[np.array([operators[7],operators[5]]),[variableSelect(0)],[]]"
   ]
  },
  {
   "cell_type": "code",
   "execution_count": 551,
   "id": "1359dc7c",
   "metadata": {},
   "outputs": [
    {
     "data": {
      "text/plain": [
       "[array([<function inv at 0x000002813605CAE0>,\n",
       "        <function sqrd at 0x000002813605CA40>], dtype=object),\n",
       " [<function StackGP.variableSelect.<locals>.<lambda>(variables)>],\n",
       " []]"
      ]
     },
     "execution_count": 551,
     "metadata": {},
     "output_type": "execute_result"
    }
   ],
   "source": [
    "invModel"
   ]
  },
  {
   "cell_type": "code",
   "execution_count": 552,
   "id": "51347c27",
   "metadata": {},
   "outputs": [],
   "source": [
    "inputData=np.array([np.arange(-1,1,.0013)])\n",
    "response=inputData[0]"
   ]
  },
  {
   "cell_type": "code",
   "execution_count": 553,
   "id": "166ab84f",
   "metadata": {},
   "outputs": [
    {
     "data": {
      "text/plain": [
       "2.1398440364471596e-06"
      ]
     },
     "execution_count": 553,
     "metadata": {},
     "output_type": "execute_result"
    }
   ],
   "source": [
    "totalSharpness(invModel,inputData,response,numPerturbations=4000,percentPerturbation=0.2)"
   ]
  },
  {
   "cell_type": "code",
   "execution_count": null,
   "id": "2d277163",
   "metadata": {},
   "outputs": [],
   "source": []
  },
  {
   "cell_type": "code",
   "execution_count": 554,
   "id": "92fe65ae",
   "metadata": {},
   "outputs": [],
   "source": [
    "from StackGP import *\n",
    "import numpy as np"
   ]
  },
  {
   "cell_type": "code",
   "execution_count": 555,
   "id": "9844d136",
   "metadata": {},
   "outputs": [],
   "source": [
    "operators=allOps()"
   ]
  },
  {
   "cell_type": "code",
   "execution_count": 556,
   "id": "79927ed3",
   "metadata": {},
   "outputs": [],
   "source": [
    "#Define inverse function to generate data\n",
    "def invFunc(x0):\n",
    "    return np.inv(x0)"
   ]
  },
  {
   "cell_type": "code",
   "execution_count": 557,
   "id": "b45bc203",
   "metadata": {},
   "outputs": [],
   "source": [
    "invModel=[np.array([operators[7],operators[6]]),[variableSelect(0)],[]]"
   ]
  },
  {
   "cell_type": "code",
   "execution_count": 558,
   "id": "4ba08e48",
   "metadata": {},
   "outputs": [
    {
     "data": {
      "text/plain": [
       "[array([<function inv at 0x000002813605CAE0>,\n",
       "        <function sqrt at 0x000002813605C9A0>], dtype=object),\n",
       " [<function StackGP.variableSelect.<locals>.<lambda>(variables)>],\n",
       " []]"
      ]
     },
     "execution_count": 558,
     "metadata": {},
     "output_type": "execute_result"
    }
   ],
   "source": [
    "invModel"
   ]
  },
  {
   "cell_type": "code",
   "execution_count": 559,
   "id": "06043aed",
   "metadata": {},
   "outputs": [],
   "source": [
    "inputData=np.array([np.arange(-1,1,.0013)])\n",
    "response=inputData[0]"
   ]
  },
  {
   "cell_type": "code",
   "execution_count": 560,
   "id": "229d11c4",
   "metadata": {},
   "outputs": [
    {
     "data": {
      "text/plain": [
       "nan"
      ]
     },
     "execution_count": 560,
     "metadata": {},
     "output_type": "execute_result"
    }
   ],
   "source": [
    "totalSharpness(invModel,inputData,response,numPerturbations=4000,percentPerturbation=0.2)"
   ]
  },
  {
   "cell_type": "code",
   "execution_count": null,
   "id": "af6d8733",
   "metadata": {},
   "outputs": [],
   "source": []
  },
  {
   "cell_type": "code",
   "execution_count": 561,
   "id": "d5283e2f",
   "metadata": {},
   "outputs": [],
   "source": [
    "from StackGP import *\n",
    "import numpy as np"
   ]
  },
  {
   "cell_type": "code",
   "execution_count": 562,
   "id": "0399f798",
   "metadata": {},
   "outputs": [],
   "source": [
    "operators=allOps()"
   ]
  },
  {
   "cell_type": "code",
   "execution_count": 563,
   "id": "cc9e5a90",
   "metadata": {},
   "outputs": [],
   "source": [
    "#Define inverse function to generate data\n",
    "def invFunc(x0):\n",
    "    return np.inv(x0)"
   ]
  },
  {
   "cell_type": "code",
   "execution_count": 564,
   "id": "e554aea9",
   "metadata": {},
   "outputs": [],
   "source": [
    "invModel=[np.array([operators[7],operators[8]]),[variableSelect(0)],[]]"
   ]
  },
  {
   "cell_type": "code",
   "execution_count": 565,
   "id": "4ca7493e",
   "metadata": {},
   "outputs": [
    {
     "data": {
      "text/plain": [
       "[array([<function inv at 0x000002813605CAE0>,\n",
       "        <function cos at 0x000002813605CC20>], dtype=object),\n",
       " [<function StackGP.variableSelect.<locals>.<lambda>(variables)>],\n",
       " []]"
      ]
     },
     "execution_count": 565,
     "metadata": {},
     "output_type": "execute_result"
    }
   ],
   "source": [
    "invModel"
   ]
  },
  {
   "cell_type": "code",
   "execution_count": 566,
   "id": "4b0a855d",
   "metadata": {},
   "outputs": [],
   "source": [
    "inputData=np.array([np.arange(-1,1,.0013)])\n",
    "response=inputData[0]"
   ]
  },
  {
   "cell_type": "code",
   "execution_count": 567,
   "id": "c74fb17f",
   "metadata": {},
   "outputs": [
    {
     "data": {
      "text/plain": [
       "3.120931210676936e-05"
      ]
     },
     "execution_count": 567,
     "metadata": {},
     "output_type": "execute_result"
    }
   ],
   "source": [
    "totalSharpness(invModel,inputData,response,numPerturbations=4000,percentPerturbation=0.2)"
   ]
  },
  {
   "cell_type": "code",
   "execution_count": null,
   "id": "2b96d645",
   "metadata": {},
   "outputs": [],
   "source": []
  },
  {
   "cell_type": "code",
   "execution_count": 568,
   "id": "ade9bd89",
   "metadata": {},
   "outputs": [],
   "source": [
    "from StackGP import *\n",
    "import numpy as np"
   ]
  },
  {
   "cell_type": "code",
   "execution_count": 569,
   "id": "c485f0b8",
   "metadata": {},
   "outputs": [],
   "source": [
    "operators=allOps()"
   ]
  },
  {
   "cell_type": "code",
   "execution_count": 570,
   "id": "8f80afdf",
   "metadata": {},
   "outputs": [],
   "source": [
    "#Define inverse function to generate data\n",
    "def invFunc(x0):\n",
    "    return np.inv(x0)"
   ]
  },
  {
   "cell_type": "code",
   "execution_count": 571,
   "id": "fdd76c9f",
   "metadata": {},
   "outputs": [],
   "source": [
    "invModel=[np.array([operators[7],operators[9]]),[variableSelect(0)],[]]"
   ]
  },
  {
   "cell_type": "code",
   "execution_count": 572,
   "id": "e094b2cf",
   "metadata": {},
   "outputs": [
    {
     "data": {
      "text/plain": [
       "[array([<function inv at 0x000002813605CAE0>,\n",
       "        <function sin at 0x000002813605CB80>], dtype=object),\n",
       " [<function StackGP.variableSelect.<locals>.<lambda>(variables)>],\n",
       " []]"
      ]
     },
     "execution_count": 572,
     "metadata": {},
     "output_type": "execute_result"
    }
   ],
   "source": [
    "invModel"
   ]
  },
  {
   "cell_type": "code",
   "execution_count": 573,
   "id": "99bc6d39",
   "metadata": {},
   "outputs": [],
   "source": [
    "inputData=np.array([np.arange(-1,1,.0013)])\n",
    "response=inputData[0]"
   ]
  },
  {
   "cell_type": "code",
   "execution_count": 574,
   "id": "7138af0b",
   "metadata": {},
   "outputs": [
    {
     "data": {
      "text/plain": [
       "0.007023233969667856"
      ]
     },
     "execution_count": 574,
     "metadata": {},
     "output_type": "execute_result"
    }
   ],
   "source": [
    "totalSharpness(invModel,inputData,response,numPerturbations=4000,percentPerturbation=0.2)"
   ]
  },
  {
   "cell_type": "code",
   "execution_count": null,
   "id": "bc679883",
   "metadata": {},
   "outputs": [],
   "source": []
  },
  {
   "cell_type": "code",
   "execution_count": 575,
   "id": "039a9a3d",
   "metadata": {},
   "outputs": [],
   "source": [
    "from StackGP import *\n",
    "import numpy as np"
   ]
  },
  {
   "cell_type": "code",
   "execution_count": 576,
   "id": "fba80d58",
   "metadata": {},
   "outputs": [],
   "source": [
    "operators=allOps()"
   ]
  },
  {
   "cell_type": "code",
   "execution_count": 577,
   "id": "5d69b936",
   "metadata": {},
   "outputs": [],
   "source": [
    "#Define inverse function to generate data\n",
    "def invFunc(x0):\n",
    "    return np.inv(x0)"
   ]
  },
  {
   "cell_type": "code",
   "execution_count": 578,
   "id": "4198d7f9",
   "metadata": {},
   "outputs": [],
   "source": [
    "invModel=[np.array([operators[7],operators[10]]),[variableSelect(0)],[]]"
   ]
  },
  {
   "cell_type": "code",
   "execution_count": 579,
   "id": "3f3ac997",
   "metadata": {},
   "outputs": [
    {
     "data": {
      "text/plain": [
       "[array([<function inv at 0x000002813605CAE0>,\n",
       "        <function tan at 0x000002813605CCC0>], dtype=object),\n",
       " [<function StackGP.variableSelect.<locals>.<lambda>(variables)>],\n",
       " []]"
      ]
     },
     "execution_count": 579,
     "metadata": {},
     "output_type": "execute_result"
    }
   ],
   "source": [
    "invModel"
   ]
  },
  {
   "cell_type": "code",
   "execution_count": 580,
   "id": "aeedaabd",
   "metadata": {},
   "outputs": [],
   "source": [
    "inputData=np.array([np.arange(-1,1,.0013)])\n",
    "response=inputData[0]"
   ]
  },
  {
   "cell_type": "code",
   "execution_count": 581,
   "id": "0971b1c5",
   "metadata": {},
   "outputs": [
    {
     "data": {
      "text/plain": [
       "0.0014757668345320488"
      ]
     },
     "execution_count": 581,
     "metadata": {},
     "output_type": "execute_result"
    }
   ],
   "source": [
    "totalSharpness(invModel,inputData,response,numPerturbations=4000,percentPerturbation=0.2)"
   ]
  },
  {
   "cell_type": "code",
   "execution_count": null,
   "id": "76c73ffb",
   "metadata": {},
   "outputs": [],
   "source": []
  },
  {
   "cell_type": "code",
   "execution_count": 582,
   "id": "422b35ae",
   "metadata": {},
   "outputs": [],
   "source": [
    "from StackGP import *\n",
    "import numpy as np"
   ]
  },
  {
   "cell_type": "code",
   "execution_count": 583,
   "id": "c8b6318a",
   "metadata": {},
   "outputs": [],
   "source": [
    "operators=allOps()"
   ]
  },
  {
   "cell_type": "code",
   "execution_count": 584,
   "id": "92e961a0",
   "metadata": {},
   "outputs": [],
   "source": [
    "#Define inverse function to generate data\n",
    "def invFunc(x0):\n",
    "    return np.inv(x0)"
   ]
  },
  {
   "cell_type": "code",
   "execution_count": 585,
   "id": "b3824faa",
   "metadata": {},
   "outputs": [],
   "source": [
    "invModel=[np.array([operators[7],operators[13]]),[variableSelect(0)],[]]"
   ]
  },
  {
   "cell_type": "code",
   "execution_count": 586,
   "id": "dc3dfa49",
   "metadata": {},
   "outputs": [
    {
     "data": {
      "text/plain": [
       "[array([<function inv at 0x000002813605CAE0>,\n",
       "        <function arctan at 0x000002813605CEA0>], dtype=object),\n",
       " [<function StackGP.variableSelect.<locals>.<lambda>(variables)>],\n",
       " []]"
      ]
     },
     "execution_count": 586,
     "metadata": {},
     "output_type": "execute_result"
    }
   ],
   "source": [
    "invModel"
   ]
  },
  {
   "cell_type": "code",
   "execution_count": 587,
   "id": "7d18474e",
   "metadata": {},
   "outputs": [],
   "source": [
    "inputData=np.array([np.arange(-1,1,.0013)])\n",
    "response=inputData[0]"
   ]
  },
  {
   "cell_type": "code",
   "execution_count": 588,
   "id": "0982f9c8",
   "metadata": {},
   "outputs": [
    {
     "data": {
      "text/plain": [
       "0.0007267459952608889"
      ]
     },
     "execution_count": 588,
     "metadata": {},
     "output_type": "execute_result"
    }
   ],
   "source": [
    "totalSharpness(invModel,inputData,response,numPerturbations=4000,percentPerturbation=0.2)"
   ]
  },
  {
   "cell_type": "code",
   "execution_count": null,
   "id": "474e8035",
   "metadata": {},
   "outputs": [],
   "source": []
  },
  {
   "cell_type": "code",
   "execution_count": 589,
   "id": "f140a95c",
   "metadata": {},
   "outputs": [],
   "source": [
    "from StackGP import *\n",
    "import numpy as np"
   ]
  },
  {
   "cell_type": "code",
   "execution_count": 590,
   "id": "b24c8c7d",
   "metadata": {},
   "outputs": [],
   "source": [
    "operators=allOps()"
   ]
  },
  {
   "cell_type": "code",
   "execution_count": 591,
   "id": "c89b0cd9",
   "metadata": {},
   "outputs": [],
   "source": [
    "#Define inverse function to generate data\n",
    "def invFunc(x0):\n",
    "    return np.inv(x0)"
   ]
  },
  {
   "cell_type": "code",
   "execution_count": 592,
   "id": "0f5b2cca",
   "metadata": {},
   "outputs": [],
   "source": [
    "invModel=[np.array([operators[7],operators[14]]),[variableSelect(0)],[]]"
   ]
  },
  {
   "cell_type": "code",
   "execution_count": 593,
   "id": "a434df70",
   "metadata": {},
   "outputs": [
    {
     "data": {
      "text/plain": [
       "[array([<function inv at 0x000002813605CAE0>,\n",
       "        <function tanh at 0x000002813605CF40>], dtype=object),\n",
       " [<function StackGP.variableSelect.<locals>.<lambda>(variables)>],\n",
       " []]"
      ]
     },
     "execution_count": 593,
     "metadata": {},
     "output_type": "execute_result"
    }
   ],
   "source": [
    "invModel"
   ]
  },
  {
   "cell_type": "code",
   "execution_count": 594,
   "id": "cc6b5038",
   "metadata": {},
   "outputs": [],
   "source": [
    "inputData=np.array([np.arange(-1,1,.0013)])\n",
    "response=inputData[0]"
   ]
  },
  {
   "cell_type": "code",
   "execution_count": 595,
   "id": "5fcb2401",
   "metadata": {},
   "outputs": [
    {
     "data": {
      "text/plain": [
       "0.00047552765235566976"
      ]
     },
     "execution_count": 595,
     "metadata": {},
     "output_type": "execute_result"
    }
   ],
   "source": [
    "totalSharpness(invModel,inputData,response,numPerturbations=4000,percentPerturbation=0.2)"
   ]
  },
  {
   "cell_type": "code",
   "execution_count": null,
   "id": "db3ab2aa",
   "metadata": {},
   "outputs": [],
   "source": []
  },
  {
   "cell_type": "code",
   "execution_count": 596,
   "id": "9c0f0abb",
   "metadata": {},
   "outputs": [],
   "source": [
    "from StackGP import *\n",
    "import numpy as np"
   ]
  },
  {
   "cell_type": "code",
   "execution_count": 597,
   "id": "a78a1b65",
   "metadata": {},
   "outputs": [],
   "source": [
    "operators=allOps()"
   ]
  },
  {
   "cell_type": "code",
   "execution_count": 598,
   "id": "68c286ff",
   "metadata": {},
   "outputs": [],
   "source": [
    "#Define inverse function to generate data\n",
    "def invFunc(x0):\n",
    "    return np.inv(x0)"
   ]
  },
  {
   "cell_type": "code",
   "execution_count": 599,
   "id": "1abb7582",
   "metadata": {},
   "outputs": [],
   "source": [
    "invModel=[np.array([operators[7],operators[15]]),[variableSelect(0)],[]]"
   ]
  },
  {
   "cell_type": "code",
   "execution_count": 600,
   "id": "4a99b679",
   "metadata": {},
   "outputs": [
    {
     "data": {
      "text/plain": [
       "[array([<function inv at 0x000002813605CAE0>,\n",
       "        <function log at 0x000002813605CFE0>], dtype=object),\n",
       " [<function StackGP.variableSelect.<locals>.<lambda>(variables)>],\n",
       " []]"
      ]
     },
     "execution_count": 600,
     "metadata": {},
     "output_type": "execute_result"
    }
   ],
   "source": [
    "invModel"
   ]
  },
  {
   "cell_type": "code",
   "execution_count": 601,
   "id": "968189e8",
   "metadata": {},
   "outputs": [],
   "source": [
    "inputData=np.array([np.arange(-1,1,.0013)])\n",
    "response=inputData[0]"
   ]
  },
  {
   "cell_type": "code",
   "execution_count": 602,
   "id": "10eabb2e",
   "metadata": {},
   "outputs": [
    {
     "data": {
      "text/plain": [
       "nan"
      ]
     },
     "execution_count": 602,
     "metadata": {},
     "output_type": "execute_result"
    }
   ],
   "source": [
    "totalSharpness(invModel,inputData,response,numPerturbations=4000,percentPerturbation=0.2)"
   ]
  },
  {
   "cell_type": "code",
   "execution_count": null,
   "id": "e6660a8f",
   "metadata": {},
   "outputs": [],
   "source": []
  },
  {
   "cell_type": "code",
   "execution_count": 604,
   "id": "9ba3a6e8",
   "metadata": {},
   "outputs": [
    {
     "data": {
      "image/png": "[encoded data removed]",
      "text/plain": [
       "<Figure size 1000x500 with 1 Axes>"
      ]
     },
     "metadata": {},
     "output_type": "display_data"
    }
   ],
   "source": [
    "import numpy as np\n",
    "import matplotlib.pyplot as plt \n",
    "\n",
    " \n",
    "# creating the dataset\n",
    "data = {'inv':0.078090962, 'inv x inv':0.0000771814,'exp':1,'sqrt':1,'log':1,'sin':0.007023233,'tan':0.001475766,'arctan':0.00072674,'tanh':0.000475527,'cos':0.0000312093,'sqrd':0.00000213984}\n",
    "courses = list(data.keys())\n",
    "values = list(data.values())\n",
    " \n",
    "fig = plt.figure(figsize = (10, 5))\n",
    "\n",
    "# creating the bar plot\n",
    "plt.bar(courses, values, color ='maroon', \n",
    "        width = 0.4)\n",
    "\n",
    "plt.xlabel(\"Functions\")\n",
    "plt.ylabel(\"Inv\")\n",
    "plt.title(\"Inverse Function Combinations [-1,1]\")\n",
    "plt.yscale(\"log\")\n",
    "plt.show()\n"
   ]
  },
  {
   "cell_type": "markdown",
   "id": "ccbe74e9",
   "metadata": {},
   "source": [
    "# Tanh Function Combinations"
   ]
  },
  {
   "cell_type": "code",
   "execution_count": 605,
   "id": "dda2b41f",
   "metadata": {},
   "outputs": [],
   "source": [
    "from StackGP import *\n",
    "import numpy as np"
   ]
  },
  {
   "cell_type": "code",
   "execution_count": 606,
   "id": "b4decaf1",
   "metadata": {},
   "outputs": [],
   "source": [
    "operators=allOps()"
   ]
  },
  {
   "cell_type": "code",
   "execution_count": 607,
   "id": "ce88599b",
   "metadata": {},
   "outputs": [],
   "source": [
    "#Define hyperbolic tangent function to generate data\n",
    "def tanhFunc(x0):\n",
    "    return np.tanh(x0)"
   ]
  },
  {
   "cell_type": "code",
   "execution_count": 608,
   "id": "bd98831b",
   "metadata": {},
   "outputs": [],
   "source": [
    "tanhModel=[np.array([operators[14],operators[4]]),[variableSelect(0)],[]]"
   ]
  },
  {
   "cell_type": "code",
   "execution_count": 609,
   "id": "e0640c28",
   "metadata": {},
   "outputs": [
    {
     "data": {
      "text/plain": [
       "[array([<function tanh at 0x000002813605CF40>,\n",
       "        <function exp at 0x000002813605C860>], dtype=object),\n",
       " [<function StackGP.variableSelect.<locals>.<lambda>(variables)>],\n",
       " []]"
      ]
     },
     "execution_count": 609,
     "metadata": {},
     "output_type": "execute_result"
    }
   ],
   "source": [
    "tanhModel"
   ]
  },
  {
   "cell_type": "code",
   "execution_count": 610,
   "id": "ea1e44e9",
   "metadata": {},
   "outputs": [],
   "source": [
    "inputData=np.array([np.arange(-1,1,.0013)])\n",
    "response=inputData[0]"
   ]
  },
  {
   "cell_type": "code",
   "execution_count": 611,
   "id": "a638fa61",
   "metadata": {},
   "outputs": [
    {
     "data": {
      "text/plain": [
       "0.00041541891365387757"
      ]
     },
     "execution_count": 611,
     "metadata": {},
     "output_type": "execute_result"
    }
   ],
   "source": [
    "totalSharpness(tanhModel,inputData,response,numPerturbations=4000,percentPerturbation=0.2)"
   ]
  },
  {
   "cell_type": "code",
   "execution_count": 612,
   "id": "4a46c9ee",
   "metadata": {},
   "outputs": [],
   "source": [
    "from StackGP import *\n",
    "import numpy as np"
   ]
  },
  {
   "cell_type": "code",
   "execution_count": 613,
   "id": "6435048d",
   "metadata": {},
   "outputs": [],
   "source": [
    "operators=allOps()"
   ]
  },
  {
   "cell_type": "code",
   "execution_count": 614,
   "id": "8085d1ff",
   "metadata": {},
   "outputs": [],
   "source": [
    "#Define hyperbolic tangent function to generate data\n",
    "def tanhFunc(x0):\n",
    "    return np.tanh(x0)"
   ]
  },
  {
   "cell_type": "code",
   "execution_count": 615,
   "id": "ffc76593",
   "metadata": {},
   "outputs": [],
   "source": [
    "tanhModel=[np.array([operators[14],operators[5]]),[variableSelect(0)],[]]"
   ]
  },
  {
   "cell_type": "code",
   "execution_count": 616,
   "id": "91bca8be",
   "metadata": {},
   "outputs": [
    {
     "data": {
      "text/plain": [
       "[array([<function tanh at 0x000002813605CF40>,\n",
       "        <function sqrd at 0x000002813605CA40>], dtype=object),\n",
       " [<function StackGP.variableSelect.<locals>.<lambda>(variables)>],\n",
       " []]"
      ]
     },
     "execution_count": 616,
     "metadata": {},
     "output_type": "execute_result"
    }
   ],
   "source": [
    "tanhModel"
   ]
  },
  {
   "cell_type": "code",
   "execution_count": 617,
   "id": "a435ce37",
   "metadata": {},
   "outputs": [],
   "source": [
    "inputData=np.array([np.arange(-1,1,.0013)])\n",
    "response=inputData[0]"
   ]
  },
  {
   "cell_type": "code",
   "execution_count": 618,
   "id": "206a58f3",
   "metadata": {},
   "outputs": [
    {
     "data": {
      "text/plain": [
       "1.571227483540875e-05"
      ]
     },
     "execution_count": 618,
     "metadata": {},
     "output_type": "execute_result"
    }
   ],
   "source": [
    "totalSharpness(tanhModel,inputData,response,numPerturbations=4000,percentPerturbation=0.2)"
   ]
  },
  {
   "cell_type": "code",
   "execution_count": 619,
   "id": "8ef01b72",
   "metadata": {},
   "outputs": [],
   "source": [
    "from StackGP import *\n",
    "import numpy as np"
   ]
  },
  {
   "cell_type": "code",
   "execution_count": 620,
   "id": "7f6090f5",
   "metadata": {},
   "outputs": [],
   "source": [
    "operators=allOps()"
   ]
  },
  {
   "cell_type": "code",
   "execution_count": 621,
   "id": "9b378f26",
   "metadata": {},
   "outputs": [],
   "source": [
    "#Define hyperbolic tangent function to generate data\n",
    "def tanhFunc(x0):\n",
    "    return np.tanh(x0)"
   ]
  },
  {
   "cell_type": "code",
   "execution_count": 622,
   "id": "bb62fe99",
   "metadata": {},
   "outputs": [],
   "source": [
    "tanhModel=[np.array([operators[14],operators[6]]),[variableSelect(0)],[]]"
   ]
  },
  {
   "cell_type": "code",
   "execution_count": 623,
   "id": "5908ca44",
   "metadata": {},
   "outputs": [
    {
     "data": {
      "text/plain": [
       "[array([<function tanh at 0x000002813605CF40>,\n",
       "        <function sqrt at 0x000002813605C9A0>], dtype=object),\n",
       " [<function StackGP.variableSelect.<locals>.<lambda>(variables)>],\n",
       " []]"
      ]
     },
     "execution_count": 623,
     "metadata": {},
     "output_type": "execute_result"
    }
   ],
   "source": [
    "tanhModel"
   ]
  },
  {
   "cell_type": "code",
   "execution_count": 624,
   "id": "9c8af736",
   "metadata": {},
   "outputs": [],
   "source": [
    "inputData=np.array([np.arange(-1,1,.0013)])\n",
    "response=inputData[0]"
   ]
  },
  {
   "cell_type": "code",
   "execution_count": 625,
   "id": "e314d25f",
   "metadata": {},
   "outputs": [
    {
     "data": {
      "text/plain": [
       "nan"
      ]
     },
     "execution_count": 625,
     "metadata": {},
     "output_type": "execute_result"
    }
   ],
   "source": [
    "totalSharpness(tanhModel,inputData,response,numPerturbations=4000,percentPerturbation=0.2)"
   ]
  },
  {
   "cell_type": "code",
   "execution_count": 626,
   "id": "9c654af5",
   "metadata": {},
   "outputs": [],
   "source": [
    "from StackGP import *\n",
    "import numpy as np"
   ]
  },
  {
   "cell_type": "code",
   "execution_count": 627,
   "id": "24315e18",
   "metadata": {},
   "outputs": [],
   "source": [
    "operators=allOps()"
   ]
  },
  {
   "cell_type": "code",
   "execution_count": 628,
   "id": "e0247353",
   "metadata": {},
   "outputs": [],
   "source": [
    "#Define hyperbolic tangent function to generate data\n",
    "def tanhFunc(x0):\n",
    "    return np.tanh(x0)"
   ]
  },
  {
   "cell_type": "code",
   "execution_count": 629,
   "id": "501ff61b",
   "metadata": {},
   "outputs": [],
   "source": [
    "tanhModel=[np.array([operators[14],operators[7]]),[variableSelect(0)],[]]"
   ]
  },
  {
   "cell_type": "code",
   "execution_count": 630,
   "id": "c2a77f6e",
   "metadata": {},
   "outputs": [
    {
     "data": {
      "text/plain": [
       "[array([<function tanh at 0x000002813605CF40>,\n",
       "        <function inv at 0x000002813605CAE0>], dtype=object),\n",
       " [<function StackGP.variableSelect.<locals>.<lambda>(variables)>],\n",
       " []]"
      ]
     },
     "execution_count": 630,
     "metadata": {},
     "output_type": "execute_result"
    }
   ],
   "source": [
    "tanhModel"
   ]
  },
  {
   "cell_type": "code",
   "execution_count": 631,
   "id": "a79d08c7",
   "metadata": {},
   "outputs": [],
   "source": [
    "inputData=np.array([np.arange(-1,1,.0013)])\n",
    "response=inputData[0]"
   ]
  },
  {
   "cell_type": "code",
   "execution_count": 632,
   "id": "97c551d2",
   "metadata": {},
   "outputs": [
    {
     "data": {
      "text/plain": [
       "0.002065399904334472"
      ]
     },
     "execution_count": 632,
     "metadata": {},
     "output_type": "execute_result"
    }
   ],
   "source": [
    "totalSharpness(tanhModel,inputData,response,numPerturbations=4000,percentPerturbation=0.2)"
   ]
  },
  {
   "cell_type": "code",
   "execution_count": 634,
   "id": "0c0ced95",
   "metadata": {},
   "outputs": [],
   "source": [
    "from StackGP import *\n",
    "import numpy as np"
   ]
  },
  {
   "cell_type": "code",
   "execution_count": 635,
   "id": "02b9d3e3",
   "metadata": {},
   "outputs": [],
   "source": [
    "operators=allOps()"
   ]
  },
  {
   "cell_type": "code",
   "execution_count": 636,
   "id": "dc015bca",
   "metadata": {},
   "outputs": [],
   "source": [
    "#Define hyperbolic tangent function to generate data\n",
    "def tanhFunc(x0):\n",
    "    return np.tanh(x0)"
   ]
  },
  {
   "cell_type": "code",
   "execution_count": 637,
   "id": "040fe6b3",
   "metadata": {},
   "outputs": [],
   "source": [
    "tanhModel=[np.array([operators[14],operators[8]]),[variableSelect(0)],[]]"
   ]
  },
  {
   "cell_type": "code",
   "execution_count": 638,
   "id": "8edb9469",
   "metadata": {},
   "outputs": [
    {
     "data": {
      "text/plain": [
       "[array([<function tanh at 0x000002813605CF40>,\n",
       "        <function cos at 0x000002813605CC20>], dtype=object),\n",
       " [<function StackGP.variableSelect.<locals>.<lambda>(variables)>],\n",
       " []]"
      ]
     },
     "execution_count": 638,
     "metadata": {},
     "output_type": "execute_result"
    }
   ],
   "source": [
    "tanhModel"
   ]
  },
  {
   "cell_type": "code",
   "execution_count": 639,
   "id": "10e063e5",
   "metadata": {},
   "outputs": [],
   "source": [
    "inputData=np.array([np.arange(-1,1,.0013)])\n",
    "response=inputData[0]"
   ]
  },
  {
   "cell_type": "code",
   "execution_count": 640,
   "id": "ff3f5dd3",
   "metadata": {},
   "outputs": [
    {
     "data": {
      "text/plain": [
       "1.518482648657217e-05"
      ]
     },
     "execution_count": 640,
     "metadata": {},
     "output_type": "execute_result"
    }
   ],
   "source": [
    "totalSharpness(tanhModel,inputData,response,numPerturbations=4000,percentPerturbation=0.2)"
   ]
  },
  {
   "cell_type": "code",
   "execution_count": 641,
   "id": "0f98a7d5",
   "metadata": {},
   "outputs": [],
   "source": [
    "from StackGP import *\n",
    "import numpy as np"
   ]
  },
  {
   "cell_type": "code",
   "execution_count": 642,
   "id": "14db315d",
   "metadata": {},
   "outputs": [],
   "source": [
    "operators=allOps()"
   ]
  },
  {
   "cell_type": "code",
   "execution_count": 643,
   "id": "40dcb911",
   "metadata": {},
   "outputs": [],
   "source": [
    "#Define hyperbolic tangent function to generate data\n",
    "def tanhFunc(x0):\n",
    "    return np.tanh(x0)"
   ]
  },
  {
   "cell_type": "code",
   "execution_count": 644,
   "id": "de4a9c17",
   "metadata": {},
   "outputs": [],
   "source": [
    "tanhModel=[np.array([operators[14],operators[9]]),[variableSelect(0)],[]]"
   ]
  },
  {
   "cell_type": "code",
   "execution_count": 645,
   "id": "0b081d4b",
   "metadata": {},
   "outputs": [
    {
     "data": {
      "text/plain": [
       "[array([<function tanh at 0x000002813605CF40>,\n",
       "        <function sin at 0x000002813605CB80>], dtype=object),\n",
       " [<function StackGP.variableSelect.<locals>.<lambda>(variables)>],\n",
       " []]"
      ]
     },
     "execution_count": 645,
     "metadata": {},
     "output_type": "execute_result"
    }
   ],
   "source": [
    "tanhModel"
   ]
  },
  {
   "cell_type": "code",
   "execution_count": 646,
   "id": "44d92d4e",
   "metadata": {},
   "outputs": [],
   "source": [
    "inputData=np.array([np.arange(-1,1,.0013)])\n",
    "response=inputData[0]"
   ]
  },
  {
   "cell_type": "code",
   "execution_count": 647,
   "id": "348ffa11",
   "metadata": {},
   "outputs": [
    {
     "data": {
      "text/plain": [
       "0.00022893803669768578"
      ]
     },
     "execution_count": 647,
     "metadata": {},
     "output_type": "execute_result"
    }
   ],
   "source": [
    "totalSharpness(tanhModel,inputData,response,numPerturbations=4000,percentPerturbation=0.2)"
   ]
  },
  {
   "cell_type": "code",
   "execution_count": 648,
   "id": "3a178f70",
   "metadata": {},
   "outputs": [],
   "source": [
    "from StackGP import *\n",
    "import numpy as np"
   ]
  },
  {
   "cell_type": "code",
   "execution_count": 649,
   "id": "798155cd",
   "metadata": {},
   "outputs": [],
   "source": [
    "operators=allOps()"
   ]
  },
  {
   "cell_type": "code",
   "execution_count": 650,
   "id": "21aabf49",
   "metadata": {},
   "outputs": [],
   "source": [
    "#Define hyperbolic tangent function to generate data\n",
    "def tanhFunc(x0):\n",
    "    return np.tanh(x0)"
   ]
  },
  {
   "cell_type": "code",
   "execution_count": 651,
   "id": "af7ac253",
   "metadata": {},
   "outputs": [],
   "source": [
    "tanhModel=[np.array([operators[14],operators[10]]),[variableSelect(0)],[]]"
   ]
  },
  {
   "cell_type": "code",
   "execution_count": 652,
   "id": "6c20e038",
   "metadata": {},
   "outputs": [
    {
     "data": {
      "text/plain": [
       "[array([<function tanh at 0x000002813605CF40>,\n",
       "        <function tan at 0x000002813605CCC0>], dtype=object),\n",
       " [<function StackGP.variableSelect.<locals>.<lambda>(variables)>],\n",
       " []]"
      ]
     },
     "execution_count": 652,
     "metadata": {},
     "output_type": "execute_result"
    }
   ],
   "source": [
    "tanhModel"
   ]
  },
  {
   "cell_type": "code",
   "execution_count": 653,
   "id": "2c955d0a",
   "metadata": {},
   "outputs": [],
   "source": [
    "inputData=np.array([np.arange(-1,1,.0013)])\n",
    "response=inputData[0]"
   ]
  },
  {
   "cell_type": "code",
   "execution_count": 654,
   "id": "01678f1f",
   "metadata": {},
   "outputs": [
    {
     "data": {
      "text/plain": [
       "8.183119745262147e-05"
      ]
     },
     "execution_count": 654,
     "metadata": {},
     "output_type": "execute_result"
    }
   ],
   "source": [
    "totalSharpness(tanhModel,inputData,response,numPerturbations=4000,percentPerturbation=0.2)"
   ]
  },
  {
   "cell_type": "code",
   "execution_count": 655,
   "id": "0b4e416d",
   "metadata": {},
   "outputs": [],
   "source": [
    "from StackGP import *\n",
    "import numpy as np"
   ]
  },
  {
   "cell_type": "code",
   "execution_count": 656,
   "id": "214d049a",
   "metadata": {},
   "outputs": [],
   "source": [
    "operators=allOps()"
   ]
  },
  {
   "cell_type": "code",
   "execution_count": 657,
   "id": "08dfeb2b",
   "metadata": {},
   "outputs": [],
   "source": [
    "#Define hyperbolic tangent function to generate data\n",
    "def tanhFunc(x0):\n",
    "    return np.tanh(x0)"
   ]
  },
  {
   "cell_type": "code",
   "execution_count": 658,
   "id": "f259db87",
   "metadata": {},
   "outputs": [],
   "source": [
    "tanhModel=[np.array([operators[14],operators[13]]),[variableSelect(0)],[]]"
   ]
  },
  {
   "cell_type": "code",
   "execution_count": 659,
   "id": "e4663e90",
   "metadata": {},
   "outputs": [
    {
     "data": {
      "text/plain": [
       "[array([<function tanh at 0x000002813605CF40>,\n",
       "        <function arctan at 0x000002813605CEA0>], dtype=object),\n",
       " [<function StackGP.variableSelect.<locals>.<lambda>(variables)>],\n",
       " []]"
      ]
     },
     "execution_count": 659,
     "metadata": {},
     "output_type": "execute_result"
    }
   ],
   "source": [
    "tanhModel"
   ]
  },
  {
   "cell_type": "code",
   "execution_count": 660,
   "id": "a1f6c5d0",
   "metadata": {},
   "outputs": [],
   "source": [
    "inputData=np.array([np.arange(-1,1,.0013)])\n",
    "response=inputData[0]"
   ]
  },
  {
   "cell_type": "code",
   "execution_count": 661,
   "id": "df6a8665",
   "metadata": {},
   "outputs": [
    {
     "data": {
      "text/plain": [
       "0.0002507667854414785"
      ]
     },
     "execution_count": 661,
     "metadata": {},
     "output_type": "execute_result"
    }
   ],
   "source": [
    "totalSharpness(tanhModel,inputData,response,numPerturbations=4000,percentPerturbation=0.2)"
   ]
  },
  {
   "cell_type": "code",
   "execution_count": 662,
   "id": "c90fb63e",
   "metadata": {},
   "outputs": [],
   "source": [
    "from StackGP import *\n",
    "import numpy as np"
   ]
  },
  {
   "cell_type": "code",
   "execution_count": 663,
   "id": "974e1c22",
   "metadata": {},
   "outputs": [],
   "source": [
    "operators=allOps()"
   ]
  },
  {
   "cell_type": "code",
   "execution_count": 664,
   "id": "d4315858",
   "metadata": {},
   "outputs": [],
   "source": [
    "#Define hyperbolic tangent function to generate data\n",
    "def tanhFunc(x0):\n",
    "    return np.tanh(x0)"
   ]
  },
  {
   "cell_type": "code",
   "execution_count": 665,
   "id": "0319a381",
   "metadata": {},
   "outputs": [],
   "source": [
    "tanhModel=[np.array([operators[14],operators[15]]),[variableSelect(0)],[]]"
   ]
  },
  {
   "cell_type": "code",
   "execution_count": 666,
   "id": "00a6eb8e",
   "metadata": {},
   "outputs": [
    {
     "data": {
      "text/plain": [
       "[array([<function tanh at 0x000002813605CF40>,\n",
       "        <function log at 0x000002813605CFE0>], dtype=object),\n",
       " [<function StackGP.variableSelect.<locals>.<lambda>(variables)>],\n",
       " []]"
      ]
     },
     "execution_count": 666,
     "metadata": {},
     "output_type": "execute_result"
    }
   ],
   "source": [
    "tanhModel"
   ]
  },
  {
   "cell_type": "code",
   "execution_count": 667,
   "id": "e7c87a76",
   "metadata": {},
   "outputs": [],
   "source": [
    "inputData=np.array([np.arange(-1,1,.0013)])\n",
    "response=inputData[0]"
   ]
  },
  {
   "cell_type": "code",
   "execution_count": 668,
   "id": "d103e139",
   "metadata": {},
   "outputs": [
    {
     "data": {
      "text/plain": [
       "nan"
      ]
     },
     "execution_count": 668,
     "metadata": {},
     "output_type": "execute_result"
    }
   ],
   "source": [
    "totalSharpness(tanhModel,inputData,response,numPerturbations=4000,percentPerturbation=0.2)"
   ]
  },
  {
   "cell_type": "code",
   "execution_count": 669,
   "id": "6f3d3cec",
   "metadata": {},
   "outputs": [
    {
     "data": {
      "image/png": "[encoded data removed]",
      "text/plain": [
       "<Figure size 1000x500 with 1 Axes>"
      ]
     },
     "metadata": {},
     "output_type": "display_data"
    }
   ],
   "source": [
    "# import numpy as np\n",
    "import matplotlib.pyplot as plt \n",
    "\n",
    " \n",
    "# creating the dataset\n",
    "data = {'tanh':0.0000718436,'tanh x tanh':0.000261726,'sqrt':1,'log':1,'inv':0.002065399,'exp':0.0004154189,'arctan':0.000250766,'sin':0.00022893,'tan':0.00008183119,'sqrd':0.0000157122,'cos':0.000015184}\n",
    "courses = list(data.keys())\n",
    "values = list(data.values())\n",
    " \n",
    "fig = plt.figure(figsize = (10, 5))\n",
    "\n",
    "# creating the bar plot\n",
    "plt.bar(courses, values, color ='maroon', \n",
    "        width = 0.4)\n",
    "\n",
    "plt.xlabel(\"Functions\")\n",
    "plt.ylabel(\"Tanh\")\n",
    "plt.yscale(\"log\")\n",
    "plt.title(\"Hyperbolic Tangent Function Combinations [-1,1]\")\n",
    "plt.show()"
   ]
  },
  {
   "cell_type": "markdown",
   "id": "54cfe9c7",
   "metadata": {},
   "source": [
    "# Logarithmic Function Combinations"
   ]
  },
  {
   "cell_type": "code",
   "execution_count": 670,
   "id": "38de601f",
   "metadata": {},
   "outputs": [],
   "source": [
    "from StackGP import *\n",
    "import numpy as np"
   ]
  },
  {
   "cell_type": "code",
   "execution_count": 671,
   "id": "2e72df1f",
   "metadata": {},
   "outputs": [],
   "source": [
    "operators=allOps()"
   ]
  },
  {
   "cell_type": "code",
   "execution_count": 672,
   "id": "47737563",
   "metadata": {},
   "outputs": [],
   "source": [
    "#Define logarithmic function to generate data\n",
    "def logFunc(x0):\n",
    "    return np.log(x0)"
   ]
  },
  {
   "cell_type": "code",
   "execution_count": 673,
   "id": "7863abf4",
   "metadata": {},
   "outputs": [],
   "source": [
    "logModel=[np.array([operators[15],operators[4]]),[variableSelect(0)],[]]"
   ]
  },
  {
   "cell_type": "code",
   "execution_count": 674,
   "id": "0fd72dcb",
   "metadata": {},
   "outputs": [
    {
     "data": {
      "text/plain": [
       "[array([<function log at 0x000002813605CFE0>,\n",
       "        <function exp at 0x000002813605C860>], dtype=object),\n",
       " [<function StackGP.variableSelect.<locals>.<lambda>(variables)>],\n",
       " []]"
      ]
     },
     "execution_count": 674,
     "metadata": {},
     "output_type": "execute_result"
    }
   ],
   "source": [
    "logModel"
   ]
  },
  {
   "cell_type": "code",
   "execution_count": 675,
   "id": "88c246fb",
   "metadata": {},
   "outputs": [],
   "source": [
    "inputData=np.array([np.arange(-1,1,.0013)])\n",
    "response=inputData[0]"
   ]
  },
  {
   "cell_type": "code",
   "execution_count": 676,
   "id": "ef1527ba",
   "metadata": {},
   "outputs": [
    {
     "data": {
      "text/plain": [
       "nan"
      ]
     },
     "execution_count": 676,
     "metadata": {},
     "output_type": "execute_result"
    }
   ],
   "source": [
    "totalSharpness(logModel,inputData,response,numPerturbations=4000,percentPerturbation=0.2)"
   ]
  },
  {
   "cell_type": "code",
   "execution_count": null,
   "id": "c3758b12",
   "metadata": {},
   "outputs": [],
   "source": []
  },
  {
   "cell_type": "code",
   "execution_count": 677,
   "id": "d060741f",
   "metadata": {},
   "outputs": [],
   "source": [
    "from StackGP import *\n",
    "import numpy as np"
   ]
  },
  {
   "cell_type": "code",
   "execution_count": 678,
   "id": "2c2b4771",
   "metadata": {},
   "outputs": [],
   "source": [
    "operators=allOps()"
   ]
  },
  {
   "cell_type": "code",
   "execution_count": 679,
   "id": "3442be3b",
   "metadata": {},
   "outputs": [],
   "source": [
    "#Define logarithmic function to generate data\n",
    "def logFunc(x0):\n",
    "    return np.log(x0)"
   ]
  },
  {
   "cell_type": "code",
   "execution_count": 680,
   "id": "e955c418",
   "metadata": {},
   "outputs": [],
   "source": [
    "logModel=[np.array([operators[15],operators[5]]),[variableSelect(0)],[]]"
   ]
  },
  {
   "cell_type": "code",
   "execution_count": 681,
   "id": "ae6206ae",
   "metadata": {},
   "outputs": [
    {
     "data": {
      "text/plain": [
       "[array([<function log at 0x000002813605CFE0>,\n",
       "        <function sqrd at 0x000002813605CA40>], dtype=object),\n",
       " [<function StackGP.variableSelect.<locals>.<lambda>(variables)>],\n",
       " []]"
      ]
     },
     "execution_count": 681,
     "metadata": {},
     "output_type": "execute_result"
    }
   ],
   "source": [
    "logModel"
   ]
  },
  {
   "cell_type": "code",
   "execution_count": 682,
   "id": "eb3721b2",
   "metadata": {},
   "outputs": [],
   "source": [
    "inputData=np.array([np.arange(-1,1,.0013)])\n",
    "response=inputData[0]"
   ]
  },
  {
   "cell_type": "code",
   "execution_count": 683,
   "id": "eeeaeb08",
   "metadata": {},
   "outputs": [
    {
     "data": {
      "text/plain": [
       "nan"
      ]
     },
     "execution_count": 683,
     "metadata": {},
     "output_type": "execute_result"
    }
   ],
   "source": [
    "totalSharpness(logModel,inputData,response,numPerturbations=4000,percentPerturbation=0.2)"
   ]
  },
  {
   "cell_type": "code",
   "execution_count": null,
   "id": "941d774a",
   "metadata": {},
   "outputs": [],
   "source": []
  },
  {
   "cell_type": "code",
   "execution_count": 684,
   "id": "e9e9cf69",
   "metadata": {},
   "outputs": [],
   "source": [
    "from StackGP import *\n",
    "import numpy as np"
   ]
  },
  {
   "cell_type": "code",
   "execution_count": 685,
   "id": "cb4c9dd8",
   "metadata": {},
   "outputs": [],
   "source": [
    "operators=allOps()"
   ]
  },
  {
   "cell_type": "code",
   "execution_count": 686,
   "id": "9bdf98f6",
   "metadata": {},
   "outputs": [],
   "source": [
    "#Define logarithmic function to generate data\n",
    "def logFunc(x0):\n",
    "    return np.log(x0)"
   ]
  },
  {
   "cell_type": "code",
   "execution_count": 687,
   "id": "c07df697",
   "metadata": {},
   "outputs": [],
   "source": [
    "logModel=[np.array([operators[15],operators[6]]),[variableSelect(0)],[]]"
   ]
  },
  {
   "cell_type": "code",
   "execution_count": 688,
   "id": "ec2c1ee3",
   "metadata": {},
   "outputs": [
    {
     "data": {
      "text/plain": [
       "[array([<function log at 0x000002813605CFE0>,\n",
       "        <function sqrt at 0x000002813605C9A0>], dtype=object),\n",
       " [<function StackGP.variableSelect.<locals>.<lambda>(variables)>],\n",
       " []]"
      ]
     },
     "execution_count": 688,
     "metadata": {},
     "output_type": "execute_result"
    }
   ],
   "source": [
    "logModel"
   ]
  },
  {
   "cell_type": "code",
   "execution_count": 689,
   "id": "d08e3396",
   "metadata": {},
   "outputs": [],
   "source": [
    "inputData=np.array([np.arange(-1,1,.0013)])\n",
    "response=inputData[0]"
   ]
  },
  {
   "cell_type": "code",
   "execution_count": 690,
   "id": "89aecef6",
   "metadata": {},
   "outputs": [
    {
     "data": {
      "text/plain": [
       "nan"
      ]
     },
     "execution_count": 690,
     "metadata": {},
     "output_type": "execute_result"
    }
   ],
   "source": [
    "totalSharpness(logModel,inputData,response,numPerturbations=4000,percentPerturbation=0.2)"
   ]
  },
  {
   "cell_type": "code",
   "execution_count": null,
   "id": "cb888953",
   "metadata": {},
   "outputs": [],
   "source": []
  },
  {
   "cell_type": "code",
   "execution_count": 691,
   "id": "7639f370",
   "metadata": {},
   "outputs": [
    {
     "data": {
      "image/png": "[encoded data removed]",
      "text/plain": [
       "<Figure size 1000x500 with 1 Axes>"
      ]
     },
     "metadata": {},
     "output_type": "display_data"
    }
   ],
   "source": [
    "import numpy as np\n",
    "import matplotlib.pyplot as plt \n",
    "\n",
    " \n",
    "# creating the dataset\n",
    "data = {'log':1,'log x log':1,'exp':1,'sqrd':1,'sqrt':1,'inv':1,'cos':1,'sin':1,'tan':1,'arctan':1,'tanh':1}\n",
    "courses = list(data.keys())\n",
    "values = list(data.values())\n",
    " \n",
    "fig = plt.figure(figsize = (10, 5))\n",
    "\n",
    "# creating the bar plot\n",
    "plt.bar(courses, values, color ='maroon', \n",
    "        width = 0.4)\n",
    "\n",
    "plt.xlabel(\"Functions\")\n",
    "plt.ylabel(\"Log\")\n",
    "plt.title(\"Logarithmic Function Combinations [-1,1]\")\n",
    "plt.yscale(\"log\")\n",
    "plt.show()\n"
   ]
  },
  {
   "cell_type": "code",
   "execution_count": 700,
   "id": "04f95e00",
   "metadata": {},
   "outputs": [
    {
     "data": {
      "image/png": "[encoded data removed]",
      "text/plain": [
       "<Figure size 1000x1000 with 16 Axes>"
      ]
     },
     "metadata": {},
     "output_type": "display_data"
    }
   ],
   "source": [
    "import pandas as pd\n",
    "import matplotlib.pyplot as plt\n",
    "\n",
    "# Create a sample DataFrame\n",
    "df = pd.DataFrame({\n",
    "    'A': range(1, 101),\n",
    "    'B': range(101, 201),\n",
    "    'C': range(201, 301),\n",
    "    'D': range(301, 401)\n",
    "})\n",
    "\n",
    "# Create scatter plot matrix\n",
    "pd.plotting.scatter_matrix(df, alpha=0.2, figsize=(10, 10), diagonal='kde')\n",
    "plt.show()\n"
   ]
  },
  {
   "cell_type": "code",
   "execution_count": 706,
   "id": "992556da",
   "metadata": {},
   "outputs": [],
   "source": [
    "a=np.array([[ 1,  1,  1,  1,  1,  1,  1,  1,  1,  1],\n",
    "       [ 1,  1,  1,  1,  1,  1,  1,  1,  1,  1],\n",
    "       [ 1,  1,  0.00338816,  1,  1,  1,  1,  1,  1,  1],\n",
    "       [ 0.000029706, 0.00000363161, 0.000046892, 0.00007895, 0.000002133, 0.0000686104, 0.0000229753, 0.00006859, 0.00001965, 0.000018798],\n",
    "       [ 1,  1,  1,  0.0000021398,  0.0000771814,  0.0000312093,  0.007023233,  0.001475766,  0.0007267,  0.000475527],\n",
    "       [ 0.0000318,  0.000037243,  0.0000192818,  0.0000187636,  0.0000538827,  0.000020363,  0.0000317587,  0.000016431,  0.000033151, 0.0000351718],\n",
    "       [ 1,  1,  0.00050320013,  0.0000186016,  0.0018892,  0.00001742,  0.0001905,  0.00011725,  0.0002182,  0.0002279],\n",
    "       [ 1,  1,  0.0046835,  0.00007852,  0.0012163,  0.000057162,  0.00008354,  0.019145106,  0.00007503, 0.000094817 ],\n",
    "       [ 1,  1,  0.00044311,  0.00001775,  0.00192352,  0.00001656,  0.000217,  0.0000761,  0.00024177, 0.000256],\n",
    "       [ 1,  1, 0.00041541,  0.00001571,  0.002065,  0.0000151, 0.0002289,  0.00008183119,  0.000250766, 0.000261726]])"
   ]
  },
  {
   "cell_type": "code",
   "execution_count": 708,
   "id": "130b5265",
   "metadata": {},
   "outputs": [
    {
     "data": {
      "image/png": "[encoded data removed]",
      "text/plain": [
       "<Figure size 480x480 with 1 Axes>"
      ]
     },
     "metadata": {},
     "output_type": "display_data"
    }
   ],
   "source": [
    "import matplotlib.pyplot as plt\n",
    "import numpy as np\n",
    "\n",
    "\n",
    "\n",
    "# Display the matrix as a color-coded image\n",
    "plt.matshow(a,norm=\"log\")\n",
    "plt.show()\n"
   ]
  },
  {
   "cell_type": "code",
   "execution_count": null,
   "id": "578fc061",
   "metadata": {},
   "outputs": [],
   "source": [
    "'sqrt':1,'log':1,'arcsin':1,'arccos':1,'tan':0.00060787562430,'inv':0.000598166,'sqrd':0.00030759390069,'tanh':0.000181543177158,'arctan':0.000161858,'sin':0.000130928233114,'cos':0.0000283447749,'exp':0.000027142735"
   ]
  },
  {
   "cell_type": "code",
   "execution_count": 709,
   "id": "d25f7706",
   "metadata": {},
   "outputs": [],
   "source": [
    "layer1Values=np.array([1,1,0.000027142735 ,0.00030759390069 ,0.000598166 ,0.0000283447749 ,0.000130928233114 ,0.00060787562430 ,0.000161858 ,0.000181543177158 ])"
   ]
  },
  {
   "cell_type": "code",
   "execution_count": 714,
   "id": "1e5c10e2",
   "metadata": {},
   "outputs": [],
   "source": [
    "diffMatrix=np.array([[a[i,j]-layer1Values[i] for j in range(10)] for i in range(10)])"
   ]
  },
  {
   "cell_type": "code",
   "execution_count": 715,
   "id": "c72fc264",
   "metadata": {},
   "outputs": [
    {
     "data": {
      "text/plain": [
       "array([[ 0.00000000e+00,  0.00000000e+00,  0.00000000e+00,\n",
       "         0.00000000e+00,  0.00000000e+00,  0.00000000e+00,\n",
       "         0.00000000e+00,  0.00000000e+00,  0.00000000e+00,\n",
       "         0.00000000e+00],\n",
       "       [ 0.00000000e+00,  0.00000000e+00,  0.00000000e+00,\n",
       "         0.00000000e+00,  0.00000000e+00,  0.00000000e+00,\n",
       "         0.00000000e+00,  0.00000000e+00,  0.00000000e+00,\n",
       "         0.00000000e+00],\n",
       "       [ 9.99972857e-01,  9.99972857e-01,  3.36101726e-03,\n",
       "         9.99972857e-01,  9.99972857e-01,  9.99972857e-01,\n",
       "         9.99972857e-01,  9.99972857e-01,  9.99972857e-01,\n",
       "         9.99972857e-01],\n",
       "       [-2.77887901e-04, -3.03962291e-04, -2.60701901e-04,\n",
       "        -2.28643901e-04, -3.05460901e-04, -2.38983501e-04,\n",
       "        -2.84618601e-04, -2.39003901e-04, -2.87943901e-04,\n",
       "        -2.88795901e-04],\n",
       "       [ 9.99401834e-01,  9.99401834e-01,  9.99401834e-01,\n",
       "        -5.96026200e-04, -5.20984600e-04, -5.66956700e-04,\n",
       "         6.42506700e-03,  8.77600000e-04,  1.28534000e-04,\n",
       "        -1.22639000e-04],\n",
       "       [ 3.45522510e-06,  8.89822510e-06, -9.06297490e-06,\n",
       "        -9.58117490e-06,  2.55379251e-05, -7.98177490e-06,\n",
       "         3.41392510e-06, -1.19137749e-05,  4.80622510e-06,\n",
       "         6.82702510e-06],\n",
       "       [ 9.99869072e-01,  9.99869072e-01,  3.72271897e-04,\n",
       "        -1.12326633e-04,  1.75827177e-03, -1.13508233e-04,\n",
       "         5.95717669e-05, -1.36782331e-05,  8.72717669e-05,\n",
       "         9.69717669e-05],\n",
       "       [ 9.99392124e-01,  9.99392124e-01,  4.07562438e-03,\n",
       "        -5.29355624e-04,  6.08424376e-04, -5.50713624e-04,\n",
       "        -5.24335624e-04,  1.85372304e-02, -5.32845624e-04,\n",
       "        -5.13058624e-04],\n",
       "       [ 9.99838142e-01,  9.99838142e-01,  2.81252000e-04,\n",
       "        -1.44108000e-04,  1.76166200e-03, -1.45298000e-04,\n",
       "         5.51420000e-05, -8.57580000e-05,  7.99120000e-05,\n",
       "         9.41420000e-05],\n",
       "       [ 9.99818457e-01,  9.99818457e-01,  2.33866823e-04,\n",
       "        -1.65833177e-04,  1.88345682e-03, -1.66443177e-04,\n",
       "         4.73568228e-05, -9.97119872e-05,  6.92228228e-05,\n",
       "         8.01828228e-05]])"
      ]
     },
     "execution_count": 715,
     "metadata": {},
     "output_type": "execute_result"
    }
   ],
   "source": [
    "diffMatrix"
   ]
  },
  {
   "cell_type": "code",
   "execution_count": 726,
   "id": "8e9ce8bd",
   "metadata": {},
   "outputs": [
    {
     "data": {
      "text/plain": [
       "array([0.99997286, 0.99997286, 0.00336102, 0.99997286, 0.99997286,\n",
       "       0.99997286, 0.99997286, 0.99997286, 0.99997286, 0.99997286])"
      ]
     },
     "execution_count": 726,
     "metadata": {},
     "output_type": "execute_result"
    }
   ],
   "source": [
    "diffMatrix[2]"
   ]
  },
  {
   "cell_type": "code",
   "execution_count": 721,
   "id": "962e9018",
   "metadata": {},
   "outputs": [
    {
     "data": {
      "image/png": "[encoded data removed]",
      "text/plain": [
       "<Figure size 480x480 with 1 Axes>"
      ]
     },
     "metadata": {},
     "output_type": "display_data"
    }
   ],
   "source": [
    "plt.matshow(diffMatrix,norm=\"log\")\n",
    "plt.show()"
   ]
  },
  {
   "cell_type": "code",
   "execution_count": 722,
   "id": "d37f5bba",
   "metadata": {},
   "outputs": [
    {
     "data": {
      "image/png": "[encoded data removed]",
      "text/plain": [
       "<Figure size 480x480 with 1 Axes>"
      ]
     },
     "metadata": {},
     "output_type": "display_data"
    }
   ],
   "source": [
    "plt.matshow(-diffMatrix,norm=\"log\")\n",
    "plt.show()"
   ]
  },
  {
   "cell_type": "code",
   "execution_count": 724,
   "id": "70bc69ce",
   "metadata": {},
   "outputs": [
    {
     "data": {
      "image/png": "[encoded data removed]",
      "text/plain": [
       "<Figure size 480x480 with 1 Axes>"
      ]
     },
     "metadata": {},
     "output_type": "display_data"
    }
   ],
   "source": [
    "plt.matshow(np.abs(diffMatrix),norm=\"log\")\n",
    "plt.show()"
   ]
  },
  {
   "cell_type": "code",
   "execution_count": null,
   "id": "86c80859",
   "metadata": {},
   "outputs": [],
   "source": []
  },
  {
   "cell_type": "code",
   "execution_count": null,
   "id": "96d2acb7",
   "metadata": {},
   "outputs": [],
   "source": []
  },
  {
   "cell_type": "code",
   "execution_count": null,
   "id": "d954e214",
   "metadata": {},
   "outputs": [],
   "source": [
    "0.1617282131810319\n",
    "\n",
    "[array([<function tanh at 0x000001E8B7EBF240>, 'pop', 'pop', 'pop', 'pop',\n",
    "        <function exp at 0x000001E8B7EBEB60>, 'pop', 'pop',\n",
    "        <function sub at 0x000001E8B7EBEA20>, 'pop', 'pop',\n",
    "        <function cos at 0x000001E8B7EBEF20>,\n",
    "        <function arcsin at 0x000001E8B7EBF100>,\n",
    "        <function cos at 0x000001E8B7EBEF20>, 'pop',\n",
    "        <function sqrd at 0x000001E8B7EBED40>,\n",
    "        <function sqrt at 0x000001E8B7EBECA0>, 'pop', 'pop'], dtype=object),\n",
    " [<function StackGP.variableSelect.<locals>.<lambda>(variables)>,\n",
    "  3.141592653589793],\n",
    " []]\n"
   ]
  },
  {
   "cell_type": "code",
   "execution_count": null,
   "id": "64e9f410",
   "metadata": {},
   "outputs": [],
   "source": [
    "0.13620740513199014\n",
    "\n",
    "[array(['pop', 'pop', <function arctan at 0x000001E8B7EBF1A0>,\n",
    "        <function sqrd at 0x000001E8B7EBED40>,\n",
    "        <function exp at 0x000001E8B7EBEB60>, 'pop',\n",
    "        <function sub at 0x000001E8B7EBEA20>,\n",
    "        <function arctan at 0x000001E8B7EBF1A0>,\n",
    "        <function tanh at 0x000001E8B7EBF240>, 'pop', 'pop',\n",
    "        <function arctan at 0x000001E8B7EBF1A0>,\n",
    "        <function mult at 0x000001E8B7EBEAC0>,\n",
    "        <function sub at 0x000001E8B7EBEA20>,\n",
    "        <function add at 0x000001E8B58C6840>, 'pop',\n",
    "        <function cos at 0x000001E8B7EBEF20>,\n",
    "        <function inv at 0x000001E8B7EBEDE0>, 'pop',\n",
    "        <function tan at 0x000001E8B7EBEFC0>, 'pop',\n",
    "        <function add at 0x000001E8B58C6840>,\n",
    "        <function add at 0x000001E8B58C6840>, 'pop', 'pop', 'pop',\n",
    "        <function add at 0x000001E8B58C6840>, 'pop', 'pop',\n",
    "        <function cos at 0x000001E8B7EBEF20>,\n",
    "        <function exp at 0x000001E8B7EBEB60>,\n",
    "        <function cos at 0x000001E8B7EBEF20>], dtype=object),\n",
    " [2.718281828459045,\n",
    "  <function StackGP.variableSelect.<locals>.<lambda>(variables)>,\n",
    "  <function StackGP.variableSelect.<locals>.<lambda>(variables)>,\n",
    "  <function StackGP.variableSelect.<locals>.<lambda>(variables)>,\n",
    "  <function StackGP.variableSelect.<locals>.<lambda>(variables)>,\n",
    "  <function StackGP.variableSelect.<locals>.<lambda>(variables)>,\n",
    "  26.675629462762277,\n",
    "  <function StackGP.variableSelect.<locals>.<lambda>(variables)>],\n",
    " []]"
   ]
  },
  {
   "cell_type": "code",
   "execution_count": null,
   "id": "51a4bc56",
   "metadata": {},
   "outputs": [],
   "source": [
    "0.16649350888018635\n",
    "\n",
    "[array(['pop', <function mult at 0x000001E8B7EBEAC0>, 'pop',\n",
    "        <function tanh at 0x000001E8B7EBF240>,\n",
    "        <function arccos at 0x000001E8B7EBF060>, 'pop',\n",
    "        <function tanh at 0x000001E8B7EBF240>,\n",
    "        <function mult at 0x000001E8B7EBEAC0>,\n",
    "        <function tanh at 0x000001E8B7EBF240>, 'pop', 'pop', 'pop', 'pop',\n",
    "        <function tan at 0x000001E8B7EBEFC0>,\n",
    "        <function protectDiv at 0x000001E8B0D99E40>,\n",
    "        <function tan at 0x000001E8B7EBEFC0>,\n",
    "        <function tanh at 0x000001E8B7EBF240>,\n",
    "        <function arcsin at 0x000001E8B7EBF100>, 'pop', 'pop',\n",
    "        <function sub at 0x000001E8B7EBEA20>, 'pop', 'pop', 'pop', 'pop',\n",
    "        'pop', <function add at 0x000001E8B58C6840>,\n",
    "        <function tan at 0x000001E8B7EBEFC0>,\n",
    "        <function sqrd at 0x000001E8B7EBED40>, 'pop',\n",
    "        <function sqrd at 0x000001E8B7EBED40>, 'pop', 'pop', 'pop'],\n",
    "       dtype=object),\n",
    " [-2,\n",
    "  3.141592653589793,\n",
    "  <function StackGP.variableSelect.<locals>.<lambda>(variables)>,\n",
    "  3.141592653589793,\n",
    "  3.141592653589793,\n",
    "  2.718281828459045],\n",
    " []]"
   ]
  }
 ],
 "metadata": {
  "kernelspec": {
   "display_name": "Python 3 (ipykernel)",
   "language": "python",
   "name": "python3"
  },
  "language_info": {
   "codemirror_mode": {
    "name": "ipython",
    "version": 3
   },
   "file_extension": ".py",
   "mimetype": "text/x-python",
   "name": "python",
   "nbconvert_exporter": "python",
   "pygments_lexer": "ipython3",
   "version": "3.11.3"
  }
 },
 "nbformat": 4,
 "nbformat_minor": 5
}
